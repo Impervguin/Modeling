{
 "cells": [
  {
   "cell_type": "markdown",
   "metadata": {},
   "source": [
    "### Метод рунге-кутты 4-го порялка"
   ]
  },
  {
   "cell_type": "code",
   "execution_count": 1,
   "metadata": {},
   "outputs": [],
   "source": [
    "\n",
    "def rungeKutta2Step(f, g, x, y, v, xstep):\n",
    "    k1 = xstep * f(x, y, v)\n",
    "    l1 = xstep * g(x, y, v)\n",
    "\n",
    "    k2 = xstep * f(x + xstep / 2, y + k1 / 2, v + l1 / 2)\n",
    "    l2 = xstep * g(x + xstep / 2, y + k1 / 2, v + l1 / 2)\n",
    "\n",
    "    nexty = y + (k1 + k2) / 2\n",
    "    nextv = v + (l1 + l2) / 2\n",
    "    return nexty, nextv\n",
    "\n",
    "\n",
    "def rungeKutta2(x0, u0, v0, xstep, xTarget, f, g):\n",
    "    x, u, v = x0, u0, v0\n",
    "    result = [(x, u, v)]\n",
    "    while x <= xTarget:\n",
    "        u, v = rungeKutta2Step(f, g, x, u, v, xstep)\n",
    "        result.append((x, u, v))\n",
    "        x += xstep\n",
    "    return result\n",
    "\n",
    "\n",
    "def rungeKutta4Step(f, g, x, u, v, xstep):\n",
    "    k1 = xstep * f(x, u, v)\n",
    "    l1 = xstep * g(x, u, v)\n",
    "\n",
    "    k2 = xstep * (f(x + 0.5 * xstep, u + 0.5 * k1, v + 0.5 * l1))\n",
    "    l2 = xstep * (g(x + 0.5 * xstep, u + 0.5 * k1, v + 0.5 * l1))\n",
    "\n",
    "    k3 = xstep * (f(x + 0.5 * xstep, u + 0.5 * k2, v + 0.5 * l2))\n",
    "    l3 = xstep * (g(x + 0.5 * xstep, u + 0.5 * k2, v + 0.5 * l2))\n",
    "\n",
    "    k4 = xstep * (f(x + xstep, u + k3, v + l3))\n",
    "    l4 = xstep * (g(x + xstep, u + k3, v + l3))\n",
    "\n",
    "    nextu = u + (k1 + 2 * k2 + 2 * k3 + k4) / 6\n",
    "    nextv = v + (l1 + 2 * l2 + 2 * l3 + l4) / 6\n",
    "    return nextu, nextv\n",
    "\n",
    "def rungeKutta4(x0, u0, v0, xstep, xTarget, f, g):\n",
    "    x, u, v = x0, u0, v0\n",
    "    result = [(x, u, v)]\n",
    "    while x <= xTarget:\n",
    "        u, v = rungeKutta4Step(f, g, x, u, v, xstep)\n",
    "        result.append((x, u, v))\n",
    "        x += xstep\n",
    "    return result"
   ]
  },
  {
   "cell_type": "markdown",
   "metadata": {},
   "source": [
    "### Интерполяция плотности плазмы"
   ]
  },
  {
   "cell_type": "code",
   "execution_count": 2,
   "metadata": {},
   "outputs": [],
   "source": [
    "import numpy as np\n",
    "\n",
    "TempTable = ((2000, 8.200E-03),\n",
    "    (3000, 2.768E-02),\n",
    "    (4000, 6.560E-02),\n",
    "    (5000, 1.281E-01),\n",
    "    (6000, 2.214E-01),\n",
    "    (7000, 3.516E-01),\n",
    "    (8000, 5.248E-01),\n",
    "    (9000, 7.472E-01),\n",
    "    (10000, 1.025E+00),\n",
    ")\n",
    "\n",
    "\n",
    "\n",
    "# TempTable = ((2000, 1.6),\n",
    "#     (3000, 5.4),\n",
    "#     (4000, 1.280E+01),\n",
    "#     (5000, 2.500E+01),\n",
    "#     (6000, 4.320E+01),\n",
    "#     (7000, 6.860E+01),\n",
    "#     (8000, 1.024E+02),\n",
    "#     (9000, 1.458E+02),\n",
    "#     (10000, 2.000E+02),\n",
    "# )\n",
    "\n",
    "def getkFunc():\n",
    "    tarr, karr = zip(*TempTable)\n",
    "    tarr = [np.log(x) for x in tarr]\n",
    "    karr = [np.log(x) for x in karr]\n",
    "    def k(t):\n",
    "        return np.exp(np.interp([np.log(t)], tarr, karr)[0])\n",
    "    return k\n"
   ]
  },
  {
   "cell_type": "markdown",
   "metadata": {},
   "source": [
    "### Формула планка и параметры "
   ]
  },
  {
   "cell_type": "code",
   "execution_count": 3,
   "metadata": {},
   "outputs": [],
   "source": [
    "Tw = 2000\n",
    "T0 = 10000\n",
    "R = 0.35\n",
    "p = 4\n",
    "\n",
    "c = 3 * 1e10 # Скорость света\n",
    "\n",
    "def T(r):\n",
    "    return (Tw - T0) * (r / R)**p + T0\n",
    "\n",
    "#u_p(r)\n",
    "def plankFunc(r):\n",
    "    return 3.084 * 1e-4 / (np.exp(4.799*1e4 / T(r)) - 1)\n"
   ]
  },
  {
   "cell_type": "markdown",
   "metadata": {},
   "source": [
    "### Вычисление варьируемого параметра"
   ]
  },
  {
   "cell_type": "code",
   "execution_count": 4,
   "metadata": {},
   "outputs": [
    {
     "name": "stdout",
     "output_type": "stream",
     "text": [
      "lambda = 0.55, u = 1.3689071646221557e-06, v = 746.9266944064335, step = 0.005\n",
      "lambda = 0.325, u = 7.664919990836098e-07, v = 2369.1708157849885, step = 0.005\n",
      "lambda = 0.21250000000000002, u = 4.6528441631433644e-07, v = 3180.292876474266, step = 0.005\n",
      "lambda = 0.15625, u = 3.146806249296999e-07, v = 3585.853906818904, step = 0.005\n",
      "lambda = 0.128125, u = 2.393787292373815e-07, v = 3788.634421991224, step = 0.005\n",
      "lambda = 0.1421875, u = 2.770296770835408e-07, v = 3687.2441644050646, step = 0.005\n",
      "lambda = 0.14921875, u = 2.9585515100662056e-07, v = 3636.5490356119853, step = 0.005\n",
      "lambda = 0.152734375, u = 3.052678879681601e-07, v = 3611.2014712154446, step = 0.005\n",
      "lambda = 0.1544921875, u = 3.0997425644893e-07, v = 3598.5276890171754, step = 0.005\n",
      "lambda = 0.15361328125, u = 3.0762107220854536e-07, v = 3604.8645801163107, step = 0.005\n",
      "lambda = 0.154052734375, u = 3.0879766432873757e-07, v = 3601.696134566742, step = 0.005\n",
      "lambda = 0.1538330078125, u = 3.0820936826864154e-07, v = 3603.2803573415245, step = 0.005\n",
      "lambda = 0.15372314453125002, u = 3.0791522023859345e-07, v = 3604.0724687289176, step = 0.005\n",
      "lambda = 0.153778076171875, u = 3.080622942536171e-07, v = 3603.6764130352217, step = 0.005\n",
      "lambda = 0.1537506103515625, u = 3.0798875724610525e-07, v = 3603.8744408820703, step = 0.005\n",
      "lambda = 0.15376434326171876, u = 3.080255257498611e-07, v = 3603.7754269586444, step = 0.005\n",
      "lambda = 0.15375747680664065, u = 3.080071414979834e-07, v = 3603.824933920357, step = 0.005\n",
      "lambda = 0.1537609100341797, u = 3.0801633362392247e-07, v = 3603.8001804394994, step = 0.005\n",
      "lambda = 0.1537626266479492, u = 3.0802092968689195e-07, v = 3603.7878036990724, step = 0.005\n",
      "lambda = 0.15376176834106445, u = 3.08018631655407e-07, v = 3603.7939920692875, step = 0.005\n",
      "lambda = 0.15376133918762208, u = 3.0801748263966483e-07, v = 3603.797086254395, step = 0.005\n",
      "lambda = 0.15376112461090088, u = 3.080169081317938e-07, v = 3603.7986333469457, step = 0.005\n",
      "lambda = 0.1537612318992615, u = 3.0801719538572903e-07, v = 3603.7978598006716, step = 0.005\n",
      "lambda = 0.15376117825508118, u = 3.080170517587615e-07, v = 3603.7982465738082, step = 0.005\n",
      "lambda = 0.15376115143299102, u = 3.0801697994527726e-07, v = 3603.79843996038, step = 0.005\n",
      "lambda = 0.15376113802194596, u = 3.080169440385355e-07, v = 3603.7985366536645, step = 0.005\n",
      "lambda = 0.1537611447274685, u = 3.080169619919064e-07, v = 3603.7984883070208, step = 0.005\n",
      "lambda = 0.15376114808022975, u = 3.080169709685917e-07, v = 3603.798464133702, step = 0.005\n",
      "lambda = 0.15376114640384914, u = 3.0801696648024934e-07, v = 3603.79847622036, step = 0.005\n",
      "lambda = 0.1537611455656588, u = 3.080169642360779e-07, v = 3603.7984822636918, step = 0.005\n",
      "lambda = 0.153761145984754, u = 3.080169653581636e-07, v = 3603.7984792420257, step = 0.005\n",
      "lambda = 0.1537611457752064, u = 3.080169647971207e-07, v = 3603.798480752858, step = 0.005\n",
      "lambda = 0.1537611456704326, u = 3.080169645165992e-07, v = 3603.7984815082737, step = 0.005\n",
      "lambda = 0.1537611456180457, u = 3.0801696437633846e-07, v = 3603.798481885982, step = 0.005\n",
      "lambda = 0.15376114559185228, u = 3.0801696430620826e-07, v = 3603.7984820748366, step = 0.005\n",
      "lambda = 0.15376114557875553, u = 3.0801696427114305e-07, v = 3603.798482169263, step = 0.005\n",
      "final lambda = 0.15376114559185228, u = 2.57373749569925e-06, v = -2497.5615483506795, step = 0.005\n"
     ]
    }
   ],
   "source": [
    "# u(0) = lambda * u_p(0)\n",
    "# v(0) = 0\n",
    "# v(R) = 0.39 * c * u(R)\n",
    "\n",
    "k = getkFunc()\n",
    "\n",
    "def f(x, u, v):\n",
    "    return (-3) * k(T(x)) * v / c\n",
    "\n",
    "def g(x, u, v):\n",
    "    if (x == 0):\n",
    "        return k(T(x)) * c * (plankFunc(x) - u) / 2\n",
    "    return k(T(x)) * c * (plankFunc(x) - u) - v / x\n",
    "\n",
    "def findSolution(lambdaParam, rungeKuttaEps, initStep):\n",
    "    x0 = 0\n",
    "    u0 = lambdaParam * plankFunc(0)\n",
    "    v0 = 0\n",
    "    xstep = initStep\n",
    "    xTarget = R\n",
    "    prevResult = rungeKutta4(x0, u0, v0, xstep, xTarget, f, g)\n",
    "    prevTargetu = prevResult[-1][1]\n",
    "    prevTargetv = prevResult[-1][2]\n",
    "    while True:\n",
    "        xstep /= 2\n",
    "        result = rungeKutta4(x0, u0, v0, xstep, xTarget, f, g)\n",
    "        targetu = result[-1][1]\n",
    "        targetv = result[-1][2]\n",
    "        if abs(prevTargetu - targetu) / targetu  < rungeKuttaEps:\n",
    "            break\n",
    "        prevResult = result\n",
    "        prevTargetu = targetu\n",
    "        prevTargetv = targetv\n",
    "    return targetu, targetv, xstep\n",
    "\n",
    "def findPoints(lambdaParam, rungeKuttaEps, initStep):\n",
    "    x0 = 0\n",
    "    u0 = lambdaParam * plankFunc(0)\n",
    "    v0 = 0\n",
    "    xstep = initStep\n",
    "    xTarget = R\n",
    "    prevResult = rungeKutta4(x0, u0, v0, xstep, xTarget, f, g)\n",
    "    prevTargetu = prevResult[-1][1]\n",
    "    prevTargetv = prevResult[-1][2]\n",
    "    while True:\n",
    "        xstep /= 2\n",
    "        result = rungeKutta4(x0, u0, v0, xstep, xTarget, f, g)\n",
    "        targetu = result[-1][1]\n",
    "        targetv = result[-1][2]\n",
    "        if abs(prevTargetu - targetu) / targetu  < rungeKuttaEps:\n",
    "            break\n",
    "        prevResult = result\n",
    "        prevTargetu = targetu\n",
    "        prevTargetv = targetv\n",
    "    return result\n",
    "\n",
    "def equationFunc(x, u, v):\n",
    "    return 0.39 * c * u - v\n",
    "\n",
    "def findLambda(eps, rungeKuttaEps, verbose=False):\n",
    "    left = 0.1\n",
    "    leftResult = findSolution(left, rungeKuttaEps, 1e-2)\n",
    "    right = 1\n",
    "    rightResult = findSolution(right, rungeKuttaEps, 1e-2)\n",
    "\n",
    "    \n",
    "\n",
    "    # Метод половинного деления\n",
    "    while abs((right - left) / left) > eps:\n",
    "        mid = (left + right) / 2\n",
    "        midResult = findSolution(mid, rungeKuttaEps, 1e-2)\n",
    "        if equationFunc(mid, midResult[0], midResult[1]) * equationFunc(left, leftResult[0], leftResult[1]) < 0:\n",
    "            right = mid\n",
    "        else:\n",
    "            left = mid\n",
    "        if verbose:\n",
    "            print(f\"lambda = {mid}, u = {midResult[0]}, v = {midResult[1]}, step = {midResult[2]}\")\n",
    "    if verbose:\n",
    "        print(f\"final lambda = {right}, u = {rightResult[0]}, v = {rightResult[1]}, step = {midResult[2]}\")\n",
    "    return right\n",
    "\n",
    "\n",
    "lambdaParam = findLambda(eps = 1e-10, rungeKuttaEps=1e-4, verbose=True)"
   ]
  },
  {
   "cell_type": "markdown",
   "metadata": {},
   "source": [
    "### Решение"
   ]
  },
  {
   "cell_type": "code",
   "execution_count": 5,
   "metadata": {},
   "outputs": [
    {
     "name": "stdout",
     "output_type": "stream",
     "text": [
      "Lambda найдена: 0.15376114559185228+-1.5376114559185227e-05\n"
     ]
    },
    {
     "data": {
      "application/vnd.plotly.v1+json": {
       "config": {
        "plotlyServerURL": "https://plot.ly"
       },
       "data": [
        {
         "hovertemplate": "<extra></extra>",
         "legendgroup": "",
         "line": {
          "color": "#636efa",
          "dash": "solid"
         },
         "marker": {
          "symbol": "circle"
         },
         "mode": "lines",
         "name": "",
         "orientation": "v",
         "showlegend": false,
         "type": "scatter",
         "xaxis": "x",
         "yaxis": "y"
        },
        {
         "name": "u",
         "type": "scatter",
         "x": [
          0,
          0,
          0.005,
          0.01,
          0.015,
          0.02,
          0.025,
          0.030000000000000002,
          0.035,
          0.04,
          0.045,
          0.049999999999999996,
          0.05499999999999999,
          0.05999999999999999,
          0.06499999999999999,
          0.06999999999999999,
          0.075,
          0.08,
          0.085,
          0.09000000000000001,
          0.09500000000000001,
          0.10000000000000002,
          0.10500000000000002,
          0.11000000000000003,
          0.11500000000000003,
          0.12000000000000004,
          0.12500000000000003,
          0.13000000000000003,
          0.13500000000000004,
          0.14000000000000004,
          0.14500000000000005,
          0.15000000000000005,
          0.15500000000000005,
          0.16000000000000006,
          0.16500000000000006,
          0.17000000000000007,
          0.17500000000000007,
          0.18000000000000008,
          0.18500000000000008,
          0.19000000000000009,
          0.1950000000000001,
          0.2000000000000001,
          0.2050000000000001,
          0.2100000000000001,
          0.2150000000000001,
          0.2200000000000001,
          0.22500000000000012,
          0.23000000000000012,
          0.23500000000000013,
          0.24000000000000013,
          0.24500000000000013,
          0.2500000000000001,
          0.2550000000000001,
          0.2600000000000001,
          0.2650000000000001,
          0.27000000000000013,
          0.27500000000000013,
          0.28000000000000014,
          0.28500000000000014,
          0.29000000000000015,
          0.29500000000000015,
          0.30000000000000016,
          0.30500000000000016,
          0.31000000000000016,
          0.31500000000000017,
          0.3200000000000002,
          0.3250000000000002,
          0.3300000000000002,
          0.3350000000000002,
          0.3400000000000002,
          0.3450000000000002
         ],
         "y": [
          3.938893916347458e-7,
          3.9384668724961383e-7,
          3.9371857193942107e-7,
          3.935050395880101e-7,
          3.93206083455834e-7,
          3.9282170117210505e-7,
          3.9235190179336875e-7,
          3.917967148794642e-7,
          3.911562015788323e-7,
          3.904304677096683e-7,
          3.896196788134083e-7,
          3.8872407714305706e-7,
          3.877440005304736e-7,
          3.866799030534585e-7,
          3.855323773948963e-7,
          3.843021787519606e-7,
          3.829902501132573e-7,
          3.815977486756938e-7,
          3.8012607312094016e-7,
          3.785768914139519e-7,
          3.7695216872380514e-7,
          3.752541950010337e-7,
          3.7348561167712555e-7,
          3.7164943688263574e-7,
          3.6974908851276427e-7,
          3.6778840440600134e-7,
          3.6577165884581037e-7,
          3.6370357455105613e-7,
          3.615893292921715e-7,
          3.594345562614374e-7,
          3.572453373419894e-7,
          3.5502818846608344e-7,
          3.527900363333722e-7,
          3.505381858786182e-7,
          3.4828027803870527e-7,
          3.460242375730842e-7,
          3.43778210940283e-7,
          3.415504945240478e-7,
          3.393494538316488e-7,
          3.3718343464639294e-7,
          3.350606674955366e-7,
          3.329891671790337e-7,
          3.3097662866201264e-7,
          3.290303151585332e-7,
          3.2715697306832475e-7,
          3.2536273140316815e-7,
          3.2365301169921557e-7,
          3.2203245152229743e-7,
          3.205048419418941e-7,
          3.1907308133148266e-7,
          3.1773914673807165e-7,
          3.1650408081724665e-7,
          3.153680125260589e-7,
          3.1433018187558e-7,
          3.1338898583543066e-7,
          3.1254204025594996e-7,
          3.1178626567191166e-7,
          3.1111794137887036e-7,
          3.10532790579241e-7,
          3.100260712341981e-7,
          3.0959266108396434e-7,
          3.0922711885354975e-7,
          3.089237494532557e-7,
          3.086766605423298e-7,
          3.084798227518241e-7,
          3.0832715487072203e-7,
          3.082125641185457e-7,
          3.081300139970551e-7,
          3.0807360671764796e-7,
          3.080376890010382e-7,
          3.0801696430620826e-7
         ]
        },
        {
         "name": "u_p",
         "type": "scatter",
         "x": [
          0,
          0,
          0.005,
          0.01,
          0.015,
          0.02,
          0.025,
          0.030000000000000002,
          0.035,
          0.04,
          0.045,
          0.049999999999999996,
          0.05499999999999999,
          0.05999999999999999,
          0.06499999999999999,
          0.06999999999999999,
          0.075,
          0.08,
          0.085,
          0.09000000000000001,
          0.09500000000000001,
          0.10000000000000002,
          0.10500000000000002,
          0.11000000000000003,
          0.11500000000000003,
          0.12000000000000004,
          0.12500000000000003,
          0.13000000000000003,
          0.13500000000000004,
          0.14000000000000004,
          0.14500000000000005,
          0.15000000000000005,
          0.15500000000000005,
          0.16000000000000006,
          0.16500000000000006,
          0.17000000000000007,
          0.17500000000000007,
          0.18000000000000008,
          0.18500000000000008,
          0.19000000000000009,
          0.1950000000000001,
          0.2000000000000001,
          0.2050000000000001,
          0.2100000000000001,
          0.2150000000000001,
          0.2200000000000001,
          0.22500000000000012,
          0.23000000000000012,
          0.23500000000000013,
          0.24000000000000013,
          0.24500000000000013,
          0.2500000000000001,
          0.2550000000000001,
          0.2600000000000001,
          0.2650000000000001,
          0.27000000000000013,
          0.27500000000000013,
          0.28000000000000014,
          0.28500000000000014,
          0.29000000000000015,
          0.29500000000000015,
          0.30000000000000016,
          0.30500000000000016,
          0.31000000000000016,
          0.31500000000000017,
          0.3200000000000002,
          0.3250000000000002,
          0.3300000000000002,
          0.3350000000000002,
          0.3400000000000002,
          0.3450000000000002
         ],
         "y": [
          0.000002561696520395968,
          0.000002561696520395968,
          0.000002561696107378172,
          0.0000025616899121160272,
          0.0000025616630660830592,
          0.000002561590789133921,
          0.000002561438392000152,
          0.0000025611612825794918,
          0.000002560704978813756,
          0.000002560005131748582,
          0.000002558987563165911,
          0.0000025575683229767174,
          0.00000255565377235653,
          0.0000025531406993986727,
          0.000002549916474848988,
          0.000002545859256269314,
          0.0000025408382497532724,
          0.0000025347140390844774,
          0.000002527338992980415,
          0.0000025185577618012956,
          0.0000025082078758158137,
          0.0000024961204577984197,
          0.00000248212106337568,
          0.0000024660306631305415,
          0.0000024476667809972336,
          0.0000024268448039152998,
          0.00000240337947803295,
          0.000002377086606922795,
          0.0000023477849672534,
          0.0000023152984570911517,
          0.0000022794584914163856,
          0.0000022401066584328514,
          0.0000021970976487135385,
          0.0000021503024670093505,
          0.000002099611933463793,
          0.000002044940476791243,
          0.000001986230216396255,
          0.000001923455323072843,
          0.0000018566266383784721,
          0.0000017857965204793059,
          0.0000017110638685481686,
          0.0000016325792578705983,
          0.000001550550092742339,
          0.000001465245652945358,
          0.000001377001870863318,
          0.0000012862256288521902,
          0.0000011933983090415031,
          0.0000010990782592182383,
          0.000001003901758242161,
          9.085819729497544e-7,
          8.139052978893083e-7,
          7.207243646376706e-7,
          6.29946908795812e-7,
          5.425196073036779e-7,
          4.5940597458123445e-7,
          3.815574767245011e-7,
          3.0987725273831595e-7,
          2.451763101681679e-7,
          1.8812290592088853e-7,
          1.3918716659305846e-7,
          9.858497033707964e-8,
          6.622774615709058e-8,
          4.168796465845899e-8,
          2.4193049091054556e-8,
          1.2661777548345254e-8,
          5.794433226190929e-9,
          2.2175763204907243e-9,
          6.638611193319582e-10,
          1.3997271923770473e-10,
          1.7455027632250637e-11,
          9.405068809312933e-13
         ]
        }
       ],
       "layout": {
        "legend": {
         "tracegroupgap": 0
        },
        "margin": {
         "t": 60
        },
        "template": {
         "data": {
          "bar": [
           {
            "error_x": {
             "color": "#2a3f5f"
            },
            "error_y": {
             "color": "#2a3f5f"
            },
            "marker": {
             "line": {
              "color": "#E5ECF6",
              "width": 0.5
             },
             "pattern": {
              "fillmode": "overlay",
              "size": 10,
              "solidity": 0.2
             }
            },
            "type": "bar"
           }
          ],
          "barpolar": [
           {
            "marker": {
             "line": {
              "color": "#E5ECF6",
              "width": 0.5
             },
             "pattern": {
              "fillmode": "overlay",
              "size": 10,
              "solidity": 0.2
             }
            },
            "type": "barpolar"
           }
          ],
          "carpet": [
           {
            "aaxis": {
             "endlinecolor": "#2a3f5f",
             "gridcolor": "white",
             "linecolor": "white",
             "minorgridcolor": "white",
             "startlinecolor": "#2a3f5f"
            },
            "baxis": {
             "endlinecolor": "#2a3f5f",
             "gridcolor": "white",
             "linecolor": "white",
             "minorgridcolor": "white",
             "startlinecolor": "#2a3f5f"
            },
            "type": "carpet"
           }
          ],
          "choropleth": [
           {
            "colorbar": {
             "outlinewidth": 0,
             "ticks": ""
            },
            "type": "choropleth"
           }
          ],
          "contour": [
           {
            "colorbar": {
             "outlinewidth": 0,
             "ticks": ""
            },
            "colorscale": [
             [
              0,
              "#0d0887"
             ],
             [
              0.1111111111111111,
              "#46039f"
             ],
             [
              0.2222222222222222,
              "#7201a8"
             ],
             [
              0.3333333333333333,
              "#9c179e"
             ],
             [
              0.4444444444444444,
              "#bd3786"
             ],
             [
              0.5555555555555556,
              "#d8576b"
             ],
             [
              0.6666666666666666,
              "#ed7953"
             ],
             [
              0.7777777777777778,
              "#fb9f3a"
             ],
             [
              0.8888888888888888,
              "#fdca26"
             ],
             [
              1,
              "#f0f921"
             ]
            ],
            "type": "contour"
           }
          ],
          "contourcarpet": [
           {
            "colorbar": {
             "outlinewidth": 0,
             "ticks": ""
            },
            "type": "contourcarpet"
           }
          ],
          "heatmap": [
           {
            "colorbar": {
             "outlinewidth": 0,
             "ticks": ""
            },
            "colorscale": [
             [
              0,
              "#0d0887"
             ],
             [
              0.1111111111111111,
              "#46039f"
             ],
             [
              0.2222222222222222,
              "#7201a8"
             ],
             [
              0.3333333333333333,
              "#9c179e"
             ],
             [
              0.4444444444444444,
              "#bd3786"
             ],
             [
              0.5555555555555556,
              "#d8576b"
             ],
             [
              0.6666666666666666,
              "#ed7953"
             ],
             [
              0.7777777777777778,
              "#fb9f3a"
             ],
             [
              0.8888888888888888,
              "#fdca26"
             ],
             [
              1,
              "#f0f921"
             ]
            ],
            "type": "heatmap"
           }
          ],
          "histogram": [
           {
            "marker": {
             "pattern": {
              "fillmode": "overlay",
              "size": 10,
              "solidity": 0.2
             }
            },
            "type": "histogram"
           }
          ],
          "histogram2d": [
           {
            "colorbar": {
             "outlinewidth": 0,
             "ticks": ""
            },
            "colorscale": [
             [
              0,
              "#0d0887"
             ],
             [
              0.1111111111111111,
              "#46039f"
             ],
             [
              0.2222222222222222,
              "#7201a8"
             ],
             [
              0.3333333333333333,
              "#9c179e"
             ],
             [
              0.4444444444444444,
              "#bd3786"
             ],
             [
              0.5555555555555556,
              "#d8576b"
             ],
             [
              0.6666666666666666,
              "#ed7953"
             ],
             [
              0.7777777777777778,
              "#fb9f3a"
             ],
             [
              0.8888888888888888,
              "#fdca26"
             ],
             [
              1,
              "#f0f921"
             ]
            ],
            "type": "histogram2d"
           }
          ],
          "histogram2dcontour": [
           {
            "colorbar": {
             "outlinewidth": 0,
             "ticks": ""
            },
            "colorscale": [
             [
              0,
              "#0d0887"
             ],
             [
              0.1111111111111111,
              "#46039f"
             ],
             [
              0.2222222222222222,
              "#7201a8"
             ],
             [
              0.3333333333333333,
              "#9c179e"
             ],
             [
              0.4444444444444444,
              "#bd3786"
             ],
             [
              0.5555555555555556,
              "#d8576b"
             ],
             [
              0.6666666666666666,
              "#ed7953"
             ],
             [
              0.7777777777777778,
              "#fb9f3a"
             ],
             [
              0.8888888888888888,
              "#fdca26"
             ],
             [
              1,
              "#f0f921"
             ]
            ],
            "type": "histogram2dcontour"
           }
          ],
          "mesh3d": [
           {
            "colorbar": {
             "outlinewidth": 0,
             "ticks": ""
            },
            "type": "mesh3d"
           }
          ],
          "parcoords": [
           {
            "line": {
             "colorbar": {
              "outlinewidth": 0,
              "ticks": ""
             }
            },
            "type": "parcoords"
           }
          ],
          "pie": [
           {
            "automargin": true,
            "type": "pie"
           }
          ],
          "scatter": [
           {
            "fillpattern": {
             "fillmode": "overlay",
             "size": 10,
             "solidity": 0.2
            },
            "type": "scatter"
           }
          ],
          "scatter3d": [
           {
            "line": {
             "colorbar": {
              "outlinewidth": 0,
              "ticks": ""
             }
            },
            "marker": {
             "colorbar": {
              "outlinewidth": 0,
              "ticks": ""
             }
            },
            "type": "scatter3d"
           }
          ],
          "scattercarpet": [
           {
            "marker": {
             "colorbar": {
              "outlinewidth": 0,
              "ticks": ""
             }
            },
            "type": "scattercarpet"
           }
          ],
          "scattergeo": [
           {
            "marker": {
             "colorbar": {
              "outlinewidth": 0,
              "ticks": ""
             }
            },
            "type": "scattergeo"
           }
          ],
          "scattergl": [
           {
            "marker": {
             "colorbar": {
              "outlinewidth": 0,
              "ticks": ""
             }
            },
            "type": "scattergl"
           }
          ],
          "scattermap": [
           {
            "marker": {
             "colorbar": {
              "outlinewidth": 0,
              "ticks": ""
             }
            },
            "type": "scattermap"
           }
          ],
          "scattermapbox": [
           {
            "marker": {
             "colorbar": {
              "outlinewidth": 0,
              "ticks": ""
             }
            },
            "type": "scattermapbox"
           }
          ],
          "scatterpolar": [
           {
            "marker": {
             "colorbar": {
              "outlinewidth": 0,
              "ticks": ""
             }
            },
            "type": "scatterpolar"
           }
          ],
          "scatterpolargl": [
           {
            "marker": {
             "colorbar": {
              "outlinewidth": 0,
              "ticks": ""
             }
            },
            "type": "scatterpolargl"
           }
          ],
          "scatterternary": [
           {
            "marker": {
             "colorbar": {
              "outlinewidth": 0,
              "ticks": ""
             }
            },
            "type": "scatterternary"
           }
          ],
          "surface": [
           {
            "colorbar": {
             "outlinewidth": 0,
             "ticks": ""
            },
            "colorscale": [
             [
              0,
              "#0d0887"
             ],
             [
              0.1111111111111111,
              "#46039f"
             ],
             [
              0.2222222222222222,
              "#7201a8"
             ],
             [
              0.3333333333333333,
              "#9c179e"
             ],
             [
              0.4444444444444444,
              "#bd3786"
             ],
             [
              0.5555555555555556,
              "#d8576b"
             ],
             [
              0.6666666666666666,
              "#ed7953"
             ],
             [
              0.7777777777777778,
              "#fb9f3a"
             ],
             [
              0.8888888888888888,
              "#fdca26"
             ],
             [
              1,
              "#f0f921"
             ]
            ],
            "type": "surface"
           }
          ],
          "table": [
           {
            "cells": {
             "fill": {
              "color": "#EBF0F8"
             },
             "line": {
              "color": "white"
             }
            },
            "header": {
             "fill": {
              "color": "#C8D4E3"
             },
             "line": {
              "color": "white"
             }
            },
            "type": "table"
           }
          ]
         },
         "layout": {
          "annotationdefaults": {
           "arrowcolor": "#2a3f5f",
           "arrowhead": 0,
           "arrowwidth": 1
          },
          "autotypenumbers": "strict",
          "coloraxis": {
           "colorbar": {
            "outlinewidth": 0,
            "ticks": ""
           }
          },
          "colorscale": {
           "diverging": [
            [
             0,
             "#8e0152"
            ],
            [
             0.1,
             "#c51b7d"
            ],
            [
             0.2,
             "#de77ae"
            ],
            [
             0.3,
             "#f1b6da"
            ],
            [
             0.4,
             "#fde0ef"
            ],
            [
             0.5,
             "#f7f7f7"
            ],
            [
             0.6,
             "#e6f5d0"
            ],
            [
             0.7,
             "#b8e186"
            ],
            [
             0.8,
             "#7fbc41"
            ],
            [
             0.9,
             "#4d9221"
            ],
            [
             1,
             "#276419"
            ]
           ],
           "sequential": [
            [
             0,
             "#0d0887"
            ],
            [
             0.1111111111111111,
             "#46039f"
            ],
            [
             0.2222222222222222,
             "#7201a8"
            ],
            [
             0.3333333333333333,
             "#9c179e"
            ],
            [
             0.4444444444444444,
             "#bd3786"
            ],
            [
             0.5555555555555556,
             "#d8576b"
            ],
            [
             0.6666666666666666,
             "#ed7953"
            ],
            [
             0.7777777777777778,
             "#fb9f3a"
            ],
            [
             0.8888888888888888,
             "#fdca26"
            ],
            [
             1,
             "#f0f921"
            ]
           ],
           "sequentialminus": [
            [
             0,
             "#0d0887"
            ],
            [
             0.1111111111111111,
             "#46039f"
            ],
            [
             0.2222222222222222,
             "#7201a8"
            ],
            [
             0.3333333333333333,
             "#9c179e"
            ],
            [
             0.4444444444444444,
             "#bd3786"
            ],
            [
             0.5555555555555556,
             "#d8576b"
            ],
            [
             0.6666666666666666,
             "#ed7953"
            ],
            [
             0.7777777777777778,
             "#fb9f3a"
            ],
            [
             0.8888888888888888,
             "#fdca26"
            ],
            [
             1,
             "#f0f921"
            ]
           ]
          },
          "colorway": [
           "#636efa",
           "#EF553B",
           "#00cc96",
           "#ab63fa",
           "#FFA15A",
           "#19d3f3",
           "#FF6692",
           "#B6E880",
           "#FF97FF",
           "#FECB52"
          ],
          "font": {
           "color": "#2a3f5f"
          },
          "geo": {
           "bgcolor": "white",
           "lakecolor": "white",
           "landcolor": "#E5ECF6",
           "showlakes": true,
           "showland": true,
           "subunitcolor": "white"
          },
          "hoverlabel": {
           "align": "left"
          },
          "hovermode": "closest",
          "mapbox": {
           "style": "light"
          },
          "paper_bgcolor": "white",
          "plot_bgcolor": "#E5ECF6",
          "polar": {
           "angularaxis": {
            "gridcolor": "white",
            "linecolor": "white",
            "ticks": ""
           },
           "bgcolor": "#E5ECF6",
           "radialaxis": {
            "gridcolor": "white",
            "linecolor": "white",
            "ticks": ""
           }
          },
          "scene": {
           "xaxis": {
            "backgroundcolor": "#E5ECF6",
            "gridcolor": "white",
            "gridwidth": 2,
            "linecolor": "white",
            "showbackground": true,
            "ticks": "",
            "zerolinecolor": "white"
           },
           "yaxis": {
            "backgroundcolor": "#E5ECF6",
            "gridcolor": "white",
            "gridwidth": 2,
            "linecolor": "white",
            "showbackground": true,
            "ticks": "",
            "zerolinecolor": "white"
           },
           "zaxis": {
            "backgroundcolor": "#E5ECF6",
            "gridcolor": "white",
            "gridwidth": 2,
            "linecolor": "white",
            "showbackground": true,
            "ticks": "",
            "zerolinecolor": "white"
           }
          },
          "shapedefaults": {
           "line": {
            "color": "#2a3f5f"
           }
          },
          "ternary": {
           "aaxis": {
            "gridcolor": "white",
            "linecolor": "white",
            "ticks": ""
           },
           "baxis": {
            "gridcolor": "white",
            "linecolor": "white",
            "ticks": ""
           },
           "bgcolor": "#E5ECF6",
           "caxis": {
            "gridcolor": "white",
            "linecolor": "white",
            "ticks": ""
           }
          },
          "title": {
           "x": 0.05
          },
          "xaxis": {
           "automargin": true,
           "gridcolor": "white",
           "linecolor": "white",
           "ticks": "",
           "title": {
            "standoff": 15
           },
           "zerolinecolor": "white",
           "zerolinewidth": 2
          },
          "yaxis": {
           "automargin": true,
           "gridcolor": "white",
           "linecolor": "white",
           "ticks": "",
           "title": {
            "standoff": 15
           },
           "zerolinecolor": "white",
           "zerolinewidth": 2
          }
         }
        },
        "xaxis": {
         "anchor": "y",
         "domain": [
          0,
          1
         ]
        },
        "yaxis": {
         "anchor": "x",
         "domain": [
          0,
          1
         ]
        }
       }
      }
     },
     "metadata": {},
     "output_type": "display_data"
    },
    {
     "data": {
      "application/vnd.plotly.v1+json": {
       "config": {
        "plotlyServerURL": "https://plot.ly"
       },
       "data": [
        {
         "hovertemplate": "<extra></extra>",
         "legendgroup": "",
         "line": {
          "color": "#636efa",
          "dash": "solid"
         },
         "marker": {
          "symbol": "circle"
         },
         "mode": "lines",
         "name": "",
         "orientation": "v",
         "showlegend": false,
         "type": "scatter",
         "xaxis": "x",
         "yaxis": "y"
        },
        {
         "name": "F",
         "type": "scatter",
         "x": [
          0,
          0,
          0.005,
          0.01,
          0.015,
          0.02,
          0.025,
          0.030000000000000002,
          0.035,
          0.04,
          0.045,
          0.049999999999999996,
          0.05499999999999999,
          0.05999999999999999,
          0.06499999999999999,
          0.06999999999999999,
          0.075,
          0.08,
          0.085,
          0.09000000000000001,
          0.09500000000000001,
          0.10000000000000002,
          0.10500000000000002,
          0.11000000000000003,
          0.11500000000000003,
          0.12000000000000004,
          0.12500000000000003,
          0.13000000000000003,
          0.13500000000000004,
          0.14000000000000004,
          0.14500000000000005,
          0.15000000000000005,
          0.15500000000000005,
          0.16000000000000006,
          0.16500000000000006,
          0.17000000000000007,
          0.17500000000000007,
          0.18000000000000008,
          0.18500000000000008,
          0.19000000000000009,
          0.1950000000000001,
          0.2000000000000001,
          0.2050000000000001,
          0.2100000000000001,
          0.2150000000000001,
          0.2200000000000001,
          0.22500000000000012,
          0.23000000000000012,
          0.23500000000000013,
          0.24000000000000013,
          0.24500000000000013,
          0.2500000000000001,
          0.2550000000000001,
          0.2600000000000001,
          0.2650000000000001,
          0.27000000000000013,
          0.27500000000000013,
          0.28000000000000014,
          0.28500000000000014,
          0.29000000000000015,
          0.29500000000000015,
          0.30000000000000016,
          0.30500000000000016,
          0.31000000000000016,
          0.31500000000000017,
          0.3200000000000002,
          0.3250000000000002,
          0.3300000000000002,
          0.3350000000000002,
          0.3400000000000002,
          0.3450000000000002
         ],
         "y": [
          0,
          166.65179630849502,
          333.3129573072947,
          499.9909116651362,
          666.689215571523,
          833.405615533561,
          1000.1301111392952,
          1166.843019527785,
          1333.5130448515542,
          1500.0953579202946,
          1666.52969349324,
          1832.7384753338747,
          1998.624982142171,
          2164.07157081762,
          2328.9379771536305,
          2493.0597179826214,
          2656.2466229309534,
          2818.2815282380366,
          2978.919169461334,
          3137.8853142253624,
          3294.8761803524076,
          3449.5581885851398,
          3601.5681024996547,
          3750.513610906738,
          3895.974409815525,
          4037.503841625071,
          4174.6311483260615,
          4306.864392823302,
          4433.6940976963415,
          4554.597643454774,
          4669.044458267656,
          4776.502017914472,
          4876.442658006142,
          4968.351180094205,
          5051.733208932806,
          5126.124229793488,
          5191.099202408747,
          5246.282612070136,
          5291.35877909321,
          5326.082206029883,
          5350.287698743697,
          5363.899954250523,
          5366.942318602739,
          5359.544702925443,
          5341.948261911443,
          5314.509422501523,
          5277.701143283239,
          5232.111047721281,
          5178.436215642928,
          5117.474330351517,
          5050.111001031443,
          4977.303269051082,
          4900.059038399941,
          4819.413572614454,
          4736.4031553516,
          4652.03700048477,
          4567.268750204537,
          4482.9690960615,
          4399.901110333177,
          4318.700547578999,
          4239.862961438169,
          4163.738760308637,
          4090.537415161849,
          4020.3405369598004,
          3953.122676595457,
          3888.7775704667547,
          3827.144476559825,
          3768.0322016976947,
          3711.2376291092996,
          3656.558082682091,
          3603.7984820748366
         ]
        }
       ],
       "layout": {
        "legend": {
         "tracegroupgap": 0
        },
        "margin": {
         "t": 60
        },
        "template": {
         "data": {
          "bar": [
           {
            "error_x": {
             "color": "#2a3f5f"
            },
            "error_y": {
             "color": "#2a3f5f"
            },
            "marker": {
             "line": {
              "color": "#E5ECF6",
              "width": 0.5
             },
             "pattern": {
              "fillmode": "overlay",
              "size": 10,
              "solidity": 0.2
             }
            },
            "type": "bar"
           }
          ],
          "barpolar": [
           {
            "marker": {
             "line": {
              "color": "#E5ECF6",
              "width": 0.5
             },
             "pattern": {
              "fillmode": "overlay",
              "size": 10,
              "solidity": 0.2
             }
            },
            "type": "barpolar"
           }
          ],
          "carpet": [
           {
            "aaxis": {
             "endlinecolor": "#2a3f5f",
             "gridcolor": "white",
             "linecolor": "white",
             "minorgridcolor": "white",
             "startlinecolor": "#2a3f5f"
            },
            "baxis": {
             "endlinecolor": "#2a3f5f",
             "gridcolor": "white",
             "linecolor": "white",
             "minorgridcolor": "white",
             "startlinecolor": "#2a3f5f"
            },
            "type": "carpet"
           }
          ],
          "choropleth": [
           {
            "colorbar": {
             "outlinewidth": 0,
             "ticks": ""
            },
            "type": "choropleth"
           }
          ],
          "contour": [
           {
            "colorbar": {
             "outlinewidth": 0,
             "ticks": ""
            },
            "colorscale": [
             [
              0,
              "#0d0887"
             ],
             [
              0.1111111111111111,
              "#46039f"
             ],
             [
              0.2222222222222222,
              "#7201a8"
             ],
             [
              0.3333333333333333,
              "#9c179e"
             ],
             [
              0.4444444444444444,
              "#bd3786"
             ],
             [
              0.5555555555555556,
              "#d8576b"
             ],
             [
              0.6666666666666666,
              "#ed7953"
             ],
             [
              0.7777777777777778,
              "#fb9f3a"
             ],
             [
              0.8888888888888888,
              "#fdca26"
             ],
             [
              1,
              "#f0f921"
             ]
            ],
            "type": "contour"
           }
          ],
          "contourcarpet": [
           {
            "colorbar": {
             "outlinewidth": 0,
             "ticks": ""
            },
            "type": "contourcarpet"
           }
          ],
          "heatmap": [
           {
            "colorbar": {
             "outlinewidth": 0,
             "ticks": ""
            },
            "colorscale": [
             [
              0,
              "#0d0887"
             ],
             [
              0.1111111111111111,
              "#46039f"
             ],
             [
              0.2222222222222222,
              "#7201a8"
             ],
             [
              0.3333333333333333,
              "#9c179e"
             ],
             [
              0.4444444444444444,
              "#bd3786"
             ],
             [
              0.5555555555555556,
              "#d8576b"
             ],
             [
              0.6666666666666666,
              "#ed7953"
             ],
             [
              0.7777777777777778,
              "#fb9f3a"
             ],
             [
              0.8888888888888888,
              "#fdca26"
             ],
             [
              1,
              "#f0f921"
             ]
            ],
            "type": "heatmap"
           }
          ],
          "histogram": [
           {
            "marker": {
             "pattern": {
              "fillmode": "overlay",
              "size": 10,
              "solidity": 0.2
             }
            },
            "type": "histogram"
           }
          ],
          "histogram2d": [
           {
            "colorbar": {
             "outlinewidth": 0,
             "ticks": ""
            },
            "colorscale": [
             [
              0,
              "#0d0887"
             ],
             [
              0.1111111111111111,
              "#46039f"
             ],
             [
              0.2222222222222222,
              "#7201a8"
             ],
             [
              0.3333333333333333,
              "#9c179e"
             ],
             [
              0.4444444444444444,
              "#bd3786"
             ],
             [
              0.5555555555555556,
              "#d8576b"
             ],
             [
              0.6666666666666666,
              "#ed7953"
             ],
             [
              0.7777777777777778,
              "#fb9f3a"
             ],
             [
              0.8888888888888888,
              "#fdca26"
             ],
             [
              1,
              "#f0f921"
             ]
            ],
            "type": "histogram2d"
           }
          ],
          "histogram2dcontour": [
           {
            "colorbar": {
             "outlinewidth": 0,
             "ticks": ""
            },
            "colorscale": [
             [
              0,
              "#0d0887"
             ],
             [
              0.1111111111111111,
              "#46039f"
             ],
             [
              0.2222222222222222,
              "#7201a8"
             ],
             [
              0.3333333333333333,
              "#9c179e"
             ],
             [
              0.4444444444444444,
              "#bd3786"
             ],
             [
              0.5555555555555556,
              "#d8576b"
             ],
             [
              0.6666666666666666,
              "#ed7953"
             ],
             [
              0.7777777777777778,
              "#fb9f3a"
             ],
             [
              0.8888888888888888,
              "#fdca26"
             ],
             [
              1,
              "#f0f921"
             ]
            ],
            "type": "histogram2dcontour"
           }
          ],
          "mesh3d": [
           {
            "colorbar": {
             "outlinewidth": 0,
             "ticks": ""
            },
            "type": "mesh3d"
           }
          ],
          "parcoords": [
           {
            "line": {
             "colorbar": {
              "outlinewidth": 0,
              "ticks": ""
             }
            },
            "type": "parcoords"
           }
          ],
          "pie": [
           {
            "automargin": true,
            "type": "pie"
           }
          ],
          "scatter": [
           {
            "fillpattern": {
             "fillmode": "overlay",
             "size": 10,
             "solidity": 0.2
            },
            "type": "scatter"
           }
          ],
          "scatter3d": [
           {
            "line": {
             "colorbar": {
              "outlinewidth": 0,
              "ticks": ""
             }
            },
            "marker": {
             "colorbar": {
              "outlinewidth": 0,
              "ticks": ""
             }
            },
            "type": "scatter3d"
           }
          ],
          "scattercarpet": [
           {
            "marker": {
             "colorbar": {
              "outlinewidth": 0,
              "ticks": ""
             }
            },
            "type": "scattercarpet"
           }
          ],
          "scattergeo": [
           {
            "marker": {
             "colorbar": {
              "outlinewidth": 0,
              "ticks": ""
             }
            },
            "type": "scattergeo"
           }
          ],
          "scattergl": [
           {
            "marker": {
             "colorbar": {
              "outlinewidth": 0,
              "ticks": ""
             }
            },
            "type": "scattergl"
           }
          ],
          "scattermap": [
           {
            "marker": {
             "colorbar": {
              "outlinewidth": 0,
              "ticks": ""
             }
            },
            "type": "scattermap"
           }
          ],
          "scattermapbox": [
           {
            "marker": {
             "colorbar": {
              "outlinewidth": 0,
              "ticks": ""
             }
            },
            "type": "scattermapbox"
           }
          ],
          "scatterpolar": [
           {
            "marker": {
             "colorbar": {
              "outlinewidth": 0,
              "ticks": ""
             }
            },
            "type": "scatterpolar"
           }
          ],
          "scatterpolargl": [
           {
            "marker": {
             "colorbar": {
              "outlinewidth": 0,
              "ticks": ""
             }
            },
            "type": "scatterpolargl"
           }
          ],
          "scatterternary": [
           {
            "marker": {
             "colorbar": {
              "outlinewidth": 0,
              "ticks": ""
             }
            },
            "type": "scatterternary"
           }
          ],
          "surface": [
           {
            "colorbar": {
             "outlinewidth": 0,
             "ticks": ""
            },
            "colorscale": [
             [
              0,
              "#0d0887"
             ],
             [
              0.1111111111111111,
              "#46039f"
             ],
             [
              0.2222222222222222,
              "#7201a8"
             ],
             [
              0.3333333333333333,
              "#9c179e"
             ],
             [
              0.4444444444444444,
              "#bd3786"
             ],
             [
              0.5555555555555556,
              "#d8576b"
             ],
             [
              0.6666666666666666,
              "#ed7953"
             ],
             [
              0.7777777777777778,
              "#fb9f3a"
             ],
             [
              0.8888888888888888,
              "#fdca26"
             ],
             [
              1,
              "#f0f921"
             ]
            ],
            "type": "surface"
           }
          ],
          "table": [
           {
            "cells": {
             "fill": {
              "color": "#EBF0F8"
             },
             "line": {
              "color": "white"
             }
            },
            "header": {
             "fill": {
              "color": "#C8D4E3"
             },
             "line": {
              "color": "white"
             }
            },
            "type": "table"
           }
          ]
         },
         "layout": {
          "annotationdefaults": {
           "arrowcolor": "#2a3f5f",
           "arrowhead": 0,
           "arrowwidth": 1
          },
          "autotypenumbers": "strict",
          "coloraxis": {
           "colorbar": {
            "outlinewidth": 0,
            "ticks": ""
           }
          },
          "colorscale": {
           "diverging": [
            [
             0,
             "#8e0152"
            ],
            [
             0.1,
             "#c51b7d"
            ],
            [
             0.2,
             "#de77ae"
            ],
            [
             0.3,
             "#f1b6da"
            ],
            [
             0.4,
             "#fde0ef"
            ],
            [
             0.5,
             "#f7f7f7"
            ],
            [
             0.6,
             "#e6f5d0"
            ],
            [
             0.7,
             "#b8e186"
            ],
            [
             0.8,
             "#7fbc41"
            ],
            [
             0.9,
             "#4d9221"
            ],
            [
             1,
             "#276419"
            ]
           ],
           "sequential": [
            [
             0,
             "#0d0887"
            ],
            [
             0.1111111111111111,
             "#46039f"
            ],
            [
             0.2222222222222222,
             "#7201a8"
            ],
            [
             0.3333333333333333,
             "#9c179e"
            ],
            [
             0.4444444444444444,
             "#bd3786"
            ],
            [
             0.5555555555555556,
             "#d8576b"
            ],
            [
             0.6666666666666666,
             "#ed7953"
            ],
            [
             0.7777777777777778,
             "#fb9f3a"
            ],
            [
             0.8888888888888888,
             "#fdca26"
            ],
            [
             1,
             "#f0f921"
            ]
           ],
           "sequentialminus": [
            [
             0,
             "#0d0887"
            ],
            [
             0.1111111111111111,
             "#46039f"
            ],
            [
             0.2222222222222222,
             "#7201a8"
            ],
            [
             0.3333333333333333,
             "#9c179e"
            ],
            [
             0.4444444444444444,
             "#bd3786"
            ],
            [
             0.5555555555555556,
             "#d8576b"
            ],
            [
             0.6666666666666666,
             "#ed7953"
            ],
            [
             0.7777777777777778,
             "#fb9f3a"
            ],
            [
             0.8888888888888888,
             "#fdca26"
            ],
            [
             1,
             "#f0f921"
            ]
           ]
          },
          "colorway": [
           "#636efa",
           "#EF553B",
           "#00cc96",
           "#ab63fa",
           "#FFA15A",
           "#19d3f3",
           "#FF6692",
           "#B6E880",
           "#FF97FF",
           "#FECB52"
          ],
          "font": {
           "color": "#2a3f5f"
          },
          "geo": {
           "bgcolor": "white",
           "lakecolor": "white",
           "landcolor": "#E5ECF6",
           "showlakes": true,
           "showland": true,
           "subunitcolor": "white"
          },
          "hoverlabel": {
           "align": "left"
          },
          "hovermode": "closest",
          "mapbox": {
           "style": "light"
          },
          "paper_bgcolor": "white",
          "plot_bgcolor": "#E5ECF6",
          "polar": {
           "angularaxis": {
            "gridcolor": "white",
            "linecolor": "white",
            "ticks": ""
           },
           "bgcolor": "#E5ECF6",
           "radialaxis": {
            "gridcolor": "white",
            "linecolor": "white",
            "ticks": ""
           }
          },
          "scene": {
           "xaxis": {
            "backgroundcolor": "#E5ECF6",
            "gridcolor": "white",
            "gridwidth": 2,
            "linecolor": "white",
            "showbackground": true,
            "ticks": "",
            "zerolinecolor": "white"
           },
           "yaxis": {
            "backgroundcolor": "#E5ECF6",
            "gridcolor": "white",
            "gridwidth": 2,
            "linecolor": "white",
            "showbackground": true,
            "ticks": "",
            "zerolinecolor": "white"
           },
           "zaxis": {
            "backgroundcolor": "#E5ECF6",
            "gridcolor": "white",
            "gridwidth": 2,
            "linecolor": "white",
            "showbackground": true,
            "ticks": "",
            "zerolinecolor": "white"
           }
          },
          "shapedefaults": {
           "line": {
            "color": "#2a3f5f"
           }
          },
          "ternary": {
           "aaxis": {
            "gridcolor": "white",
            "linecolor": "white",
            "ticks": ""
           },
           "baxis": {
            "gridcolor": "white",
            "linecolor": "white",
            "ticks": ""
           },
           "bgcolor": "#E5ECF6",
           "caxis": {
            "gridcolor": "white",
            "linecolor": "white",
            "ticks": ""
           }
          },
          "title": {
           "x": 0.05
          },
          "xaxis": {
           "automargin": true,
           "gridcolor": "white",
           "linecolor": "white",
           "ticks": "",
           "title": {
            "standoff": 15
           },
           "zerolinecolor": "white",
           "zerolinewidth": 2
          },
          "yaxis": {
           "automargin": true,
           "gridcolor": "white",
           "linecolor": "white",
           "ticks": "",
           "title": {
            "standoff": 15
           },
           "zerolinecolor": "white",
           "zerolinewidth": 2
          }
         }
        },
        "xaxis": {
         "anchor": "y",
         "domain": [
          0,
          1
         ]
        },
        "yaxis": {
         "anchor": "x",
         "domain": [
          0,
          1
         ]
        }
       }
      }
     },
     "metadata": {},
     "output_type": "display_data"
    }
   ],
   "source": [
    "import plotly.express as px\n",
    "import plotly.graph_objects as go\n",
    "\n",
    "eps = 1e-4\n",
    "print(f\"Lambda найдена: {lambdaParam}+-{lambdaParam*eps}\")\n",
    "\n",
    "\n",
    "# rstep = R / rNumber\n",
    "# rvalues, uvalues, vvalues = zip(*rungeKutta4(0, lambdaParam * plankFunc(0), 0, rstep, R, f, g))\n",
    "rvalues, uvalues, vvalues = zip(*findPoints(lambdaParam, 1e-4, 1e-2))\n",
    "u_pvalues = [plankFunc(r) for r in rvalues]\n",
    "\n",
    "fig = px.line()\n",
    "fig.add_trace(go.Scatter(x=rvalues, y=uvalues, name=\"u\"))\n",
    "fig.add_trace(go.Scatter(x=rvalues, y=u_pvalues, name=\"u_p\"))\n",
    "# fig.update_layout(yaxis_type = \"log\")\n",
    "fig.show()\n",
    "\n",
    "fig = px.line()\n",
    "fig.add_trace(go.Scatter(x=rvalues, y=vvalues, name=\"F\"))\n",
    "fig.show()"
   ]
  },
  {
   "cell_type": "markdown",
   "metadata": {},
   "source": []
  },
  {
   "cell_type": "code",
   "execution_count": 6,
   "metadata": {},
   "outputs": [
    {
     "name": "stdout",
     "output_type": "stream",
     "text": [
      "Rs: 0.35, lambda: 0.15376434326171876\n"
     ]
    },
    {
     "data": {
      "application/vnd.plotly.v1+json": {
       "config": {
        "plotlyServerURL": "https://plot.ly"
       },
       "data": [
        {
         "hovertemplate": "<extra></extra>",
         "legendgroup": "",
         "line": {
          "color": "#636efa",
          "dash": "solid"
         },
         "marker": {
          "symbol": "circle"
         },
         "mode": "lines",
         "name": "",
         "orientation": "v",
         "showlegend": false,
         "type": "scatter",
         "xaxis": "x",
         "yaxis": "y"
        },
        {
         "name": "u, R=0.35",
         "type": "scatter",
         "x": [
          0,
          0,
          0.005,
          0.01,
          0.015,
          0.02,
          0.025,
          0.030000000000000002,
          0.035,
          0.04,
          0.045,
          0.049999999999999996,
          0.05499999999999999,
          0.05999999999999999,
          0.06499999999999999,
          0.06999999999999999,
          0.075,
          0.08,
          0.085,
          0.09000000000000001,
          0.09500000000000001,
          0.10000000000000002,
          0.10500000000000002,
          0.11000000000000003,
          0.11500000000000003,
          0.12000000000000004,
          0.12500000000000003,
          0.13000000000000003,
          0.13500000000000004,
          0.14000000000000004,
          0.14500000000000005,
          0.15000000000000005,
          0.15500000000000005,
          0.16000000000000006,
          0.16500000000000006,
          0.17000000000000007,
          0.17500000000000007,
          0.18000000000000008,
          0.18500000000000008,
          0.19000000000000009,
          0.1950000000000001,
          0.2000000000000001,
          0.2050000000000001,
          0.2100000000000001,
          0.2150000000000001,
          0.2200000000000001,
          0.22500000000000012,
          0.23000000000000012,
          0.23500000000000013,
          0.24000000000000013,
          0.24500000000000013,
          0.2500000000000001,
          0.2550000000000001,
          0.2600000000000001,
          0.2650000000000001,
          0.27000000000000013,
          0.27500000000000013,
          0.28000000000000014,
          0.28500000000000014,
          0.29000000000000015,
          0.29500000000000015,
          0.30000000000000016,
          0.30500000000000016,
          0.31000000000000016,
          0.31500000000000017,
          0.3200000000000002,
          0.3250000000000002,
          0.3300000000000002,
          0.3350000000000002,
          0.3400000000000002,
          0.3450000000000002
         ],
         "y": [
          3.9389758309451614e-7,
          3.9385487887075057e-7,
          3.9372676404466535e-7,
          3.9351323250012807e-7,
          3.9321427749762446e-7,
          3.9282989666639433e-7,
          3.9236009906298774e-7,
          3.918049142472019e-7,
          3.911644033673611e-7,
          3.904386722414356e-7,
          3.896278864104895e-7,
          3.887322881269645e-7,
          3.87752215221917e-7,
          3.866881217720513e-7,
          3.8554060045880355e-7,
          3.8431040647748377e-7,
          3.8299848281435153e-7,
          3.816059866634135e-7,
          3.801343167028095e-7,
          3.785851408932568e-7,
          3.7696042439880467e-7,
          3.752624571640882e-7,
          3.734938806137415e-7,
          3.7165771287042603e-7,
          3.6975737182032625e-7,
          3.6779669529171373e-7,
          3.6577995755655325e-7,
          3.6371188132085916e-7,
          3.61597644340797e-7,
          3.5944287979290723e-7,
          3.572536695430664e-7,
          3.550365295047198e-7,
          3.527983863571402e-7,
          3.505465450131402e-7,
          3.4828864638610257e-7,
          3.460326152104665e-7,
          3.437865979183022e-7,
          3.415588908655426e-7,
          3.3935785953040695e-7,
          3.3719184966606155e-7,
          3.3506909176871044e-7,
          3.329976006065526e-7,
          3.3098507111250343e-7,
          3.2903876646826126e-7,
          3.2716543304127437e-7,
          3.253711998114707e-7,
          3.2366148828394125e-7,
          3.220409359946207e-7,
          3.2051333398464814e-7,
          3.190815806011126e-7,
          3.177476528669916e-7,
          3.1651259341661496e-7,
          3.1537653118888234e-7,
          3.143387061801976e-7,
          3.13397515349323e-7,
          3.125505745398207e-7,
          3.1179480428391287e-7,
          3.1112648387912693e-7,
          3.1054133653444836e-7,
          3.100346202221693e-7,
          3.096012126980439e-7,
          3.092356727069059e-7,
          3.089323051828889e-7,
          3.086852178127139e-7,
          3.084883812580334e-7,
          3.0833571434078664e-7,
          3.0822112431524956e-7,
          3.081385747189707e-7,
          3.080821677993145e-7,
          3.0804625031215754e-7,
          3.080255257498611e-7
         ]
        },
        {
         "name": "u_p, R=0.35",
         "type": "scatter",
         "x": [
          0,
          0,
          0.005,
          0.01,
          0.015,
          0.02,
          0.025,
          0.030000000000000002,
          0.035,
          0.04,
          0.045,
          0.049999999999999996,
          0.05499999999999999,
          0.05999999999999999,
          0.06499999999999999,
          0.06999999999999999,
          0.075,
          0.08,
          0.085,
          0.09000000000000001,
          0.09500000000000001,
          0.10000000000000002,
          0.10500000000000002,
          0.11000000000000003,
          0.11500000000000003,
          0.12000000000000004,
          0.12500000000000003,
          0.13000000000000003,
          0.13500000000000004,
          0.14000000000000004,
          0.14500000000000005,
          0.15000000000000005,
          0.15500000000000005,
          0.16000000000000006,
          0.16500000000000006,
          0.17000000000000007,
          0.17500000000000007,
          0.18000000000000008,
          0.18500000000000008,
          0.19000000000000009,
          0.1950000000000001,
          0.2000000000000001,
          0.2050000000000001,
          0.2100000000000001,
          0.2150000000000001,
          0.2200000000000001,
          0.22500000000000012,
          0.23000000000000012,
          0.23500000000000013,
          0.24000000000000013,
          0.24500000000000013,
          0.2500000000000001,
          0.2550000000000001,
          0.2600000000000001,
          0.2650000000000001,
          0.27000000000000013,
          0.27500000000000013,
          0.28000000000000014,
          0.28500000000000014,
          0.29000000000000015,
          0.29500000000000015,
          0.30000000000000016,
          0.30500000000000016,
          0.31000000000000016,
          0.31500000000000017,
          0.3200000000000002,
          0.3250000000000002,
          0.3300000000000002,
          0.3350000000000002,
          0.3400000000000002,
          0.3450000000000002
         ],
         "y": [
          0.000002561696520395968,
          0.000002561696520395968,
          0.000002561696107378172,
          0.0000025616899121160272,
          0.0000025616630660830592,
          0.000002561590789133921,
          0.000002561438392000152,
          0.0000025611612825794918,
          0.000002560704978813756,
          0.000002560005131748582,
          0.000002558987563165911,
          0.0000025575683229767174,
          0.00000255565377235653,
          0.0000025531406993986727,
          0.000002549916474848988,
          0.000002545859256269314,
          0.0000025408382497532724,
          0.0000025347140390844774,
          0.000002527338992980415,
          0.0000025185577618012956,
          0.0000025082078758158137,
          0.0000024961204577984197,
          0.00000248212106337568,
          0.0000024660306631305415,
          0.0000024476667809972336,
          0.0000024268448039152998,
          0.00000240337947803295,
          0.000002377086606922795,
          0.0000023477849672534,
          0.0000023152984570911517,
          0.0000022794584914163856,
          0.0000022401066584328514,
          0.0000021970976487135385,
          0.0000021503024670093505,
          0.000002099611933463793,
          0.000002044940476791243,
          0.000001986230216396255,
          0.000001923455323072843,
          0.0000018566266383784721,
          0.0000017857965204793059,
          0.0000017110638685481686,
          0.0000016325792578705983,
          0.000001550550092742339,
          0.000001465245652945358,
          0.000001377001870863318,
          0.0000012862256288521902,
          0.0000011933983090415031,
          0.0000010990782592182383,
          0.000001003901758242161,
          9.085819729497544e-7,
          8.139052978893083e-7,
          7.207243646376706e-7,
          6.29946908795812e-7,
          5.425196073036779e-7,
          4.5940597458123445e-7,
          3.815574767245011e-7,
          3.0987725273831595e-7,
          2.451763101681679e-7,
          1.8812290592088853e-7,
          1.3918716659305846e-7,
          9.858497033707964e-8,
          6.622774615709058e-8,
          4.168796465845899e-8,
          2.4193049091054556e-8,
          1.2661777548345254e-8,
          5.794433226190929e-9,
          2.2175763204907243e-9,
          6.638611193319582e-10,
          1.3997271923770473e-10,
          1.7455027632250637e-11,
          9.405068809312933e-13
         ]
        }
       ],
       "layout": {
        "legend": {
         "tracegroupgap": 0
        },
        "margin": {
         "t": 60
        },
        "template": {
         "data": {
          "bar": [
           {
            "error_x": {
             "color": "#2a3f5f"
            },
            "error_y": {
             "color": "#2a3f5f"
            },
            "marker": {
             "line": {
              "color": "#E5ECF6",
              "width": 0.5
             },
             "pattern": {
              "fillmode": "overlay",
              "size": 10,
              "solidity": 0.2
             }
            },
            "type": "bar"
           }
          ],
          "barpolar": [
           {
            "marker": {
             "line": {
              "color": "#E5ECF6",
              "width": 0.5
             },
             "pattern": {
              "fillmode": "overlay",
              "size": 10,
              "solidity": 0.2
             }
            },
            "type": "barpolar"
           }
          ],
          "carpet": [
           {
            "aaxis": {
             "endlinecolor": "#2a3f5f",
             "gridcolor": "white",
             "linecolor": "white",
             "minorgridcolor": "white",
             "startlinecolor": "#2a3f5f"
            },
            "baxis": {
             "endlinecolor": "#2a3f5f",
             "gridcolor": "white",
             "linecolor": "white",
             "minorgridcolor": "white",
             "startlinecolor": "#2a3f5f"
            },
            "type": "carpet"
           }
          ],
          "choropleth": [
           {
            "colorbar": {
             "outlinewidth": 0,
             "ticks": ""
            },
            "type": "choropleth"
           }
          ],
          "contour": [
           {
            "colorbar": {
             "outlinewidth": 0,
             "ticks": ""
            },
            "colorscale": [
             [
              0,
              "#0d0887"
             ],
             [
              0.1111111111111111,
              "#46039f"
             ],
             [
              0.2222222222222222,
              "#7201a8"
             ],
             [
              0.3333333333333333,
              "#9c179e"
             ],
             [
              0.4444444444444444,
              "#bd3786"
             ],
             [
              0.5555555555555556,
              "#d8576b"
             ],
             [
              0.6666666666666666,
              "#ed7953"
             ],
             [
              0.7777777777777778,
              "#fb9f3a"
             ],
             [
              0.8888888888888888,
              "#fdca26"
             ],
             [
              1,
              "#f0f921"
             ]
            ],
            "type": "contour"
           }
          ],
          "contourcarpet": [
           {
            "colorbar": {
             "outlinewidth": 0,
             "ticks": ""
            },
            "type": "contourcarpet"
           }
          ],
          "heatmap": [
           {
            "colorbar": {
             "outlinewidth": 0,
             "ticks": ""
            },
            "colorscale": [
             [
              0,
              "#0d0887"
             ],
             [
              0.1111111111111111,
              "#46039f"
             ],
             [
              0.2222222222222222,
              "#7201a8"
             ],
             [
              0.3333333333333333,
              "#9c179e"
             ],
             [
              0.4444444444444444,
              "#bd3786"
             ],
             [
              0.5555555555555556,
              "#d8576b"
             ],
             [
              0.6666666666666666,
              "#ed7953"
             ],
             [
              0.7777777777777778,
              "#fb9f3a"
             ],
             [
              0.8888888888888888,
              "#fdca26"
             ],
             [
              1,
              "#f0f921"
             ]
            ],
            "type": "heatmap"
           }
          ],
          "histogram": [
           {
            "marker": {
             "pattern": {
              "fillmode": "overlay",
              "size": 10,
              "solidity": 0.2
             }
            },
            "type": "histogram"
           }
          ],
          "histogram2d": [
           {
            "colorbar": {
             "outlinewidth": 0,
             "ticks": ""
            },
            "colorscale": [
             [
              0,
              "#0d0887"
             ],
             [
              0.1111111111111111,
              "#46039f"
             ],
             [
              0.2222222222222222,
              "#7201a8"
             ],
             [
              0.3333333333333333,
              "#9c179e"
             ],
             [
              0.4444444444444444,
              "#bd3786"
             ],
             [
              0.5555555555555556,
              "#d8576b"
             ],
             [
              0.6666666666666666,
              "#ed7953"
             ],
             [
              0.7777777777777778,
              "#fb9f3a"
             ],
             [
              0.8888888888888888,
              "#fdca26"
             ],
             [
              1,
              "#f0f921"
             ]
            ],
            "type": "histogram2d"
           }
          ],
          "histogram2dcontour": [
           {
            "colorbar": {
             "outlinewidth": 0,
             "ticks": ""
            },
            "colorscale": [
             [
              0,
              "#0d0887"
             ],
             [
              0.1111111111111111,
              "#46039f"
             ],
             [
              0.2222222222222222,
              "#7201a8"
             ],
             [
              0.3333333333333333,
              "#9c179e"
             ],
             [
              0.4444444444444444,
              "#bd3786"
             ],
             [
              0.5555555555555556,
              "#d8576b"
             ],
             [
              0.6666666666666666,
              "#ed7953"
             ],
             [
              0.7777777777777778,
              "#fb9f3a"
             ],
             [
              0.8888888888888888,
              "#fdca26"
             ],
             [
              1,
              "#f0f921"
             ]
            ],
            "type": "histogram2dcontour"
           }
          ],
          "mesh3d": [
           {
            "colorbar": {
             "outlinewidth": 0,
             "ticks": ""
            },
            "type": "mesh3d"
           }
          ],
          "parcoords": [
           {
            "line": {
             "colorbar": {
              "outlinewidth": 0,
              "ticks": ""
             }
            },
            "type": "parcoords"
           }
          ],
          "pie": [
           {
            "automargin": true,
            "type": "pie"
           }
          ],
          "scatter": [
           {
            "fillpattern": {
             "fillmode": "overlay",
             "size": 10,
             "solidity": 0.2
            },
            "type": "scatter"
           }
          ],
          "scatter3d": [
           {
            "line": {
             "colorbar": {
              "outlinewidth": 0,
              "ticks": ""
             }
            },
            "marker": {
             "colorbar": {
              "outlinewidth": 0,
              "ticks": ""
             }
            },
            "type": "scatter3d"
           }
          ],
          "scattercarpet": [
           {
            "marker": {
             "colorbar": {
              "outlinewidth": 0,
              "ticks": ""
             }
            },
            "type": "scattercarpet"
           }
          ],
          "scattergeo": [
           {
            "marker": {
             "colorbar": {
              "outlinewidth": 0,
              "ticks": ""
             }
            },
            "type": "scattergeo"
           }
          ],
          "scattergl": [
           {
            "marker": {
             "colorbar": {
              "outlinewidth": 0,
              "ticks": ""
             }
            },
            "type": "scattergl"
           }
          ],
          "scattermap": [
           {
            "marker": {
             "colorbar": {
              "outlinewidth": 0,
              "ticks": ""
             }
            },
            "type": "scattermap"
           }
          ],
          "scattermapbox": [
           {
            "marker": {
             "colorbar": {
              "outlinewidth": 0,
              "ticks": ""
             }
            },
            "type": "scattermapbox"
           }
          ],
          "scatterpolar": [
           {
            "marker": {
             "colorbar": {
              "outlinewidth": 0,
              "ticks": ""
             }
            },
            "type": "scatterpolar"
           }
          ],
          "scatterpolargl": [
           {
            "marker": {
             "colorbar": {
              "outlinewidth": 0,
              "ticks": ""
             }
            },
            "type": "scatterpolargl"
           }
          ],
          "scatterternary": [
           {
            "marker": {
             "colorbar": {
              "outlinewidth": 0,
              "ticks": ""
             }
            },
            "type": "scatterternary"
           }
          ],
          "surface": [
           {
            "colorbar": {
             "outlinewidth": 0,
             "ticks": ""
            },
            "colorscale": [
             [
              0,
              "#0d0887"
             ],
             [
              0.1111111111111111,
              "#46039f"
             ],
             [
              0.2222222222222222,
              "#7201a8"
             ],
             [
              0.3333333333333333,
              "#9c179e"
             ],
             [
              0.4444444444444444,
              "#bd3786"
             ],
             [
              0.5555555555555556,
              "#d8576b"
             ],
             [
              0.6666666666666666,
              "#ed7953"
             ],
             [
              0.7777777777777778,
              "#fb9f3a"
             ],
             [
              0.8888888888888888,
              "#fdca26"
             ],
             [
              1,
              "#f0f921"
             ]
            ],
            "type": "surface"
           }
          ],
          "table": [
           {
            "cells": {
             "fill": {
              "color": "#EBF0F8"
             },
             "line": {
              "color": "white"
             }
            },
            "header": {
             "fill": {
              "color": "#C8D4E3"
             },
             "line": {
              "color": "white"
             }
            },
            "type": "table"
           }
          ]
         },
         "layout": {
          "annotationdefaults": {
           "arrowcolor": "#2a3f5f",
           "arrowhead": 0,
           "arrowwidth": 1
          },
          "autotypenumbers": "strict",
          "coloraxis": {
           "colorbar": {
            "outlinewidth": 0,
            "ticks": ""
           }
          },
          "colorscale": {
           "diverging": [
            [
             0,
             "#8e0152"
            ],
            [
             0.1,
             "#c51b7d"
            ],
            [
             0.2,
             "#de77ae"
            ],
            [
             0.3,
             "#f1b6da"
            ],
            [
             0.4,
             "#fde0ef"
            ],
            [
             0.5,
             "#f7f7f7"
            ],
            [
             0.6,
             "#e6f5d0"
            ],
            [
             0.7,
             "#b8e186"
            ],
            [
             0.8,
             "#7fbc41"
            ],
            [
             0.9,
             "#4d9221"
            ],
            [
             1,
             "#276419"
            ]
           ],
           "sequential": [
            [
             0,
             "#0d0887"
            ],
            [
             0.1111111111111111,
             "#46039f"
            ],
            [
             0.2222222222222222,
             "#7201a8"
            ],
            [
             0.3333333333333333,
             "#9c179e"
            ],
            [
             0.4444444444444444,
             "#bd3786"
            ],
            [
             0.5555555555555556,
             "#d8576b"
            ],
            [
             0.6666666666666666,
             "#ed7953"
            ],
            [
             0.7777777777777778,
             "#fb9f3a"
            ],
            [
             0.8888888888888888,
             "#fdca26"
            ],
            [
             1,
             "#f0f921"
            ]
           ],
           "sequentialminus": [
            [
             0,
             "#0d0887"
            ],
            [
             0.1111111111111111,
             "#46039f"
            ],
            [
             0.2222222222222222,
             "#7201a8"
            ],
            [
             0.3333333333333333,
             "#9c179e"
            ],
            [
             0.4444444444444444,
             "#bd3786"
            ],
            [
             0.5555555555555556,
             "#d8576b"
            ],
            [
             0.6666666666666666,
             "#ed7953"
            ],
            [
             0.7777777777777778,
             "#fb9f3a"
            ],
            [
             0.8888888888888888,
             "#fdca26"
            ],
            [
             1,
             "#f0f921"
            ]
           ]
          },
          "colorway": [
           "#636efa",
           "#EF553B",
           "#00cc96",
           "#ab63fa",
           "#FFA15A",
           "#19d3f3",
           "#FF6692",
           "#B6E880",
           "#FF97FF",
           "#FECB52"
          ],
          "font": {
           "color": "#2a3f5f"
          },
          "geo": {
           "bgcolor": "white",
           "lakecolor": "white",
           "landcolor": "#E5ECF6",
           "showlakes": true,
           "showland": true,
           "subunitcolor": "white"
          },
          "hoverlabel": {
           "align": "left"
          },
          "hovermode": "closest",
          "mapbox": {
           "style": "light"
          },
          "paper_bgcolor": "white",
          "plot_bgcolor": "#E5ECF6",
          "polar": {
           "angularaxis": {
            "gridcolor": "white",
            "linecolor": "white",
            "ticks": ""
           },
           "bgcolor": "#E5ECF6",
           "radialaxis": {
            "gridcolor": "white",
            "linecolor": "white",
            "ticks": ""
           }
          },
          "scene": {
           "xaxis": {
            "backgroundcolor": "#E5ECF6",
            "gridcolor": "white",
            "gridwidth": 2,
            "linecolor": "white",
            "showbackground": true,
            "ticks": "",
            "zerolinecolor": "white"
           },
           "yaxis": {
            "backgroundcolor": "#E5ECF6",
            "gridcolor": "white",
            "gridwidth": 2,
            "linecolor": "white",
            "showbackground": true,
            "ticks": "",
            "zerolinecolor": "white"
           },
           "zaxis": {
            "backgroundcolor": "#E5ECF6",
            "gridcolor": "white",
            "gridwidth": 2,
            "linecolor": "white",
            "showbackground": true,
            "ticks": "",
            "zerolinecolor": "white"
           }
          },
          "shapedefaults": {
           "line": {
            "color": "#2a3f5f"
           }
          },
          "ternary": {
           "aaxis": {
            "gridcolor": "white",
            "linecolor": "white",
            "ticks": ""
           },
           "baxis": {
            "gridcolor": "white",
            "linecolor": "white",
            "ticks": ""
           },
           "bgcolor": "#E5ECF6",
           "caxis": {
            "gridcolor": "white",
            "linecolor": "white",
            "ticks": ""
           }
          },
          "title": {
           "x": 0.05
          },
          "xaxis": {
           "automargin": true,
           "gridcolor": "white",
           "linecolor": "white",
           "ticks": "",
           "title": {
            "standoff": 15
           },
           "zerolinecolor": "white",
           "zerolinewidth": 2
          },
          "yaxis": {
           "automargin": true,
           "gridcolor": "white",
           "linecolor": "white",
           "ticks": "",
           "title": {
            "standoff": 15
           },
           "zerolinecolor": "white",
           "zerolinewidth": 2
          }
         }
        },
        "xaxis": {
         "anchor": "y",
         "domain": [
          0,
          1
         ]
        },
        "yaxis": {
         "anchor": "x",
         "domain": [
          0,
          1
         ]
        }
       }
      }
     },
     "metadata": {},
     "output_type": "display_data"
    },
    {
     "name": "stdout",
     "output_type": "stream",
     "text": [
      "Rs: 0.5, lambda: 0.21883087158203124\n"
     ]
    },
    {
     "data": {
      "application/vnd.plotly.v1+json": {
       "config": {
        "plotlyServerURL": "https://plot.ly"
       },
       "data": [
        {
         "hovertemplate": "<extra></extra>",
         "legendgroup": "",
         "line": {
          "color": "#636efa",
          "dash": "solid"
         },
         "marker": {
          "symbol": "circle"
         },
         "mode": "lines",
         "name": "",
         "orientation": "v",
         "showlegend": false,
         "type": "scatter",
         "xaxis": "x",
         "yaxis": "y"
        },
        {
         "name": "u, R=0.5",
         "type": "scatter",
         "x": [
          0,
          0,
          0.005,
          0.01,
          0.015,
          0.02,
          0.025,
          0.030000000000000002,
          0.035,
          0.04,
          0.045,
          0.049999999999999996,
          0.05499999999999999,
          0.05999999999999999,
          0.06499999999999999,
          0.06999999999999999,
          0.075,
          0.08,
          0.085,
          0.09000000000000001,
          0.09500000000000001,
          0.10000000000000002,
          0.10500000000000002,
          0.11000000000000003,
          0.11500000000000003,
          0.12000000000000004,
          0.12500000000000003,
          0.13000000000000003,
          0.13500000000000004,
          0.14000000000000004,
          0.14500000000000005,
          0.15000000000000005,
          0.15500000000000005,
          0.16000000000000006,
          0.16500000000000006,
          0.17000000000000007,
          0.17500000000000007,
          0.18000000000000008,
          0.18500000000000008,
          0.19000000000000009,
          0.1950000000000001,
          0.2000000000000001,
          0.2050000000000001,
          0.2100000000000001,
          0.2150000000000001,
          0.2200000000000001,
          0.22500000000000012,
          0.23000000000000012,
          0.23500000000000013,
          0.24000000000000013,
          0.24500000000000013,
          0.2500000000000001,
          0.2550000000000001,
          0.2600000000000001,
          0.2650000000000001,
          0.27000000000000013,
          0.27500000000000013,
          0.28000000000000014,
          0.28500000000000014,
          0.29000000000000015,
          0.29500000000000015,
          0.30000000000000016,
          0.30500000000000016,
          0.31000000000000016,
          0.31500000000000017,
          0.3200000000000002,
          0.3250000000000002,
          0.3300000000000002,
          0.3350000000000002,
          0.3400000000000002,
          0.3450000000000002,
          0.3500000000000002,
          0.3550000000000002,
          0.3600000000000002,
          0.3650000000000002,
          0.3700000000000002,
          0.3750000000000002,
          0.3800000000000002,
          0.38500000000000023,
          0.39000000000000024,
          0.39500000000000024,
          0.40000000000000024,
          0.40500000000000025,
          0.41000000000000025,
          0.41500000000000026,
          0.42000000000000026,
          0.42500000000000027,
          0.43000000000000027,
          0.4350000000000003,
          0.4400000000000003,
          0.4450000000000003,
          0.4500000000000003,
          0.4550000000000003,
          0.4600000000000003,
          0.4650000000000003,
          0.4700000000000003,
          0.4750000000000003,
          0.4800000000000003,
          0.4850000000000003,
          0.4900000000000003,
          0.49500000000000033
         ],
         "y": [
          5.605782822869063e-7,
          5.60538861562614e-7,
          5.604205972848701e-7,
          5.602234827558008e-7,
          5.59947507661995e-7,
          5.595926591748367e-7,
          5.591589235551979e-7,
          5.586462882196452e-7,
          5.580547442668783e-7,
          5.573842894641704e-7,
          5.566349316932951e-7,
          5.558066928547933e-7,
          5.548996132285301e-7,
          5.539137562872997e-7,
          5.52849213958729e-7,
          5.517061123288685e-7,
          5.504846177786309e-7,
          5.491849435415953e-7,
          5.478073566686296e-7,
          5.463521853812638e-7,
          5.448198267917594e-7,
          5.43210754963349e-7,
          5.415255292791635e-7,
          5.397648030829136e-7,
          5.379293325484686e-7,
          5.360199857290823e-7,
          5.34037751730197e-7,
          5.319837499425393e-7,
          5.298592392646777e-7,
          5.276656272363909e-7,
          5.254044789962079e-7,
          5.230775259684159e-7,
          5.206866741768139e-7,
          5.182340120746748e-7,
          5.157218177729169e-7,
          5.131525655415694e-7,
          5.105289314534513e-7,
          5.07853798033786e-7,
          5.051302577754975e-7,
          5.023616153774269e-7,
          4.995513885619438e-7,
          4.967033073296832e-7,
          4.938213115126977e-7,
          4.909095464934454e-7,
          4.879723569660174e-7,
          4.850142786280708e-7,
          4.820400277073141e-7,
          4.790544882452373e-7,
          4.760626970832439e-7,
          4.7306982652244986e-7,
          4.7008116465816734e-7,
          4.67102093423353e-7,
          4.6413806441185647e-7,
          4.6119457259180363e-7,
          4.5827712806141583e-7,
          4.5539122604337937e-7,
          4.5254231535877074e-7,
          4.497357656665921e-7,
          4.4697683379910845e-7,
          4.442706295651889e-7,
          4.4162208003903195e-7,
          4.390358885717395e-7,
          4.3651651861397486e-7,
          4.340681541939679e-7,
          4.316946688793407e-7,
          4.293995979345463e-7,
          4.271861132477012e-7,
          4.2505700148553125e-7,
          4.230146458941625e-7,
          4.210610121080402e-7,
          4.1919763825950247e-7,
          4.1742562930337356e-7,
          4.157456526806554e-7,
          4.141579489398165e-7,
          4.126623389224601e-7,
          4.112582348584936e-7,
          4.099446570421213e-7,
          4.0872025403597073e-7,
          4.075833258624127e-7,
          4.065318561323012e-7,
          4.0556354016737886e-7,
          4.0467579036679864e-7,
          4.0386577909171256e-7,
          4.031304678315366e-7,
          4.0246663440897154e-7,
          4.0187090364678867e-7,
          4.0133976692586955e-7,
          4.008695969735924e-7,
          4.004566749081213e-7,
          4.0009720863693455e-7,
          3.997873359579104e-7,
          3.995231639292228e-7,
          3.9930079086939773e-7,
          3.9911631031490334e-7,
          3.9896583109647096e-7,
          3.988454973200217e-7,
          3.987515115043551e-7,
          3.9868016441221984e-7,
          3.986278703888524e-7,
          3.9859119625786004e-7,
          3.985669063944043e-7
         ]
        },
        {
         "name": "u_p, R=0.5",
         "type": "scatter",
         "x": [
          0,
          0,
          0.005,
          0.01,
          0.015,
          0.02,
          0.025,
          0.030000000000000002,
          0.035,
          0.04,
          0.045,
          0.049999999999999996,
          0.05499999999999999,
          0.05999999999999999,
          0.06499999999999999,
          0.06999999999999999,
          0.075,
          0.08,
          0.085,
          0.09000000000000001,
          0.09500000000000001,
          0.10000000000000002,
          0.10500000000000002,
          0.11000000000000003,
          0.11500000000000003,
          0.12000000000000004,
          0.12500000000000003,
          0.13000000000000003,
          0.13500000000000004,
          0.14000000000000004,
          0.14500000000000005,
          0.15000000000000005,
          0.15500000000000005,
          0.16000000000000006,
          0.16500000000000006,
          0.17000000000000007,
          0.17500000000000007,
          0.18000000000000008,
          0.18500000000000008,
          0.19000000000000009,
          0.1950000000000001,
          0.2000000000000001,
          0.2050000000000001,
          0.2100000000000001,
          0.2150000000000001,
          0.2200000000000001,
          0.22500000000000012,
          0.23000000000000012,
          0.23500000000000013,
          0.24000000000000013,
          0.24500000000000013,
          0.2500000000000001,
          0.2550000000000001,
          0.2600000000000001,
          0.2650000000000001,
          0.27000000000000013,
          0.27500000000000013,
          0.28000000000000014,
          0.28500000000000014,
          0.29000000000000015,
          0.29500000000000015,
          0.30000000000000016,
          0.30500000000000016,
          0.31000000000000016,
          0.31500000000000017,
          0.3200000000000002,
          0.3250000000000002,
          0.3300000000000002,
          0.3350000000000002,
          0.3400000000000002,
          0.3450000000000002,
          0.3500000000000002,
          0.3550000000000002,
          0.3600000000000002,
          0.3650000000000002,
          0.3700000000000002,
          0.3750000000000002,
          0.3800000000000002,
          0.38500000000000023,
          0.39000000000000024,
          0.39500000000000024,
          0.40000000000000024,
          0.40500000000000025,
          0.41000000000000025,
          0.41500000000000026,
          0.42000000000000026,
          0.42500000000000027,
          0.43000000000000027,
          0.4350000000000003,
          0.4400000000000003,
          0.4450000000000003,
          0.4500000000000003,
          0.4550000000000003,
          0.4600000000000003,
          0.4650000000000003,
          0.4700000000000003,
          0.4750000000000003,
          0.4800000000000003,
          0.4850000000000003,
          0.4900000000000003,
          0.49500000000000033
         ],
         "y": [
          0.000002561696520395968,
          0.000002561696520395968,
          0.0000025616964212303913,
          0.0000025616949337470273,
          0.0000025616884879917276,
          0.0000025616711340831054,
          0.000002561634542356428,
          0.0000025615680037261713,
          0.0000025614584304284387,
          0.0000025612903573503455,
          0.0000025610459441996435,
          0.000002560704978813756,
          0.0000025602448819534094,
          0.0000025596407139720938,
          0.000002558865183798332,
          0.0000025578886607137037,
          0.0000025566791894553118,
          0.00000255520250921685,
          0.0000025534220771681393,
          0.000002551299097157996,
          0.0000025487925543105066,
          0.000002545859256269314,
          0.0000025424538818888913,
          0.0000025385290382155517,
          0.0000025340353266440786,
          0.0000025289214191784693,
          0.0000025231341457666945,
          0.0000025166185937201412,
          0.0000025093182202673684,
          0.0000025011749793297375,
          0.000002492129463642142,
          0.00000248212106337568,
          0.000002471088142449855,
          0.0000024589682337496084,
          0.000002445698254485856,
          0.000002431214742957291,
          0.0000024154541179842645,
          0.000002398352962291927,
          0.0000023798483311179724,
          0.000002359878087308673,
          0.0000023383812641434918,
          0.0000023152984570911517,
          0.0000022905722456458806,
          0.0000022641476463185016,
          0.0000022359725977592523,
          0.0000022059984788632383,
          0.0000021741806605501306,
          0.0000021404790917107794,
          0.0000021048589195678984,
          0.0000020672911443972175,
          0.0000020277533081900203,
          0.000001986230216396255,
          0.0000019427146913564845,
          0.0000018972083553956636,
          0.0000018497224407948747,
          0.0000018002786229589564,
          0.000001748909872036086,
          0.0000016956613169947449,
          0.0000016405911146958219,
          0.000001583771314782294,
          0.0000015252887092120603,
          0.000001465245652945358,
          0.0000014037608396296618,
          0.0000013409700130645387,
          0.0000012770265917419897,
          0.000001212102179814107,
          0.0000011463869334203251,
          0.0000010800897464072368,
          0.0000010134382141180387,
          9.466783281759892e-7,
          8.800738491526492e-7,
          8.139052978893083e-7,
          7.484685003276873e-7,
          6.840726154460888e-7,
          6.21037571922491e-7,
          5.596908373378448e-7,
          5.003634452879823e-7,
          4.4338521228007176e-7,
          3.8907908980808814e-7,
          3.377546201266539e-7,
          2.8970050013837085e-7,
          2.451763101681679e-7,
          2.0440353725660587e-7,
          1.6755611992339006e-7,
          1.3475086620963444e-7,
          1.0603825000225157e-7,
          8.139426847589052e-8,
          6.07142344563294e-8,
          4.380955780462993e-8,
          3.040869795494249e-8,
          2.016348083820423e-8,
          1.2661777548345254e-8,
          7.447030347967247e-9,
          4.044181252984753e-9,
          1.9901698655427203e-9,
          8.654433759069876e-10,
          3.2128041643833317e-10,
          9.697880534094007e-11,
          2.2170925362668192e-11,
          3.4469336838203224e-12,
          3.069603040445592e-13
         ]
        }
       ],
       "layout": {
        "legend": {
         "tracegroupgap": 0
        },
        "margin": {
         "t": 60
        },
        "template": {
         "data": {
          "bar": [
           {
            "error_x": {
             "color": "#2a3f5f"
            },
            "error_y": {
             "color": "#2a3f5f"
            },
            "marker": {
             "line": {
              "color": "#E5ECF6",
              "width": 0.5
             },
             "pattern": {
              "fillmode": "overlay",
              "size": 10,
              "solidity": 0.2
             }
            },
            "type": "bar"
           }
          ],
          "barpolar": [
           {
            "marker": {
             "line": {
              "color": "#E5ECF6",
              "width": 0.5
             },
             "pattern": {
              "fillmode": "overlay",
              "size": 10,
              "solidity": 0.2
             }
            },
            "type": "barpolar"
           }
          ],
          "carpet": [
           {
            "aaxis": {
             "endlinecolor": "#2a3f5f",
             "gridcolor": "white",
             "linecolor": "white",
             "minorgridcolor": "white",
             "startlinecolor": "#2a3f5f"
            },
            "baxis": {
             "endlinecolor": "#2a3f5f",
             "gridcolor": "white",
             "linecolor": "white",
             "minorgridcolor": "white",
             "startlinecolor": "#2a3f5f"
            },
            "type": "carpet"
           }
          ],
          "choropleth": [
           {
            "colorbar": {
             "outlinewidth": 0,
             "ticks": ""
            },
            "type": "choropleth"
           }
          ],
          "contour": [
           {
            "colorbar": {
             "outlinewidth": 0,
             "ticks": ""
            },
            "colorscale": [
             [
              0,
              "#0d0887"
             ],
             [
              0.1111111111111111,
              "#46039f"
             ],
             [
              0.2222222222222222,
              "#7201a8"
             ],
             [
              0.3333333333333333,
              "#9c179e"
             ],
             [
              0.4444444444444444,
              "#bd3786"
             ],
             [
              0.5555555555555556,
              "#d8576b"
             ],
             [
              0.6666666666666666,
              "#ed7953"
             ],
             [
              0.7777777777777778,
              "#fb9f3a"
             ],
             [
              0.8888888888888888,
              "#fdca26"
             ],
             [
              1,
              "#f0f921"
             ]
            ],
            "type": "contour"
           }
          ],
          "contourcarpet": [
           {
            "colorbar": {
             "outlinewidth": 0,
             "ticks": ""
            },
            "type": "contourcarpet"
           }
          ],
          "heatmap": [
           {
            "colorbar": {
             "outlinewidth": 0,
             "ticks": ""
            },
            "colorscale": [
             [
              0,
              "#0d0887"
             ],
             [
              0.1111111111111111,
              "#46039f"
             ],
             [
              0.2222222222222222,
              "#7201a8"
             ],
             [
              0.3333333333333333,
              "#9c179e"
             ],
             [
              0.4444444444444444,
              "#bd3786"
             ],
             [
              0.5555555555555556,
              "#d8576b"
             ],
             [
              0.6666666666666666,
              "#ed7953"
             ],
             [
              0.7777777777777778,
              "#fb9f3a"
             ],
             [
              0.8888888888888888,
              "#fdca26"
             ],
             [
              1,
              "#f0f921"
             ]
            ],
            "type": "heatmap"
           }
          ],
          "histogram": [
           {
            "marker": {
             "pattern": {
              "fillmode": "overlay",
              "size": 10,
              "solidity": 0.2
             }
            },
            "type": "histogram"
           }
          ],
          "histogram2d": [
           {
            "colorbar": {
             "outlinewidth": 0,
             "ticks": ""
            },
            "colorscale": [
             [
              0,
              "#0d0887"
             ],
             [
              0.1111111111111111,
              "#46039f"
             ],
             [
              0.2222222222222222,
              "#7201a8"
             ],
             [
              0.3333333333333333,
              "#9c179e"
             ],
             [
              0.4444444444444444,
              "#bd3786"
             ],
             [
              0.5555555555555556,
              "#d8576b"
             ],
             [
              0.6666666666666666,
              "#ed7953"
             ],
             [
              0.7777777777777778,
              "#fb9f3a"
             ],
             [
              0.8888888888888888,
              "#fdca26"
             ],
             [
              1,
              "#f0f921"
             ]
            ],
            "type": "histogram2d"
           }
          ],
          "histogram2dcontour": [
           {
            "colorbar": {
             "outlinewidth": 0,
             "ticks": ""
            },
            "colorscale": [
             [
              0,
              "#0d0887"
             ],
             [
              0.1111111111111111,
              "#46039f"
             ],
             [
              0.2222222222222222,
              "#7201a8"
             ],
             [
              0.3333333333333333,
              "#9c179e"
             ],
             [
              0.4444444444444444,
              "#bd3786"
             ],
             [
              0.5555555555555556,
              "#d8576b"
             ],
             [
              0.6666666666666666,
              "#ed7953"
             ],
             [
              0.7777777777777778,
              "#fb9f3a"
             ],
             [
              0.8888888888888888,
              "#fdca26"
             ],
             [
              1,
              "#f0f921"
             ]
            ],
            "type": "histogram2dcontour"
           }
          ],
          "mesh3d": [
           {
            "colorbar": {
             "outlinewidth": 0,
             "ticks": ""
            },
            "type": "mesh3d"
           }
          ],
          "parcoords": [
           {
            "line": {
             "colorbar": {
              "outlinewidth": 0,
              "ticks": ""
             }
            },
            "type": "parcoords"
           }
          ],
          "pie": [
           {
            "automargin": true,
            "type": "pie"
           }
          ],
          "scatter": [
           {
            "fillpattern": {
             "fillmode": "overlay",
             "size": 10,
             "solidity": 0.2
            },
            "type": "scatter"
           }
          ],
          "scatter3d": [
           {
            "line": {
             "colorbar": {
              "outlinewidth": 0,
              "ticks": ""
             }
            },
            "marker": {
             "colorbar": {
              "outlinewidth": 0,
              "ticks": ""
             }
            },
            "type": "scatter3d"
           }
          ],
          "scattercarpet": [
           {
            "marker": {
             "colorbar": {
              "outlinewidth": 0,
              "ticks": ""
             }
            },
            "type": "scattercarpet"
           }
          ],
          "scattergeo": [
           {
            "marker": {
             "colorbar": {
              "outlinewidth": 0,
              "ticks": ""
             }
            },
            "type": "scattergeo"
           }
          ],
          "scattergl": [
           {
            "marker": {
             "colorbar": {
              "outlinewidth": 0,
              "ticks": ""
             }
            },
            "type": "scattergl"
           }
          ],
          "scattermap": [
           {
            "marker": {
             "colorbar": {
              "outlinewidth": 0,
              "ticks": ""
             }
            },
            "type": "scattermap"
           }
          ],
          "scattermapbox": [
           {
            "marker": {
             "colorbar": {
              "outlinewidth": 0,
              "ticks": ""
             }
            },
            "type": "scattermapbox"
           }
          ],
          "scatterpolar": [
           {
            "marker": {
             "colorbar": {
              "outlinewidth": 0,
              "ticks": ""
             }
            },
            "type": "scatterpolar"
           }
          ],
          "scatterpolargl": [
           {
            "marker": {
             "colorbar": {
              "outlinewidth": 0,
              "ticks": ""
             }
            },
            "type": "scatterpolargl"
           }
          ],
          "scatterternary": [
           {
            "marker": {
             "colorbar": {
              "outlinewidth": 0,
              "ticks": ""
             }
            },
            "type": "scatterternary"
           }
          ],
          "surface": [
           {
            "colorbar": {
             "outlinewidth": 0,
             "ticks": ""
            },
            "colorscale": [
             [
              0,
              "#0d0887"
             ],
             [
              0.1111111111111111,
              "#46039f"
             ],
             [
              0.2222222222222222,
              "#7201a8"
             ],
             [
              0.3333333333333333,
              "#9c179e"
             ],
             [
              0.4444444444444444,
              "#bd3786"
             ],
             [
              0.5555555555555556,
              "#d8576b"
             ],
             [
              0.6666666666666666,
              "#ed7953"
             ],
             [
              0.7777777777777778,
              "#fb9f3a"
             ],
             [
              0.8888888888888888,
              "#fdca26"
             ],
             [
              1,
              "#f0f921"
             ]
            ],
            "type": "surface"
           }
          ],
          "table": [
           {
            "cells": {
             "fill": {
              "color": "#EBF0F8"
             },
             "line": {
              "color": "white"
             }
            },
            "header": {
             "fill": {
              "color": "#C8D4E3"
             },
             "line": {
              "color": "white"
             }
            },
            "type": "table"
           }
          ]
         },
         "layout": {
          "annotationdefaults": {
           "arrowcolor": "#2a3f5f",
           "arrowhead": 0,
           "arrowwidth": 1
          },
          "autotypenumbers": "strict",
          "coloraxis": {
           "colorbar": {
            "outlinewidth": 0,
            "ticks": ""
           }
          },
          "colorscale": {
           "diverging": [
            [
             0,
             "#8e0152"
            ],
            [
             0.1,
             "#c51b7d"
            ],
            [
             0.2,
             "#de77ae"
            ],
            [
             0.3,
             "#f1b6da"
            ],
            [
             0.4,
             "#fde0ef"
            ],
            [
             0.5,
             "#f7f7f7"
            ],
            [
             0.6,
             "#e6f5d0"
            ],
            [
             0.7,
             "#b8e186"
            ],
            [
             0.8,
             "#7fbc41"
            ],
            [
             0.9,
             "#4d9221"
            ],
            [
             1,
             "#276419"
            ]
           ],
           "sequential": [
            [
             0,
             "#0d0887"
            ],
            [
             0.1111111111111111,
             "#46039f"
            ],
            [
             0.2222222222222222,
             "#7201a8"
            ],
            [
             0.3333333333333333,
             "#9c179e"
            ],
            [
             0.4444444444444444,
             "#bd3786"
            ],
            [
             0.5555555555555556,
             "#d8576b"
            ],
            [
             0.6666666666666666,
             "#ed7953"
            ],
            [
             0.7777777777777778,
             "#fb9f3a"
            ],
            [
             0.8888888888888888,
             "#fdca26"
            ],
            [
             1,
             "#f0f921"
            ]
           ],
           "sequentialminus": [
            [
             0,
             "#0d0887"
            ],
            [
             0.1111111111111111,
             "#46039f"
            ],
            [
             0.2222222222222222,
             "#7201a8"
            ],
            [
             0.3333333333333333,
             "#9c179e"
            ],
            [
             0.4444444444444444,
             "#bd3786"
            ],
            [
             0.5555555555555556,
             "#d8576b"
            ],
            [
             0.6666666666666666,
             "#ed7953"
            ],
            [
             0.7777777777777778,
             "#fb9f3a"
            ],
            [
             0.8888888888888888,
             "#fdca26"
            ],
            [
             1,
             "#f0f921"
            ]
           ]
          },
          "colorway": [
           "#636efa",
           "#EF553B",
           "#00cc96",
           "#ab63fa",
           "#FFA15A",
           "#19d3f3",
           "#FF6692",
           "#B6E880",
           "#FF97FF",
           "#FECB52"
          ],
          "font": {
           "color": "#2a3f5f"
          },
          "geo": {
           "bgcolor": "white",
           "lakecolor": "white",
           "landcolor": "#E5ECF6",
           "showlakes": true,
           "showland": true,
           "subunitcolor": "white"
          },
          "hoverlabel": {
           "align": "left"
          },
          "hovermode": "closest",
          "mapbox": {
           "style": "light"
          },
          "paper_bgcolor": "white",
          "plot_bgcolor": "#E5ECF6",
          "polar": {
           "angularaxis": {
            "gridcolor": "white",
            "linecolor": "white",
            "ticks": ""
           },
           "bgcolor": "#E5ECF6",
           "radialaxis": {
            "gridcolor": "white",
            "linecolor": "white",
            "ticks": ""
           }
          },
          "scene": {
           "xaxis": {
            "backgroundcolor": "#E5ECF6",
            "gridcolor": "white",
            "gridwidth": 2,
            "linecolor": "white",
            "showbackground": true,
            "ticks": "",
            "zerolinecolor": "white"
           },
           "yaxis": {
            "backgroundcolor": "#E5ECF6",
            "gridcolor": "white",
            "gridwidth": 2,
            "linecolor": "white",
            "showbackground": true,
            "ticks": "",
            "zerolinecolor": "white"
           },
           "zaxis": {
            "backgroundcolor": "#E5ECF6",
            "gridcolor": "white",
            "gridwidth": 2,
            "linecolor": "white",
            "showbackground": true,
            "ticks": "",
            "zerolinecolor": "white"
           }
          },
          "shapedefaults": {
           "line": {
            "color": "#2a3f5f"
           }
          },
          "ternary": {
           "aaxis": {
            "gridcolor": "white",
            "linecolor": "white",
            "ticks": ""
           },
           "baxis": {
            "gridcolor": "white",
            "linecolor": "white",
            "ticks": ""
           },
           "bgcolor": "#E5ECF6",
           "caxis": {
            "gridcolor": "white",
            "linecolor": "white",
            "ticks": ""
           }
          },
          "title": {
           "x": 0.05
          },
          "xaxis": {
           "automargin": true,
           "gridcolor": "white",
           "linecolor": "white",
           "ticks": "",
           "title": {
            "standoff": 15
           },
           "zerolinecolor": "white",
           "zerolinewidth": 2
          },
          "yaxis": {
           "automargin": true,
           "gridcolor": "white",
           "linecolor": "white",
           "ticks": "",
           "title": {
            "standoff": 15
           },
           "zerolinecolor": "white",
           "zerolinewidth": 2
          }
         }
        },
        "xaxis": {
         "anchor": "y",
         "domain": [
          0,
          1
         ]
        },
        "yaxis": {
         "anchor": "x",
         "domain": [
          0,
          1
         ]
        }
       }
      }
     },
     "metadata": {},
     "output_type": "display_data"
    },
    {
     "name": "stdout",
     "output_type": "stream",
     "text": [
      "Rs: 0.7, lambda: 0.302642822265625\n"
     ]
    },
    {
     "data": {
      "application/vnd.plotly.v1+json": {
       "config": {
        "plotlyServerURL": "https://plot.ly"
       },
       "data": [
        {
         "hovertemplate": "<extra></extra>",
         "legendgroup": "",
         "line": {
          "color": "#636efa",
          "dash": "solid"
         },
         "marker": {
          "symbol": "circle"
         },
         "mode": "lines",
         "name": "",
         "orientation": "v",
         "showlegend": false,
         "type": "scatter",
         "xaxis": "x",
         "yaxis": "y"
        },
        {
         "name": "u, R=0.7",
         "type": "scatter",
         "x": [
          0,
          0,
          0.005,
          0.01,
          0.015,
          0.02,
          0.025,
          0.030000000000000002,
          0.035,
          0.04,
          0.045,
          0.049999999999999996,
          0.05499999999999999,
          0.05999999999999999,
          0.06499999999999999,
          0.06999999999999999,
          0.075,
          0.08,
          0.085,
          0.09000000000000001,
          0.09500000000000001,
          0.10000000000000002,
          0.10500000000000002,
          0.11000000000000003,
          0.11500000000000003,
          0.12000000000000004,
          0.12500000000000003,
          0.13000000000000003,
          0.13500000000000004,
          0.14000000000000004,
          0.14500000000000005,
          0.15000000000000005,
          0.15500000000000005,
          0.16000000000000006,
          0.16500000000000006,
          0.17000000000000007,
          0.17500000000000007,
          0.18000000000000008,
          0.18500000000000008,
          0.19000000000000009,
          0.1950000000000001,
          0.2000000000000001,
          0.2050000000000001,
          0.2100000000000001,
          0.2150000000000001,
          0.2200000000000001,
          0.22500000000000012,
          0.23000000000000012,
          0.23500000000000013,
          0.24000000000000013,
          0.24500000000000013,
          0.2500000000000001,
          0.2550000000000001,
          0.2600000000000001,
          0.2650000000000001,
          0.27000000000000013,
          0.27500000000000013,
          0.28000000000000014,
          0.28500000000000014,
          0.29000000000000015,
          0.29500000000000015,
          0.30000000000000016,
          0.30500000000000016,
          0.31000000000000016,
          0.31500000000000017,
          0.3200000000000002,
          0.3250000000000002,
          0.3300000000000002,
          0.3350000000000002,
          0.3400000000000002,
          0.3450000000000002,
          0.3500000000000002,
          0.3550000000000002,
          0.3600000000000002,
          0.3650000000000002,
          0.3700000000000002,
          0.3750000000000002,
          0.3800000000000002,
          0.38500000000000023,
          0.39000000000000024,
          0.39500000000000024,
          0.40000000000000024,
          0.40500000000000025,
          0.41000000000000025,
          0.41500000000000026,
          0.42000000000000026,
          0.42500000000000027,
          0.43000000000000027,
          0.4350000000000003,
          0.4400000000000003,
          0.4450000000000003,
          0.4500000000000003,
          0.4550000000000003,
          0.4600000000000003,
          0.4650000000000003,
          0.4700000000000003,
          0.4750000000000003,
          0.4800000000000003,
          0.4850000000000003,
          0.4900000000000003,
          0.49500000000000033,
          0.5000000000000003,
          0.5050000000000003,
          0.5100000000000003,
          0.5150000000000003,
          0.5200000000000004,
          0.5250000000000004,
          0.5300000000000004,
          0.5350000000000004,
          0.5400000000000004,
          0.5450000000000004,
          0.5500000000000004,
          0.5550000000000004,
          0.5600000000000004,
          0.5650000000000004,
          0.5700000000000004,
          0.5750000000000004,
          0.5800000000000004,
          0.5850000000000004,
          0.5900000000000004,
          0.5950000000000004,
          0.6000000000000004,
          0.6050000000000004,
          0.6100000000000004,
          0.6150000000000004,
          0.6200000000000004,
          0.6250000000000004,
          0.6300000000000004,
          0.6350000000000005,
          0.6400000000000005,
          0.6450000000000005,
          0.6500000000000005,
          0.6550000000000005,
          0.6600000000000005,
          0.6650000000000005,
          0.6700000000000005,
          0.6750000000000005,
          0.6800000000000005,
          0.6850000000000005,
          0.6900000000000005,
          0.6950000000000005
         ],
         "y": [
          7.752790647206669e-7,
          7.75243873461463e-7,
          7.75138297780168e-7,
          7.74962331473478e-7,
          7.747159644629953e-7,
          7.743991830302994e-7,
          7.74011970203064e-7,
          7.735543062538151e-7,
          7.730261693101353e-7,
          7.724275360762987e-7,
          7.717583826664578e-7,
          7.710186855495182e-7,
          7.702084226058123e-7,
          7.693275742956369e-7,
          7.683761249396509e-7,
          7.673540641110383e-7,
          7.662613881392214e-7,
          7.650981017247686e-7,
          7.638642196649617e-7,
          7.625597686892871e-7,
          7.611847894038702e-7,
          7.597393383436024e-7,
          7.582234901303937e-7,
          7.566373397356338e-7,
          7.549810048445514e-7,
          7.532546283197264e-7,
          7.514583807605301e-7,
          7.495924631547465e-7,
          7.476571096180555e-7,
          7.456525902164454e-7,
          7.435792138659603e-7,
          7.414373313034758e-7,
          7.39227338121447e-7,
          7.369496778587675e-7,
          7.346048451390422e-7,
          7.321933888466842e-7,
          7.297159153303309e-7,
          7.2717309162211e-7,
          7.245656486602985e-7,
          7.218943845019006e-7,
          7.191601675106312e-7,
          7.163639395047401e-7,
          7.135067188480489e-7,
          7.105896034665148e-7,
          7.076137737715834e-7,
          7.045804954705619e-7,
          7.014911222432474e-7,
          6.98347098263083e-7,
          6.951499605402225e-7,
          6.919013410630466e-7,
          6.886029687139387e-7,
          6.852566709344794e-7,
          6.818643751147009e-7,
          6.784281096806535e-7,
          6.749500048543056e-7,
          6.714322930597393e-7,
          6.678773089497384e-7,
          6.6428748902721e-7,
          6.606653708364599e-7,
          6.570135917001656e-7,
          6.533348869789866e-7,
          6.496320878321318e-7,
          6.459081184588825e-7,
          6.42165992803069e-7,
          6.384088107048204e-7,
          6.346397534865713e-7,
          6.308620789633159e-7,
          6.270791158704538e-7,
          6.232942577062766e-7,
          6.19510955990188e-7,
          6.157327129421297e-7,
          6.11963073593383e-7,
          6.082056173439076e-7,
          6.044639489866444e-7,
          6.007416892247076e-7,
          5.970424647130843e-7,
          5.933698976623007e-7,
          5.897275950474461e-7,
          5.861191374718997e-7,
          5.825480677410252e-7,
          5.790178792068851e-7,
          5.755320039506163e-7,
          5.720938008743948e-7,
          5.687065437798094e-7,
          5.653734063122313e-7,
          5.620974494052781e-7,
          5.5888162054512e-7,
          5.55728736463831e-7,
          5.526414719958381e-7,
          5.496223498865219e-7,
          5.466737312065299e-7,
          5.437978064610399e-7,
          5.409965874799419e-7,
          5.38271900170307e-7,
          5.356253782065371e-7,
          5.330584577262231e-7,
          5.305723730909919e-7,
          5.281681537615224e-7,
          5.258466223245357e-7,
          5.236083936923668e-7,
          5.21453872762386e-7,
          5.193832589112104e-7,
          5.173965513503378e-7,
          5.154935502433558e-7,
          5.13673861671416e-7,
          5.119369036197164e-7,
          5.102819129056567e-7,
          5.087079529554191e-7,
          5.072139223231498e-7,
          5.057985638360786e-7,
          5.044604757507657e-7,
          5.03198134563783e-7,
          5.020098763303096e-7,
          5.0089391887663e-7,
          4.998483748595528e-7,
          4.98871261932569e-7,
          4.979605126390162e-7,
          4.971139839314456e-7,
          4.963294667128163e-7,
          4.95604700296308e-7,
          4.949373689033911e-7,
          4.943251112114617e-7,
          4.937655301473775e-7,
          4.932561991911038e-7,
          4.927946682055065e-7,
          4.923784663517232e-7,
          4.920050930096205e-7,
          4.9167206057377e-7,
          4.913768803518046e-7,
          4.911170654509448e-7,
          4.908901360797698e-7,
          4.906936258235128e-7,
          4.90525087986197e-7,
          4.903821001970439e-7,
          4.902622736452824e-7,
          4.901632617831684e-7,
          4.900827708371657e-7,
          4.900185721575051e-7,
          4.899685065217555e-7,
          4.899305018972332e-7,
          4.899025882299874e-7
         ]
        },
        {
         "name": "u_p, R=0.7",
         "type": "scatter",
         "x": [
          0,
          0,
          0.005,
          0.01,
          0.015,
          0.02,
          0.025,
          0.030000000000000002,
          0.035,
          0.04,
          0.045,
          0.049999999999999996,
          0.05499999999999999,
          0.05999999999999999,
          0.06499999999999999,
          0.06999999999999999,
          0.075,
          0.08,
          0.085,
          0.09000000000000001,
          0.09500000000000001,
          0.10000000000000002,
          0.10500000000000002,
          0.11000000000000003,
          0.11500000000000003,
          0.12000000000000004,
          0.12500000000000003,
          0.13000000000000003,
          0.13500000000000004,
          0.14000000000000004,
          0.14500000000000005,
          0.15000000000000005,
          0.15500000000000005,
          0.16000000000000006,
          0.16500000000000006,
          0.17000000000000007,
          0.17500000000000007,
          0.18000000000000008,
          0.18500000000000008,
          0.19000000000000009,
          0.1950000000000001,
          0.2000000000000001,
          0.2050000000000001,
          0.2100000000000001,
          0.2150000000000001,
          0.2200000000000001,
          0.22500000000000012,
          0.23000000000000012,
          0.23500000000000013,
          0.24000000000000013,
          0.24500000000000013,
          0.2500000000000001,
          0.2550000000000001,
          0.2600000000000001,
          0.2650000000000001,
          0.27000000000000013,
          0.27500000000000013,
          0.28000000000000014,
          0.28500000000000014,
          0.29000000000000015,
          0.29500000000000015,
          0.30000000000000016,
          0.30500000000000016,
          0.31000000000000016,
          0.31500000000000017,
          0.3200000000000002,
          0.3250000000000002,
          0.3300000000000002,
          0.3350000000000002,
          0.3400000000000002,
          0.3450000000000002,
          0.3500000000000002,
          0.3550000000000002,
          0.3600000000000002,
          0.3650000000000002,
          0.3700000000000002,
          0.3750000000000002,
          0.3800000000000002,
          0.38500000000000023,
          0.39000000000000024,
          0.39500000000000024,
          0.40000000000000024,
          0.40500000000000025,
          0.41000000000000025,
          0.41500000000000026,
          0.42000000000000026,
          0.42500000000000027,
          0.43000000000000027,
          0.4350000000000003,
          0.4400000000000003,
          0.4450000000000003,
          0.4500000000000003,
          0.4550000000000003,
          0.4600000000000003,
          0.4650000000000003,
          0.4700000000000003,
          0.4750000000000003,
          0.4800000000000003,
          0.4850000000000003,
          0.4900000000000003,
          0.49500000000000033,
          0.5000000000000003,
          0.5050000000000003,
          0.5100000000000003,
          0.5150000000000003,
          0.5200000000000004,
          0.5250000000000004,
          0.5300000000000004,
          0.5350000000000004,
          0.5400000000000004,
          0.5450000000000004,
          0.5500000000000004,
          0.5550000000000004,
          0.5600000000000004,
          0.5650000000000004,
          0.5700000000000004,
          0.5750000000000004,
          0.5800000000000004,
          0.5850000000000004,
          0.5900000000000004,
          0.5950000000000004,
          0.6000000000000004,
          0.6050000000000004,
          0.6100000000000004,
          0.6150000000000004,
          0.6200000000000004,
          0.6250000000000004,
          0.6300000000000004,
          0.6350000000000005,
          0.6400000000000005,
          0.6450000000000005,
          0.6500000000000005,
          0.6550000000000005,
          0.6600000000000005,
          0.6650000000000005,
          0.6700000000000005,
          0.6750000000000005,
          0.6800000000000005,
          0.6850000000000005,
          0.6900000000000005,
          0.6950000000000005
         ],
         "y": [
          0.000002561696520395968,
          0.000002561696520395968,
          0.0000025616964945823527,
          0.000002561696107378172,
          0.0000025616944294937965,
          0.0000025616899121160272,
          0.0000025616803869178637,
          0.0000025616630660830592,
          0.000002561634542356428,
          0.000002561590789133921,
          0.0000025615271606096607,
          0.000002561438392000152,
          0.0000025613185998691254,
          0.0000025611612825794918,
          0.0000025609593209020595,
          0.000002560704978813756,
          0.0000025603899045211877,
          0.000002560005131748582,
          0.0000025595410813321225,
          0.000002558987563165911,
          0.0000025583337785478275,
          0.0000025575683229767174,
          0.0000025566791894553118,
          0.00000255565377235653,
          0.000002554478871913737,
          0.0000025531406993986727,
          0.0000025516248830538264,
          0.000002549916474848988,
          0.0000025479999581348392,
          0.000002545859256269314,
          0.000002543477742295577,
          0.0000025408382497532724,
          0.0000025379230847077076,
          0.0000025347140390844774,
          0.000002531192405399909,
          0.000002527338992980415,
          0.0000025231341457666945,
          0.0000025185577618012956,
          0.0000025135893145007324,
          0.0000025082078758158137,
          0.0000025023921413863103,
          0.0000024961204577984197,
          0.0000024893708520556183,
          0.00000248212106337568,
          0.000002474348577428414,
          0.0000024660306631305415,
          0.000002457144412115463,
          0.0000024476667809972336,
          0.000002437574636548768,
          0.0000024268448039152998,
          0.0000024154541179842645,
          0.00000240337947803295,
          0.000002390597905774588,
          0.000002377086606922795,
          0.000002362823036392491,
          0.0000023477849672534,
          0.0000023319505635491397,
          0.0000023152984570911517,
          0.00000229780782833197,
          0.0000022794584914163856,
          0.000002260230983502092,
          0.0000022401066584328514,
          0.000002219067784837143,
          0.0000021970976487135385,
          0.0000021741806605501306,
          0.0000021503024670093505,
          0.0000021254500671908616,
          0.000002099611933463793,
          0.0000020727781368349265,
          0.000002044940476791243,
          0.0000020160926155229315,
          0.0000019862302163962535,
          0.0000019553510865038713,
          0.000001923455323072843,
          0.0000018905454634568275,
          0.0000018566266383784706,
          0.0000018217067280195069,
          0.0000017857965204793059,
          0.0000017489098720360846,
          0.000001711063868548167,
          0.0000016722789872242526,
          0.0000016325792578705969,
          0.0000015919924225881136,
          0.000001550550092742339,
          0.0000015082879018629473,
          0.000001465245652945358,
          0.0000014214674584239652,
          0.000001377001870863318,
          0.0000013319020021688994,
          0.0000012862256288521891,
          0.0000012400352805946144,
          0.0000011933983090415031,
          0.000001146386933420324,
          0.0000010990782592182383,
          0.0000010515542657740776,
          0.000001003901758242161,
          9.562122789744349e-7,
          9.085819729497544e-7,
          8.611114014635055e-7,
          8.139052978893075e-7,
          7.670722589529752e-7,
          7.207243646376694e-7,
          6.749767195943245e-7,
          6.299469087958115e-7,
          5.857543601877626e-7,
          5.42519607303677e-7,
          5.003634452879818e-7,
          4.5940597458123365e-7,
          4.1976552775334987e-7,
          3.815574767244997e-7,
          3.4489292000442884e-7,
          3.098772527383154e-7,
          2.766086264101967e-7,
          2.4517631016816747e-7,
          2.156589720395376e-7,
          1.8812290592088755e-7,
          1.626202392389182e-7,
          1.391871665930581e-7,
          1.1784226640504618e-7,
          9.85849703370793e-8,
          8.139426847589036e-8,
          6.622774615709034e-8,
          5.302105952607983e-8,
          4.16879646584587e-8,
          3.212101682022703e-8,
          2.419304909105434e-8,
          1.7759519358821557e-8,
          1.2661777548345184e-8,
          8.731247057285766e-9,
          5.794433226190847e-9,
          3.6785676943124096e-9,
          2.217576320490705e-9,
          1.2579335092578647e-9,
          6.638611193319429e-10,
          3.212804164383286e-10,
          1.399727192377025e-10,
          5.3586214080656324e-11,
          1.7455027632250266e-11,
          4.629985263204347e-12,
          9.405068809312398e-13,
          1.3390252494470942e-13
         ]
        }
       ],
       "layout": {
        "legend": {
         "tracegroupgap": 0
        },
        "margin": {
         "t": 60
        },
        "template": {
         "data": {
          "bar": [
           {
            "error_x": {
             "color": "#2a3f5f"
            },
            "error_y": {
             "color": "#2a3f5f"
            },
            "marker": {
             "line": {
              "color": "#E5ECF6",
              "width": 0.5
             },
             "pattern": {
              "fillmode": "overlay",
              "size": 10,
              "solidity": 0.2
             }
            },
            "type": "bar"
           }
          ],
          "barpolar": [
           {
            "marker": {
             "line": {
              "color": "#E5ECF6",
              "width": 0.5
             },
             "pattern": {
              "fillmode": "overlay",
              "size": 10,
              "solidity": 0.2
             }
            },
            "type": "barpolar"
           }
          ],
          "carpet": [
           {
            "aaxis": {
             "endlinecolor": "#2a3f5f",
             "gridcolor": "white",
             "linecolor": "white",
             "minorgridcolor": "white",
             "startlinecolor": "#2a3f5f"
            },
            "baxis": {
             "endlinecolor": "#2a3f5f",
             "gridcolor": "white",
             "linecolor": "white",
             "minorgridcolor": "white",
             "startlinecolor": "#2a3f5f"
            },
            "type": "carpet"
           }
          ],
          "choropleth": [
           {
            "colorbar": {
             "outlinewidth": 0,
             "ticks": ""
            },
            "type": "choropleth"
           }
          ],
          "contour": [
           {
            "colorbar": {
             "outlinewidth": 0,
             "ticks": ""
            },
            "colorscale": [
             [
              0,
              "#0d0887"
             ],
             [
              0.1111111111111111,
              "#46039f"
             ],
             [
              0.2222222222222222,
              "#7201a8"
             ],
             [
              0.3333333333333333,
              "#9c179e"
             ],
             [
              0.4444444444444444,
              "#bd3786"
             ],
             [
              0.5555555555555556,
              "#d8576b"
             ],
             [
              0.6666666666666666,
              "#ed7953"
             ],
             [
              0.7777777777777778,
              "#fb9f3a"
             ],
             [
              0.8888888888888888,
              "#fdca26"
             ],
             [
              1,
              "#f0f921"
             ]
            ],
            "type": "contour"
           }
          ],
          "contourcarpet": [
           {
            "colorbar": {
             "outlinewidth": 0,
             "ticks": ""
            },
            "type": "contourcarpet"
           }
          ],
          "heatmap": [
           {
            "colorbar": {
             "outlinewidth": 0,
             "ticks": ""
            },
            "colorscale": [
             [
              0,
              "#0d0887"
             ],
             [
              0.1111111111111111,
              "#46039f"
             ],
             [
              0.2222222222222222,
              "#7201a8"
             ],
             [
              0.3333333333333333,
              "#9c179e"
             ],
             [
              0.4444444444444444,
              "#bd3786"
             ],
             [
              0.5555555555555556,
              "#d8576b"
             ],
             [
              0.6666666666666666,
              "#ed7953"
             ],
             [
              0.7777777777777778,
              "#fb9f3a"
             ],
             [
              0.8888888888888888,
              "#fdca26"
             ],
             [
              1,
              "#f0f921"
             ]
            ],
            "type": "heatmap"
           }
          ],
          "histogram": [
           {
            "marker": {
             "pattern": {
              "fillmode": "overlay",
              "size": 10,
              "solidity": 0.2
             }
            },
            "type": "histogram"
           }
          ],
          "histogram2d": [
           {
            "colorbar": {
             "outlinewidth": 0,
             "ticks": ""
            },
            "colorscale": [
             [
              0,
              "#0d0887"
             ],
             [
              0.1111111111111111,
              "#46039f"
             ],
             [
              0.2222222222222222,
              "#7201a8"
             ],
             [
              0.3333333333333333,
              "#9c179e"
             ],
             [
              0.4444444444444444,
              "#bd3786"
             ],
             [
              0.5555555555555556,
              "#d8576b"
             ],
             [
              0.6666666666666666,
              "#ed7953"
             ],
             [
              0.7777777777777778,
              "#fb9f3a"
             ],
             [
              0.8888888888888888,
              "#fdca26"
             ],
             [
              1,
              "#f0f921"
             ]
            ],
            "type": "histogram2d"
           }
          ],
          "histogram2dcontour": [
           {
            "colorbar": {
             "outlinewidth": 0,
             "ticks": ""
            },
            "colorscale": [
             [
              0,
              "#0d0887"
             ],
             [
              0.1111111111111111,
              "#46039f"
             ],
             [
              0.2222222222222222,
              "#7201a8"
             ],
             [
              0.3333333333333333,
              "#9c179e"
             ],
             [
              0.4444444444444444,
              "#bd3786"
             ],
             [
              0.5555555555555556,
              "#d8576b"
             ],
             [
              0.6666666666666666,
              "#ed7953"
             ],
             [
              0.7777777777777778,
              "#fb9f3a"
             ],
             [
              0.8888888888888888,
              "#fdca26"
             ],
             [
              1,
              "#f0f921"
             ]
            ],
            "type": "histogram2dcontour"
           }
          ],
          "mesh3d": [
           {
            "colorbar": {
             "outlinewidth": 0,
             "ticks": ""
            },
            "type": "mesh3d"
           }
          ],
          "parcoords": [
           {
            "line": {
             "colorbar": {
              "outlinewidth": 0,
              "ticks": ""
             }
            },
            "type": "parcoords"
           }
          ],
          "pie": [
           {
            "automargin": true,
            "type": "pie"
           }
          ],
          "scatter": [
           {
            "fillpattern": {
             "fillmode": "overlay",
             "size": 10,
             "solidity": 0.2
            },
            "type": "scatter"
           }
          ],
          "scatter3d": [
           {
            "line": {
             "colorbar": {
              "outlinewidth": 0,
              "ticks": ""
             }
            },
            "marker": {
             "colorbar": {
              "outlinewidth": 0,
              "ticks": ""
             }
            },
            "type": "scatter3d"
           }
          ],
          "scattercarpet": [
           {
            "marker": {
             "colorbar": {
              "outlinewidth": 0,
              "ticks": ""
             }
            },
            "type": "scattercarpet"
           }
          ],
          "scattergeo": [
           {
            "marker": {
             "colorbar": {
              "outlinewidth": 0,
              "ticks": ""
             }
            },
            "type": "scattergeo"
           }
          ],
          "scattergl": [
           {
            "marker": {
             "colorbar": {
              "outlinewidth": 0,
              "ticks": ""
             }
            },
            "type": "scattergl"
           }
          ],
          "scattermap": [
           {
            "marker": {
             "colorbar": {
              "outlinewidth": 0,
              "ticks": ""
             }
            },
            "type": "scattermap"
           }
          ],
          "scattermapbox": [
           {
            "marker": {
             "colorbar": {
              "outlinewidth": 0,
              "ticks": ""
             }
            },
            "type": "scattermapbox"
           }
          ],
          "scatterpolar": [
           {
            "marker": {
             "colorbar": {
              "outlinewidth": 0,
              "ticks": ""
             }
            },
            "type": "scatterpolar"
           }
          ],
          "scatterpolargl": [
           {
            "marker": {
             "colorbar": {
              "outlinewidth": 0,
              "ticks": ""
             }
            },
            "type": "scatterpolargl"
           }
          ],
          "scatterternary": [
           {
            "marker": {
             "colorbar": {
              "outlinewidth": 0,
              "ticks": ""
             }
            },
            "type": "scatterternary"
           }
          ],
          "surface": [
           {
            "colorbar": {
             "outlinewidth": 0,
             "ticks": ""
            },
            "colorscale": [
             [
              0,
              "#0d0887"
             ],
             [
              0.1111111111111111,
              "#46039f"
             ],
             [
              0.2222222222222222,
              "#7201a8"
             ],
             [
              0.3333333333333333,
              "#9c179e"
             ],
             [
              0.4444444444444444,
              "#bd3786"
             ],
             [
              0.5555555555555556,
              "#d8576b"
             ],
             [
              0.6666666666666666,
              "#ed7953"
             ],
             [
              0.7777777777777778,
              "#fb9f3a"
             ],
             [
              0.8888888888888888,
              "#fdca26"
             ],
             [
              1,
              "#f0f921"
             ]
            ],
            "type": "surface"
           }
          ],
          "table": [
           {
            "cells": {
             "fill": {
              "color": "#EBF0F8"
             },
             "line": {
              "color": "white"
             }
            },
            "header": {
             "fill": {
              "color": "#C8D4E3"
             },
             "line": {
              "color": "white"
             }
            },
            "type": "table"
           }
          ]
         },
         "layout": {
          "annotationdefaults": {
           "arrowcolor": "#2a3f5f",
           "arrowhead": 0,
           "arrowwidth": 1
          },
          "autotypenumbers": "strict",
          "coloraxis": {
           "colorbar": {
            "outlinewidth": 0,
            "ticks": ""
           }
          },
          "colorscale": {
           "diverging": [
            [
             0,
             "#8e0152"
            ],
            [
             0.1,
             "#c51b7d"
            ],
            [
             0.2,
             "#de77ae"
            ],
            [
             0.3,
             "#f1b6da"
            ],
            [
             0.4,
             "#fde0ef"
            ],
            [
             0.5,
             "#f7f7f7"
            ],
            [
             0.6,
             "#e6f5d0"
            ],
            [
             0.7,
             "#b8e186"
            ],
            [
             0.8,
             "#7fbc41"
            ],
            [
             0.9,
             "#4d9221"
            ],
            [
             1,
             "#276419"
            ]
           ],
           "sequential": [
            [
             0,
             "#0d0887"
            ],
            [
             0.1111111111111111,
             "#46039f"
            ],
            [
             0.2222222222222222,
             "#7201a8"
            ],
            [
             0.3333333333333333,
             "#9c179e"
            ],
            [
             0.4444444444444444,
             "#bd3786"
            ],
            [
             0.5555555555555556,
             "#d8576b"
            ],
            [
             0.6666666666666666,
             "#ed7953"
            ],
            [
             0.7777777777777778,
             "#fb9f3a"
            ],
            [
             0.8888888888888888,
             "#fdca26"
            ],
            [
             1,
             "#f0f921"
            ]
           ],
           "sequentialminus": [
            [
             0,
             "#0d0887"
            ],
            [
             0.1111111111111111,
             "#46039f"
            ],
            [
             0.2222222222222222,
             "#7201a8"
            ],
            [
             0.3333333333333333,
             "#9c179e"
            ],
            [
             0.4444444444444444,
             "#bd3786"
            ],
            [
             0.5555555555555556,
             "#d8576b"
            ],
            [
             0.6666666666666666,
             "#ed7953"
            ],
            [
             0.7777777777777778,
             "#fb9f3a"
            ],
            [
             0.8888888888888888,
             "#fdca26"
            ],
            [
             1,
             "#f0f921"
            ]
           ]
          },
          "colorway": [
           "#636efa",
           "#EF553B",
           "#00cc96",
           "#ab63fa",
           "#FFA15A",
           "#19d3f3",
           "#FF6692",
           "#B6E880",
           "#FF97FF",
           "#FECB52"
          ],
          "font": {
           "color": "#2a3f5f"
          },
          "geo": {
           "bgcolor": "white",
           "lakecolor": "white",
           "landcolor": "#E5ECF6",
           "showlakes": true,
           "showland": true,
           "subunitcolor": "white"
          },
          "hoverlabel": {
           "align": "left"
          },
          "hovermode": "closest",
          "mapbox": {
           "style": "light"
          },
          "paper_bgcolor": "white",
          "plot_bgcolor": "#E5ECF6",
          "polar": {
           "angularaxis": {
            "gridcolor": "white",
            "linecolor": "white",
            "ticks": ""
           },
           "bgcolor": "#E5ECF6",
           "radialaxis": {
            "gridcolor": "white",
            "linecolor": "white",
            "ticks": ""
           }
          },
          "scene": {
           "xaxis": {
            "backgroundcolor": "#E5ECF6",
            "gridcolor": "white",
            "gridwidth": 2,
            "linecolor": "white",
            "showbackground": true,
            "ticks": "",
            "zerolinecolor": "white"
           },
           "yaxis": {
            "backgroundcolor": "#E5ECF6",
            "gridcolor": "white",
            "gridwidth": 2,
            "linecolor": "white",
            "showbackground": true,
            "ticks": "",
            "zerolinecolor": "white"
           },
           "zaxis": {
            "backgroundcolor": "#E5ECF6",
            "gridcolor": "white",
            "gridwidth": 2,
            "linecolor": "white",
            "showbackground": true,
            "ticks": "",
            "zerolinecolor": "white"
           }
          },
          "shapedefaults": {
           "line": {
            "color": "#2a3f5f"
           }
          },
          "ternary": {
           "aaxis": {
            "gridcolor": "white",
            "linecolor": "white",
            "ticks": ""
           },
           "baxis": {
            "gridcolor": "white",
            "linecolor": "white",
            "ticks": ""
           },
           "bgcolor": "#E5ECF6",
           "caxis": {
            "gridcolor": "white",
            "linecolor": "white",
            "ticks": ""
           }
          },
          "title": {
           "x": 0.05
          },
          "xaxis": {
           "automargin": true,
           "gridcolor": "white",
           "linecolor": "white",
           "ticks": "",
           "title": {
            "standoff": 15
           },
           "zerolinecolor": "white",
           "zerolinewidth": 2
          },
          "yaxis": {
           "automargin": true,
           "gridcolor": "white",
           "linecolor": "white",
           "ticks": "",
           "title": {
            "standoff": 15
           },
           "zerolinecolor": "white",
           "zerolinewidth": 2
          }
         }
        },
        "xaxis": {
         "anchor": "y",
         "domain": [
          0,
          1
         ]
        },
        "yaxis": {
         "anchor": "x",
         "domain": [
          0,
          1
         ]
        }
       }
      }
     },
     "metadata": {},
     "output_type": "display_data"
    },
    {
     "name": "stdout",
     "output_type": "stream",
     "text": [
      "Rs: 1, lambda: 0.4190704345703125\n"
     ]
    },
    {
     "data": {
      "application/vnd.plotly.v1+json": {
       "config": {
        "plotlyServerURL": "https://plot.ly"
       },
       "data": [
        {
         "hovertemplate": "<extra></extra>",
         "legendgroup": "",
         "line": {
          "color": "#636efa",
          "dash": "solid"
         },
         "marker": {
          "symbol": "circle"
         },
         "mode": "lines",
         "name": "",
         "orientation": "v",
         "showlegend": false,
         "type": "scatter",
         "xaxis": "x",
         "yaxis": "y"
        },
        {
         "name": "u, R=1",
         "type": "scatter",
         "x": [
          0,
          0,
          0.005,
          0.01,
          0.015,
          0.02,
          0.025,
          0.030000000000000002,
          0.035,
          0.04,
          0.045,
          0.049999999999999996,
          0.05499999999999999,
          0.05999999999999999,
          0.06499999999999999,
          0.06999999999999999,
          0.075,
          0.08,
          0.085,
          0.09000000000000001,
          0.09500000000000001,
          0.10000000000000002,
          0.10500000000000002,
          0.11000000000000003,
          0.11500000000000003,
          0.12000000000000004,
          0.12500000000000003,
          0.13000000000000003,
          0.13500000000000004,
          0.14000000000000004,
          0.14500000000000005,
          0.15000000000000005,
          0.15500000000000005,
          0.16000000000000006,
          0.16500000000000006,
          0.17000000000000007,
          0.17500000000000007,
          0.18000000000000008,
          0.18500000000000008,
          0.19000000000000009,
          0.1950000000000001,
          0.2000000000000001,
          0.2050000000000001,
          0.2100000000000001,
          0.2150000000000001,
          0.2200000000000001,
          0.22500000000000012,
          0.23000000000000012,
          0.23500000000000013,
          0.24000000000000013,
          0.24500000000000013,
          0.2500000000000001,
          0.2550000000000001,
          0.2600000000000001,
          0.2650000000000001,
          0.27000000000000013,
          0.27500000000000013,
          0.28000000000000014,
          0.28500000000000014,
          0.29000000000000015,
          0.29500000000000015,
          0.30000000000000016,
          0.30500000000000016,
          0.31000000000000016,
          0.31500000000000017,
          0.3200000000000002,
          0.3250000000000002,
          0.3300000000000002,
          0.3350000000000002,
          0.3400000000000002,
          0.3450000000000002,
          0.3500000000000002,
          0.3550000000000002,
          0.3600000000000002,
          0.3650000000000002,
          0.3700000000000002,
          0.3750000000000002,
          0.3800000000000002,
          0.38500000000000023,
          0.39000000000000024,
          0.39500000000000024,
          0.40000000000000024,
          0.40500000000000025,
          0.41000000000000025,
          0.41500000000000026,
          0.42000000000000026,
          0.42500000000000027,
          0.43000000000000027,
          0.4350000000000003,
          0.4400000000000003,
          0.4450000000000003,
          0.4500000000000003,
          0.4550000000000003,
          0.4600000000000003,
          0.4650000000000003,
          0.4700000000000003,
          0.4750000000000003,
          0.4800000000000003,
          0.4850000000000003,
          0.4900000000000003,
          0.49500000000000033,
          0.5000000000000003,
          0.5050000000000003,
          0.5100000000000003,
          0.5150000000000003,
          0.5200000000000004,
          0.5250000000000004,
          0.5300000000000004,
          0.5350000000000004,
          0.5400000000000004,
          0.5450000000000004,
          0.5500000000000004,
          0.5550000000000004,
          0.5600000000000004,
          0.5650000000000004,
          0.5700000000000004,
          0.5750000000000004,
          0.5800000000000004,
          0.5850000000000004,
          0.5900000000000004,
          0.5950000000000004,
          0.6000000000000004,
          0.6050000000000004,
          0.6100000000000004,
          0.6150000000000004,
          0.6200000000000004,
          0.6250000000000004,
          0.6300000000000004,
          0.6350000000000005,
          0.6400000000000005,
          0.6450000000000005,
          0.6500000000000005,
          0.6550000000000005,
          0.6600000000000005,
          0.6650000000000005,
          0.6700000000000005,
          0.6750000000000005,
          0.6800000000000005,
          0.6850000000000005,
          0.6900000000000005,
          0.6950000000000005,
          0.7000000000000005,
          0.7050000000000005,
          0.7100000000000005,
          0.7150000000000005,
          0.7200000000000005,
          0.7250000000000005,
          0.7300000000000005,
          0.7350000000000005,
          0.7400000000000005,
          0.7450000000000006,
          0.7500000000000006,
          0.7550000000000006,
          0.7600000000000006,
          0.7650000000000006,
          0.7700000000000006,
          0.7750000000000006,
          0.7800000000000006,
          0.7850000000000006,
          0.7900000000000006,
          0.7950000000000006,
          0.8000000000000006,
          0.8050000000000006,
          0.8100000000000006,
          0.8150000000000006,
          0.8200000000000006,
          0.8250000000000006,
          0.8300000000000006,
          0.8350000000000006,
          0.8400000000000006,
          0.8450000000000006,
          0.8500000000000006,
          0.8550000000000006,
          0.8600000000000007,
          0.8650000000000007,
          0.8700000000000007,
          0.8750000000000007,
          0.8800000000000007,
          0.8850000000000007,
          0.8900000000000007,
          0.8950000000000007,
          0.9000000000000007,
          0.9050000000000007,
          0.9100000000000007,
          0.9150000000000007,
          0.9200000000000007,
          0.9250000000000007,
          0.9300000000000007,
          0.9350000000000007,
          0.9400000000000007,
          0.9450000000000007,
          0.9500000000000007,
          0.9550000000000007,
          0.9600000000000007,
          0.9650000000000007,
          0.9700000000000008,
          0.9750000000000008,
          0.9800000000000008,
          0.9850000000000008,
          0.9900000000000008,
          0.9950000000000008
         ],
         "y": [
          0.0000010735312740395957,
          0.0000010735019581543962,
          0.0000010734140089072821,
          0.000001073267421079136,
          0.0000010730621860739142,
          0.000001072798291942748,
          0.0000010724757234650914,
          0.0000010720944622548526,
          0.0000010716544868904293,
          0.0000010711557730685434,
          0.0000010705982937818906,
          0.0000010699820195206528,
          0.0000010693069184979236,
          0.0000010685729568991108,
          0.0000010677800991553737,
          0.0000010669283082411629,
          0.0000010660175459959236,
          0.0000010650477734700255,
          0.0000010640189512949772,
          0.0000010629310400779785,
          0.0000010617840008208562,
          0.0000010605777953634227,
          0.0000010593123868512817,
          0.0000010579877402280942,
          0.0000010566038227523049,
          0.0000010551606045383048,
          0.000001053658059121991,
          0.0000010520961640506595,
          0.000001050474901497139,
          0.000001048794258898047,
          0.0000010470542296160163,
          0.0000010452548136257052,
          0.0000010433960182233653,
          0.0000010414778587597005,
          0.0000010395003593957038,
          0.0000010374635538811125,
          0.0000010353674863550653,
          0.000001033212212168494,
          0.0000010309977987277207,
          0.000001028724326358664,
          0.0000010263918891909976,
          0.0000010240005960615284,
          0.000001021550571435985,
          0.000001019041956348334,
          0.0000010164749093566528,
          0.0000010138496075145035,
          0.0000010111662473566625,
          0.000001008425045897965,
          0.000001005626241643925,
          0.0000010027700956116906,
          9.998568923597926e-7,
          9.968869410250303e-7,
          9.938605763647318e-7,
          9.9077815980251e-7,
          9.876400804755226e-7,
          9.8444675628112e-7,
          9.811986349206477e-7,
          9.77896194938049e-7,
          9.745399467507852e-7,
          9.71130433670473e-7,
          9.676682329105048e-7,
          9.64153956577804e-7,
          9.60588252645734e-7,
          9.569718059050621e-7,
          9.533053388897585e-7,
          9.495896127742895e-7,
          9.458254282389533e-7,
          9.42013626299692e-7,
          9.381550890987111e-7,
          9.342507406521341e-7,
          9.303015475508291e-7,
          9.26308519610456e-7,
          9.222727104667048e-7,
          9.181952181116304e-7,
          9.140771853669263e-7,
          9.099198002899376e-7,
          9.057242965081772e-7,
          9.014919534780901e-7,
          8.972240966638043e-7,
          8.929220976316193e-7,
          8.885873740560081e-7,
          8.842213896329569e-7,
          8.798256538965305e-7,
          8.754017219346381e-7,
          8.70951194000081e-7,
          8.66475715013093e-7,
          8.619769739517393e-7,
          8.574567031267174e-7,
          8.529166773373068e-7,
          8.483587129054449e-7,
          8.437846665851647e-7,
          8.391964343449132e-7,
          8.345959500205845e-7,
          8.29985183837443e-7,
          8.253661407994832e-7,
          8.207408589451737e-7,
          8.161114074689601e-7,
          8.114798847083628e-7,
          8.068484159969887e-7,
          8.022191513842925e-7,
          7.975942632234618e-7,
          7.929759436293689e-7,
          7.883664018091204e-7,
          7.837678612683508e-7,
          7.79182556897039e-7,
          7.746127319392782e-7,
          7.700606348520991e-7,
          7.655285160591255e-7,
          7.610186246055324e-7,
          7.565332047214742e-7,
          7.520744923018477e-7,
          7.476447113109545e-7,
          7.432460701213177e-7,
          7.38880757796587e-7,
          7.345509403291331e-7,
          7.302587568435746e-7,
          7.260063157780954e-7,
          7.217956910559981e-7,
          7.176289182604814e-7,
          7.13507990704248e-7,
          7.094348507715088e-7,
          7.054113922142187e-7,
          7.014394594582851e-7,
          6.975208400218772e-7,
          6.936572610067294e-7,
          6.89850385694232e-7,
          6.86101810261517e-7,
          6.824130606326672e-7,
          6.787855894799946e-7,
          6.752207733900504e-7,
          6.717199102086353e-7,
          6.682842165785782e-7,
          6.649148256834306e-7,
          6.616127852094939e-7,
          6.583790555377442e-7,
          6.55214508176257e-7,
          6.521199244426471e-7,
          6.490959944048504e-7,
          6.461433160872683e-7,
          6.432623949478874e-7,
          6.404536436304897e-7,
          6.37717381994469e-7,
          6.350538367286229e-7,
          6.32463139733269e-7,
          6.299453352695871e-7,
          6.27500378040554e-7,
          6.25128134254287e-7,
          6.228283832742454e-7,
          6.20600819515095e-7,
          6.184450545723431e-7,
          6.163606195720872e-7,
          6.143469677255369e-7,
          6.124034770713845e-7,
          6.105294533876414e-7,
          6.087241332532386e-7,
          6.06986687238554e-7,
          6.053162232030742e-7,
          6.037117910897168e-7,
          6.021723975341371e-7,
          6.00696983437571e-7,
          5.992844391905609e-7,
          5.979336097626097e-7,
          5.966432981641554e-7,
          5.954122688567882e-7,
          5.942392510914728e-7,
          5.931229421560397e-7,
          5.920620105149912e-7,
          5.910550988267272e-7,
          5.901008268255972e-7,
          5.891977971073414e-7,
          5.883445966041075e-7,
          5.875397916600278e-7,
          5.867819354552604e-7,
          5.860695703860316e-7,
          5.854012300252077e-7,
          5.847754409381281e-7,
          5.841907243642419e-7,
          5.836455977778255e-7,
          5.831385757287258e-7,
          5.826681597618507e-7,
          5.822328588763862e-7,
          5.818311915636817e-7,
          5.814616790922868e-7,
          5.811228467378628e-7,
          5.808132250376963e-7,
          5.805313510937454e-7,
          5.802757699477937e-7,
          5.800450367792984e-7,
          5.798377179190484e-7,
          5.79652391294664e-7,
          5.794876494135628e-7,
          5.793421014592744e-7,
          5.792143755405095e-7,
          5.791031211469339e-7,
          5.790070124890529e-7,
          5.789247534088604e-7,
          5.788550738354359e-7,
          5.787967369476931e-7,
          5.787485432355464e-7,
          5.787093344533546e-7,
          5.786779978561246e-7
         ]
        },
        {
         "name": "u_p, R=1",
         "type": "scatter",
         "x": [
          0,
          0,
          0.005,
          0.01,
          0.015,
          0.02,
          0.025,
          0.030000000000000002,
          0.035,
          0.04,
          0.045,
          0.049999999999999996,
          0.05499999999999999,
          0.05999999999999999,
          0.06499999999999999,
          0.06999999999999999,
          0.075,
          0.08,
          0.085,
          0.09000000000000001,
          0.09500000000000001,
          0.10000000000000002,
          0.10500000000000002,
          0.11000000000000003,
          0.11500000000000003,
          0.12000000000000004,
          0.12500000000000003,
          0.13000000000000003,
          0.13500000000000004,
          0.14000000000000004,
          0.14500000000000005,
          0.15000000000000005,
          0.15500000000000005,
          0.16000000000000006,
          0.16500000000000006,
          0.17000000000000007,
          0.17500000000000007,
          0.18000000000000008,
          0.18500000000000008,
          0.19000000000000009,
          0.1950000000000001,
          0.2000000000000001,
          0.2050000000000001,
          0.2100000000000001,
          0.2150000000000001,
          0.2200000000000001,
          0.22500000000000012,
          0.23000000000000012,
          0.23500000000000013,
          0.24000000000000013,
          0.24500000000000013,
          0.2500000000000001,
          0.2550000000000001,
          0.2600000000000001,
          0.2650000000000001,
          0.27000000000000013,
          0.27500000000000013,
          0.28000000000000014,
          0.28500000000000014,
          0.29000000000000015,
          0.29500000000000015,
          0.30000000000000016,
          0.30500000000000016,
          0.31000000000000016,
          0.31500000000000017,
          0.3200000000000002,
          0.3250000000000002,
          0.3300000000000002,
          0.3350000000000002,
          0.3400000000000002,
          0.3450000000000002,
          0.3500000000000002,
          0.3550000000000002,
          0.3600000000000002,
          0.3650000000000002,
          0.3700000000000002,
          0.3750000000000002,
          0.3800000000000002,
          0.38500000000000023,
          0.39000000000000024,
          0.39500000000000024,
          0.40000000000000024,
          0.40500000000000025,
          0.41000000000000025,
          0.41500000000000026,
          0.42000000000000026,
          0.42500000000000027,
          0.43000000000000027,
          0.4350000000000003,
          0.4400000000000003,
          0.4450000000000003,
          0.4500000000000003,
          0.4550000000000003,
          0.4600000000000003,
          0.4650000000000003,
          0.4700000000000003,
          0.4750000000000003,
          0.4800000000000003,
          0.4850000000000003,
          0.4900000000000003,
          0.49500000000000033,
          0.5000000000000003,
          0.5050000000000003,
          0.5100000000000003,
          0.5150000000000003,
          0.5200000000000004,
          0.5250000000000004,
          0.5300000000000004,
          0.5350000000000004,
          0.5400000000000004,
          0.5450000000000004,
          0.5500000000000004,
          0.5550000000000004,
          0.5600000000000004,
          0.5650000000000004,
          0.5700000000000004,
          0.5750000000000004,
          0.5800000000000004,
          0.5850000000000004,
          0.5900000000000004,
          0.5950000000000004,
          0.6000000000000004,
          0.6050000000000004,
          0.6100000000000004,
          0.6150000000000004,
          0.6200000000000004,
          0.6250000000000004,
          0.6300000000000004,
          0.6350000000000005,
          0.6400000000000005,
          0.6450000000000005,
          0.6500000000000005,
          0.6550000000000005,
          0.6600000000000005,
          0.6650000000000005,
          0.6700000000000005,
          0.6750000000000005,
          0.6800000000000005,
          0.6850000000000005,
          0.6900000000000005,
          0.6950000000000005,
          0.7000000000000005,
          0.7050000000000005,
          0.7100000000000005,
          0.7150000000000005,
          0.7200000000000005,
          0.7250000000000005,
          0.7300000000000005,
          0.7350000000000005,
          0.7400000000000005,
          0.7450000000000006,
          0.7500000000000006,
          0.7550000000000006,
          0.7600000000000006,
          0.7650000000000006,
          0.7700000000000006,
          0.7750000000000006,
          0.7800000000000006,
          0.7850000000000006,
          0.7900000000000006,
          0.7950000000000006,
          0.8000000000000006,
          0.8050000000000006,
          0.8100000000000006,
          0.8150000000000006,
          0.8200000000000006,
          0.8250000000000006,
          0.8300000000000006,
          0.8350000000000006,
          0.8400000000000006,
          0.8450000000000006,
          0.8500000000000006,
          0.8550000000000006,
          0.8600000000000007,
          0.8650000000000007,
          0.8700000000000007,
          0.8750000000000007,
          0.8800000000000007,
          0.8850000000000007,
          0.8900000000000007,
          0.8950000000000007,
          0.9000000000000007,
          0.9050000000000007,
          0.9100000000000007,
          0.9150000000000007,
          0.9200000000000007,
          0.9250000000000007,
          0.9300000000000007,
          0.9350000000000007,
          0.9400000000000007,
          0.9450000000000007,
          0.9500000000000007,
          0.9550000000000007,
          0.9600000000000007,
          0.9650000000000007,
          0.9700000000000008,
          0.9750000000000008,
          0.9800000000000008,
          0.9850000000000008,
          0.9900000000000008,
          0.9950000000000008
         ],
         "y": [
          0.000002561696520395968,
          0.000002561696520395968,
          0.000002561696514198119,
          0.0000025616964212303913,
          0.0000025616960183702615,
          0.0000025616949337470273,
          0.000002561692646742362,
          0.0000025616884879917276,
          0.000002561681639387291,
          0.0000025616711340831054,
          0.0000025616558565035805,
          0.000002561634542356428,
          0.0000025616057786513583,
          0.0000025615680037261713,
          0.0000025615195072818215,
          0.0000025614584304284387,
          0.000002561382765744358,
          0.0000025612903573503455,
          0.000002561178901001541,
          0.0000025610459441996435,
          0.0000025608888863281745,
          0.000002560704978813756,
          0.0000025604913253165892,
          0.0000025602448819534094,
          0.0000025599624575564495,
          0.0000025596407139720938,
          0.0000025592761664030906,
          0.000002558865183798332,
          0.000002558403989294464,
          0.0000025578886607137037,
          0.00000255731513112243,
          0.0000025566791894553118,
          0.000002555976481209908,
          0.00000255520250921685,
          0.0000025543526344908695,
          0.0000025534220771681393,
          0.000002552405917535599,
          0.000002551299097157996,
          0.0000025500964201087227,
          0.0000025487925543105066,
          0.000002547382032992375,
          0.000002545859256269314,
          0.000002544218492851355,
          0.0000025424538818888913,
          0.0000025405594349612247,
          0.0000025385290382155517,
          0.000002536356454663695,
          0.0000025340353266440786,
          0.000002531559178456649,
          0.0000025289214191784693,
          0.0000025261153456680857,
          0.0000025231341457666945,
          0.000002519970901704417,
          0.0000025166185937201412,
          0.000002513070103903445,
          0.0000025093182202673684,
          0.000002505355641060838,
          0.0000025011749793297375,
          0.000002496768767735748,
          0.000002492129463642142,
          0.000002487249454475916,
          0.00000248212106337568,
          0.000002476736555134853,
          0.000002471088142449855,
          0.000002465167992482954,
          0.0000024589682337496084,
          0.000002452480963340168,
          0.000002445698254485856,
          0.0000024386121644789636,
          0.000002431214742957291,
          0.000002423498040562758,
          0.0000024154541179842645,
          0.0000024070750553946767,
          0.000002398352962291927,
          0.0000023892799877540597,
          0.0000023798483311179724,
          0.0000023700502530915556,
          0.000002359878087308673,
          0.0000023493242523363877,
          0.0000023383812641434918,
          0.000002327041749039289,
          0.0000023152984570911517,
          0.000002303144276029194,
          0.0000022905722456458806,
          0.0000022775755726980804,
          0.0000022641476463185016,
          0.000002250282053942959,
          0.0000022359725977592523,
          0.000002221213311682776,
          0.0000022059984788632383,
          0.0000021903226497259347,
          0.0000021741806605501306,
          0.0000021575676525860505,
          0.0000021404790917107794,
          0.000002122910788622095,
          0.0000021048589195678984,
          0.0000020863200476072153,
          0.0000020672911443972175,
          0.000002047769612498634,
          0.0000020277533081900203,
          0.0000020072405647790118,
          0.0000019862302163962535,
          0.000001964721622255009,
          0.000001942714691356483,
          0.0000019202099076177584,
          0.000001897208355395662,
          0.0000018737117453761865,
          0.0000018497224407948747,
          0.0000018252434839491927,
          0.0000018002786229589564,
          0.0000017748323387256905,
          0.0000017489098720360846,
          0.0000017225172507484831,
          0.0000016956613169947434,
          0.0000016683497543226006,
          0.0000016405911146958204,
          0.0000016123948452611924,
          0.000001583771314782294,
          0.0000015547318396303428,
          0.0000015252887092120603,
          0.0000014954552107033036,
          0.000001465245652945358,
          0.000001434675389347964,
          0.0000014037608396296605,
          0.0000013725195102114582,
          0.0000013409700130645387,
          0.000001309132082796317,
          0.0000012770265917419873,
          0.0000012446755628104125,
          0.000001212102179814107,
          0.000001179330794992956,
          0.000001146386933420324,
          0.0000011132972939584311,
          0.0000010800897464072358,
          0.0000010467933244678887,
          0.0000010134382141180368,
          9.800557369721654e-7,
          9.466783281759875e-7,
          9.133395083598597e-7,
          8.800738491526492e-7,
          8.469169317349424e-7,
          8.139052978893075e-7,
          7.810763929861914e-7,
          7.484685003276866e-7,
          7.161206662586071e-7,
          6.840726154460888e-7,
          6.523646557264368e-7,
          6.21037571922491e-7,
          5.90132508047861e-7,
          5.596908373378444e-7,
          5.297540195825427e-7,
          5.003634452879818e-7,
          4.715602662583951e-7,
          4.4338521228007176e-7,
          4.158783936973695e-7,
          3.890790898080874e-7,
          3.630255231719729e-7,
          3.3775462012665334e-7,
          3.1330175804373364e-7,
          2.8970050013837026e-7,
          2.6698231897242793e-7,
          2.4517631016816747e-7,
          2.243088982797871e-7,
          2.0440353725660535e-7,
          1.8548040847573186e-7,
          1.6755611992338974e-7,
          1.5064341076007333e-7,
          1.347508662096342e-7,
          1.1988264845637596e-7,
          1.0603825000225127e-7,
          9.321227670677138e-8,
          8.139426847589036e-8,
          7.056856624407562e-8,
          6.07142344563293e-8,
          5.180504864202206e-8,
          4.380955780462977e-8,
          3.6691231141655625e-8,
          3.0408697954942374e-8,
          2.491608840030984e-8,
          2.016348083820416e-8,
          1.6097458867238725e-8,
          1.2661777548345184e-8,
          9.798133789554147e-9,
          7.447030347967208e-9,
          5.548716491897601e-9,
          4.0441812529847245e-9,
          2.8761677512608107e-9,
          1.990169865542709e-9,
          1.335366347876167e-9,
          8.654433759069801e-10,
          5.39255716519072e-10,
          3.212804164383286e-10,
          1.8182636308338922e-10,
          9.697880534093833e-11,
          4.827970331174396e-11,
          2.217092536266788e-11,
          9.254460206483949e-12,
          3.4469336838202493e-12,
          1.1188600834416835e-12,
          3.0696030404454934e-13,
          6.835823618491872e-14
         ]
        }
       ],
       "layout": {
        "legend": {
         "tracegroupgap": 0
        },
        "margin": {
         "t": 60
        },
        "template": {
         "data": {
          "bar": [
           {
            "error_x": {
             "color": "#2a3f5f"
            },
            "error_y": {
             "color": "#2a3f5f"
            },
            "marker": {
             "line": {
              "color": "#E5ECF6",
              "width": 0.5
             },
             "pattern": {
              "fillmode": "overlay",
              "size": 10,
              "solidity": 0.2
             }
            },
            "type": "bar"
           }
          ],
          "barpolar": [
           {
            "marker": {
             "line": {
              "color": "#E5ECF6",
              "width": 0.5
             },
             "pattern": {
              "fillmode": "overlay",
              "size": 10,
              "solidity": 0.2
             }
            },
            "type": "barpolar"
           }
          ],
          "carpet": [
           {
            "aaxis": {
             "endlinecolor": "#2a3f5f",
             "gridcolor": "white",
             "linecolor": "white",
             "minorgridcolor": "white",
             "startlinecolor": "#2a3f5f"
            },
            "baxis": {
             "endlinecolor": "#2a3f5f",
             "gridcolor": "white",
             "linecolor": "white",
             "minorgridcolor": "white",
             "startlinecolor": "#2a3f5f"
            },
            "type": "carpet"
           }
          ],
          "choropleth": [
           {
            "colorbar": {
             "outlinewidth": 0,
             "ticks": ""
            },
            "type": "choropleth"
           }
          ],
          "contour": [
           {
            "colorbar": {
             "outlinewidth": 0,
             "ticks": ""
            },
            "colorscale": [
             [
              0,
              "#0d0887"
             ],
             [
              0.1111111111111111,
              "#46039f"
             ],
             [
              0.2222222222222222,
              "#7201a8"
             ],
             [
              0.3333333333333333,
              "#9c179e"
             ],
             [
              0.4444444444444444,
              "#bd3786"
             ],
             [
              0.5555555555555556,
              "#d8576b"
             ],
             [
              0.6666666666666666,
              "#ed7953"
             ],
             [
              0.7777777777777778,
              "#fb9f3a"
             ],
             [
              0.8888888888888888,
              "#fdca26"
             ],
             [
              1,
              "#f0f921"
             ]
            ],
            "type": "contour"
           }
          ],
          "contourcarpet": [
           {
            "colorbar": {
             "outlinewidth": 0,
             "ticks": ""
            },
            "type": "contourcarpet"
           }
          ],
          "heatmap": [
           {
            "colorbar": {
             "outlinewidth": 0,
             "ticks": ""
            },
            "colorscale": [
             [
              0,
              "#0d0887"
             ],
             [
              0.1111111111111111,
              "#46039f"
             ],
             [
              0.2222222222222222,
              "#7201a8"
             ],
             [
              0.3333333333333333,
              "#9c179e"
             ],
             [
              0.4444444444444444,
              "#bd3786"
             ],
             [
              0.5555555555555556,
              "#d8576b"
             ],
             [
              0.6666666666666666,
              "#ed7953"
             ],
             [
              0.7777777777777778,
              "#fb9f3a"
             ],
             [
              0.8888888888888888,
              "#fdca26"
             ],
             [
              1,
              "#f0f921"
             ]
            ],
            "type": "heatmap"
           }
          ],
          "histogram": [
           {
            "marker": {
             "pattern": {
              "fillmode": "overlay",
              "size": 10,
              "solidity": 0.2
             }
            },
            "type": "histogram"
           }
          ],
          "histogram2d": [
           {
            "colorbar": {
             "outlinewidth": 0,
             "ticks": ""
            },
            "colorscale": [
             [
              0,
              "#0d0887"
             ],
             [
              0.1111111111111111,
              "#46039f"
             ],
             [
              0.2222222222222222,
              "#7201a8"
             ],
             [
              0.3333333333333333,
              "#9c179e"
             ],
             [
              0.4444444444444444,
              "#bd3786"
             ],
             [
              0.5555555555555556,
              "#d8576b"
             ],
             [
              0.6666666666666666,
              "#ed7953"
             ],
             [
              0.7777777777777778,
              "#fb9f3a"
             ],
             [
              0.8888888888888888,
              "#fdca26"
             ],
             [
              1,
              "#f0f921"
             ]
            ],
            "type": "histogram2d"
           }
          ],
          "histogram2dcontour": [
           {
            "colorbar": {
             "outlinewidth": 0,
             "ticks": ""
            },
            "colorscale": [
             [
              0,
              "#0d0887"
             ],
             [
              0.1111111111111111,
              "#46039f"
             ],
             [
              0.2222222222222222,
              "#7201a8"
             ],
             [
              0.3333333333333333,
              "#9c179e"
             ],
             [
              0.4444444444444444,
              "#bd3786"
             ],
             [
              0.5555555555555556,
              "#d8576b"
             ],
             [
              0.6666666666666666,
              "#ed7953"
             ],
             [
              0.7777777777777778,
              "#fb9f3a"
             ],
             [
              0.8888888888888888,
              "#fdca26"
             ],
             [
              1,
              "#f0f921"
             ]
            ],
            "type": "histogram2dcontour"
           }
          ],
          "mesh3d": [
           {
            "colorbar": {
             "outlinewidth": 0,
             "ticks": ""
            },
            "type": "mesh3d"
           }
          ],
          "parcoords": [
           {
            "line": {
             "colorbar": {
              "outlinewidth": 0,
              "ticks": ""
             }
            },
            "type": "parcoords"
           }
          ],
          "pie": [
           {
            "automargin": true,
            "type": "pie"
           }
          ],
          "scatter": [
           {
            "fillpattern": {
             "fillmode": "overlay",
             "size": 10,
             "solidity": 0.2
            },
            "type": "scatter"
           }
          ],
          "scatter3d": [
           {
            "line": {
             "colorbar": {
              "outlinewidth": 0,
              "ticks": ""
             }
            },
            "marker": {
             "colorbar": {
              "outlinewidth": 0,
              "ticks": ""
             }
            },
            "type": "scatter3d"
           }
          ],
          "scattercarpet": [
           {
            "marker": {
             "colorbar": {
              "outlinewidth": 0,
              "ticks": ""
             }
            },
            "type": "scattercarpet"
           }
          ],
          "scattergeo": [
           {
            "marker": {
             "colorbar": {
              "outlinewidth": 0,
              "ticks": ""
             }
            },
            "type": "scattergeo"
           }
          ],
          "scattergl": [
           {
            "marker": {
             "colorbar": {
              "outlinewidth": 0,
              "ticks": ""
             }
            },
            "type": "scattergl"
           }
          ],
          "scattermap": [
           {
            "marker": {
             "colorbar": {
              "outlinewidth": 0,
              "ticks": ""
             }
            },
            "type": "scattermap"
           }
          ],
          "scattermapbox": [
           {
            "marker": {
             "colorbar": {
              "outlinewidth": 0,
              "ticks": ""
             }
            },
            "type": "scattermapbox"
           }
          ],
          "scatterpolar": [
           {
            "marker": {
             "colorbar": {
              "outlinewidth": 0,
              "ticks": ""
             }
            },
            "type": "scatterpolar"
           }
          ],
          "scatterpolargl": [
           {
            "marker": {
             "colorbar": {
              "outlinewidth": 0,
              "ticks": ""
             }
            },
            "type": "scatterpolargl"
           }
          ],
          "scatterternary": [
           {
            "marker": {
             "colorbar": {
              "outlinewidth": 0,
              "ticks": ""
             }
            },
            "type": "scatterternary"
           }
          ],
          "surface": [
           {
            "colorbar": {
             "outlinewidth": 0,
             "ticks": ""
            },
            "colorscale": [
             [
              0,
              "#0d0887"
             ],
             [
              0.1111111111111111,
              "#46039f"
             ],
             [
              0.2222222222222222,
              "#7201a8"
             ],
             [
              0.3333333333333333,
              "#9c179e"
             ],
             [
              0.4444444444444444,
              "#bd3786"
             ],
             [
              0.5555555555555556,
              "#d8576b"
             ],
             [
              0.6666666666666666,
              "#ed7953"
             ],
             [
              0.7777777777777778,
              "#fb9f3a"
             ],
             [
              0.8888888888888888,
              "#fdca26"
             ],
             [
              1,
              "#f0f921"
             ]
            ],
            "type": "surface"
           }
          ],
          "table": [
           {
            "cells": {
             "fill": {
              "color": "#EBF0F8"
             },
             "line": {
              "color": "white"
             }
            },
            "header": {
             "fill": {
              "color": "#C8D4E3"
             },
             "line": {
              "color": "white"
             }
            },
            "type": "table"
           }
          ]
         },
         "layout": {
          "annotationdefaults": {
           "arrowcolor": "#2a3f5f",
           "arrowhead": 0,
           "arrowwidth": 1
          },
          "autotypenumbers": "strict",
          "coloraxis": {
           "colorbar": {
            "outlinewidth": 0,
            "ticks": ""
           }
          },
          "colorscale": {
           "diverging": [
            [
             0,
             "#8e0152"
            ],
            [
             0.1,
             "#c51b7d"
            ],
            [
             0.2,
             "#de77ae"
            ],
            [
             0.3,
             "#f1b6da"
            ],
            [
             0.4,
             "#fde0ef"
            ],
            [
             0.5,
             "#f7f7f7"
            ],
            [
             0.6,
             "#e6f5d0"
            ],
            [
             0.7,
             "#b8e186"
            ],
            [
             0.8,
             "#7fbc41"
            ],
            [
             0.9,
             "#4d9221"
            ],
            [
             1,
             "#276419"
            ]
           ],
           "sequential": [
            [
             0,
             "#0d0887"
            ],
            [
             0.1111111111111111,
             "#46039f"
            ],
            [
             0.2222222222222222,
             "#7201a8"
            ],
            [
             0.3333333333333333,
             "#9c179e"
            ],
            [
             0.4444444444444444,
             "#bd3786"
            ],
            [
             0.5555555555555556,
             "#d8576b"
            ],
            [
             0.6666666666666666,
             "#ed7953"
            ],
            [
             0.7777777777777778,
             "#fb9f3a"
            ],
            [
             0.8888888888888888,
             "#fdca26"
            ],
            [
             1,
             "#f0f921"
            ]
           ],
           "sequentialminus": [
            [
             0,
             "#0d0887"
            ],
            [
             0.1111111111111111,
             "#46039f"
            ],
            [
             0.2222222222222222,
             "#7201a8"
            ],
            [
             0.3333333333333333,
             "#9c179e"
            ],
            [
             0.4444444444444444,
             "#bd3786"
            ],
            [
             0.5555555555555556,
             "#d8576b"
            ],
            [
             0.6666666666666666,
             "#ed7953"
            ],
            [
             0.7777777777777778,
             "#fb9f3a"
            ],
            [
             0.8888888888888888,
             "#fdca26"
            ],
            [
             1,
             "#f0f921"
            ]
           ]
          },
          "colorway": [
           "#636efa",
           "#EF553B",
           "#00cc96",
           "#ab63fa",
           "#FFA15A",
           "#19d3f3",
           "#FF6692",
           "#B6E880",
           "#FF97FF",
           "#FECB52"
          ],
          "font": {
           "color": "#2a3f5f"
          },
          "geo": {
           "bgcolor": "white",
           "lakecolor": "white",
           "landcolor": "#E5ECF6",
           "showlakes": true,
           "showland": true,
           "subunitcolor": "white"
          },
          "hoverlabel": {
           "align": "left"
          },
          "hovermode": "closest",
          "mapbox": {
           "style": "light"
          },
          "paper_bgcolor": "white",
          "plot_bgcolor": "#E5ECF6",
          "polar": {
           "angularaxis": {
            "gridcolor": "white",
            "linecolor": "white",
            "ticks": ""
           },
           "bgcolor": "#E5ECF6",
           "radialaxis": {
            "gridcolor": "white",
            "linecolor": "white",
            "ticks": ""
           }
          },
          "scene": {
           "xaxis": {
            "backgroundcolor": "#E5ECF6",
            "gridcolor": "white",
            "gridwidth": 2,
            "linecolor": "white",
            "showbackground": true,
            "ticks": "",
            "zerolinecolor": "white"
           },
           "yaxis": {
            "backgroundcolor": "#E5ECF6",
            "gridcolor": "white",
            "gridwidth": 2,
            "linecolor": "white",
            "showbackground": true,
            "ticks": "",
            "zerolinecolor": "white"
           },
           "zaxis": {
            "backgroundcolor": "#E5ECF6",
            "gridcolor": "white",
            "gridwidth": 2,
            "linecolor": "white",
            "showbackground": true,
            "ticks": "",
            "zerolinecolor": "white"
           }
          },
          "shapedefaults": {
           "line": {
            "color": "#2a3f5f"
           }
          },
          "ternary": {
           "aaxis": {
            "gridcolor": "white",
            "linecolor": "white",
            "ticks": ""
           },
           "baxis": {
            "gridcolor": "white",
            "linecolor": "white",
            "ticks": ""
           },
           "bgcolor": "#E5ECF6",
           "caxis": {
            "gridcolor": "white",
            "linecolor": "white",
            "ticks": ""
           }
          },
          "title": {
           "x": 0.05
          },
          "xaxis": {
           "automargin": true,
           "gridcolor": "white",
           "linecolor": "white",
           "ticks": "",
           "title": {
            "standoff": 15
           },
           "zerolinecolor": "white",
           "zerolinewidth": 2
          },
          "yaxis": {
           "automargin": true,
           "gridcolor": "white",
           "linecolor": "white",
           "ticks": "",
           "title": {
            "standoff": 15
           },
           "zerolinecolor": "white",
           "zerolinewidth": 2
          }
         }
        },
        "xaxis": {
         "anchor": "y",
         "domain": [
          0,
          1
         ]
        },
        "yaxis": {
         "anchor": "x",
         "domain": [
          0,
          1
         ]
        }
       }
      }
     },
     "metadata": {},
     "output_type": "display_data"
    },
    {
     "name": "stdout",
     "output_type": "stream",
     "text": [
      "Rs: 1.5, lambda: 0.58197021484375\n"
     ]
    },
    {
     "data": {
      "application/vnd.plotly.v1+json": {
       "config": {
        "plotlyServerURL": "https://plot.ly"
       },
       "data": [
        {
         "hovertemplate": "<extra></extra>",
         "legendgroup": "",
         "line": {
          "color": "#636efa",
          "dash": "solid"
         },
         "marker": {
          "symbol": "circle"
         },
         "mode": "lines",
         "name": "",
         "orientation": "v",
         "showlegend": false,
         "type": "scatter",
         "xaxis": "x",
         "yaxis": "y"
        },
        {
         "name": "u, R=1.5",
         "type": "scatter",
         "x": [
          0,
          0,
          0.005,
          0.01,
          0.015,
          0.02,
          0.025,
          0.030000000000000002,
          0.035,
          0.04,
          0.045,
          0.049999999999999996,
          0.05499999999999999,
          0.05999999999999999,
          0.06499999999999999,
          0.06999999999999999,
          0.075,
          0.08,
          0.085,
          0.09000000000000001,
          0.09500000000000001,
          0.10000000000000002,
          0.10500000000000002,
          0.11000000000000003,
          0.11500000000000003,
          0.12000000000000004,
          0.12500000000000003,
          0.13000000000000003,
          0.13500000000000004,
          0.14000000000000004,
          0.14500000000000005,
          0.15000000000000005,
          0.15500000000000005,
          0.16000000000000006,
          0.16500000000000006,
          0.17000000000000007,
          0.17500000000000007,
          0.18000000000000008,
          0.18500000000000008,
          0.19000000000000009,
          0.1950000000000001,
          0.2000000000000001,
          0.2050000000000001,
          0.2100000000000001,
          0.2150000000000001,
          0.2200000000000001,
          0.22500000000000012,
          0.23000000000000012,
          0.23500000000000013,
          0.24000000000000013,
          0.24500000000000013,
          0.2500000000000001,
          0.2550000000000001,
          0.2600000000000001,
          0.2650000000000001,
          0.27000000000000013,
          0.27500000000000013,
          0.28000000000000014,
          0.28500000000000014,
          0.29000000000000015,
          0.29500000000000015,
          0.30000000000000016,
          0.30500000000000016,
          0.31000000000000016,
          0.31500000000000017,
          0.3200000000000002,
          0.3250000000000002,
          0.3300000000000002,
          0.3350000000000002,
          0.3400000000000002,
          0.3450000000000002,
          0.3500000000000002,
          0.3550000000000002,
          0.3600000000000002,
          0.3650000000000002,
          0.3700000000000002,
          0.3750000000000002,
          0.3800000000000002,
          0.38500000000000023,
          0.39000000000000024,
          0.39500000000000024,
          0.40000000000000024,
          0.40500000000000025,
          0.41000000000000025,
          0.41500000000000026,
          0.42000000000000026,
          0.42500000000000027,
          0.43000000000000027,
          0.4350000000000003,
          0.4400000000000003,
          0.4450000000000003,
          0.4500000000000003,
          0.4550000000000003,
          0.4600000000000003,
          0.4650000000000003,
          0.4700000000000003,
          0.4750000000000003,
          0.4800000000000003,
          0.4850000000000003,
          0.4900000000000003,
          0.49500000000000033,
          0.5000000000000003,
          0.5050000000000003,
          0.5100000000000003,
          0.5150000000000003,
          0.5200000000000004,
          0.5250000000000004,
          0.5300000000000004,
          0.5350000000000004,
          0.5400000000000004,
          0.5450000000000004,
          0.5500000000000004,
          0.5550000000000004,
          0.5600000000000004,
          0.5650000000000004,
          0.5700000000000004,
          0.5750000000000004,
          0.5800000000000004,
          0.5850000000000004,
          0.5900000000000004,
          0.5950000000000004,
          0.6000000000000004,
          0.6050000000000004,
          0.6100000000000004,
          0.6150000000000004,
          0.6200000000000004,
          0.6250000000000004,
          0.6300000000000004,
          0.6350000000000005,
          0.6400000000000005,
          0.6450000000000005,
          0.6500000000000005,
          0.6550000000000005,
          0.6600000000000005,
          0.6650000000000005,
          0.6700000000000005,
          0.6750000000000005,
          0.6800000000000005,
          0.6850000000000005,
          0.6900000000000005,
          0.6950000000000005,
          0.7000000000000005,
          0.7050000000000005,
          0.7100000000000005,
          0.7150000000000005,
          0.7200000000000005,
          0.7250000000000005,
          0.7300000000000005,
          0.7350000000000005,
          0.7400000000000005,
          0.7450000000000006,
          0.7500000000000006,
          0.7550000000000006,
          0.7600000000000006,
          0.7650000000000006,
          0.7700000000000006,
          0.7750000000000006,
          0.7800000000000006,
          0.7850000000000006,
          0.7900000000000006,
          0.7950000000000006,
          0.8000000000000006,
          0.8050000000000006,
          0.8100000000000006,
          0.8150000000000006,
          0.8200000000000006,
          0.8250000000000006,
          0.8300000000000006,
          0.8350000000000006,
          0.8400000000000006,
          0.8450000000000006,
          0.8500000000000006,
          0.8550000000000006,
          0.8600000000000007,
          0.8650000000000007,
          0.8700000000000007,
          0.8750000000000007,
          0.8800000000000007,
          0.8850000000000007,
          0.8900000000000007,
          0.8950000000000007,
          0.9000000000000007,
          0.9050000000000007,
          0.9100000000000007,
          0.9150000000000007,
          0.9200000000000007,
          0.9250000000000007,
          0.9300000000000007,
          0.9350000000000007,
          0.9400000000000007,
          0.9450000000000007,
          0.9500000000000007,
          0.9550000000000007,
          0.9600000000000007,
          0.9650000000000007,
          0.9700000000000008,
          0.9750000000000008,
          0.9800000000000008,
          0.9850000000000008,
          0.9900000000000008,
          0.9950000000000008,
          1.0000000000000007,
          1.0050000000000006,
          1.0100000000000005,
          1.0150000000000003,
          1.0200000000000002,
          1.0250000000000001,
          1.03,
          1.035,
          1.0399999999999998,
          1.0449999999999997,
          1.0499999999999996,
          1.0549999999999995,
          1.0599999999999994,
          1.0649999999999993,
          1.0699999999999992,
          1.074999999999999,
          1.079999999999999,
          1.0849999999999989,
          1.0899999999999987,
          1.0949999999999986,
          1.0999999999999985,
          1.1049999999999984,
          1.1099999999999983,
          1.1149999999999982,
          1.119999999999998,
          1.124999999999998,
          1.129999999999998,
          1.1349999999999978,
          1.1399999999999977,
          1.1449999999999976,
          1.1499999999999975,
          1.1549999999999974,
          1.1599999999999973,
          1.1649999999999971,
          1.169999999999997,
          1.174999999999997,
          1.1799999999999968,
          1.1849999999999967,
          1.1899999999999966,
          1.1949999999999965,
          1.1999999999999964,
          1.2049999999999963,
          1.2099999999999962,
          1.214999999999996,
          1.219999999999996,
          1.2249999999999959,
          1.2299999999999958,
          1.2349999999999957,
          1.2399999999999956,
          1.2449999999999954,
          1.2499999999999953,
          1.2549999999999952,
          1.2599999999999951,
          1.264999999999995,
          1.269999999999995,
          1.2749999999999948,
          1.2799999999999947,
          1.2849999999999946,
          1.2899999999999945,
          1.2949999999999944,
          1.2999999999999943,
          1.3049999999999942,
          1.309999999999994,
          1.314999999999994,
          1.3199999999999938,
          1.3249999999999937,
          1.3299999999999936,
          1.3349999999999935,
          1.3399999999999934,
          1.3449999999999933,
          1.3499999999999932,
          1.354999999999993,
          1.359999999999993,
          1.3649999999999929,
          1.3699999999999928,
          1.3749999999999927,
          1.3799999999999926,
          1.3849999999999925,
          1.3899999999999924,
          1.3949999999999922,
          1.3999999999999921,
          1.404999999999992,
          1.409999999999992,
          1.4149999999999918,
          1.4199999999999917,
          1.4249999999999916,
          1.4299999999999915,
          1.4349999999999914,
          1.4399999999999913,
          1.4449999999999912,
          1.449999999999991,
          1.454999999999991,
          1.4599999999999909,
          1.4649999999999908,
          1.4699999999999906,
          1.4749999999999905,
          1.4799999999999904,
          1.4849999999999903,
          1.4899999999999902,
          1.4949999999999901,
          1.49999999999999
         ],
         "y": [
          0.0000014908310743393284,
          0.0000014908099789881387,
          0.000001490746691788244,
          0.0000014906412089741137,
          0.0000014904935243215606,
          0.0000014903036291320072,
          0.000001490071512244552,
          0.0000014897971600527523,
          0.0000014894805565253225,
          0.000001489121683230653,
          0.0000014887205193651335,
          0.0000014882770417852828,
          0.0000014877912250436942,
          0.0000014872630414288058,
          0.0000014866924610085065,
          0.0000014860794516775912,
          0.0000014854239792090776,
          0.0000014847260073094012,
          0.0000014839854976774994,
          0.0000014832024100678062,
          0.0000014823767023571696,
          0.0000014815083306157115,
          0.0000014805972491816464,
          0.0000014796434107400786,
          0.000001478646766405796,
          0.000001477607265810078,
          0.0000014765248571915392,
          0.0000014753994874910267,
          0.0000014742311024505908,
          0.0000014730196467165476,
          0.0000014717650639466534,
          0.0000014704672969214093,
          0.0000014691262876595153,
          0.000001467741977537489,
          0.00000146631430741347,
          0.0000014648432177552225,
          0.000001463328648772355,
          0.0000014617705405527684,
          0.0000014601688332033486,
          0.0000014585234669949125,
          0.0000014568343825114209,
          0.000001455101520803464,
          0.0000014533248235460284,
          0.00000145150423320055,
          0.000001449639693181255,
          0.0000014477311480257892,
          0.0000014457785435701353,
          0.0000014437818271278108,
          0.0000014417409476733409,
          0.0000014396558560299938,
          0.0000014375265050617662,
          0.0000014353528498695994,
          0.000001433134847991807,
          0.000001430872459608686,
          0.000001428565647751286,
          0.0000014262143785142988,
          0.0000014238186212730336,
          0.0000014213783489044324,
          0.0000014188935380120793,
          0.0000014163641691551498,
          0.0000014137902270812423,
          0.0000014111717009630256,
          0.000001408508584638635,
          0.000001405800876855739,
          0.0000014030485815191925,
          0.0000014002517079421918,
          0.0000013974102711008285,
          0.0000013945242918919453,
          0.0000013915937973941788,
          0.0000013886188211320744,
          0.000001385599403343142,
          0.0000013825355912477255,
          0.0000013794274393215384,
          0.0000013762750095707153,
          0.0000013730783718092225,
          0.0000013698376039384565,
          0.0000013665527922288535,
          0.000001363224031603323,
          0.0000013598514259223096,
          0.0000013564350882702745,
          0.0000013529751412433834,
          0.000001349471717238172,
          0.0000013459249587409537,
          0.0000013423350186177215,
          0.000001338702060404287,
          0.000001335026258596389,
          0.0000013313077989394906,
          0.0000013275468787179756,
          0.0000013237437070434432,
          0.0000013198985051417893,
          0.0000013160115066387486,
          0.0000013120829578435665,
          0.0000013081131180304519,
          0.000001304102259717455,
          0.0000013000506689424042,
          0.0000012959586455355173,
          0.000001291826503388304,
          0.0000012876545707183527,
          0.0000012834431903295918,
          0.0000012791927198676037,
          0.0000012749035320695568,
          0.0000012705760150083133,
          0.0000012662105723302589,
          0.0000012618076234863919,
          0.0000012573676039561985,
          0.000001252890965463834,
          0.0000012483781761861184,
          0.0000012438297209518493,
          0.0000012392461014319262,
          0.0000012346278363197708,
          0.0000012299754615015256,
          0.0000012252895302155043,
          0.000001220570613200361,
          0.0000012158192988314427,
          0.0000012110361932447851,
          0.0000012062219204482072,
          0.0000012013771224189578,
          0.0000011965024591873677,
          0.0000011915986089059566,
          0.0000011866662679034476,
          0.0000011817061507231424,
          0.0000011767189901451113,
          0.000001171705537191655,
          0.0000011666665611155047,
          0.000001161602849370225,
          0.0000011565152075622982,
          0.0000011514044593843705,
          0.0000011462714465291573,
          0.0000011411170285835073,
          0.000001135942082902146,
          0.0000011307475044606254,
          0.0000011255342056870284,
          0.0000011203031162719878,
          0.0000011150551829566028,
          0.0000011097913692978529,
          0.0000011045126554111316,
          0.000001099220037689547,
          0.000001093914528499659,
          0.0000010885971558533508,
          0.000001083268963055563,
          0.000001077931008327645,
          0.000001072584364406111,
          0.0000010672301181166274,
          0.0000010618693699230858,
          0.0000010565032334516574,
          0.0000010511328349897653,
          0.0000010457593129599477,
          0.0000010403838173686322,
          0.0000010350075092298806,
          0.0000010296315599642164,
          0.0000010242571507726868,
          0.0000010188854719863671,
          0.0000010135177223915622,
          0.0000010081551085310131,
          0.0000010027988439814716,
          9.974501486080563e-7,
          9.92110247795867e-7,
          9.867803716593847e-7,
          9.814617542302454e-7,
          9.761556326240376e-7,
          9.708632461868307e-7,
          9.655858356221994e-7,
          9.603246420995805e-7,
          9.55080906344848e-7,
          9.498558677140628e-7,
          9.446507632514119e-7,
          9.394668267324166e-7,
          9.34305287693545e-7,
          9.291673704494332e-7,
          9.240542930989744e-7,
          9.189672665215959e-7,
          9.139074933651041e-7,
          9.088761670265341e-7,
          9.038744706274933e-7,
          8.989035759855482e-7,
          8.939646425832488e-7,
          8.890588165364397e-7,
          8.841872295635501e-7,
          8.793509979576017e-7,
          8.745512202463388e-7,
          8.697889733404092e-7,
          8.650653206276085e-7,
          8.603813064871237e-7,
          8.557379548456162e-7,
          8.511362682041832e-7,
          8.465772266811339e-7,
          8.420617870725403e-7,
          8.375908819325264e-7,
          8.331654186752635e-7,
          8.287862787006344e-7,
          8.24454316545521e-7,
          8.201703590626513e-7,
          8.159352046289237e-7,
          8.117496223850945e-7,
          8.07614351508682e-7,
          8.035301005218973e-7,
          7.99497546636365e-7,
          7.955173351363402e-7,
          7.915900788020662e-7,
          7.877163573748481e-7,
          7.838967170653409e-7,
          7.801316701064664e-7,
          7.764216943522832e-7,
          7.727672329240371e-7,
          7.691686939045121e-7,
          7.656264500816955e-7,
          7.621408387426489e-7,
          7.587121615183545e-7,
          7.553406842801777e-7,
          7.520266370884491e-7,
          7.487702141935293e-7,
          7.455715740895746e-7,
          7.424308396210695e-7,
          7.393480967316033e-7,
          7.363233954110128e-7,
          7.333567527106859e-7,
          7.304481510653734e-7,
          7.275975385787886e-7,
          7.248048294391276e-7,
          7.220699043833453e-7,
          7.193926112089592e-7,
          7.167727653319842e-7,
          7.142101503894433e-7,
          7.117045188847371e-7,
          7.09255592874004e-7,
          7.068630646914478e-7,
          7.045265977114697e-7,
          7.022458271453019e-7,
          7.000203608697098e-7,
          6.9784978028521e-7,
          6.957336412011373e-7,
          6.936714747447955e-7,
          6.916627882918351e-7,
          6.897070664149228e-7,
          6.878037718477056e-7,
          6.859523469862808e-7,
          6.841522224488856e-7,
          6.824028049054594e-7,
          6.807034790652459e-7,
          6.790536127390534e-7,
          6.774525578309761e-7,
          6.758996513238449e-7,
          6.743942162554464e-7,
          6.729355626826351e-7,
          6.715229886305599e-7,
          6.701557810243474e-7,
          6.68833216600714e-7,
          6.67554562797136e-7,
          6.663190786163704e-7,
          6.651260154643053e-7,
          6.639746179593164e-7,
          6.628641247115184e-7,
          6.617937690705236e-7,
          6.607627816647625e-7,
          6.597703917367321e-7,
          6.588158209508841e-7,
          6.578982880703501e-7,
          6.570170098374595e-7,
          6.561712015174355e-7,
          6.553600774079006e-7,
          6.545828513148628e-7,
          6.53838736996116e-7,
          6.531269485732401e-7,
          6.524467009136317e-7,
          6.517972099842326e-7,
          6.5117769317884e-7,
          6.505873696210939e-7,
          6.500254597556721e-7,
          6.494911764948013e-7,
          6.489837422698587e-7,
          6.48502386926202e-7,
          6.480463432479202e-7,
          6.476148471673693e-7,
          6.47207137969138e-7,
          6.468224584914433e-7,
          6.464600553279649e-7,
          6.46119179033119e-7,
          6.457990843337347e-7,
          6.454990303500453e-7,
          6.452182808288365e-7,
          6.449561048733216e-7,
          6.447117770185544e-7,
          6.44484576351189e-7,
          6.442737876537488e-7,
          6.44078701781136e-7,
          6.438986160207506e-7,
          6.437328344816019e-7,
          6.43580668514311e-7,
          6.43441437163774e-7,
          6.433144676561399e-7,
          6.43199095921641e-7,
          6.430946684947711e-7,
          6.430005422443771e-7,
          6.429160822761617e-7,
          6.428406648154015e-7,
          6.427736780242084e-7,
          6.427145227670945e-7,
          6.426626134205401e-7,
          6.426173787274229e-7,
          6.425782626970965e-7,
          6.425447255518463e-7,
          6.425138552162551e-7
         ]
        },
        {
         "name": "u_p, R=1.5",
         "type": "scatter",
         "x": [
          0,
          0,
          0.005,
          0.01,
          0.015,
          0.02,
          0.025,
          0.030000000000000002,
          0.035,
          0.04,
          0.045,
          0.049999999999999996,
          0.05499999999999999,
          0.05999999999999999,
          0.06499999999999999,
          0.06999999999999999,
          0.075,
          0.08,
          0.085,
          0.09000000000000001,
          0.09500000000000001,
          0.10000000000000002,
          0.10500000000000002,
          0.11000000000000003,
          0.11500000000000003,
          0.12000000000000004,
          0.12500000000000003,
          0.13000000000000003,
          0.13500000000000004,
          0.14000000000000004,
          0.14500000000000005,
          0.15000000000000005,
          0.15500000000000005,
          0.16000000000000006,
          0.16500000000000006,
          0.17000000000000007,
          0.17500000000000007,
          0.18000000000000008,
          0.18500000000000008,
          0.19000000000000009,
          0.1950000000000001,
          0.2000000000000001,
          0.2050000000000001,
          0.2100000000000001,
          0.2150000000000001,
          0.2200000000000001,
          0.22500000000000012,
          0.23000000000000012,
          0.23500000000000013,
          0.24000000000000013,
          0.24500000000000013,
          0.2500000000000001,
          0.2550000000000001,
          0.2600000000000001,
          0.2650000000000001,
          0.27000000000000013,
          0.27500000000000013,
          0.28000000000000014,
          0.28500000000000014,
          0.29000000000000015,
          0.29500000000000015,
          0.30000000000000016,
          0.30500000000000016,
          0.31000000000000016,
          0.31500000000000017,
          0.3200000000000002,
          0.3250000000000002,
          0.3300000000000002,
          0.3350000000000002,
          0.3400000000000002,
          0.3450000000000002,
          0.3500000000000002,
          0.3550000000000002,
          0.3600000000000002,
          0.3650000000000002,
          0.3700000000000002,
          0.3750000000000002,
          0.3800000000000002,
          0.38500000000000023,
          0.39000000000000024,
          0.39500000000000024,
          0.40000000000000024,
          0.40500000000000025,
          0.41000000000000025,
          0.41500000000000026,
          0.42000000000000026,
          0.42500000000000027,
          0.43000000000000027,
          0.4350000000000003,
          0.4400000000000003,
          0.4450000000000003,
          0.4500000000000003,
          0.4550000000000003,
          0.4600000000000003,
          0.4650000000000003,
          0.4700000000000003,
          0.4750000000000003,
          0.4800000000000003,
          0.4850000000000003,
          0.4900000000000003,
          0.49500000000000033,
          0.5000000000000003,
          0.5050000000000003,
          0.5100000000000003,
          0.5150000000000003,
          0.5200000000000004,
          0.5250000000000004,
          0.5300000000000004,
          0.5350000000000004,
          0.5400000000000004,
          0.5450000000000004,
          0.5500000000000004,
          0.5550000000000004,
          0.5600000000000004,
          0.5650000000000004,
          0.5700000000000004,
          0.5750000000000004,
          0.5800000000000004,
          0.5850000000000004,
          0.5900000000000004,
          0.5950000000000004,
          0.6000000000000004,
          0.6050000000000004,
          0.6100000000000004,
          0.6150000000000004,
          0.6200000000000004,
          0.6250000000000004,
          0.6300000000000004,
          0.6350000000000005,
          0.6400000000000005,
          0.6450000000000005,
          0.6500000000000005,
          0.6550000000000005,
          0.6600000000000005,
          0.6650000000000005,
          0.6700000000000005,
          0.6750000000000005,
          0.6800000000000005,
          0.6850000000000005,
          0.6900000000000005,
          0.6950000000000005,
          0.7000000000000005,
          0.7050000000000005,
          0.7100000000000005,
          0.7150000000000005,
          0.7200000000000005,
          0.7250000000000005,
          0.7300000000000005,
          0.7350000000000005,
          0.7400000000000005,
          0.7450000000000006,
          0.7500000000000006,
          0.7550000000000006,
          0.7600000000000006,
          0.7650000000000006,
          0.7700000000000006,
          0.7750000000000006,
          0.7800000000000006,
          0.7850000000000006,
          0.7900000000000006,
          0.7950000000000006,
          0.8000000000000006,
          0.8050000000000006,
          0.8100000000000006,
          0.8150000000000006,
          0.8200000000000006,
          0.8250000000000006,
          0.8300000000000006,
          0.8350000000000006,
          0.8400000000000006,
          0.8450000000000006,
          0.8500000000000006,
          0.8550000000000006,
          0.8600000000000007,
          0.8650000000000007,
          0.8700000000000007,
          0.8750000000000007,
          0.8800000000000007,
          0.8850000000000007,
          0.8900000000000007,
          0.8950000000000007,
          0.9000000000000007,
          0.9050000000000007,
          0.9100000000000007,
          0.9150000000000007,
          0.9200000000000007,
          0.9250000000000007,
          0.9300000000000007,
          0.9350000000000007,
          0.9400000000000007,
          0.9450000000000007,
          0.9500000000000007,
          0.9550000000000007,
          0.9600000000000007,
          0.9650000000000007,
          0.9700000000000008,
          0.9750000000000008,
          0.9800000000000008,
          0.9850000000000008,
          0.9900000000000008,
          0.9950000000000008,
          1.0000000000000007,
          1.0050000000000006,
          1.0100000000000005,
          1.0150000000000003,
          1.0200000000000002,
          1.0250000000000001,
          1.03,
          1.035,
          1.0399999999999998,
          1.0449999999999997,
          1.0499999999999996,
          1.0549999999999995,
          1.0599999999999994,
          1.0649999999999993,
          1.0699999999999992,
          1.074999999999999,
          1.079999999999999,
          1.0849999999999989,
          1.0899999999999987,
          1.0949999999999986,
          1.0999999999999985,
          1.1049999999999984,
          1.1099999999999983,
          1.1149999999999982,
          1.119999999999998,
          1.124999999999998,
          1.129999999999998,
          1.1349999999999978,
          1.1399999999999977,
          1.1449999999999976,
          1.1499999999999975,
          1.1549999999999974,
          1.1599999999999973,
          1.1649999999999971,
          1.169999999999997,
          1.174999999999997,
          1.1799999999999968,
          1.1849999999999967,
          1.1899999999999966,
          1.1949999999999965,
          1.1999999999999964,
          1.2049999999999963,
          1.2099999999999962,
          1.214999999999996,
          1.219999999999996,
          1.2249999999999959,
          1.2299999999999958,
          1.2349999999999957,
          1.2399999999999956,
          1.2449999999999954,
          1.2499999999999953,
          1.2549999999999952,
          1.2599999999999951,
          1.264999999999995,
          1.269999999999995,
          1.2749999999999948,
          1.2799999999999947,
          1.2849999999999946,
          1.2899999999999945,
          1.2949999999999944,
          1.2999999999999943,
          1.3049999999999942,
          1.309999999999994,
          1.314999999999994,
          1.3199999999999938,
          1.3249999999999937,
          1.3299999999999936,
          1.3349999999999935,
          1.3399999999999934,
          1.3449999999999933,
          1.3499999999999932,
          1.354999999999993,
          1.359999999999993,
          1.3649999999999929,
          1.3699999999999928,
          1.3749999999999927,
          1.3799999999999926,
          1.3849999999999925,
          1.3899999999999924,
          1.3949999999999922,
          1.3999999999999921,
          1.404999999999992,
          1.409999999999992,
          1.4149999999999918,
          1.4199999999999917,
          1.4249999999999916,
          1.4299999999999915,
          1.4349999999999914,
          1.4399999999999913,
          1.4449999999999912,
          1.449999999999991,
          1.454999999999991,
          1.4599999999999909,
          1.4649999999999908,
          1.4699999999999906,
          1.4749999999999905,
          1.4799999999999904,
          1.4849999999999903,
          1.4899999999999902,
          1.4949999999999901,
          1.49999999999999
         ],
         "y": [
          0.000002561696520395968,
          0.000002561696520395968,
          0.0000025616965191717014,
          0.0000025616965008077065,
          0.0000025616964212303913,
          0.0000025616962069837855,
          0.000002561695755229545,
          0.0000025616949337470273,
          0.0000025616935809333875,
          0.0000025616915058037855,
          0.0000025616884879917276,
          0.00000256168427774955,
          0.0000025616785959491753,
          0.0000025616711340831054,
          0.0000025616615542658,
          0.0000025616494892354845,
          0.000002561634542356428,
          0.0000025616162876218557,
          0.000002561594269657543,
          0.0000025615680037261713,
          0.0000025615369757326292,
          0.0000025615006422302858,
          0.0000025614584304284387,
          0.000002561409738201006,
          0.0000025613539340966313,
          0.0000025612903573503455,
          0.0000025612183178969126,
          0.000002561137096386047,
          0.0000025610459441996435,
          0.0000025609440834712182,
          0.000002560830707107688,
          0.000002560704978813756,
          0.0000025605660331190073,
          0.000002560412975407986,
          0.0000025602448819534094,
          0.0000025600607999527685,
          0.0000025598597475685218,
          0.0000025596407139720938,
          0.000002559402659391955,
          0.00000255914451516597,
          0.000002558865183798332,
          0.000002558563539021244,
          0.0000025582384258617276,
          0.0000025578886607137037,
          0.000002557513031415743,
          0.0000025571102973346572,
          0.0000025566791894553118,
          0.0000025562184104769044,
          0.0000025557266349160303,
          0.00000255520250921685,
          0.000002554644651868663,
          0.0000025540516535312282,
          0.0000025534220771681393,
          0.000002552754458188644,
          0.0000025520473045981695,
          0.000002551299097157996,
          0.0000025505082895543753,
          0.000002549673308577467,
          0.0000025487925543105066,
          0.0000025478644003295397,
          0.000002546887193914106,
          0.000002545859256269314,
          0.00000254477888275964,
          0.00000254364434315492,
          0.0000025424538818888913,
          0.000002541205718330733,
          0.0000025398980470700206,
          0.0000025385290382155517,
          0.0000025370968377084144,
          0.0000025355995676498167,
          0.0000025340353266440786,
          0.000002532402190157283,
          0.0000025306982108919713,
          0.0000025289214191784693,
          0.0000025270698233831946,
          0.0000025251414103345397,
          0.0000025231341457666945,
          0.0000025210459747820263,
          0.000002518874822332424,
          0.0000025166185937201412,
          0.000002514275175118654,
          0.0000025118424341140363,
          0.0000025093182202673684,
          0.0000025067003656987183,
          0.0000025039866856932172,
          0.0000025011749793297375,
          0.0000024982630301327735,
          0.0000024952486067480103,
          0.000002492129463642142,
          0.000002488903341827527,
          0.000002485567969612171,
          0.00000248212106337568,
          0.0000024785603283716454,
          0.0000024748834595571516,
          0.000002471088142449855,
          0.0000024671720540132848,
          0.0000024631328635709206,
          0.0000024589682337496084,
          0.0000024546758214529376,
          0.0000024502532788650982,
          0.000002445698254485856,
          0.000002441008394197214,
          0.0000024361813423623314,
          0.000002431214742957291,
          0.0000024261062407363255,
          0.0000024208534824310432,
          0.0000024154541179842645,
          0.0000024099058018190573,
          0.000002404206194143523,
          0.000002398352962291927,
          0.0000023923437821027575,
          0.0000023861763393342523,
          0.0000023798483311179724,
          0.0000023733574674510035,
          0.000002366701472727286,
          0.000002359878087308673,
          0.000002352885069136209,
          0.0000023457201953821867,
          0.0000023383812641434918,
          0.000002330866096176718,
          0.000002323172536675591,
          0.0000023152984570911517,
          0.000002307241756995163,
          0.0000022990003659872053,
          0.0000022905722456458806,
          0.000002281955391524566,
          0.000002273147835192051,
          0.0000022641476463185016,
          0.0000022549529348070426,
          0.0000022455618529713124,
          0.0000022359725977592523,
          0.0000022261834130234313,
          0.000002216192591838109,
          0.0000022059984788632383,
          0.000002195599472755572,
          0.0000021849940286269913,
          0.0000021741806605501306,
          0.000002163157944111339,
          0.00000215192451901095,
          0.0000021404790917107794,
          0.000002128820438128782,
          0.0000021169474063806166,
          0.0000021048589195678984,
          0.0000020925539786128595,
          0.0000020800316651389917,
          0.0000020672911443972175,
          0.0000020543316682370816,
          0.0000020411525781223088,
          0.0000020277533081900203,
          0.0000020141333883528023,
          0.0000020002924474427233,
          0.0000019862302163962535,
          0.0000019719465314789802,
          0.000001957441337548835,
          0.000001942714691356483,
          0.0000019277667648813197,
          0.000001912597848701425,
          0.000001897208355395662,
          0.0000018815988229759428,
          0.0000018657699183475024,
          0.0000018497224407948747,
          0.0000018334573254910318,
          0.0000018169756470269907,
          0.0000018002786229589564,
          0.0000017833676173698384,
          0.0000017662441444417888,
          0.0000017489098720360846,
          0.000001731366625276531,
          0.0000017136163901321464,
          0.0000016956613169947434,
          0.0000016775037242466202,
          0.0000016591461018132829,
          0.0000016405911146958204,
          0.0000016218416064771513,
          0.0000016029006027960316,
          0.000001583771314782294,
          0.000001564457142446426,
          0.0000015449616780161283,
          0.0000015252887092120603,
          0.0000015054422224545531,
          0.0000014854264059925244,
          0.000001465245652945358,
          0.000001444904564247981,
          0.0000014244079514888115,
          0.0000014037608396296605,
          0.0000013829684695960952,
          0.0000013620363007261442,
          0.0000013409700130645387,
          0.0000013197755094890697,
          0.0000012984589176549071,
          0.0000012770265917419873,
          0.0000012554851139898833,
          0.0000012338412960037407,
          0.000001212102179814107,
          0.0000011902750386726479,
          0.000001168367377564895,
          0.000001146386933420324,
          0.0000011243416749991814,
          0.0000011022398024345446,
          0.0000010800897464072358,
          0.0000010579001669302449,
          0.0000010356799517183986,
          0.0000010134382141180387,
          9.911842905705789e-7,
          9.689277375828238e-7,
          9.4667832817599e-7,
          9.244460477845051e-7,
          9.022410895746983e-7,
          8.800738491526523e-7,
          8.579549186296988e-7,
          8.358950800131572e-7,
          8.139052978893126e-7,
          7.919967113649049e-7,
          7.701806252328815e-7,
          7.484685003276932e-7,
          7.268719430351122e-7,
          7.054026939213301e-7,
          6.840726154460961e-7,
          6.628936787248258e-7,
          6.418779493049576e-7,
          6.210375719224999e-7,
          6.003847542055918e-7,
          5.799317492931003e-7,
          5.596908373378544e-7,
          5.396743058660448e-7,
          5.198944289666994e-7,
          5.00363445287993e-7,
          4.810935348205389e-7,
          4.6209679445176614e-7,
          4.4338521228008325e-7,
          4.249706406828614e-7,
          4.068647681382919e-7,
          3.8907908980809984e-7,
          3.7162487689589e-7,
          3.5451314480463724e-7,
          3.3775462012666657e-7,
          3.213597065103709e-7,
          3.0533844946002284e-7,
          2.8970050013838323e-7,
          2.7445507825651373e-7,
          2.5961093415123565e-7,
          2.451763101681803e-7,
          2.311589014873663e-7,
          2.175658165486757e-7,
          2.044035372566179e-7,
          1.9167787916723558e-7,
          1.7939395188494268e-7,
          1.6755611992340165e-7,
          1.561679643121256e-7,
          1.452322452591465e-7,
          1.3475086620964545e-7,
          1.2472483967055215e-7,
          1.1515425520145636e-7,
          1.0603825000226164e-7,
          9.737498255731598e-8,
          8.916160982356994e-8,
          8.139426847589963e-8,
          7.406806074512664e-8,
          6.717704540240722e-8,
          6.071423445633738e-8,
          5.4671596134925266e-8,
          4.904006472196559e-8,
          4.380955780463662e-8,
          3.896900146443164e-8,
          3.450636390489178e-8,
          3.040869795494794e-8,
          2.6662192813898364e-8,
          2.3252235311081774e-8,
          2.0163480838208565e-8,
          1.737993397338718e-8,
          1.4885038651831193e-8,
          1.266177754834847e-8,
          1.0692780121094397e-8,
          8.960438525867512e-9,
          7.4470303479695224e-9,
          6.134846818516986e-9,
          5.006324890265188e-9,
          4.044181252986227e-9,
          3.2315460813175022e-9,
          2.552094042628479e-9,
          1.9901698655436075e-9,
          1.530905600654313e-9,
          1.1603266151952034e-9,
          8.654433759074565e-10,
          6.343262117696559e-10,
          4.5616053154891786e-10,
          3.212804164385495e-10,
          2.2117912385140555e-10,
          1.484958217410245e-10,
          9.697880534102241e-11,
          6.142649284584753e-11,
          3.7608594948901224e-11,
          2.217092536269253e-11,
          1.2528266878779243e-11,
          6.75042034267421e-12,
          3.446933683825307e-12,
          1.655945653483566e-12,
          7.42035641774247e-13,
          3.0696030404516443e-13,
          1.1577038306283357e-13,
          3.92065738968349e-14,
          1.1700873283995865e-14
         ]
        }
       ],
       "layout": {
        "legend": {
         "tracegroupgap": 0
        },
        "margin": {
         "t": 60
        },
        "template": {
         "data": {
          "bar": [
           {
            "error_x": {
             "color": "#2a3f5f"
            },
            "error_y": {
             "color": "#2a3f5f"
            },
            "marker": {
             "line": {
              "color": "#E5ECF6",
              "width": 0.5
             },
             "pattern": {
              "fillmode": "overlay",
              "size": 10,
              "solidity": 0.2
             }
            },
            "type": "bar"
           }
          ],
          "barpolar": [
           {
            "marker": {
             "line": {
              "color": "#E5ECF6",
              "width": 0.5
             },
             "pattern": {
              "fillmode": "overlay",
              "size": 10,
              "solidity": 0.2
             }
            },
            "type": "barpolar"
           }
          ],
          "carpet": [
           {
            "aaxis": {
             "endlinecolor": "#2a3f5f",
             "gridcolor": "white",
             "linecolor": "white",
             "minorgridcolor": "white",
             "startlinecolor": "#2a3f5f"
            },
            "baxis": {
             "endlinecolor": "#2a3f5f",
             "gridcolor": "white",
             "linecolor": "white",
             "minorgridcolor": "white",
             "startlinecolor": "#2a3f5f"
            },
            "type": "carpet"
           }
          ],
          "choropleth": [
           {
            "colorbar": {
             "outlinewidth": 0,
             "ticks": ""
            },
            "type": "choropleth"
           }
          ],
          "contour": [
           {
            "colorbar": {
             "outlinewidth": 0,
             "ticks": ""
            },
            "colorscale": [
             [
              0,
              "#0d0887"
             ],
             [
              0.1111111111111111,
              "#46039f"
             ],
             [
              0.2222222222222222,
              "#7201a8"
             ],
             [
              0.3333333333333333,
              "#9c179e"
             ],
             [
              0.4444444444444444,
              "#bd3786"
             ],
             [
              0.5555555555555556,
              "#d8576b"
             ],
             [
              0.6666666666666666,
              "#ed7953"
             ],
             [
              0.7777777777777778,
              "#fb9f3a"
             ],
             [
              0.8888888888888888,
              "#fdca26"
             ],
             [
              1,
              "#f0f921"
             ]
            ],
            "type": "contour"
           }
          ],
          "contourcarpet": [
           {
            "colorbar": {
             "outlinewidth": 0,
             "ticks": ""
            },
            "type": "contourcarpet"
           }
          ],
          "heatmap": [
           {
            "colorbar": {
             "outlinewidth": 0,
             "ticks": ""
            },
            "colorscale": [
             [
              0,
              "#0d0887"
             ],
             [
              0.1111111111111111,
              "#46039f"
             ],
             [
              0.2222222222222222,
              "#7201a8"
             ],
             [
              0.3333333333333333,
              "#9c179e"
             ],
             [
              0.4444444444444444,
              "#bd3786"
             ],
             [
              0.5555555555555556,
              "#d8576b"
             ],
             [
              0.6666666666666666,
              "#ed7953"
             ],
             [
              0.7777777777777778,
              "#fb9f3a"
             ],
             [
              0.8888888888888888,
              "#fdca26"
             ],
             [
              1,
              "#f0f921"
             ]
            ],
            "type": "heatmap"
           }
          ],
          "histogram": [
           {
            "marker": {
             "pattern": {
              "fillmode": "overlay",
              "size": 10,
              "solidity": 0.2
             }
            },
            "type": "histogram"
           }
          ],
          "histogram2d": [
           {
            "colorbar": {
             "outlinewidth": 0,
             "ticks": ""
            },
            "colorscale": [
             [
              0,
              "#0d0887"
             ],
             [
              0.1111111111111111,
              "#46039f"
             ],
             [
              0.2222222222222222,
              "#7201a8"
             ],
             [
              0.3333333333333333,
              "#9c179e"
             ],
             [
              0.4444444444444444,
              "#bd3786"
             ],
             [
              0.5555555555555556,
              "#d8576b"
             ],
             [
              0.6666666666666666,
              "#ed7953"
             ],
             [
              0.7777777777777778,
              "#fb9f3a"
             ],
             [
              0.8888888888888888,
              "#fdca26"
             ],
             [
              1,
              "#f0f921"
             ]
            ],
            "type": "histogram2d"
           }
          ],
          "histogram2dcontour": [
           {
            "colorbar": {
             "outlinewidth": 0,
             "ticks": ""
            },
            "colorscale": [
             [
              0,
              "#0d0887"
             ],
             [
              0.1111111111111111,
              "#46039f"
             ],
             [
              0.2222222222222222,
              "#7201a8"
             ],
             [
              0.3333333333333333,
              "#9c179e"
             ],
             [
              0.4444444444444444,
              "#bd3786"
             ],
             [
              0.5555555555555556,
              "#d8576b"
             ],
             [
              0.6666666666666666,
              "#ed7953"
             ],
             [
              0.7777777777777778,
              "#fb9f3a"
             ],
             [
              0.8888888888888888,
              "#fdca26"
             ],
             [
              1,
              "#f0f921"
             ]
            ],
            "type": "histogram2dcontour"
           }
          ],
          "mesh3d": [
           {
            "colorbar": {
             "outlinewidth": 0,
             "ticks": ""
            },
            "type": "mesh3d"
           }
          ],
          "parcoords": [
           {
            "line": {
             "colorbar": {
              "outlinewidth": 0,
              "ticks": ""
             }
            },
            "type": "parcoords"
           }
          ],
          "pie": [
           {
            "automargin": true,
            "type": "pie"
           }
          ],
          "scatter": [
           {
            "fillpattern": {
             "fillmode": "overlay",
             "size": 10,
             "solidity": 0.2
            },
            "type": "scatter"
           }
          ],
          "scatter3d": [
           {
            "line": {
             "colorbar": {
              "outlinewidth": 0,
              "ticks": ""
             }
            },
            "marker": {
             "colorbar": {
              "outlinewidth": 0,
              "ticks": ""
             }
            },
            "type": "scatter3d"
           }
          ],
          "scattercarpet": [
           {
            "marker": {
             "colorbar": {
              "outlinewidth": 0,
              "ticks": ""
             }
            },
            "type": "scattercarpet"
           }
          ],
          "scattergeo": [
           {
            "marker": {
             "colorbar": {
              "outlinewidth": 0,
              "ticks": ""
             }
            },
            "type": "scattergeo"
           }
          ],
          "scattergl": [
           {
            "marker": {
             "colorbar": {
              "outlinewidth": 0,
              "ticks": ""
             }
            },
            "type": "scattergl"
           }
          ],
          "scattermap": [
           {
            "marker": {
             "colorbar": {
              "outlinewidth": 0,
              "ticks": ""
             }
            },
            "type": "scattermap"
           }
          ],
          "scattermapbox": [
           {
            "marker": {
             "colorbar": {
              "outlinewidth": 0,
              "ticks": ""
             }
            },
            "type": "scattermapbox"
           }
          ],
          "scatterpolar": [
           {
            "marker": {
             "colorbar": {
              "outlinewidth": 0,
              "ticks": ""
             }
            },
            "type": "scatterpolar"
           }
          ],
          "scatterpolargl": [
           {
            "marker": {
             "colorbar": {
              "outlinewidth": 0,
              "ticks": ""
             }
            },
            "type": "scatterpolargl"
           }
          ],
          "scatterternary": [
           {
            "marker": {
             "colorbar": {
              "outlinewidth": 0,
              "ticks": ""
             }
            },
            "type": "scatterternary"
           }
          ],
          "surface": [
           {
            "colorbar": {
             "outlinewidth": 0,
             "ticks": ""
            },
            "colorscale": [
             [
              0,
              "#0d0887"
             ],
             [
              0.1111111111111111,
              "#46039f"
             ],
             [
              0.2222222222222222,
              "#7201a8"
             ],
             [
              0.3333333333333333,
              "#9c179e"
             ],
             [
              0.4444444444444444,
              "#bd3786"
             ],
             [
              0.5555555555555556,
              "#d8576b"
             ],
             [
              0.6666666666666666,
              "#ed7953"
             ],
             [
              0.7777777777777778,
              "#fb9f3a"
             ],
             [
              0.8888888888888888,
              "#fdca26"
             ],
             [
              1,
              "#f0f921"
             ]
            ],
            "type": "surface"
           }
          ],
          "table": [
           {
            "cells": {
             "fill": {
              "color": "#EBF0F8"
             },
             "line": {
              "color": "white"
             }
            },
            "header": {
             "fill": {
              "color": "#C8D4E3"
             },
             "line": {
              "color": "white"
             }
            },
            "type": "table"
           }
          ]
         },
         "layout": {
          "annotationdefaults": {
           "arrowcolor": "#2a3f5f",
           "arrowhead": 0,
           "arrowwidth": 1
          },
          "autotypenumbers": "strict",
          "coloraxis": {
           "colorbar": {
            "outlinewidth": 0,
            "ticks": ""
           }
          },
          "colorscale": {
           "diverging": [
            [
             0,
             "#8e0152"
            ],
            [
             0.1,
             "#c51b7d"
            ],
            [
             0.2,
             "#de77ae"
            ],
            [
             0.3,
             "#f1b6da"
            ],
            [
             0.4,
             "#fde0ef"
            ],
            [
             0.5,
             "#f7f7f7"
            ],
            [
             0.6,
             "#e6f5d0"
            ],
            [
             0.7,
             "#b8e186"
            ],
            [
             0.8,
             "#7fbc41"
            ],
            [
             0.9,
             "#4d9221"
            ],
            [
             1,
             "#276419"
            ]
           ],
           "sequential": [
            [
             0,
             "#0d0887"
            ],
            [
             0.1111111111111111,
             "#46039f"
            ],
            [
             0.2222222222222222,
             "#7201a8"
            ],
            [
             0.3333333333333333,
             "#9c179e"
            ],
            [
             0.4444444444444444,
             "#bd3786"
            ],
            [
             0.5555555555555556,
             "#d8576b"
            ],
            [
             0.6666666666666666,
             "#ed7953"
            ],
            [
             0.7777777777777778,
             "#fb9f3a"
            ],
            [
             0.8888888888888888,
             "#fdca26"
            ],
            [
             1,
             "#f0f921"
            ]
           ],
           "sequentialminus": [
            [
             0,
             "#0d0887"
            ],
            [
             0.1111111111111111,
             "#46039f"
            ],
            [
             0.2222222222222222,
             "#7201a8"
            ],
            [
             0.3333333333333333,
             "#9c179e"
            ],
            [
             0.4444444444444444,
             "#bd3786"
            ],
            [
             0.5555555555555556,
             "#d8576b"
            ],
            [
             0.6666666666666666,
             "#ed7953"
            ],
            [
             0.7777777777777778,
             "#fb9f3a"
            ],
            [
             0.8888888888888888,
             "#fdca26"
            ],
            [
             1,
             "#f0f921"
            ]
           ]
          },
          "colorway": [
           "#636efa",
           "#EF553B",
           "#00cc96",
           "#ab63fa",
           "#FFA15A",
           "#19d3f3",
           "#FF6692",
           "#B6E880",
           "#FF97FF",
           "#FECB52"
          ],
          "font": {
           "color": "#2a3f5f"
          },
          "geo": {
           "bgcolor": "white",
           "lakecolor": "white",
           "landcolor": "#E5ECF6",
           "showlakes": true,
           "showland": true,
           "subunitcolor": "white"
          },
          "hoverlabel": {
           "align": "left"
          },
          "hovermode": "closest",
          "mapbox": {
           "style": "light"
          },
          "paper_bgcolor": "white",
          "plot_bgcolor": "#E5ECF6",
          "polar": {
           "angularaxis": {
            "gridcolor": "white",
            "linecolor": "white",
            "ticks": ""
           },
           "bgcolor": "#E5ECF6",
           "radialaxis": {
            "gridcolor": "white",
            "linecolor": "white",
            "ticks": ""
           }
          },
          "scene": {
           "xaxis": {
            "backgroundcolor": "#E5ECF6",
            "gridcolor": "white",
            "gridwidth": 2,
            "linecolor": "white",
            "showbackground": true,
            "ticks": "",
            "zerolinecolor": "white"
           },
           "yaxis": {
            "backgroundcolor": "#E5ECF6",
            "gridcolor": "white",
            "gridwidth": 2,
            "linecolor": "white",
            "showbackground": true,
            "ticks": "",
            "zerolinecolor": "white"
           },
           "zaxis": {
            "backgroundcolor": "#E5ECF6",
            "gridcolor": "white",
            "gridwidth": 2,
            "linecolor": "white",
            "showbackground": true,
            "ticks": "",
            "zerolinecolor": "white"
           }
          },
          "shapedefaults": {
           "line": {
            "color": "#2a3f5f"
           }
          },
          "ternary": {
           "aaxis": {
            "gridcolor": "white",
            "linecolor": "white",
            "ticks": ""
           },
           "baxis": {
            "gridcolor": "white",
            "linecolor": "white",
            "ticks": ""
           },
           "bgcolor": "#E5ECF6",
           "caxis": {
            "gridcolor": "white",
            "linecolor": "white",
            "ticks": ""
           }
          },
          "title": {
           "x": 0.05
          },
          "xaxis": {
           "automargin": true,
           "gridcolor": "white",
           "linecolor": "white",
           "ticks": "",
           "title": {
            "standoff": 15
           },
           "zerolinecolor": "white",
           "zerolinewidth": 2
          },
          "yaxis": {
           "automargin": true,
           "gridcolor": "white",
           "linecolor": "white",
           "ticks": "",
           "title": {
            "standoff": 15
           },
           "zerolinecolor": "white",
           "zerolinewidth": 2
          }
         }
        },
        "xaxis": {
         "anchor": "y",
         "domain": [
          0,
          1
         ]
        },
        "yaxis": {
         "anchor": "x",
         "domain": [
          0,
          1
         ]
        }
       }
      }
     },
     "metadata": {},
     "output_type": "display_data"
    },
    {
     "name": "stdout",
     "output_type": "stream",
     "text": [
      "Rs: 2, lambda: 0.70545654296875\n"
     ]
    },
    {
     "data": {
      "application/vnd.plotly.v1+json": {
       "config": {
        "plotlyServerURL": "https://plot.ly"
       },
       "data": [
        {
         "hovertemplate": "<extra></extra>",
         "legendgroup": "",
         "line": {
          "color": "#636efa",
          "dash": "solid"
         },
         "marker": {
          "symbol": "circle"
         },
         "mode": "lines",
         "name": "",
         "orientation": "v",
         "showlegend": false,
         "type": "scatter",
         "xaxis": "x",
         "yaxis": "y"
        },
        {
         "name": "u, R=2",
         "type": "scatter",
         "x": [
          0,
          0,
          0.005,
          0.01,
          0.015,
          0.02,
          0.025,
          0.030000000000000002,
          0.035,
          0.04,
          0.045,
          0.049999999999999996,
          0.05499999999999999,
          0.05999999999999999,
          0.06499999999999999,
          0.06999999999999999,
          0.075,
          0.08,
          0.085,
          0.09000000000000001,
          0.09500000000000001,
          0.10000000000000002,
          0.10500000000000002,
          0.11000000000000003,
          0.11500000000000003,
          0.12000000000000004,
          0.12500000000000003,
          0.13000000000000003,
          0.13500000000000004,
          0.14000000000000004,
          0.14500000000000005,
          0.15000000000000005,
          0.15500000000000005,
          0.16000000000000006,
          0.16500000000000006,
          0.17000000000000007,
          0.17500000000000007,
          0.18000000000000008,
          0.18500000000000008,
          0.19000000000000009,
          0.1950000000000001,
          0.2000000000000001,
          0.2050000000000001,
          0.2100000000000001,
          0.2150000000000001,
          0.2200000000000001,
          0.22500000000000012,
          0.23000000000000012,
          0.23500000000000013,
          0.24000000000000013,
          0.24500000000000013,
          0.2500000000000001,
          0.2550000000000001,
          0.2600000000000001,
          0.2650000000000001,
          0.27000000000000013,
          0.27500000000000013,
          0.28000000000000014,
          0.28500000000000014,
          0.29000000000000015,
          0.29500000000000015,
          0.30000000000000016,
          0.30500000000000016,
          0.31000000000000016,
          0.31500000000000017,
          0.3200000000000002,
          0.3250000000000002,
          0.3300000000000002,
          0.3350000000000002,
          0.3400000000000002,
          0.3450000000000002,
          0.3500000000000002,
          0.3550000000000002,
          0.3600000000000002,
          0.3650000000000002,
          0.3700000000000002,
          0.3750000000000002,
          0.3800000000000002,
          0.38500000000000023,
          0.39000000000000024,
          0.39500000000000024,
          0.40000000000000024,
          0.40500000000000025,
          0.41000000000000025,
          0.41500000000000026,
          0.42000000000000026,
          0.42500000000000027,
          0.43000000000000027,
          0.4350000000000003,
          0.4400000000000003,
          0.4450000000000003,
          0.4500000000000003,
          0.4550000000000003,
          0.4600000000000003,
          0.4650000000000003,
          0.4700000000000003,
          0.4750000000000003,
          0.4800000000000003,
          0.4850000000000003,
          0.4900000000000003,
          0.49500000000000033,
          0.5000000000000003,
          0.5050000000000003,
          0.5100000000000003,
          0.5150000000000003,
          0.5200000000000004,
          0.5250000000000004,
          0.5300000000000004,
          0.5350000000000004,
          0.5400000000000004,
          0.5450000000000004,
          0.5500000000000004,
          0.5550000000000004,
          0.5600000000000004,
          0.5650000000000004,
          0.5700000000000004,
          0.5750000000000004,
          0.5800000000000004,
          0.5850000000000004,
          0.5900000000000004,
          0.5950000000000004,
          0.6000000000000004,
          0.6050000000000004,
          0.6100000000000004,
          0.6150000000000004,
          0.6200000000000004,
          0.6250000000000004,
          0.6300000000000004,
          0.6350000000000005,
          0.6400000000000005,
          0.6450000000000005,
          0.6500000000000005,
          0.6550000000000005,
          0.6600000000000005,
          0.6650000000000005,
          0.6700000000000005,
          0.6750000000000005,
          0.6800000000000005,
          0.6850000000000005,
          0.6900000000000005,
          0.6950000000000005,
          0.7000000000000005,
          0.7050000000000005,
          0.7100000000000005,
          0.7150000000000005,
          0.7200000000000005,
          0.7250000000000005,
          0.7300000000000005,
          0.7350000000000005,
          0.7400000000000005,
          0.7450000000000006,
          0.7500000000000006,
          0.7550000000000006,
          0.7600000000000006,
          0.7650000000000006,
          0.7700000000000006,
          0.7750000000000006,
          0.7800000000000006,
          0.7850000000000006,
          0.7900000000000006,
          0.7950000000000006,
          0.8000000000000006,
          0.8050000000000006,
          0.8100000000000006,
          0.8150000000000006,
          0.8200000000000006,
          0.8250000000000006,
          0.8300000000000006,
          0.8350000000000006,
          0.8400000000000006,
          0.8450000000000006,
          0.8500000000000006,
          0.8550000000000006,
          0.8600000000000007,
          0.8650000000000007,
          0.8700000000000007,
          0.8750000000000007,
          0.8800000000000007,
          0.8850000000000007,
          0.8900000000000007,
          0.8950000000000007,
          0.9000000000000007,
          0.9050000000000007,
          0.9100000000000007,
          0.9150000000000007,
          0.9200000000000007,
          0.9250000000000007,
          0.9300000000000007,
          0.9350000000000007,
          0.9400000000000007,
          0.9450000000000007,
          0.9500000000000007,
          0.9550000000000007,
          0.9600000000000007,
          0.9650000000000007,
          0.9700000000000008,
          0.9750000000000008,
          0.9800000000000008,
          0.9850000000000008,
          0.9900000000000008,
          0.9950000000000008,
          1.0000000000000007,
          1.0050000000000006,
          1.0100000000000005,
          1.0150000000000003,
          1.0200000000000002,
          1.0250000000000001,
          1.03,
          1.035,
          1.0399999999999998,
          1.0449999999999997,
          1.0499999999999996,
          1.0549999999999995,
          1.0599999999999994,
          1.0649999999999993,
          1.0699999999999992,
          1.074999999999999,
          1.079999999999999,
          1.0849999999999989,
          1.0899999999999987,
          1.0949999999999986,
          1.0999999999999985,
          1.1049999999999984,
          1.1099999999999983,
          1.1149999999999982,
          1.119999999999998,
          1.124999999999998,
          1.129999999999998,
          1.1349999999999978,
          1.1399999999999977,
          1.1449999999999976,
          1.1499999999999975,
          1.1549999999999974,
          1.1599999999999973,
          1.1649999999999971,
          1.169999999999997,
          1.174999999999997,
          1.1799999999999968,
          1.1849999999999967,
          1.1899999999999966,
          1.1949999999999965,
          1.1999999999999964,
          1.2049999999999963,
          1.2099999999999962,
          1.214999999999996,
          1.219999999999996,
          1.2249999999999959,
          1.2299999999999958,
          1.2349999999999957,
          1.2399999999999956,
          1.2449999999999954,
          1.2499999999999953,
          1.2549999999999952,
          1.2599999999999951,
          1.264999999999995,
          1.269999999999995,
          1.2749999999999948,
          1.2799999999999947,
          1.2849999999999946,
          1.2899999999999945,
          1.2949999999999944,
          1.2999999999999943,
          1.3049999999999942,
          1.309999999999994,
          1.314999999999994,
          1.3199999999999938,
          1.3249999999999937,
          1.3299999999999936,
          1.3349999999999935,
          1.3399999999999934,
          1.3449999999999933,
          1.3499999999999932,
          1.354999999999993,
          1.359999999999993,
          1.3649999999999929,
          1.3699999999999928,
          1.3749999999999927,
          1.3799999999999926,
          1.3849999999999925,
          1.3899999999999924,
          1.3949999999999922,
          1.3999999999999921,
          1.404999999999992,
          1.409999999999992,
          1.4149999999999918,
          1.4199999999999917,
          1.4249999999999916,
          1.4299999999999915,
          1.4349999999999914,
          1.4399999999999913,
          1.4449999999999912,
          1.449999999999991,
          1.454999999999991,
          1.4599999999999909,
          1.4649999999999908,
          1.4699999999999906,
          1.4749999999999905,
          1.4799999999999904,
          1.4849999999999903,
          1.4899999999999902,
          1.4949999999999901,
          1.49999999999999,
          1.50499999999999,
          1.5099999999999898,
          1.5149999999999897,
          1.5199999999999896,
          1.5249999999999895,
          1.5299999999999894,
          1.5349999999999893,
          1.5399999999999892,
          1.544999999999989,
          1.549999999999989,
          1.5549999999999888,
          1.5599999999999887,
          1.5649999999999886,
          1.5699999999999885,
          1.5749999999999884,
          1.5799999999999883,
          1.5849999999999882,
          1.589999999999988,
          1.594999999999988,
          1.5999999999999879,
          1.6049999999999878,
          1.6099999999999877,
          1.6149999999999876,
          1.6199999999999875,
          1.6249999999999873,
          1.6299999999999872,
          1.6349999999999871,
          1.639999999999987,
          1.644999999999987,
          1.6499999999999868,
          1.6549999999999867,
          1.6599999999999866,
          1.6649999999999865,
          1.6699999999999864,
          1.6749999999999863,
          1.6799999999999862,
          1.684999999999986,
          1.689999999999986,
          1.6949999999999859,
          1.6999999999999857,
          1.7049999999999856,
          1.7099999999999855,
          1.7149999999999854,
          1.7199999999999853,
          1.7249999999999852,
          1.729999999999985,
          1.734999999999985,
          1.739999999999985,
          1.7449999999999848,
          1.7499999999999847,
          1.7549999999999846,
          1.7599999999999845,
          1.7649999999999844,
          1.7699999999999843,
          1.7749999999999841,
          1.779999999999984,
          1.784999999999984,
          1.7899999999999838,
          1.7949999999999837,
          1.7999999999999836,
          1.8049999999999835,
          1.8099999999999834,
          1.8149999999999833,
          1.8199999999999832,
          1.824999999999983,
          1.829999999999983,
          1.8349999999999829,
          1.8399999999999828,
          1.8449999999999827,
          1.8499999999999825,
          1.8549999999999824,
          1.8599999999999823,
          1.8649999999999822,
          1.8699999999999821,
          1.874999999999982,
          1.879999999999982,
          1.8849999999999818,
          1.8899999999999817,
          1.8949999999999816,
          1.8999999999999815,
          1.9049999999999814,
          1.9099999999999813,
          1.9149999999999812,
          1.919999999999981,
          1.924999999999981,
          1.9299999999999808,
          1.9349999999999807,
          1.9399999999999806,
          1.9449999999999805,
          1.9499999999999804,
          1.9549999999999803,
          1.9599999999999802,
          1.96499999999998,
          1.96999999999998,
          1.9749999999999799,
          1.9799999999999798,
          1.9849999999999797,
          1.9899999999999796,
          1.9949999999999795,
          1.9999999999999793
         ],
         "y": [
          0.0000018071655714136157,
          0.000001807150707645798,
          0.0000018071061155345041,
          0.0000018070317924252598,
          0.0000018069277339275126,
          0.0000018067939338992626,
          0.0000018066303844495664,
          0.0000018064370759426472,
          0.000001806213997003044,
          0.000001805961134521731,
          0.000001805678473663189,
          0.0000018053659978734315,
          0.0000018050236888889825,
          0.0000018046515267468099,
          0.0000018042494897952166,
          0.0000018038175547056923,
          0.0000018033556964857285,
          0.0000018028638884926013,
          0.000001802342102448126,
          0.0000018017903084543856,
          0.0000018012084750104386,
          0.0000018005965690300124,
          0.000001799954555860183,
          0.0000017992823993010496,
          0.0000017985800616264071,
          0.000001797847503605423,
          0.0000017970846845253223,
          0.0000017962915622150896,
          0.0000017954680930701898,
          0.0000017946142320783172,
          0.0000017937299328461777,
          0.000001792815147627309,
          0.0000017918698273509487,
          0.0000017908939216519536,
          0.0000017898873789017783,
          0.000001788850146240521,
          0.0000017877821696100408,
          0.0000017866833937881563,
          0.0000017855537624239306,
          0.0000017843932180740508,
          0.0000017832017022403096,
          0.0000017819791554081942,
          0.0000017807255170865933,
          0.0000017794407258486255,
          0.0000017781247193735987,
          0.0000017767774344901085,
          0.00000177539880722028,
          0.0000017739887728251628,
          0.0000017725472658512844,
          0.0000017710742201783713,
          0.000001769569569068241,
          0.000001768033245214876,
          0.0000017664651807956833,
          0.0000017648653075239471,
          0.0000017632335567024805,
          0.000001761569859278483,
          0.0000017598741458996095,
          0.0000017581463469712556,
          0.0000017563863927150648,
          0.0000017545942132286648,
          0.0000017527697385466343,
          0.0000017509128987027072,
          0.0000017490236237932175,
          0.0000017471018440417885,
          0.0000017451474898652704,
          0.000001743160491940928,
          0.0000017411407812748827,
          0.0000017390882892718084,
          0.0000017370029478058858,
          0.0000017348846892930132,
          0.0000017327334467642767,
          0.0000017305491539406778,
          0.0000017283317453091184,
          0.0000017260811561996426,
          0.0000017237973228639314,
          0.0000017214801825550495,
          0.0000017191296736084402,
          0.0000017167457355241628,
          0.0000017143283090503698,
          0.0000017118773362680163,
          0.000001709392760676796,
          0.000001706874527282296,
          0.000001704322582684362,
          0.0000017017368751666652,
          0.0000016991173547874571,
          0.0000016964639734715086,
          0.0000016937766851032116,
          0.0000016910554456208375,
          0.0000016883002131119329,
          0.0000016855109479098404,
          0.0000016826876126913254,
          0.0000016798301725752918,
          0.000001676938595222568,
          0.0000016740128509367412,
          0.0000016710529127660198,
          0.0000016680587566060998,
          0.000001665030361304011,
          0.0000016619677087629174,
          0.0000016588707840478442,
          0.0000016557395754923027,
          0.0000016525740748057827,
          0.0000016493742771820814,
          0.0000016461401814084348,
          0.000001642871789975416,
          0.0000016395691091875661,
          0.0000016362321492747162,
          0.0000016328609245039645,
          0.0000016294554532922635,
          0.000001626015758319576,
          0.0000016225418666425543,
          0.000001619033809808695,
          0.0000016154916239709226,
          0.0000016119153500025485,
          0.0000016083050336125559,
          0.0000016046607254611546,
          0.0000016009824812755494,
          0.0000015972703619658654,
          0.0000015935244337411679,
          0.0000015897447682255172,
          0.0000015859314425739917,
          0.0000015820845395886163,
          0.0000015782041478341245,
          0.0000015742903617534868,
          0.0000015703432817831326,
          0.0000015663630144677892,
          0.0000015623496725748663,
          0.000001558303375208302,
          0.0000015542242479217945,
          0.0000015501124228313346,
          0.0000015459680387269554,
          0.0000015417912411836119,
          0.0000015375821826711028,
          0.0000015333410226629434,
          0.0000015290679277440968,
          0.0000015247630717174684,
          0.0000015204266357090691,
          0.0000015160588082717447,
          0.000001511659785487375,
          0.0000015072297710674374,
          0.0000015027689764518327,
          0.0000014982776209058645,
          0.000001493755931615266,
          0.0000014892041437791644,
          0.000001484622500700871,
          0.0000014800112538763838,
          0.0000014753706630804864,
          0.000001470700996450332,
          0.000001466002530566388,
          0.0000014612755505306265,
          0.0000014565203500418393,
          0.000001451737231467955,
          0.000001446926505915235,
          0.0000014420884932942252,
          0.000001437223522382338,
          0.000001432331930882938,
          0.0000014274140654808064,
          0.0000014224702818938523,
          0.000001417500944920949,
          0.000001412506428485762,
          0.000001407487115676439,
          0.0000014024433987810385,
          0.00000139737567931856,
          0.0000013922843680654528,
          0.0000013871698850774709,
          0.0000013820326597067444,
          0.0000013768731306139433,
          0.0000013716917457753997,
          0.0000013664889624850678,
          0.0000013612652473511898,
          0.000001356021076287548,
          0.0000013507569344991738,
          0.0000013454733164623975,
          0.0000013401707258991133,
          0.0000013348496757451434,
          0.0000013295106881125838,
          0.0000013241542942460175,
          0.0000013187810344724839,
          0.0000013133914581450929,
          0.0000013079861235801807,
          0.0000013025655979879005,
          0.0000012971304573961508,
          0.0000012916812865677435,
          0.0000012862186789107193,
          0.000001280743236381723,
          0.0000012752555693823517,
          0.0000012697562966483988,
          0.000001264246045131918,
          0.000001258725449876035,
          0.0000012531951538824449,
          0.0000012476558079715343,
          0.0000012421080706350744,
          0.0000012365526078814372,
          0.000001230990093073294,
          0.000001225421206757761,
          0.0000012198466364889618,
          0.0000012142670766429886,
          0.0000012086832282252454,
          0.000001203095798670167,
          0.000001197505501633315,
          0.0000011919130567758618,
          0.0000011863191895414739,
          0.0000011807246309256285,
          0.000001175130117237389,
          0.00000116953638985369,
          0.000001163944194966177,
          0.0000011583542833206694,
          0.0000011527674099493114,
          0.0000011471843338954966,
          0.0000011416058179316528,
          0.0000011360326282699911,
          0.0000011304655342663283,
          0.000001124905308117104,
          0.0000011193527245497261,
          0.0000011138085605063853,
          0.0000011082735948214923,
          0.0000011027486078929047,
          0.0000010972343813471149,
          0.0000010917316976985893,
          0.0000010862413400034547,
          0.000001080764091507741,
          0.0000010753007352904005,
          0.000001069852053901337,
          0.0000010644188289946846,
          0.000001059001840957592,
          0.0000010536018685347789,
          0.0000010482196884491376,
          0.000001042856075018671,
          0.000001037511799770062,
          0.0000010321876310491874,
          0.000001026884333628892,
          0.0000010216026683143577,
          0.0000010163433915464045,
          0.0000010111072550030776,
          0.0000010058950051998783,
          0.0000010007073830890109,
          9.95545123658024e-7,
          9.904089555282352e-7,
          9.852996005533342e-7,
          9.802177732678216e-7,
          9.751641773234173e-7,
          9.701395097364427e-7,
          9.651444612567915e-7,
          9.601797138808193e-7,
          9.552459404598298e-7,
          9.503438043117162e-7,
          9.454739588362059e-7,
          9.406370471341619e-7,
          9.358337016313946e-7,
          9.310645437074444e-7,
          9.263301833297941e-7,
          9.216312186939727e-7,
          9.169682358700125e-7,
          9.123418084557219e-7,
          9.077524972372339e-7,
          9.032008498572883e-7,
          8.986874004917054e-7,
          8.942126695345012e-7,
          8.897771632920944e-7,
          8.853813736870448e-7,
          8.810257779717619e-7,
          8.767108384526103e-7,
          8.724370022248345e-7,
          8.682047009187125e-7,
          8.640143504573409e-7,
          8.598663508264418e-7,
          8.557610858565683e-7,
          8.516989230180754e-7,
          8.476802132292058e-7,
          8.437052906776276e-7,
          8.397744726557435e-7,
          8.358880594100744e-7,
          8.320463340050026e-7,
          8.28249562201141e-7,
          8.244979923485746e-7,
          8.207918552951999e-7,
          8.171313643103661e-7,
          8.135167150240007e-7,
          8.09948085381376e-7,
          8.064256356136537e-7,
          8.029495082243139e-7,
          7.995198279915545e-7,
          7.961367019867177e-7,
          7.928002196087749e-7,
          7.895104525595758e-7,
          7.862674533324581e-7,
          7.830712576546407e-7,
          7.799218849456935e-7,
          7.768193373667614e-7,
          7.737635999504107e-7,
          7.7075464074595e-7,
          7.677924109800304e-7,
          7.648768452322902e-7,
          7.620078616257871e-7,
          7.591853620319266e-7,
          7.564092322895665e-7,
          7.53679342437949e-7,
          7.509955469630826e-7,
          7.483576850571663e-7,
          7.457655808906214e-7,
          7.4321904389627e-7,
          7.407178690651702e-7,
          7.382618372535931e-7,
          7.358507155006043e-7,
          7.334842573556832e-7,
          7.311622032157976e-7,
          7.288842806713223e-7,
          7.26650204860177e-7,
          7.244596788295346e-7,
          7.223123939044377e-7,
          7.202080300626415e-7,
          7.181462563149919e-7,
          7.161267310906308e-7,
          7.141491026263139e-7,
          7.122130093591156e-7,
          7.103180853362349e-7,
          7.084639556550793e-7,
          7.066502314509155e-7,
          7.048765156198758e-7,
          7.031424032472414e-7,
          7.014474820053084e-7,
          6.997913325495004e-7,
          6.981735289120113e-7,
          6.965936388922771e-7,
          6.950512244435853e-7,
          6.935458420551507e-7,
          6.920770431290031e-7,
          6.906443743510536e-7,
          6.892473780557311e-7,
          6.878855925836046e-7,
          6.865585526314364e-7,
          6.852657895941406e-7,
          6.84006831898154e-7,
          6.827812053257599e-7,
          6.815884333299437e-7,
          6.804280373393929e-7,
          6.792995370532988e-7,
          6.782024507256547e-7,
          6.771362964696576e-7,
          6.7610059414477e-7,
          6.750948593602807e-7,
          6.741186069992642e-7,
          6.731713517585353e-7,
          6.722526083660515e-7,
          6.713618917869205e-7,
          6.704987174180697e-7,
          6.696626012716837e-7,
          6.688530601475613e-7,
          6.6806961179459e-7,
          6.673117750615783e-7,
          6.665790700377341e-7,
          6.658710181831142e-7,
          6.651871424494152e-7,
          6.645269673915137e-7,
          6.638900192701992e-7,
          6.632758261465798e-7,
          6.626839179686734e-7,
          6.621138259466543e-7,
          6.615650752606679e-7,
          6.610371999976954e-7,
          6.60529739073195e-7,
          6.600422336123191e-7,
          6.595742270017392e-7,
          6.591252649379147e-7,
          6.586948954724721e-7,
          6.582826690553688e-7,
          6.578881385765203e-7,
          6.575108594065656e-7,
          6.571503894374447e-7,
          6.568062891234571e-7,
          6.564781215234568e-7,
          6.561654523448336e-7,
          6.558678499899129e-7,
          6.555848856053908e-7,
          6.553161334522988e-7,
          6.550611709859351e-7,
          6.548195778820104e-7,
          6.54590936758593e-7,
          6.543748332934108e-7,
          6.541708563034102e-7,
          6.539785978311048e-7,
          6.537976532381599e-7,
          6.536276213066335e-7,
          6.534681043482717e-7,
          6.53318708322235e-7,
          6.531790429616086e-7,
          6.530487219090312e-7,
          6.52927362861754e-7,
          6.528145877887758e-7,
          6.527100245629788e-7,
          6.526133048280547e-7,
          6.525240638334524e-7,
          6.524419417739854e-7,
          6.52366583997298e-7,
          6.522976412224764e-7,
          6.52234769769993e-7,
          6.521776318031544e-7,
          6.521258955812139e-7,
          6.520792357242966e-7,
          6.520373334902716e-7,
          6.519998770636951e-7,
          6.519665618569351e-7,
          6.51935258357651e-7
         ]
        },
        {
         "name": "u_p, R=2",
         "type": "scatter",
         "x": [
          0,
          0,
          0.005,
          0.01,
          0.015,
          0.02,
          0.025,
          0.030000000000000002,
          0.035,
          0.04,
          0.045,
          0.049999999999999996,
          0.05499999999999999,
          0.05999999999999999,
          0.06499999999999999,
          0.06999999999999999,
          0.075,
          0.08,
          0.085,
          0.09000000000000001,
          0.09500000000000001,
          0.10000000000000002,
          0.10500000000000002,
          0.11000000000000003,
          0.11500000000000003,
          0.12000000000000004,
          0.12500000000000003,
          0.13000000000000003,
          0.13500000000000004,
          0.14000000000000004,
          0.14500000000000005,
          0.15000000000000005,
          0.15500000000000005,
          0.16000000000000006,
          0.16500000000000006,
          0.17000000000000007,
          0.17500000000000007,
          0.18000000000000008,
          0.18500000000000008,
          0.19000000000000009,
          0.1950000000000001,
          0.2000000000000001,
          0.2050000000000001,
          0.2100000000000001,
          0.2150000000000001,
          0.2200000000000001,
          0.22500000000000012,
          0.23000000000000012,
          0.23500000000000013,
          0.24000000000000013,
          0.24500000000000013,
          0.2500000000000001,
          0.2550000000000001,
          0.2600000000000001,
          0.2650000000000001,
          0.27000000000000013,
          0.27500000000000013,
          0.28000000000000014,
          0.28500000000000014,
          0.29000000000000015,
          0.29500000000000015,
          0.30000000000000016,
          0.30500000000000016,
          0.31000000000000016,
          0.31500000000000017,
          0.3200000000000002,
          0.3250000000000002,
          0.3300000000000002,
          0.3350000000000002,
          0.3400000000000002,
          0.3450000000000002,
          0.3500000000000002,
          0.3550000000000002,
          0.3600000000000002,
          0.3650000000000002,
          0.3700000000000002,
          0.3750000000000002,
          0.3800000000000002,
          0.38500000000000023,
          0.39000000000000024,
          0.39500000000000024,
          0.40000000000000024,
          0.40500000000000025,
          0.41000000000000025,
          0.41500000000000026,
          0.42000000000000026,
          0.42500000000000027,
          0.43000000000000027,
          0.4350000000000003,
          0.4400000000000003,
          0.4450000000000003,
          0.4500000000000003,
          0.4550000000000003,
          0.4600000000000003,
          0.4650000000000003,
          0.4700000000000003,
          0.4750000000000003,
          0.4800000000000003,
          0.4850000000000003,
          0.4900000000000003,
          0.49500000000000033,
          0.5000000000000003,
          0.5050000000000003,
          0.5100000000000003,
          0.5150000000000003,
          0.5200000000000004,
          0.5250000000000004,
          0.5300000000000004,
          0.5350000000000004,
          0.5400000000000004,
          0.5450000000000004,
          0.5500000000000004,
          0.5550000000000004,
          0.5600000000000004,
          0.5650000000000004,
          0.5700000000000004,
          0.5750000000000004,
          0.5800000000000004,
          0.5850000000000004,
          0.5900000000000004,
          0.5950000000000004,
          0.6000000000000004,
          0.6050000000000004,
          0.6100000000000004,
          0.6150000000000004,
          0.6200000000000004,
          0.6250000000000004,
          0.6300000000000004,
          0.6350000000000005,
          0.6400000000000005,
          0.6450000000000005,
          0.6500000000000005,
          0.6550000000000005,
          0.6600000000000005,
          0.6650000000000005,
          0.6700000000000005,
          0.6750000000000005,
          0.6800000000000005,
          0.6850000000000005,
          0.6900000000000005,
          0.6950000000000005,
          0.7000000000000005,
          0.7050000000000005,
          0.7100000000000005,
          0.7150000000000005,
          0.7200000000000005,
          0.7250000000000005,
          0.7300000000000005,
          0.7350000000000005,
          0.7400000000000005,
          0.7450000000000006,
          0.7500000000000006,
          0.7550000000000006,
          0.7600000000000006,
          0.7650000000000006,
          0.7700000000000006,
          0.7750000000000006,
          0.7800000000000006,
          0.7850000000000006,
          0.7900000000000006,
          0.7950000000000006,
          0.8000000000000006,
          0.8050000000000006,
          0.8100000000000006,
          0.8150000000000006,
          0.8200000000000006,
          0.8250000000000006,
          0.8300000000000006,
          0.8350000000000006,
          0.8400000000000006,
          0.8450000000000006,
          0.8500000000000006,
          0.8550000000000006,
          0.8600000000000007,
          0.8650000000000007,
          0.8700000000000007,
          0.8750000000000007,
          0.8800000000000007,
          0.8850000000000007,
          0.8900000000000007,
          0.8950000000000007,
          0.9000000000000007,
          0.9050000000000007,
          0.9100000000000007,
          0.9150000000000007,
          0.9200000000000007,
          0.9250000000000007,
          0.9300000000000007,
          0.9350000000000007,
          0.9400000000000007,
          0.9450000000000007,
          0.9500000000000007,
          0.9550000000000007,
          0.9600000000000007,
          0.9650000000000007,
          0.9700000000000008,
          0.9750000000000008,
          0.9800000000000008,
          0.9850000000000008,
          0.9900000000000008,
          0.9950000000000008,
          1.0000000000000007,
          1.0050000000000006,
          1.0100000000000005,
          1.0150000000000003,
          1.0200000000000002,
          1.0250000000000001,
          1.03,
          1.035,
          1.0399999999999998,
          1.0449999999999997,
          1.0499999999999996,
          1.0549999999999995,
          1.0599999999999994,
          1.0649999999999993,
          1.0699999999999992,
          1.074999999999999,
          1.079999999999999,
          1.0849999999999989,
          1.0899999999999987,
          1.0949999999999986,
          1.0999999999999985,
          1.1049999999999984,
          1.1099999999999983,
          1.1149999999999982,
          1.119999999999998,
          1.124999999999998,
          1.129999999999998,
          1.1349999999999978,
          1.1399999999999977,
          1.1449999999999976,
          1.1499999999999975,
          1.1549999999999974,
          1.1599999999999973,
          1.1649999999999971,
          1.169999999999997,
          1.174999999999997,
          1.1799999999999968,
          1.1849999999999967,
          1.1899999999999966,
          1.1949999999999965,
          1.1999999999999964,
          1.2049999999999963,
          1.2099999999999962,
          1.214999999999996,
          1.219999999999996,
          1.2249999999999959,
          1.2299999999999958,
          1.2349999999999957,
          1.2399999999999956,
          1.2449999999999954,
          1.2499999999999953,
          1.2549999999999952,
          1.2599999999999951,
          1.264999999999995,
          1.269999999999995,
          1.2749999999999948,
          1.2799999999999947,
          1.2849999999999946,
          1.2899999999999945,
          1.2949999999999944,
          1.2999999999999943,
          1.3049999999999942,
          1.309999999999994,
          1.314999999999994,
          1.3199999999999938,
          1.3249999999999937,
          1.3299999999999936,
          1.3349999999999935,
          1.3399999999999934,
          1.3449999999999933,
          1.3499999999999932,
          1.354999999999993,
          1.359999999999993,
          1.3649999999999929,
          1.3699999999999928,
          1.3749999999999927,
          1.3799999999999926,
          1.3849999999999925,
          1.3899999999999924,
          1.3949999999999922,
          1.3999999999999921,
          1.404999999999992,
          1.409999999999992,
          1.4149999999999918,
          1.4199999999999917,
          1.4249999999999916,
          1.4299999999999915,
          1.4349999999999914,
          1.4399999999999913,
          1.4449999999999912,
          1.449999999999991,
          1.454999999999991,
          1.4599999999999909,
          1.4649999999999908,
          1.4699999999999906,
          1.4749999999999905,
          1.4799999999999904,
          1.4849999999999903,
          1.4899999999999902,
          1.4949999999999901,
          1.49999999999999,
          1.50499999999999,
          1.5099999999999898,
          1.5149999999999897,
          1.5199999999999896,
          1.5249999999999895,
          1.5299999999999894,
          1.5349999999999893,
          1.5399999999999892,
          1.544999999999989,
          1.549999999999989,
          1.5549999999999888,
          1.5599999999999887,
          1.5649999999999886,
          1.5699999999999885,
          1.5749999999999884,
          1.5799999999999883,
          1.5849999999999882,
          1.589999999999988,
          1.594999999999988,
          1.5999999999999879,
          1.6049999999999878,
          1.6099999999999877,
          1.6149999999999876,
          1.6199999999999875,
          1.6249999999999873,
          1.6299999999999872,
          1.6349999999999871,
          1.639999999999987,
          1.644999999999987,
          1.6499999999999868,
          1.6549999999999867,
          1.6599999999999866,
          1.6649999999999865,
          1.6699999999999864,
          1.6749999999999863,
          1.6799999999999862,
          1.684999999999986,
          1.689999999999986,
          1.6949999999999859,
          1.6999999999999857,
          1.7049999999999856,
          1.7099999999999855,
          1.7149999999999854,
          1.7199999999999853,
          1.7249999999999852,
          1.729999999999985,
          1.734999999999985,
          1.739999999999985,
          1.7449999999999848,
          1.7499999999999847,
          1.7549999999999846,
          1.7599999999999845,
          1.7649999999999844,
          1.7699999999999843,
          1.7749999999999841,
          1.779999999999984,
          1.784999999999984,
          1.7899999999999838,
          1.7949999999999837,
          1.7999999999999836,
          1.8049999999999835,
          1.8099999999999834,
          1.8149999999999833,
          1.8199999999999832,
          1.824999999999983,
          1.829999999999983,
          1.8349999999999829,
          1.8399999999999828,
          1.8449999999999827,
          1.8499999999999825,
          1.8549999999999824,
          1.8599999999999823,
          1.8649999999999822,
          1.8699999999999821,
          1.874999999999982,
          1.879999999999982,
          1.8849999999999818,
          1.8899999999999817,
          1.8949999999999816,
          1.8999999999999815,
          1.9049999999999814,
          1.9099999999999813,
          1.9149999999999812,
          1.919999999999981,
          1.924999999999981,
          1.9299999999999808,
          1.9349999999999807,
          1.9399999999999806,
          1.9449999999999805,
          1.9499999999999804,
          1.9549999999999803,
          1.9599999999999802,
          1.96499999999998,
          1.96999999999998,
          1.9749999999999799,
          1.9799999999999798,
          1.9849999999999797,
          1.9899999999999796,
          1.9949999999999795,
          1.9999999999999793
         ],
         "y": [
          0.000002561696520395968,
          0.000002561696520395968,
          0.000002561696520008602,
          0.000002561696514198119,
          0.0000025616964890193596,
          0.0000025616964212303913,
          0.000002561696278292516,
          0.0000025616960183702615,
          0.0000025616955903314197,
          0.0000025616949337470273,
          0.0000025616939788914432,
          0.000002561692646742362,
          0.0000025616908489809067,
          0.0000025616884879917276,
          0.0000025616854568631365,
          0.000002561681639387291,
          0.000002561676910060418,
          0.0000025616711340831054,
          0.0000025616641673606693,
          0.0000025616558565035805,
          0.000002561646038828007,
          0.000002561634542356428,
          0.000002561621185818383,
          0.0000025616057786513583,
          0.0000025615881210017764,
          0.0000025615680037261713,
          0.000002561545208392534,
          0.0000025615195072818215,
          0.0000025614906633896894,
          0.0000025614584304284387,
          0.000002561422552829198,
          0.000002561382765744358,
          0.0000025613387950502847,
          0.0000025612903573503455,
          0.0000025612371599782108,
          0.000002561178901001541,
          0.000002561115269225997,
          0.0000025610459441996435,
          0.0000025609705962177834,
          0.0000025608888863281745,
          0.000002560800466336741,
          0.000002560704978813756,
          0.00000256060205710052,
          0.0000025604913253165892,
          0.000002560372398367554,
          0.0000025602448819534094,
          0.00000256010837257756,
          0.0000025599624575564495,
          0.0000025598067150298883,
          0.0000025596407139720938,
          0.000002559464014203455,
          0.0000025592761664030906,
          0.000002559076712122212,
          0.000002558865183798332,
          0.0000025586411047703277,
          0.000002558403989294464,
          0.0000025581533425613155,
          0.0000025578886607137037,
          0.00000255760943086566,
          0.00000255731513112243,
          0.0000025570052306015903,
          0.0000025566791894553118,
          0.0000025563364588937874,
          0.000002555976481209908,
          0.0000025555986898051535,
          0.00000255520250921685,
          0.0000025547873551467223,
          0.0000025543526344908695,
          0.000002553897745371162,
          0.0000025534220771681393,
          0.0000025529250105554004,
          0.000002552405917535599,
          0.000002551864161478051,
          0.000002551299097157996,
          0.0000025507100707976085,
          0.0000025500964201087227,
          0.000002549457474337431,
          0.0000025487925543105066,
          0.0000025481009724837625,
          0.000002547382032992375,
          0.000002546635031703222,
          0.000002545859256269314,
          0.000002545053986186331,
          0.000002544218492851355,
          0.0000025433520396238477,
          0.0000025424538818888913,
          0.0000025415232671228214,
          0.0000025405594349612247,
          0.000002539561617269441,
          0.0000025385290382155517,
          0.000002537460914345977,
          0.000002536356454663695,
          0.0000025352148607091783,
          0.0000025340353266440786,
          0.000002532817039337754,
          0.000002531559178456649,
          0.0000025302609165566546,
          0.0000025289214191784693,
          0.000002527539844946027,
          0.0000025261153456680857,
          0.0000025246470664429802,
          0.0000025231341457666945,
          0.000002521575715644233,
          0.000002519970901704417,
          0.0000025183188233181336,
          0.0000025166185937201412,
          0.0000025148693201344567,
          0.000002513070103903445,
          0.0000025112200406206397,
          0.0000025093182202673684,
          0.0000025073637273532845,
          0.000002505355641060838,
          0.0000025032930353937713,
          0.0000025011749793297375,
          0.000002499000536977057,
          0.000002496768767735748,
          0.0000024944787264628465,
          0.000002492129463642142,
          0.0000024897200255583677,
          0.000002487249454475916,
          0.0000024847167888222043,
          0.00000248212106337568,
          0.0000024794613094586365,
          0.000002476736555134853,
          0.0000024739458254121292,
          0.000002471088142449855,
          0.0000024681625257716147,
          0.000002465167992482954,
          0.0000024621035574943723,
          0.0000024589682337496084,
          0.0000024557610324593116,
          0.000002452480963340168,
          0.000002449127034859566,
          0.000002445698254485856,
          0.000002442193628944334,
          0.0000024386121644789636,
          0.000002434952867119959,
          0.000002431214742957291,
          0.0000024273967984201934,
          0.000002423498040562758,
          0.0000024195174773556874,
          0.0000024154541179842645,
          0.0000024113069731526738,
          0.0000024070750553946767,
          0.0000024027573793907784,
          0.000002398352962291927,
          0.0000023938608240498486,
          0.0000023892799877540597,
          0.000002384609479975659,
          0.0000023798483311179724,
          0.00000237499557577412,
          0.0000023700502530915556,
          0.0000023650114071436934,
          0.000002359878087308673,
          0.0000023546493486553157,
          0.0000023493242523363877,
          0.000002343901865989167,
          0.0000023383812641434918,
          0.0000023327615286372205,
          0.000002327041749039289,
          0.000002321221023080361,
          0.0000023152984570911517,
          0.000002309273166448498,
          0.000002303144276029194,
          0.00000229691092067173,
          0.0000022905722456458806,
          0.000002284127407130294,
          0.0000022775755726980804,
          0.000002270915921810453,
          0.0000022641476463185016,
          0.00000225726995097309,
          0.000002250282053942959,
          0.0000022431831873410833,
          0.0000022359725977592523,
          0.0000022286495468109846,
          0.000002221213311682776,
          0.0000022136631856936694,
          0.0000022059984788632383,
          0.0000021982185184879524,
          0.0000021903226497259347,
          0.0000021823102361901747,
          0.0000021741806605501306,
          0.000002165933325141774,
          0.0000021575676525860505,
          0.0000021490830864157536,
          0.0000021404790917107794,
          0.000002131755155741771,
          0.000002122910788622095,
          0.0000021139455239681462,
          0.0000021048589195678984,
          0.0000020956505580576953,
          0.0000020863200476072153,
          0.000002076867022612535,
          0.0000020672911443972175,
          0.0000020575921019213847,
          0.000002047769612498634,
          0.0000020378234225207404,
          0.0000020277533081900203,
          0.000002017559076259251,
          0.0000020072405647790118,
          0.000001996797643852288,
          0.0000019862302163962535,
          0.000001975538218910989,
          0.000001964721622255009,
          0.000001953780432427424,
          0.0000019427146913564845,
          0.000001931524477694338,
          0.00000192020990761776,
          0.000001908771135634594,
          0.0000018972083553956636,
          0.0000018855218005118763,
          0.0000018737117453761882,
          0.0000018617785059901885,
          0.0000018497224407948798,
          0.0000018375439515053935,
          0.0000018252434839491976,
          0.000001812821528907431,
          0.0000018002786229589596,
          0.0000017876153493266908,
          0.0000017748323387256954,
          0.0000017619302702126545,
          0.000001748909872036091,
          0.0000017357719224868919,
          0.000001722517250748489,
          0.0000017091467377461533,
          0.000001695661316994751,
          0.000001682061975444295,
          0.0000016683497543226095,
          0.000001654525749974382,
          0.0000016405911146958293,
          0.000001626547057564191,
          0.0000016123948452612024,
          0.0000015981358028896796,
          0.0000015837713147823036,
          0.0000015693028253016343,
          0.0000015547318396303523,
          0.0000015400599245507162,
          0.000001525288709212071,
          0.0000015104198858853504,
          0.000001495455210703317,
          0.0000014803965043853367,
          0.0000014652456529453711,
          0.0000014500046083818432,
          0.0000014346753893479783,
          0.0000014192600818011456,
          0.0000014037608396296753,
          0.0000013881798852555739,
          0.000001372519510211474,
          0.0000013567820756901145,
          0.0000013409700130645557,
          0.0000013250858243772948,
          0.000001309132082796336,
          0.000001293111433036227,
          0.0000012770265917420068,
          0.00000126088034783388,
          0.0000012446755628104326,
          0.0000012284151710080424,
          0.0000012121021798141276,
          0.0000011957396698317453,
          0.000001179330794992977,
          0.0000011628787826184596,
          0.0000011463869334203476,
          0.0000011298586214458488,
          0.000001113297293958454,
          0.0000010967064712538243,
          0.00000108008974640726,
          0.0000010634507849495496,
          0.000001046793324467913,
          0.0000010301211741286574,
          0.0000010134382141180622,
          9.967483949979398e-7,
          9.800557369721906e-7,
          9.633643290605976e-7,
          9.466783281760144e-7,
          9.300019581010034e-7,
          9.133395083598873e-7,
          8.966953329821066e-7,
          8.800738491526766e-7,
          8.634795357454716e-7,
          8.469169317349711e-7,
          8.303906344820519e-7,
          8.139052978893364e-7,
          7.974656304215387e-7,
          7.810763929862214e-7,
          7.64742396670312e-7,
          7.484685003277166e-7,
          7.32259608013314e-7,
          7.161206662586384e-7,
          7.000566611845386e-7,
          6.840726154461199e-7,
          6.681735850053146e-7,
          6.523646557264688e-7,
          6.366509397904064e-7,
          6.210375719225226e-7,
          6.055297054305637e-7,
          5.901325080478929e-7,
          5.748511575782094e-7,
          5.596908373378763e-7,
          5.446567313922386e-7,
          5.297540195825753e-7,
          5.149878723406335e-7,
          5.003634452880144e-7,
          4.858858736180724e-7,
          4.715602662584274e-7,
          4.573916998126305e-7,
          4.433852122801033e-7,
          4.2954579655401003e-7,
          4.1587839369740175e-7,
          4.023878859986688e-7,
          3.8907908980811927e-7,
          3.759567481583486e-7,
          3.630255231720042e-7,
          3.5028998826154393e-7,
          3.3775462012668457e-7,
          3.254237905564219e-7,
          3.133017580437643e-7,
          3.0139265922270183e-7,
          2.897005001384002e-7,
          2.782291473631697e-7,
          2.669823189724569e-7,
          2.5596357539687387e-7,
          2.451763101681958e-7,
          2.3462374057925847e-7,
          2.2430889827981482e-7,
          2.142346198326542e-7,
          2.0440353725663224e-7,
          1.9481806858571915e-7,
          1.8548040847575756e-7,
          1.7639251889326693e-7,
          1.6755611992341446e-7,
          1.5897268073710846e-7,
          1.5064341076009715e-7,
          1.4256925108992848e-7,
          1.347508662096566e-7,
          1.2718863605021205e-7,
          1.1988264845639727e-7,
          1.1283269211447786e-7,
          1.0603825000227137e-7,
          9.949849342549178e-8,
          9.321227670679011e-8,
          8.717813259644466e-8,
          8.139426847590787e-8,
          7.585856342737309e-8,
          7.056856624409192e-8,
          6.5521494457318e-8,
          6.071423445634428e-8,
          5.6143342778098427e-8,
          5.180504864203577e-8,
          4.76952578045458e-8,
          4.380955780464215e-8,
          4.0143224669234177e-8,
          3.6691231141666834e-8,
          3.344825649133851e-8,
          3.040869795495227e-8,
          2.7566683851200157e-8,
          2.4916088400318562e-8,
          2.2450548267869102e-8,
          2.0163480838211755e-8,
          1.804810420736572e-8,
          1.60974588672453e-8,
          1.4304431033595554e-8,
          1.2661777548350765e-8,
          1.1162152263656726e-8,
          9.798133789558829e-9,
          8.562254460541823e-9,
          7.447030347971044e-9,
          6.444992116379006e-9,
          5.548716491900715e-9,
          4.750858081538282e-9,
          4.0441812529872035e-9,
          3.4215917572665564e-9,
          2.876167751262727e-9,
          2.4011898555423533e-9,
          1.9901698655441625e-9,
          1.636877722742727e-9,
          1.3353663478772343e-9,
          1.0799939421696986e-9,
          8.654433759077425e-10,
          6.867383080368715e-10,
          5.392557165195989e-10,
          4.1873456793036505e-10,
          3.2128041643867733e-10,
          2.433657968615339e-10,
          1.8182636308360982e-10,
          1.338528203466176e-10,
          9.697880534106978e-11,
          6.90649784139887e-11,
          4.8279703311817206e-11,
          3.307679659709627e-11,
          2.2170925362706e-11,
          1.4511311803169095e-11,
          9.254460206502032e-12,
          5.736650086515261e-12,
          3.4469336838279763e-12,
          2.0013339600668008e-12,
          1.1188600834445855e-12,
          5.99844003788375e-13,
          3.0696030404547634e-13,
          1.4913182677087968e-13,
          6.835823618516254e-14,
          2.934803077442761e-14,
          1.1700873284012327e-14
         ]
        }
       ],
       "layout": {
        "legend": {
         "tracegroupgap": 0
        },
        "margin": {
         "t": 60
        },
        "template": {
         "data": {
          "bar": [
           {
            "error_x": {
             "color": "#2a3f5f"
            },
            "error_y": {
             "color": "#2a3f5f"
            },
            "marker": {
             "line": {
              "color": "#E5ECF6",
              "width": 0.5
             },
             "pattern": {
              "fillmode": "overlay",
              "size": 10,
              "solidity": 0.2
             }
            },
            "type": "bar"
           }
          ],
          "barpolar": [
           {
            "marker": {
             "line": {
              "color": "#E5ECF6",
              "width": 0.5
             },
             "pattern": {
              "fillmode": "overlay",
              "size": 10,
              "solidity": 0.2
             }
            },
            "type": "barpolar"
           }
          ],
          "carpet": [
           {
            "aaxis": {
             "endlinecolor": "#2a3f5f",
             "gridcolor": "white",
             "linecolor": "white",
             "minorgridcolor": "white",
             "startlinecolor": "#2a3f5f"
            },
            "baxis": {
             "endlinecolor": "#2a3f5f",
             "gridcolor": "white",
             "linecolor": "white",
             "minorgridcolor": "white",
             "startlinecolor": "#2a3f5f"
            },
            "type": "carpet"
           }
          ],
          "choropleth": [
           {
            "colorbar": {
             "outlinewidth": 0,
             "ticks": ""
            },
            "type": "choropleth"
           }
          ],
          "contour": [
           {
            "colorbar": {
             "outlinewidth": 0,
             "ticks": ""
            },
            "colorscale": [
             [
              0,
              "#0d0887"
             ],
             [
              0.1111111111111111,
              "#46039f"
             ],
             [
              0.2222222222222222,
              "#7201a8"
             ],
             [
              0.3333333333333333,
              "#9c179e"
             ],
             [
              0.4444444444444444,
              "#bd3786"
             ],
             [
              0.5555555555555556,
              "#d8576b"
             ],
             [
              0.6666666666666666,
              "#ed7953"
             ],
             [
              0.7777777777777778,
              "#fb9f3a"
             ],
             [
              0.8888888888888888,
              "#fdca26"
             ],
             [
              1,
              "#f0f921"
             ]
            ],
            "type": "contour"
           }
          ],
          "contourcarpet": [
           {
            "colorbar": {
             "outlinewidth": 0,
             "ticks": ""
            },
            "type": "contourcarpet"
           }
          ],
          "heatmap": [
           {
            "colorbar": {
             "outlinewidth": 0,
             "ticks": ""
            },
            "colorscale": [
             [
              0,
              "#0d0887"
             ],
             [
              0.1111111111111111,
              "#46039f"
             ],
             [
              0.2222222222222222,
              "#7201a8"
             ],
             [
              0.3333333333333333,
              "#9c179e"
             ],
             [
              0.4444444444444444,
              "#bd3786"
             ],
             [
              0.5555555555555556,
              "#d8576b"
             ],
             [
              0.6666666666666666,
              "#ed7953"
             ],
             [
              0.7777777777777778,
              "#fb9f3a"
             ],
             [
              0.8888888888888888,
              "#fdca26"
             ],
             [
              1,
              "#f0f921"
             ]
            ],
            "type": "heatmap"
           }
          ],
          "histogram": [
           {
            "marker": {
             "pattern": {
              "fillmode": "overlay",
              "size": 10,
              "solidity": 0.2
             }
            },
            "type": "histogram"
           }
          ],
          "histogram2d": [
           {
            "colorbar": {
             "outlinewidth": 0,
             "ticks": ""
            },
            "colorscale": [
             [
              0,
              "#0d0887"
             ],
             [
              0.1111111111111111,
              "#46039f"
             ],
             [
              0.2222222222222222,
              "#7201a8"
             ],
             [
              0.3333333333333333,
              "#9c179e"
             ],
             [
              0.4444444444444444,
              "#bd3786"
             ],
             [
              0.5555555555555556,
              "#d8576b"
             ],
             [
              0.6666666666666666,
              "#ed7953"
             ],
             [
              0.7777777777777778,
              "#fb9f3a"
             ],
             [
              0.8888888888888888,
              "#fdca26"
             ],
             [
              1,
              "#f0f921"
             ]
            ],
            "type": "histogram2d"
           }
          ],
          "histogram2dcontour": [
           {
            "colorbar": {
             "outlinewidth": 0,
             "ticks": ""
            },
            "colorscale": [
             [
              0,
              "#0d0887"
             ],
             [
              0.1111111111111111,
              "#46039f"
             ],
             [
              0.2222222222222222,
              "#7201a8"
             ],
             [
              0.3333333333333333,
              "#9c179e"
             ],
             [
              0.4444444444444444,
              "#bd3786"
             ],
             [
              0.5555555555555556,
              "#d8576b"
             ],
             [
              0.6666666666666666,
              "#ed7953"
             ],
             [
              0.7777777777777778,
              "#fb9f3a"
             ],
             [
              0.8888888888888888,
              "#fdca26"
             ],
             [
              1,
              "#f0f921"
             ]
            ],
            "type": "histogram2dcontour"
           }
          ],
          "mesh3d": [
           {
            "colorbar": {
             "outlinewidth": 0,
             "ticks": ""
            },
            "type": "mesh3d"
           }
          ],
          "parcoords": [
           {
            "line": {
             "colorbar": {
              "outlinewidth": 0,
              "ticks": ""
             }
            },
            "type": "parcoords"
           }
          ],
          "pie": [
           {
            "automargin": true,
            "type": "pie"
           }
          ],
          "scatter": [
           {
            "fillpattern": {
             "fillmode": "overlay",
             "size": 10,
             "solidity": 0.2
            },
            "type": "scatter"
           }
          ],
          "scatter3d": [
           {
            "line": {
             "colorbar": {
              "outlinewidth": 0,
              "ticks": ""
             }
            },
            "marker": {
             "colorbar": {
              "outlinewidth": 0,
              "ticks": ""
             }
            },
            "type": "scatter3d"
           }
          ],
          "scattercarpet": [
           {
            "marker": {
             "colorbar": {
              "outlinewidth": 0,
              "ticks": ""
             }
            },
            "type": "scattercarpet"
           }
          ],
          "scattergeo": [
           {
            "marker": {
             "colorbar": {
              "outlinewidth": 0,
              "ticks": ""
             }
            },
            "type": "scattergeo"
           }
          ],
          "scattergl": [
           {
            "marker": {
             "colorbar": {
              "outlinewidth": 0,
              "ticks": ""
             }
            },
            "type": "scattergl"
           }
          ],
          "scattermap": [
           {
            "marker": {
             "colorbar": {
              "outlinewidth": 0,
              "ticks": ""
             }
            },
            "type": "scattermap"
           }
          ],
          "scattermapbox": [
           {
            "marker": {
             "colorbar": {
              "outlinewidth": 0,
              "ticks": ""
             }
            },
            "type": "scattermapbox"
           }
          ],
          "scatterpolar": [
           {
            "marker": {
             "colorbar": {
              "outlinewidth": 0,
              "ticks": ""
             }
            },
            "type": "scatterpolar"
           }
          ],
          "scatterpolargl": [
           {
            "marker": {
             "colorbar": {
              "outlinewidth": 0,
              "ticks": ""
             }
            },
            "type": "scatterpolargl"
           }
          ],
          "scatterternary": [
           {
            "marker": {
             "colorbar": {
              "outlinewidth": 0,
              "ticks": ""
             }
            },
            "type": "scatterternary"
           }
          ],
          "surface": [
           {
            "colorbar": {
             "outlinewidth": 0,
             "ticks": ""
            },
            "colorscale": [
             [
              0,
              "#0d0887"
             ],
             [
              0.1111111111111111,
              "#46039f"
             ],
             [
              0.2222222222222222,
              "#7201a8"
             ],
             [
              0.3333333333333333,
              "#9c179e"
             ],
             [
              0.4444444444444444,
              "#bd3786"
             ],
             [
              0.5555555555555556,
              "#d8576b"
             ],
             [
              0.6666666666666666,
              "#ed7953"
             ],
             [
              0.7777777777777778,
              "#fb9f3a"
             ],
             [
              0.8888888888888888,
              "#fdca26"
             ],
             [
              1,
              "#f0f921"
             ]
            ],
            "type": "surface"
           }
          ],
          "table": [
           {
            "cells": {
             "fill": {
              "color": "#EBF0F8"
             },
             "line": {
              "color": "white"
             }
            },
            "header": {
             "fill": {
              "color": "#C8D4E3"
             },
             "line": {
              "color": "white"
             }
            },
            "type": "table"
           }
          ]
         },
         "layout": {
          "annotationdefaults": {
           "arrowcolor": "#2a3f5f",
           "arrowhead": 0,
           "arrowwidth": 1
          },
          "autotypenumbers": "strict",
          "coloraxis": {
           "colorbar": {
            "outlinewidth": 0,
            "ticks": ""
           }
          },
          "colorscale": {
           "diverging": [
            [
             0,
             "#8e0152"
            ],
            [
             0.1,
             "#c51b7d"
            ],
            [
             0.2,
             "#de77ae"
            ],
            [
             0.3,
             "#f1b6da"
            ],
            [
             0.4,
             "#fde0ef"
            ],
            [
             0.5,
             "#f7f7f7"
            ],
            [
             0.6,
             "#e6f5d0"
            ],
            [
             0.7,
             "#b8e186"
            ],
            [
             0.8,
             "#7fbc41"
            ],
            [
             0.9,
             "#4d9221"
            ],
            [
             1,
             "#276419"
            ]
           ],
           "sequential": [
            [
             0,
             "#0d0887"
            ],
            [
             0.1111111111111111,
             "#46039f"
            ],
            [
             0.2222222222222222,
             "#7201a8"
            ],
            [
             0.3333333333333333,
             "#9c179e"
            ],
            [
             0.4444444444444444,
             "#bd3786"
            ],
            [
             0.5555555555555556,
             "#d8576b"
            ],
            [
             0.6666666666666666,
             "#ed7953"
            ],
            [
             0.7777777777777778,
             "#fb9f3a"
            ],
            [
             0.8888888888888888,
             "#fdca26"
            ],
            [
             1,
             "#f0f921"
            ]
           ],
           "sequentialminus": [
            [
             0,
             "#0d0887"
            ],
            [
             0.1111111111111111,
             "#46039f"
            ],
            [
             0.2222222222222222,
             "#7201a8"
            ],
            [
             0.3333333333333333,
             "#9c179e"
            ],
            [
             0.4444444444444444,
             "#bd3786"
            ],
            [
             0.5555555555555556,
             "#d8576b"
            ],
            [
             0.6666666666666666,
             "#ed7953"
            ],
            [
             0.7777777777777778,
             "#fb9f3a"
            ],
            [
             0.8888888888888888,
             "#fdca26"
            ],
            [
             1,
             "#f0f921"
            ]
           ]
          },
          "colorway": [
           "#636efa",
           "#EF553B",
           "#00cc96",
           "#ab63fa",
           "#FFA15A",
           "#19d3f3",
           "#FF6692",
           "#B6E880",
           "#FF97FF",
           "#FECB52"
          ],
          "font": {
           "color": "#2a3f5f"
          },
          "geo": {
           "bgcolor": "white",
           "lakecolor": "white",
           "landcolor": "#E5ECF6",
           "showlakes": true,
           "showland": true,
           "subunitcolor": "white"
          },
          "hoverlabel": {
           "align": "left"
          },
          "hovermode": "closest",
          "mapbox": {
           "style": "light"
          },
          "paper_bgcolor": "white",
          "plot_bgcolor": "#E5ECF6",
          "polar": {
           "angularaxis": {
            "gridcolor": "white",
            "linecolor": "white",
            "ticks": ""
           },
           "bgcolor": "#E5ECF6",
           "radialaxis": {
            "gridcolor": "white",
            "linecolor": "white",
            "ticks": ""
           }
          },
          "scene": {
           "xaxis": {
            "backgroundcolor": "#E5ECF6",
            "gridcolor": "white",
            "gridwidth": 2,
            "linecolor": "white",
            "showbackground": true,
            "ticks": "",
            "zerolinecolor": "white"
           },
           "yaxis": {
            "backgroundcolor": "#E5ECF6",
            "gridcolor": "white",
            "gridwidth": 2,
            "linecolor": "white",
            "showbackground": true,
            "ticks": "",
            "zerolinecolor": "white"
           },
           "zaxis": {
            "backgroundcolor": "#E5ECF6",
            "gridcolor": "white",
            "gridwidth": 2,
            "linecolor": "white",
            "showbackground": true,
            "ticks": "",
            "zerolinecolor": "white"
           }
          },
          "shapedefaults": {
           "line": {
            "color": "#2a3f5f"
           }
          },
          "ternary": {
           "aaxis": {
            "gridcolor": "white",
            "linecolor": "white",
            "ticks": ""
           },
           "baxis": {
            "gridcolor": "white",
            "linecolor": "white",
            "ticks": ""
           },
           "bgcolor": "#E5ECF6",
           "caxis": {
            "gridcolor": "white",
            "linecolor": "white",
            "ticks": ""
           }
          },
          "title": {
           "x": 0.05
          },
          "xaxis": {
           "automargin": true,
           "gridcolor": "white",
           "linecolor": "white",
           "ticks": "",
           "title": {
            "standoff": 15
           },
           "zerolinecolor": "white",
           "zerolinewidth": 2
          },
          "yaxis": {
           "automargin": true,
           "gridcolor": "white",
           "linecolor": "white",
           "ticks": "",
           "title": {
            "standoff": 15
           },
           "zerolinecolor": "white",
           "zerolinewidth": 2
          }
         }
        },
        "xaxis": {
         "anchor": "y",
         "domain": [
          0,
          1
         ]
        },
        "yaxis": {
         "anchor": "x",
         "domain": [
          0,
          1
         ]
        }
       }
      }
     },
     "metadata": {},
     "output_type": "display_data"
    },
    {
     "name": "stdout",
     "output_type": "stream",
     "text": [
      "Rs: 3, lambda: 0.857232666015625\n"
     ]
    },
    {
     "data": {
      "application/vnd.plotly.v1+json": {
       "config": {
        "plotlyServerURL": "https://plot.ly"
       },
       "data": [
        {
         "hovertemplate": "<extra></extra>",
         "legendgroup": "",
         "line": {
          "color": "#636efa",
          "dash": "solid"
         },
         "marker": {
          "symbol": "circle"
         },
         "mode": "lines",
         "name": "",
         "orientation": "v",
         "showlegend": false,
         "type": "scatter",
         "xaxis": "x",
         "yaxis": "y"
        },
        {
         "name": "u, R=3",
         "type": "scatter",
         "x": [
          0,
          0,
          0.005,
          0.01,
          0.015,
          0.02,
          0.025,
          0.030000000000000002,
          0.035,
          0.04,
          0.045,
          0.049999999999999996,
          0.05499999999999999,
          0.05999999999999999,
          0.06499999999999999,
          0.06999999999999999,
          0.075,
          0.08,
          0.085,
          0.09000000000000001,
          0.09500000000000001,
          0.10000000000000002,
          0.10500000000000002,
          0.11000000000000003,
          0.11500000000000003,
          0.12000000000000004,
          0.12500000000000003,
          0.13000000000000003,
          0.13500000000000004,
          0.14000000000000004,
          0.14500000000000005,
          0.15000000000000005,
          0.15500000000000005,
          0.16000000000000006,
          0.16500000000000006,
          0.17000000000000007,
          0.17500000000000007,
          0.18000000000000008,
          0.18500000000000008,
          0.19000000000000009,
          0.1950000000000001,
          0.2000000000000001,
          0.2050000000000001,
          0.2100000000000001,
          0.2150000000000001,
          0.2200000000000001,
          0.22500000000000012,
          0.23000000000000012,
          0.23500000000000013,
          0.24000000000000013,
          0.24500000000000013,
          0.2500000000000001,
          0.2550000000000001,
          0.2600000000000001,
          0.2650000000000001,
          0.27000000000000013,
          0.27500000000000013,
          0.28000000000000014,
          0.28500000000000014,
          0.29000000000000015,
          0.29500000000000015,
          0.30000000000000016,
          0.30500000000000016,
          0.31000000000000016,
          0.31500000000000017,
          0.3200000000000002,
          0.3250000000000002,
          0.3300000000000002,
          0.3350000000000002,
          0.3400000000000002,
          0.3450000000000002,
          0.3500000000000002,
          0.3550000000000002,
          0.3600000000000002,
          0.3650000000000002,
          0.3700000000000002,
          0.3750000000000002,
          0.3800000000000002,
          0.38500000000000023,
          0.39000000000000024,
          0.39500000000000024,
          0.40000000000000024,
          0.40500000000000025,
          0.41000000000000025,
          0.41500000000000026,
          0.42000000000000026,
          0.42500000000000027,
          0.43000000000000027,
          0.4350000000000003,
          0.4400000000000003,
          0.4450000000000003,
          0.4500000000000003,
          0.4550000000000003,
          0.4600000000000003,
          0.4650000000000003,
          0.4700000000000003,
          0.4750000000000003,
          0.4800000000000003,
          0.4850000000000003,
          0.4900000000000003,
          0.49500000000000033,
          0.5000000000000003,
          0.5050000000000003,
          0.5100000000000003,
          0.5150000000000003,
          0.5200000000000004,
          0.5250000000000004,
          0.5300000000000004,
          0.5350000000000004,
          0.5400000000000004,
          0.5450000000000004,
          0.5500000000000004,
          0.5550000000000004,
          0.5600000000000004,
          0.5650000000000004,
          0.5700000000000004,
          0.5750000000000004,
          0.5800000000000004,
          0.5850000000000004,
          0.5900000000000004,
          0.5950000000000004,
          0.6000000000000004,
          0.6050000000000004,
          0.6100000000000004,
          0.6150000000000004,
          0.6200000000000004,
          0.6250000000000004,
          0.6300000000000004,
          0.6350000000000005,
          0.6400000000000005,
          0.6450000000000005,
          0.6500000000000005,
          0.6550000000000005,
          0.6600000000000005,
          0.6650000000000005,
          0.6700000000000005,
          0.6750000000000005,
          0.6800000000000005,
          0.6850000000000005,
          0.6900000000000005,
          0.6950000000000005,
          0.7000000000000005,
          0.7050000000000005,
          0.7100000000000005,
          0.7150000000000005,
          0.7200000000000005,
          0.7250000000000005,
          0.7300000000000005,
          0.7350000000000005,
          0.7400000000000005,
          0.7450000000000006,
          0.7500000000000006,
          0.7550000000000006,
          0.7600000000000006,
          0.7650000000000006,
          0.7700000000000006,
          0.7750000000000006,
          0.7800000000000006,
          0.7850000000000006,
          0.7900000000000006,
          0.7950000000000006,
          0.8000000000000006,
          0.8050000000000006,
          0.8100000000000006,
          0.8150000000000006,
          0.8200000000000006,
          0.8250000000000006,
          0.8300000000000006,
          0.8350000000000006,
          0.8400000000000006,
          0.8450000000000006,
          0.8500000000000006,
          0.8550000000000006,
          0.8600000000000007,
          0.8650000000000007,
          0.8700000000000007,
          0.8750000000000007,
          0.8800000000000007,
          0.8850000000000007,
          0.8900000000000007,
          0.8950000000000007,
          0.9000000000000007,
          0.9050000000000007,
          0.9100000000000007,
          0.9150000000000007,
          0.9200000000000007,
          0.9250000000000007,
          0.9300000000000007,
          0.9350000000000007,
          0.9400000000000007,
          0.9450000000000007,
          0.9500000000000007,
          0.9550000000000007,
          0.9600000000000007,
          0.9650000000000007,
          0.9700000000000008,
          0.9750000000000008,
          0.9800000000000008,
          0.9850000000000008,
          0.9900000000000008,
          0.9950000000000008,
          1.0000000000000007,
          1.0050000000000006,
          1.0100000000000005,
          1.0150000000000003,
          1.0200000000000002,
          1.0250000000000001,
          1.03,
          1.035,
          1.0399999999999998,
          1.0449999999999997,
          1.0499999999999996,
          1.0549999999999995,
          1.0599999999999994,
          1.0649999999999993,
          1.0699999999999992,
          1.074999999999999,
          1.079999999999999,
          1.0849999999999989,
          1.0899999999999987,
          1.0949999999999986,
          1.0999999999999985,
          1.1049999999999984,
          1.1099999999999983,
          1.1149999999999982,
          1.119999999999998,
          1.124999999999998,
          1.129999999999998,
          1.1349999999999978,
          1.1399999999999977,
          1.1449999999999976,
          1.1499999999999975,
          1.1549999999999974,
          1.1599999999999973,
          1.1649999999999971,
          1.169999999999997,
          1.174999999999997,
          1.1799999999999968,
          1.1849999999999967,
          1.1899999999999966,
          1.1949999999999965,
          1.1999999999999964,
          1.2049999999999963,
          1.2099999999999962,
          1.214999999999996,
          1.219999999999996,
          1.2249999999999959,
          1.2299999999999958,
          1.2349999999999957,
          1.2399999999999956,
          1.2449999999999954,
          1.2499999999999953,
          1.2549999999999952,
          1.2599999999999951,
          1.264999999999995,
          1.269999999999995,
          1.2749999999999948,
          1.2799999999999947,
          1.2849999999999946,
          1.2899999999999945,
          1.2949999999999944,
          1.2999999999999943,
          1.3049999999999942,
          1.309999999999994,
          1.314999999999994,
          1.3199999999999938,
          1.3249999999999937,
          1.3299999999999936,
          1.3349999999999935,
          1.3399999999999934,
          1.3449999999999933,
          1.3499999999999932,
          1.354999999999993,
          1.359999999999993,
          1.3649999999999929,
          1.3699999999999928,
          1.3749999999999927,
          1.3799999999999926,
          1.3849999999999925,
          1.3899999999999924,
          1.3949999999999922,
          1.3999999999999921,
          1.404999999999992,
          1.409999999999992,
          1.4149999999999918,
          1.4199999999999917,
          1.4249999999999916,
          1.4299999999999915,
          1.4349999999999914,
          1.4399999999999913,
          1.4449999999999912,
          1.449999999999991,
          1.454999999999991,
          1.4599999999999909,
          1.4649999999999908,
          1.4699999999999906,
          1.4749999999999905,
          1.4799999999999904,
          1.4849999999999903,
          1.4899999999999902,
          1.4949999999999901,
          1.49999999999999,
          1.50499999999999,
          1.5099999999999898,
          1.5149999999999897,
          1.5199999999999896,
          1.5249999999999895,
          1.5299999999999894,
          1.5349999999999893,
          1.5399999999999892,
          1.544999999999989,
          1.549999999999989,
          1.5549999999999888,
          1.5599999999999887,
          1.5649999999999886,
          1.5699999999999885,
          1.5749999999999884,
          1.5799999999999883,
          1.5849999999999882,
          1.589999999999988,
          1.594999999999988,
          1.5999999999999879,
          1.6049999999999878,
          1.6099999999999877,
          1.6149999999999876,
          1.6199999999999875,
          1.6249999999999873,
          1.6299999999999872,
          1.6349999999999871,
          1.639999999999987,
          1.644999999999987,
          1.6499999999999868,
          1.6549999999999867,
          1.6599999999999866,
          1.6649999999999865,
          1.6699999999999864,
          1.6749999999999863,
          1.6799999999999862,
          1.684999999999986,
          1.689999999999986,
          1.6949999999999859,
          1.6999999999999857,
          1.7049999999999856,
          1.7099999999999855,
          1.7149999999999854,
          1.7199999999999853,
          1.7249999999999852,
          1.729999999999985,
          1.734999999999985,
          1.739999999999985,
          1.7449999999999848,
          1.7499999999999847,
          1.7549999999999846,
          1.7599999999999845,
          1.7649999999999844,
          1.7699999999999843,
          1.7749999999999841,
          1.779999999999984,
          1.784999999999984,
          1.7899999999999838,
          1.7949999999999837,
          1.7999999999999836,
          1.8049999999999835,
          1.8099999999999834,
          1.8149999999999833,
          1.8199999999999832,
          1.824999999999983,
          1.829999999999983,
          1.8349999999999829,
          1.8399999999999828,
          1.8449999999999827,
          1.8499999999999825,
          1.8549999999999824,
          1.8599999999999823,
          1.8649999999999822,
          1.8699999999999821,
          1.874999999999982,
          1.879999999999982,
          1.8849999999999818,
          1.8899999999999817,
          1.8949999999999816,
          1.8999999999999815,
          1.9049999999999814,
          1.9099999999999813,
          1.9149999999999812,
          1.919999999999981,
          1.924999999999981,
          1.9299999999999808,
          1.9349999999999807,
          1.9399999999999806,
          1.9449999999999805,
          1.9499999999999804,
          1.9549999999999803,
          1.9599999999999802,
          1.96499999999998,
          1.96999999999998,
          1.9749999999999799,
          1.9799999999999798,
          1.9849999999999797,
          1.9899999999999796,
          1.9949999999999795,
          1.9999999999999793,
          2.0049999999999795,
          2.0099999999999794,
          2.0149999999999793,
          2.019999999999979,
          2.024999999999979,
          2.029999999999979,
          2.034999999999979,
          2.0399999999999787,
          2.0449999999999786,
          2.0499999999999785,
          2.0549999999999784,
          2.0599999999999783,
          2.064999999999978,
          2.069999999999978,
          2.074999999999978,
          2.079999999999978,
          2.0849999999999778,
          2.0899999999999777,
          2.0949999999999775,
          2.0999999999999774,
          2.1049999999999773,
          2.1099999999999772,
          2.114999999999977,
          2.119999999999977,
          2.124999999999977,
          2.129999999999977,
          2.1349999999999767,
          2.1399999999999766,
          2.1449999999999765,
          2.1499999999999764,
          2.1549999999999763,
          2.159999999999976,
          2.164999999999976,
          2.169999999999976,
          2.174999999999976,
          2.1799999999999757,
          2.1849999999999756,
          2.1899999999999755,
          2.1949999999999754,
          2.1999999999999753,
          2.204999999999975,
          2.209999999999975,
          2.214999999999975,
          2.219999999999975,
          2.2249999999999748,
          2.2299999999999747,
          2.2349999999999746,
          2.2399999999999745,
          2.2449999999999743,
          2.2499999999999742,
          2.254999999999974,
          2.259999999999974,
          2.264999999999974,
          2.269999999999974,
          2.2749999999999737,
          2.2799999999999736,
          2.2849999999999735,
          2.2899999999999734,
          2.2949999999999733,
          2.299999999999973,
          2.304999999999973,
          2.309999999999973,
          2.314999999999973,
          2.3199999999999728,
          2.3249999999999726,
          2.3299999999999725,
          2.3349999999999724,
          2.3399999999999723,
          2.344999999999972,
          2.349999999999972,
          2.354999999999972,
          2.359999999999972,
          2.364999999999972,
          2.3699999999999717,
          2.3749999999999716,
          2.3799999999999715,
          2.3849999999999714,
          2.3899999999999713,
          2.394999999999971,
          2.399999999999971,
          2.404999999999971,
          2.409999999999971,
          2.4149999999999707,
          2.4199999999999706,
          2.4249999999999705,
          2.4299999999999704,
          2.4349999999999703,
          2.43999999999997,
          2.44499999999997,
          2.44999999999997,
          2.45499999999997,
          2.4599999999999698,
          2.4649999999999697,
          2.4699999999999696,
          2.4749999999999694,
          2.4799999999999693,
          2.4849999999999692,
          2.489999999999969,
          2.494999999999969,
          2.499999999999969,
          2.504999999999969,
          2.5099999999999687,
          2.5149999999999686,
          2.5199999999999685,
          2.5249999999999684,
          2.5299999999999683,
          2.534999999999968,
          2.539999999999968,
          2.544999999999968,
          2.549999999999968,
          2.5549999999999677,
          2.5599999999999676,
          2.5649999999999675,
          2.5699999999999674,
          2.5749999999999673,
          2.579999999999967,
          2.584999999999967,
          2.589999999999967,
          2.594999999999967,
          2.599999999999967,
          2.6049999999999667,
          2.6099999999999666,
          2.6149999999999665,
          2.6199999999999664,
          2.6249999999999662,
          2.629999999999966,
          2.634999999999966,
          2.639999999999966,
          2.644999999999966,
          2.6499999999999657,
          2.6549999999999656,
          2.6599999999999655,
          2.6649999999999654,
          2.6699999999999653,
          2.674999999999965,
          2.679999999999965,
          2.684999999999965,
          2.689999999999965,
          2.6949999999999648,
          2.6999999999999647,
          2.7049999999999645,
          2.7099999999999644,
          2.7149999999999643,
          2.7199999999999642,
          2.724999999999964,
          2.729999999999964,
          2.734999999999964,
          2.739999999999964,
          2.7449999999999637,
          2.7499999999999636,
          2.7549999999999635,
          2.7599999999999634,
          2.7649999999999633,
          2.769999999999963,
          2.774999999999963,
          2.779999999999963,
          2.784999999999963,
          2.7899999999999627,
          2.7949999999999626,
          2.7999999999999625,
          2.8049999999999624,
          2.8099999999999623,
          2.814999999999962,
          2.819999999999962,
          2.824999999999962,
          2.829999999999962,
          2.8349999999999618,
          2.8399999999999617,
          2.8449999999999616,
          2.8499999999999615,
          2.8549999999999613,
          2.8599999999999612,
          2.864999999999961,
          2.869999999999961,
          2.874999999999961,
          2.879999999999961,
          2.8849999999999607,
          2.8899999999999606,
          2.8949999999999605,
          2.8999999999999604,
          2.9049999999999603,
          2.90999999999996,
          2.91499999999996,
          2.91999999999996,
          2.92499999999996,
          2.9299999999999597,
          2.9349999999999596,
          2.9399999999999595,
          2.9449999999999594,
          2.9499999999999593,
          2.954999999999959,
          2.959999999999959,
          2.964999999999959,
          2.969999999999959,
          2.974999999999959,
          2.9799999999999587,
          2.9849999999999586,
          2.9899999999999585,
          2.9949999999999584,
          2.9999999999999583
         ],
         "y": [
          0.0000021959699377019857,
          0.000002195962733126723,
          0.000002195941119009339,
          0.0000021959050940629304,
          0.0000021958546561583467,
          0.000002195789802315871,
          0.0000021957105287052118,
          0.0000021956168306459224,
          0.000002195508702607978,
          0.000002195386138212467,
          0.0000021952491302323978,
          0.000002195097670593613,
          0.000002194931750375812,
          0.0000021947513598136836,
          0.0000021945564882981474,
          0.0000021943471243777057,
          0.0000021941232557599034,
          0.000002193884869312898,
          0.0000021936319510671426,
          0.0000021933644862171756,
          0.0000021930824591235264,
          0.000002192785853314728,
          0.000002192474651489447,
          0.0000021921488355187204,
          0.0000021918083864483126,
          0.0000021914532845011797,
          0.000002191083509080054,
          0.0000021906990387701378,
          0.0000021902998513419193,
          0.0000021898859237541,
          0.000002189457232156642,
          0.0000021890137518939308,
          0.0000021885554575080595,
          0.000002188082322742231,
          0.0000021875943205442803,
          0.000002187091423070317,
          0.000002186573601688492,
          0.0000021860408269828847,
          0.000002185493068757516,
          0.000002184930296040483,
          0.000002184352477088221,
          0.000002183759579389893,
          0.0000021831515696719035,
          0.0000021825284139025436,
          0.0000021818900772967636,
          0.000002181236524321078,
          0.0000021805677186985992,
          0.000002179883623414208,
          0.0000021791842007198527,
          0.000002178469412139988,
          0.0000021777392184771448,
          0.000002176993579817643,
          0.0000021762324555374383,
          0.000002175455804308109,
          0.000002174663584102985,
          0.000002173855752203419,
          0.0000021730322652051974,
          0.0000021721930790251015,
          0.000002171338148907609,
          0.000002170467429431746,
          0.000002169580874518084,
          0.000002168678437435892,
          0.000002167760070810434,
          0.000002166825726630421,
          0.000002165875356255618,
          0.0000021649089104246046,
          0.000002163926339262692,
          0.000002162927592289999,
          0.0000021619126184296852,
          0.0000021608813660163485,
          0.00000215983378280458,
          0.0000021587698159776864,
          0.000002157689412156575,
          0.0000021565925174088066,
          0.0000021554790772578146,
          0.000002154349036692295,
          0.0000021532023401757674,
          0.0000021520389316563055,
          0.0000021508587545764446,
          0.000002149661751883262,
          0.000002148447866038636,
          0.0000021472170390296796,
          0.0000021459692123793585,
          0.000002144704327157286,
          0.000002143422323990703,
          0.0000021421231430756405,
          0.000002140806724188267,
          0.0000021394730066964264,
          0.0000021381219295713586,
          0.0000021367534313996142,
          0.00000213536745039516,
          0.000002133963924411674,
          0.0000021325427909550376,
          0.000002131103987196023,
          0.000002129647449983175,
          0.0000021281731158558927,
          0.000002126680921057712,
          0.000002125170801549787,
          0.000002123642693024573,
          0.0000021220965309197155,
          0.0000021205322504321432,
          0.000002118949786532366,
          0.0000021173490739789804,
          0.000002115730047333387,
          0.000002114092640974711,
          0.0000021124367891149418,
          0.000002110762425814278,
          0.000002109069484996689,
          0.0000021073579004656916,
          0.000002105627605920339,
          0.000002103878534971429,
          0.0000021021106211579298,
          0.0000021003237979636205,
          0.0000020985179988339566,
          0.000002096693157193152,
          0.0000020948492064614833,
          0.0000020929860800728144,
          0.0000020911037114923474,
          0.0000020892020342345945,
          0.000002087280981881573,
          0.0000020853404881012286,
          0.00000208338048666608,
          0.000002081400911472094,
          0.000002079401696557782,
          0.0000020773827761235275,
          0.0000020753440845511386,
          0.000002073285556423629,
          0.0000020712071265452258,
          0.000002069108729961607,
          0.000002066990301980365,
          0.0000020648517781917,
          0.0000020626930944893423,
          0.0000020605141870916993,
          0.0000020583149925632346,
          0.000002056095447836073,
          0.000002053855490231833,
          0.000002051595057483687,
          0.0000020493140877586484,
          0.0000020470125196800855,
          0.0000020446902923504586,
          0.0000020423473453742857,
          0.0000020399836188813306,
          0.0000020375990535500137,
          0.0000020351935906310483,
          0.0000020327671719712942,
          0.0000020303197400378356,
          0.000002027851237942276,
          0.0000020253616094652516,
          0.000002022850799081161,
          0.000002020318751983111,
          0.0000020177654141080726,
          0.000002015190732162254,
          0.000002012594653646676,
          0.000002009977126882964,
          0.000002007338101039338,
          0.0000020046775261568113,
          0.000002001995353175587,
          0.000001999291533961658,
          0.000001996566021333598,
          0.0000019938187690895514,
          0.0000019910497320344104,
          0.0000019882588660071826,
          0.000001985446127908542,
          0.0000019826114757285645,
          0.000001979754868574638,
          0.000001976876266699552,
          0.000001973975631529757,
          0.0000019710529256937914,
          0.000001968108113050873,
          0.000001965141158719651,
          0.0000019621520291071136,
          0.000001959140691937647,
          0.000001956107116282244,
          0.0000019530512725878496,
          0.0000019499731327068527,
          0.0000019468726699267034,
          0.0000019437498589996623,
          0.0000019406046761726716,
          0.0000019374370992173443,
          0.000001934247107460063,
          0.0000019310346818121874,
          0.0000019277998048003616,
          0.0000019245424605969133,
          0.0000019212626350503436,
          0.000001917960315715898,
          0.000001914635491886211,
          0.0000019112881546220206,
          0.000001907918296782942,
          0.000001904525913058299,
          0.0000019011109999979989,
          0.0000018976735560434484,
          0.0000018942135815585024,
          0.0000018907310788604347,
          0.000001887226052250926,
          0.00000188369850804706,
          0.000001880148454612318,
          0.0000018765759023875646,
          0.0000018729808639220164,
          0.0000018693633539041825,
          0.0000018657233891927699,
          0.000001862060988847543,
          0.0000018583761741601284,
          0.000001854668968684756,
          0.0000018509393982689227,
          0.0000018471874910839754,
          0.0000018434132776555959,
          0.0000018396167908941818,
          0.000001835798066125111,
          0.0000018319571411188784,
          0.0000018280940561210956,
          0.0000018242088538823407,
          0.000001820301579687847,
          0.000001816372281387019,
          0.0000018124210094227646,
          0.000001808447816860631,
          0.0000018044527594177303,
          0.0000018004358954914462,
          0.0000017963972861879058,
          0.0000017923369953502043,
          0.0000017882550895863716,
          0.0000017841516382970654,
          0.0000017800267137029784,
          0.000001775880390871946,
          0.0000017717127477457408,
          0.0000017675238651665405,
          0.0000017633138269030533,
          0.0000017590827196762894,
          0.0000017548306331849623,
          0.000001750557660130505,
          0.000001746263896241689,
          0.0000017419494402988273,
          0.00000173761439415755,
          0.000001733258862772136,
          0.000001728882954218384,
          0.00000172448677971601,
          0.000001720070453650554,
          0.0000017156340935947804,
          0.000001711177820329557,
          0.0000017067017578641956,
          0.0000017022060334562384,
          0.0000016976907776306755,
          0.0000016931561241985742,
          0.0000016886022102751068,
          0.0000016840291762969575,
          0.0000016794371660390955,
          0.0000016748263266308933,
          0.0000016701968085715765,
          0.0000016655487657449885,
          0.0000016608823554336494,
          0.0000016561977383320979,
          0.000001651495078559494,
          0.0000016467745436714696,
          0.0000016420363046712066,
          0.0000016372805360197269,
          0.0000016325074156453791,
          0.0000016277171249525012,
          0.0000016229098488292447,
          0.0000016180857756545421,
          0.0000016132450973042022,
          0.0000016083880091561134,
          0.0000016035147100945413,
          0.000001598625402513501,
          0.0000015937202923191898,
          0.0000015887995889314605,
          0.0000015838635052843221,
          0.0000015789122578254486,
          0.0000015739460665146808,
          0.0000015689651548215046,
          0.0000015639697497214891,
          0.0000015589600816916695,
          0.0000015539363847048577,
          0.0000015488988962228666,
          0.0000015438478571886294,
          0.0000015387835120172031,
          0.000001533706108585638,
          0.0000015286158982216975,
          0.0000015235131356914178,
          0.000001518398079185488,
          0.0000015132709903044408,
          0.000001508132134042637,
          0.0000015029817787710323,
          0.0000014978201962187116,
          0.0000014926476614531793,
          0.000001487464452859392,
          0.0000014822708521175226,
          0.000001477067144179442,
          0.0000014718536172439104,
          0.0000014666305627304623,
          0.0000014613982752519803,
          0.000001456157052585943,
          0.0000014509071956443396,
          0.000001445649008442241,
          0.0000014403827980650204,
          0.0000014351088746342121,
          0.0000014298275512720042,
          0.0000014245391440643556,
          0.000001419243972022732,
          0.0000014139423570444541,
          0.0000014086346238716537,
          0.0000014033211000488313,
          0.000001398002115879012,
          0.000001392678004378496,
          0.000001387349101230201,
          0.000001382015744735593,
          0.000001376678275765206,
          0.0000013713370377077472,
          0.0000013659923764177914,
          0.0000013606446401620593,
          0.0000013552941795642876,
          0.000001349941347548688,
          0.0000013445864992820008,
          0.0000013392299921141453,
          0.000001333872185517472,
          0.000001328513441024623,
          0.0000013231541221650045,
          0.00000131779459439988,
          0.0000013124352250560923,
          0.0000013070763832584218,
          0.0000013017184398605919,
          0.0000012963617673749316,
          0.0000012910067399007067,
          0.0000012856537330511322,
          0.0000012803031238790796,
          0.0000012749552908014927,
          0.0000012696106135225276,
          0.0000012642694729554336,
          0.0000012589322511431915,
          0.0000012535993311779275,
          0.000001248271097119123,
          0.00000124294793391064,
          0.000001237630227296582,
          0.0000012323183637360162,
          0.0000012270127303165757,
          0.0000012217137146669703,
          0.0000012164217048684289,
          0.0000012111370893651001,
          0.00000120586025687344,
          0.000001200591596290614,
          0.000001195331496601943,
          0.0000011900803467874248,
          0.0000011848385357273618,
          0.0000011796064521071283,
          0.0000011743844843211112,
          0.000001169173020375858,
          0.0000011639724477924695,
          0.000001158783153508272,
          0.0000011536055237778095,
          0.0000011484399440731916,
          0.0000011432867989838416,
          0.0000011381464721156797,
          0.0000011330193459897883,
          0.0000011279058019406002,
          0.0000011228062200136537,
          0.0000011177209788629588,
          0.0000011126504556480212,
          0.0000011075950259305706,
          0.0000011025550635710395,
          0.0000010975309404756322,
          0.0000010925230243054375,
          0.0000010875316820368988,
          0.0000010825572796641845,
          0.0000010776001809617747,
          0.00000107266074738051,
          0.0000010677393379437491,
          0.0000010628363091436855,
          0.00000105795201483788,
          0.0000010530868061460631,
          0.0000010482410313472637,
          0.0000010434150357773192,
          0.0000010386091617268265,
          0.000001033823748339587,
          0.0000010290591315116089,
          0.0000010243156437907196,
          0.0000010195936142768517,
          0.0000010148933685230573,
          0.0000010102152284373138,
          0.000001005559512185178,
          0.0000010009265340933493,
          9.96316604554203e-7,
          9.917300299313518e-7,
          9.871671124662975e-7,
          9.826281501862316e-7,
          9.781134368130462e-7,
          9.73623261673616e-7,
          9.69157909611408e-7,
          9.64717660899483e-7,
          9.603027911549465e-7,
          9.55913571254906e-7,
          9.515502672539995e-7,
          9.47213140303548e-7,
          9.42902446572393e-7,
          9.386184371694756e-7,
          9.343613580682152e-7,
          9.301314500327433e-7,
          9.25928948546048e-7,
          9.21754083740085e-7,
          9.176070803279077e-7,
          9.134881575378718e-7,
          9.09397529049964e-7,
          9.053354029343087e-7,
          9.013019815919005e-7,
          8.972974616976138e-7,
          8.933220341455351e-7,
          8.893758839966667e-7,
          8.854591904290459e-7,
          8.815721266903235e-7,
          8.77714860052845e-7,
          8.738875517712743e-7,
          8.700903570428002e-7,
          8.663234249699633e-7,
          8.62586898526139e-7,
          8.588809145237111e-7,
          8.552056035849688e-7,
          8.515610901157574e-7,
          8.47947492281912e-7,
          8.443649219885e-7,
          8.40813484861898e-7,
          8.372932802347262e-7,
          8.338044011336589e-7,
          8.30346934270132e-7,
          8.269209600339615e-7,
          8.235265524898883e-7,
          8.201637793770599e-7,
          8.168327021114588e-7,
          8.135333757912844e-7,
          8.102658486696851e-7,
          8.070301619542927e-7,
          8.038263517877056e-7,
          8.006544481308924e-7,
          7.975144746988241e-7,
          7.944064489835648e-7,
          7.913303822802918e-7,
          7.882862797162332e-7,
          7.852741402825047e-7,
          7.822939568688291e-7,
          7.793457163011146e-7,
          7.76429399381869e-7,
          7.735449809334226e-7,
          7.70692429843929e-7,
          7.678717091161137e-7,
          7.650827759187324e-7,
          7.623255816407039e-7,
          7.596000719478762e-7,
          7.569061868423813e-7,
          7.542438607245358e-7,
          7.516130224572365e-7,
          7.490135954328014e-7,
          7.46445497642202e-7,
          7.439086417466318e-7,
          7.414029351513511e-7,
          7.38928280081749e-7,
          7.364845736615578e-7,
          7.340717079931557e-7,
          7.316895702398882e-7,
          7.293380427103399e-7,
          7.270170029444836e-7,
          7.247263238016324e-7,
          7.224658735501193e-7,
          7.202355159586245e-7,
          7.180351103890732e-7,
          7.15864511891018e-7,
          7.13723571297427e-7,
          7.116121353217893e-7,
          7.095300466564522e-7,
          7.074771440721034e-7,
          7.054532625183069e-7,
          7.034582332250046e-7,
          7.014918838048901e-7,
          6.995540383565636e-7,
          6.976445175683746e-7,
          6.957631393601131e-7,
          6.939097234137639e-7,
          6.920840813841702e-7,
          6.902860212202417e-7,
          6.885153479870629e-7,
          6.867718639719401e-7,
          6.850553687904699e-7,
          6.833656594925332e-7,
          6.817025306681193e-7,
          6.800657745528872e-7,
          6.784551811333683e-7,
          6.768705382517183e-7,
          6.753116317099267e-7,
          6.737782453733914e-7,
          6.722701612737694e-7,
          6.707871597110146e-7,
          6.693290193545155e-7,
          6.678955173432474e-7,
          6.664864293848556e-7,
          6.651015298535866e-7,
          6.63740591886989e-7,
          6.624033874813052e-7,
          6.610896875854785e-7,
          6.597992621937038e-7,
          6.585318804364506e-7,
          6.572873106698898e-7,
          6.560653205636613e-7,
          6.548656771869184e-7,
          6.536881470925922e-7,
          6.525324963998171e-7,
          6.513984908744681e-7,
          6.502858960077584e-7,
          6.491944770928523e-7,
          6.481239992994506e-7,
          6.470742277463103e-7,
          6.460449278250089e-7,
          6.450358673901315e-7,
          6.440468121050306e-7,
          6.430775274692134e-7,
          6.421277792628075e-7,
          6.411973336060914e-7,
          6.402859570167937e-7,
          6.393934164651504e-7,
          6.385194794267189e-7,
          6.376639139329478e-7,
          6.368264886195056e-7,
          6.360069727723783e-7,
          6.352051363717463e-7,
          6.344207501336569e-7,
          6.336535855495132e-7,
          6.329034149234008e-7,
          6.321700114072827e-7,
          6.314531490340905e-7,
          6.307526027487491e-7,
          6.300681484371713e-7,
          6.293995629532652e-7,
          6.28746624144e-7,
          6.281091108725758e-7,
          6.274868030397529e-7,
          6.268794816033911e-7,
          6.262869285962595e-7,
          6.257089271421745e-7,
          6.251452614705299e-7,
          6.245957169292841e-7,
          6.240600792467147e-7,
          6.235381297723932e-7,
          6.230296569437939e-7,
          6.225344509863466e-7,
          6.220523032838252e-7,
          6.215830063835696e-7,
          6.21126354000673e-7,
          6.206821410212136e-7,
          6.202501635046082e-7,
          6.198302186851698e-7,
          6.194221049729463e-7,
          6.190256219539228e-7,
          6.18640570389668e-7,
          6.182667522165044e-7,
          6.179039705442834e-7,
          6.175520296548443e-7,
          6.17210735000238e-7,
          6.168798932007929e-7,
          6.165593120431009e-7,
          6.162488004780017e-7,
          6.159481686186383e-7,
          6.156572277386615e-7,
          6.153757902706534e-7,
          6.151036698048433e-7,
          6.14840681088185e-7,
          6.145866401560021e-7,
          6.143413645473482e-7,
          6.141046724838357e-7,
          6.138763833044451e-7,
          6.136563175086999e-7,
          6.134442967592826e-7,
          6.132401438854508e-7,
          6.130436828873074e-7,
          6.12854738940978e-7,
          6.126731384047457e-7,
          6.124987088261918e-7,
          6.123312789503889e-7,
          6.1217067872919e-7,
          6.120167393316585e-7,
          6.118692931556761e-7,
          6.117281738407708e-7,
          6.115932162821986e-7,
          6.114642566463174e-7,
          6.11341132387283e-7,
          6.112236822651017e-7,
          6.111117463650678e-7,
          6.110051661186157e-7,
          6.109037847586736e-7,
          6.10807447625247e-7,
          6.107160002813797e-7,
          6.106292896485834e-7,
          6.105471641249043e-7,
          6.104694736148147e-7,
          6.103960695606797e-7,
          6.103268049758198e-7,
          6.102615344791842e-7,
          6.102001143316522e-7,
          6.101424024739765e-7,
          6.100882585663825e-7,
          6.100375440298369e-7,
          6.099901220889959e-7,
          6.099458578168458e-7,
          6.099046181810432e-7,
          6.098662720919649e-7,
          6.098306904524753e-7,
          6.097977462094169e-7,
          6.097673144068304e-7,
          6.097381235645839e-7
         ]
        },
        {
         "name": "u_p, R=3",
         "type": "scatter",
         "x": [
          0,
          0,
          0.005,
          0.01,
          0.015,
          0.02,
          0.025,
          0.030000000000000002,
          0.035,
          0.04,
          0.045,
          0.049999999999999996,
          0.05499999999999999,
          0.05999999999999999,
          0.06499999999999999,
          0.06999999999999999,
          0.075,
          0.08,
          0.085,
          0.09000000000000001,
          0.09500000000000001,
          0.10000000000000002,
          0.10500000000000002,
          0.11000000000000003,
          0.11500000000000003,
          0.12000000000000004,
          0.12500000000000003,
          0.13000000000000003,
          0.13500000000000004,
          0.14000000000000004,
          0.14500000000000005,
          0.15000000000000005,
          0.15500000000000005,
          0.16000000000000006,
          0.16500000000000006,
          0.17000000000000007,
          0.17500000000000007,
          0.18000000000000008,
          0.18500000000000008,
          0.19000000000000009,
          0.1950000000000001,
          0.2000000000000001,
          0.2050000000000001,
          0.2100000000000001,
          0.2150000000000001,
          0.2200000000000001,
          0.22500000000000012,
          0.23000000000000012,
          0.23500000000000013,
          0.24000000000000013,
          0.24500000000000013,
          0.2500000000000001,
          0.2550000000000001,
          0.2600000000000001,
          0.2650000000000001,
          0.27000000000000013,
          0.27500000000000013,
          0.28000000000000014,
          0.28500000000000014,
          0.29000000000000015,
          0.29500000000000015,
          0.30000000000000016,
          0.30500000000000016,
          0.31000000000000016,
          0.31500000000000017,
          0.3200000000000002,
          0.3250000000000002,
          0.3300000000000002,
          0.3350000000000002,
          0.3400000000000002,
          0.3450000000000002,
          0.3500000000000002,
          0.3550000000000002,
          0.3600000000000002,
          0.3650000000000002,
          0.3700000000000002,
          0.3750000000000002,
          0.3800000000000002,
          0.38500000000000023,
          0.39000000000000024,
          0.39500000000000024,
          0.40000000000000024,
          0.40500000000000025,
          0.41000000000000025,
          0.41500000000000026,
          0.42000000000000026,
          0.42500000000000027,
          0.43000000000000027,
          0.4350000000000003,
          0.4400000000000003,
          0.4450000000000003,
          0.4500000000000003,
          0.4550000000000003,
          0.4600000000000003,
          0.4650000000000003,
          0.4700000000000003,
          0.4750000000000003,
          0.4800000000000003,
          0.4850000000000003,
          0.4900000000000003,
          0.49500000000000033,
          0.5000000000000003,
          0.5050000000000003,
          0.5100000000000003,
          0.5150000000000003,
          0.5200000000000004,
          0.5250000000000004,
          0.5300000000000004,
          0.5350000000000004,
          0.5400000000000004,
          0.5450000000000004,
          0.5500000000000004,
          0.5550000000000004,
          0.5600000000000004,
          0.5650000000000004,
          0.5700000000000004,
          0.5750000000000004,
          0.5800000000000004,
          0.5850000000000004,
          0.5900000000000004,
          0.5950000000000004,
          0.6000000000000004,
          0.6050000000000004,
          0.6100000000000004,
          0.6150000000000004,
          0.6200000000000004,
          0.6250000000000004,
          0.6300000000000004,
          0.6350000000000005,
          0.6400000000000005,
          0.6450000000000005,
          0.6500000000000005,
          0.6550000000000005,
          0.6600000000000005,
          0.6650000000000005,
          0.6700000000000005,
          0.6750000000000005,
          0.6800000000000005,
          0.6850000000000005,
          0.6900000000000005,
          0.6950000000000005,
          0.7000000000000005,
          0.7050000000000005,
          0.7100000000000005,
          0.7150000000000005,
          0.7200000000000005,
          0.7250000000000005,
          0.7300000000000005,
          0.7350000000000005,
          0.7400000000000005,
          0.7450000000000006,
          0.7500000000000006,
          0.7550000000000006,
          0.7600000000000006,
          0.7650000000000006,
          0.7700000000000006,
          0.7750000000000006,
          0.7800000000000006,
          0.7850000000000006,
          0.7900000000000006,
          0.7950000000000006,
          0.8000000000000006,
          0.8050000000000006,
          0.8100000000000006,
          0.8150000000000006,
          0.8200000000000006,
          0.8250000000000006,
          0.8300000000000006,
          0.8350000000000006,
          0.8400000000000006,
          0.8450000000000006,
          0.8500000000000006,
          0.8550000000000006,
          0.8600000000000007,
          0.8650000000000007,
          0.8700000000000007,
          0.8750000000000007,
          0.8800000000000007,
          0.8850000000000007,
          0.8900000000000007,
          0.8950000000000007,
          0.9000000000000007,
          0.9050000000000007,
          0.9100000000000007,
          0.9150000000000007,
          0.9200000000000007,
          0.9250000000000007,
          0.9300000000000007,
          0.9350000000000007,
          0.9400000000000007,
          0.9450000000000007,
          0.9500000000000007,
          0.9550000000000007,
          0.9600000000000007,
          0.9650000000000007,
          0.9700000000000008,
          0.9750000000000008,
          0.9800000000000008,
          0.9850000000000008,
          0.9900000000000008,
          0.9950000000000008,
          1.0000000000000007,
          1.0050000000000006,
          1.0100000000000005,
          1.0150000000000003,
          1.0200000000000002,
          1.0250000000000001,
          1.03,
          1.035,
          1.0399999999999998,
          1.0449999999999997,
          1.0499999999999996,
          1.0549999999999995,
          1.0599999999999994,
          1.0649999999999993,
          1.0699999999999992,
          1.074999999999999,
          1.079999999999999,
          1.0849999999999989,
          1.0899999999999987,
          1.0949999999999986,
          1.0999999999999985,
          1.1049999999999984,
          1.1099999999999983,
          1.1149999999999982,
          1.119999999999998,
          1.124999999999998,
          1.129999999999998,
          1.1349999999999978,
          1.1399999999999977,
          1.1449999999999976,
          1.1499999999999975,
          1.1549999999999974,
          1.1599999999999973,
          1.1649999999999971,
          1.169999999999997,
          1.174999999999997,
          1.1799999999999968,
          1.1849999999999967,
          1.1899999999999966,
          1.1949999999999965,
          1.1999999999999964,
          1.2049999999999963,
          1.2099999999999962,
          1.214999999999996,
          1.219999999999996,
          1.2249999999999959,
          1.2299999999999958,
          1.2349999999999957,
          1.2399999999999956,
          1.2449999999999954,
          1.2499999999999953,
          1.2549999999999952,
          1.2599999999999951,
          1.264999999999995,
          1.269999999999995,
          1.2749999999999948,
          1.2799999999999947,
          1.2849999999999946,
          1.2899999999999945,
          1.2949999999999944,
          1.2999999999999943,
          1.3049999999999942,
          1.309999999999994,
          1.314999999999994,
          1.3199999999999938,
          1.3249999999999937,
          1.3299999999999936,
          1.3349999999999935,
          1.3399999999999934,
          1.3449999999999933,
          1.3499999999999932,
          1.354999999999993,
          1.359999999999993,
          1.3649999999999929,
          1.3699999999999928,
          1.3749999999999927,
          1.3799999999999926,
          1.3849999999999925,
          1.3899999999999924,
          1.3949999999999922,
          1.3999999999999921,
          1.404999999999992,
          1.409999999999992,
          1.4149999999999918,
          1.4199999999999917,
          1.4249999999999916,
          1.4299999999999915,
          1.4349999999999914,
          1.4399999999999913,
          1.4449999999999912,
          1.449999999999991,
          1.454999999999991,
          1.4599999999999909,
          1.4649999999999908,
          1.4699999999999906,
          1.4749999999999905,
          1.4799999999999904,
          1.4849999999999903,
          1.4899999999999902,
          1.4949999999999901,
          1.49999999999999,
          1.50499999999999,
          1.5099999999999898,
          1.5149999999999897,
          1.5199999999999896,
          1.5249999999999895,
          1.5299999999999894,
          1.5349999999999893,
          1.5399999999999892,
          1.544999999999989,
          1.549999999999989,
          1.5549999999999888,
          1.5599999999999887,
          1.5649999999999886,
          1.5699999999999885,
          1.5749999999999884,
          1.5799999999999883,
          1.5849999999999882,
          1.589999999999988,
          1.594999999999988,
          1.5999999999999879,
          1.6049999999999878,
          1.6099999999999877,
          1.6149999999999876,
          1.6199999999999875,
          1.6249999999999873,
          1.6299999999999872,
          1.6349999999999871,
          1.639999999999987,
          1.644999999999987,
          1.6499999999999868,
          1.6549999999999867,
          1.6599999999999866,
          1.6649999999999865,
          1.6699999999999864,
          1.6749999999999863,
          1.6799999999999862,
          1.684999999999986,
          1.689999999999986,
          1.6949999999999859,
          1.6999999999999857,
          1.7049999999999856,
          1.7099999999999855,
          1.7149999999999854,
          1.7199999999999853,
          1.7249999999999852,
          1.729999999999985,
          1.734999999999985,
          1.739999999999985,
          1.7449999999999848,
          1.7499999999999847,
          1.7549999999999846,
          1.7599999999999845,
          1.7649999999999844,
          1.7699999999999843,
          1.7749999999999841,
          1.779999999999984,
          1.784999999999984,
          1.7899999999999838,
          1.7949999999999837,
          1.7999999999999836,
          1.8049999999999835,
          1.8099999999999834,
          1.8149999999999833,
          1.8199999999999832,
          1.824999999999983,
          1.829999999999983,
          1.8349999999999829,
          1.8399999999999828,
          1.8449999999999827,
          1.8499999999999825,
          1.8549999999999824,
          1.8599999999999823,
          1.8649999999999822,
          1.8699999999999821,
          1.874999999999982,
          1.879999999999982,
          1.8849999999999818,
          1.8899999999999817,
          1.8949999999999816,
          1.8999999999999815,
          1.9049999999999814,
          1.9099999999999813,
          1.9149999999999812,
          1.919999999999981,
          1.924999999999981,
          1.9299999999999808,
          1.9349999999999807,
          1.9399999999999806,
          1.9449999999999805,
          1.9499999999999804,
          1.9549999999999803,
          1.9599999999999802,
          1.96499999999998,
          1.96999999999998,
          1.9749999999999799,
          1.9799999999999798,
          1.9849999999999797,
          1.9899999999999796,
          1.9949999999999795,
          1.9999999999999793,
          2.0049999999999795,
          2.0099999999999794,
          2.0149999999999793,
          2.019999999999979,
          2.024999999999979,
          2.029999999999979,
          2.034999999999979,
          2.0399999999999787,
          2.0449999999999786,
          2.0499999999999785,
          2.0549999999999784,
          2.0599999999999783,
          2.064999999999978,
          2.069999999999978,
          2.074999999999978,
          2.079999999999978,
          2.0849999999999778,
          2.0899999999999777,
          2.0949999999999775,
          2.0999999999999774,
          2.1049999999999773,
          2.1099999999999772,
          2.114999999999977,
          2.119999999999977,
          2.124999999999977,
          2.129999999999977,
          2.1349999999999767,
          2.1399999999999766,
          2.1449999999999765,
          2.1499999999999764,
          2.1549999999999763,
          2.159999999999976,
          2.164999999999976,
          2.169999999999976,
          2.174999999999976,
          2.1799999999999757,
          2.1849999999999756,
          2.1899999999999755,
          2.1949999999999754,
          2.1999999999999753,
          2.204999999999975,
          2.209999999999975,
          2.214999999999975,
          2.219999999999975,
          2.2249999999999748,
          2.2299999999999747,
          2.2349999999999746,
          2.2399999999999745,
          2.2449999999999743,
          2.2499999999999742,
          2.254999999999974,
          2.259999999999974,
          2.264999999999974,
          2.269999999999974,
          2.2749999999999737,
          2.2799999999999736,
          2.2849999999999735,
          2.2899999999999734,
          2.2949999999999733,
          2.299999999999973,
          2.304999999999973,
          2.309999999999973,
          2.314999999999973,
          2.3199999999999728,
          2.3249999999999726,
          2.3299999999999725,
          2.3349999999999724,
          2.3399999999999723,
          2.344999999999972,
          2.349999999999972,
          2.354999999999972,
          2.359999999999972,
          2.364999999999972,
          2.3699999999999717,
          2.3749999999999716,
          2.3799999999999715,
          2.3849999999999714,
          2.3899999999999713,
          2.394999999999971,
          2.399999999999971,
          2.404999999999971,
          2.409999999999971,
          2.4149999999999707,
          2.4199999999999706,
          2.4249999999999705,
          2.4299999999999704,
          2.4349999999999703,
          2.43999999999997,
          2.44499999999997,
          2.44999999999997,
          2.45499999999997,
          2.4599999999999698,
          2.4649999999999697,
          2.4699999999999696,
          2.4749999999999694,
          2.4799999999999693,
          2.4849999999999692,
          2.489999999999969,
          2.494999999999969,
          2.499999999999969,
          2.504999999999969,
          2.5099999999999687,
          2.5149999999999686,
          2.5199999999999685,
          2.5249999999999684,
          2.5299999999999683,
          2.534999999999968,
          2.539999999999968,
          2.544999999999968,
          2.549999999999968,
          2.5549999999999677,
          2.5599999999999676,
          2.5649999999999675,
          2.5699999999999674,
          2.5749999999999673,
          2.579999999999967,
          2.584999999999967,
          2.589999999999967,
          2.594999999999967,
          2.599999999999967,
          2.6049999999999667,
          2.6099999999999666,
          2.6149999999999665,
          2.6199999999999664,
          2.6249999999999662,
          2.629999999999966,
          2.634999999999966,
          2.639999999999966,
          2.644999999999966,
          2.6499999999999657,
          2.6549999999999656,
          2.6599999999999655,
          2.6649999999999654,
          2.6699999999999653,
          2.674999999999965,
          2.679999999999965,
          2.684999999999965,
          2.689999999999965,
          2.6949999999999648,
          2.6999999999999647,
          2.7049999999999645,
          2.7099999999999644,
          2.7149999999999643,
          2.7199999999999642,
          2.724999999999964,
          2.729999999999964,
          2.734999999999964,
          2.739999999999964,
          2.7449999999999637,
          2.7499999999999636,
          2.7549999999999635,
          2.7599999999999634,
          2.7649999999999633,
          2.769999999999963,
          2.774999999999963,
          2.779999999999963,
          2.784999999999963,
          2.7899999999999627,
          2.7949999999999626,
          2.7999999999999625,
          2.8049999999999624,
          2.8099999999999623,
          2.814999999999962,
          2.819999999999962,
          2.824999999999962,
          2.829999999999962,
          2.8349999999999618,
          2.8399999999999617,
          2.8449999999999616,
          2.8499999999999615,
          2.8549999999999613,
          2.8599999999999612,
          2.864999999999961,
          2.869999999999961,
          2.874999999999961,
          2.879999999999961,
          2.8849999999999607,
          2.8899999999999606,
          2.8949999999999605,
          2.8999999999999604,
          2.9049999999999603,
          2.90999999999996,
          2.91499999999996,
          2.91999999999996,
          2.92499999999996,
          2.9299999999999597,
          2.9349999999999596,
          2.9399999999999595,
          2.9449999999999594,
          2.9499999999999593,
          2.954999999999959,
          2.959999999999959,
          2.964999999999959,
          2.969999999999959,
          2.974999999999959,
          2.9799999999999587,
          2.9849999999999586,
          2.9899999999999585,
          2.9949999999999584,
          2.9999999999999583
         ],
         "y": [
          0.000002561696520395968,
          0.000002561696520395968,
          0.000002561696520319449,
          0.0000025616965191717014,
          0.000002561696514198119,
          0.0000025616965008077065,
          0.000002561696472573062,
          0.0000025616964212303913,
          0.0000025616963366794973,
          0.0000025616962069837855,
          0.0000025616960183702615,
          0.000002561695755229545,
          0.0000025616954001158574,
          0.0000025616949337470273,
          0.0000025616943350045145,
          0.0000025616935809333875,
          0.000002561692646742362,
          0.0000025616915058037855,
          0.0000025616901296536795,
          0.0000025616884879917276,
          0.0000025616865486813163,
          0.00000256168427774955,
          0.000002561681639387291,
          0.0000025616785959491753,
          0.0000025616751079536693,
          0.0000025616711340831054,
          0.000002561666631183737,
          0.0000025616615542658,
          0.0000025616558565035805,
          0.0000025616494892354845,
          0.000002561642401964126,
          0.000002561634542356428,
          0.0000025616258562437184,
          0.0000025616162876218557,
          0.0000025616057786513583,
          0.000002561594269657543,
          0.0000025615816991306785,
          0.0000025615680037261713,
          0.000002561553118264743,
          0.0000025615369757326292,
          0.0000025615195072818215,
          0.0000025615006422302858,
          0.0000025614803080622426,
          0.0000025614584304284387,
          0.0000025614349331464487,
          0.000002561409738201006,
          0.000002561382765744358,
          0.0000025613539340966313,
          0.0000025613231597462494,
          0.0000025612903573503455,
          0.0000025612554397352383,
          0.0000025612183178969126,
          0.000002561178901001541,
          0.000002561137096386047,
          0.0000025610928095586762,
          0.0000025610459441996435,
          0.000002560996402161776,
          0.0000025609440834712182,
          0.0000025608888863281745,
          0.000002560830707107688,
          0.0000025607694403604686,
          0.000002560704978813756,
          0.000002560637213372237,
          0.0000025605660331190073,
          0.0000025604913253165892,
          0.000002560412975407986,
          0.000002560330867017802,
          0.0000025602448819534094,
          0.000002560154900206182,
          0.0000025600607999527685,
          0.0000025599624575564495,
          0.0000025598597475685218,
          0.0000025597525427297947,
          0.0000025596407139720938,
          0.0000025595241304198936,
          0.000002559402659391955,
          0.0000025592761664030906,
          0.00000255914451516597,
          0.000002559007567593008,
          0.000002558865183798332,
          0.0000025587172220998205,
          0.000002558563539021244,
          0.000002558403989294464,
          0.0000025582384258617276,
          0.0000025580666998780514,
          0.0000025578886607137037,
          0.000002557704155956755,
          0.000002557513031415743,
          0.00000255731513112243,
          0.0000025571102973346572,
          0.0000025568983705392947,
          0.0000025566791894553118,
          0.0000025564525910369294,
          0.0000025562184104769044,
          0.000002555976481209908,
          0.0000025557266349160303,
          0.000002555468701524385,
          0.00000255520250921685,
          0.000002554927884431915,
          0.000002554644651868663,
          0.0000025543526344908695,
          0.0000025540516535312282,
          0.0000025537415284957274,
          0.0000025534220771681393,
          0.000002553093115614653,
          0.000002552754458188642,
          0.000002552405917535599,
          0.0000025520473045981695,
          0.0000025516784286213823,
          0.000002551299097157996,
          0.000002550909116074021,
          0.0000025505082895543753,
          0.0000025500964201087227,
          0.000002549673308577467,
          0.0000025492387541378917,
          0.0000025487925543105066,
          0.000002548334504965525,
          0.0000025478644003295397,
          0.000002547382032992375,
          0.000002546887193914106,
          0.000002546379672432281,
          0.000002545859256269314,
          0.0000025453257315400643,
          0.00000254477888275964,
          0.000002544218492851355,
          0.00000254364434315492,
          0.0000025430562134348177,
          0.0000025424538818888913,
          0.0000025418371251571397,
          0.000002541205718330733,
          0.0000025405594349612247,
          0.0000025398980470700206,
          0.0000025392213251580254,
          0.0000025385290382155517,
          0.0000025378209537324368,
          0.0000025370968377084144,
          0.000002536356454663695,
          0.0000025355995676498167,
          0.0000025348259382607215,
          0.0000025340353266440786,
          0.00000253322749151289,
          0.000002532402190157283,
          0.000002531559178456649,
          0.0000025306982108919713,
          0.0000025298190405584665,
          0.0000025289214191784693,
          0.000002528005097114593,
          0.0000025270698233831946,
          0.0000025261153456680857,
          0.0000025251414103345397,
          0.000002524147762443605,
          0.0000025231341457666945,
          0.0000025221003028004665,
          0.0000025210459747820263,
          0.000002519970901704417,
          0.000002518874822332424,
          0.000002517757474218687,
          0.0000025166185937201412,
          0.000002515457916014764,
          0.000002514275175118654,
          0.000002513070103903445,
          0.0000025118424341140363,
          0.000002510591896386673,
          0.0000025093182202673684,
          0.000002508021134230658,
          0.0000025067003656987183,
          0.000002505355641060838,
          0.0000025039866856932172,
          0.000002502593223979187,
          0.0000025011749793297375,
          0.000002499731674204446,
          0.0000024982630301327735,
          0.000002496768767735748,
          0.0000024952486067480103,
          0.0000024937022660402704,
          0.000002492129463642142,
          0.000002490529916765387,
          0.000002488903341827527,
          0.000002487249454475916,
          0.000002485567969612171,
          0.0000024838586014170406,
          0.00000248212106337568,
          0.000002480355068303371,
          0.0000024785603283716454,
          0.000002476736555134853,
          0.0000024748834595571516,
          0.0000024730007520399656,
          0.000002471088142449855,
          0.000002469145340146858,
          0.0000024671720540132848,
          0.000002465167992482954,
          0.0000024631328635709206,
          0.0000024610663749036324,
          0.0000024589682337496084,
          0.000002456838147050546,
          0.0000024546758214529376,
          0.000002452480963340168,
          0.0000024502532788650982,
          0.0000024479924739831408,
          0.000002445698254485856,
          0.0000024433703260350167,
          0.000002441008394197214,
          0.0000024386121644789636,
          0.0000024361813423623314,
          0.0000024337156333410633,
          0.000002431214742957291,
          0.0000024286783768387067,
          0.0000024261062407363255,
          0.000002423498040562758,
          0.0000024208534824310432,
          0.0000024181722726940205,
          0.000002415454117984267,
          0.0000024126987252545844,
          0.0000024099058018190573,
          0.0000024070750553946767,
          0.000002404206194143523,
          0.000002401298926715549,
          0.000002398352962291929,
          0.000002395368010628993,
          0.0000023923437821027597,
          0.000002389279987754062,
          0.0000023861763393342544,
          0.0000023830325493515565,
          0.0000023798483311179745,
          0.0000023766233987968477,
          0.0000023733574674510035,
          0.0000023700502530915577,
          0.0000023667014727272883,
          0.0000023633108444147004,
          0.000002359878087308675,
          0.0000023564029217137793,
          0.000002352885069136211,
          0.00000234932425233639,
          0.000002345720195382189,
          0.0000023420726237028496,
          0.000002338381264143496,
          0.000002334645845020376,
          0.0000023308660961767197,
          0.0000023270417490392926,
          0.0000023231725366755947,
          0.000002319258193851769,
          0.0000023152984570911555,
          0.0000023112930647335594,
          0.000002307241756995167,
          0.0000023031442760291986,
          0.000002299000365987209,
          0.000002294809773081107,
          0.000002290572245645885,
          0.0000022862875342030125,
          0.0000022819553915245705,
          0.0000022775755726980847,
          0.0000022731478351920553,
          0.0000022686719389222186,
          0.000002264147646318506,
          0.0000022595747223927437,
          0.0000022549529348070506,
          0.000002250282053942967,
          0.0000022455618529713188,
          0.0000022407921079227967,
          0.0000022359725977592586,
          0.000002231103104445785,
          0.0000022261834130234372,
          0.000002221213311682782,
          0.000002216192591838115,
          0.000002211121048202454,
          0.0000022059984788632442,
          0.0000022008246853588195,
          0.0000021955994727555796,
          0.000002190322649725942,
          0.000002184994028626997,
          0.000002179613425579926,
          0.0000021741806605501386,
          0.0000021686955574281815,
          0.0000021631579441113507,
          0.000002157567652586062,
          0.0000021519245190109574,
          0.0000021462283838007515,
          0.000002140479091710791,
          0.0000021346764919223727,
          0.000002128820438128794,
          0.000002122910788622107,
          0.0000021169474063806276,
          0.0000021109301591571536,
          0.0000021048589195679078,
          0.0000020987335651822184,
          0.000002092553978612871,
          0.0000020863200476072263,
          0.0000020800316651390027,
          0.000002073688729500785,
          0.0000020672911443972285,
          0.0000020608388190389467,
          0.0000020543316682370964,
          0.000002047769612498647,
          0.000002041152578122323,
          0.0000020344804972952092,
          0.0000020277533081900347,
          0.00000202097095506309,
          0.0000020141333883528162,
          0.0000020072405647790257,
          0.0000020002924474427394,
          0.0000019932890059266624,
          0.0000019862302163962696,
          0.000001979116061701495,
          0.000001971946531478996,
          0.0000019647216222550263,
          0.0000019574413375488507,
          0.000001950105687976743,
          0.0000019427146913565,
          0.000001935268372812515,
          0.000001927766764881337,
          0.0000019202099076177774,
          0.0000019125978487014457,
          0.000001904930643543807,
          0.0000018972083553956806,
          0.0000018894310554551584,
          0.0000018815988229759627,
          0.000001873711745376205,
          0.000001865769918347524,
          0.0000018577734459645786,
          0.0000018497224407948963,
          0.0000018416170240090397,
          0.0000018334573254910532,
          0.0000018252434839492154,
          0.0000018169756470270117,
          0.000001808653971414352,
          0.0000018002786229589774,
          0.0000017918497767780464,
          0.0000017833676173698621,
          0.0000017748323387257128,
          0.0000017662441444418128,
          0.0000017576032478312704,
          0.0000017489098720361094,
          0.0000017401642501392717,
          0.0000017313666252765556,
          0.0000017225172507485092,
          0.0000017136163901321722,
          0.0000017046643173927006,
          0.0000016956613169947722,
          0.0000016866076840137586,
          0.0000016775037242466488,
          0.0000016683497543226287,
          0.0000016591461018133125,
          0.000001649893105342559,
          0.0000016405911146958496,
          0.0000016312404909291408,
          0.0000016218416064771818,
          0.0000016123948452612225,
          0.0000016029006027960615,
          0.000001593359286296382,
          0.0000015837713147823263,
          0.0000015741371191842218,
          0.0000015644571424464596,
          0.0000015547318396303745,
          0.0000015449616780161615,
          0.000001535147137203668,
          0.000001525288709212093,
          0.0000015153868985784155,
          0.0000015054422224545868,
          0.0000014954552107033383,
          0.0000014854264059925602,
          0.0000014753563638881694,
          0.0000014652456529453936,
          0.0000014550948547983754,
          0.0000014449045642480167,
          0.0000014346753893480011,
          0.0000014244079514888496,
          0.000001414102885479991,
          0.0000014037608396296993,
          0.000001393382475822806,
          0.0000013829684695961335,
          0.0000013725195102114974,
          0.0000013620363007261842,
          0.0000013515195580608349,
          0.0000013409700130645783,
          0.000001330388410577326,
          0.0000013197755094891107,
          0.0000013091320827963592,
          0.0000012984589176549488,
          0.0000012877568154299718,
          0.0000012770265917420307,
          0.000001266269076509975,
          0.0000012554851139899272,
          0.0000012446755628104557,
          0.0000012338412960037835,
          0.000001222983201032857,
          0.0000012121021798141513,
          0.0000012011991487360571,
          0.0000011902750386726925,
          0.000001179330794993,
          0.0000011683673775649397,
          0.0000011573857607546466,
          0.000001146386933420371,
          0.0000011353718989010344,
          0.0000011243416749992284,
          0.0000011132972939584788,
          0.0000011022398024345929,
          0.0000010911702614609132,
          0.000001080089746407283,
          0.0000010689993469325348,
          0.0000010579001669302946,
          0.0000010467933244679372,
          0.0000010356799517184475,
          0.0000010245611948850054,
          0.0000010134382141180864,
          0.0000010023121834248537,
          9.911842905706274e-7,
          9.800557369722144e-7,
          9.689277375828712e-7,
          9.578015207686703e-7,
          9.46678328176038e-7,
          9.355594145902402e-7,
          9.244460477845546e-7,
          9.13339508359911e-7,
          9.022410895747456e-7,
          8.911520971648085e-7,
          8.800738491527008e-7,
          8.690076756468585e-7,
          8.579549186297469e-7,
          8.469169317349943e-7,
          8.358950800132055e-7,
          8.248907396861938e-7,
          8.139052978893603e-7,
          8.029401524019568e-7,
          7.919967113649522e-7,
          7.810763929862442e-7,
          7.701806252329282e-7,
          7.593108455103618e-7,
          7.484685003277399e-7,
          7.376550449499122e-7,
          7.268719430351594e-7,
          7.161206662586607e-7,
          7.05402693921376e-7,
          6.947195125440589e-7,
          6.840726154461424e-7,
          6.734635023092252e-7,
          6.628936787248725e-7,
          6.523646557264908e-7,
          6.418779493050028e-7,
          6.314350799080588e-7,
          6.210375719225446e-7,
          6.106869531401343e-7,
          6.003847542056371e-7,
          5.901325080479145e-7,
          5.799317492931448e-7,
          5.697840136601918e-7,
          5.596908373378977e-7,
          5.496537563440883e-7,
          5.396743058660885e-7,
          5.297540195825965e-7,
          5.19894428966742e-7,
          5.100970625701703e-7,
          5.003634452880348e-7,
          4.906950976047769e-7,
          4.810935348205813e-7,
          4.715602662584475e-7,
          4.6209679445180685e-7,
          4.527046143126443e-7,
          4.433852122801238e-7,
          4.3414006544972073e-7,
          4.2497064068290186e-7,
          4.158783936974206e-7,
          4.068647681383306e-7,
          3.9793119462983227e-7,
          3.890790898081379e-7,
          3.8030985533554093e-7,
          3.716248768959277e-7,
          3.6302552317202255e-7,
          3.545131448046741e-7,
          3.46089073334557e-7,
          3.377546201267023e-7,
          3.2951107527831673e-7,
          3.2135970651040665e-7,
          3.133017580437813e-7,
          3.053384494600573e-7,
          2.97470974548351e-7,
          2.897005001384167e-7,
          2.8202816492103546e-7,
          2.7445507825654714e-7,
          2.669823189724727e-7,
          2.5961093415126725e-7,
          2.523419379092921e-7,
          2.4517631016821104e-7,
          2.3811499542006703e-7,
          2.311589014873967e-7,
          2.2430889827982896e-7,
          2.1756581654870474e-7,
          2.1093044664133555e-7,
          2.0440353725664587e-7,
          1.9798579420401766e-7,
          1.9167787916726282e-7,
          1.8548040847577077e-7,
          1.793939518849687e-7,
          1.7341903136834835e-7,
          1.675561199234268e-7,
          1.618056403941248e-7,
          1.5616796431215017e-7,
          1.5064341076010867e-7,
          1.4523224525916972e-7,
          1.399346786842325e-7,
          1.347508662096675e-7,
          1.2968090628882e-7,
          1.2472483967057364e-7,
          1.198826484564075e-7,
          1.1515425520147651e-7,
          1.1053952206336559e-7,
          1.0603825000228085e-7,
          1.0165017803654155e-7,
          9.73749825573345e-8,
          9.321227670679904e-8,
          8.916160982358737e-8,
          8.522246696013048e-8,
          8.139426847591597e-8,
          7.767636971113915e-8,
          7.40680607451423e-8,
          7.056856624409919e-8,
          6.717704540242155e-8,
          6.389259198236934e-8,
          6.071423445635086e-8,
          5.764093625635778e-8,
          5.4671596134938084e-8,
          5.180504864204175e-8,
          4.904006472197735e-8,
          4.6375352434591704e-8,
          4.3809557804647525e-8,
          4.1341265803184845e-8,
          3.896900146444182e-8,
          3.66912311416716e-8,
          3.450636390490103e-8,
          3.241275308336104e-8,
          3.040869795495642e-8,
          2.84924455847404e-8,
          2.6662192813906226e-8,
          2.4916088400322234e-8,
          2.3252235311088878e-8,
          2.166869316700762e-8,
          2.016348083821487e-8,
          1.8734579189538078e-8,
          1.7379933973392958e-8,
          1.609745886724793e-8,
          1.488503865183632e-8,
          1.3740532525405622e-8,
          1.2661777548353013e-8,
          1.1646592211608286e-8,
          1.0692780121098444e-8,
          9.798133789560657e-9,
          8.960438525871015e-9,
          8.17747641092647e-9,
          7.447030347972566e-9,
          6.766888174106024e-9,
          6.134846818519678e-9,
          5.548716491901918e-9,
          5.006324890267438e-9,
          4.505521395393937e-9,
          4.044181252988137e-9,
          3.620209708715052e-9,
          3.231546081319138e-9,
          2.8761677512634527e-9,
          2.5520940426298163e-9,
          2.2573899754849646e-9,
          1.9901698655447068e-9,
          1.748600747782556e-9,
          1.5309056006552187e-9,
          1.3353663478776282e-9,
          1.1603266151959165e-9,
          1.0041942204000074e-9,
          8.654433759080223e-10,
          7.426165846576366e-10,
          6.343262117701033e-10,
          5.392557165197886e-10,
          4.5616053154925416e-10,
          3.8386857901659937e-10,
          3.2128041643880115e-10,
          2.6736900838493364e-10,
          2.2117912385159335e-10,
          1.818263630836864e-10,
          1.4849582174115614e-10,
          1.2044040459947754e-10,
          9.697880534111509e-11,
          7.74931733673337e-11,
          6.142649284591158e-11,
          4.827970331184233e-11,
          3.760859494894278e-11,
          2.9020515089420984e-11,
          2.2170925362719074e-11,
          1.6759851192733655e-11,
          1.2528266878795625e-11,
          9.254460206508147e-12,
          6.750420342683636e-12,
          4.858291619814904e-12,
          3.4469336838305483e-12,
          2.408625372159611e-12,
          1.6559456534863548e-12,
          1.1188600834455472e-12,
          7.420356417755995e-13,
          4.824006871595736e-13,
          3.069603040457795e-13,
          1.9087075845721146e-13,
          1.1577038306309517e-13,
          6.835823618524124e-14,
          3.92065738969317e-14,
          2.178875852662336e-14,
          1.1700873284028289e-14
         ]
        }
       ],
       "layout": {
        "legend": {
         "tracegroupgap": 0
        },
        "margin": {
         "t": 60
        },
        "template": {
         "data": {
          "bar": [
           {
            "error_x": {
             "color": "#2a3f5f"
            },
            "error_y": {
             "color": "#2a3f5f"
            },
            "marker": {
             "line": {
              "color": "#E5ECF6",
              "width": 0.5
             },
             "pattern": {
              "fillmode": "overlay",
              "size": 10,
              "solidity": 0.2
             }
            },
            "type": "bar"
           }
          ],
          "barpolar": [
           {
            "marker": {
             "line": {
              "color": "#E5ECF6",
              "width": 0.5
             },
             "pattern": {
              "fillmode": "overlay",
              "size": 10,
              "solidity": 0.2
             }
            },
            "type": "barpolar"
           }
          ],
          "carpet": [
           {
            "aaxis": {
             "endlinecolor": "#2a3f5f",
             "gridcolor": "white",
             "linecolor": "white",
             "minorgridcolor": "white",
             "startlinecolor": "#2a3f5f"
            },
            "baxis": {
             "endlinecolor": "#2a3f5f",
             "gridcolor": "white",
             "linecolor": "white",
             "minorgridcolor": "white",
             "startlinecolor": "#2a3f5f"
            },
            "type": "carpet"
           }
          ],
          "choropleth": [
           {
            "colorbar": {
             "outlinewidth": 0,
             "ticks": ""
            },
            "type": "choropleth"
           }
          ],
          "contour": [
           {
            "colorbar": {
             "outlinewidth": 0,
             "ticks": ""
            },
            "colorscale": [
             [
              0,
              "#0d0887"
             ],
             [
              0.1111111111111111,
              "#46039f"
             ],
             [
              0.2222222222222222,
              "#7201a8"
             ],
             [
              0.3333333333333333,
              "#9c179e"
             ],
             [
              0.4444444444444444,
              "#bd3786"
             ],
             [
              0.5555555555555556,
              "#d8576b"
             ],
             [
              0.6666666666666666,
              "#ed7953"
             ],
             [
              0.7777777777777778,
              "#fb9f3a"
             ],
             [
              0.8888888888888888,
              "#fdca26"
             ],
             [
              1,
              "#f0f921"
             ]
            ],
            "type": "contour"
           }
          ],
          "contourcarpet": [
           {
            "colorbar": {
             "outlinewidth": 0,
             "ticks": ""
            },
            "type": "contourcarpet"
           }
          ],
          "heatmap": [
           {
            "colorbar": {
             "outlinewidth": 0,
             "ticks": ""
            },
            "colorscale": [
             [
              0,
              "#0d0887"
             ],
             [
              0.1111111111111111,
              "#46039f"
             ],
             [
              0.2222222222222222,
              "#7201a8"
             ],
             [
              0.3333333333333333,
              "#9c179e"
             ],
             [
              0.4444444444444444,
              "#bd3786"
             ],
             [
              0.5555555555555556,
              "#d8576b"
             ],
             [
              0.6666666666666666,
              "#ed7953"
             ],
             [
              0.7777777777777778,
              "#fb9f3a"
             ],
             [
              0.8888888888888888,
              "#fdca26"
             ],
             [
              1,
              "#f0f921"
             ]
            ],
            "type": "heatmap"
           }
          ],
          "histogram": [
           {
            "marker": {
             "pattern": {
              "fillmode": "overlay",
              "size": 10,
              "solidity": 0.2
             }
            },
            "type": "histogram"
           }
          ],
          "histogram2d": [
           {
            "colorbar": {
             "outlinewidth": 0,
             "ticks": ""
            },
            "colorscale": [
             [
              0,
              "#0d0887"
             ],
             [
              0.1111111111111111,
              "#46039f"
             ],
             [
              0.2222222222222222,
              "#7201a8"
             ],
             [
              0.3333333333333333,
              "#9c179e"
             ],
             [
              0.4444444444444444,
              "#bd3786"
             ],
             [
              0.5555555555555556,
              "#d8576b"
             ],
             [
              0.6666666666666666,
              "#ed7953"
             ],
             [
              0.7777777777777778,
              "#fb9f3a"
             ],
             [
              0.8888888888888888,
              "#fdca26"
             ],
             [
              1,
              "#f0f921"
             ]
            ],
            "type": "histogram2d"
           }
          ],
          "histogram2dcontour": [
           {
            "colorbar": {
             "outlinewidth": 0,
             "ticks": ""
            },
            "colorscale": [
             [
              0,
              "#0d0887"
             ],
             [
              0.1111111111111111,
              "#46039f"
             ],
             [
              0.2222222222222222,
              "#7201a8"
             ],
             [
              0.3333333333333333,
              "#9c179e"
             ],
             [
              0.4444444444444444,
              "#bd3786"
             ],
             [
              0.5555555555555556,
              "#d8576b"
             ],
             [
              0.6666666666666666,
              "#ed7953"
             ],
             [
              0.7777777777777778,
              "#fb9f3a"
             ],
             [
              0.8888888888888888,
              "#fdca26"
             ],
             [
              1,
              "#f0f921"
             ]
            ],
            "type": "histogram2dcontour"
           }
          ],
          "mesh3d": [
           {
            "colorbar": {
             "outlinewidth": 0,
             "ticks": ""
            },
            "type": "mesh3d"
           }
          ],
          "parcoords": [
           {
            "line": {
             "colorbar": {
              "outlinewidth": 0,
              "ticks": ""
             }
            },
            "type": "parcoords"
           }
          ],
          "pie": [
           {
            "automargin": true,
            "type": "pie"
           }
          ],
          "scatter": [
           {
            "fillpattern": {
             "fillmode": "overlay",
             "size": 10,
             "solidity": 0.2
            },
            "type": "scatter"
           }
          ],
          "scatter3d": [
           {
            "line": {
             "colorbar": {
              "outlinewidth": 0,
              "ticks": ""
             }
            },
            "marker": {
             "colorbar": {
              "outlinewidth": 0,
              "ticks": ""
             }
            },
            "type": "scatter3d"
           }
          ],
          "scattercarpet": [
           {
            "marker": {
             "colorbar": {
              "outlinewidth": 0,
              "ticks": ""
             }
            },
            "type": "scattercarpet"
           }
          ],
          "scattergeo": [
           {
            "marker": {
             "colorbar": {
              "outlinewidth": 0,
              "ticks": ""
             }
            },
            "type": "scattergeo"
           }
          ],
          "scattergl": [
           {
            "marker": {
             "colorbar": {
              "outlinewidth": 0,
              "ticks": ""
             }
            },
            "type": "scattergl"
           }
          ],
          "scattermap": [
           {
            "marker": {
             "colorbar": {
              "outlinewidth": 0,
              "ticks": ""
             }
            },
            "type": "scattermap"
           }
          ],
          "scattermapbox": [
           {
            "marker": {
             "colorbar": {
              "outlinewidth": 0,
              "ticks": ""
             }
            },
            "type": "scattermapbox"
           }
          ],
          "scatterpolar": [
           {
            "marker": {
             "colorbar": {
              "outlinewidth": 0,
              "ticks": ""
             }
            },
            "type": "scatterpolar"
           }
          ],
          "scatterpolargl": [
           {
            "marker": {
             "colorbar": {
              "outlinewidth": 0,
              "ticks": ""
             }
            },
            "type": "scatterpolargl"
           }
          ],
          "scatterternary": [
           {
            "marker": {
             "colorbar": {
              "outlinewidth": 0,
              "ticks": ""
             }
            },
            "type": "scatterternary"
           }
          ],
          "surface": [
           {
            "colorbar": {
             "outlinewidth": 0,
             "ticks": ""
            },
            "colorscale": [
             [
              0,
              "#0d0887"
             ],
             [
              0.1111111111111111,
              "#46039f"
             ],
             [
              0.2222222222222222,
              "#7201a8"
             ],
             [
              0.3333333333333333,
              "#9c179e"
             ],
             [
              0.4444444444444444,
              "#bd3786"
             ],
             [
              0.5555555555555556,
              "#d8576b"
             ],
             [
              0.6666666666666666,
              "#ed7953"
             ],
             [
              0.7777777777777778,
              "#fb9f3a"
             ],
             [
              0.8888888888888888,
              "#fdca26"
             ],
             [
              1,
              "#f0f921"
             ]
            ],
            "type": "surface"
           }
          ],
          "table": [
           {
            "cells": {
             "fill": {
              "color": "#EBF0F8"
             },
             "line": {
              "color": "white"
             }
            },
            "header": {
             "fill": {
              "color": "#C8D4E3"
             },
             "line": {
              "color": "white"
             }
            },
            "type": "table"
           }
          ]
         },
         "layout": {
          "annotationdefaults": {
           "arrowcolor": "#2a3f5f",
           "arrowhead": 0,
           "arrowwidth": 1
          },
          "autotypenumbers": "strict",
          "coloraxis": {
           "colorbar": {
            "outlinewidth": 0,
            "ticks": ""
           }
          },
          "colorscale": {
           "diverging": [
            [
             0,
             "#8e0152"
            ],
            [
             0.1,
             "#c51b7d"
            ],
            [
             0.2,
             "#de77ae"
            ],
            [
             0.3,
             "#f1b6da"
            ],
            [
             0.4,
             "#fde0ef"
            ],
            [
             0.5,
             "#f7f7f7"
            ],
            [
             0.6,
             "#e6f5d0"
            ],
            [
             0.7,
             "#b8e186"
            ],
            [
             0.8,
             "#7fbc41"
            ],
            [
             0.9,
             "#4d9221"
            ],
            [
             1,
             "#276419"
            ]
           ],
           "sequential": [
            [
             0,
             "#0d0887"
            ],
            [
             0.1111111111111111,
             "#46039f"
            ],
            [
             0.2222222222222222,
             "#7201a8"
            ],
            [
             0.3333333333333333,
             "#9c179e"
            ],
            [
             0.4444444444444444,
             "#bd3786"
            ],
            [
             0.5555555555555556,
             "#d8576b"
            ],
            [
             0.6666666666666666,
             "#ed7953"
            ],
            [
             0.7777777777777778,
             "#fb9f3a"
            ],
            [
             0.8888888888888888,
             "#fdca26"
            ],
            [
             1,
             "#f0f921"
            ]
           ],
           "sequentialminus": [
            [
             0,
             "#0d0887"
            ],
            [
             0.1111111111111111,
             "#46039f"
            ],
            [
             0.2222222222222222,
             "#7201a8"
            ],
            [
             0.3333333333333333,
             "#9c179e"
            ],
            [
             0.4444444444444444,
             "#bd3786"
            ],
            [
             0.5555555555555556,
             "#d8576b"
            ],
            [
             0.6666666666666666,
             "#ed7953"
            ],
            [
             0.7777777777777778,
             "#fb9f3a"
            ],
            [
             0.8888888888888888,
             "#fdca26"
            ],
            [
             1,
             "#f0f921"
            ]
           ]
          },
          "colorway": [
           "#636efa",
           "#EF553B",
           "#00cc96",
           "#ab63fa",
           "#FFA15A",
           "#19d3f3",
           "#FF6692",
           "#B6E880",
           "#FF97FF",
           "#FECB52"
          ],
          "font": {
           "color": "#2a3f5f"
          },
          "geo": {
           "bgcolor": "white",
           "lakecolor": "white",
           "landcolor": "#E5ECF6",
           "showlakes": true,
           "showland": true,
           "subunitcolor": "white"
          },
          "hoverlabel": {
           "align": "left"
          },
          "hovermode": "closest",
          "mapbox": {
           "style": "light"
          },
          "paper_bgcolor": "white",
          "plot_bgcolor": "#E5ECF6",
          "polar": {
           "angularaxis": {
            "gridcolor": "white",
            "linecolor": "white",
            "ticks": ""
           },
           "bgcolor": "#E5ECF6",
           "radialaxis": {
            "gridcolor": "white",
            "linecolor": "white",
            "ticks": ""
           }
          },
          "scene": {
           "xaxis": {
            "backgroundcolor": "#E5ECF6",
            "gridcolor": "white",
            "gridwidth": 2,
            "linecolor": "white",
            "showbackground": true,
            "ticks": "",
            "zerolinecolor": "white"
           },
           "yaxis": {
            "backgroundcolor": "#E5ECF6",
            "gridcolor": "white",
            "gridwidth": 2,
            "linecolor": "white",
            "showbackground": true,
            "ticks": "",
            "zerolinecolor": "white"
           },
           "zaxis": {
            "backgroundcolor": "#E5ECF6",
            "gridcolor": "white",
            "gridwidth": 2,
            "linecolor": "white",
            "showbackground": true,
            "ticks": "",
            "zerolinecolor": "white"
           }
          },
          "shapedefaults": {
           "line": {
            "color": "#2a3f5f"
           }
          },
          "ternary": {
           "aaxis": {
            "gridcolor": "white",
            "linecolor": "white",
            "ticks": ""
           },
           "baxis": {
            "gridcolor": "white",
            "linecolor": "white",
            "ticks": ""
           },
           "bgcolor": "#E5ECF6",
           "caxis": {
            "gridcolor": "white",
            "linecolor": "white",
            "ticks": ""
           }
          },
          "title": {
           "x": 0.05
          },
          "xaxis": {
           "automargin": true,
           "gridcolor": "white",
           "linecolor": "white",
           "ticks": "",
           "title": {
            "standoff": 15
           },
           "zerolinecolor": "white",
           "zerolinewidth": 2
          },
          "yaxis": {
           "automargin": true,
           "gridcolor": "white",
           "linecolor": "white",
           "ticks": "",
           "title": {
            "standoff": 15
           },
           "zerolinecolor": "white",
           "zerolinewidth": 2
          }
         }
        },
        "xaxis": {
         "anchor": "y",
         "domain": [
          0,
          1
         ]
        },
        "yaxis": {
         "anchor": "x",
         "domain": [
          0,
          1
         ]
        }
       }
      }
     },
     "metadata": {},
     "output_type": "display_data"
    }
   ],
   "source": [
    "Rs = [0.35, 0.5, 0.7, 1, 1.5, 2, 3]\n",
    "\n",
    "rNumber = 1000\n",
    "\n",
    "\n",
    "prevR = R\n",
    "for r in Rs:\n",
    "    fig = px.line()\n",
    "    R = r\n",
    "    lambdaParam = findLambda(1e-4, 1e-4)\n",
    "    print(f\"Rs: {R}, lambda: {lambdaParam}\")\n",
    "    rvalues, uvalues, vvalues = zip(*findPoints(lambdaParam, 1e-4, 1e-2))\n",
    "    fig.add_trace(go.Scatter(x=rvalues, y=uvalues, name=f\"u, R={R}\"))\n",
    "    rvalues, _, _ = zip(*findPoints(lambdaParam, 1e-4, 1e-2))\n",
    "    u_pvalues = [plankFunc(r) for r in rvalues]\n",
    "    fig.add_trace(go.Scatter(x=rvalues, y=u_pvalues, name=f\"u_p, R={R}\"))\n",
    "    fig.show()\n",
    "    \n",
    "\n",
    "R = prevR\n",
    "\n",
    "    \n"
   ]
  },
  {
   "cell_type": "code",
   "execution_count": 7,
   "metadata": {},
   "outputs": [
    {
     "data": {
      "application/vnd.plotly.v1+json": {
       "config": {
        "plotlyServerURL": "https://plot.ly"
       },
       "data": [
        {
         "hovertemplate": "<extra></extra>",
         "legendgroup": "",
         "line": {
          "color": "#636efa",
          "dash": "solid"
         },
         "marker": {
          "symbol": "circle"
         },
         "mode": "lines",
         "name": "",
         "orientation": "v",
         "showlegend": false,
         "type": "scatter",
         "xaxis": "x",
         "yaxis": "y"
        },
        {
         "name": "u, kmult=0.5",
         "type": "scatter",
         "x": [
          0,
          0,
          0.005,
          0.01,
          0.015,
          0.02,
          0.025,
          0.030000000000000002,
          0.035,
          0.04,
          0.045,
          0.049999999999999996,
          0.05499999999999999,
          0.05999999999999999,
          0.06499999999999999,
          0.06999999999999999,
          0.075,
          0.08,
          0.085,
          0.09000000000000001,
          0.09500000000000001,
          0.10000000000000002,
          0.10500000000000002,
          0.11000000000000003,
          0.11500000000000003,
          0.12000000000000004,
          0.12500000000000003,
          0.13000000000000003,
          0.13500000000000004,
          0.14000000000000004,
          0.14500000000000005,
          0.15000000000000005,
          0.15500000000000005,
          0.16000000000000006,
          0.16500000000000006,
          0.17000000000000007,
          0.17500000000000007,
          0.18000000000000008,
          0.18500000000000008,
          0.19000000000000009,
          0.1950000000000001,
          0.2000000000000001,
          0.2050000000000001,
          0.2100000000000001,
          0.2150000000000001,
          0.2200000000000001,
          0.22500000000000012,
          0.23000000000000012,
          0.23500000000000013,
          0.24000000000000013,
          0.24500000000000013,
          0.2500000000000001,
          0.2550000000000001,
          0.2600000000000001,
          0.2650000000000001,
          0.27000000000000013,
          0.27500000000000013,
          0.28000000000000014,
          0.28500000000000014,
          0.29000000000000015,
          0.29500000000000015,
          0.30000000000000016,
          0.30500000000000016,
          0.31000000000000016,
          0.31500000000000017,
          0.3200000000000002,
          0.3250000000000002,
          0.3300000000000002,
          0.3350000000000002,
          0.3400000000000002,
          0.3450000000000002
         ],
         "y": [
          0.000002561696520395968,
          0.0000025616965203960528,
          0.0000025616965204095943,
          0.000002561696520558586,
          0.0000025616965213176064,
          0.000002561696523920472,
          0.0000025616965309292357,
          0.0000025616965469647497,
          0.0000025616965795972844,
          0.0000025616966403944883,
          0.000002561696746122306,
          0.0000025616969200921765,
          0.0000025616971936449057,
          0.0000025616976077579084,
          0.000002561698214758061,
          0.0000025616990801170977,
          0.0000025617002843003466,
          0.000002561701924632659,
          0.000002561704117137663,
          0.0000025617069982981418,
          0.0000025617107266764855,
          0.0000025617154843251266,
          0.0000025617214779078523,
          0.0000025617289394443815,
          0.000002561738126583015,
          0.0000025617493223001355,
          0.0000025617628339214875,
          0.000002561778991359272,
          0.0000025617981444619407,
          0.0000025618206593810507,
          0.0000025618469138724655,
          0.000002561877291468438,
          0.0000025619121744833614,
          0.000002561951935849837,
          0.0000025619969298234583,
          0.0000025620474816443456,
          0.0000025621038763005117,
          0.0000025621663466015733,
          0.0000025622350608394917,
          0.0000025623101103835616,
          0.0000025623914976265594,
          0.0000025624791247638748,
          0.000002562572783982461,
          0.000002562672150016262,
          0.0000025627767740601373,
          0.000002562886081672836,
          0.0000025629993743333404,
          0.0000025631158350453167,
          0.000002563234538445487,
          0.0000025633544656039923,
          0.0000025634745235524126,
          0.000002563593569614117,
          0.0000025637104382701756,
          0.0000025638239723716637,
          0.000002563933056041696,
          0.0000025640366480736147,
          0.000002564133812759579,
          0.0000025642237531160334,
          0.000002564305836901294,
          0.0000025643796159141004,
          0.0000025644448383779696,
          0.0000025645014561445254,
          0.0000025645496222349013,
          0.000002564589680668298,
          0.0000025646221475745475,
          0.0000025646476815126184,
          0.000002564667056701181,
          0.0000025646811296341234,
          0.00000256469080308722,
          0.000002564696987707519,
          0.0000025647005653705807
         ]
        },
        {
         "name": "u, kmult=1",
         "type": "scatter",
         "x": [
          0,
          0,
          0.005,
          0.01,
          0.015,
          0.02,
          0.025,
          0.030000000000000002,
          0.035,
          0.04,
          0.045,
          0.049999999999999996,
          0.05499999999999999,
          0.05999999999999999,
          0.06499999999999999,
          0.06999999999999999,
          0.075,
          0.08,
          0.085,
          0.09000000000000001,
          0.09500000000000001,
          0.10000000000000002,
          0.10500000000000002,
          0.11000000000000003,
          0.11500000000000003,
          0.12000000000000004,
          0.12500000000000003,
          0.13000000000000003,
          0.13500000000000004,
          0.14000000000000004,
          0.14500000000000005,
          0.15000000000000005,
          0.15500000000000005,
          0.16000000000000006,
          0.16500000000000006,
          0.17000000000000007,
          0.17500000000000007,
          0.18000000000000008,
          0.18500000000000008,
          0.19000000000000009,
          0.1950000000000001,
          0.2000000000000001,
          0.2050000000000001,
          0.2100000000000001,
          0.2150000000000001,
          0.2200000000000001,
          0.22500000000000012,
          0.23000000000000012,
          0.23500000000000013,
          0.24000000000000013,
          0.24500000000000013,
          0.2500000000000001,
          0.2550000000000001,
          0.2600000000000001,
          0.2650000000000001,
          0.27000000000000013,
          0.27500000000000013,
          0.28000000000000014,
          0.28500000000000014,
          0.29000000000000015,
          0.29500000000000015,
          0.30000000000000016,
          0.30500000000000016,
          0.31000000000000016,
          0.31500000000000017,
          0.3200000000000002,
          0.3250000000000002,
          0.3300000000000002,
          0.3350000000000002,
          0.3400000000000002,
          0.3450000000000002
         ],
         "y": [
          3.9389758309451614e-7,
          3.9385487887075057e-7,
          3.9372676404466535e-7,
          3.9351323250012807e-7,
          3.9321427749762446e-7,
          3.9282989666639433e-7,
          3.9236009906298774e-7,
          3.918049142472019e-7,
          3.911644033673611e-7,
          3.904386722414356e-7,
          3.896278864104895e-7,
          3.887322881269645e-7,
          3.87752215221917e-7,
          3.866881217720513e-7,
          3.8554060045880355e-7,
          3.8431040647748377e-7,
          3.8299848281435153e-7,
          3.816059866634135e-7,
          3.801343167028095e-7,
          3.785851408932568e-7,
          3.7696042439880467e-7,
          3.752624571640882e-7,
          3.734938806137415e-7,
          3.7165771287042603e-7,
          3.6975737182032625e-7,
          3.6779669529171373e-7,
          3.6577995755655325e-7,
          3.6371188132085916e-7,
          3.61597644340797e-7,
          3.5944287979290723e-7,
          3.572536695430664e-7,
          3.550365295047198e-7,
          3.527983863571402e-7,
          3.505465450131402e-7,
          3.4828864638610257e-7,
          3.460326152104665e-7,
          3.437865979183022e-7,
          3.415588908655426e-7,
          3.3935785953040695e-7,
          3.3719184966606155e-7,
          3.3506909176871044e-7,
          3.329976006065526e-7,
          3.3098507111250343e-7,
          3.2903876646826126e-7,
          3.2716543304127437e-7,
          3.253711998114707e-7,
          3.2366148828394125e-7,
          3.220409359946207e-7,
          3.2051333398464814e-7,
          3.190815806011126e-7,
          3.177476528669916e-7,
          3.1651259341661496e-7,
          3.1537653118888234e-7,
          3.143387061801976e-7,
          3.13397515349323e-7,
          3.125505745398207e-7,
          3.1179480428391287e-7,
          3.1112648387912693e-7,
          3.1054133653444836e-7,
          3.100346202221693e-7,
          3.096012126980439e-7,
          3.092356727069059e-7,
          3.089323051828889e-7,
          3.086852178127139e-7,
          3.084883812580334e-7,
          3.0833571434078664e-7,
          3.0822112431524956e-7,
          3.081385747189707e-7,
          3.080821677993145e-7,
          3.0804625031215754e-7,
          3.080255257498611e-7
         ]
        },
        {
         "name": "u, kmult=2",
         "type": "scatter",
         "x": [
          0,
          0,
          0.005,
          0.01,
          0.015,
          0.02,
          0.025,
          0.030000000000000002,
          0.035,
          0.04,
          0.045,
          0.049999999999999996,
          0.05499999999999999,
          0.05999999999999999,
          0.06499999999999999,
          0.06999999999999999,
          0.075,
          0.08,
          0.085,
          0.09000000000000001,
          0.09500000000000001,
          0.10000000000000002,
          0.10500000000000002,
          0.11000000000000003,
          0.11500000000000003,
          0.12000000000000004,
          0.12500000000000003,
          0.13000000000000003,
          0.13500000000000004,
          0.14000000000000004,
          0.14500000000000005,
          0.15000000000000005,
          0.15500000000000005,
          0.16000000000000006,
          0.16500000000000006,
          0.17000000000000007,
          0.17500000000000007,
          0.18000000000000008,
          0.18500000000000008,
          0.19000000000000009,
          0.1950000000000001,
          0.2000000000000001,
          0.2050000000000001,
          0.2100000000000001,
          0.2150000000000001,
          0.2200000000000001,
          0.22500000000000012,
          0.23000000000000012,
          0.23500000000000013,
          0.24000000000000013,
          0.24500000000000013,
          0.2500000000000001,
          0.2550000000000001,
          0.2600000000000001,
          0.2650000000000001,
          0.27000000000000013,
          0.27500000000000013,
          0.28000000000000014,
          0.28500000000000014,
          0.29000000000000015,
          0.29500000000000015,
          0.30000000000000016,
          0.30500000000000016,
          0.31000000000000016,
          0.31500000000000017,
          0.3200000000000002,
          0.3250000000000002,
          0.3300000000000002,
          0.3350000000000002,
          0.3400000000000002,
          0.3450000000000002
         ],
         "y": [
          7.752790647206669e-7,
          7.751382969176767e-7,
          7.747159634882538e-7,
          7.740119691675332e-7,
          7.730261682191118e-7,
          7.717583815148507e-7,
          7.702084213849369e-7,
          7.683761236392676e-7,
          7.662613867483343e-7,
          7.638642181721991e-7,
          7.611847877977024e-7,
          7.582234883992841e-7,
          7.549810029770798e-7,
          7.514583787455092e-7,
          7.476571074446496e-7,
          7.435792115238126e-7,
          7.392273356008172e-7,
          7.346048424309565e-7,
          7.297159124267449e-7,
          7.245656455542715e-7,
          7.191601641965096e-7,
          7.135067153216571e-7,
          7.076137700304173e-7,
          7.014911182866658e-7,
          6.9514995636963e-7,
          6.886029643329534e-7,
          6.818643705292979e-7,
          6.749500000729268e-7,
          6.678773039833592e-7,
          6.606653656986017e-7,
          6.533348816856635e-7,
          6.459081130284729e-7,
          6.384088051578526e-7,
          6.308620733221596e-7,
          6.232942519947363e-7,
          6.157327071849355e-7,
          6.082056115661076e-7,
          6.007416834509681e-7,
          5.933698919161293e-7,
          5.861191317748119e-7,
          5.790178735775439e-7,
          5.720937953277599e-7,
          5.6537340134475e-7,
          5.588816156870751e-7,
          5.526414672462291e-7,
          5.466737265583341e-7,
          5.409965829200822e-7,
          5.356253737161743e-7,
          5.305723686461809e-7,
          5.258466178972595e-7,
          5.214538692288317e-7,
          5.173965477759056e-7,
          5.136738580252616e-7,
          5.102819091600755e-7,
          5.072139184556442e-7,
          5.044604732564108e-7,
          5.0200987368774e-7,
          4.998483720714778e-7,
          4.979605097172969e-7,
          4.963294641567793e-7,
          4.949373662588255e-7,
          4.937655274453876e-7,
          4.927946654787358e-7,
          4.920050881343817e-7,
          4.913768755170044e-7,
          4.908901313103525e-7,
          4.905250834171444e-7,
          4.902622691850165e-7,
          4.900827666672728e-7,
          4.899685025050351e-7,
          4.899025843914254e-7
         ]
        },
        {
         "name": "u, kmult=3",
         "type": "scatter",
         "x": [
          0,
          0,
          0.005,
          0.01,
          0.015,
          0.02,
          0.025,
          0.030000000000000002,
          0.035,
          0.04,
          0.045,
          0.049999999999999996,
          0.05499999999999999,
          0.05999999999999999,
          0.06499999999999999,
          0.06999999999999999,
          0.075,
          0.08,
          0.085,
          0.09000000000000001,
          0.09500000000000001,
          0.10000000000000002,
          0.10500000000000002,
          0.11000000000000003,
          0.11500000000000003,
          0.12000000000000004,
          0.12500000000000003,
          0.13000000000000003,
          0.13500000000000004,
          0.14000000000000004,
          0.14500000000000005,
          0.15000000000000005,
          0.15500000000000005,
          0.16000000000000006,
          0.16500000000000006,
          0.17000000000000007,
          0.17500000000000007,
          0.18000000000000008,
          0.18500000000000008,
          0.19000000000000009,
          0.1950000000000001,
          0.2000000000000001,
          0.2050000000000001,
          0.2100000000000001,
          0.2150000000000001,
          0.2200000000000001,
          0.22500000000000012,
          0.23000000000000012,
          0.23500000000000013,
          0.24000000000000013,
          0.24500000000000013,
          0.2500000000000001,
          0.2550000000000001,
          0.2600000000000001,
          0.2650000000000001,
          0.27000000000000013,
          0.27500000000000013,
          0.28000000000000014,
          0.28500000000000014,
          0.29000000000000015,
          0.29500000000000015,
          0.30000000000000016,
          0.30500000000000016,
          0.31000000000000016,
          0.31500000000000017,
          0.3200000000000002,
          0.3250000000000002,
          0.3300000000000002,
          0.3350000000000002,
          0.3400000000000002,
          0.3450000000000002
         ],
         "y": [
          0.0000011199682776136683,
          0.0000011197126542412242,
          0.0000011189456602247456,
          0.000001117666895025149,
          0.00000111587571919903,
          0.0000011135712864653705,
          0.000001110752592452759,
          0.0000011074185377185529,
          0.0000011035680050685074,
          0.000001099199951265031,
          0.0000010943135131783058,
          0.0000010889081283625774,
          0.0000010829836699311367,
          0.0000010765405954542269,
          0.0000010695801094102429,
          0.00000106210433847839,
          0.0000010541165186674037,
          0.0000010456211929280118,
          0.0000010366244174959311,
          0.0000010271339747585221,
          0.0000010171595899352055,
          0.0000010067131483155275,
          9.95808909218701e-7,
          9.844637122376202e-7,
          9.72697170725962e-7,
          9.605318469007963e-7,
          9.479934023916292e-7,
          9.351107176013375e-7,
          9.219159728909525e-7,
          9.084446843987727e-7,
          8.947356872979984e-7,
          8.808310595309541e-7,
          8.667759795766847e-7,
          8.52618512654243e-7,
          8.384093209723072e-7,
          8.24201295233138e-7,
          8.100491065975511e-7,
          7.960086807110931e-7,
          7.821365981500254e-7,
          7.684894287110134e-7,
          7.551230102505167e-7,
          7.420916861538983e-7,
          7.294475137113887e-7,
          7.172394223653551e-7,
          7.055125451990672e-7,
          6.943074637507426e-7,
          6.836595366549997e-7,
          6.735983382600484e-7,
          6.641472158663856e-7,
          6.5532298574774e-7,
          6.471357797371907e-7,
          6.395890323967159e-7,
          6.326797194776009e-7,
          6.263986621348659e-7,
          6.207309960426808e-7,
          6.156567643863718e-7,
          6.111516689432852e-7,
          6.071876334709467e-7,
          6.037335419808407e-7,
          6.007559826757265e-7,
          5.982199162778464e-7,
          5.960891552862374e-7,
          5.943268131681483e-7,
          5.928956488718834e-7,
          5.9175838323011e-7,
          5.908781189921903e-7,
          5.902184738106963e-7,
          5.897438594134808e-7,
          5.894198429257375e-7,
          5.892136505075077e-7,
          5.890947228661313e-7
         ]
        },
        {
         "name": "u, kmult=4",
         "type": "scatter",
         "x": [
          0,
          0,
          0.005,
          0.01,
          0.015,
          0.02,
          0.025,
          0.030000000000000002,
          0.035,
          0.04,
          0.045,
          0.049999999999999996,
          0.05499999999999999,
          0.05999999999999999,
          0.06499999999999999,
          0.06999999999999999,
          0.075,
          0.08,
          0.085,
          0.09000000000000001,
          0.09500000000000001,
          0.10000000000000002,
          0.10500000000000002,
          0.11000000000000003,
          0.11500000000000003,
          0.12000000000000004,
          0.12500000000000003,
          0.13000000000000003,
          0.13500000000000004,
          0.14000000000000004,
          0.14500000000000005,
          0.15000000000000005,
          0.15500000000000005,
          0.16000000000000006,
          0.16500000000000006,
          0.17000000000000007,
          0.17500000000000007,
          0.18000000000000008,
          0.18500000000000008,
          0.19000000000000009,
          0.1950000000000001,
          0.2000000000000001,
          0.2050000000000001,
          0.2100000000000001,
          0.2150000000000001,
          0.2200000000000001,
          0.22500000000000012,
          0.23000000000000012,
          0.23500000000000013,
          0.24000000000000013,
          0.24500000000000013,
          0.2500000000000001,
          0.2550000000000001,
          0.2600000000000001,
          0.2650000000000001,
          0.27000000000000013,
          0.27500000000000013,
          0.28000000000000014,
          0.28500000000000014,
          0.29000000000000015,
          0.29500000000000015,
          0.30000000000000016,
          0.30500000000000016,
          0.31000000000000016,
          0.31500000000000017,
          0.3200000000000002,
          0.3250000000000002,
          0.3300000000000002,
          0.3350000000000002,
          0.3400000000000002,
          0.3450000000000002
         ],
         "y": [
          0.0000014162504322355153,
          0.000001415889364036325,
          0.0000014148058472077638,
          0.0000014129988658012496,
          0.0000014104667745368118,
          0.000001407207345351115,
          0.0000014032178422690792,
          0.0000013984951185880153,
          0.0000013930357365225315,
          0.000001386836109663031,
          0.0000013798926685927767,
          0.0000013722020499315216,
          0.0000013637613089340177,
          0.0000013545681555634172,
          0.0000013446212136750253,
          0.0000013339203025776947,
          0.0000013224667397818205,
          0.0000013102636631893222,
          0.0000012973163703291737,
          0.0000012836326714917222,
          0.000001269223252769548,
          0.0000012541020440797738,
          0.0000012382865862357387,
          0.0000012217983900743822,
          0.0000012046632795564403,
          0.0000011869117096746667,
          0.0000011685790489745742,
          0.0000011497058155656306,
          0.0000011303378547404733,
          0.0000011105264457960338,
          0.000001090328325441081,
          0.000001069805615362085,
          0.0000010490256421875863,
          0.000001028060639321785,
          0.0000010069873219838513,
          9.85886329348313e-7,
          9.648415309684582e-7,
          9.439391986817208e-7,
          9.232670499049446e-7,
          9.029131735392706e-7,
          8.829648554716587e-7,
          8.635073266704535e-7,
          8.446224552160043e-7,
          8.263873548906588e-7,
          8.088732490629082e-7,
          7.921442075034301e-7,
          7.762560172319722e-7,
          7.612552333047979e-7,
          7.471784291586948e-7,
          7.340516827401804e-7,
          7.218903210656711e-7,
          7.106989119782363e-7,
          7.004716685724935e-7,
          6.911929894419617e-7,
          6.828382783085673e-7,
          6.753749751649809e-7,
          6.687638390893077e-7,
          6.629599634409763e-7,
          6.579140448810099e-7,
          6.535736428780748e-7,
          6.498842991973659e-7,
          6.467903443295438e-7,
          6.442356180460136e-7,
          6.421639943484233e-7,
          6.405198255711752e-7,
          6.392485030610594e-7,
          6.382965801499955e-7,
          6.376120953045935e-7,
          6.371450118334739e-7,
          6.368478684530988e-7,
          6.366765155503677e-7
         ]
        },
        {
         "name": "u, kmult=5",
         "type": "scatter",
         "x": [
          0,
          0,
          0.005,
          0.01,
          0.015,
          0.02,
          0.025,
          0.030000000000000002,
          0.035,
          0.04,
          0.045,
          0.049999999999999996,
          0.05499999999999999,
          0.05999999999999999,
          0.06499999999999999,
          0.06999999999999999,
          0.075,
          0.08,
          0.085,
          0.09000000000000001,
          0.09500000000000001,
          0.10000000000000002,
          0.10500000000000002,
          0.11000000000000003,
          0.11500000000000003,
          0.12000000000000004,
          0.12500000000000003,
          0.13000000000000003,
          0.13500000000000004,
          0.14000000000000004,
          0.14500000000000005,
          0.15000000000000005,
          0.15500000000000005,
          0.16000000000000006,
          0.16500000000000006,
          0.17000000000000007,
          0.17500000000000007,
          0.18000000000000008,
          0.18500000000000008,
          0.19000000000000009,
          0.1950000000000001,
          0.2000000000000001,
          0.2050000000000001,
          0.2100000000000001,
          0.2150000000000001,
          0.2200000000000001,
          0.22500000000000012,
          0.23000000000000012,
          0.23500000000000013,
          0.24000000000000013,
          0.24500000000000013,
          0.2500000000000001,
          0.2550000000000001,
          0.2600000000000001,
          0.2650000000000001,
          0.27000000000000013,
          0.27500000000000013,
          0.28000000000000014,
          0.28500000000000014,
          0.29000000000000015,
          0.29500000000000015,
          0.30000000000000016,
          0.30500000000000016,
          0.31000000000000016,
          0.31500000000000017,
          0.3200000000000002,
          0.3250000000000002,
          0.3300000000000002,
          0.3350000000000002,
          0.3400000000000002,
          0.3450000000000002
         ],
         "y": [
          0.0000016616629602148556,
          0.0000016612196385283764,
          0.0000016598890734800113,
          0.0000016576693067910717,
          0.000001654557145942281,
          0.0000016505482223367489,
          0.0000016456370913870546,
          0.000001639817363031132,
          0.0000016330818630435526,
          0.0000016254228259555555,
          0.0000016168321204576553,
          0.00000160730150811135,
          0.0000015968229360570033,
          0.0000015853888641648525,
          0.000001572992626723071,
          0.0000015596288282783535,
          0.0000015452937726287387,
          0.000001529985923205156,
          0.0000015137063921597757,
          0.000001496459454401562,
          0.0000014782530815832525,
          0.0000014590994896563367,
          0.0000014390156920863439,
          0.000001418024049184183,
          0.00000139615280229588,
          0.000001373436579850988,
          0.0000013499168605615017,
          0.0000013256423774656483,
          0.0000013006694451173531,
          0.0000012750621911404502,
          0.0000012488926727184111,
          0.0000012222408585077542,
          0.0000011951944570847839,
          0.0000011678485744989967,
          0.0000011403051859415635,
          0.000001112672410053285,
          0.0000010850635790703373,
          0.0000010575961038678172,
          0.000001030390139977465,
          0.0000010035670687148748,
          9.77247816447068e-7,
          9.51551044451733e-7,
          9.265912412524441e-7,
          9.024766865173089e-7,
          8.793077415235788e-7,
          8.571749693605847e-7,
          8.361574393333666e-7,
          8.163212868464233e-7,
          7.977185652690591e-7,
          7.803864476276518e-7,
          7.64346816622712e-7,
          7.496062346399683e-7,
          7.361565149977733e-7,
          7.239755288578337e-7,
          7.130284329266265e-7,
          7.032692195690428e-7,
          6.946426281473941e-7,
          6.870857234451234e-7,
          6.805298060567354e-7,
          6.749022900059335e-7,
          6.701283608381801e-7,
          6.661321781439355e-7,
          6.628379098328526e-7,
          6.601704539560824e-7,
          6.58056000872482e-7,
          6.56422699189004e-7,
          6.552007271114191e-7,
          6.543226054019364e-7,
          6.537236567551104e-7,
          6.533427427839082e-7,
          6.531231250351522e-7
         ]
        },
        {
         "name": "u, kmult=6",
         "type": "scatter",
         "x": [
          0,
          0,
          0.005,
          0.01,
          0.015,
          0.02,
          0.025,
          0.030000000000000002,
          0.035,
          0.04,
          0.045,
          0.049999999999999996,
          0.05499999999999999,
          0.05999999999999999,
          0.06499999999999999,
          0.06999999999999999,
          0.075,
          0.08,
          0.085,
          0.09000000000000001,
          0.09500000000000001,
          0.10000000000000002,
          0.10500000000000002,
          0.11000000000000003,
          0.11500000000000003,
          0.12000000000000004,
          0.12500000000000003,
          0.13000000000000003,
          0.13500000000000004,
          0.14000000000000004,
          0.14500000000000005,
          0.15000000000000005,
          0.15500000000000005,
          0.16000000000000006,
          0.16500000000000006,
          0.17000000000000007,
          0.17500000000000007,
          0.18000000000000008,
          0.18500000000000008,
          0.19000000000000009,
          0.1950000000000001,
          0.2000000000000001,
          0.2050000000000001,
          0.2100000000000001,
          0.2150000000000001,
          0.2200000000000001,
          0.22500000000000012,
          0.23000000000000012,
          0.23500000000000013,
          0.24000000000000013,
          0.24500000000000013,
          0.2500000000000001,
          0.2550000000000001,
          0.2600000000000001,
          0.2650000000000001,
          0.27000000000000013,
          0.27500000000000013,
          0.28000000000000014,
          0.28500000000000014,
          0.29000000000000015,
          0.29500000000000015,
          0.30000000000000016,
          0.30500000000000016,
          0.31000000000000016,
          0.31500000000000017,
          0.3200000000000002,
          0.3250000000000002,
          0.3300000000000002,
          0.3350000000000002,
          0.3400000000000002,
          0.3450000000000002
         ],
         "y": [
          0.0000018595127390789336,
          0.0000018590146524079015,
          0.0000018575194208103733,
          0.00000185502386764601,
          0.000001851522794813229,
          0.0000018470090482673018,
          0.000001841473639997372,
          0.0000018349059078991743,
          0.0000018272937142279297,
          0.000001818623684094066,
          0.0000018088814856379691,
          0.0000017980521535429906,
          0.0000017861204574467967,
          0.000001773071316578619,
          0.000001758890261566293,
          0.000001743563943803054,
          0.0000017270806920210005,
          0.0000017094311147683926,
          0.0000016906087463165806,
          0.000001670610732118408,
          0.0000016494385482982965,
          0.0000016270987477775964,
          0.0000016036037235399742,
          0.0000015789724772461402,
          0.000001553231378955834,
          0.0000015264149011665138,
          0.0000014985663078118593,
          0.000001469738276380878,
          0.0000014399934290458818,
          0.0000014094047467750062,
          0.000001378055839025452,
          0.0000013460410409604537,
          0.000001313465310413612,
          0.000001280443898252103,
          0.0000012471017685727471,
          0.0000012135727494880348,
          0.0000011799984012685884,
          0.0000011465265963873343,
          0.000001113309815554823,
          0.0000010805031750277825,
          0.0000010482622130596377,
          0.0000010167404769291655,
          9.860869535502605e-7,
          9.56443311763811e-7,
          9.279415243574933e-7,
          9.007012708022763e-7,
          8.748275683616596e-7,
          8.504087337738648e-7,
          8.275147352739351e-7,
          8.061960204630196e-7,
          7.864828801674794e-7,
          7.683853482148136e-7,
          7.518939148698397e-7,
          7.369806057686618e-7,
          7.236006497952083e-7,
          7.116946047032538e-7,
          7.011909709362468e-7,
          6.920084273463669e-7,
          6.840584777076044e-7,
          6.772480365559371e-7,
          6.714817048762366e-7,
          6.666634337438859e-7,
          6.626979133258654e-7,
          6.594915095153139e-7,
          6.569529377761233e-7,
          6.549940024876788e-7,
          6.535295816941918e-7,
          6.524778812941021e-7,
          6.517608601124472e-7,
          6.513049958061359e-7,
          6.510422162551495e-7
         ]
        },
        {
         "name": "u, kmult=7",
         "type": "scatter",
         "x": [
          0,
          0,
          0.005,
          0.01,
          0.015,
          0.02,
          0.025,
          0.030000000000000002,
          0.035,
          0.04,
          0.045,
          0.049999999999999996,
          0.05499999999999999,
          0.05999999999999999,
          0.06499999999999999,
          0.06999999999999999,
          0.075,
          0.08,
          0.085,
          0.09000000000000001,
          0.09500000000000001,
          0.10000000000000002,
          0.10500000000000002,
          0.11000000000000003,
          0.11500000000000003,
          0.12000000000000004,
          0.12500000000000003,
          0.13000000000000003,
          0.13500000000000004,
          0.14000000000000004,
          0.14500000000000005,
          0.15000000000000005,
          0.15500000000000005,
          0.16000000000000006,
          0.16500000000000006,
          0.17000000000000007,
          0.17500000000000007,
          0.18000000000000008,
          0.18500000000000008,
          0.19000000000000009,
          0.1950000000000001,
          0.2000000000000001,
          0.2050000000000001,
          0.2100000000000001,
          0.2150000000000001,
          0.2200000000000001,
          0.22500000000000012,
          0.23000000000000012,
          0.23500000000000013,
          0.24000000000000013,
          0.24500000000000013,
          0.2500000000000001,
          0.2550000000000001,
          0.2600000000000001,
          0.2650000000000001,
          0.27000000000000013,
          0.27500000000000013,
          0.28000000000000014,
          0.28500000000000014,
          0.29000000000000015,
          0.29500000000000015,
          0.30000000000000016,
          0.30500000000000016,
          0.31000000000000016,
          0.31500000000000017,
          0.3200000000000002,
          0.3250000000000002,
          0.3300000000000002,
          0.3350000000000002,
          0.3400000000000002,
          0.3450000000000002
         ],
         "y": [
          0.0000020162728056895903,
          0.000002015746159699933,
          0.00000201416482272872,
          0.000002011524215572232,
          0.000002007816827352684,
          0.0000020030322835218553,
          0.0000019971574846944536,
          0.0000019901767896254593,
          0.000001982072243417971,
          0.0000019728238532255056,
          0.000001962409914039757,
          0.000001950807387288667,
          0.0000019379923349539597,
          0.0000019239404117383163,
          0.0000019086274174461768,
          0.0000018920299111621526,
          0.0000018741258879897122,
          0.0000018548955180232774,
          0.0000018343219458443352,
          0.0000018123921471356578,
          0.0000017890978369824478,
          0.000001764436422069197,
          0.0000017384119862922442,
          0.000001711036296311969,
          0.00000168232981030618,
          0.0000016523226697219738,
          0.0000016210556502491447,
          0.0000015885810446773593,
          0.000001554963446909307,
          0.0000015202804033764412,
          0.0000014846228956721978,
          0.000001448095616642344,
          0.0000014108170017432376,
          0.0000013729189785030533,
          0.0000013345463997072693,
          0.0000012958561307682532,
          0.0000012570157688754897,
          0.0000012182019811278411,
          0.000001179598460980447,
          0.0000011413935169043493,
          0.000001103777323875831,
          0.0000010669388866805255,
          0.0000010310627687645904,
          9.963255556022088e-7,
          9.628927281478754e-7,
          9.309152587750212e-7,
          9.005264687910071e-7,
          8.718392859339574e-7,
          8.449439913872302e-7,
          8.199065758357153e-7,
          7.967677927469955e-7,
          7.755429233184206e-7,
          7.562225885164816e-7,
          7.38774085615985e-7,
          7.231435082029769e-7,
          7.092584844521826e-7,
          6.970315494412607e-7,
          6.863631174878603e-7,
          6.771449469120755e-7,
          6.692635146008596e-7,
          6.626029818815958e-7,
          6.570473811091628e-7,
          6.524823996449301e-7,
          6.487965507660723e-7,
          6.458819560389191e-7,
          6.436351305453404e-7,
          6.419568516663741e-7,
          6.407523115900615e-7,
          6.399314595710819e-7,
          6.394097440657384e-7,
          6.391090640962016e-7
         ]
        },
        {
         "name": "u, kmult=8",
         "type": "scatter",
         "x": [
          0,
          0,
          0.005,
          0.01,
          0.015,
          0.02,
          0.025,
          0.030000000000000002,
          0.035,
          0.04,
          0.045,
          0.049999999999999996,
          0.05499999999999999,
          0.05999999999999999,
          0.06499999999999999,
          0.06999999999999999,
          0.075,
          0.08,
          0.085,
          0.09000000000000001,
          0.09500000000000001,
          0.10000000000000002,
          0.10500000000000002,
          0.11000000000000003,
          0.11500000000000003,
          0.12000000000000004,
          0.12500000000000003,
          0.13000000000000003,
          0.13500000000000004,
          0.14000000000000004,
          0.14500000000000005,
          0.15000000000000005,
          0.15500000000000005,
          0.16000000000000006,
          0.16500000000000006,
          0.17000000000000007,
          0.17500000000000007,
          0.18000000000000008,
          0.18500000000000008,
          0.19000000000000009,
          0.1950000000000001,
          0.2000000000000001,
          0.2050000000000001,
          0.2100000000000001,
          0.2150000000000001,
          0.2200000000000001,
          0.22500000000000012,
          0.23000000000000012,
          0.23500000000000013,
          0.24000000000000013,
          0.24500000000000013,
          0.2500000000000001,
          0.2550000000000001,
          0.2600000000000001,
          0.2650000000000001,
          0.27000000000000013,
          0.27500000000000013,
          0.28000000000000014,
          0.28500000000000014,
          0.29000000000000015,
          0.29500000000000015,
          0.30000000000000016,
          0.30500000000000016,
          0.31000000000000016,
          0.31500000000000017,
          0.3200000000000002,
          0.3250000000000002,
          0.3300000000000002,
          0.3350000000000002,
          0.3400000000000002,
          0.3450000000000002
         ],
         "y": [
          0.0000021386976332939634,
          0.000002138164113373405,
          0.000002136561701881072,
          0.000002133884332991382,
          0.0000021301220411297425,
          0.000002125261026588072,
          0.0000021192838052357744,
          0.0000021121694070343535,
          0.0000021038936249020757,
          0.000002094429317093055,
          0.00000208374676676766,
          0.0000020718141027116562,
          0.000002058597785270699,
          0.000002044063161488646,
          0.000002028175093142637,
          0.000002010898660820226,
          0.0000019921999463469826,
          0.0000019720468947091,
          0.000001950410255087664,
          0.000001927264598695417,
          0.000001902589408754715,
          0.0000018763702351576153,
          0.0000018485999030992135,
          0.0000018192797612847905,
          0.0000017884209512142006,
          0.0000017560456746061902,
          0.0000017221884313386822,
          0.0000016868971954868555,
          0.0000016502344923234388,
          0.0000016122783347393755,
          0.0000015731229737341476,
          0.0000015328794147504933,
          0.0000014916756500700905,
          0.0000014496565576612688,
          0.0000014069834192096927,
          0.0000013638330149921283,
          0.000001320396261153178,
          0.000001276876366112007,
          0.0000012334864974233,
          0.0000011904469684178174,
          0.000001147981975081334,
          0.000001106315937326189,
          0.0000010656695076955873,
          0.0000010262552180768862,
          9.88273541294849e-7,
          9.519086037129645e-7,
          9.173241771146305e-7,
          8.846601293154671e-7,
          8.540294591409568e-7,
          8.255160758280357e-7,
          7.991734459303944e-7,
          7.750241436096859e-7,
          7.530606999623838e-7,
          7.33247163060824e-7,
          7.15521661879894e-7,
          6.997997748524702e-7,
          6.859786991922122e-7,
          6.73941022842671e-7,
          6.635590770030242e-7,
          6.546991709336107e-7,
          6.472253151042765e-7,
          6.410019897451094e-7,
          6.35896364776873e-7,
          6.317797278965236e-7,
          6.285283785126422e-7,
          6.260244406694494e-7,
          6.24155595158024e-7,
          6.22815097915248e-7,
          6.219020021432702e-7,
          6.213218357510841e-7,
          6.209875334234856e-7
         ]
        },
        {
         "name": "u, kmult=9",
         "type": "scatter",
         "x": [
          0,
          0,
          0.005,
          0.01,
          0.015,
          0.02,
          0.025,
          0.030000000000000002,
          0.035,
          0.04,
          0.045,
          0.049999999999999996,
          0.05499999999999999,
          0.05999999999999999,
          0.06499999999999999,
          0.06999999999999999,
          0.075,
          0.08,
          0.085,
          0.09000000000000001,
          0.09500000000000001,
          0.10000000000000002,
          0.10500000000000002,
          0.11000000000000003,
          0.11500000000000003,
          0.12000000000000004,
          0.12500000000000003,
          0.13000000000000003,
          0.13500000000000004,
          0.14000000000000004,
          0.14500000000000005,
          0.15000000000000005,
          0.15500000000000005,
          0.16000000000000006,
          0.16500000000000006,
          0.17000000000000007,
          0.17500000000000007,
          0.18000000000000008,
          0.18500000000000008,
          0.19000000000000009,
          0.1950000000000001,
          0.2000000000000001,
          0.2050000000000001,
          0.2100000000000001,
          0.2150000000000001,
          0.2200000000000001,
          0.22500000000000012,
          0.23000000000000012,
          0.23500000000000013,
          0.24000000000000013,
          0.24500000000000013,
          0.2500000000000001,
          0.2550000000000001,
          0.2600000000000001,
          0.2650000000000001,
          0.27000000000000013,
          0.27500000000000013,
          0.28000000000000014,
          0.28500000000000014,
          0.29000000000000015,
          0.29500000000000015,
          0.30000000000000016,
          0.30500000000000016,
          0.31000000000000016,
          0.31500000000000017,
          0.3200000000000002,
          0.3250000000000002,
          0.3300000000000002,
          0.3350000000000002,
          0.3400000000000002,
          0.3450000000000002
         ],
         "y": [
          0.0000022336824133318382,
          0.00000223315874364681,
          0.000002231585433785067,
          0.000002228954942392671,
          0.000002225254864617308,
          0.0000022204679909158047,
          0.0000022145724613991544,
          0.0000022075419718715646,
          0.0000021993460335942,
          0.000002189950290876015,
          0.0000021793169013125347,
          0.0000021674049839481418,
          0.000002154171140906683,
          0.000002139570058101388,
          0.0000021235551904624298,
          0.0000021060795366661236,
          0.0000020870965075667663,
          0.000002066560891370769,
          0.0000020444299170022983,
          0.000002020664415040612,
          0.0000019952300730164076,
          0.0000019680987787004982,
          0.0000019392500412786393,
          0.0000019086724759755044,
          0.0000018763653327883268,
          0.0000018423400445692613,
          0.0000018066217638492743,
          0.0000017692508516695578,
          0.0000017302842754817724,
          0.0000016897968671641722,
          0.0000016478823867158544,
          0.0000016046543326472206,
          0.000001560246436960959,
          0.000001514812781452249,
          0.0000014685274734259881,
          0.0000014215838234183122,
          0.0000013741929756729488,
          0.000001326581954427618,
          0.0000012789911058284573,
          0.0000012316709366024797,
          0.0000011848783762657763,
          0.000001138872519032275,
          0.0000010939099154455886,
          0.000001050239385700506,
          0.0000010080972255403316,
          9.67701976006811e-7,
          9.292494714803188e-7,
          8.929083907199008e-7,
          8.588164786183718e-7,
          8.270776457205508e-7,
          7.977601105684138e-7,
          7.708956496335958e-7,
          7.464804138693138e-7,
          7.244766675477473e-7,
          7.048157762591469e-7,
          6.874022115718964e-7,
          6.721185446801387e-7,
          6.588300711315054e-7,
          6.47390112313349e-7,
          6.376451755296568e-7,
          6.294394968917393e-7,
          6.226184479610734e-7,
          6.170312311486838e-7,
          6.125325876039924e-7,
          6.089838063542779e-7,
          6.062535479702924e-7,
          6.042174209151498e-7,
          6.027578351722624e-7,
          6.017640686660156e-7,
          6.011328407327932e-7,
          6.007691870469837e-7
         ]
        },
        {
         "name": "u, kmult=10",
         "type": "scatter",
         "x": [
          0,
          0,
          0.005,
          0.01,
          0.015,
          0.02,
          0.025,
          0.030000000000000002,
          0.035,
          0.04,
          0.045,
          0.049999999999999996,
          0.05499999999999999,
          0.05999999999999999,
          0.06499999999999999,
          0.06999999999999999,
          0.075,
          0.08,
          0.085,
          0.09000000000000001,
          0.09500000000000001,
          0.10000000000000002,
          0.10500000000000002,
          0.11000000000000003,
          0.11500000000000003,
          0.12000000000000004,
          0.12500000000000003,
          0.13000000000000003,
          0.13500000000000004,
          0.14000000000000004,
          0.14500000000000005,
          0.15000000000000005,
          0.15500000000000005,
          0.16000000000000006,
          0.16500000000000006,
          0.17000000000000007,
          0.17500000000000007,
          0.18000000000000008,
          0.18500000000000008,
          0.19000000000000009,
          0.1950000000000001,
          0.2000000000000001,
          0.2050000000000001,
          0.2100000000000001,
          0.2150000000000001,
          0.2200000000000001,
          0.22500000000000012,
          0.23000000000000012,
          0.23500000000000013,
          0.24000000000000013,
          0.24500000000000013,
          0.2500000000000001,
          0.2550000000000001,
          0.2600000000000001,
          0.2650000000000001,
          0.27000000000000013,
          0.27500000000000013,
          0.28000000000000014,
          0.28500000000000014,
          0.29000000000000015,
          0.29500000000000015,
          0.30000000000000016,
          0.30500000000000016,
          0.31000000000000016,
          0.31500000000000017,
          0.3200000000000002,
          0.3250000000000002,
          0.3300000000000002,
          0.3350000000000002,
          0.3400000000000002,
          0.3450000000000002
         ],
         "y": [
          0.000002306996591701813,
          0.0000023064945233333693,
          0.000002304985594552245,
          0.0000023024608737505612,
          0.0000022989056551563153,
          0.000002294299507181787,
          0.000002288616425526719,
          0.000002281825039109819,
          0.0000022738888713335717,
          0.000002264766661701325,
          0.0000022544127537383975,
          0.0000022427775558151065,
          0.0000022298080819249877,
          0.0000022154485797178047,
          0.0000021996412530834947,
          0.000002182327086279863,
          0.0000021634467759369725,
          0.000002142941776193052,
          0.000002120755460655088,
          0.000002096834402765367,
          0.000002071129773428279,
          0.0000020435988513505873,
          0.000002014206637425536,
          0.000001982927559616994,
          0.00000194974724917118,
          0.0000019146643626332454,
          0.0000018776924171538315,
          0.0000018388615990753084,
          0.0000017982204979979375,
          0.000001755837710734232,
          0.0000017118032521482816,
          0.00000166622970332597,
          0.0000016192530224092077,
          0.0000015710329404185932,
          0.0000015217528642200216,
          0.0000014716192122342843,
          0.000001420860116305838,
          0.0000013697234360220723,
          0.000001318474050232774,
          0.0000012673904148298698,
          0.0000012167604059152422,
          0.0000011668765027424766,
          0.0000011180303843142016,
          0.0000010705069118240338,
          0.0000010245784538818807,
          9.804986709322159e-7,
          9.384965559135284e-7,
          8.987710046155279e-7,
          8.614861310194555e-7,
          8.267675879178152e-7,
          7.947001070374158e-7,
          7.653263600974604e-7,
          7.386476670169227e-7,
          7.146258613133843e-7,
          6.931866736603433e-7,
          6.742243694847441e-7,
          6.576075856794549e-7,
          6.431848535329756e-7,
          6.307909039942017e-7,
          6.202528131479706e-7,
          6.11395423850155e-7,
          6.04045444355014e-7,
          5.980346575473991e-7,
          5.932019308914021e-7,
          5.893943446170685e-7,
          5.864680098079109e-7,
          5.842874705520888e-7,
          5.82725362944344e-7,
          5.816622910930841e-7,
          5.809872582137027e-7,
          5.805984473750092e-7
         ]
        },
        {
         "name": "u, kmult=12",
         "type": "scatter",
         "x": [
          0,
          0,
          0.005,
          0.01,
          0.015,
          0.02,
          0.025,
          0.030000000000000002,
          0.035,
          0.04,
          0.045,
          0.049999999999999996,
          0.05499999999999999,
          0.05999999999999999,
          0.06499999999999999,
          0.06999999999999999,
          0.075,
          0.08,
          0.085,
          0.09000000000000001,
          0.09500000000000001,
          0.10000000000000002,
          0.10500000000000002,
          0.11000000000000003,
          0.11500000000000003,
          0.12000000000000004,
          0.12500000000000003,
          0.13000000000000003,
          0.13500000000000004,
          0.14000000000000004,
          0.14500000000000005,
          0.15000000000000005,
          0.15500000000000005,
          0.16000000000000006,
          0.16500000000000006,
          0.17000000000000007,
          0.17500000000000007,
          0.18000000000000008,
          0.18500000000000008,
          0.19000000000000009,
          0.1950000000000001,
          0.2000000000000001,
          0.2050000000000001,
          0.2100000000000001,
          0.2150000000000001,
          0.2200000000000001,
          0.22500000000000012,
          0.23000000000000012,
          0.23500000000000013,
          0.24000000000000013,
          0.24500000000000013,
          0.2500000000000001,
          0.2550000000000001,
          0.2600000000000001,
          0.2650000000000001,
          0.27000000000000013,
          0.27500000000000013,
          0.28000000000000014,
          0.28500000000000014,
          0.29000000000000015,
          0.29500000000000015,
          0.30000000000000016,
          0.30500000000000016,
          0.31000000000000016,
          0.31500000000000017,
          0.3200000000000002,
          0.3250000000000002,
          0.3300000000000002,
          0.3350000000000002,
          0.3400000000000002,
          0.3450000000000002
         ],
         "y": [
          0.000002406484353904447,
          0.0000024060436492389037,
          0.0000024047180922010352,
          0.000002402496383908333,
          0.0000023993598938801692,
          0.0000023952826799178704,
          0.0000023902316243218623,
          0.000002384166620609917,
          0.000002377040814042697,
          0.0000023688009025606496,
          0.0000023593875060810577,
          0.00000234873561314486,
          0.0000023367751147690855,
          0.0000023234314360361973,
          0.00000230862627638994,
          0.0000022922784697478833,
          0.0000022743049753114992,
          0.000002254622009272261,
          0.00000223314632638368,
          0.000002209796658492574,
          0.0000021844953144902798,
          0.000002157169942646072,
          0.0000021277554518146526,
          0.0000020961960824729505,
          0.000002062447611866785,
          0.000002026479669698869,
          0.0000019882781317816505,
          0.000001947847548997467,
          0.0000019052135579317698,
          0.0000018604252079635314,
          0.0000018135571278363185,
          0.0000017647114433737509,
          0.0000017140193477908103,
          0.0000016616422179038954,
          0.0000016077721645314978,
          0.0000015526319047035988,
          0.0000014964738482300306,
          0.000001439578302967649,
          0.0000013822507228895405,
          0.0000013248179516285141,
          0.0000012676234519136032,
          0.0000012110215579630124,
          0.0000011553708197019115,
          0.000001101026402915056,
          0.0000010483326514277662,
          9.976148359673962e-7,
          9.491710408784482e-7,
          9.032645664426117e-7,
          8.601171705865562e-7,
          8.199035340703818e-7,
          7.827472830578649e-7,
          7.487187679437458e-7,
          7.178352768617337e-7,
          6.900629319556342e-7,
          6.653207068646325e-7,
          6.434862474366611e-7,
          6.244033836026118e-7,
          6.078895152720199e-7,
          5.937440365298621e-7,
          5.817565939735191e-7,
          5.717144186108077e-7,
          5.634079556201817e-7,
          5.566352188330758e-7,
          5.51204486544265e-7,
          5.469357083010969e-7,
          5.436613097947565e-7,
          5.41225231711262e-7,
          5.394821621163412e-7,
          5.382969848370246e-7,
          5.375448732613514e-7,
          5.371118323450107e-7
         ]
        },
        {
         "name": "u, kmult=15",
         "type": "scatter",
         "x": [
          0,
          0,
          0.005,
          0.01,
          0.015,
          0.02,
          0.025,
          0.030000000000000002,
          0.035,
          0.04,
          0.045,
          0.049999999999999996,
          0.05499999999999999,
          0.05999999999999999,
          0.06499999999999999,
          0.06999999999999999,
          0.075,
          0.08,
          0.085,
          0.09000000000000001,
          0.09500000000000001,
          0.10000000000000002,
          0.10500000000000002,
          0.11000000000000003,
          0.11500000000000003,
          0.12000000000000004,
          0.12500000000000003,
          0.13000000000000003,
          0.13500000000000004,
          0.14000000000000004,
          0.14500000000000005,
          0.15000000000000005,
          0.15500000000000005,
          0.16000000000000006,
          0.16500000000000006,
          0.17000000000000007,
          0.17500000000000007,
          0.18000000000000008,
          0.18500000000000008,
          0.19000000000000009,
          0.1950000000000001,
          0.2000000000000001,
          0.2050000000000001,
          0.2100000000000001,
          0.2150000000000001,
          0.2200000000000001,
          0.22500000000000012,
          0.23000000000000012,
          0.23500000000000013,
          0.24000000000000013,
          0.24500000000000013,
          0.2500000000000001,
          0.2550000000000001,
          0.2600000000000001,
          0.2650000000000001,
          0.27000000000000013,
          0.27500000000000013,
          0.28000000000000014,
          0.28500000000000014,
          0.29000000000000015,
          0.29500000000000015,
          0.30000000000000016,
          0.30500000000000016,
          0.31000000000000016,
          0.31500000000000017,
          0.3200000000000002,
          0.3250000000000002,
          0.3300000000000002,
          0.3350000000000002,
          0.3400000000000002,
          0.3450000000000002
         ],
         "y": [
          0.0000024851458235950733,
          0.0000024848060248859598,
          0.000002483782481385084,
          0.0000024820615720128883,
          0.0000024796208038810694,
          0.0000024764287840936225,
          0.0000024724453115112576,
          0.000002467621508423824,
          0.000002461899996005238,
          0.000002455215121512345,
          0.0000024474932469903256,
          0.0000024386531107750877,
          0.000002428606274509751,
          0.0000024172576697137754,
          0.000002404506259117857,
          0.000002390245828944022,
          0.0000023743659289889475,
          0.0000023567529776607133,
          0.000002337291548905421,
          0.0000023158658570990536,
          0.000002292361454308126,
          0.000002266667151656175,
          0.0000022386771726710284,
          0.00000220829354121898,
          0.0000021754286997456977,
          0.0000021400083448449654,
          0.000002101974456507144,
          0.000002061288484666176,
          0.0000020179346418725616,
          0.0000019719232342155143,
          0.0000019232939443317743,
          0.0000018721189610373678,
          0.0000018185058306494513,
          0.0000017625998865964347,
          0.000001704586097957126,
          0.000001644690165973857,
          0.000001583178692496255,
          0.0000015203582480784251,
          0.0000014565731824635878,
          0.000001392202048654311,
          0.000001327652555410412,
          0.000001263355022729045,
          0.0000011997543643742249,
          0.000001137300519512511,
          0.0000010764385961964051,
          0.0000010175976419560023,
          9.611791851283517e-7,
          9.075460842438892e-7,
          8.57012193563627e-7,
          8.098334491147213e-7,
          7.662009371722371e-7,
          7.262363501325944e-7,
          6.899907823589476e-7,
          6.574461038498003e-7,
          6.285194969418507e-7,
          6.03070790456796e-7,
          5.80912394182457e-7,
          5.61819590474087e-7,
          5.455423627398508e-7,
          5.318171331084162e-7,
          5.203773052102441e-7,
          5.109615320815161e-7,
          5.033200577462032e-7,
          4.972186222625903e-7,
          4.924403598257422e-7,
          4.887865412289239e-7,
          4.860749983522558e-7,
          4.841385828180689e-7,
          4.828238116355872e-7,
          4.819902755618113e-7,
          4.815106505329472e-7
         ]
        },
        {
         "name": "u, kmult=20",
         "type": "scatter",
         "x": [
          0,
          0,
          0.0025,
          0.005,
          0.0075,
          0.01,
          0.0125,
          0.015000000000000001,
          0.0175,
          0.02,
          0.0225,
          0.024999999999999998,
          0.027499999999999997,
          0.029999999999999995,
          0.032499999999999994,
          0.034999999999999996,
          0.0375,
          0.04,
          0.0425,
          0.045000000000000005,
          0.04750000000000001,
          0.05000000000000001,
          0.05250000000000001,
          0.055000000000000014,
          0.057500000000000016,
          0.06000000000000002,
          0.06250000000000001,
          0.06500000000000002,
          0.06750000000000002,
          0.07000000000000002,
          0.07250000000000002,
          0.07500000000000002,
          0.07750000000000003,
          0.08000000000000003,
          0.08250000000000003,
          0.08500000000000003,
          0.08750000000000004,
          0.09000000000000004,
          0.09250000000000004,
          0.09500000000000004,
          0.09750000000000004,
          0.10000000000000005,
          0.10250000000000005,
          0.10500000000000005,
          0.10750000000000005,
          0.11000000000000006,
          0.11250000000000006,
          0.11500000000000006,
          0.11750000000000006,
          0.12000000000000006,
          0.12250000000000007,
          0.12500000000000006,
          0.12750000000000006,
          0.13000000000000006,
          0.13250000000000006,
          0.13500000000000006,
          0.13750000000000007,
          0.14000000000000007,
          0.14250000000000007,
          0.14500000000000007,
          0.14750000000000008,
          0.15000000000000008,
          0.15250000000000008,
          0.15500000000000008,
          0.15750000000000008,
          0.1600000000000001,
          0.1625000000000001,
          0.1650000000000001,
          0.1675000000000001,
          0.1700000000000001,
          0.1725000000000001,
          0.1750000000000001,
          0.1775000000000001,
          0.1800000000000001,
          0.1825000000000001,
          0.1850000000000001,
          0.1875000000000001,
          0.1900000000000001,
          0.19250000000000012,
          0.19500000000000012,
          0.19750000000000012,
          0.20000000000000012,
          0.20250000000000012,
          0.20500000000000013,
          0.20750000000000013,
          0.21000000000000013,
          0.21250000000000013,
          0.21500000000000014,
          0.21750000000000014,
          0.22000000000000014,
          0.22250000000000014,
          0.22500000000000014,
          0.22750000000000015,
          0.23000000000000015,
          0.23250000000000015,
          0.23500000000000015,
          0.23750000000000016,
          0.24000000000000016,
          0.24250000000000016,
          0.24500000000000016,
          0.24750000000000016,
          0.25000000000000017,
          0.25250000000000017,
          0.25500000000000017,
          0.2575000000000002,
          0.2600000000000002,
          0.2625000000000002,
          0.2650000000000002,
          0.2675000000000002,
          0.2700000000000002,
          0.2725000000000002,
          0.2750000000000002,
          0.2775000000000002,
          0.2800000000000002,
          0.2825000000000002,
          0.2850000000000002,
          0.2875000000000002,
          0.2900000000000002,
          0.2925000000000002,
          0.2950000000000002,
          0.2975000000000002,
          0.3000000000000002,
          0.3025000000000002,
          0.3050000000000002,
          0.3075000000000002,
          0.3100000000000002,
          0.3125000000000002,
          0.3150000000000002,
          0.3175000000000002,
          0.32000000000000023,
          0.32250000000000023,
          0.32500000000000023,
          0.32750000000000024,
          0.33000000000000024,
          0.33250000000000024,
          0.33500000000000024,
          0.33750000000000024,
          0.34000000000000025,
          0.34250000000000025,
          0.34500000000000025,
          0.34750000000000025
         ],
         "y": [
          0.0000025349600637927144,
          0.0000025349073604798197,
          0.0000025347489642731213,
          0.000002534483934328703,
          0.0000025341107141577515,
          0.000002533627125520972,
          0.0000025330303684901117,
          0.000002532317021876416,
          0.0000025314830438490953,
          0.0000025305237727485006,
          0.0000025294339281250095,
          0.0000025282076120444263,
          0.000002526838310707739,
          0.0000025253188964395094,
          0.0000025236416301055635,
          0.000002521798164027118,
          0.000002519779545465074,
          0.000002517576220754968,
          0.0000025151780401800005,
          0.0000025125742636766372,
          0.0000025097535674745577,
          0.00000250670405178014,
          0.0000025034132496202498,
          0.0000024998681369708306,
          0.0000024960551443026093,
          0.0000024919601696841687,
          0.0000024875685935906,
          0.00000248286529557393,
          0.0000024778346729594357,
          0.0000024724606617397587,
          0.0000024667267598463255,
          0.0000024606160529848604,
          0.000002454111243228655,
          0.0000024471946805695655,
          0.000002439848397632318,
          0.0000024320541477624306,
          0.000002423793446701688,
          0.0000024150476180674534,
          0.0000024057978428528444,
          0.0000023960252131637373,
          0.000002385710790405308,
          0.0000023748356681250766,
          0.000002363381039710797,
          0.000002351328271129615,
          0.000002338658978879291,
          0.000002325355113302456,
          0.0000023113990473903768,
          0.0000022967736711730307,
          0.0000022814624917568935,
          0.0000022654497390302387,
          0.0000022487204770073482,
          0.000002231260720727393,
          0.000002213057558560327,
          0.000002194099279700563,
          0.000002174375506549037,
          0.0000021538773315953323,
          0.0000021325974583135483,
          0.0000021105303454786674,
          0.000002087672354194337,
          0.000002064021896798704,
          0.000002039579586682747,
          0.000002014348387916376,
          0.0000019883337634326033,
          0.0000019615438203708474,
          0.0000019339894510289185,
          0.0000019056844677217177,
          0.0000018766457296960137,
          0.0000018468932601080407,
          0.0000018164503509378076,
          0.0000017853436535950709,
          0.000001753603252871483,
          0.000001721262721816459,
          0.0000016883591550661204,
          0.0000016549331781408092,
          0.0000016210289302528177,
          0.0000015866940182378349,
          0.0000015519794393466709,
          0.0000015169394708132815,
          0.0000014816315243555452,
          0.0000014461159640704288,
          0.0000014104558865578302,
          0.0000013747168625488574,
          0.0000013389666398243282,
          0.0000013032748077857142,
          0.000001267712390305267,
          0.0000012323514259417085,
          0.0000011972646416323987,
          0.0000011625249167398929,
          0.0000011282047808807002,
          0.0000010943758951847353,
          0.0000010611085179203936,
          0.0000010284709608012816,
          9.965290429675522e-7,
          9.653455502238813e-7,
          9.349797075918964e-7,
          9.054866735721658e-7,
          8.769170646856951e-7,
          8.493165188555507e-7,
          8.227253059773457e-7,
          7.97177993546088e-7,
          7.727031437384752e-7,
          7.493231439730037e-7,
          7.27054107119563e-7,
          7.059057887427301e-7,
          6.858816164472353e-7,
          6.669788005543618e-7,
          6.491885251792716e-7,
          6.324962169464248e-7,
          6.168818867326848e-7,
          6.023205380244044e-7,
          5.887826489270761e-7,
          5.762348126299204e-7,
          5.646399984732383e-7,
          5.539582572654307e-7,
          5.441473425426948e-7,
          5.35163304409181e-7,
          5.269610711083007e-7,
          5.194950061195595e-7,
          5.12719433637644e-7,
          5.065891634924328e-7,
          5.010598136840399e-7,
          4.960881943272634e-7,
          4.916326315703978e-7,
          4.876532000775803e-7,
          4.841118905106042e-7,
          4.809726959803282e-7,
          4.782015567072671e-7,
          4.7576664025007093e-7,
          4.736381473546151e-7,
          4.7178821595405657e-7,
          4.701908163732622e-7,
          4.688216342626521e-7,
          4.6765794232686244e-7,
          4.666784555969392e-7,
          4.658632199625699e-7,
          4.6519350260645806e-7,
          4.6465170429659257e-7,
          4.642212963409525e-7,
          4.638867181134312e-7,
          4.63633380584373e-7,
          4.634476656184749e-7
         ]
        },
        {
         "name": "u_p",
         "type": "scatter",
         "x": [
          0,
          0,
          0.005,
          0.01,
          0.015,
          0.02,
          0.025,
          0.030000000000000002,
          0.035,
          0.04,
          0.045,
          0.049999999999999996,
          0.05499999999999999,
          0.05999999999999999,
          0.06499999999999999,
          0.06999999999999999,
          0.075,
          0.08,
          0.085,
          0.09000000000000001,
          0.09500000000000001,
          0.10000000000000002,
          0.10500000000000002,
          0.11000000000000003,
          0.11500000000000003,
          0.12000000000000004,
          0.12500000000000003,
          0.13000000000000003,
          0.13500000000000004,
          0.14000000000000004,
          0.14500000000000005,
          0.15000000000000005,
          0.15500000000000005,
          0.16000000000000006,
          0.16500000000000006,
          0.17000000000000007,
          0.17500000000000007,
          0.18000000000000008,
          0.18500000000000008,
          0.19000000000000009,
          0.1950000000000001,
          0.2000000000000001,
          0.2050000000000001,
          0.2100000000000001,
          0.2150000000000001,
          0.2200000000000001,
          0.22500000000000012,
          0.23000000000000012,
          0.23500000000000013,
          0.24000000000000013,
          0.24500000000000013,
          0.2500000000000001,
          0.2550000000000001,
          0.2600000000000001,
          0.2650000000000001,
          0.27000000000000013,
          0.27500000000000013,
          0.28000000000000014,
          0.28500000000000014,
          0.29000000000000015,
          0.29500000000000015,
          0.30000000000000016,
          0.30500000000000016,
          0.31000000000000016,
          0.31500000000000017,
          0.3200000000000002,
          0.3250000000000002,
          0.3300000000000002,
          0.3350000000000002,
          0.3400000000000002,
          0.3450000000000002
         ],
         "y": [
          0.000002561696520395968,
          0.000002561696520395968,
          0.000002561696107378172,
          0.0000025616899121160272,
          0.0000025616630660830592,
          0.000002561590789133921,
          0.000002561438392000152,
          0.0000025611612825794918,
          0.000002560704978813756,
          0.000002560005131748582,
          0.000002558987563165911,
          0.0000025575683229767174,
          0.00000255565377235653,
          0.0000025531406993986727,
          0.000002549916474848988,
          0.000002545859256269314,
          0.0000025408382497532724,
          0.0000025347140390844774,
          0.000002527338992980415,
          0.0000025185577618012956,
          0.0000025082078758158137,
          0.0000024961204577984197,
          0.00000248212106337568,
          0.0000024660306631305415,
          0.0000024476667809972336,
          0.0000024268448039152998,
          0.00000240337947803295,
          0.000002377086606922795,
          0.0000023477849672534,
          0.0000023152984570911517,
          0.0000022794584914163856,
          0.0000022401066584328514,
          0.0000021970976487135385,
          0.0000021503024670093505,
          0.000002099611933463793,
          0.000002044940476791243,
          0.000001986230216396255,
          0.000001923455323072843,
          0.0000018566266383784721,
          0.0000017857965204793059,
          0.0000017110638685481686,
          0.0000016325792578705983,
          0.000001550550092742339,
          0.000001465245652945358,
          0.000001377001870863318,
          0.0000012862256288521902,
          0.0000011933983090415031,
          0.0000010990782592182383,
          0.000001003901758242161,
          9.085819729497544e-7,
          8.139052978893083e-7,
          7.207243646376706e-7,
          6.29946908795812e-7,
          5.425196073036779e-7,
          4.5940597458123445e-7,
          3.815574767245011e-7,
          3.0987725273831595e-7,
          2.451763101681679e-7,
          1.8812290592088853e-7,
          1.3918716659305846e-7,
          9.858497033707964e-8,
          6.622774615709058e-8,
          4.168796465845899e-8,
          2.4193049091054556e-8,
          1.2661777548345254e-8,
          5.794433226190929e-9,
          2.2175763204907243e-9,
          6.638611193319582e-10,
          1.3997271923770473e-10,
          1.7455027632250637e-11,
          9.405068809312933e-13
         ]
        }
       ],
       "layout": {
        "legend": {
         "tracegroupgap": 0
        },
        "margin": {
         "t": 60
        },
        "template": {
         "data": {
          "bar": [
           {
            "error_x": {
             "color": "#2a3f5f"
            },
            "error_y": {
             "color": "#2a3f5f"
            },
            "marker": {
             "line": {
              "color": "#E5ECF6",
              "width": 0.5
             },
             "pattern": {
              "fillmode": "overlay",
              "size": 10,
              "solidity": 0.2
             }
            },
            "type": "bar"
           }
          ],
          "barpolar": [
           {
            "marker": {
             "line": {
              "color": "#E5ECF6",
              "width": 0.5
             },
             "pattern": {
              "fillmode": "overlay",
              "size": 10,
              "solidity": 0.2
             }
            },
            "type": "barpolar"
           }
          ],
          "carpet": [
           {
            "aaxis": {
             "endlinecolor": "#2a3f5f",
             "gridcolor": "white",
             "linecolor": "white",
             "minorgridcolor": "white",
             "startlinecolor": "#2a3f5f"
            },
            "baxis": {
             "endlinecolor": "#2a3f5f",
             "gridcolor": "white",
             "linecolor": "white",
             "minorgridcolor": "white",
             "startlinecolor": "#2a3f5f"
            },
            "type": "carpet"
           }
          ],
          "choropleth": [
           {
            "colorbar": {
             "outlinewidth": 0,
             "ticks": ""
            },
            "type": "choropleth"
           }
          ],
          "contour": [
           {
            "colorbar": {
             "outlinewidth": 0,
             "ticks": ""
            },
            "colorscale": [
             [
              0,
              "#0d0887"
             ],
             [
              0.1111111111111111,
              "#46039f"
             ],
             [
              0.2222222222222222,
              "#7201a8"
             ],
             [
              0.3333333333333333,
              "#9c179e"
             ],
             [
              0.4444444444444444,
              "#bd3786"
             ],
             [
              0.5555555555555556,
              "#d8576b"
             ],
             [
              0.6666666666666666,
              "#ed7953"
             ],
             [
              0.7777777777777778,
              "#fb9f3a"
             ],
             [
              0.8888888888888888,
              "#fdca26"
             ],
             [
              1,
              "#f0f921"
             ]
            ],
            "type": "contour"
           }
          ],
          "contourcarpet": [
           {
            "colorbar": {
             "outlinewidth": 0,
             "ticks": ""
            },
            "type": "contourcarpet"
           }
          ],
          "heatmap": [
           {
            "colorbar": {
             "outlinewidth": 0,
             "ticks": ""
            },
            "colorscale": [
             [
              0,
              "#0d0887"
             ],
             [
              0.1111111111111111,
              "#46039f"
             ],
             [
              0.2222222222222222,
              "#7201a8"
             ],
             [
              0.3333333333333333,
              "#9c179e"
             ],
             [
              0.4444444444444444,
              "#bd3786"
             ],
             [
              0.5555555555555556,
              "#d8576b"
             ],
             [
              0.6666666666666666,
              "#ed7953"
             ],
             [
              0.7777777777777778,
              "#fb9f3a"
             ],
             [
              0.8888888888888888,
              "#fdca26"
             ],
             [
              1,
              "#f0f921"
             ]
            ],
            "type": "heatmap"
           }
          ],
          "histogram": [
           {
            "marker": {
             "pattern": {
              "fillmode": "overlay",
              "size": 10,
              "solidity": 0.2
             }
            },
            "type": "histogram"
           }
          ],
          "histogram2d": [
           {
            "colorbar": {
             "outlinewidth": 0,
             "ticks": ""
            },
            "colorscale": [
             [
              0,
              "#0d0887"
             ],
             [
              0.1111111111111111,
              "#46039f"
             ],
             [
              0.2222222222222222,
              "#7201a8"
             ],
             [
              0.3333333333333333,
              "#9c179e"
             ],
             [
              0.4444444444444444,
              "#bd3786"
             ],
             [
              0.5555555555555556,
              "#d8576b"
             ],
             [
              0.6666666666666666,
              "#ed7953"
             ],
             [
              0.7777777777777778,
              "#fb9f3a"
             ],
             [
              0.8888888888888888,
              "#fdca26"
             ],
             [
              1,
              "#f0f921"
             ]
            ],
            "type": "histogram2d"
           }
          ],
          "histogram2dcontour": [
           {
            "colorbar": {
             "outlinewidth": 0,
             "ticks": ""
            },
            "colorscale": [
             [
              0,
              "#0d0887"
             ],
             [
              0.1111111111111111,
              "#46039f"
             ],
             [
              0.2222222222222222,
              "#7201a8"
             ],
             [
              0.3333333333333333,
              "#9c179e"
             ],
             [
              0.4444444444444444,
              "#bd3786"
             ],
             [
              0.5555555555555556,
              "#d8576b"
             ],
             [
              0.6666666666666666,
              "#ed7953"
             ],
             [
              0.7777777777777778,
              "#fb9f3a"
             ],
             [
              0.8888888888888888,
              "#fdca26"
             ],
             [
              1,
              "#f0f921"
             ]
            ],
            "type": "histogram2dcontour"
           }
          ],
          "mesh3d": [
           {
            "colorbar": {
             "outlinewidth": 0,
             "ticks": ""
            },
            "type": "mesh3d"
           }
          ],
          "parcoords": [
           {
            "line": {
             "colorbar": {
              "outlinewidth": 0,
              "ticks": ""
             }
            },
            "type": "parcoords"
           }
          ],
          "pie": [
           {
            "automargin": true,
            "type": "pie"
           }
          ],
          "scatter": [
           {
            "fillpattern": {
             "fillmode": "overlay",
             "size": 10,
             "solidity": 0.2
            },
            "type": "scatter"
           }
          ],
          "scatter3d": [
           {
            "line": {
             "colorbar": {
              "outlinewidth": 0,
              "ticks": ""
             }
            },
            "marker": {
             "colorbar": {
              "outlinewidth": 0,
              "ticks": ""
             }
            },
            "type": "scatter3d"
           }
          ],
          "scattercarpet": [
           {
            "marker": {
             "colorbar": {
              "outlinewidth": 0,
              "ticks": ""
             }
            },
            "type": "scattercarpet"
           }
          ],
          "scattergeo": [
           {
            "marker": {
             "colorbar": {
              "outlinewidth": 0,
              "ticks": ""
             }
            },
            "type": "scattergeo"
           }
          ],
          "scattergl": [
           {
            "marker": {
             "colorbar": {
              "outlinewidth": 0,
              "ticks": ""
             }
            },
            "type": "scattergl"
           }
          ],
          "scattermap": [
           {
            "marker": {
             "colorbar": {
              "outlinewidth": 0,
              "ticks": ""
             }
            },
            "type": "scattermap"
           }
          ],
          "scattermapbox": [
           {
            "marker": {
             "colorbar": {
              "outlinewidth": 0,
              "ticks": ""
             }
            },
            "type": "scattermapbox"
           }
          ],
          "scatterpolar": [
           {
            "marker": {
             "colorbar": {
              "outlinewidth": 0,
              "ticks": ""
             }
            },
            "type": "scatterpolar"
           }
          ],
          "scatterpolargl": [
           {
            "marker": {
             "colorbar": {
              "outlinewidth": 0,
              "ticks": ""
             }
            },
            "type": "scatterpolargl"
           }
          ],
          "scatterternary": [
           {
            "marker": {
             "colorbar": {
              "outlinewidth": 0,
              "ticks": ""
             }
            },
            "type": "scatterternary"
           }
          ],
          "surface": [
           {
            "colorbar": {
             "outlinewidth": 0,
             "ticks": ""
            },
            "colorscale": [
             [
              0,
              "#0d0887"
             ],
             [
              0.1111111111111111,
              "#46039f"
             ],
             [
              0.2222222222222222,
              "#7201a8"
             ],
             [
              0.3333333333333333,
              "#9c179e"
             ],
             [
              0.4444444444444444,
              "#bd3786"
             ],
             [
              0.5555555555555556,
              "#d8576b"
             ],
             [
              0.6666666666666666,
              "#ed7953"
             ],
             [
              0.7777777777777778,
              "#fb9f3a"
             ],
             [
              0.8888888888888888,
              "#fdca26"
             ],
             [
              1,
              "#f0f921"
             ]
            ],
            "type": "surface"
           }
          ],
          "table": [
           {
            "cells": {
             "fill": {
              "color": "#EBF0F8"
             },
             "line": {
              "color": "white"
             }
            },
            "header": {
             "fill": {
              "color": "#C8D4E3"
             },
             "line": {
              "color": "white"
             }
            },
            "type": "table"
           }
          ]
         },
         "layout": {
          "annotationdefaults": {
           "arrowcolor": "#2a3f5f",
           "arrowhead": 0,
           "arrowwidth": 1
          },
          "autotypenumbers": "strict",
          "coloraxis": {
           "colorbar": {
            "outlinewidth": 0,
            "ticks": ""
           }
          },
          "colorscale": {
           "diverging": [
            [
             0,
             "#8e0152"
            ],
            [
             0.1,
             "#c51b7d"
            ],
            [
             0.2,
             "#de77ae"
            ],
            [
             0.3,
             "#f1b6da"
            ],
            [
             0.4,
             "#fde0ef"
            ],
            [
             0.5,
             "#f7f7f7"
            ],
            [
             0.6,
             "#e6f5d0"
            ],
            [
             0.7,
             "#b8e186"
            ],
            [
             0.8,
             "#7fbc41"
            ],
            [
             0.9,
             "#4d9221"
            ],
            [
             1,
             "#276419"
            ]
           ],
           "sequential": [
            [
             0,
             "#0d0887"
            ],
            [
             0.1111111111111111,
             "#46039f"
            ],
            [
             0.2222222222222222,
             "#7201a8"
            ],
            [
             0.3333333333333333,
             "#9c179e"
            ],
            [
             0.4444444444444444,
             "#bd3786"
            ],
            [
             0.5555555555555556,
             "#d8576b"
            ],
            [
             0.6666666666666666,
             "#ed7953"
            ],
            [
             0.7777777777777778,
             "#fb9f3a"
            ],
            [
             0.8888888888888888,
             "#fdca26"
            ],
            [
             1,
             "#f0f921"
            ]
           ],
           "sequentialminus": [
            [
             0,
             "#0d0887"
            ],
            [
             0.1111111111111111,
             "#46039f"
            ],
            [
             0.2222222222222222,
             "#7201a8"
            ],
            [
             0.3333333333333333,
             "#9c179e"
            ],
            [
             0.4444444444444444,
             "#bd3786"
            ],
            [
             0.5555555555555556,
             "#d8576b"
            ],
            [
             0.6666666666666666,
             "#ed7953"
            ],
            [
             0.7777777777777778,
             "#fb9f3a"
            ],
            [
             0.8888888888888888,
             "#fdca26"
            ],
            [
             1,
             "#f0f921"
            ]
           ]
          },
          "colorway": [
           "#636efa",
           "#EF553B",
           "#00cc96",
           "#ab63fa",
           "#FFA15A",
           "#19d3f3",
           "#FF6692",
           "#B6E880",
           "#FF97FF",
           "#FECB52"
          ],
          "font": {
           "color": "#2a3f5f"
          },
          "geo": {
           "bgcolor": "white",
           "lakecolor": "white",
           "landcolor": "#E5ECF6",
           "showlakes": true,
           "showland": true,
           "subunitcolor": "white"
          },
          "hoverlabel": {
           "align": "left"
          },
          "hovermode": "closest",
          "mapbox": {
           "style": "light"
          },
          "paper_bgcolor": "white",
          "plot_bgcolor": "#E5ECF6",
          "polar": {
           "angularaxis": {
            "gridcolor": "white",
            "linecolor": "white",
            "ticks": ""
           },
           "bgcolor": "#E5ECF6",
           "radialaxis": {
            "gridcolor": "white",
            "linecolor": "white",
            "ticks": ""
           }
          },
          "scene": {
           "xaxis": {
            "backgroundcolor": "#E5ECF6",
            "gridcolor": "white",
            "gridwidth": 2,
            "linecolor": "white",
            "showbackground": true,
            "ticks": "",
            "zerolinecolor": "white"
           },
           "yaxis": {
            "backgroundcolor": "#E5ECF6",
            "gridcolor": "white",
            "gridwidth": 2,
            "linecolor": "white",
            "showbackground": true,
            "ticks": "",
            "zerolinecolor": "white"
           },
           "zaxis": {
            "backgroundcolor": "#E5ECF6",
            "gridcolor": "white",
            "gridwidth": 2,
            "linecolor": "white",
            "showbackground": true,
            "ticks": "",
            "zerolinecolor": "white"
           }
          },
          "shapedefaults": {
           "line": {
            "color": "#2a3f5f"
           }
          },
          "ternary": {
           "aaxis": {
            "gridcolor": "white",
            "linecolor": "white",
            "ticks": ""
           },
           "baxis": {
            "gridcolor": "white",
            "linecolor": "white",
            "ticks": ""
           },
           "bgcolor": "#E5ECF6",
           "caxis": {
            "gridcolor": "white",
            "linecolor": "white",
            "ticks": ""
           }
          },
          "title": {
           "x": 0.05
          },
          "xaxis": {
           "automargin": true,
           "gridcolor": "white",
           "linecolor": "white",
           "ticks": "",
           "title": {
            "standoff": 15
           },
           "zerolinecolor": "white",
           "zerolinewidth": 2
          },
          "yaxis": {
           "automargin": true,
           "gridcolor": "white",
           "linecolor": "white",
           "ticks": "",
           "title": {
            "standoff": 15
           },
           "zerolinecolor": "white",
           "zerolinewidth": 2
          }
         }
        },
        "xaxis": {
         "anchor": "y",
         "domain": [
          0,
          1
         ]
        },
        "yaxis": {
         "anchor": "x",
         "domain": [
          0,
          1
         ]
        }
       }
      }
     },
     "metadata": {},
     "output_type": "display_data"
    }
   ],
   "source": [
    "TempTableMultipliers = [0.5, 1, 2, 3, 4, 5, 6, 7, 8, 9, 10, 12, 15, 20]\n",
    "\n",
    "fig = px.line()\n",
    "prevTempTable = TempTable\n",
    "for mult in TempTableMultipliers:\n",
    "    TempTable = [(elem[0], elem[1] * mult) for elem in TempTable]\n",
    "    k = getkFunc()\n",
    "    lambdaParam = findLambda(1e-4, 1e-4)\n",
    "    rvalues, uvalues, vvalues = zip(*findPoints(lambdaParam, 1e-4, 1e-2))\n",
    "    fig.add_trace(go.Scatter(x=rvalues, y=uvalues, name=f\"u, kmult={mult}\"))\n",
    "    TempTable = prevTempTable\n",
    "k = getkFunc()\n",
    "rvalues, _, _ = zip(*findPoints(lambdaParam, 1e-4, 1e-2))\n",
    "u_pvalues = [plankFunc(r) for r in rvalues]\n",
    "fig.add_trace(go.Scatter(x=rvalues, y=u_pvalues, name=f\"u_p\"))\n",
    "\n",
    "fig.show()\n",
    "\n"
   ]
  },
  {
   "cell_type": "code",
   "execution_count": 8,
   "metadata": {},
   "outputs": [
    {
     "data": {
      "application/vnd.plotly.v1+json": {
       "config": {
        "plotlyServerURL": "https://plot.ly"
       },
       "data": [
        {
         "hovertemplate": "<extra></extra>",
         "legendgroup": "",
         "line": {
          "color": "#636efa",
          "dash": "solid"
         },
         "marker": {
          "symbol": "circle"
         },
         "mode": "lines",
         "name": "",
         "orientation": "v",
         "showlegend": false,
         "type": "scatter",
         "xaxis": "x",
         "yaxis": "y"
        },
        {
         "name": "u, p=1",
         "type": "scatter",
         "x": [
          0,
          0,
          0.005,
          0.01,
          0.015,
          0.02,
          0.025,
          0.030000000000000002,
          0.035,
          0.04,
          0.045,
          0.049999999999999996,
          0.05499999999999999,
          0.05999999999999999,
          0.06499999999999999,
          0.06999999999999999,
          0.075,
          0.08,
          0.085,
          0.09000000000000001,
          0.09500000000000001,
          0.10000000000000002,
          0.10500000000000002,
          0.11000000000000003,
          0.11500000000000003,
          0.12000000000000004,
          0.12500000000000003,
          0.13000000000000003,
          0.13500000000000004,
          0.14000000000000004,
          0.14500000000000005,
          0.15000000000000005,
          0.15500000000000005,
          0.16000000000000006,
          0.16500000000000006,
          0.17000000000000007,
          0.17500000000000007,
          0.18000000000000008,
          0.18500000000000008,
          0.19000000000000009,
          0.1950000000000001,
          0.2000000000000001,
          0.2050000000000001,
          0.2100000000000001,
          0.2150000000000001,
          0.2200000000000001,
          0.22500000000000012,
          0.23000000000000012,
          0.23500000000000013,
          0.24000000000000013,
          0.24500000000000013,
          0.2500000000000001,
          0.2550000000000001,
          0.2600000000000001,
          0.2650000000000001,
          0.27000000000000013,
          0.27500000000000013,
          0.28000000000000014,
          0.28500000000000014,
          0.29000000000000015,
          0.29500000000000015,
          0.30000000000000016,
          0.30500000000000016,
          0.31000000000000016,
          0.31500000000000017,
          0.3200000000000002,
          0.3250000000000002,
          0.3300000000000002,
          0.3350000000000002,
          0.3400000000000002,
          0.3450000000000002
         ],
         "y": [
          0.000002561696520395968,
          0.0000025616974117940362,
          0.0000025617051108210914,
          0.0000025617246382734063,
          0.0000025617599975780037,
          0.000002561814121371847,
          0.0000025618890100445884,
          0.0000025619858639732043,
          0.0000025621052038367046,
          0.000002562246979157585,
          0.0000025624106665430097,
          0.000002562595355747848,
          0.0000025627998268164642,
          0.000002563022618927297,
          0.000002563262090803453,
          0.000002563516473623982,
          0.0000025637839170594506,
          0.0000025640625290207354,
          0.0000025643504097630534,
          0.000002564645681467975,
          0.0000025649465107775955,
          0.0000025652511292075153,
          0.000002565557849247023,
          0.000002565865076956963,
          0.0000025661713215257548,
          0.000002566475202134227,
          0.0000025667754524546822,
          0.000002567070921660238,
          0.0000025673605745907094,
          0.0000025676434958060036,
          0.000002567918884681567,
          0.000002568186051928546,
          0.0000025684444154262474,
          0.0000025686934953414105,
          0.0000025689329086922678,
          0.000002569162363498717,
          0.000002569381651357765,
          0.000002569590642486953,
          0.0000025697892806019885,
          0.000002569977575203943,
          0.0000025701555952560343,
          0.000002570323462997469,
          0.0000025704813479450092,
          0.0000025706294611235415,
          0.0000025707680498071877,
          0.0000025708973956663797,
          0.000002571017803602659,
          0.0000025711295979665954,
          0.000002571233120095148,
          0.0000025713287243721874,
          0.0000025714167746112958,
          0.0000025714976407555222,
          0.000002571571695885929,
          0.000002571639313490302,
          0.000002571700864769258,
          0.0000025717567172139903,
          0.000002571807232379454,
          0.0000025718527642078387,
          0.0000025718936576200295,
          0.0000025719302473179868,
          0.000002571962856782339,
          0.0000025719917974497524,
          0.000002572017367755165,
          0.0000025720398526509616,
          0.0000025720595242329464,
          0.000002572076640793786,
          0.00000257209144663899,
          0.0000025721041720475078,
          0.000002572115033319445,
          0.000002572124232900176,
          0.0000025721319595708044
         ]
        },
        {
         "name": "u, p=2",
         "type": "scatter",
         "x": [
          0,
          0,
          0.005,
          0.01,
          0.015,
          0.02,
          0.025,
          0.030000000000000002,
          0.035,
          0.04,
          0.045,
          0.049999999999999996,
          0.05499999999999999,
          0.05999999999999999,
          0.06499999999999999,
          0.06999999999999999,
          0.075,
          0.08,
          0.085,
          0.09000000000000001,
          0.09500000000000001,
          0.10000000000000002,
          0.10500000000000002,
          0.11000000000000003,
          0.11500000000000003,
          0.12000000000000004,
          0.12500000000000003,
          0.13000000000000003,
          0.13500000000000004,
          0.14000000000000004,
          0.14500000000000005,
          0.15000000000000005,
          0.15500000000000005,
          0.16000000000000006,
          0.16500000000000006,
          0.17000000000000007,
          0.17500000000000007,
          0.18000000000000008,
          0.18500000000000008,
          0.19000000000000009,
          0.1950000000000001,
          0.2000000000000001,
          0.2050000000000001,
          0.2100000000000001,
          0.2150000000000001,
          0.2200000000000001,
          0.22500000000000012,
          0.23000000000000012,
          0.23500000000000013,
          0.24000000000000013,
          0.24500000000000013,
          0.2500000000000001,
          0.2550000000000001,
          0.2600000000000001,
          0.2650000000000001,
          0.27000000000000013,
          0.27500000000000013,
          0.28000000000000014,
          0.28500000000000014,
          0.29000000000000015,
          0.29500000000000015,
          0.30000000000000016,
          0.30500000000000016,
          0.31000000000000016,
          0.31500000000000017,
          0.3200000000000002,
          0.3250000000000002,
          0.3300000000000002,
          0.3350000000000002,
          0.3400000000000002,
          0.3450000000000002
         ],
         "y": [
          0.000002561696520395968,
          0.0000025616965270384555,
          0.0000025616966743055163,
          0.0000025616973167057076,
          0.0000025616990384725136,
          0.0000025617026419350025,
          0.000002561709131785157,
          0.000002561719695469221,
          0.0000025617356799786694,
          0.0000025617585654387734,
          0.0000025617899359625727,
          0.000002561831448291066,
          0.0000025618847987821876,
          0.0000025619516893423895,
          0.0000025620337929151708,
          0.000002562132719150431,
          0.0000025622499808768335,
          0.000002562386961986424,
          0.000002562544887316698,
          0.000002562724795080455,
          0.000002562927512348675,
          0.0000025631536340369828,
          0.000002563403505782956,
          0.0000025636772110306483,
          0.0000025639745625614602,
          0.0000025642950987038606,
          0.000002564638085352825,
          0.000002565002519835278,
          0.000002565387140774028,
          0.0000025657904429325624,
          0.0000025662106956816265,
          0.0000025666459652071215,
          0.000002567094140037972,
          0.000002567552959409717,
          0.0000025680200439263447,
          0.0000025684929279405995,
          0.0000025689690939218,
          0.000002569446005677592,
          0.0000025699211411958383,
          0.00000257039202649176,
          0.0000025708562672812493,
          0.000002571311578721391,
          0.0000025717558127048838,
          0.0000025721869820668395,
          0.0000025726032770486973,
          0.0000025730030893766246,
          0.000002573385027737425,
          0.000002573747924298831,
          0.000002574090840509933,
          0.000002574413068978509,
          0.000002574714131151124,
          0.000002574993768733372,
          0.0000025752519423739516,
          0.0000025754888165605014,
          0.000002575704744976665,
          0.0000025759002541840794,
          0.000002576076028307111,
          0.000002576232892558725,
          0.000002576371778911007,
          0.0000025764937142983742,
          0.0000025765998012871785,
          0.0000025766911983654946,
          0.000002576769100423281,
          0.000002576834722186326,
          0.000002576889280824712,
          0.0000025769339801857843,
          0.000002576969996349288,
          0.000002576998463581804,
          0.0000025770204668866978,
          0.0000025770370297167347,
          0.000002577049105051196
         ]
        },
        {
         "name": "u, p=3",
         "type": "scatter",
         "x": [
          0,
          0,
          0.005,
          0.01,
          0.015,
          0.02,
          0.025,
          0.030000000000000002,
          0.035,
          0.04,
          0.045,
          0.049999999999999996,
          0.05499999999999999,
          0.05999999999999999,
          0.06499999999999999,
          0.06999999999999999,
          0.075,
          0.08,
          0.085,
          0.09000000000000001,
          0.09500000000000001,
          0.10000000000000002,
          0.10500000000000002,
          0.11000000000000003,
          0.11500000000000003,
          0.12000000000000004,
          0.12500000000000003,
          0.13000000000000003,
          0.13500000000000004,
          0.14000000000000004,
          0.14500000000000005,
          0.15000000000000005,
          0.15500000000000005,
          0.16000000000000006,
          0.16500000000000006,
          0.17000000000000007,
          0.17500000000000007,
          0.18000000000000008,
          0.18500000000000008,
          0.19000000000000009,
          0.1950000000000001,
          0.2000000000000001,
          0.2050000000000001,
          0.2100000000000001,
          0.2150000000000001,
          0.2200000000000001,
          0.22500000000000012,
          0.23000000000000012,
          0.23500000000000013,
          0.24000000000000013,
          0.24500000000000013,
          0.2500000000000001,
          0.2550000000000001,
          0.2600000000000001,
          0.2650000000000001,
          0.27000000000000013,
          0.27500000000000013,
          0.28000000000000014,
          0.28500000000000014,
          0.29000000000000015,
          0.29500000000000015,
          0.30000000000000016,
          0.30500000000000016,
          0.31000000000000016,
          0.31500000000000017,
          0.3200000000000002,
          0.3250000000000002,
          0.3300000000000002,
          0.3350000000000002,
          0.3400000000000002,
          0.3450000000000002
         ],
         "y": [
          2.9829716096380267e-7,
          2.9825257367539456e-7,
          2.9811881691652164e-7,
          2.978959226220374e-7,
          2.9758398126333453e-7,
          2.9718317358896397e-7,
          2.966938021992607e-7,
          2.961163227548722e-7,
          2.9545137461086446e-7,
          2.946998106225825e-7,
          2.938627258259467e-7,
          2.929414846545998e-7,
          2.9193774632026584e-7,
          2.908534879519583e-7,
          2.8969102506547994e-7,
          2.8845302891825105e-7,
          2.871425402971584e-7,
          2.857629792900884e-7,
          2.843181506062663e-7,
          2.828122440375231e-7,
          2.812498296930147e-7,
          2.7963584769434123e-7,
          2.779755920867705e-7,
          2.7627468880528956e-7,
          2.74539067631001e-7,
          2.7277492818295685e-7,
          2.7098870011137643e-7,
          2.691869977882297e-7,
          2.673765699277338e-7,
          2.6556424470914625e-7,
          2.6375687111355e-7,
          2.619612573208009e-7,
          2.6018410713772206e-7,
          2.584319555389521e-7,
          2.5671110449239736e-7,
          2.550275603068446e-7,
          2.5338696894481997e-7,
          2.51794564861311e-7,
          2.502551255920283e-7,
          2.487729230602999e-7,
          2.473516870762449e-7,
          2.459945772268083e-7,
          2.4470416383872686e-7,
          2.4348241846131536e-7,
          2.4233071405174664e-7,
          2.4124983282965177e-7,
          2.402399867139849e-7,
          2.393008479906937e-7,
          2.384315818063431e-7,
          2.376308874715769e-7,
          2.3689704476935908e-7,
          2.3622796530852e-7,
          2.3562125343880373e-7,
          2.3507423316756414e-7,
          2.3458401055806426e-7,
          2.341475227318098e-7,
          2.3376158231490294e-7,
          2.3342292158195845e-7,
          2.3312821522200642e-7,
          2.3287411513043343e-7,
          2.3265727610552224e-7,
          2.3247436725355513e-7,
          2.3232210798623733e-7,
          2.3219728427418914e-7,
          2.3209675614845243e-7,
          2.3201747411957999e-7,
          2.3195649354762756e-7,
          2.319109941767032e-7,
          2.3187830301754202e-7,
          2.3185591421584328e-7,
          2.318415149897754e-7
         ]
        },
        {
         "name": "u, p=4",
         "type": "scatter",
         "x": [
          0,
          0,
          0.005,
          0.01,
          0.015,
          0.02,
          0.025,
          0.030000000000000002,
          0.035,
          0.04,
          0.045,
          0.049999999999999996,
          0.05499999999999999,
          0.05999999999999999,
          0.06499999999999999,
          0.06999999999999999,
          0.075,
          0.08,
          0.085,
          0.09000000000000001,
          0.09500000000000001,
          0.10000000000000002,
          0.10500000000000002,
          0.11000000000000003,
          0.11500000000000003,
          0.12000000000000004,
          0.12500000000000003,
          0.13000000000000003,
          0.13500000000000004,
          0.14000000000000004,
          0.14500000000000005,
          0.15000000000000005,
          0.15500000000000005,
          0.16000000000000006,
          0.16500000000000006,
          0.17000000000000007,
          0.17500000000000007,
          0.18000000000000008,
          0.18500000000000008,
          0.19000000000000009,
          0.1950000000000001,
          0.2000000000000001,
          0.2050000000000001,
          0.2100000000000001,
          0.2150000000000001,
          0.2200000000000001,
          0.22500000000000012,
          0.23000000000000012,
          0.23500000000000013,
          0.24000000000000013,
          0.24500000000000013,
          0.2500000000000001,
          0.2550000000000001,
          0.2600000000000001,
          0.2650000000000001,
          0.27000000000000013,
          0.27500000000000013,
          0.28000000000000014,
          0.28500000000000014,
          0.29000000000000015,
          0.29500000000000015,
          0.30000000000000016,
          0.30500000000000016,
          0.31000000000000016,
          0.31500000000000017,
          0.3200000000000002,
          0.3250000000000002,
          0.3300000000000002,
          0.3350000000000002,
          0.3400000000000002,
          0.3450000000000002
         ],
         "y": [
          3.9389758309451614e-7,
          3.9385487887075057e-7,
          3.9372676404466535e-7,
          3.9351323250012807e-7,
          3.9321427749762446e-7,
          3.9282989666639433e-7,
          3.9236009906298774e-7,
          3.918049142472019e-7,
          3.911644033673611e-7,
          3.904386722414356e-7,
          3.896278864104895e-7,
          3.887322881269645e-7,
          3.87752215221917e-7,
          3.866881217720513e-7,
          3.8554060045880355e-7,
          3.8431040647748377e-7,
          3.8299848281435153e-7,
          3.816059866634135e-7,
          3.801343167028095e-7,
          3.785851408932568e-7,
          3.7696042439880467e-7,
          3.752624571640882e-7,
          3.734938806137415e-7,
          3.7165771287042603e-7,
          3.6975737182032625e-7,
          3.6779669529171373e-7,
          3.6577995755655325e-7,
          3.6371188132085916e-7,
          3.61597644340797e-7,
          3.5944287979290723e-7,
          3.572536695430664e-7,
          3.550365295047198e-7,
          3.527983863571402e-7,
          3.505465450131402e-7,
          3.4828864638610257e-7,
          3.460326152104665e-7,
          3.437865979183022e-7,
          3.415588908655426e-7,
          3.3935785953040695e-7,
          3.3719184966606155e-7,
          3.3506909176871044e-7,
          3.329976006065526e-7,
          3.3098507111250343e-7,
          3.2903876646826126e-7,
          3.2716543304127437e-7,
          3.253711998114707e-7,
          3.2366148828394125e-7,
          3.220409359946207e-7,
          3.2051333398464814e-7,
          3.190815806011126e-7,
          3.177476528669916e-7,
          3.1651259341661496e-7,
          3.1537653118888234e-7,
          3.143387061801976e-7,
          3.13397515349323e-7,
          3.125505745398207e-7,
          3.1179480428391287e-7,
          3.1112648387912693e-7,
          3.1054133653444836e-7,
          3.100346202221693e-7,
          3.096012126980439e-7,
          3.092356727069059e-7,
          3.089323051828889e-7,
          3.086852178127139e-7,
          3.084883812580334e-7,
          3.0833571434078664e-7,
          3.0822112431524956e-7,
          3.081385747189707e-7,
          3.080821677993145e-7,
          3.0804625031215754e-7,
          3.080255257498611e-7
         ]
        },
        {
         "name": "u, p=5",
         "type": "scatter",
         "x": [
          0,
          0,
          0.005,
          0.01,
          0.015,
          0.02,
          0.025,
          0.030000000000000002,
          0.035,
          0.04,
          0.045,
          0.049999999999999996,
          0.05499999999999999,
          0.05999999999999999,
          0.06499999999999999,
          0.06999999999999999,
          0.075,
          0.08,
          0.085,
          0.09000000000000001,
          0.09500000000000001,
          0.10000000000000002,
          0.10500000000000002,
          0.11000000000000003,
          0.11500000000000003,
          0.12000000000000004,
          0.12500000000000003,
          0.13000000000000003,
          0.13500000000000004,
          0.14000000000000004,
          0.14500000000000005,
          0.15000000000000005,
          0.15500000000000005,
          0.16000000000000006,
          0.16500000000000006,
          0.17000000000000007,
          0.17500000000000007,
          0.18000000000000008,
          0.18500000000000008,
          0.19000000000000009,
          0.1950000000000001,
          0.2000000000000001,
          0.2050000000000001,
          0.2100000000000001,
          0.2150000000000001,
          0.2200000000000001,
          0.22500000000000012,
          0.23000000000000012,
          0.23500000000000013,
          0.24000000000000013,
          0.24500000000000013,
          0.2500000000000001,
          0.2550000000000001,
          0.2600000000000001,
          0.2650000000000001,
          0.27000000000000013,
          0.27500000000000013,
          0.28000000000000014,
          0.28500000000000014,
          0.29000000000000015,
          0.29500000000000015,
          0.30000000000000016,
          0.30500000000000016,
          0.31000000000000016,
          0.31500000000000017,
          0.3200000000000002,
          0.3250000000000002,
          0.3300000000000002,
          0.3350000000000002,
          0.3400000000000002,
          0.3450000000000002
         ],
         "y": [
          4.6710622282000456e-7,
          4.670649607566238e-7,
          4.6694117232741284e-7,
          4.667348502173888e-7,
          4.664459825474006e-7,
          4.660745533473764e-7,
          4.6562054354739745e-7,
          4.6508393259878644e-7,
          4.6446470088114526e-7,
          4.63762833052688e-7,
          4.6297832250115295e-7,
          4.621111770519021e-7,
          4.6116142608835217e-7,
          4.6012912923726525e-7,
          4.5901438676719443e-7,
          4.5781735184195306e-7,
          4.5653824476166486e-7,
          4.5517736931094904e-7,
          4.537351313161701e-7,
          4.52212059490396e-7,
          4.5060882861461745e-7,
          4.4892628506565565e-7,
          4.4716547465375294e-7,
          4.4532767267482655e-7,
          4.43414416012549e-7,
          4.4142753704274813e-7,
          4.393691989962836e-7,
          4.372419323261562e-7,
          4.350486715002924e-7,
          4.32792791504129e-7,
          4.3047814318867904e-7,
          4.281090864432646e-7,
          4.256905200120852e-7,
          4.2322790661645955e-7,
          4.2072729189801957e-7,
          4.181953155724786e-7,
          4.156392130910223e-7,
          4.130668060610311e-7,
          4.104864796955354e-7,
          4.079071456583837e-7,
          4.053381888665888e-7,
          4.0278939711858636e-7,
          4.0027087285021923e-7,
          3.9779292688718045e-7,
          3.9536595476390144e-7,
          3.93000297004618e-7,
          3.907060856895183e-7,
          3.884930749169106e-7,
          3.8637047180019647e-7,
          3.8434678016253174e-7,
          3.8242962604470564e-7,
          3.8062560321767855e-7,
          3.7894013744558676e-7,
          3.773773752865277e-7,
          3.7594009889308047e-7,
          3.7462968229123086e-7,
          3.7344608471956003e-7,
          3.723878694521243e-7,
          3.7145226180879185e-7,
          3.7063525135712235e-7,
          3.6993164290108355e-7,
          3.693351916439595e-7,
          3.6883873128499563e-7,
          3.6843427436329615e-7,
          3.6811311730949664e-7,
          3.6786593990141094e-7,
          3.676829822854357e-7,
          3.675541782232635e-7,
          3.674693297997217e-7,
          3.674183594470656e-7,
          3.673916347370389e-7
         ]
        },
        {
         "name": "u, p=6",
         "type": "scatter",
         "x": [
          0,
          0,
          0.005,
          0.01,
          0.015,
          0.02,
          0.025,
          0.030000000000000002,
          0.035,
          0.04,
          0.045,
          0.049999999999999996,
          0.05499999999999999,
          0.05999999999999999,
          0.06499999999999999,
          0.06999999999999999,
          0.075,
          0.08,
          0.085,
          0.09000000000000001,
          0.09500000000000001,
          0.10000000000000002,
          0.10500000000000002,
          0.11000000000000003,
          0.11500000000000003,
          0.12000000000000004,
          0.12500000000000003,
          0.13000000000000003,
          0.13500000000000004,
          0.14000000000000004,
          0.14500000000000005,
          0.15000000000000005,
          0.15500000000000005,
          0.16000000000000006,
          0.16500000000000006,
          0.17000000000000007,
          0.17500000000000007,
          0.18000000000000008,
          0.18500000000000008,
          0.19000000000000009,
          0.1950000000000001,
          0.2000000000000001,
          0.2050000000000001,
          0.2100000000000001,
          0.2150000000000001,
          0.2200000000000001,
          0.22500000000000012,
          0.23000000000000012,
          0.23500000000000013,
          0.24000000000000013,
          0.24500000000000013,
          0.2500000000000001,
          0.2550000000000001,
          0.2600000000000001,
          0.2650000000000001,
          0.27000000000000013,
          0.27500000000000013,
          0.28000000000000014,
          0.28500000000000014,
          0.29000000000000015,
          0.29500000000000015,
          0.30000000000000016,
          0.30500000000000016,
          0.31000000000000016,
          0.31500000000000017,
          0.3200000000000002,
          0.3250000000000002,
          0.3300000000000002,
          0.3350000000000002,
          0.3400000000000002,
          0.3450000000000002
         ],
         "y": [
          5.240267317464055e-7,
          5.239865909799201e-7,
          5.238661664986785e-7,
          5.236654511339982e-7,
          5.233844330372749e-7,
          5.230230956766773e-7,
          5.225814179481835e-7,
          5.220593744078601e-7,
          5.214569356892631e-7,
          5.207740691857876e-7,
          5.200107400925899e-7,
          5.191669129174074e-7,
          5.182425535842693e-7,
          5.172376322687077e-7,
          5.161521271175422e-7,
          5.149860290205118e-7,
          5.137393476147474e-7,
          5.124121187160464e-7,
          5.110044133827369e-7,
          5.095163488280695e-7,
          5.079481014048801e-7,
          5.062999218908249e-7,
          5.04572153302705e-7,
          5.027652514628759e-7,
          5.008798085278277e-7,
          4.989165796666993e-7,
          4.96876513043444e-7,
          4.947607832078917e-7,
          4.925708279350709e-7,
          4.903083884655875e-7,
          4.879755529891871e-7,
          4.855748030754265e-7,
          4.831090625864635e-7,
          4.805817484047249e-7,
          4.779968220710382e-7,
          4.753588411566871e-7,
          4.726730088880457e-7,
          4.699452202103471e-7,
          4.6718210212717764e-7,
          4.643910457989779e-7,
          4.615802275477189e-7,
          4.5875861562348144e-7,
          4.5593595937676825e-7,
          4.531227573902703e-7,
          4.503302012041341e-7,
          4.4757009157237885e-7,
          4.448547247681102e-7,
          4.421967473590434e-7,
          4.396089791360744e-7,
          4.371042055051058e-7,
          4.346949409376821e-7,
          4.323931590752465e-7,
          4.3021005166693787e-7,
          4.281557417565975e-7,
          4.2623901582417524e-7,
          4.244670786969274e-7,
          4.228453419730425e-7,
          4.2137725266078524e-7,
          4.200641985665773e-7,
          4.189054517416842e-7,
          4.1789818005715e-7,
          4.1703752530507814e-7,
          4.1631664076997767e-7,
          4.15726850951709e-7,
          4.152577987027486e-7,
          4.148975661051867e-7,
          4.146328380047071e-7,
          4.144491978401151e-7,
          4.143314222523788e-7,
          4.14263919473562e-7,
          4.1423140369869787e-7
         ]
        },
        {
         "name": "u, p=7",
         "type": "scatter",
         "x": [
          0,
          0,
          0.005,
          0.01,
          0.015,
          0.02,
          0.025,
          0.030000000000000002,
          0.035,
          0.04,
          0.045,
          0.049999999999999996,
          0.05499999999999999,
          0.05999999999999999,
          0.06499999999999999,
          0.06999999999999999,
          0.075,
          0.08,
          0.085,
          0.09000000000000001,
          0.09500000000000001,
          0.10000000000000002,
          0.10500000000000002,
          0.11000000000000003,
          0.11500000000000003,
          0.12000000000000004,
          0.12500000000000003,
          0.13000000000000003,
          0.13500000000000004,
          0.14000000000000004,
          0.14500000000000005,
          0.15000000000000005,
          0.15500000000000005,
          0.16000000000000006,
          0.16500000000000006,
          0.17000000000000007,
          0.17500000000000007,
          0.18000000000000008,
          0.18500000000000008,
          0.19000000000000009,
          0.1950000000000001,
          0.2000000000000001,
          0.2050000000000001,
          0.2100000000000001,
          0.2150000000000001,
          0.2200000000000001,
          0.22500000000000012,
          0.23000000000000012,
          0.23500000000000013,
          0.24000000000000013,
          0.24500000000000013,
          0.2500000000000001,
          0.2550000000000001,
          0.2600000000000001,
          0.2650000000000001,
          0.27000000000000013,
          0.27500000000000013,
          0.28000000000000014,
          0.28500000000000014,
          0.29000000000000015,
          0.29500000000000015,
          0.30000000000000016,
          0.30500000000000016,
          0.31000000000000016,
          0.31500000000000017,
          0.3200000000000002,
          0.3250000000000002,
          0.3300000000000002,
          0.3350000000000002,
          0.3400000000000002,
          0.3450000000000002
         ],
         "y": [
          5.692324511348018e-7,
          5.691932008915186e-7,
          5.690754480282037e-7,
          5.688791855332631e-7,
          5.686044018054512e-7,
          5.682510806098783e-7,
          5.678192010865776e-7,
          5.673087377786438e-7,
          5.667196606946413e-7,
          5.660519354290797e-7,
          5.653055233742606e-7,
          5.644803820677728e-7,
          5.635764657324395e-7,
          5.625937260796335e-7,
          5.615321134625756e-7,
          5.603915784835064e-7,
          5.591720741774639e-7,
          5.578735589157493e-7,
          5.564960001939684e-7,
          5.550393794926464e-7,
          5.535036984226665e-7,
          5.518889863928623e-7,
          5.501953100626008e-7,
          5.484227848675233e-7,
          5.465715889309439e-7,
          5.446419796956313e-7,
          5.426343136293246e-7,
          5.405490693704264e-7,
          5.3838687468537e-7,
          5.361485376030169e-7,
          5.338350820701822e-7,
          5.31447788431206e-7,
          5.289882389676652e-7,
          5.264583686351274e-7,
          5.238605209946504e-7,
          5.211975091490823e-7,
          5.184726812492133e-7,
          5.156899898236092e-7,
          5.128540638005502e-7,
          5.099702816250045e-7,
          5.070448433258323e-7,
          5.040848387621842e-7,
          5.010983085856816e-7,
          4.980942937206454e-7,
          4.950828684279525e-7,
          4.920751513376125e-7,
          4.89083288291389e-7,
          4.861204005338282e-7,
          4.832004918542782e-7,
          4.803383088570476e-7,
          4.775491497696298e-7,
          4.7484861922208877e-7,
          4.722523293301442e-7,
          4.697755397868005e-7,
          4.6743277895469535e-7,
          4.6523743975894965e-7,
          4.632013424931655e-7,
          4.613343218878743e-7,
          4.596438495142839e-7,
          4.581347126869187e-7,
          4.568087956187043e-7,
          4.5566492506281513e-7,
          4.5469883760988234e-7,
          4.5390315111811245e-7,
          4.5326744441614287e-7,
          4.527784083672078e-7,
          4.5241997015218553e-7,
          4.521735424953006e-7,
          4.5201854415248854e-7,
          4.519330298231979e-7,
          4.518948258008843e-7
         ]
        },
        {
         "name": "u, p=8",
         "type": "scatter",
         "x": [
          0,
          0,
          0.005,
          0.01,
          0.015,
          0.02,
          0.025,
          0.030000000000000002,
          0.035,
          0.04,
          0.045,
          0.049999999999999996,
          0.05499999999999999,
          0.05999999999999999,
          0.06499999999999999,
          0.06999999999999999,
          0.075,
          0.08,
          0.085,
          0.09000000000000001,
          0.09500000000000001,
          0.10000000000000002,
          0.10500000000000002,
          0.11000000000000003,
          0.11500000000000003,
          0.12000000000000004,
          0.12500000000000003,
          0.13000000000000003,
          0.13500000000000004,
          0.14000000000000004,
          0.14500000000000005,
          0.15000000000000005,
          0.15500000000000005,
          0.16000000000000006,
          0.16500000000000006,
          0.17000000000000007,
          0.17500000000000007,
          0.18000000000000008,
          0.18500000000000008,
          0.19000000000000009,
          0.1950000000000001,
          0.2000000000000001,
          0.2050000000000001,
          0.2100000000000001,
          0.2150000000000001,
          0.2200000000000001,
          0.22500000000000012,
          0.23000000000000012,
          0.23500000000000013,
          0.24000000000000013,
          0.24500000000000013,
          0.2500000000000001,
          0.2550000000000001,
          0.2600000000000001,
          0.2650000000000001,
          0.27000000000000013,
          0.27500000000000013,
          0.28000000000000014,
          0.28500000000000014,
          0.29000000000000015,
          0.29500000000000015,
          0.30000000000000016,
          0.30500000000000016,
          0.31000000000000016,
          0.31500000000000017,
          0.3200000000000002,
          0.3250000000000002,
          0.3300000000000002,
          0.3350000000000002,
          0.3400000000000002,
          0.3450000000000002
         ],
         "y": [
          6.05854360771627e-7,
          6.058158319560899e-7,
          6.057002434152251e-7,
          6.055075882662403e-7,
          6.052378551203115e-7,
          6.048910280361609e-7,
          6.044670865180796e-7,
          6.039660055177674e-7,
          6.033877554416411e-7,
          6.027323021689714e-7,
          6.019996070898318e-7,
          6.011896271765856e-7,
          6.003023151087774e-7,
          5.99337619479072e-7,
          5.98295485117462e-7,
          5.971758535825674e-7,
          5.959786638826663e-7,
          5.947038535053096e-7,
          5.933513598531887e-7,
          5.919211222055172e-7,
          5.904130843487146e-7,
          5.888271980477964e-7,
          5.87163427560653e-7,
          5.854217554313964e-7,
          5.836021898360818e-7,
          5.817047737941775e-7,
          5.797295966017617e-7,
          5.776768078868832e-7,
          5.755466347328e-7,
          5.733394023593397e-7,
          5.710555588942188e-7,
          5.686957048017274e-7,
          5.662606275616113e-7,
          5.637513422007297e-7,
          5.611691382670088e-7,
          5.585156337902113e-7,
          5.557928366857326e-7,
          5.530032139121436e-7,
          5.501497684740564e-7,
          5.472361240501642e-7,
          5.442666166011385e-7,
          5.412463917517535e-7,
          5.381815060255672e-7,
          5.350790291222897e-7,
          5.319471433598815e-7,
          5.287952351625936e-7,
          5.256339720928138e-7,
          5.224753574619501e-7,
          5.19332753121077e-7,
          5.162208597883854e-7,
          5.131556434438697e-7,
          5.101541962036e-7,
          5.072345210217397e-7,
          5.044152319257809e-7,
          5.017151654997299e-7,
          4.991528921807105e-7,
          4.967461779439748e-7,
          4.94511387033156e-7,
          4.924628302232602e-7,
          4.906121321988346e-7,
          4.889676392844969e-7,
          4.875339340180082e-7,
          4.863114557257872e-7,
          4.852962692454464e-7,
          4.844798813133915e-7,
          4.838492015494081e-7,
          4.833866177809636e-7,
          4.830701141548569e-7,
          4.828737888376337e-7,
          4.827687782762588e-7,
          4.827249080281126e-7
         ]
        },
        {
         "name": "u, p=9",
         "type": "scatter",
         "x": [
          0,
          0,
          0.005,
          0.01,
          0.015,
          0.02,
          0.025,
          0.030000000000000002,
          0.035,
          0.04,
          0.045,
          0.049999999999999996,
          0.05499999999999999,
          0.05999999999999999,
          0.06499999999999999,
          0.06999999999999999,
          0.075,
          0.08,
          0.085,
          0.09000000000000001,
          0.09500000000000001,
          0.10000000000000002,
          0.10500000000000002,
          0.11000000000000003,
          0.11500000000000003,
          0.12000000000000004,
          0.12500000000000003,
          0.13000000000000003,
          0.13500000000000004,
          0.14000000000000004,
          0.14500000000000005,
          0.15000000000000005,
          0.15500000000000005,
          0.16000000000000006,
          0.16500000000000006,
          0.17000000000000007,
          0.17500000000000007,
          0.18000000000000008,
          0.18500000000000008,
          0.19000000000000009,
          0.1950000000000001,
          0.2000000000000001,
          0.2050000000000001,
          0.2100000000000001,
          0.2150000000000001,
          0.2200000000000001,
          0.22500000000000012,
          0.23000000000000012,
          0.23500000000000013,
          0.24000000000000013,
          0.24500000000000013,
          0.2500000000000001,
          0.2550000000000001,
          0.2600000000000001,
          0.2650000000000001,
          0.27000000000000013,
          0.27500000000000013,
          0.28000000000000014,
          0.28500000000000014,
          0.29000000000000015,
          0.29500000000000015,
          0.30000000000000016,
          0.30500000000000016,
          0.31000000000000016,
          0.31500000000000017,
          0.3200000000000002,
          0.3250000000000002,
          0.3300000000000002,
          0.3350000000000002,
          0.3400000000000002,
          0.3450000000000002
         ],
         "y": [
          6.360384130947741e-7,
          6.360004788853909e-7,
          6.358866741953078e-7,
          6.356969922479503e-7,
          6.354314218302131e-7,
          6.350899472465123e-7,
          6.346725483158368e-7,
          6.341792003704866e-7,
          6.3360987425557e-7,
          6.329645363301676e-7,
          6.322431484722043e-7,
          6.31445668090631e-7,
          6.305720481508002e-7,
          6.296222372221443e-7,
          6.285961795616651e-7,
          6.274938152525935e-7,
          6.263150804251549e-7,
          6.250599075960087e-7,
          6.237282261749544e-7,
          6.223199632022831e-7,
          6.208350443981054e-7,
          6.192733956265113e-7,
          6.176349449029583e-7,
          6.159196251032877e-7,
          6.14127377567678e-7,
          6.122581568330933e-7,
          6.103119367737431e-7,
          6.082887184810439e-7,
          6.061885402727067e-7,
          6.040114902847796e-7,
          6.017577221703433e-7,
          5.994274745031463e-7,
          5.970210945621547e-7,
          5.94539067251126e-7,
          5.919820499819292e-7,
          5.893509144156062e-7,
          5.866467960029322e-7,
          5.838711522852465e-7,
          5.810258308915313e-7,
          5.7811314807939e-7,
          5.751359784905164e-7,
          5.720978564941007e-7,
          5.69003089036617e-7,
          5.658568792598324e-7,
          5.62665459242661e-7,
          5.59436229017999e-7,
          5.561778974701206e-7,
          5.529006188049591e-7,
          5.496161160095768e-7,
          5.463377801358708e-7,
          5.430807314942263e-7,
          5.398618261732448e-7,
          5.366995891011841e-7,
          5.336140536854787e-7,
          5.306264886199526e-7,
          5.277589955540964e-7,
          5.250339655901794e-7,
          5.224733798128883e-7,
          5.20098046830038e-7,
          5.179266926046949e-7,
          5.159750169956433e-7,
          5.142547632208281e-7,
          5.127728865499614e-7,
          5.115308601864876e-7,
          5.105241619486651e-7,
          5.097418222633427e-7,
          5.091662271847814e-7,
          5.087730438538064e-7,
          5.085314941620018e-7,
          5.084055054832649e-7,
          5.08355932026017e-7
         ]
        },
        {
         "name": "u, p=10",
         "type": "scatter",
         "x": [
          0,
          0,
          0.005,
          0.01,
          0.015,
          0.02,
          0.025,
          0.030000000000000002,
          0.035,
          0.04,
          0.045,
          0.049999999999999996,
          0.05499999999999999,
          0.05999999999999999,
          0.06499999999999999,
          0.06999999999999999,
          0.075,
          0.08,
          0.085,
          0.09000000000000001,
          0.09500000000000001,
          0.10000000000000002,
          0.10500000000000002,
          0.11000000000000003,
          0.11500000000000003,
          0.12000000000000004,
          0.12500000000000003,
          0.13000000000000003,
          0.13500000000000004,
          0.14000000000000004,
          0.14500000000000005,
          0.15000000000000005,
          0.15500000000000005,
          0.16000000000000006,
          0.16500000000000006,
          0.17000000000000007,
          0.17500000000000007,
          0.18000000000000008,
          0.18500000000000008,
          0.19000000000000009,
          0.1950000000000001,
          0.2000000000000001,
          0.2050000000000001,
          0.2100000000000001,
          0.2150000000000001,
          0.2200000000000001,
          0.22500000000000012,
          0.23000000000000012,
          0.23500000000000013,
          0.24000000000000013,
          0.24500000000000013,
          0.2500000000000001,
          0.2550000000000001,
          0.2600000000000001,
          0.2650000000000001,
          0.27000000000000013,
          0.27500000000000013,
          0.28000000000000014,
          0.28500000000000014,
          0.29000000000000015,
          0.29500000000000015,
          0.30000000000000016,
          0.30500000000000016,
          0.31000000000000016,
          0.31500000000000017,
          0.3200000000000002,
          0.3250000000000002,
          0.3300000000000002,
          0.3350000000000002,
          0.3400000000000002,
          0.3450000000000002
         ],
         "y": [
          6.61332508223379e-7,
          6.612950722911806e-7,
          6.611827624597362e-7,
          6.609955720414836e-7,
          6.607334899706028e-7,
          6.603965007576542e-7,
          6.599845844865769e-7,
          6.594977168130976e-7,
          6.589358689632002e-7,
          6.58299007731667e-7,
          6.575870954810816e-7,
          6.568000901421331e-7,
          6.559379452167729e-7,
          6.550006097869011e-7,
          6.539880285329448e-7,
          6.529001417691576e-7,
          6.517368855059389e-7,
          6.504981915542394e-7,
          6.491839876935208e-7,
          6.477941979331599e-7,
          6.463287429080809e-7,
          6.447875404632778e-7,
          6.431705064993228e-7,
          6.414775561726006e-7,
          6.397086055705625e-7,
          6.378635740145612e-7,
          6.359423871816233e-7,
          6.339449812827716e-7,
          6.318713085901121e-7,
          6.297213446687999e-7,
          6.274950977440279e-7,
          6.251926207180638e-7,
          6.228140264485038e-7,
          6.203595070062914e-7,
          6.178293577498595e-7,
          6.152240071781061e-7,
          6.125440536562445e-7,
          6.097903102389787e-7,
          6.069638589357656e-7,
          6.040661158594675e-7,
          6.010989087528561e-7,
          5.980645683698108e-7,
          5.949660350624925e-7,
          5.918069816432227e-7,
          5.885919530874247e-7,
          5.853265228441588e-7,
          5.820174643317809e-7,
          5.786729345161313e-7,
          5.75302664194527e-7,
          5.719181466540053e-7,
          5.685328126947759e-7,
          5.651621756554888e-7,
          5.618239252388682e-7,
          5.585379440296162e-7,
          5.553262163390205e-7,
          5.522125964873815e-7,
          5.492224043052146e-7,
          5.463818204335108e-7,
          5.437170501003292e-7,
          5.41253321890692e-7,
          5.390136910043452e-7,
          5.370177063715329e-7,
          5.352800500271634e-7,
          5.338092660408713e-7,
          5.326066428950982e-7,
          5.316653077635022e-7,
          5.309693975183784e-7,
          5.304936361893907e-7,
          5.302031935361137e-7,
          5.300547626233054e-7,
          5.299994082185245e-7
         ]
        },
        {
         "name": "u, p=12",
         "type": "scatter",
         "x": [
          0,
          0,
          0.005,
          0.01,
          0.015,
          0.02,
          0.025,
          0.030000000000000002,
          0.035,
          0.04,
          0.045,
          0.049999999999999996,
          0.05499999999999999,
          0.05999999999999999,
          0.06499999999999999,
          0.06999999999999999,
          0.075,
          0.08,
          0.085,
          0.09000000000000001,
          0.09500000000000001,
          0.10000000000000002,
          0.10500000000000002,
          0.11000000000000003,
          0.11500000000000003,
          0.12000000000000004,
          0.12500000000000003,
          0.13000000000000003,
          0.13500000000000004,
          0.14000000000000004,
          0.14500000000000005,
          0.15000000000000005,
          0.15500000000000005,
          0.16000000000000006,
          0.16500000000000006,
          0.17000000000000007,
          0.17500000000000007,
          0.18000000000000008,
          0.18500000000000008,
          0.19000000000000009,
          0.1950000000000001,
          0.2000000000000001,
          0.2050000000000001,
          0.2100000000000001,
          0.2150000000000001,
          0.2200000000000001,
          0.22500000000000012,
          0.23000000000000012,
          0.23500000000000013,
          0.24000000000000013,
          0.24500000000000013,
          0.2500000000000001,
          0.2550000000000001,
          0.2600000000000001,
          0.2650000000000001,
          0.27000000000000013,
          0.27500000000000013,
          0.28000000000000014,
          0.28500000000000014,
          0.29000000000000015,
          0.29500000000000015,
          0.30000000000000016,
          0.30500000000000016,
          0.31000000000000016,
          0.31500000000000017,
          0.3200000000000002,
          0.3250000000000002,
          0.3300000000000002,
          0.3350000000000002,
          0.3400000000000002,
          0.3450000000000002
         ],
         "y": [
          7.012964749356108e-7,
          7.012598262675043e-7,
          7.011498782711276e-7,
          7.009666243995555e-7,
          7.007100538196781e-7,
          7.003801513677915e-7,
          6.999768975466507e-7,
          6.995002685238706e-7,
          6.989502361302797e-7,
          6.983267678580516e-7,
          6.976298268585891e-7,
          6.968593719401895e-7,
          6.960153575655726e-7,
          6.95097733849454e-7,
          6.941064465565225e-7,
          6.930414371004911e-7,
          6.919026425454073e-7,
          6.90689995611234e-7,
          6.894034246869905e-7,
          6.880428538566703e-7,
          6.866082029459743e-7,
          6.850993876019457e-7,
          6.835163194232859e-7,
          6.818589061669832e-7,
          6.801270520675595e-7,
          6.783206583195235e-7,
          6.764396237924882e-7,
          6.744838460730309e-7,
          6.724532229591388e-7,
          6.703476545736373e-7,
          6.681670463142635e-7,
          6.659113129222448e-7,
          6.635803840309091e-7,
          6.61174211653822e-7,
          6.586927801913342e-7,
          6.561361196785121e-7,
          6.535043231695528e-7,
          6.507975693569699e-7,
          6.480161517604318e-7,
          6.451605160909398e-7,
          6.422313076993005e-7,
          6.392294313474509e-7,
          6.361561258842645e-7,
          6.330130567407909e-7,
          6.298024294451324e-7,
          6.265271275343622e-7,
          6.23190878220198e-7,
          6.197984488168142e-7,
          6.163558760825795e-7,
          6.128707290209881e-7,
          6.09352403021301e-7,
          6.058124391274229e-7,
          6.022648563029324e-7,
          5.987264764449997e-7,
          5.952172113884456e-7,
          5.917602684100948e-7,
          5.883822166625004e-7,
          5.851128434963667e-7,
          5.819847202179633e-7,
          5.790323956595602e-7,
          5.762911317138875e-7,
          5.737952248118179e-7,
          5.715758698411063e-7,
          5.69658659933012e-7,
          5.680609301458074e-7,
          5.667891673123149e-7,
          5.658366002670658e-7,
          5.6518091169681e-7,
          5.64782643535462e-7,
          5.645850425142701e-7,
          5.645177787649781e-7
         ]
        },
        {
         "name": "u, p=15",
         "type": "scatter",
         "x": [
          0,
          0,
          0.005,
          0.01,
          0.015,
          0.02,
          0.025,
          0.030000000000000002,
          0.035,
          0.04,
          0.045,
          0.049999999999999996,
          0.05499999999999999,
          0.05999999999999999,
          0.06499999999999999,
          0.06999999999999999,
          0.075,
          0.08,
          0.085,
          0.09000000000000001,
          0.09500000000000001,
          0.10000000000000002,
          0.10500000000000002,
          0.11000000000000003,
          0.11500000000000003,
          0.12000000000000004,
          0.12500000000000003,
          0.13000000000000003,
          0.13500000000000004,
          0.14000000000000004,
          0.14500000000000005,
          0.15000000000000005,
          0.15500000000000005,
          0.16000000000000006,
          0.16500000000000006,
          0.17000000000000007,
          0.17500000000000007,
          0.18000000000000008,
          0.18500000000000008,
          0.19000000000000009,
          0.1950000000000001,
          0.2000000000000001,
          0.2050000000000001,
          0.2100000000000001,
          0.2150000000000001,
          0.2200000000000001,
          0.22500000000000012,
          0.23000000000000012,
          0.23500000000000013,
          0.24000000000000013,
          0.24500000000000013,
          0.2500000000000001,
          0.2550000000000001,
          0.2600000000000001,
          0.2650000000000001,
          0.27000000000000013,
          0.27500000000000013,
          0.28000000000000014,
          0.28500000000000014,
          0.29000000000000015,
          0.29500000000000015,
          0.30000000000000016,
          0.30500000000000016,
          0.31000000000000016,
          0.31500000000000017,
          0.3200000000000002,
          0.3250000000000002,
          0.3300000000000002,
          0.3350000000000002,
          0.3400000000000002,
          0.3450000000000002
         ],
         "y": [
          7.437581895673571e-7,
          7.437223773673482e-7,
          7.436149388207308e-7,
          7.434358675300069e-7,
          7.431851529093207e-7,
          7.428627801410647e-7,
          7.424687301729979e-7,
          7.420029797166843e-7,
          7.414655012458816e-7,
          7.40856262994706e-7,
          7.401752289555346e-7,
          7.394223588766371e-7,
          7.385976082595307e-7,
          7.377009283560619e-7,
          7.367322661652188e-7,
          7.356915644296879e-7,
          7.345787616321868e-7,
          7.333937919916401e-7,
          7.321365854593315e-7,
          7.308070677152929e-7,
          7.294051601654068e-7,
          7.279307799400744e-7,
          7.263838398959257e-7,
          7.2476424862305e-7,
          7.230719104618154e-7,
          7.213067255357944e-7,
          7.194685898110254e-7,
          7.175573951973593e-7,
          7.155730297157195e-7,
          7.135153777667402e-7,
          7.113843205527866e-7,
          7.091797367285579e-7,
          7.069015033876132e-7,
          7.045494975361967e-7,
          7.021235982654291e-7,
          6.996236899130312e-7,
          6.970496666122023e-7,
          6.944014387654528e-7,
          6.916789421640912e-7,
          6.888821507105388e-7,
          6.860110940035189e-7,
          6.830658814302235e-7,
          6.800467348911946e-7,
          6.769540328799893e-7,
          6.737883693667027e-7,
          6.705506318034706e-7,
          6.672421035818719e-7,
          6.638645974066733e-7,
          6.604206272506451e-7,
          6.569136277022434e-7,
          6.53348230393424e-7,
          6.497306074276562e-7,
          6.460688907233973e-7,
          6.423736730404273e-7,
          6.386585898617191e-7,
          6.349409695079038e-7,
          6.312425197232202e-7,
          6.275899902814769e-7,
          6.2401571143839e-7,
          6.205578581031505e-7,
          6.172602349781707e-7,
          6.141713315324246e-7,
          6.113423570890773e-7,
          6.088241228297344e-7,
          6.066626253195832e-7,
          6.048934115576588e-7,
          6.035351897409916e-7,
          6.025830723637277e-7,
          6.020017145992322e-7,
          6.01720196857803e-7,
          6.016339385389345e-7
         ]
        },
        {
         "name": "u, p=20",
         "type": "scatter",
         "x": [
          0,
          0,
          0.005,
          0.01,
          0.015,
          0.02,
          0.025,
          0.030000000000000002,
          0.035,
          0.04,
          0.045,
          0.049999999999999996,
          0.05499999999999999,
          0.05999999999999999,
          0.06499999999999999,
          0.06999999999999999,
          0.075,
          0.08,
          0.085,
          0.09000000000000001,
          0.09500000000000001,
          0.10000000000000002,
          0.10500000000000002,
          0.11000000000000003,
          0.11500000000000003,
          0.12000000000000004,
          0.12500000000000003,
          0.13000000000000003,
          0.13500000000000004,
          0.14000000000000004,
          0.14500000000000005,
          0.15000000000000005,
          0.15500000000000005,
          0.16000000000000006,
          0.16500000000000006,
          0.17000000000000007,
          0.17500000000000007,
          0.18000000000000008,
          0.18500000000000008,
          0.19000000000000009,
          0.1950000000000001,
          0.2000000000000001,
          0.2050000000000001,
          0.2100000000000001,
          0.2150000000000001,
          0.2200000000000001,
          0.22500000000000012,
          0.23000000000000012,
          0.23500000000000013,
          0.24000000000000013,
          0.24500000000000013,
          0.2500000000000001,
          0.2550000000000001,
          0.2600000000000001,
          0.2650000000000001,
          0.27000000000000013,
          0.27500000000000013,
          0.28000000000000014,
          0.28500000000000014,
          0.29000000000000015,
          0.29500000000000015,
          0.30000000000000016,
          0.30500000000000016,
          0.31000000000000016,
          0.31500000000000017,
          0.3200000000000002,
          0.3250000000000002,
          0.3300000000000002,
          0.3350000000000002,
          0.3400000000000002,
          0.3450000000000002
         ],
         "y": [
          7.889287294075912e-7,
          7.888938070377706e-7,
          7.887890380300855e-7,
          7.886144161459969e-7,
          7.883699310626775e-7,
          7.880555683306944e-7,
          7.876713093712001e-7,
          7.872171314744094e-7,
          7.86693007798028e-7,
          7.860989073654627e-7,
          7.854347950637765e-7,
          7.84700631641378e-7,
          7.83896373705441e-7,
          7.830219737190536e-7,
          7.820773799980958e-7,
          7.81062536707845e-7,
          7.79977383859309e-7,
          7.788218573052864e-7,
          7.775958887361549e-7,
          7.762994056753872e-7,
          7.749323314747971e-7,
          7.734945853095223e-7,
          7.719860821727546e-7,
          7.704067328702464e-7,
          7.68756444014653e-7,
          7.670351180198266e-7,
          7.652426530952989e-7,
          7.633789432413894e-7,
          7.614438782457667e-7,
          7.594373436829449e-7,
          7.573592209193506e-7,
          7.55209387128524e-7,
          7.529877153242191e-7,
          7.506940744243813e-7,
          7.483283293673194e-7,
          7.458903413145609e-7,
          7.433799679953575e-7,
          7.407970642792462e-7,
          7.381414831107203e-7,
          7.354130770114486e-7,
          7.326117004611917e-7,
          7.29737213623483e-7,
          7.267894881068034e-7,
          7.23768415774601e-7,
          7.206739220762844e-7,
          7.175059860174454e-7,
          7.142646697885575e-7,
          7.109501623147235e-7,
          7.075628426850561e-7,
          7.04103371702989e-7,
          7.005728228209299e-7,
          6.969728676384504e-7,
          6.933060360668399e-7,
          6.895760771809349e-7,
          6.857884533806238e-7,
          6.819510068503736e-7,
          6.78074841375288e-7,
          6.741754602907744e-7,
          6.702741854236366e-7,
          6.663998403255285e-7,
          6.625905961433678e-7,
          6.588957278794986e-7,
          6.553767934639943e-7,
          6.521074320007115e-7,
          6.491706150577757e-7,
          6.466520976278396e-7,
          6.446289013575887e-7,
          6.431522634446583e-7,
          6.422257823870942e-7,
          6.417805364636876e-7,
          6.416590862539018e-7
         ]
        },
        {
         "name": "u_p",
         "type": "scatter",
         "x": [
          0,
          0,
          0.005,
          0.01,
          0.015,
          0.02,
          0.025,
          0.030000000000000002,
          0.035,
          0.04,
          0.045,
          0.049999999999999996,
          0.05499999999999999,
          0.05999999999999999,
          0.06499999999999999,
          0.06999999999999999,
          0.075,
          0.08,
          0.085,
          0.09000000000000001,
          0.09500000000000001,
          0.10000000000000002,
          0.10500000000000002,
          0.11000000000000003,
          0.11500000000000003,
          0.12000000000000004,
          0.12500000000000003,
          0.13000000000000003,
          0.13500000000000004,
          0.14000000000000004,
          0.14500000000000005,
          0.15000000000000005,
          0.15500000000000005,
          0.16000000000000006,
          0.16500000000000006,
          0.17000000000000007,
          0.17500000000000007,
          0.18000000000000008,
          0.18500000000000008,
          0.19000000000000009,
          0.1950000000000001,
          0.2000000000000001,
          0.2050000000000001,
          0.2100000000000001,
          0.2150000000000001,
          0.2200000000000001,
          0.22500000000000012,
          0.23000000000000012,
          0.23500000000000013,
          0.24000000000000013,
          0.24500000000000013,
          0.2500000000000001,
          0.2550000000000001,
          0.2600000000000001,
          0.2650000000000001,
          0.27000000000000013,
          0.27500000000000013,
          0.28000000000000014,
          0.28500000000000014,
          0.29000000000000015,
          0.29500000000000015,
          0.30000000000000016,
          0.30500000000000016,
          0.31000000000000016,
          0.31500000000000017,
          0.3200000000000002,
          0.3250000000000002,
          0.3300000000000002,
          0.3350000000000002,
          0.3400000000000002,
          0.3450000000000002
         ],
         "y": [
          0.000002561696520395968,
          0.000002561696520395968,
          0.000002561696520395968,
          0.000002561696520395968,
          0.000002561696520395968,
          0.000002561696520395968,
          0.000002561696520395968,
          0.000002561696520395968,
          0.000002561696520395968,
          0.000002561696520395968,
          0.000002561696520395968,
          0.000002561696520395968,
          0.000002561696520395968,
          0.0000025616965203959634,
          0.000002561696520395945,
          0.0000025616965203958626,
          0.000002561696520395555,
          0.0000025616965203944654,
          0.0000025616965203909163,
          0.0000025616965203801226,
          0.0000025616965203492504,
          0.0000025616965202656516,
          0.0000025616965200501995,
          0.0000025616965195192614,
          0.0000025616965182631336,
          0.000002561696515399938,
          0.000002561696509092796,
          0.0000025616964956293265,
          0.0000025616964677123703,
          0.0000025616964113622635,
          0.0000025616963004276713,
          0.000002561696087059523,
          0.000002561695685496898,
          0.0000025616949449640885,
          0.0000025616936051259017,
          0.000002561691224027192,
          0.000002561687063239973,
          0.000002561679907347956,
          0.000002561667783942068,
          0.000002561647534663686,
          0.0000025616141657451702,
          0.0000025615598756057797,
          0.0000025614726142651843,
          0.0000025613339705989198,
          0.0000025611161035867575,
          0.0000025607773261206635,
          0.0000025602558064951232,
          0.000002559460663612312,
          0.0000025582594860253245,
          0.0000025564609905888668,
          0.0000025537911439187277,
          0.0000025498605961216552,
          0.0000025441207351166913,
          0.0000025358051108048533,
          0.0000025238525217463247,
          0.000002506807957910039,
          0.0000024826983540507175,
          0.000002448882675178549,
          0.000002401881948453881,
          0.0000023372075098898863,
          0.000002249230136281717,
          0.0000021311773741938464,
          0.000001975424184513165,
          0.000001774369714965,
          0.0000015223820563146843,
          0.0000012195090939666261,
          8.776723193173058e-7,
          5.290089373611048e-7,
          2.312506513678784e-7,
          5.167642892025905e-8,
          1.9028002416383887e-9
         ]
        }
       ],
       "layout": {
        "legend": {
         "tracegroupgap": 0
        },
        "margin": {
         "t": 60
        },
        "template": {
         "data": {
          "bar": [
           {
            "error_x": {
             "color": "#2a3f5f"
            },
            "error_y": {
             "color": "#2a3f5f"
            },
            "marker": {
             "line": {
              "color": "#E5ECF6",
              "width": 0.5
             },
             "pattern": {
              "fillmode": "overlay",
              "size": 10,
              "solidity": 0.2
             }
            },
            "type": "bar"
           }
          ],
          "barpolar": [
           {
            "marker": {
             "line": {
              "color": "#E5ECF6",
              "width": 0.5
             },
             "pattern": {
              "fillmode": "overlay",
              "size": 10,
              "solidity": 0.2
             }
            },
            "type": "barpolar"
           }
          ],
          "carpet": [
           {
            "aaxis": {
             "endlinecolor": "#2a3f5f",
             "gridcolor": "white",
             "linecolor": "white",
             "minorgridcolor": "white",
             "startlinecolor": "#2a3f5f"
            },
            "baxis": {
             "endlinecolor": "#2a3f5f",
             "gridcolor": "white",
             "linecolor": "white",
             "minorgridcolor": "white",
             "startlinecolor": "#2a3f5f"
            },
            "type": "carpet"
           }
          ],
          "choropleth": [
           {
            "colorbar": {
             "outlinewidth": 0,
             "ticks": ""
            },
            "type": "choropleth"
           }
          ],
          "contour": [
           {
            "colorbar": {
             "outlinewidth": 0,
             "ticks": ""
            },
            "colorscale": [
             [
              0,
              "#0d0887"
             ],
             [
              0.1111111111111111,
              "#46039f"
             ],
             [
              0.2222222222222222,
              "#7201a8"
             ],
             [
              0.3333333333333333,
              "#9c179e"
             ],
             [
              0.4444444444444444,
              "#bd3786"
             ],
             [
              0.5555555555555556,
              "#d8576b"
             ],
             [
              0.6666666666666666,
              "#ed7953"
             ],
             [
              0.7777777777777778,
              "#fb9f3a"
             ],
             [
              0.8888888888888888,
              "#fdca26"
             ],
             [
              1,
              "#f0f921"
             ]
            ],
            "type": "contour"
           }
          ],
          "contourcarpet": [
           {
            "colorbar": {
             "outlinewidth": 0,
             "ticks": ""
            },
            "type": "contourcarpet"
           }
          ],
          "heatmap": [
           {
            "colorbar": {
             "outlinewidth": 0,
             "ticks": ""
            },
            "colorscale": [
             [
              0,
              "#0d0887"
             ],
             [
              0.1111111111111111,
              "#46039f"
             ],
             [
              0.2222222222222222,
              "#7201a8"
             ],
             [
              0.3333333333333333,
              "#9c179e"
             ],
             [
              0.4444444444444444,
              "#bd3786"
             ],
             [
              0.5555555555555556,
              "#d8576b"
             ],
             [
              0.6666666666666666,
              "#ed7953"
             ],
             [
              0.7777777777777778,
              "#fb9f3a"
             ],
             [
              0.8888888888888888,
              "#fdca26"
             ],
             [
              1,
              "#f0f921"
             ]
            ],
            "type": "heatmap"
           }
          ],
          "histogram": [
           {
            "marker": {
             "pattern": {
              "fillmode": "overlay",
              "size": 10,
              "solidity": 0.2
             }
            },
            "type": "histogram"
           }
          ],
          "histogram2d": [
           {
            "colorbar": {
             "outlinewidth": 0,
             "ticks": ""
            },
            "colorscale": [
             [
              0,
              "#0d0887"
             ],
             [
              0.1111111111111111,
              "#46039f"
             ],
             [
              0.2222222222222222,
              "#7201a8"
             ],
             [
              0.3333333333333333,
              "#9c179e"
             ],
             [
              0.4444444444444444,
              "#bd3786"
             ],
             [
              0.5555555555555556,
              "#d8576b"
             ],
             [
              0.6666666666666666,
              "#ed7953"
             ],
             [
              0.7777777777777778,
              "#fb9f3a"
             ],
             [
              0.8888888888888888,
              "#fdca26"
             ],
             [
              1,
              "#f0f921"
             ]
            ],
            "type": "histogram2d"
           }
          ],
          "histogram2dcontour": [
           {
            "colorbar": {
             "outlinewidth": 0,
             "ticks": ""
            },
            "colorscale": [
             [
              0,
              "#0d0887"
             ],
             [
              0.1111111111111111,
              "#46039f"
             ],
             [
              0.2222222222222222,
              "#7201a8"
             ],
             [
              0.3333333333333333,
              "#9c179e"
             ],
             [
              0.4444444444444444,
              "#bd3786"
             ],
             [
              0.5555555555555556,
              "#d8576b"
             ],
             [
              0.6666666666666666,
              "#ed7953"
             ],
             [
              0.7777777777777778,
              "#fb9f3a"
             ],
             [
              0.8888888888888888,
              "#fdca26"
             ],
             [
              1,
              "#f0f921"
             ]
            ],
            "type": "histogram2dcontour"
           }
          ],
          "mesh3d": [
           {
            "colorbar": {
             "outlinewidth": 0,
             "ticks": ""
            },
            "type": "mesh3d"
           }
          ],
          "parcoords": [
           {
            "line": {
             "colorbar": {
              "outlinewidth": 0,
              "ticks": ""
             }
            },
            "type": "parcoords"
           }
          ],
          "pie": [
           {
            "automargin": true,
            "type": "pie"
           }
          ],
          "scatter": [
           {
            "fillpattern": {
             "fillmode": "overlay",
             "size": 10,
             "solidity": 0.2
            },
            "type": "scatter"
           }
          ],
          "scatter3d": [
           {
            "line": {
             "colorbar": {
              "outlinewidth": 0,
              "ticks": ""
             }
            },
            "marker": {
             "colorbar": {
              "outlinewidth": 0,
              "ticks": ""
             }
            },
            "type": "scatter3d"
           }
          ],
          "scattercarpet": [
           {
            "marker": {
             "colorbar": {
              "outlinewidth": 0,
              "ticks": ""
             }
            },
            "type": "scattercarpet"
           }
          ],
          "scattergeo": [
           {
            "marker": {
             "colorbar": {
              "outlinewidth": 0,
              "ticks": ""
             }
            },
            "type": "scattergeo"
           }
          ],
          "scattergl": [
           {
            "marker": {
             "colorbar": {
              "outlinewidth": 0,
              "ticks": ""
             }
            },
            "type": "scattergl"
           }
          ],
          "scattermap": [
           {
            "marker": {
             "colorbar": {
              "outlinewidth": 0,
              "ticks": ""
             }
            },
            "type": "scattermap"
           }
          ],
          "scattermapbox": [
           {
            "marker": {
             "colorbar": {
              "outlinewidth": 0,
              "ticks": ""
             }
            },
            "type": "scattermapbox"
           }
          ],
          "scatterpolar": [
           {
            "marker": {
             "colorbar": {
              "outlinewidth": 0,
              "ticks": ""
             }
            },
            "type": "scatterpolar"
           }
          ],
          "scatterpolargl": [
           {
            "marker": {
             "colorbar": {
              "outlinewidth": 0,
              "ticks": ""
             }
            },
            "type": "scatterpolargl"
           }
          ],
          "scatterternary": [
           {
            "marker": {
             "colorbar": {
              "outlinewidth": 0,
              "ticks": ""
             }
            },
            "type": "scatterternary"
           }
          ],
          "surface": [
           {
            "colorbar": {
             "outlinewidth": 0,
             "ticks": ""
            },
            "colorscale": [
             [
              0,
              "#0d0887"
             ],
             [
              0.1111111111111111,
              "#46039f"
             ],
             [
              0.2222222222222222,
              "#7201a8"
             ],
             [
              0.3333333333333333,
              "#9c179e"
             ],
             [
              0.4444444444444444,
              "#bd3786"
             ],
             [
              0.5555555555555556,
              "#d8576b"
             ],
             [
              0.6666666666666666,
              "#ed7953"
             ],
             [
              0.7777777777777778,
              "#fb9f3a"
             ],
             [
              0.8888888888888888,
              "#fdca26"
             ],
             [
              1,
              "#f0f921"
             ]
            ],
            "type": "surface"
           }
          ],
          "table": [
           {
            "cells": {
             "fill": {
              "color": "#EBF0F8"
             },
             "line": {
              "color": "white"
             }
            },
            "header": {
             "fill": {
              "color": "#C8D4E3"
             },
             "line": {
              "color": "white"
             }
            },
            "type": "table"
           }
          ]
         },
         "layout": {
          "annotationdefaults": {
           "arrowcolor": "#2a3f5f",
           "arrowhead": 0,
           "arrowwidth": 1
          },
          "autotypenumbers": "strict",
          "coloraxis": {
           "colorbar": {
            "outlinewidth": 0,
            "ticks": ""
           }
          },
          "colorscale": {
           "diverging": [
            [
             0,
             "#8e0152"
            ],
            [
             0.1,
             "#c51b7d"
            ],
            [
             0.2,
             "#de77ae"
            ],
            [
             0.3,
             "#f1b6da"
            ],
            [
             0.4,
             "#fde0ef"
            ],
            [
             0.5,
             "#f7f7f7"
            ],
            [
             0.6,
             "#e6f5d0"
            ],
            [
             0.7,
             "#b8e186"
            ],
            [
             0.8,
             "#7fbc41"
            ],
            [
             0.9,
             "#4d9221"
            ],
            [
             1,
             "#276419"
            ]
           ],
           "sequential": [
            [
             0,
             "#0d0887"
            ],
            [
             0.1111111111111111,
             "#46039f"
            ],
            [
             0.2222222222222222,
             "#7201a8"
            ],
            [
             0.3333333333333333,
             "#9c179e"
            ],
            [
             0.4444444444444444,
             "#bd3786"
            ],
            [
             0.5555555555555556,
             "#d8576b"
            ],
            [
             0.6666666666666666,
             "#ed7953"
            ],
            [
             0.7777777777777778,
             "#fb9f3a"
            ],
            [
             0.8888888888888888,
             "#fdca26"
            ],
            [
             1,
             "#f0f921"
            ]
           ],
           "sequentialminus": [
            [
             0,
             "#0d0887"
            ],
            [
             0.1111111111111111,
             "#46039f"
            ],
            [
             0.2222222222222222,
             "#7201a8"
            ],
            [
             0.3333333333333333,
             "#9c179e"
            ],
            [
             0.4444444444444444,
             "#bd3786"
            ],
            [
             0.5555555555555556,
             "#d8576b"
            ],
            [
             0.6666666666666666,
             "#ed7953"
            ],
            [
             0.7777777777777778,
             "#fb9f3a"
            ],
            [
             0.8888888888888888,
             "#fdca26"
            ],
            [
             1,
             "#f0f921"
            ]
           ]
          },
          "colorway": [
           "#636efa",
           "#EF553B",
           "#00cc96",
           "#ab63fa",
           "#FFA15A",
           "#19d3f3",
           "#FF6692",
           "#B6E880",
           "#FF97FF",
           "#FECB52"
          ],
          "font": {
           "color": "#2a3f5f"
          },
          "geo": {
           "bgcolor": "white",
           "lakecolor": "white",
           "landcolor": "#E5ECF6",
           "showlakes": true,
           "showland": true,
           "subunitcolor": "white"
          },
          "hoverlabel": {
           "align": "left"
          },
          "hovermode": "closest",
          "mapbox": {
           "style": "light"
          },
          "paper_bgcolor": "white",
          "plot_bgcolor": "#E5ECF6",
          "polar": {
           "angularaxis": {
            "gridcolor": "white",
            "linecolor": "white",
            "ticks": ""
           },
           "bgcolor": "#E5ECF6",
           "radialaxis": {
            "gridcolor": "white",
            "linecolor": "white",
            "ticks": ""
           }
          },
          "scene": {
           "xaxis": {
            "backgroundcolor": "#E5ECF6",
            "gridcolor": "white",
            "gridwidth": 2,
            "linecolor": "white",
            "showbackground": true,
            "ticks": "",
            "zerolinecolor": "white"
           },
           "yaxis": {
            "backgroundcolor": "#E5ECF6",
            "gridcolor": "white",
            "gridwidth": 2,
            "linecolor": "white",
            "showbackground": true,
            "ticks": "",
            "zerolinecolor": "white"
           },
           "zaxis": {
            "backgroundcolor": "#E5ECF6",
            "gridcolor": "white",
            "gridwidth": 2,
            "linecolor": "white",
            "showbackground": true,
            "ticks": "",
            "zerolinecolor": "white"
           }
          },
          "shapedefaults": {
           "line": {
            "color": "#2a3f5f"
           }
          },
          "ternary": {
           "aaxis": {
            "gridcolor": "white",
            "linecolor": "white",
            "ticks": ""
           },
           "baxis": {
            "gridcolor": "white",
            "linecolor": "white",
            "ticks": ""
           },
           "bgcolor": "#E5ECF6",
           "caxis": {
            "gridcolor": "white",
            "linecolor": "white",
            "ticks": ""
           }
          },
          "title": {
           "x": 0.05
          },
          "xaxis": {
           "automargin": true,
           "gridcolor": "white",
           "linecolor": "white",
           "ticks": "",
           "title": {
            "standoff": 15
           },
           "zerolinecolor": "white",
           "zerolinewidth": 2
          },
          "yaxis": {
           "automargin": true,
           "gridcolor": "white",
           "linecolor": "white",
           "ticks": "",
           "title": {
            "standoff": 15
           },
           "zerolinecolor": "white",
           "zerolinewidth": 2
          }
         }
        },
        "xaxis": {
         "anchor": "y",
         "domain": [
          0,
          1
         ]
        },
        "yaxis": {
         "anchor": "x",
         "domain": [
          0,
          1
         ]
        }
       }
      }
     },
     "metadata": {},
     "output_type": "display_data"
    }
   ],
   "source": [
    "pValues = [1, 2, 3, 4, 5, 6, 7, 8, 9, 10, 12, 15, 20]\n",
    "\n",
    "fig = px.line()\n",
    "\n",
    "prevP = p\n",
    "for p in pValues:\n",
    "    p = p\n",
    "    lambdaParam = findLambda(1e-4, 1e-4)\n",
    "    rvalues, uvalues, vvalues = zip(*findPoints(lambdaParam, 1e-4, 1e-2))\n",
    "    fig.add_trace(go.Scatter(x=rvalues, y=uvalues, name=f\"u, p={p}\"))\n",
    "\n",
    "rvalues, _, _ = zip(*findPoints(lambdaParam, 1e-4, 1e-2))\n",
    "u_pvalues = [plankFunc(r) for r in rvalues]\n",
    "fig.add_trace(go.Scatter(x=rvalues, y=u_pvalues, name=f\"u_p\"))\n",
    "\n",
    "fig.show()\n",
    "        "
   ]
  }
 ],
 "metadata": {
  "kernelspec": {
   "display_name": "Python 3",
   "language": "python",
   "name": "python3"
  },
  "language_info": {
   "codemirror_mode": {
    "name": "ipython",
    "version": 3
   },
   "file_extension": ".py",
   "mimetype": "text/x-python",
   "name": "python",
   "nbconvert_exporter": "python",
   "pygments_lexer": "ipython3",
   "version": "3.13.2"
  }
 },
 "nbformat": 4,
 "nbformat_minor": 2
}
