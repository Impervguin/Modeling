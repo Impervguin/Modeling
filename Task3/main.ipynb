{
 "cells": [
  {
   "cell_type": "markdown",
   "metadata": {},
   "source": [
    "## Задание 1"
   ]
  },
  {
   "cell_type": "code",
   "execution_count": 65,
   "metadata": {},
   "outputs": [],
   "source": [
    "import plotly.express as px\n",
    "import plotly.graph_objects as go\n",
    "import numpy as np\n",
    "import scipy as sp"
   ]
  },
  {
   "cell_type": "code",
   "execution_count": 66,
   "metadata": {},
   "outputs": [],
   "source": [
    "def getGalerkinEqMatrix(n):\n",
    "    mat = [[0]*n for _ in range(n)]\n",
    "\n",
    "    for i in range(n):\n",
    "        m = i + 1\n",
    "        mat[i][0] = -2/(m+4) + 2/(m+3) + 2/(m+2) - 2/(m+1)\n",
    "        for j in range(1, n):\n",
    "            k = j + 1\n",
    "            mat[i][j] = -2*k/(k+m+3) + (4*k - 2)/(k+m+2) + (k**2 - k + 2)/(k+m+1) - (2 * k **2)/(k+m) + (k * (k-1))/(k+m-1)\n",
    "    return mat\n",
    "\n",
    "def getGalerkinRightSide(n):\n",
    "    res = [0]*n\n",
    "    for i in range(n):\n",
    "        m = i + 1\n",
    "        res[i] = -(1 / (m + 2) - 1 / (m + 3))\n",
    "    \n",
    "    return res\n",
    "\n",
    "def Gauss(A, B):\n",
    "    n = len(A)\n",
    "    if n != len(B):\n",
    "        raise ValueError(\"A and B must have the same length\")\n",
    "    # Triangle form\n",
    "    for i in range(n):\n",
    "        for j in range(i + 1, n):\n",
    "            coeff = -(A[j][i] / A[i][i])\n",
    "            for k in range(i, n):\n",
    "                A[j][k] += coeff * A[i][k]\n",
    "            B[j] += coeff * B[i]\n",
    "    # Diagonal form\n",
    "    for i in range(n - 1, -1, -1):\n",
    "        for j in range(i - 1, -1, -1):\n",
    "            coeff = -(A[j][i] / A[i][i])\n",
    "            A[j][i] += coeff * A[i][i]\n",
    "            B[j] += coeff * B[i]\n",
    "    # Solution\n",
    "    res = [B[i] / A[i][i] for i in range(n)]\n",
    "    return res\n",
    "\n",
    "def GalerkinSolve(n):\n",
    "    if n < 1:\n",
    "        raise ValueError(\"n must be greater than 0\")\n",
    "    A = getGalerkinEqMatrix(n)\n",
    "    B = getGalerkinRightSide(n)\n",
    "    coeffs = Gauss(A, B)\n",
    "\n",
    "    def func(x):\n",
    "        return x + sum([coeffs[i - 1] * x**i * (x - 1) for i in range(1, n + 1)])\n",
    "    \n",
    "    # for i in range(1, n + 1):\n",
    "    #     print(f\"C{i} = {coeffs[i - 1]}\")\n",
    "    \n",
    "    return func\n"
   ]
  },
  {
   "cell_type": "code",
   "execution_count": 67,
   "metadata": {},
   "outputs": [],
   "source": [
    "def getDifferentiateMatrix(steps):\n",
    "    if steps < 3:\n",
    "        raise ValueError(\"The number of steps must be greater than 3\")\n",
    "    rang = np.linspace(0, 1, steps)\n",
    "    dist = np.diff(rang)[0]\n",
    "    n = steps\n",
    "    mat = [[0]*(n) for _ in range(n)]\n",
    "    mat[0][0] = 1\n",
    "    for i in range(n - 2):\n",
    "        row = i + 1\n",
    "        mat[row][i] = (1/dist**2 + rang[i]/(dist))\n",
    "        mat[row][i + 1] = -(2 - 2/dist**2)\n",
    "        mat[row][i + 2] = (1/dist**2 - rang[i]/(dist))\n",
    "    mat[-1][-1] = 1/dist\n",
    "    mat[-1][-2] = -1/dist\n",
    "    return mat\n",
    "\n",
    "def getDifferentiateRightSide(steps):\n",
    "    if steps < 3:\n",
    "        raise ValueError(\"The number of steps must be greater than 3\")\n",
    "    rang = np.linspace(0, 1, steps)\n",
    "    dist = np.diff(rang)[0]\n",
    "    n = steps\n",
    "    B = [0] * n\n",
    "    B[0] = 0\n",
    "    for i in range(n - 1):\n",
    "        row = i + 1\n",
    "        B[row] = -rang[i]\n",
    "    B[-1] = 1\n",
    "    return B\n",
    "\n",
    "def TridiagonalSolve(Mat, F):\n",
    "    n = len(Mat)\n",
    "    \n",
    "    if any(len(row) != n for row in Mat):\n",
    "        raise ValueError(\"Матрица должна быть квадратной\")\n",
    "    if len(F) != n:\n",
    "        raise ValueError(\"Длина вектора B должна совпадать с размером матрицы\")\n",
    "\n",
    "    A = [0] * n\n",
    "    B = [0] * n\n",
    "    C = [0] * n\n",
    "    \n",
    "    for i in range(n):\n",
    "        A[i] = Mat[i][i - 1] if i - 1 >= 0 else 0\n",
    "        B[i] = Mat[i][i]\n",
    "        C[i] = Mat[i][i + 1] if i + 1 < n else 0\n",
    "    \n",
    "    eps = [0] * (n - 1)\n",
    "    eta = [0] * (n - 1)\n",
    "    x = [0] * n\n",
    "    \n",
    "    eps[0] = -C[0] / B[0]\n",
    "    eta[0] = F[0] / B[0]\n",
    "\n",
    "    # print(f\"i={0}, eps={eps[0]}, eta={eta[0]}, Ai={A[0]}, Bi={B[0]}, Ci={C[0]}, F={F[0]}\")\n",
    "\n",
    "    for i in range(1, n - 1):\n",
    "        denominator = B[i] - A[i] * eps[i - 1]\n",
    "        eps[i] = C[i] / denominator\n",
    "        eta[i] = (F[i] + A[i] * eta[i - 1]) / denominator\n",
    "        # print(f\"i={i}, eps={eps[i]}, eta={eta[i]}, Ai={A[i]}, Bi={B[i]}, Ci={C[i]}, F={F[i]}\")\n",
    "    \n",
    "    # print(f\"i={n - 1}, eps={eps[n - 2]}, eta={eta[n - 2]}, Ai={A[n - 1]}, Bi={B[n - 1]}, Ci={C[n - 1]}, F={F[n - 1]}\")\n",
    "            \n",
    "    x[-1] = (F[-1] - A[-1] * eta[-1]) / (A[-1] * eps[-1] + B[-1])\n",
    "    for i in range(n - 2, -1, -1):\n",
    "        x[i] = eta[i] + eps[i] * x[i + 1]\n",
    "    \n",
    "    return x\n",
    "    "
   ]
  },
  {
   "cell_type": "code",
   "execution_count": 68,
   "metadata": {},
   "outputs": [
    {
     "name": "stdout",
     "output_type": "stream",
     "text": [
      "0.4877628541467046\n"
     ]
    },
    {
     "data": {
      "application/vnd.plotly.v1+json": {
       "config": {
        "plotlyServerURL": "https://plot.ly"
       },
       "data": [
        {
         "hovertemplate": "<extra></extra>",
         "legendgroup": "",
         "line": {
          "color": "#636efa",
          "dash": "solid"
         },
         "marker": {
          "symbol": "circle"
         },
         "mode": "lines",
         "name": "",
         "orientation": "v",
         "showlegend": false,
         "type": "scatter",
         "xaxis": "x",
         "yaxis": "y"
        },
        {
         "name": "n = 3",
         "type": "scatter",
         "x": {
          "bdata": "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",
          "dtype": "f8"
         },
         "y": {
          "bdata": "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",
          "dtype": "f8"
         }
        },
        {
         "name": "n = 5",
         "type": "scatter",
         "x": {
          "bdata": "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",
          "dtype": "f8"
         },
         "y": {
          "bdata": "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",
          "dtype": "f8"
         }
        },
        {
         "name": "n = 6",
         "type": "scatter",
         "x": {
          "bdata": "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",
          "dtype": "f8"
         },
         "y": {
          "bdata": "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",
          "dtype": "f8"
         }
        },
        {
         "name": "n = 7",
         "type": "scatter",
         "x": {
          "bdata": "AAAAAAAAAABoBgGkgGZQP2gGAaSAZmA/nIkB9sCZaD9oBgGkgGZwPwJIAc0ggHQ/nIkB9sCZeD82ywEfYbN8P2gGAaSAZoA/NSeBuFBzgj8CSAHNIICEP89ogeHwjIY/nIkB9sCZiD9pqoEKkaaKPzbLAR9hs4w/A+yBMzHAjj9oBgGkgGaQP84WQa7obJE/NSeBuFBzkj+cN8HCuHmTPwJIAc0ggJQ/aFhB14iGlT/PaIHh8IyWPzZ5wetYk5c/nIkB9sCZmD8CmkEAKaCZP2mqgQqRppo/0LrBFPmsmz82ywEfYbOcP5zbQSnJuZ0/A+yBMzHAnj9q/ME9mcafP2gGAaSAZqA/mw4hqbTpoD/OFkGu6GyhPwIfYbMc8KE/NSeBuFBzoj9oL6G9hPaiP5w3wcK4eaM/zz/hx+z8oz8CSAHNIICkPzVQIdJUA6U/aFhB14iGpT+cYGHcvAmmP89ogeHwjKY/AnGh5iQQpz82ecHrWJOnP2mB4fCMFqg/nIkB9sCZqD/PkSH79BypPwKaQQApoKk/NqJhBV0jqj9pqoEKkaaqP5yyoQ/FKas/0LrBFPmsqz8Dw+EZLTCsPzbLAR9hs6w/adMhJJU2rT+c20EpybmtP9DjYS79PK4/A+yBMzHArj829KE4ZUOvP2r8wT2Zxq8/TgJxoeYksD9oBgGkgGawP4IKkaYaqLA/mw4hqbTpsD+1ErGrTiuxP84WQa7obLE/6BrRsIKusT8CH2GzHPCxPxsj8bW2MbI/NSeBuFBzsj9PKxG76rSyP2gvob2E9rI/gjMxwB44sz+cN8HCuHmzP7U7UcVSu7M/zz/hx+z8sz/oQ3HKhj60PwJIAc0ggLQ/HEyRz7rBtD81UCHSVAO1P09UsdTuRLU/aFhB14iGtT+CXNHZIsi1P5xgYdy8CbY/tWTx3lZLtj/PaIHh8Iy2P+lsEeSKzrY/AnGh5iQQtz8cdTHpvlG3PzZ5wetYk7c/T31R7vLUtz9pgeHwjBa4P4KFcfMmWLg/nIkB9sCZuD+2jZH4Wtu4P8+RIfv0HLk/6ZWx/Y5euT8CmkEAKaC5Pxye0QLD4bk/NqJhBV0juj9PpvEH92S6P2mqgQqRpro/g64RDSvouj+csqEPxSm7P7a2MRJfa7s/0LrBFPmsuz/pvlEXk+67PwPD4RktMLw/HMdxHMdxvD82ywEfYbO8P1DPkSH79Lw/adMhJJU2vT+D17EmL3i9P5zbQSnJub0/tt/RK2P7vT/Q42Eu/Ty+P+nn8TCXfr4/A+yBMzHAvj8d8BE2ywG/Pzb0oThlQ78/UPgxO/+Evz9q/ME9mca/P0IAKaAZBMA/TgJxoeYkwD9bBLmis0XAP2gGAaSAZsA/dQhJpU2HwD+CCpGmGqjAP44M2afnyMA/mw4hqbTpwD+oEGmqgQrBP7USsatOK8E/whT5rBtMwT/OFkGu6GzBP9sYia+1jcE/6BrRsIKuwT/1HBmyT8/BPwIfYbMc8ME/DyGptOkQwj8bI/G1tjHCPyglObeDUsI/NSeBuFBzwj9CKcm5HZTCP08rEbvqtMI/Wy1ZvLfVwj9oL6G9hPbCP3Ux6b5RF8M/gjMxwB44wz+PNXnB61jDP5w3wcK4ecM/qDkJxIWawz+1O1HFUrvDP8I9mcYf3MM/zz/hx+z8wz/cQSnJuR3EP+hDccqGPsQ/9UW5y1NfxD8CSAHNIIDEPw9KSc7toMQ/HEyRz7rBxD8oTtnQh+LEPzVQIdJUA8U/QlJp0yEkxT9PVLHU7kTFP1xW+dW7ZcU/aFhB14iGxT91WonYVafFP4Jc0dkiyMU/j14Z2+/oxT+cYGHcvAnGP6liqd2JKsY/tWTx3lZLxj/CZjngI2zGP89ogeHwjMY/3GrJ4r2txj/pbBHkis7GP/VuWeVX78Y/AnGh5iQQxz8Pc+nn8TDHPxx1Mem+Ucc/KXd56otyxz82ecHrWJPHP0J7Ce0ltMc/T31R7vLUxz9cf5nvv/XHP2mB4fCMFsg/doMp8lk3yD+ChXHzJljIP4+HufTzeMg/nIkB9sCZyD+pi0n3jbrIP7aNkfha28g/wo/Z+Sf8yD/PkSH79BzJP9yTafzBPck/6ZWx/Y5eyT/2l/n+W3/JPwKaQQApoMk/D5yJAfbAyT8cntECw+HJPymgGQSQAso/NqJhBV0jyj9DpKkGKkTKP0+m8Qf3ZMo/XKg5CcSFyj9pqoEKkabKP3asyQtex8o/g64RDSvoyj+PsFkO+AjLP5yyoQ/FKcs/qbTpEJJKyz+2tjESX2vLP8O4eRMsjMs/0LrBFPmsyz/cvAkWxs3LP+m+UReT7ss/9sCZGGAPzD8Dw+EZLTDMPxDFKRv6UMw/HMdxHMdxzD8pybkdlJLMPzbLAR9hs8w/Q81JIC7UzD9Qz5Eh+/TMP1zR2SLIFc0/adMhJJU2zT921WklYlfNP4PXsSYveM0/kNn5J/yYzT+c20EpybnNP6ndiSqW2s0/tt/RK2P7zT/D4RktMBzOP9DjYS79PM4/3eWpL8pdzj/p5/Ewl37OP/bpOTJkn84/A+yBMzHAzj8Q7sk0/uDOPx3wETbLAc8/KfJZN5gizz829KE4ZUPPP0P26TkyZM8/UPgxO/+Ezz9d+nk8zKXPP2r8wT2Zxs8/dv4JP2bnzz9CACmgGQTQP0gBzSCAFNA/TgJxoeYk0D9VAxUiTTXQP1sEuaKzRdA/YgVdIxpW0D9oBgGkgGbQP24HpSTndtA/dQhJpU2H0D97Ce0ltJfQP4IKkaYaqNA/iAs1J4G40D+ODNmn58jQP5UNfShO2dA/mw4hqbTp0D+iD8UpG/rQP6gQaaqBCtE/rhENK+ga0T+1ErGrTivRP7sTVSy1O9E/whT5rBtM0T/IFZ0tglzRP84WQa7obNE/1RflLk990T/bGImvtY3RP+IZLTAcntE/6BrRsIKu0T/vG3Ux6b7RP/UcGbJPz9E/+x29Mrbf0T8CH2GzHPDRPwggBTSDANI/DyGptOkQ0j8VIk01UCHSPxsj8bW2MdI/IiSVNh1C0j8oJTm3g1LSPy8m3TfqYtI/NSeBuFBz0j87KCU5t4PSP0IpybkdlNI/SCptOoSk0j9PKxG76rTSP1UstTtRxdI/Wy1ZvLfV0j9iLv08HubSP2gvob2E9tI/bzBFPusG0z91Mem+URfTP3syjT+4J9M/gjMxwB440z+INNVAhUjTP481ecHrWNM/lTYdQlJp0z+cN8HCuHnTP6I4ZUMfitM/qDkJxIWa0z+vOq1E7KrTP7U7UcVSu9M/vDz1RbnL0z/CPZnGH9zTP8g+PUeG7NM/zz/hx+z80z/VQIVIUw3UP9xBKcm5HdQ/4kLNSSAu1D/oQ3HKhj7UP+9EFUvtTtQ/9UW5y1Nf1D/8Rl1Mum/UPwJIAc0ggNQ/CEmlTYeQ1D8PSknO7aDUPxVL7U5UsdQ/HEyRz7rB1D8iTTVQIdLUPyhO2dCH4tQ/L099Ue7y1D81UCHSVAPVPzxRxVK7E9U/QlJp0yEk1T9IUw1UiDTVP09UsdTuRNU/VVVVVVVV1T9cVvnVu2XVP2JXnVYidtU/aFhB14iG1T9vWeVX75bVP3VaidhVp9U/fFstWby31T+CXNHZIsjVP4lddVqJ2NU/j14Z2+/o1T+VX71bVvnVP5xgYdy8CdY/omEFXSMa1j+pYqndiSrWP69jTV7wOtY/tWTx3lZL1j+8ZZVfvVvWP8JmOeAjbNY/yWfdYIp81j/PaIHh8IzWP9VpJWJXndY/3GrJ4r2t1j/ia21jJL7WP+lsEeSKztY/7221ZPHe1j/1blnlV+/WP/xv/WW+/9Y/AnGh5iQQ1z8JckVniyDXPw9z6efxMNc/FXSNaFhB1z8cdTHpvlHXPyJ21WklYtc/KXd56oty1z8veB1r8oLXPzZ5wetYk9c/PHplbL+j1z9CewntJbTXP0l8rW2MxNc/T31R7vLU1z9WfvVuWeXXP1x/me+/9dc/YoA9cCYG2D9pgeHwjBbYP2+ChXHzJtg/doMp8lk32D98hM1ywEfYP4KFcfMmWNg/iYYVdI1o2D+Ph7n083jYP5aIXXVaidg/nIkB9sCZ2D+iiqV2J6rYP6mLSfeNutg/r4ztd/TK2D+2jZH4WtvYP7yONXnB69g/wo/Z+Sf82D/JkH16jgzZP8+RIfv0HNk/1pLFe1st2T/ck2n8wT3ZP+KUDX0oTtk/6ZWx/Y5e2T/vllV+9W7ZP/aX+f5bf9k//Jidf8KP2T8CmkEAKaDZPwmb5YCPsNk/D5yJAfbA2T8WnS2CXNHZPxye0QLD4dk/I591gyny2T8poBkEkALaPy+hvYT2Eto/NqJhBV0j2j88owWGwzPaP0OkqQYqRNo/SaVNh5BU2j9PpvEH92TaP1anlYhdddo/XKg5CcSF2j9jqd2JKpbaP2mqgQqRpto/b6sli/e22j92rMkLXsfaP3ytbYzE19o/g64RDSvo2j+Jr7WNkfjaP4+wWQ74CNs/lrH9jl4Z2z+csqEPxSnbP6OzRZArOts/qbTpEJJK2z+vtY2R+FrbP7a2MRJfa9s/vLfVksV72z/DuHkTLIzbP8m5HZSSnNs/0LrBFPms2z/Wu2WVX73bP9y8CRbGzds/472tlize2z/pvlEXk+7bP/C/9Zf5/ts/9sCZGGAP3D/8wT2Zxh/cPwPD4RktMNw/CcSFmpNA3D8QxSkb+lDcPxbGzZtgYdw/HMdxHMdx3D8jyBWdLYLcPynJuR2Uktw/MMpdnvqi3D82ywEfYbPcPzzMpZ/Hw9w/Q81JIC7U3D9Jzu2glOTcP1DPkSH79Nw/VtA1omEF3T9c0dkiyBXdP2PSfaMuJt0/adMhJJU23T9w1MWk+0bdP3bVaSViV90/fNYNpshn3T+D17EmL3jdP4nYVaeViN0/kNn5J/yY3T+W2p2oYqndP5zbQSnJud0/o9zlqS/K3T+p3YkqltrdP7DeLav86t0/tt/RK2P73T+94HWsyQveP8PhGS0wHN4/yeK9rZYs3j/Q42Eu/TzeP9bkBa9jTd4/3eWpL8pd3j/j5k2wMG7eP+nn8TCXft4/8OiVsf2O3j/26TkyZJ/eP/3q3bLKr94/A+yBMzHA3j8J7SW0l9DePxDuyTT+4N4/Fu9ttWTx3j8d8BE2ywHfPyPxtbYxEt8/KfJZN5gi3z8w8/23/jLfPzb0oThlQ98/PfVFuctT3z9D9uk5MmTfP0n3jbqYdN8/UPgxO/+E3z9W+dW7ZZXfP136eTzMpd8/Y/sdvTK23z9q/ME9mcbfP3D9Zb7/1t8/dv4JP2bn3z99/62/zPffP0IAKaAZBOA/xQB74EwM4D9IAc0ggBTgP8sBH2GzHOA/TgJxoeYk4D/SAsPhGS3gP1UDFSJNNeA/2ANnYoA94D9bBLmis0XgP94EC+PmTeA/YgVdIxpW4D/lBa9jTV7gP2gGAaSAZuA/6wZT5LNu4D9uB6Uk53bgP/IH92Qaf+A/dQhJpU2H4D/4CJvlgI/gP3sJ7SW0l+A//gk/Zuef4D+CCpGmGqjgPwUL4+ZNsOA/iAs1J4G44D8LDIdntMDgP44M2afnyOA/Eg0r6BrR4D+VDX0oTtngPxgOz2iB4eA/mw4hqbTp4D8eD3Pp5/HgP6IPxSkb+uA/JRAXak4C4T+oEGmqgQrhPysRu+q0EuE/rhENK+ga4T8yEl9rGyPhP7USsatOK+E/OBMD7IEz4T+7E1UstTvhPz4Up2zoQ+E/whT5rBtM4T9FFUvtTlThP8gVnS2CXOE/SxbvbbVk4T/OFkGu6GzhP1IXk+4bdeE/1RflLk994T9YGDdvgoXhP9sYia+1jeE/Xxnb7+iV4T/iGS0wHJ7hP2Uaf3BPpuE/6BrRsIKu4T9rGyPxtbbhP+8bdTHpvuE/chzHcRzH4T/1HBmyT8/hP3gda/KC1+E/+x29Mrbf4T9/Hg9z6efhPwIfYbMc8OE/hR+z80/44T8IIAU0gwDiP4sgV3S2COI/DyGptOkQ4j+SIfv0HBniPxUiTTVQIeI/mCKfdYMp4j8bI/G1tjHiP58jQ/bpOeI/IiSVNh1C4j+lJOd2UEriPyglObeDUuI/qyWL97Za4j8vJt036mLiP7ImL3gda+I/NSeBuFBz4j+4J9P4g3viPzsoJTm3g+I/vyh3eeqL4j9CKcm5HZTiP8UpG/pQnOI/SCptOoSk4j/LKr96t6ziP08rEbvqtOI/0itj+x294j9VLLU7UcXiP9gsB3yEzeI/Wy1ZvLfV4j/fLav86t3iP2Iu/Twe5uI/5S5PfVHu4j9oL6G9hPbiP+sv8/23/uI/bzBFPusG4z/yMJd+Hg/jP3Ux6b5RF+M/+DE7/4Qf4z97Mo0/uCfjP/8y33/rL+M/gjMxwB444z8FNIMAUkDjP4g01UCFSOM/CzUngbhQ4z+PNXnB61jjPxI2ywEfYeM/lTYdQlJp4z8YN2+ChXHjP5w3wcK4eeM/HzgTA+yB4z+iOGVDH4rjPyU5t4NSkuM/qDkJxIWa4z8sOlsEuaLjP686rUTsquM/Mjv/hB+z4z+1O1HFUrvjPzg8owWGw+M/vDz1RbnL4z8/PUeG7NPjP8I9mcYf3OM/RT7rBlPk4z/IPj1HhuzjP0w/j4e59OM/zz/hx+z84z9SQDMIIAXkP9VAhUhTDeQ/WEHXiIYV5D/cQSnJuR3kP19CewntJeQ/4kLNSSAu5D9lQx+KUzbkP+hDccqGPuQ/bETDCrpG5D/vRBVL7U7kP3JFZ4sgV+Q/9UW5y1Nf5D94RgsMh2fkP/xGXUy6b+Q/f0evjO135D8CSAHNIIDkP4VIUw1UiOQ/CEmlTYeQ5D+MSfeNupjkPw9KSc7toOQ/kkqbDiGp5D8VS+1OVLHkP5hLP4+HueQ/HEyRz7rB5D+fTOMP7snkPyJNNVAh0uQ/pU2HkFTa5D8oTtnQh+LkP6xOKxG76uQ/L099Ue7y5D+yT8+RIfvkPzVQIdJUA+U/uFBzEogL5T88UcVSuxPlP79RF5PuG+U/QlJp0yEk5T/FUrsTVSzlP0hTDVSINOU/zFNflLs85T9PVLHU7kTlP9JUAxUiTeU/VVVVVVVV5T/YVaeViF3lP1xW+dW7ZeU/31ZLFu9t5T9iV51WInblP+VX75ZVfuU/aFhB14iG5T/sWJMXvI7lP29Z5VfvluU/8lk3mCKf5T91WonYVaflP/la2xiJr+U/fFstWby35T//W3+Z77/lP4Jc0dkiyOU/BV0jGlbQ5T+JXXVaidjlPwxex5q84OU/j14Z2+/o5T8SX2sbI/HlP5VfvVtW+eU/GWAPnIkB5j+cYGHcvAnmPx9hsxzwEeY/omEFXSMa5j8lYledViLmP6liqd2JKuY/LGP7Hb0y5j+vY01e8DrmPzJkn54jQ+Y/tWTx3lZL5j85ZUMfilPmP7xllV+9W+Y/P2bnn/Bj5j/CZjngI2zmP0VniyBXdOY/yWfdYIp85j9MaC+hvYTmP89ogeHwjOY/UmnTISSV5j/VaSViV53mP1lqd6KKpeY/3GrJ4r2t5j9faxsj8bXmP+JrbWMkvuY/ZWy/o1fG5j/pbBHkis7mP2xtYyS+1uY/7221ZPHe5j9ybgelJOfmP/VuWeVX7+Y/eW+rJYv35j/8b/1lvv/mP39wT6bxB+c/AnGh5iQQ5z+FcfMmWBjnPwlyRWeLIOc/jHKXp74o5z8Pc+nn8TDnP5JzOyglOec/FXSNaFhB5z+ZdN+oi0nnPxx1Mem+Uec/n3WDKfJZ5z8idtVpJWLnP6V2J6pYauc/KXd56oty5z+sd8sqv3rnPy94HWvyguc/snhvqyWL5z82ecHrWJPnP7l5EyyMm+c/PHplbL+j5z+/eres8qvnP0J7Ce0ltOc/xntbLVm85z9JfK1tjMTnP8x8/62/zOc/T31R7vLU5z/SfaMuJt3nP1Z+9W5Z5ec/2X5Hr4zt5z9cf5nvv/XnP99/6y/z/ec/YoA9cCYG6D/mgI+wWQ7oP2mB4fCMFug/7IEzMcAe6D9vgoVx8yboP/KC17EmL+g/doMp8lk36D/5g3syjT/oP3yEzXLAR+g//4Qfs/NP6D+ChXHzJljoPwaGwzNaYOg/iYYVdI1o6D8Mh2e0wHDoP4+HufTzeOg/EogLNSeB6D+WiF11WonoPxmJr7WNkeg/nIkB9sCZ6D8filM29KHoP6KKpXYnqug/Jov3tlqy6D+pi0n3jbroPyyMmzfBwug/r4ztd/TK6D8yjT+4J9PoP7aNkfha2+g/OY7jOI7j6D+8jjV5wevoPz+Ph7n08+g/wo/Z+Sf86D9GkCs6WwTpP8mQfXqODOk/TJHPusEU6T/PkSH79BzpP1KSczsoJek/1pLFe1st6T9Zkxe8jjXpP9yTafzBPek/X5S7PPVF6T/ilA19KE7pP2aVX71bVuk/6ZWx/Y5e6T9slgM+wmbpP++WVX71buk/cpenvih36T/2l/n+W3/pP3mYSz+Ph+k//Jidf8KP6T9/me+/9ZfpPwKaQQApoOk/hpqTQFyo6T8Jm+WAj7DpP4ybN8HCuOk/D5yJAfbA6T+TnNtBKcnpPxadLYJc0ek/mZ1/wo/Z6T8cntECw+HpP5+eI0P26ek/I591gyny6T+mn8fDXPrpPymgGQSQAuo/rKBrRMMK6j8vob2E9hLqP7OhD8UpG+o/NqJhBV0j6j+5orNFkCvqPzyjBYbDM+o/v6NXxvY76j9DpKkGKkTqP8ak+0ZdTOo/SaVNh5BU6j/MpZ/Hw1zqP0+m8Qf3ZOo/06ZDSCpt6j9Wp5WIXXXqP9mn58iQfeo/XKg5CcSF6j/fqItJ943qP2Op3Ykqluo/5qkvyl2e6j9pqoEKkabqP+yq00rEruo/b6sli/e26j/zq3fLKr/qP3asyQtex+o/+awbTJHP6j98rW2MxNfqP/+tv8z33+o/g64RDSvo6j8Gr2NNXvDqP4mvtY2R+Oo/DLAHzsQA6z+PsFkO+AjrPxOxq04rEes/lrH9jl4Z6z8Zsk/PkSHrP5yyoQ/FKes/H7PzT/gx6z+js0WQKzrrPya0l9BeQus/qbTpEJJK6z8stTtRxVLrP6+1jZH4Wus/M7bf0Stj6z+2tjESX2vrPzm3g1KSc+s/vLfVksV76z8/uCfT+IPrP8O4eRMsjOs/RrnLU1+U6z/JuR2UkpzrP0y6b9TFpOs/0LrBFPms6z9TuxNVLLXrP9a7ZZVfves/Wby31ZLF6z/cvAkWxs3rP2C9W1b51es/472tlize6z9mvv/WX+brP+m+UReT7us/bL+jV8b26z/wv/WX+f7rP3PAR9gsB+w/9sCZGGAP7D95wetYkxfsP/zBPZnGH+w/gMKP2fkn7D8Dw+EZLTDsP4bDM1pgOOw/CcSFmpNA7D+MxNfaxkjsPxDFKRv6UOw/k8V7Wy1Z7D8Wxs2bYGHsP5nGH9yTaew/HMdxHMdx7D+gx8Nc+nnsPyPIFZ0tguw/pshn3WCK7D8pybkdlJLsP6zJC17Hmuw/MMpdnvqi7D+zyq/eLavsPzbLAR9hs+w/uctTX5S77D88zKWfx8PsP8DM99/6y+w/Q81JIC7U7D/GzZtgYdzsP0nO7aCU5Ow/zM4/4cfs7D9Qz5Eh+/TsP9PP42Eu/ew/VtA1omEF7T/Z0IfilA3tP1zR2SLIFe0/4NErY/sd7T9j0n2jLibtP+bSz+NhLu0/adMhJJU27T/s03NkyD7tP3DUxaT7Ru0/89QX5S5P7T921WklYlftP/nVu2WVX+0/fNYNpshn7T8A11/m+2/tP4PXsSYveO0/BtgDZ2KA7T+J2FWnlYjtPwzZp+fIkO0/kNn5J/yY7T8T2ktoL6HtP5banahiqe0/Gdvv6JWx7T+c20EpybntPyDck2n8we0/o9zlqS/K7T8m3TfqYtLtP6ndiSqW2u0/Ld7basni7T+w3i2r/OrtPzPff+sv8+0/tt/RK2P77T854CNslgPuP73gdazJC+4/QOHH7PwT7j/D4RktMBzuP0bia21jJO4/yeK9rZYs7j9N4w/uyTTuP9DjYS79PO4/U+SzbjBF7j/W5AWvY03uP1nlV++WVe4/3eWpL8pd7j9g5vtv/WXuP+PmTbAwbu4/Zuef8GN27j/p5/Ewl37uP23oQ3HKhu4/8OiVsf2O7j9z6efxMJfuP/bpOTJkn+4/eeqLcpen7j/96t2yyq/uP4DrL/P9t+4/A+yBMzHA7j+G7NNzZMjuPwntJbSX0O4/je139MrY7j8Q7sk0/uDuP5PuG3Ux6e4/Fu9ttWTx7j+Z77/1l/nuPx3wETbLAe8/oPBjdv4J7z8j8bW2MRLvP6bxB/dkGu8/KfJZN5gi7z+t8qt3yyrvPzDz/bf+Mu8/s/NP+DE77z829KE4ZUPvP7n083iYS+8/PfVFuctT7z/A9Zf5/lvvP0P26TkyZO8/xvY7emVs7z9J9426mHTvP8333/rLfO8/UPgxO/+E7z/T+IN7Mo3vP1b51btlle8/2fkn/Jid7z9d+nk8zKXvP+D6y3z/re8/Y/sdvTK27z/m+2/9Zb7vP2r8wT2Zxu8/7fwTfszO7z9w/WW+/9bvP/P9t/4y3+8/dv4JP2bn7z/6/lt/me/vP33/rb/M9+8/AAAAAAAA8D8=",
          "dtype": "f8"
         },
         "y": {
          "bdata": "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",
          "dtype": "f8"
         }
        },
        {
         "name": "n = 8",
         "type": "scatter",
         "x": {
          "bdata": "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",
          "dtype": "f8"
         },
         "y": {
          "bdata": "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",
          "dtype": "f8"
         }
        },
        {
         "name": "Differentiation",
         "type": "scatter",
         "x": {
          "bdata": "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",
          "dtype": "f8"
         },
         "y": [
          0,
          0.00028152254296732446,
          0.0005630445217617814,
          0.0008445669393898206,
          0.001126090798860781,
          0.0014076171031909119,
          0.0016891468554073915,
          0.001970681058552348,
          0.00225222071568688,
          0.0025337668298950774,
          0.002815320404288041,
          0.0030968824420079047,
          0.0033784539462318555,
          0.0036600359201761556,
          0.003941629367100164,
          0.004223235290310359,
          0.00450485469316436,
          0.0047864885790749505,
          0.005068137951514104,
          0.0053498038140170024,
          0.005631487170186065,
          0.005913189023694973,
          0.006194910378292693,
          0.006476652237807503,
          0.006758415606151021,
          0.007040201487322231,
          0.007322010885411512,
          0.007603844804604666,
          0.007885704249186947,
          0.008167590223547095,
          0.00844950373218136,
          0.008731445779697542,
          0.00901341737081902,
          0.00929541951038879,
          0.009577453203373488,
          0.009859519454867441,
          0.010141619270096693,
          0.01042375365442305,
          0.010705923613348113,
          0.010988130152517324,
          0.011270374277724003,
          0.011552656994913393,
          0.0118349793101867,
          0.012117342229805145,
          0.012399746760194003,
          0.012682193907946655,
          0.012964684679828633,
          0.013247220082781678,
          0.013529801123927779,
          0.01381242881057324,
          0.014095104150212723,
          0.014377828150533317,
          0.01466060181941858,
          0.014943426164952612,
          0.01522630219542411,
          0.015509230919330428,
          0.015792213345381646,
          0.016075250482504636,
          0.016358343339847127,
          0.016641492926781774,
          0.016924700252910232,
          0.017207966328067224,
          0.017491292162324628,
          0.01777467876599554,
          0.01805812714963836,
          0.01834163832406087,
          0.018625213300324323,
          0.01890885308974751,
          0.019192558703910883,
          0.019476331154660593,
          0.019760171454112636,
          0.0200440806146569,
          0.02032805964896129,
          0.020612109569975817,
          0.02089623139093669,
          0.02118042612537043,
          0.02146469478709797,
          0.02174903839023876,
          0.022033457949214883,
          0.022317954478755158,
          0.022602528993899258,
          0.02288718251000184,
          0.02317191604273663,
          0.023456730608100593,
          0.02374162722241801,
          0.024026606902344642,
          0.02431167066487184,
          0.024596819527330678,
          0.0248820545073961,
          0.02516737662309105,
          0.025452786892790607,
          0.025738286335226148,
          0.026023875969489473,
          0.026309556815036966,
          0.026595329891693758,
          0.02688119621965785,
          0.027167156819504306,
          0.027453212712189392,
          0.027739364919054755,
          0.028025614461831577,
          0.028311962362644758,
          0.028598409644017088,
          0.028884957328873414,
          0.029171606440544836,
          0.029458358002772876,
          0.029745213039713683,
          0.0300321725759422,
          0.030319237636456373,
          0.030606409246681347,
          0.03089368843247367,
          0.031181076220125486,
          0.03146857363636875,
          0.03175618170837944,
          0.03204390146378176,
          0.03233173393065239,
          0.03261968013752466,
          0.032907741113392834,
          0.033195917887716274,
          0.03348421149042373,
          0.03377262295191755,
          0.03406115330307792,
          0.034349803575267124,
          0.03463857480033376,
          0.03492746801061705,
          0.03521648423895104,
          0.03550562451866888,
          0.035794889883607094,
          0.03608428136810986,
          0.03637380000703325,
          0.03666344683574954,
          0.036953222890151474,
          0.037243129206656546,
          0.0375331668222113,
          0.03782333677429562,
          0.03811364010092704,
          0.03840407784066502,
          0.03869465103261526,
          0.038985360716434055,
          0.03927620793233254,
          0.03956719372108106,
          0.03985831912401348,
          0.04014958518303152,
          0.04044099294060908,
          0.04073254343979658,
          0.04102423772422531,
          0.04131607683811178,
          0.04160806182626206,
          0.041900193734076156,
          0.04219247360755236,
          0.042484902493291614,
          0.042777481438501894,
          0.04307021149100258,
          0.04336309369922884,
          0.043656129112236014,
          0.04394931877970401,
          0.04424266375194171,
          0.04453616507989137,
          0.04482982381513299,
          0.04512364100988878,
          0.04541761771702757,
          0.045711754990069194,
          0.04600605388318895,
          0.04630051545122203,
          0.046595140749667974,
          0.04688993083469507,
          0.04718488676314487,
          0.047480009592536565,
          0.04777530038107153,
          0.04807076018763772,
          0.0483663900718142,
          0.048662191093875595,
          0.04895816431479655,
          0.049254310796256265,
          0.049550631600642964,
          0.04984712779105842,
          0.05014380043132242,
          0.05044065058597731,
          0.05073767932029252,
          0.05103488770026905,
          0.05133227679264406,
          0.051629847664895326,
          0.051927601385245874,
          0.05222553902266845,
          0.05252366164689014,
          0.05282197032839686,
          0.053120466138438,
          0.05341915014903095,
          0.05371802343296569,
          0.05401708706380936,
          0.054316342115910896,
          0.05461578966440559,
          0.05491543078521972,
          0.05521526655507512,
          0.05551529805149386,
          0.05581552635280283,
          0.05611595253813839,
          0.05641657768745098,
          0.05671740288150979,
          0.05701842920190741,
          0.057319657731064504,
          0.05762108955223443,
          0.05792272574950796,
          0.05822456740781791,
          0.058526615612943894,
          0.05882887145151694,
          0.059131336011024244,
          0.05943401037981385,
          0.05973689564709939,
          0.060039992902964794,
          0.060343303238368985,
          0.060646827745150664,
          0.060950567516033026,
          0.061254523644628536,
          0.06155869722544363,
          0.06186308935388356,
          0.06216770112625708,
          0.06247253363978131,
          0.06277758799258645,
          0.06308286528372063,
          0.06338836661315468,
          0.06369409308178696,
          0.06400004579144816,
          0.06430622584490614,
          0.06461263434587074,
          0.06491927239899865,
          0.06522614110989824,
          0.06553324158513445,
          0.06584057493223358,
          0.06614814225968826,
          0.06645594467696227,
          0.0667639832944954,
          0.06707225922370842,
          0.06738077357700795,
          0.06768952746779137,
          0.06799852201045177,
          0.0683077583203828,
          0.0686172375139837,
          0.0689269607086642,
          0.06923692902284952,
          0.06954714357598524,
          0.06985760548854235,
          0.07016831588202223,
          0.0704792758789616,
          0.07079048660293756,
          0.07110194917857253,
          0.07141366473153933,
          0.07172563438856616,
          0.07203785927744168,
          0.07235034052701998,
          0.07266307926722572,
          0.07297607662905911,
          0.07328933374460102,
          0.07360285174701804,
          0.07391663177056759,
          0.07423067495060297,
          0.07454498242357849,
          0.0748595553270546,
          0.07517439479970302,
          0.0754895019813118,
          0.07580487801279051,
          0.07612052403617543,
          0.07643644119463465,
          0.07675263063247324,
          0.0770690934951385,
          0.07738583092922505,
          0.07770284408248009,
          0.07802013410380858,
          0.07833770214327851,
          0.07865554935212607,
          0.07897367688276088,
          0.0792920858887713,
          0.07961077752492962,
          0.07992975294719736,
          0.08024901331273056,
          0.08056855977988504,
          0.0808883935082217,
          0.08120851565851187,
          0.08152892739274252,
          0.08184962987412173,
          0.08217062426708392,
          0.08249191173729524,
          0.0828134934516589,
          0.08313537057832063,
          0.08345754428667392,
          0.08378001574736552,
          0.08410278613230077,
          0.08442585661464908,
          0.0847492283688493,
          0.08507290257061516,
          0.08539688039694071,
          0.08572116302610583,
          0.08604575163768159,
          0.08637064741253582,
          0.08669585153283856,
          0.08702136518206754,
          0.08734718954501375,
          0.08767332580778689,
          0.08799977515782093,
          0.08832653878387964,
          0.08865361787606219,
          0.08898101362580865,
          0.08930872722590562,
          0.08963675987049177,
          0.0899651127550635,
          0.09029378707648048,
          0.0906227840329713,
          0.0909521048241392,
          0.09128175065096752,
          0.09161172271582553,
          0.09194202222247401,
          0.09227265037607096,
          0.09260360838317729,
          0.0929348974517625,
          0.0932665187912105,
          0.09359847361232518,
          0.09393076312733624,
          0.09426338854990496,
          0.09459635109512994,
          0.09492965197955287,
          0.09526329242116434,
          0.0955972736394096,
          0.09593159685519445,
          0.09626626329089098,
          0.09660127417034348,
          0.09693663071887426,
          0.09727233416328952,
          0.09760838573188522,
          0.097944786654453,
          0.09828153816228605,
          0.09861864148818504,
          0.09895609786646407,
          0.09929390853295657,
          0.09963207472502127,
          0.09997059768154819,
          0.10030947864296462,
          0.10064871885124108,
          0.10098831954989734,
          0.10132828198400849,
          0.10166860740021091,
          0.10200929704670834,
          0.102350352173278,
          0.10269177403127654,
          0.10303356387364625,
          0.10337572295492108,
          0.10371825253123282,
          0.10406115386031717,
          0.10440442820151995,
          0.10474807681580321,
          0.10509210096575142,
          0.10543650191557762,
          0.10578128093112968,
          0.10612643927989646,
          0.10647197823101409,
          0.10681789905527218,
          0.10716420302512007,
          0.10751089141467313,
          0.10785796549971902,
          0.108205426557724,
          0.10855327586783924,
          0.10890151471090714,
          0.10925014436946776,
          0.109599166127765,
          0.10994858127175317,
          0.11029839108910323,
          0.11064859686920932,
          0.11099919990319504,
          0.11135020148392,
          0.11170160290598623,
          0.11205340546574459,
          0.11240561046130136,
          0.11275821919252464,
          0.11311123296105088,
          0.11346465307029144,
          0.11381848082543909,
          0.11417271753347458,
          0.11452736450317323,
          0.11488242304511152,
          0.11523789447167364,
          0.11559378009705815,
          0.11595008123728466,
          0.11630679921020037,
          0.11666393533548686,
          0.11702149093466667,
          0.11737946733111006,
          0.11773786585004169,
          0.11809668781854737,
          0.11845593456558086,
          0.11881560742197052,
          0.11917570772042618,
          0.11953623679554591,
          0.11989719598382284,
          0.12025858662365199,
          0.1206204100553371,
          0.12098266762109748,
          0.121345360665075,
          0.12170849053334083,
          0.12207205857390249,
          0.1224360661367107,
          0.12280051457366634,
          0.12316540523862748,
          0.1235307394874163,
          0.12389651867782608,
          0.12426274416962828,
          0.12462941732457952,
          0.12499653950642868,
          0.12536411208092393,
          0.12573213641581987,
          0.1261006138808846,
          0.1264695458479068,
          0.12683893369070295,
          0.12720877878512454,
          0.1275790825090651,
          0.12794984624246747,
          0.12832107136733104,
          0.12869275926771895,
          0.12906491132976539,
          0.12943752894168278,
          0.12981061349376916,
          0.13018416637841546,
          0.13055818899011273,
          0.1309326827254597,
          0.1313076489831699,
          0.13168308916407928,
          0.1320590046711534,
          0.13243539690949493,
          0.1328122672863512,
          0.1331896172111215,
          0.1335674480953646,
          0.13394576135280634,
          0.134324558399347,
          0.13470384065306898,
          0.13508360953424423,
          0.1354638664653419,
          0.13584461287103594,
          0.1362258501782127,
          0.1366075798159785,
          0.13698980321566748,
          0.137372521810849,
          0.13775573703733557,
          0.13813945033319044,
          0.13852366313873538,
          0.1389083768965584,
          0.13929359305152159,
          0.13967931305076886,
          0.14006553834373375,
          0.14045227038214736,
          0.1408395106200461,
          0.14122726051377962,
          0.14161552152201873,
          0.14200429510576326,
          0.14239358272835012,
          0.14278338585546113,
          0.14317370595513107,
          0.1435645444977557,
          0.14395590295609975,
          0.14434778280530502,
          0.14474018552289838,
          0.14513311258879988,
          0.14552656548533097,
          0.1459205456972225,
          0.14631505471162295,
          0.1467100940181066,
          0.14710566510868173,
          0.14750176947779878,
          0.14789840862235878,
          0.14829558404172147,
          0.14869329723771352,
          0.14909154971463706,
          0.14949034297927788,
          0.14988967854091376,
          0.15028955791132295,
          0.15068998260479255,
          0.15109095413812693,
          0.1514924740306561,
          0.15189454380424433,
          0.15229716498329854,
          0.15270033909477687,
          0.15310406766819726,
          0.1535083522356459,
          0.15391319433178594,
          0.15431859549386603,
          0.154724557261729,
          0.15513108117782057,
          0.1555381687871979,
          0.1559458216375384,
          0.15635404127914845,
          0.1567628292649722,
          0.15717218715060025,
          0.15758211649427856,
          0.15799261885691723,
          0.1584036958020994,
          0.1588153488960901,
          0.15922757970784512,
          0.15964038980902,
          0.160053780773979,
          0.16046775417980402,
          0.1608823116063037,
          0.16129745463602232,
          0.16171318485424896,
          0.16212950384902658,
          0.16254641321116106,
          0.16296391453423045,
          0.16338200941459405,
          0.16380069945140155,
          0.1642199862466023,
          0.16463987140495465,
          0.16506035653403506,
          0.16548144324424743,
          0.16590313314883248,
          0.166325427863877,
          0.1667483290083233,
          0.16717183820397855,
          0.1675959570755243,
          0.1680206872505258,
          0.16844603035944156,
          0.16887198803563286,
          0.16929856191537326,
          0.16972575363785813,
          0.17015356484521427,
          0.17058199718250958,
          0.17101105229776256,
          0.17144073184195216,
          0.17187103746902738,
          0.1723019708359169,
          0.17273353360253904,
          0.1731657274318114,
          0.1735985539896607,
          0.17403201494503262,
          0.1744661119699017,
          0.17490084673928122,
          0.17533622093123308,
          0.17577223622687782,
          0.1762088943104046,
          0.1766461968690811,
          0.17708414559326371,
          0.17752274217640757,
          0.17796198831507656,
          0.17840188570895352,
          0.1788424360608504,
          0.17928364107671846,
          0.1797255024656585,
          0.180168021939931,
          0.18061120121496652,
          0.18105504200937592,
          0.18149954604496082,
          0.18194471504672388,
          0.1823905507428791,
          0.18283705486486249,
          0.18328422914734238,
          0.1837320753282299,
          0.18418059514868956,
          0.18462979035314978,
          0.18507966268931345,
          0.1855302139081686,
          0.18598144576399903,
          0.18643336001439495,
          0.18688595842026376,
          0.18733924274584074,
          0.1877932147586998,
          0.18824787622976444,
          0.18870322893331834,
          0.18915927464701646,
          0.1896160151518958,
          0.19007345223238645,
          0.19053158767632244,
          0.19099042327495283,
          0.19144996082295274,
          0.19191020211843432,
          0.19237114896295804,
          0.1928328031615436,
          0.19329516652268128,
          0.19375824085834303,
          0.1942220279839938,
          0.19468652971860267,
          0.1951517478846543,
          0.1956176843081602,
          0.19608434081867013,
          0.19655171924928344,
          0.19701982143666058,
          0.19748864922103454,
          0.19795820444622236,
          0.19842848895963663,
          0.19889950461229727,
          0.1993712532588429,
          0.19984373675754258,
          0.20031695697030755,
          0.2007909157627028,
          0.20126561500395912,
          0.20174105656698454,
          0.2022172423283764,
          0.20269417416843308,
          0.20317185397116602,
          0.20365028362431153,
          0.2041294650193429,
          0.20460940005148232,
          0.20509009061971287,
          0.20557153862679076,
          0.20605374597925735,
          0.20653671458745135,
          0.20702044636552094,
          0.20750494323143612,
          0.20799020710700086,
          0.2084762399178655,
          0.2089630435935391,
          0.2094506200674017,
          0.20993897127671693,
          0.21042809916264427,
          0.2109180056702517,
          0.21140869274852822,
          0.21190016235039635,
          0.21239241643272483,
          0.2128854569563412,
          0.21337928588604455,
          0.21387390519061822,
          0.21436931684284266,
          0.2148655228195081,
          0.2153625251014275,
          0.2158603256734494,
          0.2163589265244709,
          0.21685832964745053,
          0.21735853703942146,
          0.21785955070150428,
          0.21836137263892044,
          0.21886400486100505,
          0.21936744938122024,
          0.21987170821716834,
          0.2203767833906051,
          0.2208826769274531,
          0.22138939085781495,
          0.22189692721598683,
          0.22240528804047177,
          0.22291447537399323,
          0.2234244912635085,
          0.22393533776022237,
          0.22444701691960067,
          0.22495953080138392,
          0.22547288146960096,
          0.2259870709925828,
          0.22650210144297628,
          0.22701797489775785,
          0.2275346934382476,
          0.22805225915012295,
          0.22857067412343282,
          0.22908994045261136,
          0.22961006023649216,
          0.23013103557832232,
          0.2306528685857765,
          0.2311755613709711,
          0.23169911605047852,
          0.2322235347453414,
          0.23274881958108692,
          0.23327497268774108,
          0.23380199619984318,
          0.23432989225646023,
          0.23485866300120148,
          0.23538831058223286,
          0.23591883715229162,
          0.23645024486870092,
          0.23698253589338453,
          0.23751571239288152,
          0.23804977653836112,
          0.2385847305056374,
          0.23912057647518412,
          0.23965731663214984,
          0.24019495316637265,
          0.2407334882723953,
          0.2412729241494802,
          0.24181326300162456,
          0.2423545070375755,
          0.2428966584708452,
          0.24343971951972637,
          0.2439836924073072,
          0.24452857936148698,
          0.2450743826149914,
          0.245621104405388,
          0.2461687469751017,
          0.24671731257143023,
          0.24726680344655988,
          0.247817221857581,
          0.24836857006650384,
          0.2489208503402741,
          0.24947406495078897,
          0.2500282161749128,
          0.250583306294493,
          0.2511393375963762,
          0.2516963123724239,
          0.252254232919529,
          0.2528131015396314,
          0.2533729205397345,
          0.25393369223192125,
          0.25449541893337063,
          0.25505810296637366,
          0.25562174665834997,
          0.2561863523418642,
          0.2567519223546425,
          0.25731845903958894,
          0.25788596474480224,
          0.25845444182359245,
          0.2590238926344974,
          0.25959431954129963,
          0.2601657249130434,
          0.26073811112405104,
          0.2613114805539403,
          0.26188583558764117,
          0.26246117861541285,
          0.26303751203286097,
          0.2636148382409546,
          0.2641931596460436,
          0.26477247865987563,
          0.26535279769961373,
          0.2659341191878534,
          0.2665164455526405,
          0.26709977922748807,
          0.2676841226513945,
          0.2682694782688608,
          0.26885584852990807,
          0.2694432358900958,
          0.27003164281053904,
          0.2706210717579266,
          0.27121152520453884,
          0.27180300562826554,
          0.27239551551262403,
          0.27298905734677714,
          0.2735836336255515,
          0.2741792468494556,
          0.27477589952469805,
          0.2753735941632059,
          0.275972333282643,
          0.2765721194064285,
          0.27717295506375544,
          0.2777748427896089,
          0.27837778512478506,
          0.2789817846159096,
          0.2795868438154567,
          0.2801929652817675,
          0.28080015157906935,
          0.28140840527749456,
          0.2820177289530992,
          0.2826281251878825,
          0.2832395965698058,
          0.28385214569281175,
          0.28446577515684357,
          0.2850804875678644,
          0.2856962855378766,
          0.2863131716849413,
          0.2869311486331978,
          0.28755021901288313,
          0.2881703854603519,
          0.28879165061809586,
          0.2894140171347636,
          0.2900374876651805,
          0.29066206487036866,
          0.29128775141756685,
          0.2919145499802504,
          0.2925424632381516,
          0.29317149387727953,
          0.29380164458994074,
          0.29443291807475913,
          0.29506531703669664,
          0.29569884418707354,
          0.29633350224358906,
          0.2969692939303418,
          0.2976062219778507,
          0.2982442891230753,
          0.2988834981094372,
          0.2995238516868403,
          0.3001653526116921,
          0.3008080036469245,
          0.3014518075620151,
          0.3020967671330084,
          0.3027428851425367,
          0.3033901643798416,
          0.30403860764079543,
          0.30468821772792265,
          0.3053389974504213,
          0.30599094962418477,
          0.3066440770718232,
          0.30729838262268533,
          0.30795386911288064,
          0.30861053938530075,
          0.30926839628964153,
          0.30992744268242534,
          0.310587681427023,
          0.311249115393676,
          0.31191174745951866,
          0.3125755805086007,
          0.3132406174319094,
          0.31390686112739236,
          0.3145743144999799,
          0.3152429804616078,
          0.31591286193123985,
          0.31658396183489096,
          0.31725628310564985,
          0.31792982868370195,
          0.3186046015163527,
          0.31928060455805046,
          0.3199578407704098,
          0.3206363131222346,
          0.3213160245895419,
          0.32199697815558476,
          0.3226791768108762,
          0.32336262355321255,
          0.3240473213876972,
          0.32473327332676455,
          0.3254204823902037,
          0.3261089516051824,
          0.32679868400627093,
          0.3274896826354667,
          0.32818195054221777,
          0.3288754907834476,
          0.3295703064235792,
          0.3302664005345597,
          0.33096377619588463,
          0.3316624364946228,
          0.33236238452544087,
          0.333063623390628,
          0.33376615620012107,
          0.3344699860715293,
          0.3351751161301593,
          0.3358815495090406,
          0.3365892893489502,
          0.3372983387984385,
          0.3380087010138544,
          0.3387203791593706,
          0.33943337640700966,
          0.3401476959366692,
          0.3408633409361479,
          0.3415803146011712,
          0.34229862013541734,
          0.3430182607505432,
          0.34373923966621067,
          0.34446156011011264,
          0.34518522531799944,
          0.34591023853370506,
          0.34663660300917376,
          0.34736432200448664,
          0.34809339878788814,
          0.34882383663581307,
          0.34955563883291324,
          0.3502888086720844,
          0.3510233494544935,
          0.3517592644896056,
          0.3524965570952111,
          0.35323523059745343,
          0.3539752883308559,
          0.35471673363834966,
          0.3554595698713011,
          0.35620380038953975,
          0.3569494285613858,
          0.3576964577636783,
          0.35844489138180313,
          0.35919473280972086,
          0.3599459854499953,
          0.3606986527138215,
          0.3614527380210545,
          0.36220824480023744,
          0.3629651764886304,
          0.36372353653223927,
          0.36448332838584413,
          0.36524455551302853,
          0.3660072213862083,
          0.3667713294866608,
          0.3675368833045541,
          0.3683038863389763,
          0.3690723420979651,
          0.36984225409853694,
          0.3706136258667171,
          0.37138646093756916,
          0.37216076285522504,
          0.37293653517291475,
          0.3737137814529967,
          0.3744925052669877,
          0.3752727101955931,
          0.3760543998287377,
          0.3768375777655957,
          0.3776222476146215,
          0.3784084129935805,
          0.37919607752957996,
          0.3799852448590997,
          0.38077591862802324,
          0.38156810249166917,
          0.3823618001148222,
          0.3831570151717644,
          0.3839537513463072,
          0.38475201233182255,
          0.38555180183127463,
          0.38635312355725204,
          0.3871559812319995,
          0.3879603785874499,
          0.3887663193652566,
          0.3895738073168254,
          0.39038284620334746,
          0.39119343979583154,
          0.3920055918751366,
          0.3928193062320048,
          0.39363458666709394,
          0.394451436991011,
          0.3952698610243448,
          0.39608986259769957,
          0.39691144555172814,
          0.39773461373716534,
          0.3985593710148617,
          0.39938572125581734,
          0.4002136683412154,
          0.4010432161624565,
          0.4018743686211923,
          0.40270712962936017,
          0.40354150310921727,
          0.40437749299337505,
          0.40521510322483384,
          0.4060543377570176,
          0.40689520055380873,
          0.407737695589583,
          0.40858182684924477,
          0.40942759832826187,
          0.4102750140327014,
          0.4111240779792648,
          0.41197479419532373,
          0.4128271667189556,
          0.41368119959897953,
          0.41453689689499235,
          0.4153942626774047,
          0.4162533010274772,
          0.41711401603735704,
          0.4179764118101143,
          0.4188404924597787,
          0.41970626211137635,
          0.42057372490096656,
          0.4214428849756792,
          0.42231374649375164,
          0.4231863136245661,
          0.4240605905486871,
          0.4249365814578992,
          0.42581429055524445,
          0.42669372205506056,
          0.42757488018301887,
          0.4284577691761624,
          0.4293423932829441,
          0.43022875676326544,
          0.43111686388851483,
          0.43200671894160647,
          0.43289832621701896,
          0.4337916900208347,
          0.4346868146707787,
          0.43558370449625805,
          0.4364823638384013,
          0.4373827970500978,
          0.4382850084960379,
          0.4391890025527524,
          0.44009478360865273,
          0.44100235606407123,
          0.44191172433130116,
          0.4428228928346374,
          0.4437358660104169,
          0.44465064830705975,
          0.4455672441851097,
          0.44648565811727525,
          0.4474058945884713,
          0.44832795809586,
          0.4492518531488926,
          0.45017758426935084,
          0.451105155991389,
          0.45203457286157583,
          0.45296583943893665,
          0.4538989602949956,
          0.45483394001381827,
          0.455770783192054,
          0.4567094944389789,
          0.4576500783765387,
          0.4585925396393917,
          0.4595368828749523,
          0.4604831127434341,
          0.4614312339178937,
          0.4623812510842742,
          0.4633331689414493,
          0.46428699220126723,
          0.465242725588595,
          0.4662003738413626,
          0.46715994171060793,
          0.46812143396052125,
          0.46908485536849,
          0.4700502107251439,
          0.47101750483440036,
          0.4719867425135097,
          0.4729579285931006,
          0.473931067917226,
          0.4749061653434089,
          0.4758832257426884,
          0.47686225399966603,
          0.47784325501255204,
          0.47882623369321214,
          0.4798111949672141,
          0.4807981437738747,
          0.481787085066307,
          0.48277802381146756,
          0.4837709649902036,
          0.48476591359730103,
          0.4857628746415321,
          0.4867618531457036,
          0.4877628541467046
         ]
        }
       ],
       "layout": {
        "legend": {
         "tracegroupgap": 0
        },
        "margin": {
         "t": 60
        },
        "template": {
         "data": {
          "bar": [
           {
            "error_x": {
             "color": "#2a3f5f"
            },
            "error_y": {
             "color": "#2a3f5f"
            },
            "marker": {
             "line": {
              "color": "#E5ECF6",
              "width": 0.5
             },
             "pattern": {
              "fillmode": "overlay",
              "size": 10,
              "solidity": 0.2
             }
            },
            "type": "bar"
           }
          ],
          "barpolar": [
           {
            "marker": {
             "line": {
              "color": "#E5ECF6",
              "width": 0.5
             },
             "pattern": {
              "fillmode": "overlay",
              "size": 10,
              "solidity": 0.2
             }
            },
            "type": "barpolar"
           }
          ],
          "carpet": [
           {
            "aaxis": {
             "endlinecolor": "#2a3f5f",
             "gridcolor": "white",
             "linecolor": "white",
             "minorgridcolor": "white",
             "startlinecolor": "#2a3f5f"
            },
            "baxis": {
             "endlinecolor": "#2a3f5f",
             "gridcolor": "white",
             "linecolor": "white",
             "minorgridcolor": "white",
             "startlinecolor": "#2a3f5f"
            },
            "type": "carpet"
           }
          ],
          "choropleth": [
           {
            "colorbar": {
             "outlinewidth": 0,
             "ticks": ""
            },
            "type": "choropleth"
           }
          ],
          "contour": [
           {
            "colorbar": {
             "outlinewidth": 0,
             "ticks": ""
            },
            "colorscale": [
             [
              0,
              "#0d0887"
             ],
             [
              0.1111111111111111,
              "#46039f"
             ],
             [
              0.2222222222222222,
              "#7201a8"
             ],
             [
              0.3333333333333333,
              "#9c179e"
             ],
             [
              0.4444444444444444,
              "#bd3786"
             ],
             [
              0.5555555555555556,
              "#d8576b"
             ],
             [
              0.6666666666666666,
              "#ed7953"
             ],
             [
              0.7777777777777778,
              "#fb9f3a"
             ],
             [
              0.8888888888888888,
              "#fdca26"
             ],
             [
              1,
              "#f0f921"
             ]
            ],
            "type": "contour"
           }
          ],
          "contourcarpet": [
           {
            "colorbar": {
             "outlinewidth": 0,
             "ticks": ""
            },
            "type": "contourcarpet"
           }
          ],
          "heatmap": [
           {
            "colorbar": {
             "outlinewidth": 0,
             "ticks": ""
            },
            "colorscale": [
             [
              0,
              "#0d0887"
             ],
             [
              0.1111111111111111,
              "#46039f"
             ],
             [
              0.2222222222222222,
              "#7201a8"
             ],
             [
              0.3333333333333333,
              "#9c179e"
             ],
             [
              0.4444444444444444,
              "#bd3786"
             ],
             [
              0.5555555555555556,
              "#d8576b"
             ],
             [
              0.6666666666666666,
              "#ed7953"
             ],
             [
              0.7777777777777778,
              "#fb9f3a"
             ],
             [
              0.8888888888888888,
              "#fdca26"
             ],
             [
              1,
              "#f0f921"
             ]
            ],
            "type": "heatmap"
           }
          ],
          "histogram": [
           {
            "marker": {
             "pattern": {
              "fillmode": "overlay",
              "size": 10,
              "solidity": 0.2
             }
            },
            "type": "histogram"
           }
          ],
          "histogram2d": [
           {
            "colorbar": {
             "outlinewidth": 0,
             "ticks": ""
            },
            "colorscale": [
             [
              0,
              "#0d0887"
             ],
             [
              0.1111111111111111,
              "#46039f"
             ],
             [
              0.2222222222222222,
              "#7201a8"
             ],
             [
              0.3333333333333333,
              "#9c179e"
             ],
             [
              0.4444444444444444,
              "#bd3786"
             ],
             [
              0.5555555555555556,
              "#d8576b"
             ],
             [
              0.6666666666666666,
              "#ed7953"
             ],
             [
              0.7777777777777778,
              "#fb9f3a"
             ],
             [
              0.8888888888888888,
              "#fdca26"
             ],
             [
              1,
              "#f0f921"
             ]
            ],
            "type": "histogram2d"
           }
          ],
          "histogram2dcontour": [
           {
            "colorbar": {
             "outlinewidth": 0,
             "ticks": ""
            },
            "colorscale": [
             [
              0,
              "#0d0887"
             ],
             [
              0.1111111111111111,
              "#46039f"
             ],
             [
              0.2222222222222222,
              "#7201a8"
             ],
             [
              0.3333333333333333,
              "#9c179e"
             ],
             [
              0.4444444444444444,
              "#bd3786"
             ],
             [
              0.5555555555555556,
              "#d8576b"
             ],
             [
              0.6666666666666666,
              "#ed7953"
             ],
             [
              0.7777777777777778,
              "#fb9f3a"
             ],
             [
              0.8888888888888888,
              "#fdca26"
             ],
             [
              1,
              "#f0f921"
             ]
            ],
            "type": "histogram2dcontour"
           }
          ],
          "mesh3d": [
           {
            "colorbar": {
             "outlinewidth": 0,
             "ticks": ""
            },
            "type": "mesh3d"
           }
          ],
          "parcoords": [
           {
            "line": {
             "colorbar": {
              "outlinewidth": 0,
              "ticks": ""
             }
            },
            "type": "parcoords"
           }
          ],
          "pie": [
           {
            "automargin": true,
            "type": "pie"
           }
          ],
          "scatter": [
           {
            "fillpattern": {
             "fillmode": "overlay",
             "size": 10,
             "solidity": 0.2
            },
            "type": "scatter"
           }
          ],
          "scatter3d": [
           {
            "line": {
             "colorbar": {
              "outlinewidth": 0,
              "ticks": ""
             }
            },
            "marker": {
             "colorbar": {
              "outlinewidth": 0,
              "ticks": ""
             }
            },
            "type": "scatter3d"
           }
          ],
          "scattercarpet": [
           {
            "marker": {
             "colorbar": {
              "outlinewidth": 0,
              "ticks": ""
             }
            },
            "type": "scattercarpet"
           }
          ],
          "scattergeo": [
           {
            "marker": {
             "colorbar": {
              "outlinewidth": 0,
              "ticks": ""
             }
            },
            "type": "scattergeo"
           }
          ],
          "scattergl": [
           {
            "marker": {
             "colorbar": {
              "outlinewidth": 0,
              "ticks": ""
             }
            },
            "type": "scattergl"
           }
          ],
          "scattermap": [
           {
            "marker": {
             "colorbar": {
              "outlinewidth": 0,
              "ticks": ""
             }
            },
            "type": "scattermap"
           }
          ],
          "scattermapbox": [
           {
            "marker": {
             "colorbar": {
              "outlinewidth": 0,
              "ticks": ""
             }
            },
            "type": "scattermapbox"
           }
          ],
          "scatterpolar": [
           {
            "marker": {
             "colorbar": {
              "outlinewidth": 0,
              "ticks": ""
             }
            },
            "type": "scatterpolar"
           }
          ],
          "scatterpolargl": [
           {
            "marker": {
             "colorbar": {
              "outlinewidth": 0,
              "ticks": ""
             }
            },
            "type": "scatterpolargl"
           }
          ],
          "scatterternary": [
           {
            "marker": {
             "colorbar": {
              "outlinewidth": 0,
              "ticks": ""
             }
            },
            "type": "scatterternary"
           }
          ],
          "surface": [
           {
            "colorbar": {
             "outlinewidth": 0,
             "ticks": ""
            },
            "colorscale": [
             [
              0,
              "#0d0887"
             ],
             [
              0.1111111111111111,
              "#46039f"
             ],
             [
              0.2222222222222222,
              "#7201a8"
             ],
             [
              0.3333333333333333,
              "#9c179e"
             ],
             [
              0.4444444444444444,
              "#bd3786"
             ],
             [
              0.5555555555555556,
              "#d8576b"
             ],
             [
              0.6666666666666666,
              "#ed7953"
             ],
             [
              0.7777777777777778,
              "#fb9f3a"
             ],
             [
              0.8888888888888888,
              "#fdca26"
             ],
             [
              1,
              "#f0f921"
             ]
            ],
            "type": "surface"
           }
          ],
          "table": [
           {
            "cells": {
             "fill": {
              "color": "#EBF0F8"
             },
             "line": {
              "color": "white"
             }
            },
            "header": {
             "fill": {
              "color": "#C8D4E3"
             },
             "line": {
              "color": "white"
             }
            },
            "type": "table"
           }
          ]
         },
         "layout": {
          "annotationdefaults": {
           "arrowcolor": "#2a3f5f",
           "arrowhead": 0,
           "arrowwidth": 1
          },
          "autotypenumbers": "strict",
          "coloraxis": {
           "colorbar": {
            "outlinewidth": 0,
            "ticks": ""
           }
          },
          "colorscale": {
           "diverging": [
            [
             0,
             "#8e0152"
            ],
            [
             0.1,
             "#c51b7d"
            ],
            [
             0.2,
             "#de77ae"
            ],
            [
             0.3,
             "#f1b6da"
            ],
            [
             0.4,
             "#fde0ef"
            ],
            [
             0.5,
             "#f7f7f7"
            ],
            [
             0.6,
             "#e6f5d0"
            ],
            [
             0.7,
             "#b8e186"
            ],
            [
             0.8,
             "#7fbc41"
            ],
            [
             0.9,
             "#4d9221"
            ],
            [
             1,
             "#276419"
            ]
           ],
           "sequential": [
            [
             0,
             "#0d0887"
            ],
            [
             0.1111111111111111,
             "#46039f"
            ],
            [
             0.2222222222222222,
             "#7201a8"
            ],
            [
             0.3333333333333333,
             "#9c179e"
            ],
            [
             0.4444444444444444,
             "#bd3786"
            ],
            [
             0.5555555555555556,
             "#d8576b"
            ],
            [
             0.6666666666666666,
             "#ed7953"
            ],
            [
             0.7777777777777778,
             "#fb9f3a"
            ],
            [
             0.8888888888888888,
             "#fdca26"
            ],
            [
             1,
             "#f0f921"
            ]
           ],
           "sequentialminus": [
            [
             0,
             "#0d0887"
            ],
            [
             0.1111111111111111,
             "#46039f"
            ],
            [
             0.2222222222222222,
             "#7201a8"
            ],
            [
             0.3333333333333333,
             "#9c179e"
            ],
            [
             0.4444444444444444,
             "#bd3786"
            ],
            [
             0.5555555555555556,
             "#d8576b"
            ],
            [
             0.6666666666666666,
             "#ed7953"
            ],
            [
             0.7777777777777778,
             "#fb9f3a"
            ],
            [
             0.8888888888888888,
             "#fdca26"
            ],
            [
             1,
             "#f0f921"
            ]
           ]
          },
          "colorway": [
           "#636efa",
           "#EF553B",
           "#00cc96",
           "#ab63fa",
           "#FFA15A",
           "#19d3f3",
           "#FF6692",
           "#B6E880",
           "#FF97FF",
           "#FECB52"
          ],
          "font": {
           "color": "#2a3f5f"
          },
          "geo": {
           "bgcolor": "white",
           "lakecolor": "white",
           "landcolor": "#E5ECF6",
           "showlakes": true,
           "showland": true,
           "subunitcolor": "white"
          },
          "hoverlabel": {
           "align": "left"
          },
          "hovermode": "closest",
          "mapbox": {
           "style": "light"
          },
          "paper_bgcolor": "white",
          "plot_bgcolor": "#E5ECF6",
          "polar": {
           "angularaxis": {
            "gridcolor": "white",
            "linecolor": "white",
            "ticks": ""
           },
           "bgcolor": "#E5ECF6",
           "radialaxis": {
            "gridcolor": "white",
            "linecolor": "white",
            "ticks": ""
           }
          },
          "scene": {
           "xaxis": {
            "backgroundcolor": "#E5ECF6",
            "gridcolor": "white",
            "gridwidth": 2,
            "linecolor": "white",
            "showbackground": true,
            "ticks": "",
            "zerolinecolor": "white"
           },
           "yaxis": {
            "backgroundcolor": "#E5ECF6",
            "gridcolor": "white",
            "gridwidth": 2,
            "linecolor": "white",
            "showbackground": true,
            "ticks": "",
            "zerolinecolor": "white"
           },
           "zaxis": {
            "backgroundcolor": "#E5ECF6",
            "gridcolor": "white",
            "gridwidth": 2,
            "linecolor": "white",
            "showbackground": true,
            "ticks": "",
            "zerolinecolor": "white"
           }
          },
          "shapedefaults": {
           "line": {
            "color": "#2a3f5f"
           }
          },
          "ternary": {
           "aaxis": {
            "gridcolor": "white",
            "linecolor": "white",
            "ticks": ""
           },
           "baxis": {
            "gridcolor": "white",
            "linecolor": "white",
            "ticks": ""
           },
           "bgcolor": "#E5ECF6",
           "caxis": {
            "gridcolor": "white",
            "linecolor": "white",
            "ticks": ""
           }
          },
          "title": {
           "x": 0.05
          },
          "xaxis": {
           "automargin": true,
           "gridcolor": "white",
           "linecolor": "white",
           "ticks": "",
           "title": {
            "standoff": 15
           },
           "zerolinecolor": "white",
           "zerolinewidth": 2
          },
          "yaxis": {
           "automargin": true,
           "gridcolor": "white",
           "linecolor": "white",
           "ticks": "",
           "title": {
            "standoff": 15
           },
           "zerolinecolor": "white",
           "zerolinewidth": 2
          }
         }
        },
        "xaxis": {
         "anchor": "y",
         "domain": [
          0,
          1
         ]
        },
        "yaxis": {
         "anchor": "x",
         "domain": [
          0,
          1
         ]
        }
       }
      }
     },
     "metadata": {},
     "output_type": "display_data"
    }
   ],
   "source": [
    "Start = 0\n",
    "End = 1\n",
    "Steps = 1000\n",
    "\n",
    "\n",
    "fig = px.line()\n",
    "xrange = np.linspace(Start, End, Steps)\n",
    "A = getDifferentiateMatrix(Steps)\n",
    "B = getDifferentiateRightSide(Steps)\n",
    "diffSolution = TridiagonalSolve(A, B)\n",
    "# diffSolution = Gauss(A, B)\n",
    "print(diffSolution[-1])\n",
    "for i in [3, 5, 6, 7, 8]:\n",
    "    sol = GalerkinSolve(i)\n",
    "    fig.add_scatter(x=xrange, y=sol(xrange), name=f\"n = {i}\")\n",
    "fig.add_scatter(x=xrange, y=diffSolution, name=\"Differentiation\")\n",
    "fig.show()\n"
   ]
  },
  {
   "cell_type": "markdown",
   "metadata": {},
   "source": [
    "# Задание 2"
   ]
  },
  {
   "cell_type": "markdown",
   "metadata": {},
   "source": [
    "## Из лабы 2\n"
   ]
  },
  {
   "cell_type": "code",
   "execution_count": 69,
   "metadata": {},
   "outputs": [],
   "source": [
    "from decimal import Decimal, getcontext\n",
    "\n",
    "c = Decimal('3') * Decimal('1e10')\n",
    "R = Decimal('0.35')\n",
    "\n",
    "def T_z(z):\n",
    "    z = Decimal(str(z))\n",
    "    Tw = Decimal('2000')\n",
    "    To = Decimal('1e4')\n",
    "    p = Decimal('4')\n",
    "    return (Tw - To) * (z ** p) + To\n",
    "\n",
    "def up_z(z):\n",
    "    z = Decimal(str(z))\n",
    "    const1 = Decimal('3.084E-4')\n",
    "    const2 = Decimal('4.799E4')\n",
    "    T = T_z(z)\n",
    "    denominator = (const2 / T).exp() - Decimal('1')\n",
    "    return const1 / denominator\n",
    "\n",
    "\n",
    "def read_data_kT(variant=2):\n",
    "    data_tab = []\n",
    "    with open('data/kT.txt') as file:\n",
    "        for line in file:\n",
    "            if line.strip():\n",
    "                parts = line.split()\n",
    "                T = Decimal(parts[1])\n",
    "                k_val = Decimal(parts[2] if variant == 1 else parts[3]) # / Decimal(2)\n",
    "                data_tab.append([T, k_val])\n",
    "    return data_tab\n",
    "\n",
    "def linear_interpolation(x, x_values, y_values):\n",
    "    for i in range(len(x_values)-1):\n",
    "        if x_values[i] <= x <= x_values[i+1]:\n",
    "            return y_values[i] + (y_values[i+1] - y_values[i]) * (x - x_values[i]) / (x_values[i+1] - x_values[i])\n",
    "    # Экстраполяция если x за границами\n",
    "    if x < x_values[0]:\n",
    "        return y_values[0]\n",
    "    return y_values[-1]\n",
    "\n",
    "def getk_zFunc(variantkT):\n",
    "    data_kT = read_data_kT(variantkT)\n",
    "    log_T = [d[0].ln() for d in data_kT]\n",
    "    log_k = [d[1].ln() for d in data_kT]\n",
    "    \n",
    "    def k_z(z):\n",
    "        T_dec = Decimal(T_z(z))\n",
    "        x = T_dec.ln()\n",
    "        interp_log_k = linear_interpolation(x, log_T, log_k)\n",
    "        return interp_log_k.exp()\n",
    "    \n",
    "    return k_z\n",
    "# Установка точности вычислений\n",
    "getcontext().prec = 50\n",
    "EPS = Decimal('1e-37')  # Decimal('1e-37')\n",
    "\n",
    "z0 = Decimal('0')\n",
    "F0 = Decimal('0')\n",
    "zTarget = Decimal('1')\n",
    "def get_y0(khi):\n",
    "    khi = Decimal(str(khi))\n",
    "    return khi * up_z(z0)\n",
    "\n",
    "def du(zi, ui, Fi, k_z):\n",
    "    zi = Decimal(str(zi))\n",
    "    ui = Decimal(str(ui))\n",
    "    Fi = Decimal(str(Fi))\n",
    "    k_val = k_z(zi)\n",
    "    # return -Decimal('3') * k_val * Fi / c\n",
    "    return - Fi * R * k_val\n",
    "\n",
    "def dF(zi, ui, Fi, k_z):\n",
    "    zi = Decimal(str(zi))\n",
    "    ui = Decimal(str(ui))\n",
    "    Fi = Decimal(str(Fi))\n",
    "    k_val = k_z(zi)\n",
    "    up = up_z(zi)\n",
    "    \n",
    "    if zi == Decimal('0') and Fi == Decimal('0'):\n",
    "        return Decimal('0.5') * Decimal('3') * R * k_val * (up - ui)\n",
    "    return -Fi / zi + Decimal('3') * R * k_val * (up - ui)\n",
    "\n",
    "# Методы Рунге-Кутта\n",
    "def RungeKutta4Step(duFunc, dFFunc, zi, ui, Fi, h, k_z):\n",
    "    h = Decimal(str(h))\n",
    "    zi = Decimal(str(zi))\n",
    "    ui = Decimal(str(ui))\n",
    "    Fi = Decimal(str(Fi))\n",
    "    \n",
    "    k1 = duFunc(zi, ui, Fi, k_z)\n",
    "    q1 = dFFunc(zi, ui, Fi, k_z)\n",
    "    \n",
    "    h2 = h / Decimal('2')\n",
    "    k2 = duFunc(zi + h2, ui + h2 * k1, Fi + h2 * q1, k_z)\n",
    "    q2 = dFFunc(zi + h2, ui + h2 * k1, Fi + h2 * q1, k_z)\n",
    "    \n",
    "    k3 = duFunc(zi + h2, ui + h2 * k2, Fi + h2 * q2, k_z)\n",
    "    q3 = dFFunc(zi + h2, ui + h2 * k2, Fi + h2 * q2, k_z)\n",
    "    \n",
    "    k4 = duFunc(zi + h, ui + h * k3, Fi + h * q3, k_z)\n",
    "    q4 = dFFunc(zi + h, ui + h * k3, Fi + h * q3, k_z)\n",
    "    \n",
    "    yip1 = ui + (h/Decimal('6')) * (k1 + Decimal('2')*k2 + Decimal('2')*k3 + k4)\n",
    "    zip1 = Fi + (h/Decimal('6')) * (q1 + Decimal('2')*q2 + Decimal('2')*q3 + q4)\n",
    "    \n",
    "    # if yip1 < 0:\n",
    "    #     print(f\"RK4step: yip1={float(yip1)}, k1={float(k1)} k2={float(k2)} k3={float(k3)} k4={float(k4)}, ri={float(ri)}, ui={float(ui)}, Fi={float(Fi)}\")\n",
    "    \n",
    "    return yip1, zip1\n",
    "\n",
    "def RungeKutta4(duFunc, dFFunc, z0, y0, F0, h, zTarget, k_z):\n",
    "    z0 = Decimal(str(z0))\n",
    "    y0 = Decimal(str(y0))\n",
    "    z0 = Decimal(str(z0))\n",
    "    h = Decimal(str(h))\n",
    "    zTarget = Decimal(str(zTarget))\n",
    "    \n",
    "    zvals = [z0]\n",
    "    yvals = [y0]\n",
    "    Fvals = [F0]\n",
    "    \n",
    "    while zvals[-1] < zTarget:\n",
    "        ri = zvals[-1] + h\n",
    "        yi, Fi = RungeKutta4Step(duFunc, dFFunc, zvals[-1], yvals[-1], Fvals[-1], h, k_z)\n",
    "        zvals.append(ri)\n",
    "        yvals.append(yi)\n",
    "        Fvals.append(Fi)\n",
    "    \n",
    "    return zvals, yvals, Fvals\n",
    "\n",
    "# Метод стрельбы и половинного деления\n",
    "def solutionShooting(khi, RungeKuttaFunc, h_start, k_z):\n",
    "    khi = Decimal(str(khi))\n",
    "    h = Decimal(str(h_start))\n",
    "    y0 = get_y0(khi)\n",
    "    \n",
    "    res_h = RungeKuttaFunc(du, dF, z0, y0, F0, h, zTarget, k_z)\n",
    "    return (res_h[1][-1], res_h[2][-1]), h\n",
    "\n",
    "def equationTarget(uR, FR):\n",
    "    uR = Decimal(str(uR))\n",
    "    FR = Decimal(str(FR))\n",
    "    return FR - Decimal('3') * Decimal('0.39') * uR\n",
    "\n",
    "def sign(val):\n",
    "    if abs(val) < EPS:\n",
    "        return 0\n",
    "    elif val < 0:\n",
    "        return -1\n",
    "    return 1\n",
    "\n",
    "def HalfDivMethod(RungeKuttaFunc, h_start, k_z):\n",
    "    h = Decimal(str(h_start))\n",
    "    khi_l, khi_r = Decimal('0'), Decimal('1')\n",
    "    \n",
    "    res_l, h = solutionShooting(khi_l, RungeKuttaFunc, h, k_z)\n",
    "    res_r, h = solutionShooting(khi_r, RungeKuttaFunc, h, k_z)\n",
    "    sign_l, sign_r = sign(equationTarget(*res_l)), sign(equationTarget(*res_r))\n",
    "\n",
    "    while abs((khi_r - khi_l) / khi_r) >= EPS:    #  sign_l != sign_r:\n",
    "        khi_mid = (khi_l + khi_r) / Decimal('2')\n",
    "        res_mid, h = solutionShooting(khi_mid, RungeKuttaFunc, h, k_z)\n",
    "        print(f\"khim = {khi_mid}, abs={abs((khi_r - khi_l) / khi_r)}, sign_l={sign_l}, khi_r= {khi_r}, yR = {res_mid[0]}, FR = {res_mid[1]} h = {h}\")\n",
    "        # sign_mid = sign(equationTarget(*res_mid))\n",
    "        sign_mid = sign(equationTarget(*res_mid) * equationTarget(*res_l))\n",
    "\n",
    "        if sign_mid == 0:\n",
    "            return khi_mid, h\n",
    "        elif sign_mid == sign_l:\n",
    "            khi_l = khi_mid\n",
    "            res_l = res_mid[:]\n",
    "        else:\n",
    "            khi_r = khi_mid\n",
    "            res_r = res_mid[:]\n",
    "    \n",
    "    return khi_mid, h\n",
    "\n",
    "# # Запуск расчета\n",
    "# k_z = getk_zFunc(variantkT=2)\n",
    "# h_st = Decimal('0.001')\n",
    "# khi_solution, h_solution = HalfDivMethod(RungeKutta4, h_st, k_z)\n",
    "# print(f\"Решение: khi = {khi_solution}, h = {h_solution}\")\n",
    "\n",
    "# var 2\n",
    "khi_solution = Decimal('0.9999988534766292698348550258036927915402001495983')\n",
    "h_solution = Decimal('0.001')\n",
    "k_z = getk_zFunc(variantkT=2)\n",
    "\n",
    "# var 1\n",
    "# khi_solution = Decimal('0.1537611456568583889747969806194305419922') \n",
    "# h_solution = Decimal('0.001')\n",
    "# k_z = getk_zFunc(variantkT=1)"
   ]
  },
  {
   "cell_type": "code",
   "execution_count": 70,
   "metadata": {},
   "outputs": [
    {
     "name": "stdout",
     "output_type": "stream",
     "text": [
      "khi = 0.9999988534766292698348550258036927915402001495983, h = 0.001\n",
      "1001\n"
     ]
    },
    {
     "data": {
      "application/vnd.plotly.v1+json": {
       "config": {
        "plotlyServerURL": "https://plot.ly"
       },
       "data": [
        {
         "hovertemplate": "<extra></extra>",
         "legendgroup": "",
         "line": {
          "color": "#636efa",
          "dash": "solid"
         },
         "marker": {
          "symbol": "circle"
         },
         "mode": "lines",
         "name": "",
         "orientation": "v",
         "showlegend": false,
         "type": "scatter",
         "xaxis": "x",
         "yaxis": "y"
        },
        {
         "name": "u(z)",
         "type": "scatter",
         "x": [
          0,
          0.001,
          0.002,
          0.003,
          0.004,
          0.005,
          0.006,
          0.007,
          0.008,
          0.009,
          0.01,
          0.011,
          0.012,
          0.013,
          0.014,
          0.015,
          0.016,
          0.017,
          0.018,
          0.019,
          0.02,
          0.021,
          0.022,
          0.023,
          0.024,
          0.025,
          0.026,
          0.027,
          0.028,
          0.029,
          0.03,
          0.031,
          0.032,
          0.033,
          0.034,
          0.035,
          0.036,
          0.037,
          0.038,
          0.039,
          0.04,
          0.041,
          0.042,
          0.043,
          0.044,
          0.045,
          0.046,
          0.047,
          0.048,
          0.049,
          0.05,
          0.051,
          0.052,
          0.053,
          0.054,
          0.055,
          0.056,
          0.057,
          0.058,
          0.059,
          0.06,
          0.061,
          0.062,
          0.063,
          0.064,
          0.065,
          0.066,
          0.067,
          0.068,
          0.069,
          0.07,
          0.071,
          0.072,
          0.073,
          0.074,
          0.075,
          0.076,
          0.077,
          0.078,
          0.079,
          0.08,
          0.081,
          0.082,
          0.083,
          0.084,
          0.085,
          0.086,
          0.087,
          0.088,
          0.089,
          0.09,
          0.091,
          0.092,
          0.093,
          0.094,
          0.095,
          0.096,
          0.097,
          0.098,
          0.099,
          0.1,
          0.101,
          0.102,
          0.103,
          0.104,
          0.105,
          0.106,
          0.107,
          0.108,
          0.109,
          0.11,
          0.111,
          0.112,
          0.113,
          0.114,
          0.115,
          0.116,
          0.117,
          0.118,
          0.119,
          0.12,
          0.121,
          0.122,
          0.123,
          0.124,
          0.125,
          0.126,
          0.127,
          0.128,
          0.129,
          0.13,
          0.131,
          0.132,
          0.133,
          0.134,
          0.135,
          0.136,
          0.137,
          0.138,
          0.139,
          0.14,
          0.141,
          0.142,
          0.143,
          0.144,
          0.145,
          0.146,
          0.147,
          0.148,
          0.149,
          0.15,
          0.151,
          0.152,
          0.153,
          0.154,
          0.155,
          0.156,
          0.157,
          0.158,
          0.159,
          0.16,
          0.161,
          0.162,
          0.163,
          0.164,
          0.165,
          0.166,
          0.167,
          0.168,
          0.169,
          0.17,
          0.171,
          0.172,
          0.173,
          0.174,
          0.175,
          0.176,
          0.177,
          0.178,
          0.179,
          0.18,
          0.181,
          0.182,
          0.183,
          0.184,
          0.185,
          0.186,
          0.187,
          0.188,
          0.189,
          0.19,
          0.191,
          0.192,
          0.193,
          0.194,
          0.195,
          0.196,
          0.197,
          0.198,
          0.199,
          0.2,
          0.201,
          0.202,
          0.203,
          0.204,
          0.205,
          0.206,
          0.207,
          0.208,
          0.209,
          0.21,
          0.211,
          0.212,
          0.213,
          0.214,
          0.215,
          0.216,
          0.217,
          0.218,
          0.219,
          0.22,
          0.221,
          0.222,
          0.223,
          0.224,
          0.225,
          0.226,
          0.227,
          0.228,
          0.229,
          0.23,
          0.231,
          0.232,
          0.233,
          0.234,
          0.235,
          0.236,
          0.237,
          0.238,
          0.239,
          0.24,
          0.241,
          0.242,
          0.243,
          0.244,
          0.245,
          0.246,
          0.247,
          0.248,
          0.249,
          0.25,
          0.251,
          0.252,
          0.253,
          0.254,
          0.255,
          0.256,
          0.257,
          0.258,
          0.259,
          0.26,
          0.261,
          0.262,
          0.263,
          0.264,
          0.265,
          0.266,
          0.267,
          0.268,
          0.269,
          0.27,
          0.271,
          0.272,
          0.273,
          0.274,
          0.275,
          0.276,
          0.277,
          0.278,
          0.279,
          0.28,
          0.281,
          0.282,
          0.283,
          0.284,
          0.285,
          0.286,
          0.287,
          0.288,
          0.289,
          0.29,
          0.291,
          0.292,
          0.293,
          0.294,
          0.295,
          0.296,
          0.297,
          0.298,
          0.299,
          0.3,
          0.301,
          0.302,
          0.303,
          0.304,
          0.305,
          0.306,
          0.307,
          0.308,
          0.309,
          0.31,
          0.311,
          0.312,
          0.313,
          0.314,
          0.315,
          0.316,
          0.317,
          0.318,
          0.319,
          0.32,
          0.321,
          0.322,
          0.323,
          0.324,
          0.325,
          0.326,
          0.327,
          0.328,
          0.329,
          0.33,
          0.331,
          0.332,
          0.333,
          0.334,
          0.335,
          0.336,
          0.337,
          0.338,
          0.339,
          0.34,
          0.341,
          0.342,
          0.343,
          0.344,
          0.345,
          0.346,
          0.347,
          0.348,
          0.349,
          0.35,
          0.351,
          0.352,
          0.353,
          0.354,
          0.355,
          0.356,
          0.357,
          0.358,
          0.359,
          0.36,
          0.361,
          0.362,
          0.363,
          0.364,
          0.365,
          0.366,
          0.367,
          0.368,
          0.369,
          0.37,
          0.371,
          0.372,
          0.373,
          0.374,
          0.375,
          0.376,
          0.377,
          0.378,
          0.379,
          0.38,
          0.381,
          0.382,
          0.383,
          0.384,
          0.385,
          0.386,
          0.387,
          0.388,
          0.389,
          0.39,
          0.391,
          0.392,
          0.393,
          0.394,
          0.395,
          0.396,
          0.397,
          0.398,
          0.399,
          0.4,
          0.401,
          0.402,
          0.403,
          0.404,
          0.405,
          0.406,
          0.407,
          0.408,
          0.409,
          0.41,
          0.411,
          0.412,
          0.413,
          0.414,
          0.415,
          0.416,
          0.417,
          0.418,
          0.419,
          0.42,
          0.421,
          0.422,
          0.423,
          0.424,
          0.425,
          0.426,
          0.427,
          0.428,
          0.429,
          0.43,
          0.431,
          0.432,
          0.433,
          0.434,
          0.435,
          0.436,
          0.437,
          0.438,
          0.439,
          0.44,
          0.441,
          0.442,
          0.443,
          0.444,
          0.445,
          0.446,
          0.447,
          0.448,
          0.449,
          0.45,
          0.451,
          0.452,
          0.453,
          0.454,
          0.455,
          0.456,
          0.457,
          0.458,
          0.459,
          0.46,
          0.461,
          0.462,
          0.463,
          0.464,
          0.465,
          0.466,
          0.467,
          0.468,
          0.469,
          0.47,
          0.471,
          0.472,
          0.473,
          0.474,
          0.475,
          0.476,
          0.477,
          0.478,
          0.479,
          0.48,
          0.481,
          0.482,
          0.483,
          0.484,
          0.485,
          0.486,
          0.487,
          0.488,
          0.489,
          0.49,
          0.491,
          0.492,
          0.493,
          0.494,
          0.495,
          0.496,
          0.497,
          0.498,
          0.499,
          0.5,
          0.501,
          0.502,
          0.503,
          0.504,
          0.505,
          0.506,
          0.507,
          0.508,
          0.509,
          0.51,
          0.511,
          0.512,
          0.513,
          0.514,
          0.515,
          0.516,
          0.517,
          0.518,
          0.519,
          0.52,
          0.521,
          0.522,
          0.523,
          0.524,
          0.525,
          0.526,
          0.527,
          0.528,
          0.529,
          0.53,
          0.531,
          0.532,
          0.533,
          0.534,
          0.535,
          0.536,
          0.537,
          0.538,
          0.539,
          0.54,
          0.541,
          0.542,
          0.543,
          0.544,
          0.545,
          0.546,
          0.547,
          0.548,
          0.549,
          0.55,
          0.551,
          0.552,
          0.553,
          0.554,
          0.555,
          0.556,
          0.557,
          0.558,
          0.559,
          0.56,
          0.561,
          0.562,
          0.563,
          0.564,
          0.565,
          0.566,
          0.567,
          0.568,
          0.569,
          0.57,
          0.571,
          0.572,
          0.573,
          0.574,
          0.575,
          0.576,
          0.577,
          0.578,
          0.579,
          0.58,
          0.581,
          0.582,
          0.583,
          0.584,
          0.585,
          0.586,
          0.587,
          0.588,
          0.589,
          0.59,
          0.591,
          0.592,
          0.593,
          0.594,
          0.595,
          0.596,
          0.597,
          0.598,
          0.599,
          0.6,
          0.601,
          0.602,
          0.603,
          0.604,
          0.605,
          0.606,
          0.607,
          0.608,
          0.609,
          0.61,
          0.611,
          0.612,
          0.613,
          0.614,
          0.615,
          0.616,
          0.617,
          0.618,
          0.619,
          0.62,
          0.621,
          0.622,
          0.623,
          0.624,
          0.625,
          0.626,
          0.627,
          0.628,
          0.629,
          0.63,
          0.631,
          0.632,
          0.633,
          0.634,
          0.635,
          0.636,
          0.637,
          0.638,
          0.639,
          0.64,
          0.641,
          0.642,
          0.643,
          0.644,
          0.645,
          0.646,
          0.647,
          0.648,
          0.649,
          0.65,
          0.651,
          0.652,
          0.653,
          0.654,
          0.655,
          0.656,
          0.657,
          0.658,
          0.659,
          0.66,
          0.661,
          0.662,
          0.663,
          0.664,
          0.665,
          0.666,
          0.667,
          0.668,
          0.669,
          0.67,
          0.671,
          0.672,
          0.673,
          0.674,
          0.675,
          0.676,
          0.677,
          0.678,
          0.679,
          0.68,
          0.681,
          0.682,
          0.683,
          0.684,
          0.685,
          0.686,
          0.687,
          0.688,
          0.689,
          0.69,
          0.691,
          0.692,
          0.693,
          0.694,
          0.695,
          0.696,
          0.697,
          0.698,
          0.699,
          0.7,
          0.701,
          0.702,
          0.703,
          0.704,
          0.705,
          0.706,
          0.707,
          0.708,
          0.709,
          0.71,
          0.711,
          0.712,
          0.713,
          0.714,
          0.715,
          0.716,
          0.717,
          0.718,
          0.719,
          0.72,
          0.721,
          0.722,
          0.723,
          0.724,
          0.725,
          0.726,
          0.727,
          0.728,
          0.729,
          0.73,
          0.731,
          0.732,
          0.733,
          0.734,
          0.735,
          0.736,
          0.737,
          0.738,
          0.739,
          0.74,
          0.741,
          0.742,
          0.743,
          0.744,
          0.745,
          0.746,
          0.747,
          0.748,
          0.749,
          0.75,
          0.751,
          0.752,
          0.753,
          0.754,
          0.755,
          0.756,
          0.757,
          0.758,
          0.759,
          0.76,
          0.761,
          0.762,
          0.763,
          0.764,
          0.765,
          0.766,
          0.767,
          0.768,
          0.769,
          0.77,
          0.771,
          0.772,
          0.773,
          0.774,
          0.775,
          0.776,
          0.777,
          0.778,
          0.779,
          0.78,
          0.781,
          0.782,
          0.783,
          0.784,
          0.785,
          0.786,
          0.787,
          0.788,
          0.789,
          0.79,
          0.791,
          0.792,
          0.793,
          0.794,
          0.795,
          0.796,
          0.797,
          0.798,
          0.799,
          0.8,
          0.801,
          0.802,
          0.803,
          0.804,
          0.805,
          0.806,
          0.807,
          0.808,
          0.809,
          0.81,
          0.811,
          0.812,
          0.813,
          0.814,
          0.815,
          0.816,
          0.817,
          0.818,
          0.819,
          0.82,
          0.821,
          0.822,
          0.823,
          0.824,
          0.825,
          0.826,
          0.827,
          0.828,
          0.829,
          0.83,
          0.831,
          0.832,
          0.833,
          0.834,
          0.835,
          0.836,
          0.837,
          0.838,
          0.839,
          0.84,
          0.841,
          0.842,
          0.843,
          0.844,
          0.845,
          0.846,
          0.847,
          0.848,
          0.849,
          0.85,
          0.851,
          0.852,
          0.853,
          0.854,
          0.855,
          0.856,
          0.857,
          0.858,
          0.859,
          0.86,
          0.861,
          0.862,
          0.863,
          0.864,
          0.865,
          0.866,
          0.867,
          0.868,
          0.869,
          0.87,
          0.871,
          0.872,
          0.873,
          0.874,
          0.875,
          0.876,
          0.877,
          0.878,
          0.879,
          0.88,
          0.881,
          0.882,
          0.883,
          0.884,
          0.885,
          0.886,
          0.887,
          0.888,
          0.889,
          0.89,
          0.891,
          0.892,
          0.893,
          0.894,
          0.895,
          0.896,
          0.897,
          0.898,
          0.899,
          0.9,
          0.901,
          0.902,
          0.903,
          0.904,
          0.905,
          0.906,
          0.907,
          0.908,
          0.909,
          0.91,
          0.911,
          0.912,
          0.913,
          0.914,
          0.915,
          0.916,
          0.917,
          0.918,
          0.919,
          0.92,
          0.921,
          0.922,
          0.923,
          0.924,
          0.925,
          0.926,
          0.927,
          0.928,
          0.929,
          0.93,
          0.931,
          0.932,
          0.933,
          0.934,
          0.935,
          0.936,
          0.937,
          0.938,
          0.939,
          0.94,
          0.941,
          0.942,
          0.943,
          0.944,
          0.945,
          0.946,
          0.947,
          0.948,
          0.949,
          0.95,
          0.951,
          0.952,
          0.953,
          0.954,
          0.955,
          0.956,
          0.957,
          0.958,
          0.959,
          0.96,
          0.961,
          0.962,
          0.963,
          0.964,
          0.965,
          0.966,
          0.967,
          0.968,
          0.969,
          0.97,
          0.971,
          0.972,
          0.973,
          0.974,
          0.975,
          0.976,
          0.977,
          0.978,
          0.979,
          0.98,
          0.981,
          0.982,
          0.983,
          0.984,
          0.985,
          0.986,
          0.987,
          0.988,
          0.989,
          0.99,
          0.991,
          0.992,
          0.993,
          0.994,
          0.995,
          0.996,
          0.997,
          0.998,
          0.999,
          1
         ],
         "y": [
          0.0000025616935833510398,
          0.000002561693572544179,
          0.0000025616935400141508,
          0.000002561693485401211,
          0.00000256169340811019,
          0.0000025616933073080506,
          0.000002561693181923781,
          0.000002561693030648377,
          0.0000025616928519348368,
          0.00000256169264399816,
          0.0000025616924048153467,
          0.000002561692132125396,
          0.0000025616918234293073,
          0.0000025616914759900795,
          0.000002561691086832711,
          0.0000025616906527441984,
          0.0000025616901702735392,
          0.000002561689635731728,
          0.0000025616890451917593,
          0.0000025616883944886266,
          0.000002561687679219322,
          0.0000025616868947428382,
          0.0000025616860361801653,
          0.000002561685098414294,
          0.0000025616840760902147,
          0.0000025616829636149185,
          0.000002561681755157397,
          0.000002561680444648643,
          0.000002561679025781653,
          0.0000025616774920114244,
          0.000002561675836554961,
          0.0000025616740523912706,
          0.0000025616721322613686,
          0.0000025616700686682783,
          0.000002561667853877033,
          0.000002561665479914678,
          0.0000025616629385702742,
          0.0000025616602213948973,
          0.0000025616573197016447,
          0.0000025616542245656337,
          0.0000025616509268240098,
          0.000002561647417075947,
          0.0000025616436856826515,
          0.0000025616397227673687,
          0.000002561635518215386,
          0.000002561631061674037,
          0.00000256162634255271,
          0.00000256162135002285,
          0.0000025616160730179676,
          0.0000025616105002336453,
          0.0000025616046201275445,
          0.0000025615984209194136,
          0.0000025615918905910954,
          0.0000025615850168865373,
          0.0000025615777873117994,
          0.0000025615701891350665,
          0.0000025615622093866563,
          0.0000025615538348590322,
          0.000002561545052106815,
          0.0000025615358474467964,
          0.000002561526206957951,
          0.000002561516116481451,
          0.0000025615055616206817,
          0.0000025614945277412573,
          0.0000025614829999710363,
          0.00000256147096320014,
          0.0000025614584020809713,
          0.000002561445301028233,
          0.000002561431644218948,
          0.0000025614174155924817,
          0.000002561402598850563,
          0.000002561387177457308,
          0.000002561371134639246,
          0.0000025613544533853403,
          0.0000025613371164470207,
          0.000002561319106338207,
          0.0000025613004053353412,
          0.0000025612809954774137,
          0.000002561260858565999,
          0.0000025612399761652857,
          0.0000025612183296021126,
          0.0000025611958999660015,
          0.000002561172668109198,
          0.0000025611486146467066,
          0.0000025611237199563316,
          0.00000256109796417872,
          0.000002561071327217402,
          0.000002561043788738837,
          0.000002561015328172461,
          0.0000025609859247107313,
          0.0000025609555573091795,
          0.000002560924204686461,
          0.000002560891845324408,
          0.0000025608584574680864,
          0.000002560824019125851,
          0.000002560788508069405,
          0.00000256075190183386,
          0.0000025607141777178007,
          0.0000025606753127833485,
          0.000002560635283856228,
          0.0000025605940675258388,
          0.000002560551640145322,
          0.000002560507977831639,
          0.000002560463056465644,
          0.0000025604168516921643,
          0.0000025603693389200786,
          0.0000025603204933224015,
          0.0000025602702898363696,
          0.000002560218703163527,
          0.0000025601657077698194,
          0.000002560111277885683,
          0.0000025600553875061436,
          0.0000025599980103909144,
          0.000002559939120064496,
          0.0000025598786898162826,
          0.0000025598166927006665,
          0.0000025597531015371507,
          0.000002559687888910459,
          0.000002559621027170655,
          0.000002559552488433257,
          0.000002559482244579364,
          0.0000025594102672557795,
          0.0000025593365278751386,
          0.000002559260997616043,
          0.000002559183647423192,
          0.000002559104448007525,
          0.000002559023369846361,
          0.0000025589403831835455,
          0.000002558855458029598,
          0.0000025587685641618674,
          0.0000025586796711246847,
          0.0000025585887482295275,
          0.00000255849576455518,
          0.000002558400688947904,
          0.0000025583034900216077,
          0.0000025582041361580247,
          0.000002558102595506891,
          0.0000025579988359861306,
          0.000002557892825282043,
          0.000002557784530849496,
          0.000002557673919912121,
          0.000002557560959462516,
          0.0000025574456162624487,
          0.000002557327856843069,
          0.0000025572076475051206,
          0.000002557084954319163,
          0.000002556959743125793,
          0.000002556831979535873,
          0.0000025567016289307672,
          0.0000025565686564625766,
          0.0000025564330270543836,
          0.0000025562947054004998,
          0.0000025561536559667194,
          0.0000025560098429905776,
          0.000002555863230481614,
          0.0000025557137822216416,
          0.0000025555614617650215,
          0.0000025554062324389412,
          0.0000025552480573437017,
          0.0000025550868993530064,
          0.0000025549227211142593,
          0.000002554755485048865,
          0.0000025545851533525397,
          0.00000255441168799562,
          0.0000025542350507233893,
          0.0000025540552030563968,
          0.000002553872106290794,
          0.000002553685721498671,
          0.0000025534960095284,
          0.0000025533029310049864,
          0.0000025531064463304268,
          0.0000025529065156840708,
          0.0000025527030990229906,
          0.0000025524961560823597,
          0.000002552285646375834,
          0.000002552071529195942,
          0.0000025518537636144828,
          0.0000025516323084829288,
          0.000002551407122432837,
          0.000002551178163876266,
          0.000002550945391006203,
          0.000002550708761796993,
          0.0000025504682340047817,
          0.00000255022376516796,
          0.0000025499753126076195,
          0.000002549722833428015,
          0.000002549466284517034,
          0.0000025492056225466737,
          0.000002548940803973526,
          0.000002548671785039273,
          0.000002548398521771186,
          0.000002548120969982635,
          0.0000025478390852736075,
          0.0000025475528230312335,
          0.0000025472621384303197,
          0.0000025469669864338916,
          0.000002546667321793746,
          0.000002546363099051009,
          0.0000025460542725367057,
          0.000002545740796372335,
          0.0000025454226244704604,
          0.0000025450997105352994,
          0.0000025447720080633312,
          0.0000025444394703439093,
          0.000002544102050459883,
          0.00000254375970128823,
          0.0000025434123755006966,
          0.00000254306002556445,
          0.0000025427026037427374,
          0.000002542340062095556,
          0.0000025419723524803334,
          0.0000025415994265526163,
          0.000002541221235766772,
          0.000002540837731376696,
          0.0000025404488644365333,
          0.000002540054585801408,
          0.000002539654846128163,
          0.000002539249595876114,
          0.0000025388387853078064,
          0.0000025384223644897925,
          0.0000025380002832934096,
          0.0000025375724913955783,
          0.000002537138938279603,
          0.0000025366995732359917,
          0.000002536254345363279,
          0.000002535803203568868,
          0.0000025353460965698766,
          0.0000025348829728940006,
          0.000002534413780880385,
          0.0000025339384686805094,
          0.0000025334569842590817,
          0.000002532969275394948,
          0.0000025324752896820114,
          0.0000025319749745301636,
          0.000002531468277166229,
          0.000002530955144634922,
          0.000002530435523799812,
          0.0000025299093613443092,
          0.000002529376603772654,
          0.0000025288371974109266,
          0.000002528291088408063,
          0.0000025277382227368893,
          0.000002527178546195166,
          0.000002526612004406645,
          0.000002526038542822142,
          0.0000025254581067206206,
          0.000002524870641210291,
          0.0000025242760912297203,
          0.0000025236744015489594,
          0.0000025230655167706796,
          0.000002522449381331328,
          0.000002521825939502292,
          0.0000025211951353910822,
          0.000002520556912942526,
          0.000002519911215939978,
          0.000002519257988006542,
          0.0000025185971726063115,
          0.0000025179287130456224,
          0.000002517252552474319,
          0.0000025165686338870377,
          0.0000025158769001245058,
          0.000002515177293874851,
          0.0000025144697576749325,
          0.000002513754233911683,
          0.0000025130306648234657,
          0.0000025122989925014518,
          0.000002511559158891007,
          0.0000025108111057930995,
          0.00000251005477486572,
          0.0000025092901076253204,
          0.000002508517045448266,
          0.0000025077355295723077,
          0.0000025069455010980655,
          0.000002506146900990533,
          0.0000025053396700805965,
          0.000002504523749066571,
          0.0000025036990785157525,
          0.0000025028655988659893,
          0.0000025020232504272665,
          0.0000025011719733833126,
          0.00000250031170779322,
          0.000002499442393593083,
          0.000002498563970597655,
          0.0000024976763785020228,
          0.0000024967795568832986,
          0.0000024958734452023285,
          0.0000024949579828054217,
          0.0000024940331089260954,
          0.00000249309876268684,
          0.000002492154883100901,
          0.0000024912014090740814,
          0.0000024902382794065592,
          0.0000024892654327947282,
          0.0000024882828078330547,
          0.0000024872903430159536,
          0.000002486287976739684,
          0.0000024852756473042657,
          0.000002484253292915411,
          0.0000024832208516864805,
          0.000002482178261640455,
          0.0000024811254607119306,
          0.0000024800623867491286,
          0.0000024789889775159325,
          0.000002477905170693938,
          0.0000024768109038845286,
          0.0000024757061146109676,
          0.0000024745907403205146,
          0.0000024734647183865586,
          0.0000024723279861107747,
          0.000002471180480725301,
          0.0000024700221393949346,
          0.000002468852899219354,
          0.0000024676726972353545,
          0.0000024664814704191144,
          0.000002465279155688474,
          0.000002464065689905243,
          0.000002462841009877526,
          0.000002461605052362071,
          0.00000246035775406664,
          0.0000024590990516524004,
          0.000002457828881736342,
          0.000002456547180893713,
          0.0000024552538856604802,
          0.0000024539489325358106,
          0.0000024526322579845784,
          0.0000024513037984398927,
          0.000002449963490305648,
          0.0000024486112699591003,
          0.000002447247073753463,
          0.00000244587083802053,
          0.000002444482499073321,
          0.0000024430819932087476,
          0.000002441669256710308,
          0.000002440244225850803,
          0.0000024388068368950763,
          0.000002437357026102779,
          0.00000243589472973116,
          0.0000024344198840378777,
          0.00000243293242528384,
          0.0000024314322897360664,
          0.000002429919413670576,
          0.0000024283937333753003,
          0.0000024268551851530215,
          0.000002425303705324336,
          0.000002423739230230643,
          0.0000024221616962371564,
          0.0000024205710397359486,
          0.0000024189671971490134,
          0.0000024173501049313582,
          0.0000024157196995741223,
          0.0000024140759176077187,
          0.000002412418695605006,
          0.0000024107479701844844,
          0.0000024090636780135175,
          0.0000024073657558115833,
          0.00000240565414035355,
          0.0000024039287684729804,
          0.0000024021895770654602,
          0.000002400436503091957,
          0.0000023986694835822064,
          0.000002396888455638121,
          0.0000023950933564372344,
          0.0000023932841232361648,
          0.0000023914606933741136,
          0.0000023896230042763872,
          0.0000023877709934579483,
          0.000002385904598526996,
          0.0000023840237571885737,
          0.0000023821284072482055,
          0.0000023802184866155605,
          0.000002378293933308147,
          0.000002376354685455034,
          0.000002374400681300604,
          0.0000023724318592083316,
          0.000002370448157664595,
          0.0000023684495152825132,
          0.0000023664358708058136,
          0.0000023644071631127325,
          0.00000236236333121994,
          0.0000023603043142864973,
          0.0000023582300516178466,
          0.000002356140482669823,
          0.000002354035547052707,
          0.000002351915184535299,
          0.000002349779335049026,
          0.0000023476279386920836,
          0.0000023454609357336005,
          0.000002343278266617842,
          0.000002341079871968437,
          0.000002338865692592641,
          0.0000023366356694856276,
          0.000002334389743834813,
          0.000002332127857024209,
          0.0000023298499506388096,
          0.00000232755596646901,
          0.0000023252458465150535,
          0.000002322919532991513,
          0.000002320576968331804,
          0.000002318218095192729,
          0.000002315842856459052,
          0.00000231345119524811,
          0.0000023110430549144526,
          0.000002308618379054513,
          0.0000023061771115113167,
          0.0000023037191963792173,
          0.000002301244578008667,
          0.000002298753201011022,
          0.0000022962450102633745,
          0.0000022937199509134263,
          0.000002291177968384387,
          0.00000228861900837991,
          0.0000022860430168890623,
          0.000002283449940191323,
          0.00000228083972486162,
          0.0000022782123177753974,
          0.0000022755676661137172,
          0.000002272905717368394,
          0.000002270226419347164,
          0.00000226752972017889,
          0.0000022648155683187928,
          0.0000022620839125537258,
          0.000002259334702007478,
          0.0000022565678861461127,
          0.0000022537834147833383,
          0.0000022509812380859176,
          0.0000022481613065791066,
          0.000002245323571152131,
          0.0000022424679830636953,
          0.000002239594493947528,
          0.0000022367030558179576,
          0.0000022337936210755297,
          0.000002230866142512652,
          0.000002227920573319278,
          0.0000022249568670886227,
          0.0000022219749778229186,
          0.0000022189748599391984,
          0.0000022159564682751194,
          0.000002212919758094819,
          0.0000022098646850948075,
          0.000002206791205409894,
          0.0000022036992756191495,
          0.000002200588852751902,
          0.000002197459894293771,
          0.0000021943123581927326,
          0.000002191146202865222,
          0.0000021879613872022726,
          0.000002184757870575688,
          0.0000021815356128442502,
          0.000002178294574359963,
          0.0000021750347159743303,
          0.00000217175599904467,
          0.0000021684583854404633,
          0.0000021651418375497408,
          0.0000021618063182854993,
          0.0000021584517910921596,
          0.000002155078219952055,
          0.000002151685569391959,
          0.000002148273804489645,
          0.0000021448428908804803,
          0.000002141392794764064,
          0.0000021379234829108867,
          0.0000021344349226690363,
          0.000002130927081970935,
          0.0000021273999293401094,
          0.0000021238534338980003,
          0.000002120287565370804,
          0.0000021167022940963484,
          0.000002113097591031008,
          0.0000021094734277566496,
          0.000002105829776487614,
          0.0000021021666100777345,
          0.0000020984839020273877,
          0.0000020947816264905793,
          0.000002091059758282067,
          0.0000020873182728845134,
          0.0000020835571464556783,
          0.0000020797763558356415,
          0.000002075975878554062,
          0.000002072155692837471,
          0.0000020683157776165965,
          0.000002064456112533729,
          0.0000020605766779501095,
          0.0000020566774549533643,
          0.0000020527584253649614,
          0.0000020488195717477104,
          0.0000020448608774132885,
          0.0000020408823264298034,
          0.0000020368839036293883,
          0.0000020328655946158306,
          0.000002028827385772232,
          0.0000020247692642687017,
          0.0000020206912180700836,
          0.0000020165932359437125,
          0.0000020124753074672057,
          0.0000020083374230362863,
          0.0000020041795738726334,
          0.0000020000017520317725,
          0.000001995803950410988,
          0.000001991586162757274,
          0.0000019873483836753113,
          0.0000019830906086354788,
          0.000001978812833981891,
          0.0000019745150569404716,
          0.00000197019727562705,
          0.000001965859489055495,
          0.00000196150169714587,
          0.0000019571239007326265,
          0.0000019527261015728176,
          0.000001948308302354346,
          0.00000194387050670424,
          0.000001939412719196952,
          0.000001934934945362695,
          0.0000019304371916957957,
          0.0000019259194656630805,
          0.00000192138177571229,
          0.000001916824131280514,
          0.0000019122465428026596,
          0.0000019076490217199386,
          0.000001903031580488385,
          0.0000018983942325873955,
          0.0000018937369925282952,
          0.0000018890598758629272,
          0.0000018843628991922668,
          0.0000018796460801750589,
          0.0000018749094375364781,
          0.0000018701529910768123,
          0.0000018653767616801673,
          0.0000018605807713231946,
          0.0000018557650430838402,
          0.0000018509296011501125,
          0.0000018460744708288744,
          0.0000018411996785546509,
          0.0000018363052518984597,
          0.0000018313912195766587,
          0.0000018264576114598128,
          0.0000018215044585815785,
          0.0000018165317931476054,
          0.0000018115396485444558,
          0.0000018065280593485386,
          0.0000018014970613350613,
          0.000001796446691486995,
          0.0000017913769880040546,
          0.000001786287990311695,
          0.0000017811797390701168,
          0.0000017760522761832892,
          0.0000017709056448079803,
          0.0000017657398893628031,
          0.00000176055505553727,
          0.0000017553511903008584,
          0.000001750128341912085,
          0.0000017448865599275892,
          0.0000017396258952112261,
          0.000001734346399943164,
          0.0000017290481276289917,
          0.0000017237311331088296,
          0.0000017183954725664467,
          0.0000017130412035383833,
          0.0000017076683849230745,
          0.0000017022770769899804,
          0.0000016968673413887153,
          0.0000016914392411581804,
          0.000001685992840735695,
          0.0000016805282059661306,
          0.00000167504540411104,
          0.0000016695445038577884,
          0.0000016640255753286778,
          0.0000016584886900900715,
          0.000001652933921161512,
          0.000001647361343024834,
          0.00000164177103163327,
          0.0000016361630644205516,
          0.0000016305375203100001,
          0.0000016248944797236085,
          0.0000016192340245911151,
          0.000001613556238359064,
          0.0000016078612059998556,
          0.0000016021490140207839,
          0.0000015964197504730587,
          0.0000015906735049608158,
          0.000001584910368650108,
          0.0000015791304342778828,
          0.0000015733337961609403,
          0.0000015675205502048723,
          0.000001561690793912984,
          0.0000015558446263951916,
          0.0000015499821483769002,
          0.00000154410346220786,
          0.0000015382086718709952,
          0.0000015322978829912116,
          0.0000015263712028441755,
          0.0000015204287403650684,
          0.0000015144706061573107,
          0.0000015084969125012587,
          0.0000015025077733628703,
          0.0000014965033044023406,
          0.0000014904836229827027,
          0.0000014844488481783994,
          0.0000014783991007838157,
          0.0000014723345033217808,
          0.0000014662551800520289,
          0.0000014601612569796267,
          0.0000014540528618633593,
          0.0000014479301242240776,
          0.0000014417931753530059,
          0.0000014356421483200055,
          0.0000014294771779817988,
          0.0000014232984009901458,
          0.00000141710595579998,
          0.000001410899982677494,
          0.000001404680623708183,
          0.000001398448022804836,
          0.0000013922023257154816,
          0.0000013859436800312824,
          0.0000013796722351943785,
          0.00000137338814250568,
          0.0000013670915551326066,
          0.0000013607826281167733,
          0.0000013544615183816217,
          0.0000013481283847399956,
          0.0000013417833879016608,
          0.000001335426690480767,
          0.000001329058457003251,
          0.0000013226788539141827,
          0.0000013162880495850484,
          0.0000013098862143209765,
          0.000001303473520367898,
          0.0000012970501419196469,
          0.0000012906162551249975,
          0.0000012841720380946349,
          0.0000012777176709080632,
          0.0000012712533356204457,
          0.0000012647792162693803,
          0.0000012582954988816061,
          0.0000012518023714796414,
          0.0000012453000240883532,
          0.000001238788648741457,
          0.000001232268439487944,
          0.0000012257395923984382,
          0.0000012192023055714795,
          0.000001212656779139734,
          0.0000012061032152761297,
          0.0000011995418181999148,
          0.0000011929727941826428,
          0.0000011863963515540756,
          0.0000011798127007080124,
          0.0000011732220541080338,
          0.0000011666246262931688,
          0.0000011600206338834764,
          0.0000011534102955855444,
          0.000001146793832197902,
          0.0000011401714666163469,
          0.00000113354342383918,
          0.0000011269099309723542,
          0.0000011202712172345267,
          0.0000011136275139620179,
          0.0000011069790546136735,
          0.0000011003260747756266,
          0.0000010936688121659576,
          0.0000010870075066392497,
          0.0000010803424001910355,
          0.000001073673736962132,
          0.0000010670017632428622,
          0.0000010603267274771562,
          0.0000010536488802665297,
          0.0000010469684743739361,
          0.0000010402857647274845,
          0.000001033601008424023,
          0.0000010269144647325762,
          0.0000010202263950976361,
          0.0000010135370631422973,
          0.0000010068467346712297,
          0.000001000155677673482,
          9.934641623251094e-7,
          9.867724609916135e-7,
          9.800808482301909e-7,
          9.733896007917753e-7,
          9.666989976228676e-7,
          9.600093198671395e-7,
          9.533208508668026e-7,
          9.466338761637283e-7,
          9.399486835003062e-7,
          9.332655628200278e-7,
          9.265848062677805e-7,
          9.199067081898363e-7,
          9.132315651335196e-7,
          9.065596758465361e-7,
          8.998913412759449e-7,
          8.932268645667551e-7,
          8.865665510601257e-7,
          8.799107082911489e-7,
          8.732596459861926e-7,
          8.666136760597809e-7,
          8.599731126109852e-7,
          8.533382719193035e-7,
          8.467094724399968e-7,
          8.400870347988586e-7,
          8.334712817863831e-7,
          8.268625383513067e-7,
          8.202611315934849e-7,
          8.136673907560755e-7,
          8.070816472169907e-7,
          8.005042344795819e-7,
          7.939354881625207e-7,
          7.873757459888351e-7,
          7.808253477740618e-7,
          7.742846354134708e-7,
          7.677539528683201e-7,
          7.612336461510955e-7,
          7.54724063309687e-7,
          7.482255544104565e-7,
          7.417384715201453e-7,
          7.352631686865712e-7,
          7.288000019180639e-7,
          7.22349329161583e-7,
          7.159115102794655e-7,
          7.094869070247456e-7,
          7.030758830149886e-7,
          6.966788037045816e-7,
          6.90296036355419e-7,
          6.83927950005924e-7,
          6.775749154383408e-7,
          6.712373051442367e-7,
          6.649154932881503e-7,
          6.586098556693175e-7,
          6.523207696814134e-7,
          6.460486142702414e-7,
          6.397937698893039e-7,
          6.335566184531863e-7,
          6.273375432886869e-7,
          6.211369290836263e-7,
          6.149551618332662e-7,
          6.08792628784272e-7,
          6.026497183761507e-7,
          5.965268201800979e-7,
          5.904243248351863e-7,
          5.843426239818323e-7,
          5.782821101924739e-7,
          5.722431768993976e-7,
          5.662262183196522e-7,
          5.602316293769893e-7,
          5.5425980562077e-7,
          5.483111431417846e-7,
          5.423860384849257e-7,
          5.364848885586679e-7,
          5.306080905413011e-7,
          5.247560417838723e-7,
          5.189291397097917e-7,
          5.13127781711065e-7,
          5.073523650411127e-7,
          5.016032867041471e-7,
          4.958809433410771e-7,
          4.901857311119162e-7,
          4.845180455746772e-7,
          4.788782815607366e-7,
          4.732668330466621e-7,
          4.6768409302249734e-7,
          4.621304533565085e-7,
          4.5660630465639865e-7,
          4.5111203612700533e-7,
          4.456480354245021e-7,
          4.402146885071306e-7,
          4.348123794824984e-7,
          4.2944149045148314e-7,
          4.241024013487921e-7,
          4.187954897802332e-7,
          4.135211308567611e-7,
          4.082796970253709e-7,
          4.0307155789691795e-7,
          3.978970800709529e-7,
          3.927566269576674e-7,
          3.8765055859705554e-7,
          3.8257923147540454e-7,
          3.7754299833923527e-7,
          3.725422080068247e-7,
          3.675772051774483e-7,
          3.626483302384907e-7,
          3.5775591907058136e-7,
          3.529003028509204e-7,
          3.4808180785496887e-7,
          3.433007552566858e-7,
          3.3855746092750365e-7,
          3.3385223523424055e-7,
          3.2918538283615903e-7,
          3.245572024813848e-7,
          3.1996798680291113e-7,
          3.15418022114419e-7,
          3.1090758820615237e-7,
          3.0643695814109416e-7,
          3.020063980516958e-7,
          2.976161669374191e-7,
          2.9326651646335656e-7,
          2.8895769076020016e-7,
          2.8468992622583575e-7,
          2.80463451328844e-7,
          2.7627848641419344e-7,
          2.721352435114159e-7,
          2.680339261455565e-7,
          2.639747291511954e-7,
          2.599578384898377e-7,
          2.5598343107097464e-7,
          2.5205167457711396e-7,
          2.4816272729308416e-7,
          2.443167379399127e-7,
          2.4051384551358016e-7,
          2.3675417912894961e-7,
          2.33037857869169e-7,
          2.293649906408418e-7,
          2.2573567603525687e-7,
          2.2215000219596546e-7,
          2.1860804669298767e-7,
          2.1510987640392526e-7,
          2.1165554740225184e-7,
          2.0824510485304413e-7,
          2.0487858291641025e-7,
          2.0155600465886296e-7,
          1.982773819728766e-7,
          1.950427155048562e-7,
          1.9185199459173787e-7,
          1.8870519720642724e-7,
          1.856022899122721e-7,
          1.825432278267522e-7,
          1.7952795459455652e-7,
          1.7655640237020537e-7,
          1.7362849181035886e-7,
          1.7074413207594123e-7,
          1.6790322084419255e-7,
          1.651056443307463e-7,
          1.623512773218133e-7,
          1.5963998321653726e-7,
          1.5697161407956994e-7,
          1.5434601070389688e-7,
          1.5176300268392708e-7,
          1.492224084988429e-7,
          1.467240356061878e-7,
          1.4426768054565228e-7,
          1.4185312905300003e-7,
          1.394801561840574e-7,
          1.3714852644867283e-7,
          1.3485799395453242e-7,
          1.3260830256070204e-7,
          1.3039918604074638e-7,
          1.2823036825525903e-7,
          1.2610156333361936e-7,
          1.2401247586477454e-7,
          1.2196280109682895e-7,
          1.1995222514520523e-7,
          1.1798042520912618e-7,
          1.1604706979615052e-7,
          1.1415181895447978e-7,
          1.1229432451273988e-7,
          1.1047423032692571e-7,
          1.0869117253418436e-7,
          1.0694477981309926e-7,
          1.0523467365012551e-7,
          1.0356046861181542e-7,
          1.0192177262246225e-7,
          1.0031818724678066e-7,
          9.874930797723302e-8,
          9.7214724525603e-8,
          9.571402111840994e-8,
          9.424677679575182e-8,
          9.281256571315849e-8,
          9.141095744603289e-8,
          9.004151729625389e-8,
          8.870380660051217e-8,
          8.739738303994843e-8,
          8.612180095066302e-8,
          8.487661163466595e-8,
          8.366136367083766e-8,
          8.247560322547299e-8,
          8.131887436198426e-8,
          8.019071934934294e-8,
          7.909067896884493e-8,
          7.801829281879008e-8,
          7.697309961667364e-8,
          7.595463749849477e-8,
          7.49624443147961e-8,
          7.399605792305748e-8,
          7.305501647607734e-8,
          7.213885870598604e-8,
          7.12471242035471e-8,
          7.037935369241478e-8,
          6.953508929802912e-8,
          6.871387481084366e-8,
          6.791525594359474e-8,
          6.713878058233633e-8,
          6.63839990309793e-8,
          6.565046424908984e-8,
          6.493773208271763e-8,
          6.424536148804071e-8,
          6.357291474763071e-8,
          6.291995767915889e-8,
          6.228605983638063e-8,
          6.1670794702253e-8,
          6.107373987405773e-8,
          6.049447724041873e-8,
          5.993259315012111e-8,
          5.9387678572655827e-8,
          5.885932925043093e-8,
          5.834714584260795e-8,
          5.7850734060538445e-8,
          5.736970479479232e-8,
          5.6903674233786116e-8,
          5.645226397403511e-8,
          5.6015101122068914e-8,
          5.5591818388065346e-8,
          5.51820541712722e-8,
          5.4785452637300756e-8,
          5.440166378738859e-8,
          5.4030343519742674e-8,
          5.36711536830862e-8,
          5.332376212254465e-8,
          5.2987842718018256e-8,
          5.2663075415198584e-8,
          5.2349146249397127e-8,
          5.204574736236341e-8,
          5.175257701227876e-8,
          5.146933957711985e-8,
          5.119574555159381e-8,
          5.093151153785292e-8,
          5.0676360230203245e-8,
          5.0430020394026355e-8,
          5.019222683913821e-8,
          4.9962720387812624e-8,
          4.97412478377001e-8,
          4.952756191987517e-8,
          4.9321421252246876e-8,
          4.9122590288568254e-8,
          4.893083926328102e-8,
          4.8745944132431286e-8,
          4.856768651089139e-8,
          4.8395853606121367e-8,
          4.823023814870159e-8,
          4.8070638319865526e-8,
          4.791685767625845e-8,
          4.776870507214435e-8,
          4.7625994579279226e-8,
          4.748854540466458e-8,
          4.735618180638982e-8,
          4.722873300776738e-8,
          4.71060331099584e-8,
          4.698792100328124e-8,
          4.687424027738883e-8,
          4.676483913049444e-8,
          4.6659570277819e-8,
          4.6558290859426104e-8,
          4.6460862347604247e-8,
          4.63671504539486e-8,
          4.627702503628762e-8,
          4.619036000559274e-8,
          4.610703323300212e-8,
          4.602692645708243e-8,
          4.5949925191445484e-8,
          4.587591863282953e-8,
          4.580479956974812e-8,
          4.573646429180253e-8,
          4.567081249974728e-8,
          4.5607747216391443e-8,
          4.554717469841238e-8,
          4.5489004349152135e-8,
          4.543314863246098e-8,
          4.5379522987646657e-8,
          4.5328045745582466e-8,
          4.5278638046022114e-8,
          4.523122375616401e-8,
          4.518572939050316e-8,
          4.5142084032004076e-8,
          4.510021925462403e-8,
          4.5060069047211764e-8,
          4.502156973880325e-8,
          4.498465992533235e-8,
          4.494928039777117e-8,
          4.4915374071711817e-8,
          4.4882885918398417e-8,
          4.48517628972159e-8,
          4.4821953889639576e-8,
          4.4793409634647487e-8,
          4.476608266559559e-8,
          4.473992724855419e-8,
          4.471489932210241e-8,
          4.469095643857607e-8,
          4.466805770676343e-8,
          4.464616373604171e-8,
          4.462523658194677e-8,
          4.460523969316733e-8,
          4.4586137859954336e-8,
          4.4567897163935553e-8,
          4.455048492932491e-8,
          4.4533869675515547e-8,
          4.4518021071045145e-8,
          4.450290988892189e-8,
          4.4488507963298755e-8,
          4.4474788147483846e-8,
          4.446172427327405e-8,
          4.4449291111599006e-8,
          4.443746433446228e-8,
          4.44262204781662e-8,
          4.441553690780664e-8,
          4.440539178302388e-8,
          4.4395764024995234e-8,
          4.4386633284655015e-8
         ]
        },
        {
         "name": "u_p(z)",
         "type": "scatter",
         "x": [
          0,
          0.001,
          0.002,
          0.003,
          0.004,
          0.005,
          0.006,
          0.007,
          0.008,
          0.009,
          0.01,
          0.011,
          0.012,
          0.013,
          0.014,
          0.015,
          0.016,
          0.017,
          0.018,
          0.019,
          0.02,
          0.021,
          0.022,
          0.023,
          0.024,
          0.025,
          0.026,
          0.027,
          0.028,
          0.029,
          0.03,
          0.031,
          0.032,
          0.033,
          0.034,
          0.035,
          0.036,
          0.037,
          0.038,
          0.039,
          0.04,
          0.041,
          0.042,
          0.043,
          0.044,
          0.045,
          0.046,
          0.047,
          0.048,
          0.049,
          0.05,
          0.051,
          0.052,
          0.053,
          0.054,
          0.055,
          0.056,
          0.057,
          0.058,
          0.059,
          0.06,
          0.061,
          0.062,
          0.063,
          0.064,
          0.065,
          0.066,
          0.067,
          0.068,
          0.069,
          0.07,
          0.071,
          0.072,
          0.073,
          0.074,
          0.075,
          0.076,
          0.077,
          0.078,
          0.079,
          0.08,
          0.081,
          0.082,
          0.083,
          0.084,
          0.085,
          0.086,
          0.087,
          0.088,
          0.089,
          0.09,
          0.091,
          0.092,
          0.093,
          0.094,
          0.095,
          0.096,
          0.097,
          0.098,
          0.099,
          0.1,
          0.101,
          0.102,
          0.103,
          0.104,
          0.105,
          0.106,
          0.107,
          0.108,
          0.109,
          0.11,
          0.111,
          0.112,
          0.113,
          0.114,
          0.115,
          0.116,
          0.117,
          0.118,
          0.119,
          0.12,
          0.121,
          0.122,
          0.123,
          0.124,
          0.125,
          0.126,
          0.127,
          0.128,
          0.129,
          0.13,
          0.131,
          0.132,
          0.133,
          0.134,
          0.135,
          0.136,
          0.137,
          0.138,
          0.139,
          0.14,
          0.141,
          0.142,
          0.143,
          0.144,
          0.145,
          0.146,
          0.147,
          0.148,
          0.149,
          0.15,
          0.151,
          0.152,
          0.153,
          0.154,
          0.155,
          0.156,
          0.157,
          0.158,
          0.159,
          0.16,
          0.161,
          0.162,
          0.163,
          0.164,
          0.165,
          0.166,
          0.167,
          0.168,
          0.169,
          0.17,
          0.171,
          0.172,
          0.173,
          0.174,
          0.175,
          0.176,
          0.177,
          0.178,
          0.179,
          0.18,
          0.181,
          0.182,
          0.183,
          0.184,
          0.185,
          0.186,
          0.187,
          0.188,
          0.189,
          0.19,
          0.191,
          0.192,
          0.193,
          0.194,
          0.195,
          0.196,
          0.197,
          0.198,
          0.199,
          0.2,
          0.201,
          0.202,
          0.203,
          0.204,
          0.205,
          0.206,
          0.207,
          0.208,
          0.209,
          0.21,
          0.211,
          0.212,
          0.213,
          0.214,
          0.215,
          0.216,
          0.217,
          0.218,
          0.219,
          0.22,
          0.221,
          0.222,
          0.223,
          0.224,
          0.225,
          0.226,
          0.227,
          0.228,
          0.229,
          0.23,
          0.231,
          0.232,
          0.233,
          0.234,
          0.235,
          0.236,
          0.237,
          0.238,
          0.239,
          0.24,
          0.241,
          0.242,
          0.243,
          0.244,
          0.245,
          0.246,
          0.247,
          0.248,
          0.249,
          0.25,
          0.251,
          0.252,
          0.253,
          0.254,
          0.255,
          0.256,
          0.257,
          0.258,
          0.259,
          0.26,
          0.261,
          0.262,
          0.263,
          0.264,
          0.265,
          0.266,
          0.267,
          0.268,
          0.269,
          0.27,
          0.271,
          0.272,
          0.273,
          0.274,
          0.275,
          0.276,
          0.277,
          0.278,
          0.279,
          0.28,
          0.281,
          0.282,
          0.283,
          0.284,
          0.285,
          0.286,
          0.287,
          0.288,
          0.289,
          0.29,
          0.291,
          0.292,
          0.293,
          0.294,
          0.295,
          0.296,
          0.297,
          0.298,
          0.299,
          0.3,
          0.301,
          0.302,
          0.303,
          0.304,
          0.305,
          0.306,
          0.307,
          0.308,
          0.309,
          0.31,
          0.311,
          0.312,
          0.313,
          0.314,
          0.315,
          0.316,
          0.317,
          0.318,
          0.319,
          0.32,
          0.321,
          0.322,
          0.323,
          0.324,
          0.325,
          0.326,
          0.327,
          0.328,
          0.329,
          0.33,
          0.331,
          0.332,
          0.333,
          0.334,
          0.335,
          0.336,
          0.337,
          0.338,
          0.339,
          0.34,
          0.341,
          0.342,
          0.343,
          0.344,
          0.345,
          0.346,
          0.347,
          0.348,
          0.349,
          0.35,
          0.351,
          0.352,
          0.353,
          0.354,
          0.355,
          0.356,
          0.357,
          0.358,
          0.359,
          0.36,
          0.361,
          0.362,
          0.363,
          0.364,
          0.365,
          0.366,
          0.367,
          0.368,
          0.369,
          0.37,
          0.371,
          0.372,
          0.373,
          0.374,
          0.375,
          0.376,
          0.377,
          0.378,
          0.379,
          0.38,
          0.381,
          0.382,
          0.383,
          0.384,
          0.385,
          0.386,
          0.387,
          0.388,
          0.389,
          0.39,
          0.391,
          0.392,
          0.393,
          0.394,
          0.395,
          0.396,
          0.397,
          0.398,
          0.399,
          0.4,
          0.401,
          0.402,
          0.403,
          0.404,
          0.405,
          0.406,
          0.407,
          0.408,
          0.409,
          0.41,
          0.411,
          0.412,
          0.413,
          0.414,
          0.415,
          0.416,
          0.417,
          0.418,
          0.419,
          0.42,
          0.421,
          0.422,
          0.423,
          0.424,
          0.425,
          0.426,
          0.427,
          0.428,
          0.429,
          0.43,
          0.431,
          0.432,
          0.433,
          0.434,
          0.435,
          0.436,
          0.437,
          0.438,
          0.439,
          0.44,
          0.441,
          0.442,
          0.443,
          0.444,
          0.445,
          0.446,
          0.447,
          0.448,
          0.449,
          0.45,
          0.451,
          0.452,
          0.453,
          0.454,
          0.455,
          0.456,
          0.457,
          0.458,
          0.459,
          0.46,
          0.461,
          0.462,
          0.463,
          0.464,
          0.465,
          0.466,
          0.467,
          0.468,
          0.469,
          0.47,
          0.471,
          0.472,
          0.473,
          0.474,
          0.475,
          0.476,
          0.477,
          0.478,
          0.479,
          0.48,
          0.481,
          0.482,
          0.483,
          0.484,
          0.485,
          0.486,
          0.487,
          0.488,
          0.489,
          0.49,
          0.491,
          0.492,
          0.493,
          0.494,
          0.495,
          0.496,
          0.497,
          0.498,
          0.499,
          0.5,
          0.501,
          0.502,
          0.503,
          0.504,
          0.505,
          0.506,
          0.507,
          0.508,
          0.509,
          0.51,
          0.511,
          0.512,
          0.513,
          0.514,
          0.515,
          0.516,
          0.517,
          0.518,
          0.519,
          0.52,
          0.521,
          0.522,
          0.523,
          0.524,
          0.525,
          0.526,
          0.527,
          0.528,
          0.529,
          0.53,
          0.531,
          0.532,
          0.533,
          0.534,
          0.535,
          0.536,
          0.537,
          0.538,
          0.539,
          0.54,
          0.541,
          0.542,
          0.543,
          0.544,
          0.545,
          0.546,
          0.547,
          0.548,
          0.549,
          0.55,
          0.551,
          0.552,
          0.553,
          0.554,
          0.555,
          0.556,
          0.557,
          0.558,
          0.559,
          0.56,
          0.561,
          0.562,
          0.563,
          0.564,
          0.565,
          0.566,
          0.567,
          0.568,
          0.569,
          0.57,
          0.571,
          0.572,
          0.573,
          0.574,
          0.575,
          0.576,
          0.577,
          0.578,
          0.579,
          0.58,
          0.581,
          0.582,
          0.583,
          0.584,
          0.585,
          0.586,
          0.587,
          0.588,
          0.589,
          0.59,
          0.591,
          0.592,
          0.593,
          0.594,
          0.595,
          0.596,
          0.597,
          0.598,
          0.599,
          0.6,
          0.601,
          0.602,
          0.603,
          0.604,
          0.605,
          0.606,
          0.607,
          0.608,
          0.609,
          0.61,
          0.611,
          0.612,
          0.613,
          0.614,
          0.615,
          0.616,
          0.617,
          0.618,
          0.619,
          0.62,
          0.621,
          0.622,
          0.623,
          0.624,
          0.625,
          0.626,
          0.627,
          0.628,
          0.629,
          0.63,
          0.631,
          0.632,
          0.633,
          0.634,
          0.635,
          0.636,
          0.637,
          0.638,
          0.639,
          0.64,
          0.641,
          0.642,
          0.643,
          0.644,
          0.645,
          0.646,
          0.647,
          0.648,
          0.649,
          0.65,
          0.651,
          0.652,
          0.653,
          0.654,
          0.655,
          0.656,
          0.657,
          0.658,
          0.659,
          0.66,
          0.661,
          0.662,
          0.663,
          0.664,
          0.665,
          0.666,
          0.667,
          0.668,
          0.669,
          0.67,
          0.671,
          0.672,
          0.673,
          0.674,
          0.675,
          0.676,
          0.677,
          0.678,
          0.679,
          0.68,
          0.681,
          0.682,
          0.683,
          0.684,
          0.685,
          0.686,
          0.687,
          0.688,
          0.689,
          0.69,
          0.691,
          0.692,
          0.693,
          0.694,
          0.695,
          0.696,
          0.697,
          0.698,
          0.699,
          0.7,
          0.701,
          0.702,
          0.703,
          0.704,
          0.705,
          0.706,
          0.707,
          0.708,
          0.709,
          0.71,
          0.711,
          0.712,
          0.713,
          0.714,
          0.715,
          0.716,
          0.717,
          0.718,
          0.719,
          0.72,
          0.721,
          0.722,
          0.723,
          0.724,
          0.725,
          0.726,
          0.727,
          0.728,
          0.729,
          0.73,
          0.731,
          0.732,
          0.733,
          0.734,
          0.735,
          0.736,
          0.737,
          0.738,
          0.739,
          0.74,
          0.741,
          0.742,
          0.743,
          0.744,
          0.745,
          0.746,
          0.747,
          0.748,
          0.749,
          0.75,
          0.751,
          0.752,
          0.753,
          0.754,
          0.755,
          0.756,
          0.757,
          0.758,
          0.759,
          0.76,
          0.761,
          0.762,
          0.763,
          0.764,
          0.765,
          0.766,
          0.767,
          0.768,
          0.769,
          0.77,
          0.771,
          0.772,
          0.773,
          0.774,
          0.775,
          0.776,
          0.777,
          0.778,
          0.779,
          0.78,
          0.781,
          0.782,
          0.783,
          0.784,
          0.785,
          0.786,
          0.787,
          0.788,
          0.789,
          0.79,
          0.791,
          0.792,
          0.793,
          0.794,
          0.795,
          0.796,
          0.797,
          0.798,
          0.799,
          0.8,
          0.801,
          0.802,
          0.803,
          0.804,
          0.805,
          0.806,
          0.807,
          0.808,
          0.809,
          0.81,
          0.811,
          0.812,
          0.813,
          0.814,
          0.815,
          0.816,
          0.817,
          0.818,
          0.819,
          0.82,
          0.821,
          0.822,
          0.823,
          0.824,
          0.825,
          0.826,
          0.827,
          0.828,
          0.829,
          0.83,
          0.831,
          0.832,
          0.833,
          0.834,
          0.835,
          0.836,
          0.837,
          0.838,
          0.839,
          0.84,
          0.841,
          0.842,
          0.843,
          0.844,
          0.845,
          0.846,
          0.847,
          0.848,
          0.849,
          0.85,
          0.851,
          0.852,
          0.853,
          0.854,
          0.855,
          0.856,
          0.857,
          0.858,
          0.859,
          0.86,
          0.861,
          0.862,
          0.863,
          0.864,
          0.865,
          0.866,
          0.867,
          0.868,
          0.869,
          0.87,
          0.871,
          0.872,
          0.873,
          0.874,
          0.875,
          0.876,
          0.877,
          0.878,
          0.879,
          0.88,
          0.881,
          0.882,
          0.883,
          0.884,
          0.885,
          0.886,
          0.887,
          0.888,
          0.889,
          0.89,
          0.891,
          0.892,
          0.893,
          0.894,
          0.895,
          0.896,
          0.897,
          0.898,
          0.899,
          0.9,
          0.901,
          0.902,
          0.903,
          0.904,
          0.905,
          0.906,
          0.907,
          0.908,
          0.909,
          0.91,
          0.911,
          0.912,
          0.913,
          0.914,
          0.915,
          0.916,
          0.917,
          0.918,
          0.919,
          0.92,
          0.921,
          0.922,
          0.923,
          0.924,
          0.925,
          0.926,
          0.927,
          0.928,
          0.929,
          0.93,
          0.931,
          0.932,
          0.933,
          0.934,
          0.935,
          0.936,
          0.937,
          0.938,
          0.939,
          0.94,
          0.941,
          0.942,
          0.943,
          0.944,
          0.945,
          0.946,
          0.947,
          0.948,
          0.949,
          0.95,
          0.951,
          0.952,
          0.953,
          0.954,
          0.955,
          0.956,
          0.957,
          0.958,
          0.959,
          0.96,
          0.961,
          0.962,
          0.963,
          0.964,
          0.965,
          0.966,
          0.967,
          0.968,
          0.969,
          0.97,
          0.971,
          0.972,
          0.973,
          0.974,
          0.975,
          0.976,
          0.977,
          0.978,
          0.979,
          0.98,
          0.981,
          0.982,
          0.983,
          0.984,
          0.985,
          0.986,
          0.987,
          0.988,
          0.989,
          0.99,
          0.991,
          0.992,
          0.993,
          0.994,
          0.995,
          0.996,
          0.997,
          0.998,
          0.999,
          1
         ],
         "y": [
          0.000002561696520395969,
          0.0000025616965203860523,
          0.000002561696520237304,
          0.000002561696519592728,
          0.0000025616965178573303,
          0.0000025616965141981204,
          0.0000025616965075441104,
          0.000002561696496586314,
          0.000002561696479777749,
          0.0000025616964553334344,
          0.000002561696421230393,
          0.00000256169637520765,
          0.0000025616963147662336,
          0.000002561696237169174,
          0.0000025616961394415054,
          0.000002561696018370265,
          0.000002561695870504493,
          0.0000025616956921552336,
          0.0000025616954793955345,
          0.0000025616952280604477,
          0.0000025616949337470302,
          0.0000025616945918143438,
          0.0000025616941973834565,
          0.0000025616937453374415,
          0.0000025616932303213806,
          0.000002561692646742362,
          0.0000025616919887694847,
          0.0000025616912503338565,
          0.000002561690425128597,
          0.0000025616895066088386,
          0.0000025616884879917284,
          0.0000025616873622564296,
          0.0000025616861221441233,
          0.000002561684760158011,
          0.000002561683268563318,
          0.000002561681639387293,
          0.0000025616798644192146,
          0.000002561677935210393,
          0.0000025616758430741714,
          0.000002561673579085934,
          0.0000025616711340831063,
          0.0000025616684986651613,
          0.000002561665663193623,
          0.000002561662617792073,
          0.000002561659352346156,
          0.0000025616558565035835,
          0.000002561652119674142,
          0.0000025616481310297003,
          0.0000025616438795042144,
          0.000002561639353793738,
          0.000002561634542356428,
          0.0000025616294334125556,
          0.0000025616240149445144,
          0.0000025616182746968296,
          0.000002561612200176171,
          0.0000025616057786513613,
          0.000002561598997153389,
          0.0000025615918424754214,
          0.0000025615843011728175,
          0.00000256157635956314,
          0.000002561568003726174,
          0.0000025615592195039373,
          0.0000025615499925007,
          0.0000025615403080830012,
          0.0000025615301513796653,
          0.000002561519507281822,
          0.0000025615083604429256,
          0.000002561496695278776,
          0.000002561484495967539,
          0.0000025614717464497713,
          0.000002561458430428441,
          0.0000025614445313689536,
          0.0000025614300324991796,
          0.0000025614149168094794,
          0.00000256139916705273,
          0.0000025613827657443584,
          0.0000025613656951623685,
          0.0000025613479373473734,
          0.0000025613294741026302,
          0.0000025613102869940726,
          0.0000025612903573503472,
          0.000002561269666262851,
          0.0000025612481945857693,
          0.0000025612259229361158,
          0.000002561202831693775,
          0.000002561178901001544,
          0.0000025611541107651786,
          0.000002561128440653438,
          0.0000025611018700981344,
          0.0000025610743782941817,
          0.000002561045944199647,
          0.000002561016546535803,
          0.0000025609861637871863,
          0.000002560954774201649,
          0.0000025609223557904226,
          0.000002560888886328175,
          0.0000025608543433530764,
          0.00000256081870416686,
          0.0000025607819458348943,
          0.0000025607440451862463,
          0.0000025607049788137568,
          0.0000025606647230741115,
          0.0000025606232540879177,
          0.0000025605805477397824,
          0.000002560536579678391,
          0.000002560491325316591,
          0.000002560444759831478,
          0.0000025603968581644806,
          0.000002560347595021454,
          0.0000025602969448727694,
          0.0000025602448819534115,
          0.0000025601913802630754,
          0.000002560136413566268,
          0.0000025600799553924105,
          0.000002560021979035947,
          0.000002559962457556451,
          0.0000025599013637787386,
          0.0000025598386702929852,
          0.000002559774349454841,
          0.0000025597083733855546,
          0.0000025596407139720967,
          0.000002559571342867287,
          0.0000025595002314899255,
          0.0000025594273510249284,
          0.000002559352672423464,
          0.0000025592761664030923,
          0.0000025591978034479133,
          0.0000025591175538087126,
          0.0000025590353875031127,
          0.00000255895127431573,
          0.000002558865183798332,
          0.0000025587770852700017,
          0.000002558686947817303,
          0.000002558594740294452,
          0.00000255850043132349,
          0.000002558403989294465,
          0.0000025583053823656107,
          0.000002558204578463535,
          0.000002558101545283411,
          0.0000025579962502891708,
          0.000002557888660713706,
          0.0000025577787435590726,
          0.0000025576664655966956,
          0.000002557551793367585,
          0.0000025574346931825524,
          0.0000025573151311224323,
          0.0000025571930730383088,
          0.000002557068484551748,
          0.000002556941331055033,
          0.000002556811577711406,
          0.0000025566791894553126,
          0.0000025565441309926563,
          0.000002556406366801052,
          0.0000025562658611300883,
          0.0000025561225780015936,
          0.0000025559764812099095,
          0.0000025558275343221663,
          0.0000025556757006785677,
          0.0000025555209433926775,
          0.000002555363225351715,
          0.0000025552025092168525,
          0.0000025550387574235232,
          0.0000025548719321817306,
          0.0000025547019954763663,
          0.000002554528909067532,
          0.00000255435263449087,
          0.000002554173133057897,
          0.000002553990365856346,
          0.000002553804293750514,
          0.000002553614877381615,
          0.0000025534220771681415,
          0.0000025532258533062304,
          0.000002553026165770036,
          0.000002552822974312112,
          0.0000025526162384637948,
          0.0000025524059175356,
          0.000002552191970617622,
          0.0000025519743565799398,
          0.000002551753034073033,
          0.0000025515279615282023,
          0.0000025512990971579992,
          0.00000255106639895666,
          0.0000025508298247005517,
          0.0000025505893319486194,
          0.000002550344878042848,
          0.000002550096420108725,
          0.000002549843915055716,
          0.000002549587319577745,
          0.0000025493265901536844,
          0.00000254906168304785,
          0.000002548792554310509,
          0.000002548519159778391,
          0.00000254824145507521,
          0.0000025479593956121937,
          0.0000025476729365886225,
          0.0000025473820329923758,
          0.000002547086639600485,
          0.0000025467867109797,
          0.00000254648220148706,
          0.000002546173065270475,
          0.0000025458592562693146,
          0.00000254554072821501,
          0.000002545217434631659,
          0.000002544889328836645,
          0.000002544556363941264,
          0.0000025442184928513578,
          0.000002543875668267962,
          0.0000025435278426879604,
          0.000002543174968404749,
          0.000002542816997508909,
          0.0000025424538818888934,
          0.0000025420855732317193,
          0.0000025417120230236714,
          0.0000025413331825510174,
          0.000002540949002900731,
          0.0000025405594349612264,
          0.000002540164429423105,
          0.000002539763936779908,
          0.0000025393579073288835,
          0.0000025389462911717646,
          0.000002538529038215554,
          0.0000025381060981733235,
          0.000002537677420565024,
          0.000002537242954718305,
          0.000002536802649769345,
          0.000002536356454663696,
          0.0000025359043181571364,
          0.0000025354461888165365,
          0.000002534982015020736,
          0.0000025345117449614327,
          0.000002534035326644083,
          0.0000025335527078888127,
          0.000002533063836331345,
          0.0000025325686594239324,
          0.0000025320671244363092,
          0.0000025315591784566494,
          0.0000025310447683925424,
          0.000002530523840971977,
          0.0000025299963427443395,
          0.000002529462220081427,
          0.000002528921419178469,
          0.000002528373886055165,
          0.0000025278195665567346,
          0.0000025272584063549797,
          0.0000025266903509493607,
          0.000002526115345668087,
          0.0000025255333356692184,
          0.000002524944265941783,
          0.000002524348081306906,
          0.0000025237447264189547,
          0.000002523134145766696,
          0.0000025225162836744672,
          0.0000025218910843033642,
          0.000002521258491652439,
          0.0000025206184495599163,
          0.00000251997090170442,
          0.0000025193157916062185,
          0.000002518653062628483,
          0.0000025179826579785593,
          0.0000025173045207092545,
          0.000002516618593720143,
          0.000002515924819758881,
          0.0000025152231414225403,
          0.0000025145135011589597,
          0.0000025137958412681037,
          0.000002513070103903447,
          0.0000025123362310733644,
          0.000002511594164642547,
          0.0000025108438463334262,
          0.000002510085217727615,
          0.00000250931822026737,
          0.0000025085427952570653,
          0.0000025077588838646842,
          0.0000025069664271233273,
          0.0000025061653659327365,
          0.000002505355641060838,
          0.000002504537193145299,
          0.0000025037099626951034,
          0.000002502873890092146,
          0.0000025020289155928383,
          0.0000025011749793297383,
          0.0000025003120213131946,
          0.000002499439981433007,
          0.000002498558799460106,
          0.000002497668415048252,
          0.0000024967687677357496,
          0.000002495859796947179,
          0.0000024949414419951505,
          0.0000024940136420820727,
          0.0000024930763363019414,
          0.000002492129463642145,
          0.0000024911729629852915,
          0.0000024902067731110513,
          0.0000024892308326980215,
          0.000002488245080325606,
          0.00000248724945447592,
          0.0000024862438935357063,
          0.0000024852283357982793,
          0.000002484202719465481,
          0.000002483166982649662,
          0.00000248212106337568,
          0.000002481064899582918,
          0.0000024799984291273227,
          0.000002478921589783465,
          0.0000024778343192466173,
          0.0000024767365551348532,
          0.000002475628234991169,
          0.000002474509296285622,
          0.0000024733796764174944,
          0.000002472239312717474,
          0.0000024710881424498574,
          0.0000024699261028147757,
          0.000002468753130950439,
          0.0000024675691639354047,
          0.0000024663741387908647,
          0.000002465167992482957,
          0.0000024639506619250973,
          0.000002462722083980333,
          0.0000024614821954637187,
          0.0000024602309331447156,
          0.000002458968233749611,
          0.0000024576940339639612,
          0.000002456408270435058,
          0.0000024551108797744157,
          0.0000024538017985602815,
          0.000002452480963340171,
          0.0000024511483106334238,
          0.0000024498037769337843,
          0.0000024484472987120044,
          0.0000024470788124184716,
          0.000002445698254485857,
          0.0000024443055613317923,
          0.0000024429006693615646,
          0.0000024414835149708407,
          0.000002440054034548413,
          0.0000024386121644789665,
          0.000002437157841145878,
          0.0000024356910009340315,
          0.000002434211580232662,
          0.0000024327195154382262,
          0.000002431214742957292,
          0.00000242969719920946,
          0.000002428166820630304,
          0.000002426623543674341,
          0.0000024250673048180236,
          0.0000024234980405627605,
          0.0000024219156874379612,
          0.0000024203201820041052,
          0.00000241871146085584,
          0.0000024170894606251023,
          0.000002415454117984267,
          0.0000024138053696493227,
          0.0000024121431523830715,
          0.0000024104674029983577,
          0.0000024087780583613213,
          0.000002407075055394679,
          0.0000024053583310810327,
          0.0000024036278224662045,
          0.0000024018834666625972,
          0.0000024001252008525853,
          0.0000023983529622919304,
          0.0000023965666883132247,
          0.000002394766316329366,
          0.000002392951783837052,
          0.0000023911230284203125,
          0.0000023892799877540614,
          0.0000023874225996076815,
          0.000002385550801848636,
          0.0000023836645324461075,
          0.000002381763729474668,
          0.000002379848331117975,
          0.0000023779182756724963,
          0.0000023759735015512665,
          0.0000023740139472876693,
          0.0000023720395515392495,
          0.000002370050253091557,
          0.0000023680459908620138,
          0.0000023660267039038196,
          0.0000023639923314098775,
          0.000002361942812716755,
          0.0000023598780873086748,
          0.000002357798094821531,
          0.000002355702775046942,
          0.0000023535920679363262,
          0.0000023514659136050146,
          0.0000023493242523363885,
          0.0000023471670245860506,
          0.000002344994170986026,
          0.000002342805632348994,
          0.0000023406013496725486,
          0.0000023383812641434943,
          0.0000023361453171421676,
          0.000002333893450246793,
          0.0000023316256052378713,
          0.0000023293417241025927,
          0.000002327041749039291,
          0.0000023247256224619205,
          0.0000023223932870045688,
          0.000002320044685526002,
          0.0000023176797611142377,
          0.000002315298457091155,
          0.0000023129007170171324,
          0.000002310486484695719,
          0.0000023080557041783388,
          0.000002305608319769027,
          0.000002303144276029197,
          0.000002300663517782442,
          0.0000022981659901193676,
          0.0000022956516384024575,
          0.000002293120408270973,
          0.000002290572245645883,
          0.000002288007096734829,
          0.000002285424908037121,
          0.000002282825626348769,
          0.0000022802091987675456,
          0.0000022775755726980817,
          0.0000022749246958569974,
          0.0000022722565162780636,
          0.000002269570982317399,
          0.0000022668680426587,
          0.000002264147646318504,
          0.0000022614097426514857,
          0.000002258654281355788,
          0.0000022558812124783867,
          0.000002253090486420489,
          0.0000022502820539429627,
          0.000002247455866171806,
          0.000002244611874603644,
          0.0000022417500311112645,
          0.000002238870287949185,
          0.000002235972597759254,
          0.0000022330569135762883,
          0.000002230123188833743,
          0.0000022271713773694146,
          0.000002224201433431182,
          0.0000022212133116827777,
          0.0000022182069672095964,
          0.000002215182355524535,
          0.0000022121394325738715,
          0.0000022090781547431726,
          0.0000022059984788632413,
          0.000002202900362216094,
          0.0000021997837625409765,
          0.00000219664863804041,
          0.0000021934949473862773,
          0.0000021903226497259372,
          0.0000021871317046883778,
          0.0000021839220723904026,
          0.000002180693713442852,
          0.0000021774465889568572,
          0.000002174180660550133,
          0.000002170895890353299,
          0.0000021675922410162414,
          0.0000021642696757145028,
          0.000002160928158155714,
          0.000002157567652586054,
          0.0000021541881237967466,
          0.0000021507895371305907,
          0.000002147371858488528,
          0.0000021439350543362397,
          0.000002140479091710782,
          0.0000021370039382272515,
          0.000002133509562085491,
          0.000002129995932076822,
          0.0000021264630175908164,
          0.0000021229107886220993,
          0.0000021193392157771886,
          0.000002115748270281364,
          0.0000021121379239855738,
          0.0000021085081493733743,
          0.0000021048589195679006,
          0.0000021011902083388724,
          0.000002097501990109634,
          0.0000020937942399642273,
          0.0000020900669336544942,
          0.000002086320047607218,
          0.0000020825535589312925,
          0.000002078767445424928,
          0.0000020749616855828856,
          0.000002071136258603748,
          0.0000020672911443972196,
          0.0000020634263235914614,
          0.0000020595417775404538,
          0.0000020556374883313973,
          0.0000020517134387921397,
          0.0000020477696124986364,
          0.0000020438059937824427,
          0.0000020398225677382372,
          0.0000020358193202313754,
          0.0000020317962379054727,
          0.000002027753308190023,
          0.0000020236905193080403,
          0.0000020196078602837377,
          0.00000201550532095023,
          0.0000020113828919572707,
          0.0000020072405647790143,
          0.0000020030783317218125,
          0.000001998896185932033,
          0.0000019946941214039148,
          0.0000019904721329874426,
          0.0000019862302163962573,
          0.0000019819683682155896,
          0.000001977686585910223,
          0.0000019733848678324825,
          0.0000019690632132302504,
          0.0000019647216222550114,
          0.000001960360095969918,
          0.0000019559786363578867,
          0.0000019515772463297185,
          0.0000019471559297322425,
          0.000001942714691356486,
          0.0000019382535369458696,
          0.000001933772473204422,
          0.000001929271507805024,
          0.000001924750649397671,
          0.0000019202099076177613,
          0.000001915649293094404,
          0.0000019110688174587485,
          0.0000019064684933523403,
          0.0000019018483344354894,
          0.000001897208355395666,
          0.0000018925485719559123,
          0.0000018878690008832751,
          0.0000018831696599972563,
          0.000001878450568178282,
          0.0000018737117453761892,
          0.0000018689532126187302,
          0.000001864174992020092,
          0.000001859377106789434,
          0.0000018545595812394387,
          0.0000018497224407948785,
          0.0000018448657120011965,
          0.0000018399894225330998,
          0.0000018350936012031678,
          0.0000018301782779704701,
          0.000001825243483949197,
          0.0000018202892514173014,
          0.0000018153156138251496,
          0.0000018103226058041826,
          0.0000018053102631755842,
          0.0000018002786229589587,
          0.0000017952277233810152,
          0.0000017901576038842574,
          0.000001785068305135679,
          0.0000017799598690354645,
          0.0000017748323387256935,
          0.0000017696857585990467,
          0.000001764520174307515,
          0.0000017593356327711101,
          0.000001754132182186574,
          0.0000017489098720360886,
          0.0000017436687530959832,
          0.0000017384088774454403,
          0.0000017331302984751952,
          0.0000017278330708962344,
          0.0000017225172507484855,
          0.0000017171828954095008,
          0.0000017118300636031344,
          0.0000017064588154082092,
          0.0000017010692122671735,
          0.0000016956613169947474,
          0.0000016902351937865559,
          0.000001684790908227749,
          0.0000016793285273016066,
          0.000001673848119398128,
          0.000001668349754322604,
          0.0000016628335033041685,
          0.0000016572994390043342,
          0.0000016517476355255032,
          0.0000016461781684194573,
          0.000001640591114695824,
          0.0000016349865528305166,
          0.0000016293645627741485,
          0.000001623725225960418,
          0.0000016180686253144652,
          0.0000016123948452611962,
          0.0000016067039717335747,
          0.0000016009960921808807,
          0.000001595271295576932,
          0.0000015895296724282684,
          0.0000015837713147822973,
          0.0000015779963162353978,
          0.000001572204771940984,
          0.0000015663967786175202,
          0.0000015605724345564957,
          0.000001554731839630346,
          0.000001548875095300329,
          0.0000015430023046243467,
          0.000001537113572264715,
          0.0000015312090044958775,
          0.0000015252887092120628,
          0.0000015193527959348813,
          0.0000015134013758208615,
          0.000001507434561668924,
          0.000001501452467927787,
          0.0000014954552107033078,
          0.0000014894429077657517,
          0.0000014834156785569906,
          0.0000014773736441976273,
          0.000001471316927494042,
          0.0000014652456529453616,
          0.0000014591599467503474,
          0.0000014530599368141988,
          0.000001446945752755271,
          0.0000014408175259117052,
          0.0000014346753893479677,
          0.0000014285194778612938,
          0.0000014223499279880384,
          0.0000014161668780099258,
          0.0000014099704679601988,
          0.000001403760839629664,
          0.0000013975381365726297,
          0.000001391302504112735,
          0.0000013850540893486651,
          0.0000013787930411597533,
          0.000001372519510211462,
          0.0000013662336489607448,
          0.000001359935611661283,
          0.0000013536255543685953,
          0.000001347303634945016,
          0.0000013409700130645423,
          0.0000013346248502175403,
          0.000001328268309715315,
          0.0000013219005566945352,
          0.0000013155217581215108,
          0.0000013091320827963215,
          0.0000013027317013567905,
          0.0000012963207862823027,
          0.0000012898995118974604,
          0.0000012834680543755749,
          0.0000012770265917419918,
          0.0000012705753038772435,
          0.0000012641143725200248,
          0.0000012576439812699924,
          0.000001251164315590378,
          0.0000012446755628104166,
          0.000001238177912127583,
          0.000001231671554609633,
          0.000001225156683196445,
          0.0000012186334927016599,
          0.0000012121021798141113,
          0.0000012055629430990456,
          0.0000011990159829991252,
          0.0000011924615018352113,
          0.0000011858997038069217,
          0.0000011793307949929596,
          0.0000011727549833512077,
          0.0000011661724787185845,
          0.0000011595834928106564,
          0.000001152988239221003,
          0.0000011463869334203285,
          0.0000011397797927553167,
          0.0000011331670364472214,
          0.000001126548885590192,
          0.0000011199255631493244,
          0.0000011132972939584356,
          0.0000011066643047175545,
          0.0000011000268239901255,
          0.000001093385082199918,
          0.0000010867393116276392,
          0.0000010800897464072398,
          0.0000010734366225219127,
          0.0000010667801777997766,
          0.000001060120651909237,
          0.0000010534582863540234,
          0.0000010467933244678932,
          0.0000010401260114089975,
          0.0000010334565941539053,
          0.0000010267853214912756,
          0.0000010201124440151765,
          0.0000010134382141180413,
          0.0000010067628859832574,
          0.0000010000867155773823,
          9.934099606419788e-7,
          9.867328806850644e-7,
          9.80055736972169e-7,
          9.73378792516992e-7,
          9.66702312071656e-7,
          9.600265621165476e-7,
          9.533518108497403e-7,
          9.466783281759921e-7,
          9.400063856953117e-7,
          9.333362566910869e-7,
          9.266682161177664e-7,
          9.200025405880907e-7,
          9.133395083598643e-7,
          9.066793993222612e-7,
          9.000224949816577e-7,
          8.933690784469865e-7,
          8.867194344146021e-7,
          8.800738491526529e-7,
          8.734326104849522e-7,
          8.667960077743404e-7,
          8.601643319055309e-7,
          8.535378752674333e-7,
          8.46916931734946e-7,
          8.40301796650211e-7,
          8.336927668033221e-7,
          8.270901404124824e-7,
          8.204942171035989e-7,
          8.139052978893114e-7,
          8.07323685147444e-7,
          8.007496825988749e-7,
          7.941835952848142e-7,
          7.876257295434848e-7,
          7.810763929861952e-7,
          7.745358944728007e-7,
          7.680045440865417e-7,
          7.61482653108253e-7,
          7.549705339899368e-7,
          7.484685003276906e-7,
          7.419768668339829e-7,
          7.354959493092689e-7,
          7.290260646129384e-7,
          7.225675306335882e-7,
          7.161206662586114e-7,
          7.09685791343096e-7,
          7.032632266780246e-7,
          6.968532939577687e-7,
          6.904563157468686e-7,
          6.840726154460926e-7,
          6.777025172577675e-7,
          6.713463461503724e-7,
          6.650044278223892e-7,
          6.586770886654026e-7,
          6.52364655726441e-7,
          6.460674566695527e-7,
          6.397858197366093e-7,
          6.335200737073291e-7,
          6.272705478585143e-7,
          6.210375719224948e-7,
          6.148214760447717e-7,
          6.086225907408533e-7,
          6.024412468522789e-7,
          5.962777755018212e-7,
          5.901325080478645e-7,
          5.840057760379486e-7,
          5.77897911161476e-7,
          5.718092452015749e-7,
          5.657401099861115e-7,
          5.596908373378481e-7,
          5.536617590237408e-7,
          5.476532067033711e-7,
          5.416655118765074e-7,
          5.356990058297918e-7,
          5.297540195825469e-7,
          5.23830883831699e-7,
          5.17929928895815e-7,
          5.12051484658246e-7,
          5.061958805093784e-7,
          5.003634452879856e-7,
          4.945545072216808e-7,
          4.887693938664661e-7,
          4.83008432045377e-7,
          4.772719477862191e-7,
          4.7156026625839866e-7,
          4.6587371170884174e-7,
          4.6021260739700513e-7,
          4.545772755289761e-7,
          4.489680371906628e-7,
          4.4338521228007504e-7,
          4.378291194386974e-7,
          4.323000759819548e-7,
          4.2679839782877414e-7,
          4.213243994302436e-7,
          4.1587839369737306e-7,
          4.1046069192795906e-7,
          4.050716037325585e-7,
          3.997114369595764e-7,
          3.943804976194721e-7,
          3.890790898080909e-7,
          3.838075156291273e-7,
          3.7856607511572724e-7,
          3.733550661512375e-7,
          3.681747843891108e-7,
          3.6302552317197617e-7,
          3.5790757344988524e-7,
          3.5282122369774444e-7,
          3.477667598319465e-7,
          3.427444651262121e-7,
          3.377546201266569e-7,
          3.32797502566097e-7,
          3.278733872776093e-7,
          3.2298254610736214e-7,
          3.1812524782673377e-7,
          3.1330175804373687e-7,
          3.085123391137686e-7,
          3.03757250049706e-7,
          2.9903674643136785e-7,
          2.9435108031436673e-7,
          2.8970050013837323e-7,
          2.850852506348179e-7,
          2.80505572734057e-7,
          2.759617034720286e-7,
          2.7145387589642787e-7,
          2.6698231897243063e-7,
          2.625472574879973e-7,
          2.5814891195878765e-7,
          2.537874985327219e-7,
          2.4946322889422213e-7,
          2.4517631016817033e-7,
          2.409269448236221e-7,
          2.3671533057731361e-7,
          2.32541660297005e-7,
          2.284061219047003e-7,
          2.2430889827978975e-7,
          2.20250167162159e-7,
          2.1623010105531307e-7,
          2.1224886712956365e-7,
          2.0830662712533026e-7,
          2.0440353725660794e-7,
          2.0053974811465515e-7,
          1.967154045719578e-7,
          1.9293064568652693e-7,
          1.8918560460658965e-7,
          1.8548040847573424e-7,
          1.818151783385728e-7,
          1.781900290469862e-7,
          1.746050691670183e-7,
          1.710604008864884e-7,
          1.6755611992339202e-7,
          1.6409231543516356e-7,
          1.6066906992887468e-7,
          1.5728645917244555e-7,
          1.5394455210694718e-7,
          1.5064341076007553e-7,
          1.4738309016088025e-7,
          1.4416363825583206e-7,
          1.4098509582631575e-7,
          1.3784749640763744e-7,
          1.3475086620963616e-7,
          1.3169522403899293e-7,
          1.2868058122333122e-7,
          1.2570694153720582e-7,
          1.2277430113007802e-7,
          1.1988264845637792e-7,
          1.1703196420775549e-7,
          1.1422222124762489e-7,
          1.114533845481078e-7,
          1.0872541112948315e-7,
          1.0603825000225306e-7,
          1.0339184211193563e-7,
          1.0078612028669748e-7,
          9.822100918794021e-8,
          9.56964252639565e-8,
          9.321227670677302e-8,
          9.07684634122985e-8,
          8.836487694389689e-8,
          8.600140049950629e-8,
          8.367790888242562e-8,
          8.139426847589192e-8,
          7.915033722157193e-8,
          7.69459646020923e-8,
          7.47809916277333e-8,
          7.265525082741154e-8,
          7.056856624407703e-8,
          6.852075343465048e-8,
          6.651161947462627e-8,
          6.454096296746666e-8,
          6.26085740589119e-8,
          6.071423445633058e-8,
          5.885771745323359e-8,
          5.703878795907402e-8,
          5.525720253445374e-8,
          5.3512709431856275e-8,
          5.180504864202325e-8,
          5.013395194608996e-8,
          4.849914297359309e-8,
          4.690033726646069e-8,
          4.5337242349091985e-8,
          4.380955780463082e-8,
          4.231697535753316e-8,
          4.085917896252489e-8,
          3.9435844900041996e-8,
          3.804664187824025e-8,
          3.669123114165661e-8,
          3.536926658659879e-8,
          3.408039488333387e-8,
          3.282425560514017e-8,
          3.160048136427992e-8,
          3.040869795494317e-8,
          2.9248524503205568e-8,
          2.8119573624034592e-8,
          2.7021451585370056e-8,
          2.5953758479295923e-8,
          2.4916088400310568e-8,
          2.390802963069272e-8,
          2.2929164832949727e-8,
          2.1979071249323642e-8,
          2.1057320908319104e-8,
          2.016348083820476e-8,
          1.9297113287427505e-8,
          1.8457775951865494e-8,
          1.7645022208832357e-8,
          1.6858401357730823e-8,
          1.609745886723925e-8,
          1.5361736628899504e-8,
          1.465077321695884e-8,
          1.3964104154302437e-8,
          1.3301262184296602e-8,
          1.2661777548345643e-8,
          1.2045178268948042e-8,
          1.145099043801968e-8,
          1.087873851023374e-8,
          1.032794560110838e-8,
          9.798133789554528e-9,
          9.288824424577017e-9,
          8.799538435803111e-9,
          8.329796647493005e-9,
          7.879120095667386e-9,
          7.447030347967515e-9,
          7.033049825843817e-9,
          6.6367021286493785e-9,
          6.257512359195477e-9,
          5.89500745030713e-9,
          5.548716491897844e-9,
          5.2181710580643376e-9,
          4.902905533684083e-9,
          4.602457439981162e-9,
          4.316367758509281e-9,
          4.044181252984917e-9,
          3.785446788388621e-9,
          3.5397176467385343e-9,
          3.3065518389274266e-9,
          3.0855124120029788e-9,
          2.8761677512609563e-9,
          2.6780918765122818e-9,
          2.490864731878098e-9,
          2.314072468461769e-9,
          2.147307719243586e-9,
          1.9901698655428188e-9,
          1.8422652943928785e-9,
          1.7032076461788078e-9,
          1.5726180518922944e-9,
          1.4501253593679882e-9,
          1.3353663478762464e-9,
          1.2279859304616723e-9,
          1.1276373434340273e-9,
          1.0339823224384273e-9,
          9.46691264555257e-10,
          8.654433759070376e-10,
          7.899268042796424e-10,
          7.198387562988065e-10,
          6.548855987398687e-10,
          5.947829435891324e-10,
          5.392557165191126e-10,
          4.880382084872284e-10,
          4.4087411021814454e-10,
          3.9751652938386463e-10,
          3.5772799035271127e-10,
          3.212804164383549e-10,
          2.8795509464286676e-10,
          2.5754262295315825e-10,
          2.298428403178622e-10,
          2.0466473950140902e-10,
          1.8182636308340626e-10,
          1.6115468294406595e-10,
          1.4248546364990985e-10,
          1.256631102278577e-10,
          1.1054050088956111e-10,
          9.697880534094827e-11,
          8.484728938381041e-11,
          7.402310658628698e-11,
          6.439107786665275e-11,
          5.584345989921827e-11,
          4.827970331174932e-11,
          4.16062016999013e-11,
          3.5736032535063325e-11,
          3.05886910870262e-11,
          2.6089818521360575e-11,
          2.2170925362670706e-11,
          1.8769111538367782e-11,
          1.5826784232725446e-11,
          1.3291374787240132e-11,
          1.1115055880295484e-11,
          9.25446020648523e-12,
          7.67040185344342e-12,
          6.327601541538257e-12,
          5.194416849302149e-12,
          4.242578495126697e-12,
          3.4469336838208063e-12,
          2.7851974555367072e-12,
          2.2377128948909107e-12,
          1.7872209705804874e-12,
          1.418640681309994e-12,
          1.1188600834418947e-12,
          8.765386706455619e-13,
          6.819214672569856e-13,
          5.26665086493579e-13,
          4.0367589360429894e-13,
          3.0696030404461493e-13,
          2.3148713944934963e-13,
          1.7306186113135774e-13,
          1.2821240361704364e-13,
          9.408624081765088e-14,
          6.835823618493602e-14,
          4.9148756808469186e-14,
          3.495147087916609e-14,
          2.4570199037851735e-14,
          1.7064153356107216e-14,
          1.1700873283966029e-14
         ]
        }
       ],
       "layout": {
        "legend": {
         "tracegroupgap": 0
        },
        "margin": {
         "t": 60
        },
        "template": {
         "data": {
          "bar": [
           {
            "error_x": {
             "color": "#2a3f5f"
            },
            "error_y": {
             "color": "#2a3f5f"
            },
            "marker": {
             "line": {
              "color": "#E5ECF6",
              "width": 0.5
             },
             "pattern": {
              "fillmode": "overlay",
              "size": 10,
              "solidity": 0.2
             }
            },
            "type": "bar"
           }
          ],
          "barpolar": [
           {
            "marker": {
             "line": {
              "color": "#E5ECF6",
              "width": 0.5
             },
             "pattern": {
              "fillmode": "overlay",
              "size": 10,
              "solidity": 0.2
             }
            },
            "type": "barpolar"
           }
          ],
          "carpet": [
           {
            "aaxis": {
             "endlinecolor": "#2a3f5f",
             "gridcolor": "white",
             "linecolor": "white",
             "minorgridcolor": "white",
             "startlinecolor": "#2a3f5f"
            },
            "baxis": {
             "endlinecolor": "#2a3f5f",
             "gridcolor": "white",
             "linecolor": "white",
             "minorgridcolor": "white",
             "startlinecolor": "#2a3f5f"
            },
            "type": "carpet"
           }
          ],
          "choropleth": [
           {
            "colorbar": {
             "outlinewidth": 0,
             "ticks": ""
            },
            "type": "choropleth"
           }
          ],
          "contour": [
           {
            "colorbar": {
             "outlinewidth": 0,
             "ticks": ""
            },
            "colorscale": [
             [
              0,
              "#0d0887"
             ],
             [
              0.1111111111111111,
              "#46039f"
             ],
             [
              0.2222222222222222,
              "#7201a8"
             ],
             [
              0.3333333333333333,
              "#9c179e"
             ],
             [
              0.4444444444444444,
              "#bd3786"
             ],
             [
              0.5555555555555556,
              "#d8576b"
             ],
             [
              0.6666666666666666,
              "#ed7953"
             ],
             [
              0.7777777777777778,
              "#fb9f3a"
             ],
             [
              0.8888888888888888,
              "#fdca26"
             ],
             [
              1,
              "#f0f921"
             ]
            ],
            "type": "contour"
           }
          ],
          "contourcarpet": [
           {
            "colorbar": {
             "outlinewidth": 0,
             "ticks": ""
            },
            "type": "contourcarpet"
           }
          ],
          "heatmap": [
           {
            "colorbar": {
             "outlinewidth": 0,
             "ticks": ""
            },
            "colorscale": [
             [
              0,
              "#0d0887"
             ],
             [
              0.1111111111111111,
              "#46039f"
             ],
             [
              0.2222222222222222,
              "#7201a8"
             ],
             [
              0.3333333333333333,
              "#9c179e"
             ],
             [
              0.4444444444444444,
              "#bd3786"
             ],
             [
              0.5555555555555556,
              "#d8576b"
             ],
             [
              0.6666666666666666,
              "#ed7953"
             ],
             [
              0.7777777777777778,
              "#fb9f3a"
             ],
             [
              0.8888888888888888,
              "#fdca26"
             ],
             [
              1,
              "#f0f921"
             ]
            ],
            "type": "heatmap"
           }
          ],
          "histogram": [
           {
            "marker": {
             "pattern": {
              "fillmode": "overlay",
              "size": 10,
              "solidity": 0.2
             }
            },
            "type": "histogram"
           }
          ],
          "histogram2d": [
           {
            "colorbar": {
             "outlinewidth": 0,
             "ticks": ""
            },
            "colorscale": [
             [
              0,
              "#0d0887"
             ],
             [
              0.1111111111111111,
              "#46039f"
             ],
             [
              0.2222222222222222,
              "#7201a8"
             ],
             [
              0.3333333333333333,
              "#9c179e"
             ],
             [
              0.4444444444444444,
              "#bd3786"
             ],
             [
              0.5555555555555556,
              "#d8576b"
             ],
             [
              0.6666666666666666,
              "#ed7953"
             ],
             [
              0.7777777777777778,
              "#fb9f3a"
             ],
             [
              0.8888888888888888,
              "#fdca26"
             ],
             [
              1,
              "#f0f921"
             ]
            ],
            "type": "histogram2d"
           }
          ],
          "histogram2dcontour": [
           {
            "colorbar": {
             "outlinewidth": 0,
             "ticks": ""
            },
            "colorscale": [
             [
              0,
              "#0d0887"
             ],
             [
              0.1111111111111111,
              "#46039f"
             ],
             [
              0.2222222222222222,
              "#7201a8"
             ],
             [
              0.3333333333333333,
              "#9c179e"
             ],
             [
              0.4444444444444444,
              "#bd3786"
             ],
             [
              0.5555555555555556,
              "#d8576b"
             ],
             [
              0.6666666666666666,
              "#ed7953"
             ],
             [
              0.7777777777777778,
              "#fb9f3a"
             ],
             [
              0.8888888888888888,
              "#fdca26"
             ],
             [
              1,
              "#f0f921"
             ]
            ],
            "type": "histogram2dcontour"
           }
          ],
          "mesh3d": [
           {
            "colorbar": {
             "outlinewidth": 0,
             "ticks": ""
            },
            "type": "mesh3d"
           }
          ],
          "parcoords": [
           {
            "line": {
             "colorbar": {
              "outlinewidth": 0,
              "ticks": ""
             }
            },
            "type": "parcoords"
           }
          ],
          "pie": [
           {
            "automargin": true,
            "type": "pie"
           }
          ],
          "scatter": [
           {
            "fillpattern": {
             "fillmode": "overlay",
             "size": 10,
             "solidity": 0.2
            },
            "type": "scatter"
           }
          ],
          "scatter3d": [
           {
            "line": {
             "colorbar": {
              "outlinewidth": 0,
              "ticks": ""
             }
            },
            "marker": {
             "colorbar": {
              "outlinewidth": 0,
              "ticks": ""
             }
            },
            "type": "scatter3d"
           }
          ],
          "scattercarpet": [
           {
            "marker": {
             "colorbar": {
              "outlinewidth": 0,
              "ticks": ""
             }
            },
            "type": "scattercarpet"
           }
          ],
          "scattergeo": [
           {
            "marker": {
             "colorbar": {
              "outlinewidth": 0,
              "ticks": ""
             }
            },
            "type": "scattergeo"
           }
          ],
          "scattergl": [
           {
            "marker": {
             "colorbar": {
              "outlinewidth": 0,
              "ticks": ""
             }
            },
            "type": "scattergl"
           }
          ],
          "scattermap": [
           {
            "marker": {
             "colorbar": {
              "outlinewidth": 0,
              "ticks": ""
             }
            },
            "type": "scattermap"
           }
          ],
          "scattermapbox": [
           {
            "marker": {
             "colorbar": {
              "outlinewidth": 0,
              "ticks": ""
             }
            },
            "type": "scattermapbox"
           }
          ],
          "scatterpolar": [
           {
            "marker": {
             "colorbar": {
              "outlinewidth": 0,
              "ticks": ""
             }
            },
            "type": "scatterpolar"
           }
          ],
          "scatterpolargl": [
           {
            "marker": {
             "colorbar": {
              "outlinewidth": 0,
              "ticks": ""
             }
            },
            "type": "scatterpolargl"
           }
          ],
          "scatterternary": [
           {
            "marker": {
             "colorbar": {
              "outlinewidth": 0,
              "ticks": ""
             }
            },
            "type": "scatterternary"
           }
          ],
          "surface": [
           {
            "colorbar": {
             "outlinewidth": 0,
             "ticks": ""
            },
            "colorscale": [
             [
              0,
              "#0d0887"
             ],
             [
              0.1111111111111111,
              "#46039f"
             ],
             [
              0.2222222222222222,
              "#7201a8"
             ],
             [
              0.3333333333333333,
              "#9c179e"
             ],
             [
              0.4444444444444444,
              "#bd3786"
             ],
             [
              0.5555555555555556,
              "#d8576b"
             ],
             [
              0.6666666666666666,
              "#ed7953"
             ],
             [
              0.7777777777777778,
              "#fb9f3a"
             ],
             [
              0.8888888888888888,
              "#fdca26"
             ],
             [
              1,
              "#f0f921"
             ]
            ],
            "type": "surface"
           }
          ],
          "table": [
           {
            "cells": {
             "fill": {
              "color": "#EBF0F8"
             },
             "line": {
              "color": "white"
             }
            },
            "header": {
             "fill": {
              "color": "#C8D4E3"
             },
             "line": {
              "color": "white"
             }
            },
            "type": "table"
           }
          ]
         },
         "layout": {
          "annotationdefaults": {
           "arrowcolor": "#2a3f5f",
           "arrowhead": 0,
           "arrowwidth": 1
          },
          "autotypenumbers": "strict",
          "coloraxis": {
           "colorbar": {
            "outlinewidth": 0,
            "ticks": ""
           }
          },
          "colorscale": {
           "diverging": [
            [
             0,
             "#8e0152"
            ],
            [
             0.1,
             "#c51b7d"
            ],
            [
             0.2,
             "#de77ae"
            ],
            [
             0.3,
             "#f1b6da"
            ],
            [
             0.4,
             "#fde0ef"
            ],
            [
             0.5,
             "#f7f7f7"
            ],
            [
             0.6,
             "#e6f5d0"
            ],
            [
             0.7,
             "#b8e186"
            ],
            [
             0.8,
             "#7fbc41"
            ],
            [
             0.9,
             "#4d9221"
            ],
            [
             1,
             "#276419"
            ]
           ],
           "sequential": [
            [
             0,
             "#0d0887"
            ],
            [
             0.1111111111111111,
             "#46039f"
            ],
            [
             0.2222222222222222,
             "#7201a8"
            ],
            [
             0.3333333333333333,
             "#9c179e"
            ],
            [
             0.4444444444444444,
             "#bd3786"
            ],
            [
             0.5555555555555556,
             "#d8576b"
            ],
            [
             0.6666666666666666,
             "#ed7953"
            ],
            [
             0.7777777777777778,
             "#fb9f3a"
            ],
            [
             0.8888888888888888,
             "#fdca26"
            ],
            [
             1,
             "#f0f921"
            ]
           ],
           "sequentialminus": [
            [
             0,
             "#0d0887"
            ],
            [
             0.1111111111111111,
             "#46039f"
            ],
            [
             0.2222222222222222,
             "#7201a8"
            ],
            [
             0.3333333333333333,
             "#9c179e"
            ],
            [
             0.4444444444444444,
             "#bd3786"
            ],
            [
             0.5555555555555556,
             "#d8576b"
            ],
            [
             0.6666666666666666,
             "#ed7953"
            ],
            [
             0.7777777777777778,
             "#fb9f3a"
            ],
            [
             0.8888888888888888,
             "#fdca26"
            ],
            [
             1,
             "#f0f921"
            ]
           ]
          },
          "colorway": [
           "#636efa",
           "#EF553B",
           "#00cc96",
           "#ab63fa",
           "#FFA15A",
           "#19d3f3",
           "#FF6692",
           "#B6E880",
           "#FF97FF",
           "#FECB52"
          ],
          "font": {
           "color": "#2a3f5f"
          },
          "geo": {
           "bgcolor": "white",
           "lakecolor": "white",
           "landcolor": "#E5ECF6",
           "showlakes": true,
           "showland": true,
           "subunitcolor": "white"
          },
          "hoverlabel": {
           "align": "left"
          },
          "hovermode": "closest",
          "mapbox": {
           "style": "light"
          },
          "paper_bgcolor": "white",
          "plot_bgcolor": "#E5ECF6",
          "polar": {
           "angularaxis": {
            "gridcolor": "white",
            "linecolor": "white",
            "ticks": ""
           },
           "bgcolor": "#E5ECF6",
           "radialaxis": {
            "gridcolor": "white",
            "linecolor": "white",
            "ticks": ""
           }
          },
          "scene": {
           "xaxis": {
            "backgroundcolor": "#E5ECF6",
            "gridcolor": "white",
            "gridwidth": 2,
            "linecolor": "white",
            "showbackground": true,
            "ticks": "",
            "zerolinecolor": "white"
           },
           "yaxis": {
            "backgroundcolor": "#E5ECF6",
            "gridcolor": "white",
            "gridwidth": 2,
            "linecolor": "white",
            "showbackground": true,
            "ticks": "",
            "zerolinecolor": "white"
           },
           "zaxis": {
            "backgroundcolor": "#E5ECF6",
            "gridcolor": "white",
            "gridwidth": 2,
            "linecolor": "white",
            "showbackground": true,
            "ticks": "",
            "zerolinecolor": "white"
           }
          },
          "shapedefaults": {
           "line": {
            "color": "#2a3f5f"
           }
          },
          "ternary": {
           "aaxis": {
            "gridcolor": "white",
            "linecolor": "white",
            "ticks": ""
           },
           "baxis": {
            "gridcolor": "white",
            "linecolor": "white",
            "ticks": ""
           },
           "bgcolor": "#E5ECF6",
           "caxis": {
            "gridcolor": "white",
            "linecolor": "white",
            "ticks": ""
           }
          },
          "title": {
           "x": 0.05
          },
          "xaxis": {
           "automargin": true,
           "gridcolor": "white",
           "linecolor": "white",
           "ticks": "",
           "title": {
            "standoff": 15
           },
           "zerolinecolor": "white",
           "zerolinewidth": 2
          },
          "yaxis": {
           "automargin": true,
           "gridcolor": "white",
           "linecolor": "white",
           "ticks": "",
           "title": {
            "standoff": 15
           },
           "zerolinecolor": "white",
           "zerolinewidth": 2
          }
         }
        },
        "xaxis": {
         "anchor": "y",
         "domain": [
          0,
          1
         ]
        },
        "yaxis": {
         "anchor": "x",
         "domain": [
          0,
          1
         ]
        }
       }
      }
     },
     "metadata": {},
     "output_type": "display_data"
    },
    {
     "data": {
      "application/vnd.plotly.v1+json": {
       "config": {
        "plotlyServerURL": "https://plot.ly"
       },
       "data": [
        {
         "hovertemplate": "<extra></extra>",
         "legendgroup": "",
         "line": {
          "color": "#636efa",
          "dash": "solid"
         },
         "marker": {
          "symbol": "circle"
         },
         "mode": "lines",
         "name": "",
         "orientation": "v",
         "showlegend": false,
         "type": "scatter",
         "xaxis": "x",
         "yaxis": "y"
        },
        {
         "name": "F(z)",
         "type": "scatter",
         "x": [
          0,
          0.001,
          0.002,
          0.003,
          0.004,
          0.005,
          0.006,
          0.007,
          0.008,
          0.009,
          0.01,
          0.011,
          0.012,
          0.013,
          0.014,
          0.015,
          0.016,
          0.017,
          0.018,
          0.019,
          0.02,
          0.021,
          0.022,
          0.023,
          0.024,
          0.025,
          0.026,
          0.027,
          0.028,
          0.029,
          0.03,
          0.031,
          0.032,
          0.033,
          0.034,
          0.035,
          0.036,
          0.037,
          0.038,
          0.039,
          0.04,
          0.041,
          0.042,
          0.043,
          0.044,
          0.045,
          0.046,
          0.047,
          0.048,
          0.049,
          0.05,
          0.051,
          0.052,
          0.053,
          0.054,
          0.055,
          0.056,
          0.057,
          0.058,
          0.059,
          0.06,
          0.061,
          0.062,
          0.063,
          0.064,
          0.065,
          0.066,
          0.067,
          0.068,
          0.069,
          0.07,
          0.071,
          0.072,
          0.073,
          0.074,
          0.075,
          0.076,
          0.077,
          0.078,
          0.079,
          0.08,
          0.081,
          0.082,
          0.083,
          0.084,
          0.085,
          0.086,
          0.087,
          0.088,
          0.089,
          0.09,
          0.091,
          0.092,
          0.093,
          0.094,
          0.095,
          0.096,
          0.097,
          0.098,
          0.099,
          0.1,
          0.101,
          0.102,
          0.103,
          0.104,
          0.105,
          0.106,
          0.107,
          0.108,
          0.109,
          0.11,
          0.111,
          0.112,
          0.113,
          0.114,
          0.115,
          0.116,
          0.117,
          0.118,
          0.119,
          0.12,
          0.121,
          0.122,
          0.123,
          0.124,
          0.125,
          0.126,
          0.127,
          0.128,
          0.129,
          0.13,
          0.131,
          0.132,
          0.133,
          0.134,
          0.135,
          0.136,
          0.137,
          0.138,
          0.139,
          0.14,
          0.141,
          0.142,
          0.143,
          0.144,
          0.145,
          0.146,
          0.147,
          0.148,
          0.149,
          0.15,
          0.151,
          0.152,
          0.153,
          0.154,
          0.155,
          0.156,
          0.157,
          0.158,
          0.159,
          0.16,
          0.161,
          0.162,
          0.163,
          0.164,
          0.165,
          0.166,
          0.167,
          0.168,
          0.169,
          0.17,
          0.171,
          0.172,
          0.173,
          0.174,
          0.175,
          0.176,
          0.177,
          0.178,
          0.179,
          0.18,
          0.181,
          0.182,
          0.183,
          0.184,
          0.185,
          0.186,
          0.187,
          0.188,
          0.189,
          0.19,
          0.191,
          0.192,
          0.193,
          0.194,
          0.195,
          0.196,
          0.197,
          0.198,
          0.199,
          0.2,
          0.201,
          0.202,
          0.203,
          0.204,
          0.205,
          0.206,
          0.207,
          0.208,
          0.209,
          0.21,
          0.211,
          0.212,
          0.213,
          0.214,
          0.215,
          0.216,
          0.217,
          0.218,
          0.219,
          0.22,
          0.221,
          0.222,
          0.223,
          0.224,
          0.225,
          0.226,
          0.227,
          0.228,
          0.229,
          0.23,
          0.231,
          0.232,
          0.233,
          0.234,
          0.235,
          0.236,
          0.237,
          0.238,
          0.239,
          0.24,
          0.241,
          0.242,
          0.243,
          0.244,
          0.245,
          0.246,
          0.247,
          0.248,
          0.249,
          0.25,
          0.251,
          0.252,
          0.253,
          0.254,
          0.255,
          0.256,
          0.257,
          0.258,
          0.259,
          0.26,
          0.261,
          0.262,
          0.263,
          0.264,
          0.265,
          0.266,
          0.267,
          0.268,
          0.269,
          0.27,
          0.271,
          0.272,
          0.273,
          0.274,
          0.275,
          0.276,
          0.277,
          0.278,
          0.279,
          0.28,
          0.281,
          0.282,
          0.283,
          0.284,
          0.285,
          0.286,
          0.287,
          0.288,
          0.289,
          0.29,
          0.291,
          0.292,
          0.293,
          0.294,
          0.295,
          0.296,
          0.297,
          0.298,
          0.299,
          0.3,
          0.301,
          0.302,
          0.303,
          0.304,
          0.305,
          0.306,
          0.307,
          0.308,
          0.309,
          0.31,
          0.311,
          0.312,
          0.313,
          0.314,
          0.315,
          0.316,
          0.317,
          0.318,
          0.319,
          0.32,
          0.321,
          0.322,
          0.323,
          0.324,
          0.325,
          0.326,
          0.327,
          0.328,
          0.329,
          0.33,
          0.331,
          0.332,
          0.333,
          0.334,
          0.335,
          0.336,
          0.337,
          0.338,
          0.339,
          0.34,
          0.341,
          0.342,
          0.343,
          0.344,
          0.345,
          0.346,
          0.347,
          0.348,
          0.349,
          0.35,
          0.351,
          0.352,
          0.353,
          0.354,
          0.355,
          0.356,
          0.357,
          0.358,
          0.359,
          0.36,
          0.361,
          0.362,
          0.363,
          0.364,
          0.365,
          0.366,
          0.367,
          0.368,
          0.369,
          0.37,
          0.371,
          0.372,
          0.373,
          0.374,
          0.375,
          0.376,
          0.377,
          0.378,
          0.379,
          0.38,
          0.381,
          0.382,
          0.383,
          0.384,
          0.385,
          0.386,
          0.387,
          0.388,
          0.389,
          0.39,
          0.391,
          0.392,
          0.393,
          0.394,
          0.395,
          0.396,
          0.397,
          0.398,
          0.399,
          0.4,
          0.401,
          0.402,
          0.403,
          0.404,
          0.405,
          0.406,
          0.407,
          0.408,
          0.409,
          0.41,
          0.411,
          0.412,
          0.413,
          0.414,
          0.415,
          0.416,
          0.417,
          0.418,
          0.419,
          0.42,
          0.421,
          0.422,
          0.423,
          0.424,
          0.425,
          0.426,
          0.427,
          0.428,
          0.429,
          0.43,
          0.431,
          0.432,
          0.433,
          0.434,
          0.435,
          0.436,
          0.437,
          0.438,
          0.439,
          0.44,
          0.441,
          0.442,
          0.443,
          0.444,
          0.445,
          0.446,
          0.447,
          0.448,
          0.449,
          0.45,
          0.451,
          0.452,
          0.453,
          0.454,
          0.455,
          0.456,
          0.457,
          0.458,
          0.459,
          0.46,
          0.461,
          0.462,
          0.463,
          0.464,
          0.465,
          0.466,
          0.467,
          0.468,
          0.469,
          0.47,
          0.471,
          0.472,
          0.473,
          0.474,
          0.475,
          0.476,
          0.477,
          0.478,
          0.479,
          0.48,
          0.481,
          0.482,
          0.483,
          0.484,
          0.485,
          0.486,
          0.487,
          0.488,
          0.489,
          0.49,
          0.491,
          0.492,
          0.493,
          0.494,
          0.495,
          0.496,
          0.497,
          0.498,
          0.499,
          0.5,
          0.501,
          0.502,
          0.503,
          0.504,
          0.505,
          0.506,
          0.507,
          0.508,
          0.509,
          0.51,
          0.511,
          0.512,
          0.513,
          0.514,
          0.515,
          0.516,
          0.517,
          0.518,
          0.519,
          0.52,
          0.521,
          0.522,
          0.523,
          0.524,
          0.525,
          0.526,
          0.527,
          0.528,
          0.529,
          0.53,
          0.531,
          0.532,
          0.533,
          0.534,
          0.535,
          0.536,
          0.537,
          0.538,
          0.539,
          0.54,
          0.541,
          0.542,
          0.543,
          0.544,
          0.545,
          0.546,
          0.547,
          0.548,
          0.549,
          0.55,
          0.551,
          0.552,
          0.553,
          0.554,
          0.555,
          0.556,
          0.557,
          0.558,
          0.559,
          0.56,
          0.561,
          0.562,
          0.563,
          0.564,
          0.565,
          0.566,
          0.567,
          0.568,
          0.569,
          0.57,
          0.571,
          0.572,
          0.573,
          0.574,
          0.575,
          0.576,
          0.577,
          0.578,
          0.579,
          0.58,
          0.581,
          0.582,
          0.583,
          0.584,
          0.585,
          0.586,
          0.587,
          0.588,
          0.589,
          0.59,
          0.591,
          0.592,
          0.593,
          0.594,
          0.595,
          0.596,
          0.597,
          0.598,
          0.599,
          0.6,
          0.601,
          0.602,
          0.603,
          0.604,
          0.605,
          0.606,
          0.607,
          0.608,
          0.609,
          0.61,
          0.611,
          0.612,
          0.613,
          0.614,
          0.615,
          0.616,
          0.617,
          0.618,
          0.619,
          0.62,
          0.621,
          0.622,
          0.623,
          0.624,
          0.625,
          0.626,
          0.627,
          0.628,
          0.629,
          0.63,
          0.631,
          0.632,
          0.633,
          0.634,
          0.635,
          0.636,
          0.637,
          0.638,
          0.639,
          0.64,
          0.641,
          0.642,
          0.643,
          0.644,
          0.645,
          0.646,
          0.647,
          0.648,
          0.649,
          0.65,
          0.651,
          0.652,
          0.653,
          0.654,
          0.655,
          0.656,
          0.657,
          0.658,
          0.659,
          0.66,
          0.661,
          0.662,
          0.663,
          0.664,
          0.665,
          0.666,
          0.667,
          0.668,
          0.669,
          0.67,
          0.671,
          0.672,
          0.673,
          0.674,
          0.675,
          0.676,
          0.677,
          0.678,
          0.679,
          0.68,
          0.681,
          0.682,
          0.683,
          0.684,
          0.685,
          0.686,
          0.687,
          0.688,
          0.689,
          0.69,
          0.691,
          0.692,
          0.693,
          0.694,
          0.695,
          0.696,
          0.697,
          0.698,
          0.699,
          0.7,
          0.701,
          0.702,
          0.703,
          0.704,
          0.705,
          0.706,
          0.707,
          0.708,
          0.709,
          0.71,
          0.711,
          0.712,
          0.713,
          0.714,
          0.715,
          0.716,
          0.717,
          0.718,
          0.719,
          0.72,
          0.721,
          0.722,
          0.723,
          0.724,
          0.725,
          0.726,
          0.727,
          0.728,
          0.729,
          0.73,
          0.731,
          0.732,
          0.733,
          0.734,
          0.735,
          0.736,
          0.737,
          0.738,
          0.739,
          0.74,
          0.741,
          0.742,
          0.743,
          0.744,
          0.745,
          0.746,
          0.747,
          0.748,
          0.749,
          0.75,
          0.751,
          0.752,
          0.753,
          0.754,
          0.755,
          0.756,
          0.757,
          0.758,
          0.759,
          0.76,
          0.761,
          0.762,
          0.763,
          0.764,
          0.765,
          0.766,
          0.767,
          0.768,
          0.769,
          0.77,
          0.771,
          0.772,
          0.773,
          0.774,
          0.775,
          0.776,
          0.777,
          0.778,
          0.779,
          0.78,
          0.781,
          0.782,
          0.783,
          0.784,
          0.785,
          0.786,
          0.787,
          0.788,
          0.789,
          0.79,
          0.791,
          0.792,
          0.793,
          0.794,
          0.795,
          0.796,
          0.797,
          0.798,
          0.799,
          0.8,
          0.801,
          0.802,
          0.803,
          0.804,
          0.805,
          0.806,
          0.807,
          0.808,
          0.809,
          0.81,
          0.811,
          0.812,
          0.813,
          0.814,
          0.815,
          0.816,
          0.817,
          0.818,
          0.819,
          0.82,
          0.821,
          0.822,
          0.823,
          0.824,
          0.825,
          0.826,
          0.827,
          0.828,
          0.829,
          0.83,
          0.831,
          0.832,
          0.833,
          0.834,
          0.835,
          0.836,
          0.837,
          0.838,
          0.839,
          0.84,
          0.841,
          0.842,
          0.843,
          0.844,
          0.845,
          0.846,
          0.847,
          0.848,
          0.849,
          0.85,
          0.851,
          0.852,
          0.853,
          0.854,
          0.855,
          0.856,
          0.857,
          0.858,
          0.859,
          0.86,
          0.861,
          0.862,
          0.863,
          0.864,
          0.865,
          0.866,
          0.867,
          0.868,
          0.869,
          0.87,
          0.871,
          0.872,
          0.873,
          0.874,
          0.875,
          0.876,
          0.877,
          0.878,
          0.879,
          0.88,
          0.881,
          0.882,
          0.883,
          0.884,
          0.885,
          0.886,
          0.887,
          0.888,
          0.889,
          0.89,
          0.891,
          0.892,
          0.893,
          0.894,
          0.895,
          0.896,
          0.897,
          0.898,
          0.899,
          0.9,
          0.901,
          0.902,
          0.903,
          0.904,
          0.905,
          0.906,
          0.907,
          0.908,
          0.909,
          0.91,
          0.911,
          0.912,
          0.913,
          0.914,
          0.915,
          0.916,
          0.917,
          0.918,
          0.919,
          0.92,
          0.921,
          0.922,
          0.923,
          0.924,
          0.925,
          0.926,
          0.927,
          0.928,
          0.929,
          0.93,
          0.931,
          0.932,
          0.933,
          0.934,
          0.935,
          0.936,
          0.937,
          0.938,
          0.939,
          0.94,
          0.941,
          0.942,
          0.943,
          0.944,
          0.945,
          0.946,
          0.947,
          0.948,
          0.949,
          0.95,
          0.951,
          0.952,
          0.953,
          0.954,
          0.955,
          0.956,
          0.957,
          0.958,
          0.959,
          0.96,
          0.961,
          0.962,
          0.963,
          0.964,
          0.965,
          0.966,
          0.967,
          0.968,
          0.969,
          0.97,
          0.971,
          0.972,
          0.973,
          0.974,
          0.975,
          0.976,
          0.977,
          0.978,
          0.979,
          0.98,
          0.981,
          0.982,
          0.983,
          0.984,
          0.985,
          0.986,
          0.987,
          0.988,
          0.989,
          0.99,
          0.991,
          0.992,
          0.993,
          0.994,
          0.995,
          0.996,
          0.997,
          0.998,
          0.999,
          1
         ],
         "y": [
          0,
          3.089559930638521e-13,
          6.21313076021767e-13,
          9.404700620856616e-13,
          1.2698270024744487e-12,
          1.6127839108599983e-12,
          1.9727407932078536e-12,
          2.3530976542009203e-12,
          2.7572544994407883e-12,
          3.188611336517676e-12,
          3.650568175697225e-12,
          4.146525030455824e-12,
          4.67988191794943e-12,
          5.254038859451262e-12,
          5.872395880774618e-12,
          6.538353012688979e-12,
          7.255310291333794e-12,
          8.026667758632501e-12,
          8.855825462708387e-12,
          9.746183458303342e-12,
          1.0701141807200291e-11,
          1.1724100578649898e-11,
          1.2818459849802007e-11,
          1.3987619706142272e-11,
          1.5234980241934323e-11,
          1.6563941560667817e-11,
          1.797790377551274e-11,
          1.94802670097802e-11,
          2.1074431397390097e-11,
          2.27637970833459e-11,
          2.455176422421689e-11,
          2.6441732988628073e-11,
          2.8437103557758157e-11,
          3.054127612584577e-11,
          3.27576509007043e-11,
          3.5089628104245544e-11,
          3.7540607973012556e-11,
          4.0113990758721866e-11,
          4.281317672881539e-11,
          4.5641566167022425e-11,
          4.860255937393173e-11,
          5.16995566675743e-11,
          5.493595838401687e-11,
          5.831516487796654e-11,
          6.184057652338676e-11,
          6.551559371412495e-11,
          6.934361686455207e-11,
          7.332804641021442e-11,
          7.747228280849773e-11,
          8.177972653930431e-11,
          8.625377810574289e-11,
          9.089783803483203e-11,
          9.571530687821692e-11,
          1.0070958521290013e-10,
          1.0588407364198637e-10,
          1.112421727954418e-10,
          1.1678728333086783e-10,
          1.225228059342899e-10,
          1.2845214132096158e-10,
          1.3457869023618395e-10,
          1.4090585345614082e-10,
          1.4743703178875002e-10,
          1.5417562607453076e-10,
          1.611250371874877e-10,
          1.6828866603601184e-10,
          1.756699135637983e-10,
          1.832721807507816e-10,
          1.9109886861408843e-10,
          1.991533782090083e-10,
          2.074391106299823e-10,
          2.1595946701161029e-10,
          2.2471784852967652e-10,
          2.337176564021944e-10,
          2.4296229189047e-10,
          2.524551563001856e-10,
          2.62199650982502e-10,
          2.721991773351815e-10,
          2.824571368037304e-10,
          2.929769308825623e-10,
          3.0376196111618194e-10,
          3.148156291003895e-10,
          3.2614133648350653e-10,
          3.377424849676227e-10,
          3.496224763098648e-10,
          3.6178471232368663e-10,
          3.742325948801816e-10,
          3.8696952590941727e-10,
          3.9999890740179247e-10,
          4.1332414140941713e-10,
          4.269486300475147e-10,
          4.40875775495848e-10,
          4.551089800001686e-10,
          4.696516458736889e-10,
          4.845071754985789e-10,
          4.996789713274866e-10,
          5.151704358850818e-10,
          5.309849717696253e-10,
          5.471259816545624e-10,
          5.6359686829014e-10,
          5.804010345050504e-10,
          5.975418832080984e-10,
          6.150228173898945e-10,
          6.32847240124574e-10,
          6.5101855457154e-10,
          6.695401639772339e-10,
          6.884154716769309e-10,
          7.07647881096561e-10,
          7.272407957545571e-10,
          7.471976192637292e-10,
          7.675217553331645e-10,
          7.88216607770154e-10,
          8.092855804821466e-10,
          8.30732077478729e-10,
          8.525595028736334e-10,
          8.747712608867704e-10,
          8.973707558462916e-10,
          9.20361392190677e-10,
          9.437465744708502e-10,
          9.67529707352322e-10,
          9.917141956173599e-10,
          1.0163034441671853e-9,
          1.0413008580241983e-9,
          1.0667098423342311e-9,
          1.0925338023688262e-9,
          1.1187761435275447e-9,
          1.1454402713403007e-9,
          1.1725295914697233e-9,
          1.2000475097135472e-9,
          1.2279974320070287e-9,
          1.256382764425392e-9,
          1.2852069131862991e-9,
          1.3144732846523517e-9,
          1.3441852853336157e-9,
          1.374346321890177e-9,
          1.404959801134721e-9,
          1.4360291300351416e-9,
          1.4675577157171762e-9,
          1.499548965467067e-9,
          1.53200628673425e-9,
          1.5649330871340698e-9,
          1.5983327744505211e-9,
          1.6322087566390162e-9,
          1.6665644418291784e-9,
          1.7014032383276622e-9,
          1.7367285546209967e-9,
          1.7725437993784579e-9,
          1.808852381454963e-9,
          1.8456577098939903e-9,
          1.882963193930526e-9,
          1.9207722429940305e-9,
          1.9590882667114348e-9,
          1.997914674910155e-9,
          2.0372548776211336e-9,
          2.077112285081902e-9,
          2.1174903077396663e-9,
          2.1583923562544168e-9,
          2.199821841502054e-9,
          2.2417821745775435e-9,
          2.2842767667980858e-9,
          2.3273090297063086e-9,
          2.3708823750734804e-9,
          2.4150002149027404e-9,
          2.4596659614323503e-9,
          2.504883027138962e-9,
          2.550654824740905e-9,
          2.5969847672014915e-9,
          2.6438762677323322e-9,
          2.6913327397966776e-9,
          2.739357597112766e-9,
          2.787954253657191e-9,
          2.83712612366828e-9,
          2.8868766216494868e-9,
          2.9372091623727982e-9,
          2.9881271608821487e-9,
          3.0396340324968494e-9,
          3.091733192815022e-9,
          3.144428057717049e-9,
          3.1977220433690222e-9,
          3.2516185662262093e-9,
          3.3061210430365174e-9,
          3.3612328908439664e-9,
          3.4169575269921663e-9,
          3.4732983691277947e-9,
          3.5302588352040804e-9,
          3.587842343484286e-9,
          3.6460523125451876e-9,
          3.7048921612805576e-9,
          3.764365308904643e-9,
          3.824475174955638e-9,
          3.885225179299154e-9,
          3.946618742131681e-9,
          4.008659283984046e-9,
          4.071350225724851e-9,
          4.134694988563915e-9,
          4.198696994055694e-9,
          4.263359664102686e-9,
          4.3286864209588314e-9,
          4.394680687232884e-9,
          4.461345885891772e-9,
          4.528685440263936e-9,
          4.5967027740426465e-9,
          4.665401311289295e-9,
          4.734784476436662e-9,
          4.804855694292156e-9,
          4.875618390041031e-9,
          4.947075989249559e-9,
          5.019231917868181e-9,
          5.092089602234619e-9,
          5.165652469076952e-9,
          5.2399239455166495e-9,
          5.314907459071569e-9,
          5.390606437658906e-9,
          5.467024309598096e-9,
          5.544164503613676e-9,
          5.6220304488380904e-9,
          5.7006255748144405e-9,
          5.779953311499185e-9,
          5.860017089264778e-9,
          5.940820338902251e-9,
          6.022366491623726e-9,
          6.104658979064866e-9,
          6.187701233287253e-9,
          6.271496686780704e-9,
          6.356048772465497e-9,
          6.4413609236945345e-9,
          6.5274365742554184e-9,
          6.61427915837244e-9,
          6.701892110708489e-9,
          6.79027886636687e-9,
          6.87944286089302e-9,
          6.969387530276145e-9,
          7.060116310950732e-9,
          7.151632639797985e-9,
          7.243939954147129e-9,
          7.337041691776621e-9,
          7.43094129091524e-9,
          7.525642190243055e-9,
          7.621147828892274e-9,
          7.717461646447975e-9,
          7.814587082948689e-9,
          7.912527578886864e-9,
          8.011286575209189e-9,
          8.110867513316759e-9,
          8.211273835065125e-9,
          8.312508982764155e-9,
          8.414576399177768e-9,
          8.51747952752349e-9,
          8.621221811471861e-9,
          8.725806695145649e-9,
          8.831237623118912e-9,
          8.937518040415867e-9,
          9.044651392509577e-9,
          9.15264112532045e-9,
          9.261490685214532e-9,
          9.371203519001626e-9,
          9.481783073933165e-9,
          9.59323279769991e-9,
          9.705556138429407e-9,
          9.818756544683233e-9,
          9.932837465454008e-9,
          1.0047802350162173e-8,
          1.0163654648652522e-8,
          1.02803978111905e-8,
          1.0398035288458226e-8,
          1.0516570531550283e-8,
          1.0636006991969213e-8,
          1.0756348121620761e-8,
          1.0877597372808827e-8,
          1.0999758198230133e-8,
          1.1122834050968596e-8,
          1.1246828384489405e-8,
          1.1371744652632783e-8,
          1.1497586309607433e-8,
          1.1624356809983666e-8,
          1.1752059608686196e-8,
          1.1880698160986588e-8,
          1.2010275922495374e-8,
          1.2140796349153799e-8,
          1.227226289722522e-8,
          1.2404679023286115e-8,
          1.2538048184216726e-8,
          1.267237383719131e-8,
          1.2807659439667987e-8,
          1.2943908449378192e-8,
          1.3081124324315698e-8,
          1.3219310522725228e-8,
          1.3358470503090624e-8,
          1.3498607724122575e-8,
          1.3639725644745889e-8,
          1.3781827724086307e-8,
          1.3924917421456841e-8,
          1.4068998196343625e-8,
          1.4214073508391274e-8,
          1.436014681738774e-8,
          1.4507221583248656e-8,
          1.465530126600114e-8,
          1.480438932576708e-8,
          1.495448922274585e-8,
          1.510560441719649e-8,
          1.5257738369419284e-8,
          1.5410894539736793e-8,
          1.556507638847424e-8,
          1.572028737593934e-8,
          1.5876530962401485e-8,
          1.6033810608070277e-8,
          1.6192129773073457e-8,
          1.6351491917434137e-8,
          1.6511900501047378e-8,
          1.667335898365608e-8,
          1.6835870824826176e-8,
          1.6999439483921086e-8,
          1.716406842007549e-8,
          1.7329761092168315e-8,
          1.749652095879498e-8,
          1.7664351478238886e-8,
          1.783325610844209e-8,
          1.800323830697519e-8,
          1.8174301531006408e-8,
          1.834644923726981e-8,
          1.851968488203268e-8,
          1.8694011921062067e-8,
          1.886943380959039e-8,
          1.9045954002280182e-8,
          1.9223575953187918e-8,
          1.9402303115726877e-8,
          1.958213894262909e-8,
          1.9763086885906288e-8,
          1.9945150396809885e-8,
          2.0128332925789925e-8,
          2.031263792245305e-8,
          2.0498068835519355e-8,
          2.0684629112778255e-8,
          2.0872322201043204e-8,
          2.1061151546105343e-8,
          2.125112059268603e-8,
          2.1442232784388186e-8,
          2.163449156364652e-8,
          2.1827900371676532e-8,
          2.202246264842233e-8,
          2.2218181832503208e-8,
          2.2415061361158956e-8,
          2.261310467019391e-8,
          2.281231519391971e-8,
          2.3012696365096712e-8,
          2.3214251614874063e-8,
          2.3416984372728417e-8,
          2.362089806640124e-8,
          2.3825996121834698e-8,
          2.4032281963106107e-8,
          2.423975901236091e-8,
          2.4448430689744143e-8,
          2.46583004133304e-8,
          2.486937159905222e-8,
          2.5081647660626942e-8,
          2.5295132009481887e-8,
          2.5509828054677965e-8,
          2.57257392028316e-8,
          2.594286885803496e-8,
          2.6161220421774463e-8,
          2.6380797292847544e-8,
          2.660160286727764e-8,
          2.682364053822735e-8,
          2.7046913695909765e-8,
          2.727142572749793e-8,
          2.7497180017032376e-8,
          2.772417994532673e-8,
          2.7952428889871353e-8,
          2.8181930224734958e-8,
          2.8412687320464206e-8,
          2.864470354398121e-8,
          2.8877982258478936e-8,
          2.911252682331446e-8,
          2.934834059390004e-8,
          2.958542692159195e-8,
          2.98237891535771e-8,
          3.006343063275731e-8,
          3.03043546976313e-8,
          3.054656468217426e-8,
          3.079006391571503e-8,
          3.103485572281084e-8,
          3.128094342311953e-8,
          3.1528330331269254e-8,
          3.177701975672558e-8,
          3.2027015003656014e-8,
          3.2278319370791795e-8,
          3.2530936151287054e-8,
          3.2784868632575167e-8,
          3.304012009622233e-8,
          3.3296693817778264e-8,
          3.355459306662409e-8,
          3.381382110581717e-8,
          3.407438119193307e-8,
          3.433627657490438e-8,
          3.4599510497856514e-8,
          3.486408619694034e-8,
          3.5130006901161674e-8,
          3.539727583220745e-8,
          3.566589620426864e-8,
          3.5935871223859876e-8,
          3.620720408963555e-8,
          3.647989799220258e-8,
          3.6753956113929596e-8,
          3.7029381628752556e-8,
          3.730617770197675e-8,
          3.758434749007514e-8,
          3.786389414048289e-8,
          3.8144820791388154e-8,
          3.842713057151894e-8,
          3.8710826599926125e-8,
          3.899591198576237e-8,
          3.928238982805703e-8,
          3.9570263215487e-8,
          3.985953522614325e-8,
          4.015020892729319e-8,
          4.0442287375138684e-8,
          4.07357736145697e-8,
          4.103067067891341e-8,
          4.132698158967887e-8,
          4.162470935629702e-8,
          4.1923856975856e-8,
          4.2224427432831753e-8,
          4.2526423698813774e-8,
          4.282984873222595e-8,
          4.313470547804238e-8,
          4.3440996867498226e-8,
          4.374872581779534e-8,
          4.4057895231802636e-8,
          4.436850799775127e-8,
          4.46805669889243e-8,
          4.4994075063340985e-8,
          4.5309035063435376e-8,
          4.56254498157294e-8,
          4.594332213050014e-8,
          4.626265480144123e-8,
          4.658345060531841e-8,
          4.690571230161903e-8,
          4.722944263219545e-8,
          4.7554644320902175e-8,
          4.7881320073226786e-8,
          4.820947257591438e-8,
          4.853910449658555e-8,
          4.887021848334773e-8,
          4.920281716439984e-8,
          4.9536903147630154e-8,
          4.987247902020716e-8,
          5.020954734816343e-8,
          5.054811067597244e-8,
          5.088817152611792e-8,
          5.12297323986561e-8,
          5.1572795770770235e-8,
          5.1917364096317716e-8,
          5.2263439805369336e-8,
          5.261102530374082e-8,
          5.2960122972516284e-8,
          5.331073516756374e-8,
          5.366286421904226e-8,
          5.401651243090091e-8,
          5.4371682080369136e-8,
          5.4728375417438624e-8,
          5.508659466433635e-8,
          5.544634201498881e-8,
          5.5807619634477256e-8,
          5.6170429658483725e-8,
          5.653477419272782e-8,
          5.6900655312394056e-8,
          5.7268075061549624e-8,
          5.7637035452552396e-8,
          5.8007538465449095e-8,
          5.837958604736339e-8,
          5.8753180111873803e-8,
          5.912832253838132e-8,
          5.950501517146642e-8,
          5.988325982023545e-8,
          6.026305825765623e-8,
          6.064441221988248e-8,
          6.102732340556733e-8,
          6.14117934751652e-8,
          6.179782405022235e-8,
          6.218541671265561e-8,
          6.257457300401929e-8,
          6.296529442475996e-8,
          6.335758243345902e-8,
          6.375143844606273e-8,
          6.414686383509975e-8,
          6.454385992888564e-8,
          6.494242801071443e-8,
          6.534256931803701e-8,
          6.574428504162588e-8,
          6.614757632472639e-8,
          6.655244426219401e-8,
          6.695888989961766e-8,
          6.736691423242849e-8,
          6.777651820499432e-8,
          6.81877027096993e-8,
          6.860046858600845e-8,
          6.901481661951709e-8,
          6.94307475409848e-8,
          6.984826202535363e-8,
          7.026736069075035e-8,
          7.06880440974726e-8,
          7.111031274695843e-8,
          7.153416708073923e-8,
          7.195960747937572e-8,
          7.238663426137659e-8,
          7.281524768209967e-8,
          7.324544793263539e-8,
          7.367723513867202e-8,
          7.411060935934272e-8,
          7.454557058605385e-8,
          7.498211874129431e-8,
          7.542025367742582e-8,
          7.585997517545345e-8,
          7.630128294377641e-8,
          7.674417661691872e-8,
          7.718865575423928e-8,
          7.763471983862124e-8,
          7.808236827514016e-8,
          7.85316003897107e-8,
          7.898241542771156e-8,
          7.94348125525882e-8,
          7.988879084443301e-8,
          8.034434929854264e-8,
          8.080148682395208e-8,
          8.126020224194511e-8,
          8.172049428454075e-8,
          8.218236159295529e-8,
          8.264580271603956e-8,
          8.311081610869105e-8,
          8.35774001302403e-8,
          8.404555304281151e-8,
          8.451527300965641e-8,
          8.498655809346157e-8,
          8.545940625462818e-8,
          8.593381534952413e-8,
          8.6409783128708e-8,
          8.688730723512417e-8,
          8.736638520226891e-8,
          8.78470144523268e-8,
          8.832919229427701e-8,
          8.881291592196904e-8,
          8.929818241216709e-8,
          8.978498872256303e-8,
          9.027333168975701e-8,
          9.076320802720537e-8,
          9.125461432313524e-8,
          9.174754703842533e-8,
          9.224200250445219e-8,
          9.273797692090151e-8,
          9.323546635354378e-8,
          9.373446673197365e-8,
          9.42349738473125e-8,
          9.473698334987345e-8,
          9.524049074678812e-8,
          9.574549139959478e-8,
          9.625198052178668e-8,
          9.675995317632043e-8,
          9.726940427308327e-8,
          9.778032856631869e-8,
          9.82927206520098e-8,
          9.880657496521928e-8,
          9.932188577738554e-8,
          9.983864719357416e-8,
          1.0035685314968353e-7,
          1.0087649740960433e-7,
          1.0139757356233161e-7,
          1.0192007501902875e-7,
          1.0244399501004237e-7,
          1.0296932658186722e-7,
          1.0349606259406038e-7,
          1.0402419571610321e-7,
          1.045537184242108e-7,
          1.0508462299808732e-7,
          1.056169015176265e-7,
          1.0615054585955616e-7,
          1.0668554769402554e-7,
          1.072218984811346e-7,
          1.077595894674038e-7,
          1.0829861168218338e-7,
          1.088389559340009e-7,
          1.0938061280684577e-7,
          1.0992357265638954e-7,
          1.1046782560614044e-7,
          1.1101336154353117e-7,
          1.1156017011593827e-7,
          1.121082407266317e-7,
          1.1265756253065325e-7,
          1.1320812443062229e-7,
          1.1375991507246718e-7,
          1.1431292284108081e-7,
          1.1486713585589885e-7,
          1.154225419663986e-7,
          1.1597912874751721e-7,
          1.1653688349498716e-7,
          1.1709579322058721e-7,
          1.1765584464730723e-7,
          1.1821702420442463e-7,
          1.1877931802249059e-7,
          1.1934271192822415e-7,
          1.1990719143931189e-7,
          1.204727417591111e-7,
          1.210393477712544e-7,
          1.2160699403415328e-7,
          1.221756647753985e-7,
          1.227453438860546e-7,
          1.2331601491484668e-7,
          1.2388766106223613e-7,
          1.2446026517438336e-7,
          1.2503380973699453e-7,
          1.2560827686904973e-7,
          1.261836483164096e-7,
          1.2675990544529767e-7,
          1.2733702923565555e-7,
          1.2791500027436754e-7,
          1.28493798748352e-7,
          1.2907340443751604e-7,
          1.296537967075704e-7,
          1.3023495450270094e-7,
          1.308168563380936e-7,
          1.3139948029230908e-7,
          1.3198280399950385e-7,
          1.325668046414937e-7,
          1.3315145893965591e-7,
          1.337367431466667e-7,
          1.3432263303806936e-7,
          1.3490910390366976e-7,
          1.354961305387546e-7,
          1.3608368723512853e-7,
          1.3667174777196587e-7,
          1.372602854064726e-7,
          1.3784927286435415e-7,
          1.3843868233008474e-7,
          1.3902848543697366e-7,
          1.396186532570237e-7,
          1.4020915629057758e-7,
          1.4079996445574713e-7,
          1.4139104707762087e-7,
          1.4198237287724516e-7,
          1.4257390996037387e-7,
          1.4316562580598188e-7,
          1.437574872545377e-7,
          1.4434946049602984e-7,
          1.449415110577427e-7,
          1.4553360379177636e-7,
          1.46125702862306e-7,
          1.467177717325758e-7,
          1.473097731516223e-7,
          1.4790166914072326e-7,
          1.4849342097956612e-7,
          1.4908498919213256e-7,
          1.49676333532294e-7,
          1.502674129691137e-7,
          1.5085818567185152e-7,
          1.514486089946668e-7,
          1.5203863946101557e-7,
          1.5262823274773859e-7,
          1.5321734366883616e-7,
          1.5380592615892688e-7,
          1.5439393325638718e-7,
          1.549813170861687e-7,
          1.5556802884229152e-7,
          1.5615401877001083e-7,
          1.5673923614765557e-7,
          1.5732362926813775e-7,
          1.5790714542013174e-7,
          1.5848973086892315e-7,
          1.590713308369277e-7,
          1.5965188948388067e-7,
          1.6023134988669854e-7,
          1.608096540190149e-7,
          1.613867427303934e-7,
          1.6196255572522107e-7,
          1.625370315412867e-7,
          1.631101075280491e-7,
          1.6368171982460154e-7,
          1.642518033373392e-7,
          1.6482029171733758e-7,
          1.6538711733745123e-7,
          1.659522112691425e-7,
          1.6651550325905185e-7,
          1.6707692170532242e-7,
          1.676363936336922e-7,
          1.6819384467336943e-7,
          1.6874919903270744e-7,
          1.6930237947469697e-7,
          1.698533072922959e-7,
          1.7040190228361676e-7,
          1.7094808272699542e-7,
          1.7149176535596534e-7,
          1.720328653341631e-7,
          1.7257129623019413e-7,
          1.7310696999248776e-7,
          1.736397969241743e-7,
          1.7416968565801728e-7,
          1.7469654313143792e-7,
          1.752202745616687e-7,
          1.7574078342107773e-7,
          1.7625797141270536e-7,
          1.767717384460587e-7,
          1.7728198261321096e-7,
          1.7778860016525508e-7,
          1.7829148548916412e-7,
          1.7879053108511265e-7,
          1.7928562754431603e-7,
          1.7977666352744763e-7,
          1.8026352574369546e-7,
          1.8074609893052354e-7,
          1.812242658342048e-7,
          1.8169790719119587e-7,
          1.8216690171042578e-7,
          1.8263112605657412e-7,
          1.8309045483441617e-7,
          1.8354476057431528e-7,
          1.8399391371894531e-7,
          1.844377826113288e-7,
          1.848762334842781e-7,
          1.8530913045133026e-7,
          1.8573633549926813e-7,
          1.8615770848232234e-7,
          1.8657310711815157e-7,
          1.869823869857001e-7,
          1.8738540152503393e-7,
          1.8778200203925885e-7,
          1.8817203769862468e-7,
          1.8855535554692295e-7,
          1.889318005102857e-7,
          1.8930121540849444e-7,
          1.8966344096891035e-7,
          1.900183158431366e-7,
          1.9036567662652522e-7,
          1.9070535788064132e-7,
          1.9103719215879742e-7,
          1.913610100347713e-7,
          1.9167664013482032e-7,
          1.919839091731042e-7,
          1.9228264199062906e-7,
          1.925726615978224e-7,
          1.9285378922084935e-7,
          1.9312584435177754e-7,
          1.9338864480269677e-7,
          1.9364200676389696e-7,
          1.9388574486620542e-7,
          1.9411967224758137e-7,
          1.9434360062406247e-7,
          1.9455734036515397e-7,
          1.947607005737475e-7,
          1.949534891706515e-7,
          1.9513551298381065e-7,
          1.953065778422863e-7,
          1.954664886750641e-7,
          1.9561504961474852e-7,
          1.9575206410619838e-7,
          1.95877335020149e-7,
          1.9599066477186078e-7,
          1.9609185544482458e-7,
          1.9618070891954754e-7,
          1.9625702700743285e-7,
          1.9632061158975894e-7,
          1.9637126476175365e-7,
          1.9640878898174887e-7,
          1.9643298722539126e-7,
          1.964436631448734e-7,
          1.9644062123313968e-7,
          1.9642366699300848e-7,
          1.9639260711114172e-7,
          1.9634724963678032e-7,
          1.9628740416515133e-7,
          1.9621288202544088e-7,
          1.9612349647321337e-7,
          1.9601906288714466e-7,
          1.9589939896992347e-7,
          1.957643249531622e-7,
          1.9561366380614393e-7,
          1.9544724144821986e-7,
          1.9526488696465602e-7,
          1.950664328257161e-7,
          1.9485171510875162e-7,
          1.946205737230581e-7,
          1.943728526372414e-7,
          1.9410840010882515e-7,
          1.9382706891581609e-7,
          1.9352871658993178e-7,
          1.9321320565118072e-7,
          1.9288040384347345e-7,
          1.925301843709294e-7,
          1.9216242613453335e-7,
          1.9177701396878232e-7,
          1.9137383887795346e-7,
          1.9095279827161235e-7,
          1.905137961989704e-7,
          1.9005674358169131e-7,
          1.8958155844473642e-7,
          1.8908816614483154e-7,
          1.8857649959612934e-7,
          1.880464994926347e-7,
          1.8749811452695504e-7,
          1.8693130160493119e-7,
          1.8634602605570132e-7,
          1.8574226183674628e-7,
          1.8511999173346221e-7,
          1.8447920755280552e-7,
          1.838199103105543e-7,
          1.8314211041173106e-7,
          1.824458278237334e-7,
          1.8173109224172257e-7,
          1.8099794324582272e-7,
          1.802464304496901e-7,
          1.794766136400169e-7,
          1.786885629065421e-7,
          1.778823587621509e-7,
          1.770580922526529e-7,
          1.762158650558423e-7,
          1.7535578956945348e-7,
          1.7447798898764054e-7,
          1.7358259736562288e-7,
          1.7266975967215574e-7,
          1.7173963182950067e-7,
          1.7079238074058985e-7,
          1.698281843030968e-7,
          1.6884723141014722e-7,
          1.678497219374238e-7,
          1.6683586671644304e-7,
          1.6580588749380362e-7,
          1.6476001687623193e-7,
          1.6369849826127435e-7,
          1.626215857535127e-7,
          1.615295440662059e-7,
          1.604226484082884e-7,
          1.5930118435668437e-7,
          1.5816544771392526e-7,
          1.5701574435108823e-7,
          1.55852390036102e-7,
          1.546757102474979e-7,
          1.5348603997371343e-7,
          1.5228372349808742e-7,
          1.5106911416971581e-7,
          1.4984257416036916e-7,
          1.486044742077031e-7,
          1.473551933450242e-7,
          1.460951186179048e-7,
          1.448246447879699e-7,
          1.4354417402421043e-7,
          1.4225411558220573e-7,
          1.4095488547166856e-7,
          1.3964690611275264e-7,
          1.383306059815925e-7,
          1.3700641924557085e-7,
          1.3567478538883597e-7,
          1.343361488286156e-7,
          1.3299095852289947e-7,
          1.3163966757008408e-7,
          1.3028273280119638e-7,
          1.2892061436533285e-7,
          1.275537753089701e-7,
          1.2618268114982088e-7,
          1.248077994459254e-7,
          1.234295993606835e-7,
          1.2204855122454562e-7,
          1.2066512609409272e-7,
          1.1927979530924505e-7,
          1.1789303004934793e-7,
          1.1650530088888932e-7,
          1.1511707735360841e-7,
          1.1372882747775747e-7,
          1.1234101736328032e-7,
          1.1095411074166993e-7,
          1.0956856853926459e-7,
          1.0818484844673834e-7,
          1.0680340449353398e-7,
          1.0542468662797938e-7,
          1.0404914030381731e-7,
          1.026772060738671e-7,
          1.0130931919152253e-7,
          9.994590922077494e-8,
          9.858739965543297e-8,
          9.723420754819132e-8,
          9.588674315018028e-8,
          9.454540956160511e-8,
          9.321060239406086e-8,
          9.188270944508223e-8,
          9.056211038546158e-8,
          8.924917645983967e-8,
          8.794427020104439e-8,
          8.664774515862162e-8,
          8.535994564197056e-8,
          8.408120647846315e-8,
          8.281185278689264e-8,
          8.155219976656214e-8,
          8.030255250228801e-8,
          7.906320578555669e-8,
          7.78344439520368e-8,
          7.661654073561115e-8,
          7.540975913905491e-8,
          7.421435132144921e-8,
          7.303055850238037e-8,
          7.18586108829374e-8,
          7.069872758348179e-8,
          6.955111659812609e-8,
          6.841597476581982e-8,
          6.729348775790376e-8,
          6.618383008195742e-8,
          6.508716510172765e-8,
          6.4003645072891e-8,
          6.293341119436821e-8,
          6.187659367487439e-8,
          6.08333118143566e-8,
          5.980367409993837e-8,
          5.878777831595994e-8,
          5.778571166767441e-8,
          5.679755091813139e-8,
          5.5823362537753775e-8,
          5.486320286608813e-8,
          5.391711828518598e-8,
          5.2985145404051456e-8,
          5.206731125357106e-8,
          5.116363349132299e-8,
          5.0274120615647246e-8,
          4.9398772188343366e-8,
          4.853757906535002e-8,
          4.7690523634750394e-8,
          4.6857580061438635e-8,
          4.603871453777605e-8,
          4.5233885539561635e-8,
          4.4443044086638636e-8,
          4.366613400745894e-8,
          4.290309220692834e-8,
          4.215384893685994e-8,
          4.1418328068368125e-8,
          4.0696447365543914e-8,
          3.998811875976163e-8,
          3.9293248623978904e-8,
          3.8611738046405274e-8,
          3.7943483102930216e-8,
          3.72883751277184e-8,
          3.664630098139891e-8,
          3.60171433162956e-8,
          3.540078083816797e-8,
          3.479708856395506e-8,
          3.42059380750403e-8,
          3.362719776558099e-8,
          3.306073308547368e-8,
          3.2506406777555166e-8,
          3.196407910866805e-8,
          3.143360809425034e-8,
          3.091484971613925e-8,
          3.0407658133311174e-8,
          2.9911885885311554e-8,
          2.94273840881611e-8,
          2.8954002622556917e-8,
          2.8491590314220103e-8,
          2.8039995106273667e-8,
          2.7599064223566947e-8,
          2.7168644328894743e-8,
          2.6748581671090687e-8,
          2.633872222500524e-8,
          2.59389118234087e-8,
          2.5548996280888693e-8,
          2.516882150983974e-8,
          2.47982336286693e-8,
          2.4437079062370422e-8,
          2.4085204635635317e-8,
          2.374245765870689e-8,
          2.340868600618642e-8,
          2.3083738189035085e-8,
          2.2767463420024603e-8,
          2.2459711672908293e-8,
          2.2160333735597718e-8,
          2.186918125764219e-8,
          2.1586106792318506e-8,
          2.1310963833646392e-8,
          2.1043606848651306e-8,
          2.078389130520037e-8,
          2.0531673695739433e-8,
          2.0286811557259556e-8,
          2.004916348781967e-8,
          1.9818589159948734e-8,
          1.959494933124567e-8,
          1.9378105852488647e-8,
          1.9167921673557004e-8,
          1.896426084745943e-8,
          1.8766988532751164e-8,
          1.8575970994610797e-8,
          1.839107560483416e-8,
          1.82121708409889e-8,
          1.8039126284958593e-8,
          1.787181262109006e-8,
          1.7710101634141936e-8,
          1.7553866207216724e-8,
          1.74029803198426e-8,
          1.7257319046355423e-8,
          1.7116758554715732e-8,
          1.6981176105880235e-8,
          1.6850450053832497e-8,
          1.6724459846363244e-8,
          1.6603086026677214e-8,
          1.6486210235890695e-8,
          1.637371521647195e-8,
          1.6265484816665664e-8,
          1.61614039959326e-8,
          1.6061358831426295e-8,
          1.59652365255207e-8,
          1.587292541439528e-8
         ]
        }
       ],
       "layout": {
        "legend": {
         "tracegroupgap": 0
        },
        "margin": {
         "t": 60
        },
        "template": {
         "data": {
          "bar": [
           {
            "error_x": {
             "color": "#2a3f5f"
            },
            "error_y": {
             "color": "#2a3f5f"
            },
            "marker": {
             "line": {
              "color": "#E5ECF6",
              "width": 0.5
             },
             "pattern": {
              "fillmode": "overlay",
              "size": 10,
              "solidity": 0.2
             }
            },
            "type": "bar"
           }
          ],
          "barpolar": [
           {
            "marker": {
             "line": {
              "color": "#E5ECF6",
              "width": 0.5
             },
             "pattern": {
              "fillmode": "overlay",
              "size": 10,
              "solidity": 0.2
             }
            },
            "type": "barpolar"
           }
          ],
          "carpet": [
           {
            "aaxis": {
             "endlinecolor": "#2a3f5f",
             "gridcolor": "white",
             "linecolor": "white",
             "minorgridcolor": "white",
             "startlinecolor": "#2a3f5f"
            },
            "baxis": {
             "endlinecolor": "#2a3f5f",
             "gridcolor": "white",
             "linecolor": "white",
             "minorgridcolor": "white",
             "startlinecolor": "#2a3f5f"
            },
            "type": "carpet"
           }
          ],
          "choropleth": [
           {
            "colorbar": {
             "outlinewidth": 0,
             "ticks": ""
            },
            "type": "choropleth"
           }
          ],
          "contour": [
           {
            "colorbar": {
             "outlinewidth": 0,
             "ticks": ""
            },
            "colorscale": [
             [
              0,
              "#0d0887"
             ],
             [
              0.1111111111111111,
              "#46039f"
             ],
             [
              0.2222222222222222,
              "#7201a8"
             ],
             [
              0.3333333333333333,
              "#9c179e"
             ],
             [
              0.4444444444444444,
              "#bd3786"
             ],
             [
              0.5555555555555556,
              "#d8576b"
             ],
             [
              0.6666666666666666,
              "#ed7953"
             ],
             [
              0.7777777777777778,
              "#fb9f3a"
             ],
             [
              0.8888888888888888,
              "#fdca26"
             ],
             [
              1,
              "#f0f921"
             ]
            ],
            "type": "contour"
           }
          ],
          "contourcarpet": [
           {
            "colorbar": {
             "outlinewidth": 0,
             "ticks": ""
            },
            "type": "contourcarpet"
           }
          ],
          "heatmap": [
           {
            "colorbar": {
             "outlinewidth": 0,
             "ticks": ""
            },
            "colorscale": [
             [
              0,
              "#0d0887"
             ],
             [
              0.1111111111111111,
              "#46039f"
             ],
             [
              0.2222222222222222,
              "#7201a8"
             ],
             [
              0.3333333333333333,
              "#9c179e"
             ],
             [
              0.4444444444444444,
              "#bd3786"
             ],
             [
              0.5555555555555556,
              "#d8576b"
             ],
             [
              0.6666666666666666,
              "#ed7953"
             ],
             [
              0.7777777777777778,
              "#fb9f3a"
             ],
             [
              0.8888888888888888,
              "#fdca26"
             ],
             [
              1,
              "#f0f921"
             ]
            ],
            "type": "heatmap"
           }
          ],
          "histogram": [
           {
            "marker": {
             "pattern": {
              "fillmode": "overlay",
              "size": 10,
              "solidity": 0.2
             }
            },
            "type": "histogram"
           }
          ],
          "histogram2d": [
           {
            "colorbar": {
             "outlinewidth": 0,
             "ticks": ""
            },
            "colorscale": [
             [
              0,
              "#0d0887"
             ],
             [
              0.1111111111111111,
              "#46039f"
             ],
             [
              0.2222222222222222,
              "#7201a8"
             ],
             [
              0.3333333333333333,
              "#9c179e"
             ],
             [
              0.4444444444444444,
              "#bd3786"
             ],
             [
              0.5555555555555556,
              "#d8576b"
             ],
             [
              0.6666666666666666,
              "#ed7953"
             ],
             [
              0.7777777777777778,
              "#fb9f3a"
             ],
             [
              0.8888888888888888,
              "#fdca26"
             ],
             [
              1,
              "#f0f921"
             ]
            ],
            "type": "histogram2d"
           }
          ],
          "histogram2dcontour": [
           {
            "colorbar": {
             "outlinewidth": 0,
             "ticks": ""
            },
            "colorscale": [
             [
              0,
              "#0d0887"
             ],
             [
              0.1111111111111111,
              "#46039f"
             ],
             [
              0.2222222222222222,
              "#7201a8"
             ],
             [
              0.3333333333333333,
              "#9c179e"
             ],
             [
              0.4444444444444444,
              "#bd3786"
             ],
             [
              0.5555555555555556,
              "#d8576b"
             ],
             [
              0.6666666666666666,
              "#ed7953"
             ],
             [
              0.7777777777777778,
              "#fb9f3a"
             ],
             [
              0.8888888888888888,
              "#fdca26"
             ],
             [
              1,
              "#f0f921"
             ]
            ],
            "type": "histogram2dcontour"
           }
          ],
          "mesh3d": [
           {
            "colorbar": {
             "outlinewidth": 0,
             "ticks": ""
            },
            "type": "mesh3d"
           }
          ],
          "parcoords": [
           {
            "line": {
             "colorbar": {
              "outlinewidth": 0,
              "ticks": ""
             }
            },
            "type": "parcoords"
           }
          ],
          "pie": [
           {
            "automargin": true,
            "type": "pie"
           }
          ],
          "scatter": [
           {
            "fillpattern": {
             "fillmode": "overlay",
             "size": 10,
             "solidity": 0.2
            },
            "type": "scatter"
           }
          ],
          "scatter3d": [
           {
            "line": {
             "colorbar": {
              "outlinewidth": 0,
              "ticks": ""
             }
            },
            "marker": {
             "colorbar": {
              "outlinewidth": 0,
              "ticks": ""
             }
            },
            "type": "scatter3d"
           }
          ],
          "scattercarpet": [
           {
            "marker": {
             "colorbar": {
              "outlinewidth": 0,
              "ticks": ""
             }
            },
            "type": "scattercarpet"
           }
          ],
          "scattergeo": [
           {
            "marker": {
             "colorbar": {
              "outlinewidth": 0,
              "ticks": ""
             }
            },
            "type": "scattergeo"
           }
          ],
          "scattergl": [
           {
            "marker": {
             "colorbar": {
              "outlinewidth": 0,
              "ticks": ""
             }
            },
            "type": "scattergl"
           }
          ],
          "scattermap": [
           {
            "marker": {
             "colorbar": {
              "outlinewidth": 0,
              "ticks": ""
             }
            },
            "type": "scattermap"
           }
          ],
          "scattermapbox": [
           {
            "marker": {
             "colorbar": {
              "outlinewidth": 0,
              "ticks": ""
             }
            },
            "type": "scattermapbox"
           }
          ],
          "scatterpolar": [
           {
            "marker": {
             "colorbar": {
              "outlinewidth": 0,
              "ticks": ""
             }
            },
            "type": "scatterpolar"
           }
          ],
          "scatterpolargl": [
           {
            "marker": {
             "colorbar": {
              "outlinewidth": 0,
              "ticks": ""
             }
            },
            "type": "scatterpolargl"
           }
          ],
          "scatterternary": [
           {
            "marker": {
             "colorbar": {
              "outlinewidth": 0,
              "ticks": ""
             }
            },
            "type": "scatterternary"
           }
          ],
          "surface": [
           {
            "colorbar": {
             "outlinewidth": 0,
             "ticks": ""
            },
            "colorscale": [
             [
              0,
              "#0d0887"
             ],
             [
              0.1111111111111111,
              "#46039f"
             ],
             [
              0.2222222222222222,
              "#7201a8"
             ],
             [
              0.3333333333333333,
              "#9c179e"
             ],
             [
              0.4444444444444444,
              "#bd3786"
             ],
             [
              0.5555555555555556,
              "#d8576b"
             ],
             [
              0.6666666666666666,
              "#ed7953"
             ],
             [
              0.7777777777777778,
              "#fb9f3a"
             ],
             [
              0.8888888888888888,
              "#fdca26"
             ],
             [
              1,
              "#f0f921"
             ]
            ],
            "type": "surface"
           }
          ],
          "table": [
           {
            "cells": {
             "fill": {
              "color": "#EBF0F8"
             },
             "line": {
              "color": "white"
             }
            },
            "header": {
             "fill": {
              "color": "#C8D4E3"
             },
             "line": {
              "color": "white"
             }
            },
            "type": "table"
           }
          ]
         },
         "layout": {
          "annotationdefaults": {
           "arrowcolor": "#2a3f5f",
           "arrowhead": 0,
           "arrowwidth": 1
          },
          "autotypenumbers": "strict",
          "coloraxis": {
           "colorbar": {
            "outlinewidth": 0,
            "ticks": ""
           }
          },
          "colorscale": {
           "diverging": [
            [
             0,
             "#8e0152"
            ],
            [
             0.1,
             "#c51b7d"
            ],
            [
             0.2,
             "#de77ae"
            ],
            [
             0.3,
             "#f1b6da"
            ],
            [
             0.4,
             "#fde0ef"
            ],
            [
             0.5,
             "#f7f7f7"
            ],
            [
             0.6,
             "#e6f5d0"
            ],
            [
             0.7,
             "#b8e186"
            ],
            [
             0.8,
             "#7fbc41"
            ],
            [
             0.9,
             "#4d9221"
            ],
            [
             1,
             "#276419"
            ]
           ],
           "sequential": [
            [
             0,
             "#0d0887"
            ],
            [
             0.1111111111111111,
             "#46039f"
            ],
            [
             0.2222222222222222,
             "#7201a8"
            ],
            [
             0.3333333333333333,
             "#9c179e"
            ],
            [
             0.4444444444444444,
             "#bd3786"
            ],
            [
             0.5555555555555556,
             "#d8576b"
            ],
            [
             0.6666666666666666,
             "#ed7953"
            ],
            [
             0.7777777777777778,
             "#fb9f3a"
            ],
            [
             0.8888888888888888,
             "#fdca26"
            ],
            [
             1,
             "#f0f921"
            ]
           ],
           "sequentialminus": [
            [
             0,
             "#0d0887"
            ],
            [
             0.1111111111111111,
             "#46039f"
            ],
            [
             0.2222222222222222,
             "#7201a8"
            ],
            [
             0.3333333333333333,
             "#9c179e"
            ],
            [
             0.4444444444444444,
             "#bd3786"
            ],
            [
             0.5555555555555556,
             "#d8576b"
            ],
            [
             0.6666666666666666,
             "#ed7953"
            ],
            [
             0.7777777777777778,
             "#fb9f3a"
            ],
            [
             0.8888888888888888,
             "#fdca26"
            ],
            [
             1,
             "#f0f921"
            ]
           ]
          },
          "colorway": [
           "#636efa",
           "#EF553B",
           "#00cc96",
           "#ab63fa",
           "#FFA15A",
           "#19d3f3",
           "#FF6692",
           "#B6E880",
           "#FF97FF",
           "#FECB52"
          ],
          "font": {
           "color": "#2a3f5f"
          },
          "geo": {
           "bgcolor": "white",
           "lakecolor": "white",
           "landcolor": "#E5ECF6",
           "showlakes": true,
           "showland": true,
           "subunitcolor": "white"
          },
          "hoverlabel": {
           "align": "left"
          },
          "hovermode": "closest",
          "mapbox": {
           "style": "light"
          },
          "paper_bgcolor": "white",
          "plot_bgcolor": "#E5ECF6",
          "polar": {
           "angularaxis": {
            "gridcolor": "white",
            "linecolor": "white",
            "ticks": ""
           },
           "bgcolor": "#E5ECF6",
           "radialaxis": {
            "gridcolor": "white",
            "linecolor": "white",
            "ticks": ""
           }
          },
          "scene": {
           "xaxis": {
            "backgroundcolor": "#E5ECF6",
            "gridcolor": "white",
            "gridwidth": 2,
            "linecolor": "white",
            "showbackground": true,
            "ticks": "",
            "zerolinecolor": "white"
           },
           "yaxis": {
            "backgroundcolor": "#E5ECF6",
            "gridcolor": "white",
            "gridwidth": 2,
            "linecolor": "white",
            "showbackground": true,
            "ticks": "",
            "zerolinecolor": "white"
           },
           "zaxis": {
            "backgroundcolor": "#E5ECF6",
            "gridcolor": "white",
            "gridwidth": 2,
            "linecolor": "white",
            "showbackground": true,
            "ticks": "",
            "zerolinecolor": "white"
           }
          },
          "shapedefaults": {
           "line": {
            "color": "#2a3f5f"
           }
          },
          "ternary": {
           "aaxis": {
            "gridcolor": "white",
            "linecolor": "white",
            "ticks": ""
           },
           "baxis": {
            "gridcolor": "white",
            "linecolor": "white",
            "ticks": ""
           },
           "bgcolor": "#E5ECF6",
           "caxis": {
            "gridcolor": "white",
            "linecolor": "white",
            "ticks": ""
           }
          },
          "title": {
           "x": 0.05
          },
          "xaxis": {
           "automargin": true,
           "gridcolor": "white",
           "linecolor": "white",
           "ticks": "",
           "title": {
            "standoff": 15
           },
           "zerolinecolor": "white",
           "zerolinewidth": 2
          },
          "yaxis": {
           "automargin": true,
           "gridcolor": "white",
           "linecolor": "white",
           "ticks": "",
           "title": {
            "standoff": 15
           },
           "zerolinecolor": "white",
           "zerolinewidth": 2
          }
         }
        },
        "xaxis": {
         "anchor": "y",
         "domain": [
          0,
          1
         ]
        },
        "yaxis": {
         "anchor": "x",
         "domain": [
          0,
          1
         ]
        }
       }
      }
     },
     "metadata": {},
     "output_type": "display_data"
    },
    {
     "name": "stdout",
     "output_type": "stream",
     "text": [
      "[2.5616935833510398e-06, 2.561693572544179e-06, 2.5616935400141508e-06, 2.561693485401211e-06, 2.56169340811019e-06, 2.5616933073080506e-06, 2.561693181923781e-06, 2.561693030648377e-06, 2.5616928519348368e-06, 2.56169264399816e-06, 2.5616924048153467e-06, 2.561692132125396e-06, 2.5616918234293073e-06, 2.5616914759900795e-06, 2.561691086832711e-06, 2.5616906527441984e-06, 2.5616901702735392e-06, 2.561689635731728e-06, 2.5616890451917593e-06, 2.5616883944886266e-06, 2.561687679219322e-06, 2.5616868947428382e-06, 2.5616860361801653e-06, 2.561685098414294e-06, 2.5616840760902147e-06, 2.5616829636149185e-06, 2.561681755157397e-06, 2.561680444648643e-06, 2.561679025781653e-06, 2.5616774920114244e-06, 2.561675836554961e-06, 2.5616740523912706e-06, 2.5616721322613686e-06, 2.5616700686682783e-06, 2.561667853877033e-06, 2.561665479914678e-06, 2.5616629385702742e-06, 2.5616602213948973e-06, 2.5616573197016447e-06, 2.5616542245656337e-06, 2.5616509268240098e-06, 2.561647417075947e-06, 2.5616436856826515e-06, 2.5616397227673687e-06, 2.561635518215386e-06, 2.561631061674037e-06, 2.56162634255271e-06, 2.56162135002285e-06, 2.5616160730179676e-06, 2.5616105002336453e-06, 2.5616046201275445e-06, 2.5615984209194136e-06, 2.5615918905910954e-06, 2.5615850168865373e-06, 2.5615777873117994e-06, 2.5615701891350665e-06, 2.5615622093866563e-06, 2.5615538348590322e-06, 2.561545052106815e-06, 2.5615358474467964e-06, 2.561526206957951e-06, 2.561516116481451e-06, 2.5615055616206817e-06, 2.5614945277412573e-06, 2.5614829999710363e-06, 2.56147096320014e-06, 2.5614584020809713e-06, 2.561445301028233e-06, 2.561431644218948e-06, 2.5614174155924817e-06, 2.561402598850563e-06, 2.561387177457308e-06, 2.561371134639246e-06, 2.5613544533853403e-06, 2.5613371164470207e-06, 2.561319106338207e-06, 2.5613004053353412e-06, 2.5612809954774137e-06, 2.561260858565999e-06, 2.5612399761652857e-06, 2.5612183296021126e-06, 2.5611958999660015e-06, 2.561172668109198e-06, 2.5611486146467066e-06, 2.5611237199563316e-06, 2.56109796417872e-06, 2.561071327217402e-06, 2.561043788738837e-06, 2.561015328172461e-06, 2.5609859247107313e-06, 2.5609555573091795e-06, 2.560924204686461e-06, 2.560891845324408e-06, 2.5608584574680864e-06, 2.560824019125851e-06, 2.560788508069405e-06, 2.56075190183386e-06, 2.5607141777178007e-06, 2.5606753127833485e-06, 2.560635283856228e-06, 2.5605940675258388e-06, 2.560551640145322e-06, 2.560507977831639e-06, 2.560463056465644e-06, 2.5604168516921643e-06, 2.5603693389200786e-06, 2.5603204933224015e-06, 2.5602702898363696e-06, 2.560218703163527e-06, 2.5601657077698194e-06, 2.560111277885683e-06, 2.5600553875061436e-06, 2.5599980103909144e-06, 2.559939120064496e-06, 2.5598786898162826e-06, 2.5598166927006665e-06, 2.5597531015371507e-06, 2.559687888910459e-06, 2.559621027170655e-06, 2.559552488433257e-06, 2.559482244579364e-06, 2.5594102672557795e-06, 2.5593365278751386e-06, 2.559260997616043e-06, 2.559183647423192e-06, 2.559104448007525e-06, 2.559023369846361e-06, 2.5589403831835455e-06, 2.558855458029598e-06, 2.5587685641618674e-06, 2.5586796711246847e-06, 2.5585887482295275e-06, 2.55849576455518e-06, 2.558400688947904e-06, 2.5583034900216077e-06, 2.5582041361580247e-06, 2.558102595506891e-06, 2.5579988359861306e-06, 2.557892825282043e-06, 2.557784530849496e-06, 2.557673919912121e-06, 2.557560959462516e-06, 2.5574456162624487e-06, 2.557327856843069e-06, 2.5572076475051206e-06, 2.557084954319163e-06, 2.556959743125793e-06, 2.556831979535873e-06, 2.5567016289307672e-06, 2.5565686564625766e-06, 2.5564330270543836e-06, 2.5562947054004998e-06, 2.5561536559667194e-06, 2.5560098429905776e-06, 2.555863230481614e-06, 2.5557137822216416e-06, 2.5555614617650215e-06, 2.5554062324389412e-06, 2.5552480573437017e-06, 2.5550868993530064e-06, 2.5549227211142593e-06, 2.554755485048865e-06, 2.5545851533525397e-06, 2.55441168799562e-06, 2.5542350507233893e-06, 2.5540552030563968e-06, 2.553872106290794e-06, 2.553685721498671e-06, 2.5534960095284e-06, 2.5533029310049864e-06, 2.5531064463304268e-06, 2.5529065156840708e-06, 2.5527030990229906e-06, 2.5524961560823597e-06, 2.552285646375834e-06, 2.552071529195942e-06, 2.5518537636144828e-06, 2.5516323084829288e-06, 2.551407122432837e-06, 2.551178163876266e-06, 2.550945391006203e-06, 2.550708761796993e-06, 2.5504682340047817e-06, 2.55022376516796e-06, 2.5499753126076195e-06, 2.549722833428015e-06, 2.549466284517034e-06, 2.5492056225466737e-06, 2.548940803973526e-06, 2.548671785039273e-06, 2.548398521771186e-06, 2.548120969982635e-06, 2.5478390852736075e-06, 2.5475528230312335e-06, 2.5472621384303197e-06, 2.5469669864338916e-06, 2.546667321793746e-06, 2.546363099051009e-06, 2.5460542725367057e-06, 2.545740796372335e-06, 2.5454226244704604e-06, 2.5450997105352994e-06, 2.5447720080633312e-06, 2.5444394703439093e-06, 2.544102050459883e-06, 2.54375970128823e-06, 2.5434123755006966e-06, 2.54306002556445e-06, 2.5427026037427374e-06, 2.542340062095556e-06, 2.5419723524803334e-06, 2.5415994265526163e-06, 2.541221235766772e-06, 2.540837731376696e-06, 2.5404488644365333e-06, 2.540054585801408e-06, 2.539654846128163e-06, 2.539249595876114e-06, 2.5388387853078064e-06, 2.5384223644897925e-06, 2.5380002832934096e-06, 2.5375724913955783e-06, 2.537138938279603e-06, 2.5366995732359917e-06, 2.536254345363279e-06, 2.535803203568868e-06, 2.5353460965698766e-06, 2.5348829728940006e-06, 2.534413780880385e-06, 2.5339384686805094e-06, 2.5334569842590817e-06, 2.532969275394948e-06, 2.5324752896820114e-06, 2.5319749745301636e-06, 2.531468277166229e-06, 2.530955144634922e-06, 2.530435523799812e-06, 2.5299093613443092e-06, 2.529376603772654e-06, 2.5288371974109266e-06, 2.528291088408063e-06, 2.5277382227368893e-06, 2.527178546195166e-06, 2.526612004406645e-06, 2.526038542822142e-06, 2.5254581067206206e-06, 2.524870641210291e-06, 2.5242760912297203e-06, 2.5236744015489594e-06, 2.5230655167706796e-06, 2.522449381331328e-06, 2.521825939502292e-06, 2.5211951353910822e-06, 2.520556912942526e-06, 2.519911215939978e-06, 2.519257988006542e-06, 2.5185971726063115e-06, 2.5179287130456224e-06, 2.517252552474319e-06, 2.5165686338870377e-06, 2.5158769001245058e-06, 2.515177293874851e-06, 2.5144697576749325e-06, 2.513754233911683e-06, 2.5130306648234657e-06, 2.5122989925014518e-06, 2.511559158891007e-06, 2.5108111057930995e-06, 2.51005477486572e-06, 2.5092901076253204e-06, 2.508517045448266e-06, 2.5077355295723077e-06, 2.5069455010980655e-06, 2.506146900990533e-06, 2.5053396700805965e-06, 2.504523749066571e-06, 2.5036990785157525e-06, 2.5028655988659893e-06, 2.5020232504272665e-06, 2.5011719733833126e-06, 2.50031170779322e-06, 2.499442393593083e-06, 2.498563970597655e-06, 2.4976763785020228e-06, 2.4967795568832986e-06, 2.4958734452023285e-06, 2.4949579828054217e-06, 2.4940331089260954e-06, 2.49309876268684e-06, 2.492154883100901e-06, 2.4912014090740814e-06, 2.4902382794065592e-06, 2.4892654327947282e-06, 2.4882828078330547e-06, 2.4872903430159536e-06, 2.486287976739684e-06, 2.4852756473042657e-06, 2.484253292915411e-06, 2.4832208516864805e-06, 2.482178261640455e-06, 2.4811254607119306e-06, 2.4800623867491286e-06, 2.4789889775159325e-06, 2.477905170693938e-06, 2.4768109038845286e-06, 2.4757061146109676e-06, 2.4745907403205146e-06, 2.4734647183865586e-06, 2.4723279861107747e-06, 2.471180480725301e-06, 2.4700221393949346e-06, 2.468852899219354e-06, 2.4676726972353545e-06, 2.4664814704191144e-06, 2.465279155688474e-06, 2.464065689905243e-06, 2.462841009877526e-06, 2.461605052362071e-06, 2.46035775406664e-06, 2.4590990516524004e-06, 2.457828881736342e-06, 2.456547180893713e-06, 2.4552538856604802e-06, 2.4539489325358106e-06, 2.4526322579845784e-06, 2.4513037984398927e-06, 2.449963490305648e-06, 2.4486112699591003e-06, 2.447247073753463e-06, 2.44587083802053e-06, 2.444482499073321e-06, 2.4430819932087476e-06, 2.441669256710308e-06, 2.440244225850803e-06, 2.4388068368950763e-06, 2.437357026102779e-06, 2.43589472973116e-06, 2.4344198840378777e-06, 2.43293242528384e-06, 2.4314322897360664e-06, 2.429919413670576e-06, 2.4283937333753003e-06, 2.4268551851530215e-06, 2.425303705324336e-06, 2.423739230230643e-06, 2.4221616962371564e-06, 2.4205710397359486e-06, 2.4189671971490134e-06, 2.4173501049313582e-06, 2.4157196995741223e-06, 2.4140759176077187e-06, 2.412418695605006e-06, 2.4107479701844844e-06, 2.4090636780135175e-06, 2.4073657558115833e-06, 2.40565414035355e-06, 2.4039287684729804e-06, 2.4021895770654602e-06, 2.400436503091957e-06, 2.3986694835822064e-06, 2.396888455638121e-06, 2.3950933564372344e-06, 2.3932841232361648e-06, 2.3914606933741136e-06, 2.3896230042763872e-06, 2.3877709934579483e-06, 2.385904598526996e-06, 2.3840237571885737e-06, 2.3821284072482055e-06, 2.3802184866155605e-06, 2.378293933308147e-06, 2.376354685455034e-06, 2.374400681300604e-06, 2.3724318592083316e-06, 2.370448157664595e-06, 2.3684495152825132e-06, 2.3664358708058136e-06, 2.3644071631127325e-06, 2.36236333121994e-06, 2.3603043142864973e-06, 2.3582300516178466e-06, 2.356140482669823e-06, 2.354035547052707e-06, 2.351915184535299e-06, 2.349779335049026e-06, 2.3476279386920836e-06, 2.3454609357336005e-06, 2.343278266617842e-06, 2.341079871968437e-06, 2.338865692592641e-06, 2.3366356694856276e-06, 2.334389743834813e-06, 2.332127857024209e-06, 2.3298499506388096e-06, 2.32755596646901e-06, 2.3252458465150535e-06, 2.322919532991513e-06, 2.320576968331804e-06, 2.318218095192729e-06, 2.315842856459052e-06, 2.31345119524811e-06, 2.3110430549144526e-06, 2.308618379054513e-06, 2.3061771115113167e-06, 2.3037191963792173e-06, 2.301244578008667e-06, 2.298753201011022e-06, 2.2962450102633745e-06, 2.2937199509134263e-06, 2.291177968384387e-06, 2.28861900837991e-06, 2.2860430168890623e-06, 2.283449940191323e-06, 2.28083972486162e-06, 2.2782123177753974e-06, 2.2755676661137172e-06, 2.272905717368394e-06, 2.270226419347164e-06, 2.26752972017889e-06, 2.2648155683187928e-06, 2.2620839125537258e-06, 2.259334702007478e-06, 2.2565678861461127e-06, 2.2537834147833383e-06, 2.2509812380859176e-06, 2.2481613065791066e-06, 2.245323571152131e-06, 2.2424679830636953e-06, 2.239594493947528e-06, 2.2367030558179576e-06, 2.2337936210755297e-06, 2.230866142512652e-06, 2.227920573319278e-06, 2.2249568670886227e-06, 2.2219749778229186e-06, 2.2189748599391984e-06, 2.2159564682751194e-06, 2.212919758094819e-06, 2.2098646850948075e-06, 2.206791205409894e-06, 2.2036992756191495e-06, 2.200588852751902e-06, 2.197459894293771e-06, 2.1943123581927326e-06, 2.191146202865222e-06, 2.1879613872022726e-06, 2.184757870575688e-06, 2.1815356128442502e-06, 2.178294574359963e-06, 2.1750347159743303e-06, 2.17175599904467e-06, 2.1684583854404633e-06, 2.1651418375497408e-06, 2.1618063182854993e-06, 2.1584517910921596e-06, 2.155078219952055e-06, 2.151685569391959e-06, 2.148273804489645e-06, 2.1448428908804803e-06, 2.141392794764064e-06, 2.1379234829108867e-06, 2.1344349226690363e-06, 2.130927081970935e-06, 2.1273999293401094e-06, 2.1238534338980003e-06, 2.120287565370804e-06, 2.1167022940963484e-06, 2.113097591031008e-06, 2.1094734277566496e-06, 2.105829776487614e-06, 2.1021666100777345e-06, 2.0984839020273877e-06, 2.0947816264905793e-06, 2.091059758282067e-06, 2.0873182728845134e-06, 2.0835571464556783e-06, 2.0797763558356415e-06, 2.075975878554062e-06, 2.072155692837471e-06, 2.0683157776165965e-06, 2.064456112533729e-06, 2.0605766779501095e-06, 2.0566774549533643e-06, 2.0527584253649614e-06, 2.0488195717477104e-06, 2.0448608774132885e-06, 2.0408823264298034e-06, 2.0368839036293883e-06, 2.0328655946158306e-06, 2.028827385772232e-06, 2.0247692642687017e-06, 2.0206912180700836e-06, 2.0165932359437125e-06, 2.0124753074672057e-06, 2.0083374230362863e-06, 2.0041795738726334e-06, 2.0000017520317725e-06, 1.995803950410988e-06, 1.991586162757274e-06, 1.9873483836753113e-06, 1.9830906086354788e-06, 1.978812833981891e-06, 1.9745150569404716e-06, 1.97019727562705e-06, 1.965859489055495e-06, 1.96150169714587e-06, 1.9571239007326265e-06, 1.9527261015728176e-06, 1.948308302354346e-06, 1.94387050670424e-06, 1.939412719196952e-06, 1.934934945362695e-06, 1.9304371916957957e-06, 1.9259194656630805e-06, 1.92138177571229e-06, 1.916824131280514e-06, 1.9122465428026596e-06, 1.9076490217199386e-06, 1.903031580488385e-06, 1.8983942325873955e-06, 1.8937369925282952e-06, 1.8890598758629272e-06, 1.8843628991922668e-06, 1.8796460801750589e-06, 1.8749094375364781e-06, 1.8701529910768123e-06, 1.8653767616801673e-06, 1.8605807713231946e-06, 1.8557650430838402e-06, 1.8509296011501125e-06, 1.8460744708288744e-06, 1.8411996785546509e-06, 1.8363052518984597e-06, 1.8313912195766587e-06, 1.8264576114598128e-06, 1.8215044585815785e-06, 1.8165317931476054e-06, 1.8115396485444558e-06, 1.8065280593485386e-06, 1.8014970613350613e-06, 1.796446691486995e-06, 1.7913769880040546e-06, 1.786287990311695e-06, 1.7811797390701168e-06, 1.7760522761832892e-06, 1.7709056448079803e-06, 1.7657398893628031e-06, 1.76055505553727e-06, 1.7553511903008584e-06, 1.750128341912085e-06, 1.7448865599275892e-06, 1.7396258952112261e-06, 1.734346399943164e-06, 1.7290481276289917e-06, 1.7237311331088296e-06, 1.7183954725664467e-06, 1.7130412035383833e-06, 1.7076683849230745e-06, 1.7022770769899804e-06, 1.6968673413887153e-06, 1.6914392411581804e-06, 1.685992840735695e-06, 1.6805282059661306e-06, 1.67504540411104e-06, 1.6695445038577884e-06, 1.6640255753286778e-06, 1.6584886900900715e-06, 1.652933921161512e-06, 1.647361343024834e-06, 1.64177103163327e-06, 1.6361630644205516e-06, 1.6305375203100001e-06, 1.6248944797236085e-06, 1.6192340245911151e-06, 1.613556238359064e-06, 1.6078612059998556e-06, 1.6021490140207839e-06, 1.5964197504730587e-06, 1.5906735049608158e-06, 1.584910368650108e-06, 1.5791304342778828e-06, 1.5733337961609403e-06, 1.5675205502048723e-06, 1.561690793912984e-06, 1.5558446263951916e-06, 1.5499821483769002e-06, 1.54410346220786e-06, 1.5382086718709952e-06, 1.5322978829912116e-06, 1.5263712028441755e-06, 1.5204287403650684e-06, 1.5144706061573107e-06, 1.5084969125012587e-06, 1.5025077733628703e-06, 1.4965033044023406e-06, 1.4904836229827027e-06, 1.4844488481783994e-06, 1.4783991007838157e-06, 1.4723345033217808e-06, 1.4662551800520289e-06, 1.4601612569796267e-06, 1.4540528618633593e-06, 1.4479301242240776e-06, 1.4417931753530059e-06, 1.4356421483200055e-06, 1.4294771779817988e-06, 1.4232984009901458e-06, 1.41710595579998e-06, 1.410899982677494e-06, 1.404680623708183e-06, 1.398448022804836e-06, 1.3922023257154816e-06, 1.3859436800312824e-06, 1.3796722351943785e-06, 1.37338814250568e-06, 1.3670915551326066e-06, 1.3607826281167733e-06, 1.3544615183816217e-06, 1.3481283847399956e-06, 1.3417833879016608e-06, 1.335426690480767e-06, 1.329058457003251e-06, 1.3226788539141827e-06, 1.3162880495850484e-06, 1.3098862143209765e-06, 1.303473520367898e-06, 1.2970501419196469e-06, 1.2906162551249975e-06, 1.2841720380946349e-06, 1.2777176709080632e-06, 1.2712533356204457e-06, 1.2647792162693803e-06, 1.2582954988816061e-06, 1.2518023714796414e-06, 1.2453000240883532e-06, 1.238788648741457e-06, 1.232268439487944e-06, 1.2257395923984382e-06, 1.2192023055714795e-06, 1.212656779139734e-06, 1.2061032152761297e-06, 1.1995418181999148e-06, 1.1929727941826428e-06, 1.1863963515540756e-06, 1.1798127007080124e-06, 1.1732220541080338e-06, 1.1666246262931688e-06, 1.1600206338834764e-06, 1.1534102955855444e-06, 1.146793832197902e-06, 1.1401714666163469e-06, 1.13354342383918e-06, 1.1269099309723542e-06, 1.1202712172345267e-06, 1.1136275139620179e-06, 1.1069790546136735e-06, 1.1003260747756266e-06, 1.0936688121659576e-06, 1.0870075066392497e-06, 1.0803424001910355e-06, 1.073673736962132e-06, 1.0670017632428622e-06, 1.0603267274771562e-06, 1.0536488802665297e-06, 1.0469684743739361e-06, 1.0402857647274845e-06, 1.033601008424023e-06, 1.0269144647325762e-06, 1.0202263950976361e-06, 1.0135370631422973e-06, 1.0068467346712297e-06, 1.000155677673482e-06, 9.934641623251094e-07, 9.867724609916135e-07, 9.800808482301909e-07, 9.733896007917753e-07, 9.666989976228676e-07, 9.600093198671395e-07, 9.533208508668026e-07, 9.466338761637283e-07, 9.399486835003062e-07, 9.332655628200278e-07, 9.265848062677805e-07, 9.199067081898363e-07, 9.132315651335196e-07, 9.065596758465361e-07, 8.998913412759449e-07, 8.932268645667551e-07, 8.865665510601257e-07, 8.799107082911489e-07, 8.732596459861926e-07, 8.666136760597809e-07, 8.599731126109852e-07, 8.533382719193035e-07, 8.467094724399968e-07, 8.400870347988586e-07, 8.334712817863831e-07, 8.268625383513067e-07, 8.202611315934849e-07, 8.136673907560755e-07, 8.070816472169907e-07, 8.005042344795819e-07, 7.939354881625207e-07, 7.873757459888351e-07, 7.808253477740618e-07, 7.742846354134708e-07, 7.677539528683201e-07, 7.612336461510955e-07, 7.54724063309687e-07, 7.482255544104565e-07, 7.417384715201453e-07, 7.352631686865712e-07, 7.288000019180639e-07, 7.22349329161583e-07, 7.159115102794655e-07, 7.094869070247456e-07, 7.030758830149886e-07, 6.966788037045816e-07, 6.90296036355419e-07, 6.83927950005924e-07, 6.775749154383408e-07, 6.712373051442367e-07, 6.649154932881503e-07, 6.586098556693175e-07, 6.523207696814134e-07, 6.460486142702414e-07, 6.397937698893039e-07, 6.335566184531863e-07, 6.273375432886869e-07, 6.211369290836263e-07, 6.149551618332662e-07, 6.08792628784272e-07, 6.026497183761507e-07, 5.965268201800979e-07, 5.904243248351863e-07, 5.843426239818323e-07, 5.782821101924739e-07, 5.722431768993976e-07, 5.662262183196522e-07, 5.602316293769893e-07, 5.5425980562077e-07, 5.483111431417846e-07, 5.423860384849257e-07, 5.364848885586679e-07, 5.306080905413011e-07, 5.247560417838723e-07, 5.189291397097917e-07, 5.13127781711065e-07, 5.073523650411127e-07, 5.016032867041471e-07, 4.958809433410771e-07, 4.901857311119162e-07, 4.845180455746772e-07, 4.788782815607366e-07, 4.732668330466621e-07, 4.6768409302249734e-07, 4.621304533565085e-07, 4.5660630465639865e-07, 4.5111203612700533e-07, 4.456480354245021e-07, 4.402146885071306e-07, 4.348123794824984e-07, 4.2944149045148314e-07, 4.241024013487921e-07, 4.187954897802332e-07, 4.135211308567611e-07, 4.082796970253709e-07, 4.0307155789691795e-07, 3.978970800709529e-07, 3.927566269576674e-07, 3.8765055859705554e-07, 3.8257923147540454e-07, 3.7754299833923527e-07, 3.725422080068247e-07, 3.675772051774483e-07, 3.626483302384907e-07, 3.5775591907058136e-07, 3.529003028509204e-07, 3.4808180785496887e-07, 3.433007552566858e-07, 3.3855746092750365e-07, 3.3385223523424055e-07, 3.2918538283615903e-07, 3.245572024813848e-07, 3.1996798680291113e-07, 3.15418022114419e-07, 3.1090758820615237e-07, 3.0643695814109416e-07, 3.020063980516958e-07, 2.976161669374191e-07, 2.9326651646335656e-07, 2.8895769076020016e-07, 2.8468992622583575e-07, 2.80463451328844e-07, 2.7627848641419344e-07, 2.721352435114159e-07, 2.680339261455565e-07, 2.639747291511954e-07, 2.599578384898377e-07, 2.5598343107097464e-07, 2.5205167457711396e-07, 2.4816272729308416e-07, 2.443167379399127e-07, 2.4051384551358016e-07, 2.3675417912894961e-07, 2.33037857869169e-07, 2.293649906408418e-07, 2.2573567603525687e-07, 2.2215000219596546e-07, 2.1860804669298767e-07, 2.1510987640392526e-07, 2.1165554740225184e-07, 2.0824510485304413e-07, 2.0487858291641025e-07, 2.0155600465886296e-07, 1.982773819728766e-07, 1.950427155048562e-07, 1.9185199459173787e-07, 1.8870519720642724e-07, 1.856022899122721e-07, 1.825432278267522e-07, 1.7952795459455652e-07, 1.7655640237020537e-07, 1.7362849181035886e-07, 1.7074413207594123e-07, 1.6790322084419255e-07, 1.651056443307463e-07, 1.623512773218133e-07, 1.5963998321653726e-07, 1.5697161407956994e-07, 1.5434601070389688e-07, 1.5176300268392708e-07, 1.492224084988429e-07, 1.467240356061878e-07, 1.4426768054565228e-07, 1.4185312905300003e-07, 1.394801561840574e-07, 1.3714852644867283e-07, 1.3485799395453242e-07, 1.3260830256070204e-07, 1.3039918604074638e-07, 1.2823036825525903e-07, 1.2610156333361936e-07, 1.2401247586477454e-07, 1.2196280109682895e-07, 1.1995222514520523e-07, 1.1798042520912618e-07, 1.1604706979615052e-07, 1.1415181895447978e-07, 1.1229432451273988e-07, 1.1047423032692571e-07, 1.0869117253418436e-07, 1.0694477981309926e-07, 1.0523467365012551e-07, 1.0356046861181542e-07, 1.0192177262246225e-07, 1.0031818724678066e-07, 9.874930797723302e-08, 9.7214724525603e-08, 9.571402111840994e-08, 9.424677679575182e-08, 9.281256571315849e-08, 9.141095744603289e-08, 9.004151729625389e-08, 8.870380660051217e-08, 8.739738303994843e-08, 8.612180095066302e-08, 8.487661163466595e-08, 8.366136367083766e-08, 8.247560322547299e-08, 8.131887436198426e-08, 8.019071934934294e-08, 7.909067896884493e-08, 7.801829281879008e-08, 7.697309961667364e-08, 7.595463749849477e-08, 7.49624443147961e-08, 7.399605792305748e-08, 7.305501647607734e-08, 7.213885870598604e-08, 7.12471242035471e-08, 7.037935369241478e-08, 6.953508929802912e-08, 6.871387481084366e-08, 6.791525594359474e-08, 6.713878058233633e-08, 6.63839990309793e-08, 6.565046424908984e-08, 6.493773208271763e-08, 6.424536148804071e-08, 6.357291474763071e-08, 6.291995767915889e-08, 6.228605983638063e-08, 6.1670794702253e-08, 6.107373987405773e-08, 6.049447724041873e-08, 5.993259315012111e-08, 5.9387678572655827e-08, 5.885932925043093e-08, 5.834714584260795e-08, 5.7850734060538445e-08, 5.736970479479232e-08, 5.6903674233786116e-08, 5.645226397403511e-08, 5.6015101122068914e-08, 5.5591818388065346e-08, 5.51820541712722e-08, 5.4785452637300756e-08, 5.440166378738859e-08, 5.4030343519742674e-08, 5.36711536830862e-08, 5.332376212254465e-08, 5.2987842718018256e-08, 5.2663075415198584e-08, 5.2349146249397127e-08, 5.204574736236341e-08, 5.175257701227876e-08, 5.146933957711985e-08, 5.119574555159381e-08, 5.093151153785292e-08, 5.0676360230203245e-08, 5.0430020394026355e-08, 5.019222683913821e-08, 4.9962720387812624e-08, 4.97412478377001e-08, 4.952756191987517e-08, 4.9321421252246876e-08, 4.9122590288568254e-08, 4.893083926328102e-08, 4.8745944132431286e-08, 4.856768651089139e-08, 4.8395853606121367e-08, 4.823023814870159e-08, 4.8070638319865526e-08, 4.791685767625845e-08, 4.776870507214435e-08, 4.7625994579279226e-08, 4.748854540466458e-08, 4.735618180638982e-08, 4.722873300776738e-08, 4.71060331099584e-08, 4.698792100328124e-08, 4.687424027738883e-08, 4.676483913049444e-08, 4.6659570277819e-08, 4.6558290859426104e-08, 4.6460862347604247e-08, 4.63671504539486e-08, 4.627702503628762e-08, 4.619036000559274e-08, 4.610703323300212e-08, 4.602692645708243e-08, 4.5949925191445484e-08, 4.587591863282953e-08, 4.580479956974812e-08, 4.573646429180253e-08, 4.567081249974728e-08, 4.5607747216391443e-08, 4.554717469841238e-08, 4.5489004349152135e-08, 4.543314863246098e-08, 4.5379522987646657e-08, 4.5328045745582466e-08, 4.5278638046022114e-08, 4.523122375616401e-08, 4.518572939050316e-08, 4.5142084032004076e-08, 4.510021925462403e-08, 4.5060069047211764e-08, 4.502156973880325e-08, 4.498465992533235e-08, 4.494928039777117e-08, 4.4915374071711817e-08, 4.4882885918398417e-08, 4.48517628972159e-08, 4.4821953889639576e-08, 4.4793409634647487e-08, 4.476608266559559e-08, 4.473992724855419e-08, 4.471489932210241e-08, 4.469095643857607e-08, 4.466805770676343e-08, 4.464616373604171e-08, 4.462523658194677e-08, 4.460523969316733e-08, 4.4586137859954336e-08, 4.4567897163935553e-08, 4.455048492932491e-08, 4.4533869675515547e-08, 4.4518021071045145e-08, 4.450290988892189e-08, 4.4488507963298755e-08, 4.4474788147483846e-08, 4.446172427327405e-08, 4.4449291111599006e-08, 4.443746433446228e-08, 4.44262204781662e-08, 4.441553690780664e-08, 4.440539178302388e-08, 4.4395764024995234e-08, 4.4386633284655015e-08]\n"
     ]
    }
   ],
   "source": [
    "from decimal import Decimal\n",
    "import plotly.express as px\n",
    "import pandas as pd\n",
    "from IPython.display import display\n",
    "\n",
    "\n",
    "# Выбор метода и начальных условий\n",
    "RungeKutta = RungeKutta4\n",
    "y0 = get_y0(khi_solution)\n",
    "print(f\"khi = {khi_solution}, h = {h_solution}\")\n",
    "\n",
    "# Вычисление решений (все вычисления остаются в Decimal)\n",
    "zvals, uvals, Fvals = RungeKutta(du, dF, z0, y0, F0, h_solution, zTarget, k_z)\n",
    "upvals = [up_z(zi) for zi in zvals]\n",
    "\n",
    "# Функция преобразования Decimal для визуализации\n",
    "def decimal_to_float(x):\n",
    "    return float(x) if isinstance(x, Decimal) else x\n",
    "\n",
    "# Создание DataFrame\n",
    "def create_decimal_df(zvals, yvals, label):\n",
    "    return pd.DataFrame({\n",
    "        \"z\": [decimal_to_float(z) for z in zvals],\n",
    "        \"f\": [decimal_to_float(y) for y in yvals], \n",
    "        \"label\": [label] * len(zvals)\n",
    "    })\n",
    "\n",
    "print(len(zvals))\n",
    "\n",
    "zvals = [decimal_to_float(z) for z in zvals]\n",
    "uvals = [decimal_to_float(u) for u in uvals]\n",
    "Fvals = [decimal_to_float(F) for F in Fvals]\n",
    "\n",
    "\n",
    "\n",
    "fig = px.line()\n",
    "fig.add_scatter(x=zvals, y=uvals, name=\"u(z)\")\n",
    "fig.add_scatter(x=zvals, y=upvals, name=\"u_p(z)\")\n",
    "fig.show()\n",
    "\n",
    "\n",
    "fig = px.line()\n",
    "fig.add_scatter(x=zvals, y=Fvals, name=\"F(z)\")\n",
    "fig.show()\n",
    "\n",
    "Task2Steps = len(zvals)\n",
    "\n",
    "SolutionTask2 = uvals.copy()\n",
    "print(SolutionTask2)\n",
    "FTask2 = Fvals.copy()\n"
   ]
  },
  {
   "cell_type": "markdown",
   "metadata": {},
   "source": [
    "## Решение лабы 3"
   ]
  },
  {
   "cell_type": "code",
   "execution_count": 71,
   "metadata": {},
   "outputs": [
    {
     "name": "stderr",
     "output_type": "stream",
     "text": [
      "/tmp/ipykernel_4120/140813181.py:95: RuntimeWarning:\n",
      "\n",
      "invalid value encountered in divide\n",
      "\n"
     ]
    },
    {
     "data": {
      "application/vnd.plotly.v1+json": {
       "config": {
        "plotlyServerURL": "https://plot.ly"
       },
       "data": [
        {
         "hovertemplate": "<extra></extra>",
         "legendgroup": "",
         "line": {
          "color": "#636efa",
          "dash": "solid"
         },
         "marker": {
          "symbol": "circle"
         },
         "mode": "lines",
         "name": "",
         "orientation": "v",
         "showlegend": false,
         "type": "scatter",
         "xaxis": "x",
         "yaxis": "y"
        },
        {
         "name": "u_p(z)",
         "type": "scatter",
         "x": {
          "bdata": "AAAAAAAAAAAcx3Ecx3G8PxzHcRzHccw/VVVVVVVV1T8cx3Ecx3HcP3Icx3Ecx+E/VVVVVVVV5T84juM4juPoPxzHcRzHcew/AAAAAAAA8D8=",
          "dtype": "f8"
         },
         "y": {
          "bdata": "Wog1jjN9xT5CckbH9HnFPrG/KB1qScU+XR50jgZ6xD4BjQzCeGPCPpPrVtJv2bw+OyVKJjZgsT5vB2Am1mmXPkkvU532t1Y+MjSIHhhZCj0=",
          "dtype": "f8"
         }
        },
        {
         "name": "u(z)",
         "type": "scatter",
         "x": {
          "bdata": "AAAAAAAAAAAcx3Ecx3G8PxzHcRzHccw/VVVVVVVV1T8cx3Ecx3HcP3Icx3Ecx+E/VVVVVVVV5T84juM4juPoPxzHcRzHcew/AAAAAAAA8D8=",
          "dtype": "f8"
         },
         "y": [
          0.000002559994554856609,
          0.000002559994554856609,
          0.00000253699127760263,
          0.00000243971513807907,
          0.000002189688753843082,
          0.0000017154587863966881,
          0.0000010297389932280219,
          3.4918461281050985e-7,
          5.6157240282747355e-8,
          3.4184127509431146e-8
         ]
        },
        {
         "name": "Fint(z)",
         "type": "scatter",
         "x": {
          "bdata": "AAAAAAAAAAAcx3Ecx3G8PxzHcRzHccw/VVVVVVVV1T8cx3Ecx3HcP3Icx3Ecx+E/VVVVVVVV5T84juM4juPoPxzHcRzHcew/AAAAAAAA8D8=",
          "dtype": "f8"
         },
         "y": [
          0,
          2.2250788168993412e-9,
          7.529605369645517e-9,
          2.3184347353953948e-8,
          5.229951046873803e-8,
          9.891871148478209e-8,
          1.5749829335421033e-7,
          1.7677118813105843e-7,
          1.0180348412247383e-7,
          2.729551411451593e-8
         ]
        },
        {
         "name": "Fapprox(z)",
         "type": "scatter",
         "x": {
          "bdata": "AAAAAAAAAAAcx3Ecx3G8PxzHcRzHccw/VVVVVVVV1T8cx3Ecx3HcP3Icx3Ecx+E/VVVVVVVV5T84juM4juPoPxzHcRzHcew/AAAAAAAA8D8=",
          "dtype": "f8"
         },
         "y": [
          0,
          1.4793231765116926e-9,
          7.777680417547347e-9,
          2.3001404991495172e-8,
          5.120639921525441e-8,
          9.458688312456112e-8,
          1.4714796672991836e-7,
          1.7692406676539817e-7,
          1.6145333475946237e-7,
          1.965673708071653e-7
         ]
        },
        {
         "name": "DivF(z)",
         "type": "scatter",
         "x": {
          "bdata": "AAAAAAAAAAAcx3Ecx3G8PxzHcRzHccw/VVVVVVVV1T8cx3Ecx3HcP3Icx3Ecx+E/VVVVVVVV5T84juM4juPoPxzHcRzHcew/AAAAAAAA8D8=",
          "dtype": "f8"
         },
         "y": {
          "bdata": "AAAAAAAA+P+MJLQEoIBVPkTg4OWP+Xc+xF63dvQLij40h9TbmNaWPtFhVUE1yaA+wQd30nYPoT4WTP4SKryQvvaDEe4jY7G++hvX8j6+dr4=",
          "dtype": "f8"
         }
        }
       ],
       "layout": {
        "legend": {
         "tracegroupgap": 0
        },
        "margin": {
         "t": 60
        },
        "template": {
         "data": {
          "bar": [
           {
            "error_x": {
             "color": "#2a3f5f"
            },
            "error_y": {
             "color": "#2a3f5f"
            },
            "marker": {
             "line": {
              "color": "#E5ECF6",
              "width": 0.5
             },
             "pattern": {
              "fillmode": "overlay",
              "size": 10,
              "solidity": 0.2
             }
            },
            "type": "bar"
           }
          ],
          "barpolar": [
           {
            "marker": {
             "line": {
              "color": "#E5ECF6",
              "width": 0.5
             },
             "pattern": {
              "fillmode": "overlay",
              "size": 10,
              "solidity": 0.2
             }
            },
            "type": "barpolar"
           }
          ],
          "carpet": [
           {
            "aaxis": {
             "endlinecolor": "#2a3f5f",
             "gridcolor": "white",
             "linecolor": "white",
             "minorgridcolor": "white",
             "startlinecolor": "#2a3f5f"
            },
            "baxis": {
             "endlinecolor": "#2a3f5f",
             "gridcolor": "white",
             "linecolor": "white",
             "minorgridcolor": "white",
             "startlinecolor": "#2a3f5f"
            },
            "type": "carpet"
           }
          ],
          "choropleth": [
           {
            "colorbar": {
             "outlinewidth": 0,
             "ticks": ""
            },
            "type": "choropleth"
           }
          ],
          "contour": [
           {
            "colorbar": {
             "outlinewidth": 0,
             "ticks": ""
            },
            "colorscale": [
             [
              0,
              "#0d0887"
             ],
             [
              0.1111111111111111,
              "#46039f"
             ],
             [
              0.2222222222222222,
              "#7201a8"
             ],
             [
              0.3333333333333333,
              "#9c179e"
             ],
             [
              0.4444444444444444,
              "#bd3786"
             ],
             [
              0.5555555555555556,
              "#d8576b"
             ],
             [
              0.6666666666666666,
              "#ed7953"
             ],
             [
              0.7777777777777778,
              "#fb9f3a"
             ],
             [
              0.8888888888888888,
              "#fdca26"
             ],
             [
              1,
              "#f0f921"
             ]
            ],
            "type": "contour"
           }
          ],
          "contourcarpet": [
           {
            "colorbar": {
             "outlinewidth": 0,
             "ticks": ""
            },
            "type": "contourcarpet"
           }
          ],
          "heatmap": [
           {
            "colorbar": {
             "outlinewidth": 0,
             "ticks": ""
            },
            "colorscale": [
             [
              0,
              "#0d0887"
             ],
             [
              0.1111111111111111,
              "#46039f"
             ],
             [
              0.2222222222222222,
              "#7201a8"
             ],
             [
              0.3333333333333333,
              "#9c179e"
             ],
             [
              0.4444444444444444,
              "#bd3786"
             ],
             [
              0.5555555555555556,
              "#d8576b"
             ],
             [
              0.6666666666666666,
              "#ed7953"
             ],
             [
              0.7777777777777778,
              "#fb9f3a"
             ],
             [
              0.8888888888888888,
              "#fdca26"
             ],
             [
              1,
              "#f0f921"
             ]
            ],
            "type": "heatmap"
           }
          ],
          "histogram": [
           {
            "marker": {
             "pattern": {
              "fillmode": "overlay",
              "size": 10,
              "solidity": 0.2
             }
            },
            "type": "histogram"
           }
          ],
          "histogram2d": [
           {
            "colorbar": {
             "outlinewidth": 0,
             "ticks": ""
            },
            "colorscale": [
             [
              0,
              "#0d0887"
             ],
             [
              0.1111111111111111,
              "#46039f"
             ],
             [
              0.2222222222222222,
              "#7201a8"
             ],
             [
              0.3333333333333333,
              "#9c179e"
             ],
             [
              0.4444444444444444,
              "#bd3786"
             ],
             [
              0.5555555555555556,
              "#d8576b"
             ],
             [
              0.6666666666666666,
              "#ed7953"
             ],
             [
              0.7777777777777778,
              "#fb9f3a"
             ],
             [
              0.8888888888888888,
              "#fdca26"
             ],
             [
              1,
              "#f0f921"
             ]
            ],
            "type": "histogram2d"
           }
          ],
          "histogram2dcontour": [
           {
            "colorbar": {
             "outlinewidth": 0,
             "ticks": ""
            },
            "colorscale": [
             [
              0,
              "#0d0887"
             ],
             [
              0.1111111111111111,
              "#46039f"
             ],
             [
              0.2222222222222222,
              "#7201a8"
             ],
             [
              0.3333333333333333,
              "#9c179e"
             ],
             [
              0.4444444444444444,
              "#bd3786"
             ],
             [
              0.5555555555555556,
              "#d8576b"
             ],
             [
              0.6666666666666666,
              "#ed7953"
             ],
             [
              0.7777777777777778,
              "#fb9f3a"
             ],
             [
              0.8888888888888888,
              "#fdca26"
             ],
             [
              1,
              "#f0f921"
             ]
            ],
            "type": "histogram2dcontour"
           }
          ],
          "mesh3d": [
           {
            "colorbar": {
             "outlinewidth": 0,
             "ticks": ""
            },
            "type": "mesh3d"
           }
          ],
          "parcoords": [
           {
            "line": {
             "colorbar": {
              "outlinewidth": 0,
              "ticks": ""
             }
            },
            "type": "parcoords"
           }
          ],
          "pie": [
           {
            "automargin": true,
            "type": "pie"
           }
          ],
          "scatter": [
           {
            "fillpattern": {
             "fillmode": "overlay",
             "size": 10,
             "solidity": 0.2
            },
            "type": "scatter"
           }
          ],
          "scatter3d": [
           {
            "line": {
             "colorbar": {
              "outlinewidth": 0,
              "ticks": ""
             }
            },
            "marker": {
             "colorbar": {
              "outlinewidth": 0,
              "ticks": ""
             }
            },
            "type": "scatter3d"
           }
          ],
          "scattercarpet": [
           {
            "marker": {
             "colorbar": {
              "outlinewidth": 0,
              "ticks": ""
             }
            },
            "type": "scattercarpet"
           }
          ],
          "scattergeo": [
           {
            "marker": {
             "colorbar": {
              "outlinewidth": 0,
              "ticks": ""
             }
            },
            "type": "scattergeo"
           }
          ],
          "scattergl": [
           {
            "marker": {
             "colorbar": {
              "outlinewidth": 0,
              "ticks": ""
             }
            },
            "type": "scattergl"
           }
          ],
          "scattermap": [
           {
            "marker": {
             "colorbar": {
              "outlinewidth": 0,
              "ticks": ""
             }
            },
            "type": "scattermap"
           }
          ],
          "scattermapbox": [
           {
            "marker": {
             "colorbar": {
              "outlinewidth": 0,
              "ticks": ""
             }
            },
            "type": "scattermapbox"
           }
          ],
          "scatterpolar": [
           {
            "marker": {
             "colorbar": {
              "outlinewidth": 0,
              "ticks": ""
             }
            },
            "type": "scatterpolar"
           }
          ],
          "scatterpolargl": [
           {
            "marker": {
             "colorbar": {
              "outlinewidth": 0,
              "ticks": ""
             }
            },
            "type": "scatterpolargl"
           }
          ],
          "scatterternary": [
           {
            "marker": {
             "colorbar": {
              "outlinewidth": 0,
              "ticks": ""
             }
            },
            "type": "scatterternary"
           }
          ],
          "surface": [
           {
            "colorbar": {
             "outlinewidth": 0,
             "ticks": ""
            },
            "colorscale": [
             [
              0,
              "#0d0887"
             ],
             [
              0.1111111111111111,
              "#46039f"
             ],
             [
              0.2222222222222222,
              "#7201a8"
             ],
             [
              0.3333333333333333,
              "#9c179e"
             ],
             [
              0.4444444444444444,
              "#bd3786"
             ],
             [
              0.5555555555555556,
              "#d8576b"
             ],
             [
              0.6666666666666666,
              "#ed7953"
             ],
             [
              0.7777777777777778,
              "#fb9f3a"
             ],
             [
              0.8888888888888888,
              "#fdca26"
             ],
             [
              1,
              "#f0f921"
             ]
            ],
            "type": "surface"
           }
          ],
          "table": [
           {
            "cells": {
             "fill": {
              "color": "#EBF0F8"
             },
             "line": {
              "color": "white"
             }
            },
            "header": {
             "fill": {
              "color": "#C8D4E3"
             },
             "line": {
              "color": "white"
             }
            },
            "type": "table"
           }
          ]
         },
         "layout": {
          "annotationdefaults": {
           "arrowcolor": "#2a3f5f",
           "arrowhead": 0,
           "arrowwidth": 1
          },
          "autotypenumbers": "strict",
          "coloraxis": {
           "colorbar": {
            "outlinewidth": 0,
            "ticks": ""
           }
          },
          "colorscale": {
           "diverging": [
            [
             0,
             "#8e0152"
            ],
            [
             0.1,
             "#c51b7d"
            ],
            [
             0.2,
             "#de77ae"
            ],
            [
             0.3,
             "#f1b6da"
            ],
            [
             0.4,
             "#fde0ef"
            ],
            [
             0.5,
             "#f7f7f7"
            ],
            [
             0.6,
             "#e6f5d0"
            ],
            [
             0.7,
             "#b8e186"
            ],
            [
             0.8,
             "#7fbc41"
            ],
            [
             0.9,
             "#4d9221"
            ],
            [
             1,
             "#276419"
            ]
           ],
           "sequential": [
            [
             0,
             "#0d0887"
            ],
            [
             0.1111111111111111,
             "#46039f"
            ],
            [
             0.2222222222222222,
             "#7201a8"
            ],
            [
             0.3333333333333333,
             "#9c179e"
            ],
            [
             0.4444444444444444,
             "#bd3786"
            ],
            [
             0.5555555555555556,
             "#d8576b"
            ],
            [
             0.6666666666666666,
             "#ed7953"
            ],
            [
             0.7777777777777778,
             "#fb9f3a"
            ],
            [
             0.8888888888888888,
             "#fdca26"
            ],
            [
             1,
             "#f0f921"
            ]
           ],
           "sequentialminus": [
            [
             0,
             "#0d0887"
            ],
            [
             0.1111111111111111,
             "#46039f"
            ],
            [
             0.2222222222222222,
             "#7201a8"
            ],
            [
             0.3333333333333333,
             "#9c179e"
            ],
            [
             0.4444444444444444,
             "#bd3786"
            ],
            [
             0.5555555555555556,
             "#d8576b"
            ],
            [
             0.6666666666666666,
             "#ed7953"
            ],
            [
             0.7777777777777778,
             "#fb9f3a"
            ],
            [
             0.8888888888888888,
             "#fdca26"
            ],
            [
             1,
             "#f0f921"
            ]
           ]
          },
          "colorway": [
           "#636efa",
           "#EF553B",
           "#00cc96",
           "#ab63fa",
           "#FFA15A",
           "#19d3f3",
           "#FF6692",
           "#B6E880",
           "#FF97FF",
           "#FECB52"
          ],
          "font": {
           "color": "#2a3f5f"
          },
          "geo": {
           "bgcolor": "white",
           "lakecolor": "white",
           "landcolor": "#E5ECF6",
           "showlakes": true,
           "showland": true,
           "subunitcolor": "white"
          },
          "hoverlabel": {
           "align": "left"
          },
          "hovermode": "closest",
          "mapbox": {
           "style": "light"
          },
          "paper_bgcolor": "white",
          "plot_bgcolor": "#E5ECF6",
          "polar": {
           "angularaxis": {
            "gridcolor": "white",
            "linecolor": "white",
            "ticks": ""
           },
           "bgcolor": "#E5ECF6",
           "radialaxis": {
            "gridcolor": "white",
            "linecolor": "white",
            "ticks": ""
           }
          },
          "scene": {
           "xaxis": {
            "backgroundcolor": "#E5ECF6",
            "gridcolor": "white",
            "gridwidth": 2,
            "linecolor": "white",
            "showbackground": true,
            "ticks": "",
            "zerolinecolor": "white"
           },
           "yaxis": {
            "backgroundcolor": "#E5ECF6",
            "gridcolor": "white",
            "gridwidth": 2,
            "linecolor": "white",
            "showbackground": true,
            "ticks": "",
            "zerolinecolor": "white"
           },
           "zaxis": {
            "backgroundcolor": "#E5ECF6",
            "gridcolor": "white",
            "gridwidth": 2,
            "linecolor": "white",
            "showbackground": true,
            "ticks": "",
            "zerolinecolor": "white"
           }
          },
          "shapedefaults": {
           "line": {
            "color": "#2a3f5f"
           }
          },
          "ternary": {
           "aaxis": {
            "gridcolor": "white",
            "linecolor": "white",
            "ticks": ""
           },
           "baxis": {
            "gridcolor": "white",
            "linecolor": "white",
            "ticks": ""
           },
           "bgcolor": "#E5ECF6",
           "caxis": {
            "gridcolor": "white",
            "linecolor": "white",
            "ticks": ""
           }
          },
          "title": {
           "x": 0.05
          },
          "xaxis": {
           "automargin": true,
           "gridcolor": "white",
           "linecolor": "white",
           "ticks": "",
           "title": {
            "standoff": 15
           },
           "zerolinecolor": "white",
           "zerolinewidth": 2
          },
          "yaxis": {
           "automargin": true,
           "gridcolor": "white",
           "linecolor": "white",
           "ticks": "",
           "title": {
            "standoff": 15
           },
           "zerolinecolor": "white",
           "zerolinewidth": 2
          }
         }
        },
        "xaxis": {
         "anchor": "y",
         "domain": [
          0,
          1
         ]
        },
        "yaxis": {
         "anchor": "x",
         "domain": [
          0,
          1
         ]
        }
       }
      }
     },
     "metadata": {},
     "output_type": "display_data"
    },
    {
     "name": "stdout",
     "output_type": "stream",
     "text": [
      "MaxFDif =  6.201453322420827\n",
      "MinFDif =  0\n",
      "AvgFDif =  0.7294655937198742\n",
      "yN =  3.4184127509431146e-08\n",
      "FN= 2.729551411451593e-08\n"
     ]
    }
   ],
   "source": [
    "Tw = 2000\n",
    "T0 = 10000\n",
    "R = 0.35\n",
    "p = 4\n",
    "\n",
    "c = 3 * 1e10\n",
    "\n",
    "\n",
    "# TempTable = ((2000, 8.200E-03),\n",
    "#     (3000, 2.768E-02),\n",
    "#     (4000, 6.560E-02),\n",
    "#     (5000, 1.281E-01),\n",
    "#     (6000, 2.214E-01),\n",
    "#     (7000, 3.516E-01),\n",
    "#     (8000, 5.248E-01),\n",
    "#     (9000, 7.472E-01),\n",
    "#     (10000, 1.025E+00),\n",
    "# )\n",
    "\n",
    "TempTable = ((2000, 1.6),\n",
    "    (3000, 5.4),\n",
    "    (4000, 1.280E+01),\n",
    "    (5000, 2.500E+01),\n",
    "    (6000, 4.320E+01),\n",
    "    (7000, 6.860E+01),\n",
    "    (8000, 1.024E+02),\n",
    "    (9000, 1.458E+02),\n",
    "    (10000, 2.000E+02),\n",
    ")\n",
    "\n",
    "def getkFunc():\n",
    "    tarr, karr = zip(*TempTable)\n",
    "    tarr = [np.log(x) for x in tarr]\n",
    "    karr = [np.log(x) for x in karr]\n",
    "    def k(t):\n",
    "        return np.exp(np.interp([np.log(t)], tarr, karr)[0])\n",
    "    return k\n",
    "\n",
    "\n",
    "\n",
    "def T(z):\n",
    "    return (Tw - T0) * (z)**p + T0\n",
    "\n",
    "def Plank(z):\n",
    "    return 3.084 * 1e-4 / (np.exp(4.799*1e4 / T(z)) - 1)\n",
    "\n",
    "def formTridiagonalForm(n):\n",
    "    z = np.linspace(0, 1, n)\n",
    "    h = np.diff(z)[0]\n",
    "    tk = getkFunc()\n",
    "    k = lambda x: tk(T(x))\n",
    "\n",
    "    mat = [[0] * n for _ in range(n)]\n",
    "    \n",
    "    kappa = lambda x: 2 / (k(x) + k(x + h))\n",
    "    mat[0][0] =  1/((k(z[0]) + k(z[1])) * R)\n",
    "    mat[0][1] = -mat[0][0]\n",
    "    for i in range(1, n - 1):\n",
    "        A = -(z[i] - h/2)*kappa(z[i - 1]) / R**2 / h\n",
    "        C = -(z[i] + h/2)*kappa(z[i]) / R**2 / h\n",
    "        B = (A + C - 3*k(z[i])*z[i]*h)\n",
    "        mat[i][i - 1] = A\n",
    "        mat[i][i] = B\n",
    "        mat[i][i + 1] = C\n",
    "    mat[-1][-2] = - (1/(k(z[-2]) + k(z[-1]))/R**2/h*(2 - h))\n",
    "    # mat[-1][-2] = -kappa(z[-2]) * (1 - h/2) /  R**2 / h # MN\n",
    "    # mat[-1][-1] = 3*0.39 - mat[-1][-2] + 3*R*k(z[-1]) * h/2\n",
    "    mat[-1][-1] = 3*0.39 / R - mat[-1][-2]\n",
    "    \n",
    "    return mat\n",
    "\n",
    "def formTridiagonalSide(n):\n",
    "    z = np.linspace(0, 1, n)\n",
    "    h = np.diff(z)[0]\n",
    "    tk = getkFunc()\n",
    "    k = lambda x: tk(T(x))\n",
    "\n",
    "    arr = [0] * n\n",
    "    for i in range(1, n - 1):\n",
    "        arr[i] = -3 * k(z[i]) * z[i] * h * Plank(z[i])\n",
    "    # arr[-1] = 3 * R * k(z[-1]) * z[-1] * h/2 * Plank(z[-1])\n",
    "    return arr\n",
    "\n",
    "def IntegrF(z, u : list[float]):\n",
    "    k = getkFunc()\n",
    "    F = [0] * len(u)\n",
    "    intFunc = [0]\n",
    "    for i in range(1, len(u)):\n",
    "        intFunc.append(z[i] * k(T(z[i])) * (Plank(z[i]) - u[i]))\n",
    "        F[i] = 3*R/z[i] * sp.integrate.simpson(intFunc, z[:i+1])\n",
    "    return F\n",
    "\n",
    "def DivF(z, u, F):\n",
    "    k = getkFunc()\n",
    "    return 3 * R * k(T(z)) * (Plank(z) - u) - F / z\n",
    "\n",
    "def ApproxF(z, u : list[float]):\n",
    "    h = np.diff(z)[0]\n",
    "    k = getkFunc()\n",
    "    F = [0] * len(u)\n",
    "    for i in range(1, len(u) - 1):\n",
    "        F[i] = - 1 / R / k(T(z[i])) * (u[i + 1] - u[i - 1]) / 2 / h\n",
    "    F[-1] = - 1 / R / k(T(z[-1])) * (u[-1] * (1 - 3 * 0.39 * R * k(T(z[-1])) * h) - u[-2]) / 2 / h\n",
    "    return F\n",
    "\n",
    "        \n",
    "Start = 0\n",
    "End = 1\n",
    "Steps = 10\n",
    "\n",
    "A = formTridiagonalForm(Steps)\n",
    "B = formTridiagonalSide(Steps)\n",
    "sol = TridiagonalSolve(A, B)\n",
    "xrange = np.linspace(Start, End, Steps)\n",
    "Fint = IntegrF(xrange, sol)\n",
    "Fapprox = ApproxF(xrange, sol)\n",
    "\n",
    "fig = px.line()\n",
    "fig.add_scatter(x=xrange, y=Plank(xrange), name=\"u_p(z)\")\n",
    "fig.add_scatter(x=xrange, y=sol, name=\"u(z)\")\n",
    "fig.add_scatter(x=xrange, y=Fint, name=\"Fint(z)\")\n",
    "fig.add_scatter(x=xrange, y=Fapprox, name=\"Fapprox(z)\")\n",
    "fig.add_scatter(x=xrange, y=DivF(xrange, sol, Fint), name=\"DivF(z)\")\n",
    "fig.show()\n",
    "\n",
    "MaxFDif = abs(Fint[0] - Fapprox[0])\n",
    "MinFDif = abs(Fint[0] - Fapprox[0])\n",
    "SumFDif = abs(Fint[0] - Fapprox[0]) \n",
    "for i in range(1, len(Fint)):\n",
    "    MinFDif = min(MinFDif, abs(Fint[i] - Fapprox[i]) / (Fint[i]))\n",
    "    SumFDif += abs(Fint[i] - Fapprox[i]) / (Fint[i])\n",
    "    MaxFDif = max(MaxFDif, abs(Fint[i] - Fapprox[i]) / (Fint[i]))\n",
    "\n",
    "print(\"MaxFDif = \", MaxFDif)\n",
    "print(\"MinFDif = \", MinFDif)\n",
    "print(\"AvgFDif = \", SumFDif / len(Fint))\n",
    "\n",
    "\n",
    "\n",
    "Task3Steps = Steps\n",
    "SolutionTask3 = sol\n",
    "FintTask3 = Fint\n",
    "FapproxTask3 = Fapprox\n",
    "print(\"yN = \", sol[-1])\n",
    "print(\"FN=\", Fint[-1])"
   ]
  },
  {
   "cell_type": "code",
   "execution_count": 72,
   "metadata": {},
   "outputs": [
    {
     "name": "stdout",
     "output_type": "stream",
     "text": [
      "MinFDif:  0.0\n",
      "MaxFDif:  79836.29737656207\n",
      "AvgFDif:  34692.65428204737\n",
      "MinUDif:  0.0006632400165966503\n",
      "MaxUDif:  0.9866556483309885\n",
      "AvgUDif:  0.39605935358783684\n"
     ]
    },
    {
     "data": {
      "application/vnd.plotly.v1+json": {
       "config": {
        "plotlyServerURL": "https://plot.ly"
       },
       "data": [
        {
         "hovertemplate": "<extra></extra>",
         "legendgroup": "",
         "line": {
          "color": "#636efa",
          "dash": "solid"
         },
         "marker": {
          "symbol": "circle"
         },
         "mode": "lines",
         "name": "",
         "orientation": "v",
         "showlegend": false,
         "type": "scatter",
         "xaxis": "x",
         "yaxis": "y"
        },
        {
         "name": "u_p(z)",
         "type": "scatter",
         "x": {
          "bdata": "AAAAAAAAAAAcx3Ecx3G8PxzHcRzHccw/VVVVVVVV1T8cx3Ecx3HcP3Icx3Ecx+E/VVVVVVVV5T84juM4juPoPxzHcRzHcew/AAAAAAAA8D8=",
          "dtype": "f8"
         },
         "y": {
          "bdata": "Wog1jjN9xT5CckbH9HnFPrG/KB1qScU+XR50jgZ6xD4BjQzCeGPCPpPrVtJv2bw+OyVKJjZgsT5vB2Am1mmXPkkvU532t1Y+MjSIHhhZCj0=",
          "dtype": "f8"
         }
        },
        {
         "name": "Task 2 u(z)",
         "type": "scatter",
         "x": {
          "bdata": "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",
          "dtype": "f8"
         },
         "y": [
          0.0000025616935833510398,
          0.000002561693572544179,
          0.0000025616935400141508,
          0.000002561693485401211,
          0.00000256169340811019,
          0.0000025616933073080506,
          0.000002561693181923781,
          0.000002561693030648377,
          0.0000025616928519348368,
          0.00000256169264399816,
          0.0000025616924048153467,
          0.000002561692132125396,
          0.0000025616918234293073,
          0.0000025616914759900795,
          0.000002561691086832711,
          0.0000025616906527441984,
          0.0000025616901702735392,
          0.000002561689635731728,
          0.0000025616890451917593,
          0.0000025616883944886266,
          0.000002561687679219322,
          0.0000025616868947428382,
          0.0000025616860361801653,
          0.000002561685098414294,
          0.0000025616840760902147,
          0.0000025616829636149185,
          0.000002561681755157397,
          0.000002561680444648643,
          0.000002561679025781653,
          0.0000025616774920114244,
          0.000002561675836554961,
          0.0000025616740523912706,
          0.0000025616721322613686,
          0.0000025616700686682783,
          0.000002561667853877033,
          0.000002561665479914678,
          0.0000025616629385702742,
          0.0000025616602213948973,
          0.0000025616573197016447,
          0.0000025616542245656337,
          0.0000025616509268240098,
          0.000002561647417075947,
          0.0000025616436856826515,
          0.0000025616397227673687,
          0.000002561635518215386,
          0.000002561631061674037,
          0.00000256162634255271,
          0.00000256162135002285,
          0.0000025616160730179676,
          0.0000025616105002336453,
          0.0000025616046201275445,
          0.0000025615984209194136,
          0.0000025615918905910954,
          0.0000025615850168865373,
          0.0000025615777873117994,
          0.0000025615701891350665,
          0.0000025615622093866563,
          0.0000025615538348590322,
          0.000002561545052106815,
          0.0000025615358474467964,
          0.000002561526206957951,
          0.000002561516116481451,
          0.0000025615055616206817,
          0.0000025614945277412573,
          0.0000025614829999710363,
          0.00000256147096320014,
          0.0000025614584020809713,
          0.000002561445301028233,
          0.000002561431644218948,
          0.0000025614174155924817,
          0.000002561402598850563,
          0.000002561387177457308,
          0.000002561371134639246,
          0.0000025613544533853403,
          0.0000025613371164470207,
          0.000002561319106338207,
          0.0000025613004053353412,
          0.0000025612809954774137,
          0.000002561260858565999,
          0.0000025612399761652857,
          0.0000025612183296021126,
          0.0000025611958999660015,
          0.000002561172668109198,
          0.0000025611486146467066,
          0.0000025611237199563316,
          0.00000256109796417872,
          0.000002561071327217402,
          0.000002561043788738837,
          0.000002561015328172461,
          0.0000025609859247107313,
          0.0000025609555573091795,
          0.000002560924204686461,
          0.000002560891845324408,
          0.0000025608584574680864,
          0.000002560824019125851,
          0.000002560788508069405,
          0.00000256075190183386,
          0.0000025607141777178007,
          0.0000025606753127833485,
          0.000002560635283856228,
          0.0000025605940675258388,
          0.000002560551640145322,
          0.000002560507977831639,
          0.000002560463056465644,
          0.0000025604168516921643,
          0.0000025603693389200786,
          0.0000025603204933224015,
          0.0000025602702898363696,
          0.000002560218703163527,
          0.0000025601657077698194,
          0.000002560111277885683,
          0.0000025600553875061436,
          0.0000025599980103909144,
          0.000002559939120064496,
          0.0000025598786898162826,
          0.0000025598166927006665,
          0.0000025597531015371507,
          0.000002559687888910459,
          0.000002559621027170655,
          0.000002559552488433257,
          0.000002559482244579364,
          0.0000025594102672557795,
          0.0000025593365278751386,
          0.000002559260997616043,
          0.000002559183647423192,
          0.000002559104448007525,
          0.000002559023369846361,
          0.0000025589403831835455,
          0.000002558855458029598,
          0.0000025587685641618674,
          0.0000025586796711246847,
          0.0000025585887482295275,
          0.00000255849576455518,
          0.000002558400688947904,
          0.0000025583034900216077,
          0.0000025582041361580247,
          0.000002558102595506891,
          0.0000025579988359861306,
          0.000002557892825282043,
          0.000002557784530849496,
          0.000002557673919912121,
          0.000002557560959462516,
          0.0000025574456162624487,
          0.000002557327856843069,
          0.0000025572076475051206,
          0.000002557084954319163,
          0.000002556959743125793,
          0.000002556831979535873,
          0.0000025567016289307672,
          0.0000025565686564625766,
          0.0000025564330270543836,
          0.0000025562947054004998,
          0.0000025561536559667194,
          0.0000025560098429905776,
          0.000002555863230481614,
          0.0000025557137822216416,
          0.0000025555614617650215,
          0.0000025554062324389412,
          0.0000025552480573437017,
          0.0000025550868993530064,
          0.0000025549227211142593,
          0.000002554755485048865,
          0.0000025545851533525397,
          0.00000255441168799562,
          0.0000025542350507233893,
          0.0000025540552030563968,
          0.000002553872106290794,
          0.000002553685721498671,
          0.0000025534960095284,
          0.0000025533029310049864,
          0.0000025531064463304268,
          0.0000025529065156840708,
          0.0000025527030990229906,
          0.0000025524961560823597,
          0.000002552285646375834,
          0.000002552071529195942,
          0.0000025518537636144828,
          0.0000025516323084829288,
          0.000002551407122432837,
          0.000002551178163876266,
          0.000002550945391006203,
          0.000002550708761796993,
          0.0000025504682340047817,
          0.00000255022376516796,
          0.0000025499753126076195,
          0.000002549722833428015,
          0.000002549466284517034,
          0.0000025492056225466737,
          0.000002548940803973526,
          0.000002548671785039273,
          0.000002548398521771186,
          0.000002548120969982635,
          0.0000025478390852736075,
          0.0000025475528230312335,
          0.0000025472621384303197,
          0.0000025469669864338916,
          0.000002546667321793746,
          0.000002546363099051009,
          0.0000025460542725367057,
          0.000002545740796372335,
          0.0000025454226244704604,
          0.0000025450997105352994,
          0.0000025447720080633312,
          0.0000025444394703439093,
          0.000002544102050459883,
          0.00000254375970128823,
          0.0000025434123755006966,
          0.00000254306002556445,
          0.0000025427026037427374,
          0.000002542340062095556,
          0.0000025419723524803334,
          0.0000025415994265526163,
          0.000002541221235766772,
          0.000002540837731376696,
          0.0000025404488644365333,
          0.000002540054585801408,
          0.000002539654846128163,
          0.000002539249595876114,
          0.0000025388387853078064,
          0.0000025384223644897925,
          0.0000025380002832934096,
          0.0000025375724913955783,
          0.000002537138938279603,
          0.0000025366995732359917,
          0.000002536254345363279,
          0.000002535803203568868,
          0.0000025353460965698766,
          0.0000025348829728940006,
          0.000002534413780880385,
          0.0000025339384686805094,
          0.0000025334569842590817,
          0.000002532969275394948,
          0.0000025324752896820114,
          0.0000025319749745301636,
          0.000002531468277166229,
          0.000002530955144634922,
          0.000002530435523799812,
          0.0000025299093613443092,
          0.000002529376603772654,
          0.0000025288371974109266,
          0.000002528291088408063,
          0.0000025277382227368893,
          0.000002527178546195166,
          0.000002526612004406645,
          0.000002526038542822142,
          0.0000025254581067206206,
          0.000002524870641210291,
          0.0000025242760912297203,
          0.0000025236744015489594,
          0.0000025230655167706796,
          0.000002522449381331328,
          0.000002521825939502292,
          0.0000025211951353910822,
          0.000002520556912942526,
          0.000002519911215939978,
          0.000002519257988006542,
          0.0000025185971726063115,
          0.0000025179287130456224,
          0.000002517252552474319,
          0.0000025165686338870377,
          0.0000025158769001245058,
          0.000002515177293874851,
          0.0000025144697576749325,
          0.000002513754233911683,
          0.0000025130306648234657,
          0.0000025122989925014518,
          0.000002511559158891007,
          0.0000025108111057930995,
          0.00000251005477486572,
          0.0000025092901076253204,
          0.000002508517045448266,
          0.0000025077355295723077,
          0.0000025069455010980655,
          0.000002506146900990533,
          0.0000025053396700805965,
          0.000002504523749066571,
          0.0000025036990785157525,
          0.0000025028655988659893,
          0.0000025020232504272665,
          0.0000025011719733833126,
          0.00000250031170779322,
          0.000002499442393593083,
          0.000002498563970597655,
          0.0000024976763785020228,
          0.0000024967795568832986,
          0.0000024958734452023285,
          0.0000024949579828054217,
          0.0000024940331089260954,
          0.00000249309876268684,
          0.000002492154883100901,
          0.0000024912014090740814,
          0.0000024902382794065592,
          0.0000024892654327947282,
          0.0000024882828078330547,
          0.0000024872903430159536,
          0.000002486287976739684,
          0.0000024852756473042657,
          0.000002484253292915411,
          0.0000024832208516864805,
          0.000002482178261640455,
          0.0000024811254607119306,
          0.0000024800623867491286,
          0.0000024789889775159325,
          0.000002477905170693938,
          0.0000024768109038845286,
          0.0000024757061146109676,
          0.0000024745907403205146,
          0.0000024734647183865586,
          0.0000024723279861107747,
          0.000002471180480725301,
          0.0000024700221393949346,
          0.000002468852899219354,
          0.0000024676726972353545,
          0.0000024664814704191144,
          0.000002465279155688474,
          0.000002464065689905243,
          0.000002462841009877526,
          0.000002461605052362071,
          0.00000246035775406664,
          0.0000024590990516524004,
          0.000002457828881736342,
          0.000002456547180893713,
          0.0000024552538856604802,
          0.0000024539489325358106,
          0.0000024526322579845784,
          0.0000024513037984398927,
          0.000002449963490305648,
          0.0000024486112699591003,
          0.000002447247073753463,
          0.00000244587083802053,
          0.000002444482499073321,
          0.0000024430819932087476,
          0.000002441669256710308,
          0.000002440244225850803,
          0.0000024388068368950763,
          0.000002437357026102779,
          0.00000243589472973116,
          0.0000024344198840378777,
          0.00000243293242528384,
          0.0000024314322897360664,
          0.000002429919413670576,
          0.0000024283937333753003,
          0.0000024268551851530215,
          0.000002425303705324336,
          0.000002423739230230643,
          0.0000024221616962371564,
          0.0000024205710397359486,
          0.0000024189671971490134,
          0.0000024173501049313582,
          0.0000024157196995741223,
          0.0000024140759176077187,
          0.000002412418695605006,
          0.0000024107479701844844,
          0.0000024090636780135175,
          0.0000024073657558115833,
          0.00000240565414035355,
          0.0000024039287684729804,
          0.0000024021895770654602,
          0.000002400436503091957,
          0.0000023986694835822064,
          0.000002396888455638121,
          0.0000023950933564372344,
          0.0000023932841232361648,
          0.0000023914606933741136,
          0.0000023896230042763872,
          0.0000023877709934579483,
          0.000002385904598526996,
          0.0000023840237571885737,
          0.0000023821284072482055,
          0.0000023802184866155605,
          0.000002378293933308147,
          0.000002376354685455034,
          0.000002374400681300604,
          0.0000023724318592083316,
          0.000002370448157664595,
          0.0000023684495152825132,
          0.0000023664358708058136,
          0.0000023644071631127325,
          0.00000236236333121994,
          0.0000023603043142864973,
          0.0000023582300516178466,
          0.000002356140482669823,
          0.000002354035547052707,
          0.000002351915184535299,
          0.000002349779335049026,
          0.0000023476279386920836,
          0.0000023454609357336005,
          0.000002343278266617842,
          0.000002341079871968437,
          0.000002338865692592641,
          0.0000023366356694856276,
          0.000002334389743834813,
          0.000002332127857024209,
          0.0000023298499506388096,
          0.00000232755596646901,
          0.0000023252458465150535,
          0.000002322919532991513,
          0.000002320576968331804,
          0.000002318218095192729,
          0.000002315842856459052,
          0.00000231345119524811,
          0.0000023110430549144526,
          0.000002308618379054513,
          0.0000023061771115113167,
          0.0000023037191963792173,
          0.000002301244578008667,
          0.000002298753201011022,
          0.0000022962450102633745,
          0.0000022937199509134263,
          0.000002291177968384387,
          0.00000228861900837991,
          0.0000022860430168890623,
          0.000002283449940191323,
          0.00000228083972486162,
          0.0000022782123177753974,
          0.0000022755676661137172,
          0.000002272905717368394,
          0.000002270226419347164,
          0.00000226752972017889,
          0.0000022648155683187928,
          0.0000022620839125537258,
          0.000002259334702007478,
          0.0000022565678861461127,
          0.0000022537834147833383,
          0.0000022509812380859176,
          0.0000022481613065791066,
          0.000002245323571152131,
          0.0000022424679830636953,
          0.000002239594493947528,
          0.0000022367030558179576,
          0.0000022337936210755297,
          0.000002230866142512652,
          0.000002227920573319278,
          0.0000022249568670886227,
          0.0000022219749778229186,
          0.0000022189748599391984,
          0.0000022159564682751194,
          0.000002212919758094819,
          0.0000022098646850948075,
          0.000002206791205409894,
          0.0000022036992756191495,
          0.000002200588852751902,
          0.000002197459894293771,
          0.0000021943123581927326,
          0.000002191146202865222,
          0.0000021879613872022726,
          0.000002184757870575688,
          0.0000021815356128442502,
          0.000002178294574359963,
          0.0000021750347159743303,
          0.00000217175599904467,
          0.0000021684583854404633,
          0.0000021651418375497408,
          0.0000021618063182854993,
          0.0000021584517910921596,
          0.000002155078219952055,
          0.000002151685569391959,
          0.000002148273804489645,
          0.0000021448428908804803,
          0.000002141392794764064,
          0.0000021379234829108867,
          0.0000021344349226690363,
          0.000002130927081970935,
          0.0000021273999293401094,
          0.0000021238534338980003,
          0.000002120287565370804,
          0.0000021167022940963484,
          0.000002113097591031008,
          0.0000021094734277566496,
          0.000002105829776487614,
          0.0000021021666100777345,
          0.0000020984839020273877,
          0.0000020947816264905793,
          0.000002091059758282067,
          0.0000020873182728845134,
          0.0000020835571464556783,
          0.0000020797763558356415,
          0.000002075975878554062,
          0.000002072155692837471,
          0.0000020683157776165965,
          0.000002064456112533729,
          0.0000020605766779501095,
          0.0000020566774549533643,
          0.0000020527584253649614,
          0.0000020488195717477104,
          0.0000020448608774132885,
          0.0000020408823264298034,
          0.0000020368839036293883,
          0.0000020328655946158306,
          0.000002028827385772232,
          0.0000020247692642687017,
          0.0000020206912180700836,
          0.0000020165932359437125,
          0.0000020124753074672057,
          0.0000020083374230362863,
          0.0000020041795738726334,
          0.0000020000017520317725,
          0.000001995803950410988,
          0.000001991586162757274,
          0.0000019873483836753113,
          0.0000019830906086354788,
          0.000001978812833981891,
          0.0000019745150569404716,
          0.00000197019727562705,
          0.000001965859489055495,
          0.00000196150169714587,
          0.0000019571239007326265,
          0.0000019527261015728176,
          0.000001948308302354346,
          0.00000194387050670424,
          0.000001939412719196952,
          0.000001934934945362695,
          0.0000019304371916957957,
          0.0000019259194656630805,
          0.00000192138177571229,
          0.000001916824131280514,
          0.0000019122465428026596,
          0.0000019076490217199386,
          0.000001903031580488385,
          0.0000018983942325873955,
          0.0000018937369925282952,
          0.0000018890598758629272,
          0.0000018843628991922668,
          0.0000018796460801750589,
          0.0000018749094375364781,
          0.0000018701529910768123,
          0.0000018653767616801673,
          0.0000018605807713231946,
          0.0000018557650430838402,
          0.0000018509296011501125,
          0.0000018460744708288744,
          0.0000018411996785546509,
          0.0000018363052518984597,
          0.0000018313912195766587,
          0.0000018264576114598128,
          0.0000018215044585815785,
          0.0000018165317931476054,
          0.0000018115396485444558,
          0.0000018065280593485386,
          0.0000018014970613350613,
          0.000001796446691486995,
          0.0000017913769880040546,
          0.000001786287990311695,
          0.0000017811797390701168,
          0.0000017760522761832892,
          0.0000017709056448079803,
          0.0000017657398893628031,
          0.00000176055505553727,
          0.0000017553511903008584,
          0.000001750128341912085,
          0.0000017448865599275892,
          0.0000017396258952112261,
          0.000001734346399943164,
          0.0000017290481276289917,
          0.0000017237311331088296,
          0.0000017183954725664467,
          0.0000017130412035383833,
          0.0000017076683849230745,
          0.0000017022770769899804,
          0.0000016968673413887153,
          0.0000016914392411581804,
          0.000001685992840735695,
          0.0000016805282059661306,
          0.00000167504540411104,
          0.0000016695445038577884,
          0.0000016640255753286778,
          0.0000016584886900900715,
          0.000001652933921161512,
          0.000001647361343024834,
          0.00000164177103163327,
          0.0000016361630644205516,
          0.0000016305375203100001,
          0.0000016248944797236085,
          0.0000016192340245911151,
          0.000001613556238359064,
          0.0000016078612059998556,
          0.0000016021490140207839,
          0.0000015964197504730587,
          0.0000015906735049608158,
          0.000001584910368650108,
          0.0000015791304342778828,
          0.0000015733337961609403,
          0.0000015675205502048723,
          0.000001561690793912984,
          0.0000015558446263951916,
          0.0000015499821483769002,
          0.00000154410346220786,
          0.0000015382086718709952,
          0.0000015322978829912116,
          0.0000015263712028441755,
          0.0000015204287403650684,
          0.0000015144706061573107,
          0.0000015084969125012587,
          0.0000015025077733628703,
          0.0000014965033044023406,
          0.0000014904836229827027,
          0.0000014844488481783994,
          0.0000014783991007838157,
          0.0000014723345033217808,
          0.0000014662551800520289,
          0.0000014601612569796267,
          0.0000014540528618633593,
          0.0000014479301242240776,
          0.0000014417931753530059,
          0.0000014356421483200055,
          0.0000014294771779817988,
          0.0000014232984009901458,
          0.00000141710595579998,
          0.000001410899982677494,
          0.000001404680623708183,
          0.000001398448022804836,
          0.0000013922023257154816,
          0.0000013859436800312824,
          0.0000013796722351943785,
          0.00000137338814250568,
          0.0000013670915551326066,
          0.0000013607826281167733,
          0.0000013544615183816217,
          0.0000013481283847399956,
          0.0000013417833879016608,
          0.000001335426690480767,
          0.000001329058457003251,
          0.0000013226788539141827,
          0.0000013162880495850484,
          0.0000013098862143209765,
          0.000001303473520367898,
          0.0000012970501419196469,
          0.0000012906162551249975,
          0.0000012841720380946349,
          0.0000012777176709080632,
          0.0000012712533356204457,
          0.0000012647792162693803,
          0.0000012582954988816061,
          0.0000012518023714796414,
          0.0000012453000240883532,
          0.000001238788648741457,
          0.000001232268439487944,
          0.0000012257395923984382,
          0.0000012192023055714795,
          0.000001212656779139734,
          0.0000012061032152761297,
          0.0000011995418181999148,
          0.0000011929727941826428,
          0.0000011863963515540756,
          0.0000011798127007080124,
          0.0000011732220541080338,
          0.0000011666246262931688,
          0.0000011600206338834764,
          0.0000011534102955855444,
          0.000001146793832197902,
          0.0000011401714666163469,
          0.00000113354342383918,
          0.0000011269099309723542,
          0.0000011202712172345267,
          0.0000011136275139620179,
          0.0000011069790546136735,
          0.0000011003260747756266,
          0.0000010936688121659576,
          0.0000010870075066392497,
          0.0000010803424001910355,
          0.000001073673736962132,
          0.0000010670017632428622,
          0.0000010603267274771562,
          0.0000010536488802665297,
          0.0000010469684743739361,
          0.0000010402857647274845,
          0.000001033601008424023,
          0.0000010269144647325762,
          0.0000010202263950976361,
          0.0000010135370631422973,
          0.0000010068467346712297,
          0.000001000155677673482,
          9.934641623251094e-7,
          9.867724609916135e-7,
          9.800808482301909e-7,
          9.733896007917753e-7,
          9.666989976228676e-7,
          9.600093198671395e-7,
          9.533208508668026e-7,
          9.466338761637283e-7,
          9.399486835003062e-7,
          9.332655628200278e-7,
          9.265848062677805e-7,
          9.199067081898363e-7,
          9.132315651335196e-7,
          9.065596758465361e-7,
          8.998913412759449e-7,
          8.932268645667551e-7,
          8.865665510601257e-7,
          8.799107082911489e-7,
          8.732596459861926e-7,
          8.666136760597809e-7,
          8.599731126109852e-7,
          8.533382719193035e-7,
          8.467094724399968e-7,
          8.400870347988586e-7,
          8.334712817863831e-7,
          8.268625383513067e-7,
          8.202611315934849e-7,
          8.136673907560755e-7,
          8.070816472169907e-7,
          8.005042344795819e-7,
          7.939354881625207e-7,
          7.873757459888351e-7,
          7.808253477740618e-7,
          7.742846354134708e-7,
          7.677539528683201e-7,
          7.612336461510955e-7,
          7.54724063309687e-7,
          7.482255544104565e-7,
          7.417384715201453e-7,
          7.352631686865712e-7,
          7.288000019180639e-7,
          7.22349329161583e-7,
          7.159115102794655e-7,
          7.094869070247456e-7,
          7.030758830149886e-7,
          6.966788037045816e-7,
          6.90296036355419e-7,
          6.83927950005924e-7,
          6.775749154383408e-7,
          6.712373051442367e-7,
          6.649154932881503e-7,
          6.586098556693175e-7,
          6.523207696814134e-7,
          6.460486142702414e-7,
          6.397937698893039e-7,
          6.335566184531863e-7,
          6.273375432886869e-7,
          6.211369290836263e-7,
          6.149551618332662e-7,
          6.08792628784272e-7,
          6.026497183761507e-7,
          5.965268201800979e-7,
          5.904243248351863e-7,
          5.843426239818323e-7,
          5.782821101924739e-7,
          5.722431768993976e-7,
          5.662262183196522e-7,
          5.602316293769893e-7,
          5.5425980562077e-7,
          5.483111431417846e-7,
          5.423860384849257e-7,
          5.364848885586679e-7,
          5.306080905413011e-7,
          5.247560417838723e-7,
          5.189291397097917e-7,
          5.13127781711065e-7,
          5.073523650411127e-7,
          5.016032867041471e-7,
          4.958809433410771e-7,
          4.901857311119162e-7,
          4.845180455746772e-7,
          4.788782815607366e-7,
          4.732668330466621e-7,
          4.6768409302249734e-7,
          4.621304533565085e-7,
          4.5660630465639865e-7,
          4.5111203612700533e-7,
          4.456480354245021e-7,
          4.402146885071306e-7,
          4.348123794824984e-7,
          4.2944149045148314e-7,
          4.241024013487921e-7,
          4.187954897802332e-7,
          4.135211308567611e-7,
          4.082796970253709e-7,
          4.0307155789691795e-7,
          3.978970800709529e-7,
          3.927566269576674e-7,
          3.8765055859705554e-7,
          3.8257923147540454e-7,
          3.7754299833923527e-7,
          3.725422080068247e-7,
          3.675772051774483e-7,
          3.626483302384907e-7,
          3.5775591907058136e-7,
          3.529003028509204e-7,
          3.4808180785496887e-7,
          3.433007552566858e-7,
          3.3855746092750365e-7,
          3.3385223523424055e-7,
          3.2918538283615903e-7,
          3.245572024813848e-7,
          3.1996798680291113e-7,
          3.15418022114419e-7,
          3.1090758820615237e-7,
          3.0643695814109416e-7,
          3.020063980516958e-7,
          2.976161669374191e-7,
          2.9326651646335656e-7,
          2.8895769076020016e-7,
          2.8468992622583575e-7,
          2.80463451328844e-7,
          2.7627848641419344e-7,
          2.721352435114159e-7,
          2.680339261455565e-7,
          2.639747291511954e-7,
          2.599578384898377e-7,
          2.5598343107097464e-7,
          2.5205167457711396e-7,
          2.4816272729308416e-7,
          2.443167379399127e-7,
          2.4051384551358016e-7,
          2.3675417912894961e-7,
          2.33037857869169e-7,
          2.293649906408418e-7,
          2.2573567603525687e-7,
          2.2215000219596546e-7,
          2.1860804669298767e-7,
          2.1510987640392526e-7,
          2.1165554740225184e-7,
          2.0824510485304413e-7,
          2.0487858291641025e-7,
          2.0155600465886296e-7,
          1.982773819728766e-7,
          1.950427155048562e-7,
          1.9185199459173787e-7,
          1.8870519720642724e-7,
          1.856022899122721e-7,
          1.825432278267522e-7,
          1.7952795459455652e-7,
          1.7655640237020537e-7,
          1.7362849181035886e-7,
          1.7074413207594123e-7,
          1.6790322084419255e-7,
          1.651056443307463e-7,
          1.623512773218133e-7,
          1.5963998321653726e-7,
          1.5697161407956994e-7,
          1.5434601070389688e-7,
          1.5176300268392708e-7,
          1.492224084988429e-7,
          1.467240356061878e-7,
          1.4426768054565228e-7,
          1.4185312905300003e-7,
          1.394801561840574e-7,
          1.3714852644867283e-7,
          1.3485799395453242e-7,
          1.3260830256070204e-7,
          1.3039918604074638e-7,
          1.2823036825525903e-7,
          1.2610156333361936e-7,
          1.2401247586477454e-7,
          1.2196280109682895e-7,
          1.1995222514520523e-7,
          1.1798042520912618e-7,
          1.1604706979615052e-7,
          1.1415181895447978e-7,
          1.1229432451273988e-7,
          1.1047423032692571e-7,
          1.0869117253418436e-7,
          1.0694477981309926e-7,
          1.0523467365012551e-7,
          1.0356046861181542e-7,
          1.0192177262246225e-7,
          1.0031818724678066e-7,
          9.874930797723302e-8,
          9.7214724525603e-8,
          9.571402111840994e-8,
          9.424677679575182e-8,
          9.281256571315849e-8,
          9.141095744603289e-8,
          9.004151729625389e-8,
          8.870380660051217e-8,
          8.739738303994843e-8,
          8.612180095066302e-8,
          8.487661163466595e-8,
          8.366136367083766e-8,
          8.247560322547299e-8,
          8.131887436198426e-8,
          8.019071934934294e-8,
          7.909067896884493e-8,
          7.801829281879008e-8,
          7.697309961667364e-8,
          7.595463749849477e-8,
          7.49624443147961e-8,
          7.399605792305748e-8,
          7.305501647607734e-8,
          7.213885870598604e-8,
          7.12471242035471e-8,
          7.037935369241478e-8,
          6.953508929802912e-8,
          6.871387481084366e-8,
          6.791525594359474e-8,
          6.713878058233633e-8,
          6.63839990309793e-8,
          6.565046424908984e-8,
          6.493773208271763e-8,
          6.424536148804071e-8,
          6.357291474763071e-8,
          6.291995767915889e-8,
          6.228605983638063e-8,
          6.1670794702253e-8,
          6.107373987405773e-8,
          6.049447724041873e-8,
          5.993259315012111e-8,
          5.9387678572655827e-8,
          5.885932925043093e-8,
          5.834714584260795e-8,
          5.7850734060538445e-8,
          5.736970479479232e-8,
          5.6903674233786116e-8,
          5.645226397403511e-8,
          5.6015101122068914e-8,
          5.5591818388065346e-8,
          5.51820541712722e-8,
          5.4785452637300756e-8,
          5.440166378738859e-8,
          5.4030343519742674e-8,
          5.36711536830862e-8,
          5.332376212254465e-8,
          5.2987842718018256e-8,
          5.2663075415198584e-8,
          5.2349146249397127e-8,
          5.204574736236341e-8,
          5.175257701227876e-8,
          5.146933957711985e-8,
          5.119574555159381e-8,
          5.093151153785292e-8,
          5.0676360230203245e-8,
          5.0430020394026355e-8,
          5.019222683913821e-8,
          4.9962720387812624e-8,
          4.97412478377001e-8,
          4.952756191987517e-8,
          4.9321421252246876e-8,
          4.9122590288568254e-8,
          4.893083926328102e-8,
          4.8745944132431286e-8,
          4.856768651089139e-8,
          4.8395853606121367e-8,
          4.823023814870159e-8,
          4.8070638319865526e-8,
          4.791685767625845e-8,
          4.776870507214435e-8,
          4.7625994579279226e-8,
          4.748854540466458e-8,
          4.735618180638982e-8,
          4.722873300776738e-8,
          4.71060331099584e-8,
          4.698792100328124e-8,
          4.687424027738883e-8,
          4.676483913049444e-8,
          4.6659570277819e-8,
          4.6558290859426104e-8,
          4.6460862347604247e-8,
          4.63671504539486e-8,
          4.627702503628762e-8,
          4.619036000559274e-8,
          4.610703323300212e-8,
          4.602692645708243e-8,
          4.5949925191445484e-8,
          4.587591863282953e-8,
          4.580479956974812e-8,
          4.573646429180253e-8,
          4.567081249974728e-8,
          4.5607747216391443e-8,
          4.554717469841238e-8,
          4.5489004349152135e-8,
          4.543314863246098e-8,
          4.5379522987646657e-8,
          4.5328045745582466e-8,
          4.5278638046022114e-8,
          4.523122375616401e-8,
          4.518572939050316e-8,
          4.5142084032004076e-8,
          4.510021925462403e-8,
          4.5060069047211764e-8,
          4.502156973880325e-8,
          4.498465992533235e-8,
          4.494928039777117e-8,
          4.4915374071711817e-8,
          4.4882885918398417e-8,
          4.48517628972159e-8,
          4.4821953889639576e-8,
          4.4793409634647487e-8,
          4.476608266559559e-8,
          4.473992724855419e-8,
          4.471489932210241e-8,
          4.469095643857607e-8,
          4.466805770676343e-8,
          4.464616373604171e-8,
          4.462523658194677e-8,
          4.460523969316733e-8,
          4.4586137859954336e-8,
          4.4567897163935553e-8,
          4.455048492932491e-8,
          4.4533869675515547e-8,
          4.4518021071045145e-8,
          4.450290988892189e-8,
          4.4488507963298755e-8,
          4.4474788147483846e-8,
          4.446172427327405e-8,
          4.4449291111599006e-8,
          4.443746433446228e-8,
          4.44262204781662e-8,
          4.441553690780664e-8,
          4.440539178302388e-8,
          4.4395764024995234e-8,
          4.4386633284655015e-8
         ]
        },
        {
         "name": "Task 3 u(z)",
         "type": "scatter",
         "x": {
          "bdata": "AAAAAAAAAAAcx3Ecx3G8PxzHcRzHccw/VVVVVVVV1T8cx3Ecx3HcP3Icx3Ecx+E/VVVVVVVV5T84juM4juPoPxzHcRzHcew/AAAAAAAA8D8=",
          "dtype": "f8"
         },
         "y": [
          0.000002559994554856609,
          0.000002559994554856609,
          0.00000253699127760263,
          0.00000243971513807907,
          0.000002189688753843082,
          0.0000017154587863966881,
          0.0000010297389932280219,
          3.4918461281050985e-7,
          5.6157240282747355e-8,
          3.4184127509431146e-8
         ]
        }
       ],
       "layout": {
        "legend": {
         "tracegroupgap": 0
        },
        "margin": {
         "t": 60
        },
        "template": {
         "data": {
          "bar": [
           {
            "error_x": {
             "color": "#2a3f5f"
            },
            "error_y": {
             "color": "#2a3f5f"
            },
            "marker": {
             "line": {
              "color": "#E5ECF6",
              "width": 0.5
             },
             "pattern": {
              "fillmode": "overlay",
              "size": 10,
              "solidity": 0.2
             }
            },
            "type": "bar"
           }
          ],
          "barpolar": [
           {
            "marker": {
             "line": {
              "color": "#E5ECF6",
              "width": 0.5
             },
             "pattern": {
              "fillmode": "overlay",
              "size": 10,
              "solidity": 0.2
             }
            },
            "type": "barpolar"
           }
          ],
          "carpet": [
           {
            "aaxis": {
             "endlinecolor": "#2a3f5f",
             "gridcolor": "white",
             "linecolor": "white",
             "minorgridcolor": "white",
             "startlinecolor": "#2a3f5f"
            },
            "baxis": {
             "endlinecolor": "#2a3f5f",
             "gridcolor": "white",
             "linecolor": "white",
             "minorgridcolor": "white",
             "startlinecolor": "#2a3f5f"
            },
            "type": "carpet"
           }
          ],
          "choropleth": [
           {
            "colorbar": {
             "outlinewidth": 0,
             "ticks": ""
            },
            "type": "choropleth"
           }
          ],
          "contour": [
           {
            "colorbar": {
             "outlinewidth": 0,
             "ticks": ""
            },
            "colorscale": [
             [
              0,
              "#0d0887"
             ],
             [
              0.1111111111111111,
              "#46039f"
             ],
             [
              0.2222222222222222,
              "#7201a8"
             ],
             [
              0.3333333333333333,
              "#9c179e"
             ],
             [
              0.4444444444444444,
              "#bd3786"
             ],
             [
              0.5555555555555556,
              "#d8576b"
             ],
             [
              0.6666666666666666,
              "#ed7953"
             ],
             [
              0.7777777777777778,
              "#fb9f3a"
             ],
             [
              0.8888888888888888,
              "#fdca26"
             ],
             [
              1,
              "#f0f921"
             ]
            ],
            "type": "contour"
           }
          ],
          "contourcarpet": [
           {
            "colorbar": {
             "outlinewidth": 0,
             "ticks": ""
            },
            "type": "contourcarpet"
           }
          ],
          "heatmap": [
           {
            "colorbar": {
             "outlinewidth": 0,
             "ticks": ""
            },
            "colorscale": [
             [
              0,
              "#0d0887"
             ],
             [
              0.1111111111111111,
              "#46039f"
             ],
             [
              0.2222222222222222,
              "#7201a8"
             ],
             [
              0.3333333333333333,
              "#9c179e"
             ],
             [
              0.4444444444444444,
              "#bd3786"
             ],
             [
              0.5555555555555556,
              "#d8576b"
             ],
             [
              0.6666666666666666,
              "#ed7953"
             ],
             [
              0.7777777777777778,
              "#fb9f3a"
             ],
             [
              0.8888888888888888,
              "#fdca26"
             ],
             [
              1,
              "#f0f921"
             ]
            ],
            "type": "heatmap"
           }
          ],
          "histogram": [
           {
            "marker": {
             "pattern": {
              "fillmode": "overlay",
              "size": 10,
              "solidity": 0.2
             }
            },
            "type": "histogram"
           }
          ],
          "histogram2d": [
           {
            "colorbar": {
             "outlinewidth": 0,
             "ticks": ""
            },
            "colorscale": [
             [
              0,
              "#0d0887"
             ],
             [
              0.1111111111111111,
              "#46039f"
             ],
             [
              0.2222222222222222,
              "#7201a8"
             ],
             [
              0.3333333333333333,
              "#9c179e"
             ],
             [
              0.4444444444444444,
              "#bd3786"
             ],
             [
              0.5555555555555556,
              "#d8576b"
             ],
             [
              0.6666666666666666,
              "#ed7953"
             ],
             [
              0.7777777777777778,
              "#fb9f3a"
             ],
             [
              0.8888888888888888,
              "#fdca26"
             ],
             [
              1,
              "#f0f921"
             ]
            ],
            "type": "histogram2d"
           }
          ],
          "histogram2dcontour": [
           {
            "colorbar": {
             "outlinewidth": 0,
             "ticks": ""
            },
            "colorscale": [
             [
              0,
              "#0d0887"
             ],
             [
              0.1111111111111111,
              "#46039f"
             ],
             [
              0.2222222222222222,
              "#7201a8"
             ],
             [
              0.3333333333333333,
              "#9c179e"
             ],
             [
              0.4444444444444444,
              "#bd3786"
             ],
             [
              0.5555555555555556,
              "#d8576b"
             ],
             [
              0.6666666666666666,
              "#ed7953"
             ],
             [
              0.7777777777777778,
              "#fb9f3a"
             ],
             [
              0.8888888888888888,
              "#fdca26"
             ],
             [
              1,
              "#f0f921"
             ]
            ],
            "type": "histogram2dcontour"
           }
          ],
          "mesh3d": [
           {
            "colorbar": {
             "outlinewidth": 0,
             "ticks": ""
            },
            "type": "mesh3d"
           }
          ],
          "parcoords": [
           {
            "line": {
             "colorbar": {
              "outlinewidth": 0,
              "ticks": ""
             }
            },
            "type": "parcoords"
           }
          ],
          "pie": [
           {
            "automargin": true,
            "type": "pie"
           }
          ],
          "scatter": [
           {
            "fillpattern": {
             "fillmode": "overlay",
             "size": 10,
             "solidity": 0.2
            },
            "type": "scatter"
           }
          ],
          "scatter3d": [
           {
            "line": {
             "colorbar": {
              "outlinewidth": 0,
              "ticks": ""
             }
            },
            "marker": {
             "colorbar": {
              "outlinewidth": 0,
              "ticks": ""
             }
            },
            "type": "scatter3d"
           }
          ],
          "scattercarpet": [
           {
            "marker": {
             "colorbar": {
              "outlinewidth": 0,
              "ticks": ""
             }
            },
            "type": "scattercarpet"
           }
          ],
          "scattergeo": [
           {
            "marker": {
             "colorbar": {
              "outlinewidth": 0,
              "ticks": ""
             }
            },
            "type": "scattergeo"
           }
          ],
          "scattergl": [
           {
            "marker": {
             "colorbar": {
              "outlinewidth": 0,
              "ticks": ""
             }
            },
            "type": "scattergl"
           }
          ],
          "scattermap": [
           {
            "marker": {
             "colorbar": {
              "outlinewidth": 0,
              "ticks": ""
             }
            },
            "type": "scattermap"
           }
          ],
          "scattermapbox": [
           {
            "marker": {
             "colorbar": {
              "outlinewidth": 0,
              "ticks": ""
             }
            },
            "type": "scattermapbox"
           }
          ],
          "scatterpolar": [
           {
            "marker": {
             "colorbar": {
              "outlinewidth": 0,
              "ticks": ""
             }
            },
            "type": "scatterpolar"
           }
          ],
          "scatterpolargl": [
           {
            "marker": {
             "colorbar": {
              "outlinewidth": 0,
              "ticks": ""
             }
            },
            "type": "scatterpolargl"
           }
          ],
          "scatterternary": [
           {
            "marker": {
             "colorbar": {
              "outlinewidth": 0,
              "ticks": ""
             }
            },
            "type": "scatterternary"
           }
          ],
          "surface": [
           {
            "colorbar": {
             "outlinewidth": 0,
             "ticks": ""
            },
            "colorscale": [
             [
              0,
              "#0d0887"
             ],
             [
              0.1111111111111111,
              "#46039f"
             ],
             [
              0.2222222222222222,
              "#7201a8"
             ],
             [
              0.3333333333333333,
              "#9c179e"
             ],
             [
              0.4444444444444444,
              "#bd3786"
             ],
             [
              0.5555555555555556,
              "#d8576b"
             ],
             [
              0.6666666666666666,
              "#ed7953"
             ],
             [
              0.7777777777777778,
              "#fb9f3a"
             ],
             [
              0.8888888888888888,
              "#fdca26"
             ],
             [
              1,
              "#f0f921"
             ]
            ],
            "type": "surface"
           }
          ],
          "table": [
           {
            "cells": {
             "fill": {
              "color": "#EBF0F8"
             },
             "line": {
              "color": "white"
             }
            },
            "header": {
             "fill": {
              "color": "#C8D4E3"
             },
             "line": {
              "color": "white"
             }
            },
            "type": "table"
           }
          ]
         },
         "layout": {
          "annotationdefaults": {
           "arrowcolor": "#2a3f5f",
           "arrowhead": 0,
           "arrowwidth": 1
          },
          "autotypenumbers": "strict",
          "coloraxis": {
           "colorbar": {
            "outlinewidth": 0,
            "ticks": ""
           }
          },
          "colorscale": {
           "diverging": [
            [
             0,
             "#8e0152"
            ],
            [
             0.1,
             "#c51b7d"
            ],
            [
             0.2,
             "#de77ae"
            ],
            [
             0.3,
             "#f1b6da"
            ],
            [
             0.4,
             "#fde0ef"
            ],
            [
             0.5,
             "#f7f7f7"
            ],
            [
             0.6,
             "#e6f5d0"
            ],
            [
             0.7,
             "#b8e186"
            ],
            [
             0.8,
             "#7fbc41"
            ],
            [
             0.9,
             "#4d9221"
            ],
            [
             1,
             "#276419"
            ]
           ],
           "sequential": [
            [
             0,
             "#0d0887"
            ],
            [
             0.1111111111111111,
             "#46039f"
            ],
            [
             0.2222222222222222,
             "#7201a8"
            ],
            [
             0.3333333333333333,
             "#9c179e"
            ],
            [
             0.4444444444444444,
             "#bd3786"
            ],
            [
             0.5555555555555556,
             "#d8576b"
            ],
            [
             0.6666666666666666,
             "#ed7953"
            ],
            [
             0.7777777777777778,
             "#fb9f3a"
            ],
            [
             0.8888888888888888,
             "#fdca26"
            ],
            [
             1,
             "#f0f921"
            ]
           ],
           "sequentialminus": [
            [
             0,
             "#0d0887"
            ],
            [
             0.1111111111111111,
             "#46039f"
            ],
            [
             0.2222222222222222,
             "#7201a8"
            ],
            [
             0.3333333333333333,
             "#9c179e"
            ],
            [
             0.4444444444444444,
             "#bd3786"
            ],
            [
             0.5555555555555556,
             "#d8576b"
            ],
            [
             0.6666666666666666,
             "#ed7953"
            ],
            [
             0.7777777777777778,
             "#fb9f3a"
            ],
            [
             0.8888888888888888,
             "#fdca26"
            ],
            [
             1,
             "#f0f921"
            ]
           ]
          },
          "colorway": [
           "#636efa",
           "#EF553B",
           "#00cc96",
           "#ab63fa",
           "#FFA15A",
           "#19d3f3",
           "#FF6692",
           "#B6E880",
           "#FF97FF",
           "#FECB52"
          ],
          "font": {
           "color": "#2a3f5f"
          },
          "geo": {
           "bgcolor": "white",
           "lakecolor": "white",
           "landcolor": "#E5ECF6",
           "showlakes": true,
           "showland": true,
           "subunitcolor": "white"
          },
          "hoverlabel": {
           "align": "left"
          },
          "hovermode": "closest",
          "mapbox": {
           "style": "light"
          },
          "paper_bgcolor": "white",
          "plot_bgcolor": "#E5ECF6",
          "polar": {
           "angularaxis": {
            "gridcolor": "white",
            "linecolor": "white",
            "ticks": ""
           },
           "bgcolor": "#E5ECF6",
           "radialaxis": {
            "gridcolor": "white",
            "linecolor": "white",
            "ticks": ""
           }
          },
          "scene": {
           "xaxis": {
            "backgroundcolor": "#E5ECF6",
            "gridcolor": "white",
            "gridwidth": 2,
            "linecolor": "white",
            "showbackground": true,
            "ticks": "",
            "zerolinecolor": "white"
           },
           "yaxis": {
            "backgroundcolor": "#E5ECF6",
            "gridcolor": "white",
            "gridwidth": 2,
            "linecolor": "white",
            "showbackground": true,
            "ticks": "",
            "zerolinecolor": "white"
           },
           "zaxis": {
            "backgroundcolor": "#E5ECF6",
            "gridcolor": "white",
            "gridwidth": 2,
            "linecolor": "white",
            "showbackground": true,
            "ticks": "",
            "zerolinecolor": "white"
           }
          },
          "shapedefaults": {
           "line": {
            "color": "#2a3f5f"
           }
          },
          "ternary": {
           "aaxis": {
            "gridcolor": "white",
            "linecolor": "white",
            "ticks": ""
           },
           "baxis": {
            "gridcolor": "white",
            "linecolor": "white",
            "ticks": ""
           },
           "bgcolor": "#E5ECF6",
           "caxis": {
            "gridcolor": "white",
            "linecolor": "white",
            "ticks": ""
           }
          },
          "title": {
           "x": 0.05
          },
          "xaxis": {
           "automargin": true,
           "gridcolor": "white",
           "linecolor": "white",
           "ticks": "",
           "title": {
            "standoff": 15
           },
           "zerolinecolor": "white",
           "zerolinewidth": 2
          },
          "yaxis": {
           "automargin": true,
           "gridcolor": "white",
           "linecolor": "white",
           "ticks": "",
           "title": {
            "standoff": 15
           },
           "zerolinecolor": "white",
           "zerolinewidth": 2
          }
         }
        },
        "xaxis": {
         "anchor": "y",
         "domain": [
          0,
          1
         ]
        },
        "yaxis": {
         "anchor": "x",
         "domain": [
          0,
          1
         ]
        }
       }
      }
     },
     "metadata": {},
     "output_type": "display_data"
    },
    {
     "data": {
      "application/vnd.plotly.v1+json": {
       "config": {
        "plotlyServerURL": "https://plot.ly"
       },
       "data": [
        {
         "hovertemplate": "<extra></extra>",
         "legendgroup": "",
         "line": {
          "color": "#636efa",
          "dash": "solid"
         },
         "marker": {
          "symbol": "circle"
         },
         "mode": "lines",
         "name": "",
         "orientation": "v",
         "showlegend": false,
         "type": "scatter",
         "xaxis": "x",
         "yaxis": "y"
        },
        {
         "name": "Task 2 F(z)",
         "type": "scatter",
         "x": {
          "bdata": "AAAAAAAAAAD8qfHSTWJQP/yp8dJNYmA/+n5qvHSTaD/8qfHSTWJwP3sUrkfhenQ/+n5qvHSTeD956SYxCKx8P/yp8dJNYoA/PN9PjZdugj97FK5H4XqEP7pJDAIrh4Y/+n5qvHSTiD86tMh2vp+KP3npJjEIrIw/uB6F61G4jj/8qfHSTWKQP5zEILByaJE/PN9PjZdukj/b+X5qvHSTP3sUrkfhepQ/Gy/dJAaBlT+6SQwCK4eWP1pkO99PjZc/+n5qvHSTmD+amZmZmZmZPzq0yHa+n5o/2c73U+Olmz956SYxCKycPxkEVg4tsp0/uB6F61G4nj9YObTIdr6fP/yp8dJNYqA/TDeJQWDloD+cxCCwcmihP+xRuB6F66E/PN9PjZduoj+LbOf7qfGiP9v5fmq8dKM/K4cW2c73oz97FK5H4XqkP8uhRbbz/aQ/Gy/dJAaBpT9rvHSTGASmP7pJDAIrh6Y/CtejcD0Kpz9aZDvfT42nP6rx0k1iEKg/+n5qvHSTqD9KDAIrhxapP5qZmZmZmak/6iYxCKwcqj86tMh2vp+qP4lBYOXQIqs/2c73U+Olqz8pXI/C9SisP3npJjEIrKw/yXa+nxovrT8ZBFYOLbKtP2mR7Xw/Na4/uB6F61G4rj8IrBxaZDuvP1g5tMh2vq8/VOOlm8QgsD/8qfHSTWKwP6RwPQrXo7A/TDeJQWDlsD/0/dR46SaxP5zEILByaLE/RIts5/upsT/sUbgeheuxP5QYBFYOLbI/PN9PjZdusj/jpZvEILCyP4ts5/up8bI/MzMzMzMzsz/b+X5qvHSzP4PAyqFFtrM/K4cW2c73sz/TTWIQWDm0P3sUrkfherQ/I9v5fmq8tD/LoUW28/20P3Noke18P7U/Gy/dJAaBtT/D9Shcj8K1P2u8dJMYBLY/E4PAyqFFtj+6SQwCK4e2P2IQWDm0yLY/CtejcD0Ktz+yne+nxku3P1pkO99Pjbc/AiuHFtnOtz+q8dJNYhC4P1K4HoXrUbg/+n5qvHSTuD+iRbbz/dS4P0oMAiuHFrk/8tJNYhBYuT+amZmZmZm5P0Jg5dAi27k/6iYxCKwcuj+S7Xw/NV66Pzq0yHa+n7o/4XoUrkfhuj+JQWDl0CK7PzEIrBxaZLs/2c73U+Oluz+BlUOLbOe7Pylcj8L1KLw/0SLb+X5qvD956SYxCKy8PyGwcmiR7bw/yXa+nxovvT9xPQrXo3C9PxkEVg4tsr0/wcqhRbbzvT9pke18PzW+PxFYObTIdr4/uB6F61G4vj9g5dAi2/m+PwisHFpkO78/sHJoke18vz9YObTIdr6/PwAAAAAAAMA/VOOlm8QgwD+oxks3iUHAP/yp8dJNYsA/UI2XbhKDwD+kcD0K16PAP/hT46WbxMA/TDeJQWDlwD+gGi/dJAbBP/T91HjpJsE/SOF6FK5HwT+cxCCwcmjBP/Cnxks3icE/RIts5/upwT+YbhKDwMrBP+xRuB6F68E/QDVeukkMwj+UGARWDi3CP+j7qfHSTcI/PN9PjZduwj+PwvUoXI/CP+Olm8QgsMI/N4lBYOXQwj+LbOf7qfHCP99PjZduEsM/MzMzMzMzwz+HFtnO91PDP9v5fmq8dMM/L90kBoGVwz+DwMqhRbbDP9ejcD0K18M/K4cW2c73wz9/arx0kxjEP9NNYhBYOcQ/JzEIrBxaxD97FK5H4XrEP8/3U+Olm8Q/I9v5fmq8xD93vp8aL93EP8uhRbbz/cQ/H4XrUbgexT9zaJHtfD/FP8dLN4lBYMU/Gy/dJAaBxT9vEoPAyqHFP8P1KFyPwsU/F9nO91PjxT9rvHSTGATGP7+fGi/dJMY/E4PAyqFFxj9nZmZmZmbGP7pJDAIrh8Y/Di2yne+nxj9iEFg5tMjGP7bz/dR46cY/CtejcD0Kxz9eukkMAivHP7Kd76fGS8c/BoGVQ4tsxz9aZDvfT43HP65H4XoUrsc/AiuHFtnOxz9WDi2yne/HP6rx0k1iEMg//tR46SYxyD9SuB6F61HIP6abxCCwcsg/+n5qvHSTyD9OYhBYObTIP6JFtvP91Mg/9ihcj8L1yD9KDAIrhxbJP57vp8ZLN8k/8tJNYhBYyT9GtvP91HjJP5qZmZmZmck/7nw/NV66yT9CYOXQItvJP5ZDi2zn+8k/6iYxCKwcyj8+CtejcD3KP5LtfD81Xso/5tAi2/l+yj86tMh2vp/KP42XbhKDwMo/4XoUrkfhyj81XrpJDALLP4lBYOXQIss/3SQGgZVDyz8xCKwcWmTLP4XrUbgehcs/2c73U+Olyz8tsp3vp8bLP4GVQ4ts58s/1XjpJjEIzD8pXI/C9SjMP30/NV66Scw/0SLb+X5qzD8lBoGVQ4vMP3npJjEIrMw/zczMzMzMzD8hsHJoke3MP3WTGARWDs0/yXa+nxovzT8dWmQ730/NP3E9CtejcM0/xSCwcmiRzT8ZBFYOLbLNP23n+6nx0s0/wcqhRbbzzT8VrkfhehTOP2mR7Xw/Nc4/vXSTGARWzj8RWDm0yHbOP2U730+Nl84/uB6F61G4zj8MAiuHFtnOP2Dl0CLb+c4/tMh2vp8azz8IrBxaZDvPP1yPwvUoXM8/sHJoke18zz8EVg4tsp3PP1g5tMh2vs8/rBxaZDvfzz8AAAAAAADQP6rx0k1iENA/VOOlm8Qg0D/+1HjpJjHQP6jGSzeJQdA/UrgehetR0D/8qfHSTWLQP6abxCCwctA/UI2XbhKD0D/6fmq8dJPQP6RwPQrXo9A/TmIQWDm00D/4U+Olm8TQP6JFtvP91NA/TDeJQWDl0D/2KFyPwvXQP6AaL90kBtE/SgwCK4cW0T/0/dR46SbRP57vp8ZLN9E/SOF6FK5H0T/y0k1iEFjRP5zEILByaNE/Rrbz/dR40T/wp8ZLN4nRP5qZmZmZmdE/RIts5/up0T/ufD81XrrRP5huEoPAytE/QmDl0CLb0T/sUbgehevRP5ZDi2zn+9E/QDVeukkM0j/qJjEIrBzSP5QYBFYOLdI/PgrXo3A90j/o+6nx0k3SP5LtfD81XtI/PN9PjZdu0j/l0CLb+X7SP4/C9Shcj9I/ObTIdr6f0j/jpZvEILDSP42XbhKDwNI/N4lBYOXQ0j/hehSuR+HSP4ts5/up8dI/NV66SQwC0z/fT42XbhLTP4lBYOXQItM/MzMzMzMz0z/dJAaBlUPTP4cW2c73U9M/MQisHFpk0z/b+X5qvHTTP4XrUbgehdM/L90kBoGV0z/ZzvdT46XTP4PAyqFFttM/LbKd76fG0z/Xo3A9CtfTP4GVQ4ts59M/K4cW2c730z/VeOkmMQjUP39qvHSTGNQ/KVyPwvUo1D/TTWIQWDnUP30/NV66SdQ/JzEIrBxa1D/RItv5fmrUP3sUrkfhetQ/JQaBlUOL1D/P91PjpZvUP3npJjEIrNQ/I9v5fmq81D/NzMzMzMzUP3e+nxov3dQ/IbByaJHt1D/LoUW28/3UP3WTGARWDtU/H4XrUbge1T/Jdr6fGi/VP3Noke18P9U/HVpkO99P1T/HSzeJQWDVP3E9CtejcNU/Gy/dJAaB1T/FILByaJHVP28Sg8DKodU/GQRWDi2y1T/D9Shcj8LVP23n+6nx0tU/F9nO91Pj1T/ByqFFtvPVP2u8dJMYBNY/Fa5H4XoU1j+/nxov3STWP2mR7Xw/NdY/E4PAyqFF1j+9dJMYBFbWP2dmZmZmZtY/EVg5tMh21j+6SQwCK4fWP2Q730+Nl9Y/Di2yne+n1j+4HoXrUbjWP2IQWDm0yNY/DAIrhxbZ1j+28/3UeOnWP2Dl0CLb+dY/CtejcD0K1z+0yHa+nxrXP166SQwCK9c/CKwcWmQ71z+yne+nxkvXP1yPwvUoXNc/BoGVQ4ts1z+wcmiR7XzXP1pkO99Pjdc/BFYOLbKd1z+uR+F6FK7XP1g5tMh2vtc/AiuHFtnO1z+sHFpkO9/XP1YOLbKd79c/AAAAAAAA2D+q8dJNYhDYP1TjpZvEINg//tR46SYx2D+oxks3iUHYP1K4HoXrUdg//Knx0k1i2D+mm8QgsHLYP1CNl24Sg9g/+n5qvHST2D+kcD0K16PYP05iEFg5tNg/+FPjpZvE2D+iRbbz/dTYP0w3iUFg5dg/9ihcj8L12D+gGi/dJAbZP0oMAiuHFtk/9P3UeOkm2T+e76fGSzfZP0jhehSuR9k/8tJNYhBY2T+cxCCwcmjZP0a28/3UeNk/8KfGSzeJ2T+amZmZmZnZP0SLbOf7qdk/7nw/NV662T+YbhKDwMrZP0Jg5dAi29k/7FG4HoXr2T+WQ4ts5/vZP0A1XrpJDNo/6iYxCKwc2j+UGARWDi3aPz4K16NwPdo/6Pup8dJN2j+S7Xw/NV7aPzzfT42Xbto/5tAi2/l+2j+QwvUoXI/aPzq0yHa+n9o/46WbxCCw2j+Nl24Sg8DaPzeJQWDl0No/4XoUrkfh2j+LbOf7qfHaPzVeukkMAts/30+Nl24S2z+JQWDl0CLbPzMzMzMzM9s/3SQGgZVD2z+HFtnO91PbPzEIrBxaZNs/2/l+arx02z+F61G4HoXbPy/dJAaBlds/2c73U+Ol2z+DwMqhRbbbPy2yne+nxts/16NwPQrX2z+BlUOLbOfbPyuHFtnO99s/1XjpJjEI3D9/arx0kxjcPylcj8L1KNw/001iEFg53D99PzVeukncPycxCKwcWtw/0SLb+X5q3D97FK5H4XrcPyUGgZVDi9w/z/dT46Wb3D956SYxCKzcPyPb+X5qvNw/zczMzMzM3D93vp8aL93cPyGwcmiR7dw/y6FFtvP93D91kxgEVg7dPx+F61G4Ht0/yXa+nxov3T9zaJHtfD/dPx1aZDvfT90/x0s3iUFg3T9xPQrXo3DdPxsv3SQGgd0/xSCwcmiR3T9vEoPAyqHdPxkEVg4tst0/w/UoXI/C3T9t5/up8dLdPxfZzvdT490/wcqhRbbz3T9rvHSTGATePxWuR+F6FN4/v58aL90k3j9pke18PzXePxODwMqhRd4/vXSTGARW3j9nZmZmZmbePxFYObTIdt4/u0kMAiuH3j9lO99PjZfePw8tsp3vp94/uB6F61G43j9iEFg5tMjePwwCK4cW2d4/tvP91Hjp3j9g5dAi2/nePwrXo3A9Ct8/tMh2vp8a3z9eukkMAivfPwisHFpkO98/sp3vp8ZL3z9cj8L1KFzfPwaBlUOLbN8/sHJoke183z9aZDvfT43fPwRWDi2ynd8/rkfhehSu3z9YObTIdr7fPwIrhxbZzt8/rBxaZDvf3z9WDi2yne/fPwAAAAAAAOA/1XjpJjEI4D+q8dJNYhDgP39qvHSTGOA/VOOlm8Qg4D8pXI/C9SjgP/7UeOkmMeA/001iEFg54D+oxks3iUHgP30/NV66SeA/UrgehetR4D8nMQisHFrgP/yp8dJNYuA/0SLb+X5q4D+mm8QgsHLgP3sUrkfheuA/UI2XbhKD4D8lBoGVQ4vgP/p+arx0k+A/z/dT46Wb4D+kcD0K16PgP3npJjEIrOA/TmIQWDm04D8j2/l+arzgP/hT46WbxOA/zczMzMzM4D+iRbbz/dTgP3e+nxov3eA/TDeJQWDl4D8hsHJoke3gP/YoXI/C9eA/y6FFtvP94D+gGi/dJAbhP3WTGARWDuE/SgwCK4cW4T8fhetRuB7hP/T91HjpJuE/yXa+nxov4T+e76fGSzfhP3Noke18P+E/SOF6FK5H4T8dWmQ730/hP/LSTWIQWOE/x0s3iUFg4T+cxCCwcmjhP3E9CtejcOE/Rrbz/dR44T8bL90kBoHhP/Cnxks3ieE/xSCwcmiR4T+amZmZmZnhP28Sg8DKoeE/RIts5/up4T8ZBFYOLbLhP+58PzVeuuE/w/UoXI/C4T+YbhKDwMrhP23n+6nx0uE/QmDl0CLb4T8X2c73U+PhP+xRuB6F6+E/wcqhRbbz4T+WQ4ts5/vhP2u8dJMYBOI/QDVeukkM4j8VrkfhehTiP+omMQisHOI/v58aL90k4j+UGARWDi3iP2mR7Xw/NeI/PgrXo3A94j8Tg8DKoUXiP+j7qfHSTeI/vXSTGARW4j+S7Xw/NV7iP2dmZmZmZuI/PN9PjZdu4j8QWDm0yHbiP+XQItv5fuI/ukkMAiuH4j+PwvUoXI/iP2Q730+Nl+I/ObTIdr6f4j8OLbKd76fiP+Olm8QgsOI/uB6F61G44j+Nl24Sg8DiP2IQWDm0yOI/N4lBYOXQ4j8MAiuHFtniP+F6FK5H4eI/tvP91Hjp4j+LbOf7qfHiP2Dl0CLb+eI/NV66SQwC4z8K16NwPQrjP99PjZduEuM/tMh2vp8a4z+JQWDl0CLjP166SQwCK+M/MzMzMzMz4z8IrBxaZDvjP90kBoGVQ+M/sp3vp8ZL4z+HFtnO91PjP1yPwvUoXOM/MQisHFpk4z8GgZVDi2zjP9v5fmq8dOM/sHJoke184z+F61G4HoXjP1pkO99PjeM/L90kBoGV4z8EVg4tsp3jP9nO91PjpeM/rkfhehSu4z+DwMqhRbbjP1g5tMh2vuM/LbKd76fG4z8CK4cW2c7jP9ejcD0K1+M/rBxaZDvf4z+BlUOLbOfjP1YOLbKd7+M/K4cW2c734z8AAAAAAADkP9V46SYxCOQ/qvHSTWIQ5D9/arx0kxjkP1TjpZvEIOQ/KVyPwvUo5D/+1HjpJjHkP9NNYhBYOeQ/qMZLN4lB5D99PzVeuknkP1K4HoXrUeQ/JzEIrBxa5D/8qfHSTWLkP9Ei2/l+auQ/ppvEILBy5D97FK5H4XrkP1CNl24Sg+Q/JQaBlUOL5D/6fmq8dJPkP8/3U+Olm+Q/pHA9Ctej5D956SYxCKzkP05iEFg5tOQ/I9v5fmq85D/4U+Olm8TkP83MzMzMzOQ/okW28/3U5D93vp8aL93kP0w3iUFg5eQ/IbByaJHt5D/2KFyPwvXkP8uhRbbz/eQ/oBov3SQG5T91kxgEVg7lP0oMAiuHFuU/H4XrUbge5T/0/dR46SblP8l2vp8aL+U/nu+nxks35T9zaJHtfD/lP0jhehSuR+U/HVpkO99P5T/y0k1iEFjlP8dLN4lBYOU/nMQgsHJo5T9xPQrXo3DlP0a28/3UeOU/Gy/dJAaB5T/wp8ZLN4nlP8UgsHJokeU/mpmZmZmZ5T9vEoPAyqHlP0SLbOf7qeU/GQRWDi2y5T/ufD81XrrlP8P1KFyPwuU/mG4Sg8DK5T9t5/up8dLlP0Jg5dAi2+U/F9nO91Pj5T/sUbgehevlP8HKoUW28+U/lkOLbOf75T9rvHSTGATmP0A1XrpJDOY/Fa5H4XoU5j/qJjEIrBzmP7+fGi/dJOY/lBgEVg4t5j9pke18PzXmPz4K16NwPeY/E4PAyqFF5j/o+6nx0k3mP710kxgEVuY/ku18PzVe5j9nZmZmZmbmPzzfT42XbuY/EVg5tMh25j/m0CLb+X7mP7pJDAIrh+Y/j8L1KFyP5j9kO99PjZfmPzm0yHa+n+Y/Di2yne+n5j/jpZvEILDmP7gehetRuOY/jZduEoPA5j9iEFg5tMjmPzeJQWDl0OY/DAIrhxbZ5j/hehSuR+HmP7bz/dR46eY/i2zn+6nx5j9g5dAi2/nmPzVeukkMAuc/CtejcD0K5z/fT42XbhLnP7TIdr6fGuc/iUFg5dAi5z9eukkMAivnPzMzMzMzM+c/CKwcWmQ75z/dJAaBlUPnP7Kd76fGS+c/hxbZzvdT5z9cj8L1KFznPzEIrBxaZOc/BoGVQ4ts5z/b+X5qvHTnP7ByaJHtfOc/hetRuB6F5z9aZDvfT43nPy/dJAaBlec/BFYOLbKd5z/ZzvdT46XnP65H4XoUruc/g8DKoUW25z9YObTIdr7nPy2yne+nxuc/AiuHFtnO5z/Xo3A9CtfnP6wcWmQ73+c/gZVDi2zn5z9WDi2yne/nPyuHFtnO9+c/AAAAAAAA6D/VeOkmMQjoP6rx0k1iEOg/f2q8dJMY6D9U46WbxCDoPylcj8L1KOg//tR46SYx6D/TTWIQWDnoP6jGSzeJQeg/fT81XrpJ6D9SuB6F61HoPycxCKwcWug//Knx0k1i6D/RItv5fmroP6abxCCwcug/exSuR+F66D9QjZduEoPoPyUGgZVDi+g/+n5qvHST6D/P91PjpZvoP6RwPQrXo+g/eekmMQis6D9OYhBYObToPyPb+X5qvOg/+FPjpZvE6D/NzMzMzMzoP6JFtvP91Og/d76fGi/d6D9MN4lBYOXoPyGwcmiR7eg/9ihcj8L16D/LoUW28/3oP6AaL90kBuk/dZMYBFYO6T9KDAIrhxbpPx+F61G4Huk/9P3UeOkm6T/Jdr6fGi/pP57vp8ZLN+k/c2iR7Xw/6T9I4XoUrkfpPx1aZDvfT+k/8tJNYhBY6T/HSzeJQWDpP5zEILByaOk/cT0K16Nw6T9GtvP91HjpPxsv3SQGgek/8KfGSzeJ6T/FILByaJHpP5qZmZmZmek/bxKDwMqh6T9Ei2zn+6npPxkEVg4tsuk/7nw/NV666T/D9Shcj8LpP5huEoPAyuk/bef7qfHS6T9CYOXQItvpPxfZzvdT4+k/7FG4HoXr6T/ByqFFtvPpP5ZDi2zn++k/a7x0kxgE6j9ANV66SQzqPxWuR+F6FOo/6iYxCKwc6j+/nxov3STqP5QYBFYOLeo/aZHtfD816j8+CtejcD3qPxODwMqhReo/6Pup8dJN6j+9dJMYBFbqP5LtfD81Xuo/Z2ZmZmZm6j8830+Nl27qPxFYObTIduo/5tAi2/l+6j+7SQwCK4fqP5DC9Shcj+o/ZTvfT42X6j86tMh2vp/qPw4tsp3vp+o/46WbxCCw6j+4HoXrUbjqP42XbhKDwOo/YhBYObTI6j83iUFg5dDqPwwCK4cW2eo/4XoUrkfh6j+28/3UeOnqP4ts5/up8eo/YOXQItv56j81XrpJDALrPwrXo3A9Cus/30+Nl24S6z+0yHa+nxrrP4lBYOXQIus/XrpJDAIr6z8zMzMzMzPrPwisHFpkO+s/3SQGgZVD6z+yne+nxkvrP4cW2c73U+s/XI/C9Shc6z8xCKwcWmTrPwaBlUOLbOs/2/l+arx06z+wcmiR7XzrP4XrUbgehes/WmQ730+N6z8v3SQGgZXrPwRWDi2ynes/2c73U+Ol6z+uR+F6FK7rP4PAyqFFtus/WDm0yHa+6z8tsp3vp8brPwIrhxbZzus/16NwPQrX6z+sHFpkO9/rP4GVQ4ts5+s/Vg4tsp3v6z8rhxbZzvfrPwAAAAAAAOw/1XjpJjEI7D+q8dJNYhDsP39qvHSTGOw/VOOlm8Qg7D8pXI/C9SjsP/7UeOkmMew/001iEFg57D+oxks3iUHsP30/NV66Sew/UrgehetR7D8nMQisHFrsP/yp8dJNYuw/0SLb+X5q7D+mm8QgsHLsP3sUrkfheuw/UI2XbhKD7D8lBoGVQ4vsP/p+arx0k+w/z/dT46Wb7D+kcD0K16PsP3npJjEIrOw/TmIQWDm07D8j2/l+arzsP/hT46WbxOw/zczMzMzM7D+iRbbz/dTsP3e+nxov3ew/TDeJQWDl7D8hsHJoke3sP/YoXI/C9ew/y6FFtvP97D+gGi/dJAbtP3WTGARWDu0/SgwCK4cW7T8fhetRuB7tP/T91HjpJu0/yXa+nxov7T+e76fGSzftP3Noke18P+0/SOF6FK5H7T8dWmQ730/tP/LSTWIQWO0/x0s3iUFg7T+cxCCwcmjtP3E9CtejcO0/Rrbz/dR47T8bL90kBoHtP/Cnxks3ie0/xSCwcmiR7T+amZmZmZntP28Sg8DKoe0/RIts5/up7T8ZBFYOLbLtP+58PzVeuu0/w/UoXI/C7T+YbhKDwMrtP23n+6nx0u0/QmDl0CLb7T8X2c73U+PtP+xRuB6F6+0/wcqhRbbz7T+WQ4ts5/vtP2u8dJMYBO4/QDVeukkM7j8VrkfhehTuP+omMQisHO4/v58aL90k7j+UGARWDi3uP2mR7Xw/Ne4/PgrXo3A97j8Tg8DKoUXuP+j7qfHSTe4/vXSTGARW7j+S7Xw/NV7uP2dmZmZmZu4/PN9PjZdu7j8RWDm0yHbuP+bQItv5fu4/u0kMAiuH7j+QwvUoXI/uP2U730+Nl+4/OrTIdr6f7j8PLbKd76fuP+Slm8QgsO4/uB6F61G47j+Nl24Sg8DuP2IQWDm0yO4/N4lBYOXQ7j8MAiuHFtnuP+F6FK5H4e4/tvP91Hjp7j+LbOf7qfHuP2Dl0CLb+e4/NV66SQwC7z8K16NwPQrvP99PjZduEu8/tMh2vp8a7z+JQWDl0CLvP166SQwCK+8/MzMzMzMz7z8IrBxaZDvvP90kBoGVQ+8/sp3vp8ZL7z+HFtnO91PvP1yPwvUoXO8/MQisHFpk7z8GgZVDi2zvP9v5fmq8dO8/sHJoke187z+F61G4HoXvP1pkO99Pje8/L90kBoGV7z8EVg4tsp3vP9nO91Pjpe8/rkfhehSu7z+DwMqhRbbvP1g5tMh2vu8/LbKd76fG7z8CK4cW2c7vP9ejcD0K1+8/rBxaZDvf7z+BlUOLbOfvP1YOLbKd7+8/K4cW2c737z8AAAAAAADwPw==",
          "dtype": "f8"
         },
         "y": [
          0,
          3.089559930638521e-13,
          6.21313076021767e-13,
          9.404700620856616e-13,
          1.2698270024744487e-12,
          1.6127839108599983e-12,
          1.9727407932078536e-12,
          2.3530976542009203e-12,
          2.7572544994407883e-12,
          3.188611336517676e-12,
          3.650568175697225e-12,
          4.146525030455824e-12,
          4.67988191794943e-12,
          5.254038859451262e-12,
          5.872395880774618e-12,
          6.538353012688979e-12,
          7.255310291333794e-12,
          8.026667758632501e-12,
          8.855825462708387e-12,
          9.746183458303342e-12,
          1.0701141807200291e-11,
          1.1724100578649898e-11,
          1.2818459849802007e-11,
          1.3987619706142272e-11,
          1.5234980241934323e-11,
          1.6563941560667817e-11,
          1.797790377551274e-11,
          1.94802670097802e-11,
          2.1074431397390097e-11,
          2.27637970833459e-11,
          2.455176422421689e-11,
          2.6441732988628073e-11,
          2.8437103557758157e-11,
          3.054127612584577e-11,
          3.27576509007043e-11,
          3.5089628104245544e-11,
          3.7540607973012556e-11,
          4.0113990758721866e-11,
          4.281317672881539e-11,
          4.5641566167022425e-11,
          4.860255937393173e-11,
          5.16995566675743e-11,
          5.493595838401687e-11,
          5.831516487796654e-11,
          6.184057652338676e-11,
          6.551559371412495e-11,
          6.934361686455207e-11,
          7.332804641021442e-11,
          7.747228280849773e-11,
          8.177972653930431e-11,
          8.625377810574289e-11,
          9.089783803483203e-11,
          9.571530687821692e-11,
          1.0070958521290013e-10,
          1.0588407364198637e-10,
          1.112421727954418e-10,
          1.1678728333086783e-10,
          1.225228059342899e-10,
          1.2845214132096158e-10,
          1.3457869023618395e-10,
          1.4090585345614082e-10,
          1.4743703178875002e-10,
          1.5417562607453076e-10,
          1.611250371874877e-10,
          1.6828866603601184e-10,
          1.756699135637983e-10,
          1.832721807507816e-10,
          1.9109886861408843e-10,
          1.991533782090083e-10,
          2.074391106299823e-10,
          2.1595946701161029e-10,
          2.2471784852967652e-10,
          2.337176564021944e-10,
          2.4296229189047e-10,
          2.524551563001856e-10,
          2.62199650982502e-10,
          2.721991773351815e-10,
          2.824571368037304e-10,
          2.929769308825623e-10,
          3.0376196111618194e-10,
          3.148156291003895e-10,
          3.2614133648350653e-10,
          3.377424849676227e-10,
          3.496224763098648e-10,
          3.6178471232368663e-10,
          3.742325948801816e-10,
          3.8696952590941727e-10,
          3.9999890740179247e-10,
          4.1332414140941713e-10,
          4.269486300475147e-10,
          4.40875775495848e-10,
          4.551089800001686e-10,
          4.696516458736889e-10,
          4.845071754985789e-10,
          4.996789713274866e-10,
          5.151704358850818e-10,
          5.309849717696253e-10,
          5.471259816545624e-10,
          5.6359686829014e-10,
          5.804010345050504e-10,
          5.975418832080984e-10,
          6.150228173898945e-10,
          6.32847240124574e-10,
          6.5101855457154e-10,
          6.695401639772339e-10,
          6.884154716769309e-10,
          7.07647881096561e-10,
          7.272407957545571e-10,
          7.471976192637292e-10,
          7.675217553331645e-10,
          7.88216607770154e-10,
          8.092855804821466e-10,
          8.30732077478729e-10,
          8.525595028736334e-10,
          8.747712608867704e-10,
          8.973707558462916e-10,
          9.20361392190677e-10,
          9.437465744708502e-10,
          9.67529707352322e-10,
          9.917141956173599e-10,
          1.0163034441671853e-9,
          1.0413008580241983e-9,
          1.0667098423342311e-9,
          1.0925338023688262e-9,
          1.1187761435275447e-9,
          1.1454402713403007e-9,
          1.1725295914697233e-9,
          1.2000475097135472e-9,
          1.2279974320070287e-9,
          1.256382764425392e-9,
          1.2852069131862991e-9,
          1.3144732846523517e-9,
          1.3441852853336157e-9,
          1.374346321890177e-9,
          1.404959801134721e-9,
          1.4360291300351416e-9,
          1.4675577157171762e-9,
          1.499548965467067e-9,
          1.53200628673425e-9,
          1.5649330871340698e-9,
          1.5983327744505211e-9,
          1.6322087566390162e-9,
          1.6665644418291784e-9,
          1.7014032383276622e-9,
          1.7367285546209967e-9,
          1.7725437993784579e-9,
          1.808852381454963e-9,
          1.8456577098939903e-9,
          1.882963193930526e-9,
          1.9207722429940305e-9,
          1.9590882667114348e-9,
          1.997914674910155e-9,
          2.0372548776211336e-9,
          2.077112285081902e-9,
          2.1174903077396663e-9,
          2.1583923562544168e-9,
          2.199821841502054e-9,
          2.2417821745775435e-9,
          2.2842767667980858e-9,
          2.3273090297063086e-9,
          2.3708823750734804e-9,
          2.4150002149027404e-9,
          2.4596659614323503e-9,
          2.504883027138962e-9,
          2.550654824740905e-9,
          2.5969847672014915e-9,
          2.6438762677323322e-9,
          2.6913327397966776e-9,
          2.739357597112766e-9,
          2.787954253657191e-9,
          2.83712612366828e-9,
          2.8868766216494868e-9,
          2.9372091623727982e-9,
          2.9881271608821487e-9,
          3.0396340324968494e-9,
          3.091733192815022e-9,
          3.144428057717049e-9,
          3.1977220433690222e-9,
          3.2516185662262093e-9,
          3.3061210430365174e-9,
          3.3612328908439664e-9,
          3.4169575269921663e-9,
          3.4732983691277947e-9,
          3.5302588352040804e-9,
          3.587842343484286e-9,
          3.6460523125451876e-9,
          3.7048921612805576e-9,
          3.764365308904643e-9,
          3.824475174955638e-9,
          3.885225179299154e-9,
          3.946618742131681e-9,
          4.008659283984046e-9,
          4.071350225724851e-9,
          4.134694988563915e-9,
          4.198696994055694e-9,
          4.263359664102686e-9,
          4.3286864209588314e-9,
          4.394680687232884e-9,
          4.461345885891772e-9,
          4.528685440263936e-9,
          4.5967027740426465e-9,
          4.665401311289295e-9,
          4.734784476436662e-9,
          4.804855694292156e-9,
          4.875618390041031e-9,
          4.947075989249559e-9,
          5.019231917868181e-9,
          5.092089602234619e-9,
          5.165652469076952e-9,
          5.2399239455166495e-9,
          5.314907459071569e-9,
          5.390606437658906e-9,
          5.467024309598096e-9,
          5.544164503613676e-9,
          5.6220304488380904e-9,
          5.7006255748144405e-9,
          5.779953311499185e-9,
          5.860017089264778e-9,
          5.940820338902251e-9,
          6.022366491623726e-9,
          6.104658979064866e-9,
          6.187701233287253e-9,
          6.271496686780704e-9,
          6.356048772465497e-9,
          6.4413609236945345e-9,
          6.5274365742554184e-9,
          6.61427915837244e-9,
          6.701892110708489e-9,
          6.79027886636687e-9,
          6.87944286089302e-9,
          6.969387530276145e-9,
          7.060116310950732e-9,
          7.151632639797985e-9,
          7.243939954147129e-9,
          7.337041691776621e-9,
          7.43094129091524e-9,
          7.525642190243055e-9,
          7.621147828892274e-9,
          7.717461646447975e-9,
          7.814587082948689e-9,
          7.912527578886864e-9,
          8.011286575209189e-9,
          8.110867513316759e-9,
          8.211273835065125e-9,
          8.312508982764155e-9,
          8.414576399177768e-9,
          8.51747952752349e-9,
          8.621221811471861e-9,
          8.725806695145649e-9,
          8.831237623118912e-9,
          8.937518040415867e-9,
          9.044651392509577e-9,
          9.15264112532045e-9,
          9.261490685214532e-9,
          9.371203519001626e-9,
          9.481783073933165e-9,
          9.59323279769991e-9,
          9.705556138429407e-9,
          9.818756544683233e-9,
          9.932837465454008e-9,
          1.0047802350162173e-8,
          1.0163654648652522e-8,
          1.02803978111905e-8,
          1.0398035288458226e-8,
          1.0516570531550283e-8,
          1.0636006991969213e-8,
          1.0756348121620761e-8,
          1.0877597372808827e-8,
          1.0999758198230133e-8,
          1.1122834050968596e-8,
          1.1246828384489405e-8,
          1.1371744652632783e-8,
          1.1497586309607433e-8,
          1.1624356809983666e-8,
          1.1752059608686196e-8,
          1.1880698160986588e-8,
          1.2010275922495374e-8,
          1.2140796349153799e-8,
          1.227226289722522e-8,
          1.2404679023286115e-8,
          1.2538048184216726e-8,
          1.267237383719131e-8,
          1.2807659439667987e-8,
          1.2943908449378192e-8,
          1.3081124324315698e-8,
          1.3219310522725228e-8,
          1.3358470503090624e-8,
          1.3498607724122575e-8,
          1.3639725644745889e-8,
          1.3781827724086307e-8,
          1.3924917421456841e-8,
          1.4068998196343625e-8,
          1.4214073508391274e-8,
          1.436014681738774e-8,
          1.4507221583248656e-8,
          1.465530126600114e-8,
          1.480438932576708e-8,
          1.495448922274585e-8,
          1.510560441719649e-8,
          1.5257738369419284e-8,
          1.5410894539736793e-8,
          1.556507638847424e-8,
          1.572028737593934e-8,
          1.5876530962401485e-8,
          1.6033810608070277e-8,
          1.6192129773073457e-8,
          1.6351491917434137e-8,
          1.6511900501047378e-8,
          1.667335898365608e-8,
          1.6835870824826176e-8,
          1.6999439483921086e-8,
          1.716406842007549e-8,
          1.7329761092168315e-8,
          1.749652095879498e-8,
          1.7664351478238886e-8,
          1.783325610844209e-8,
          1.800323830697519e-8,
          1.8174301531006408e-8,
          1.834644923726981e-8,
          1.851968488203268e-8,
          1.8694011921062067e-8,
          1.886943380959039e-8,
          1.9045954002280182e-8,
          1.9223575953187918e-8,
          1.9402303115726877e-8,
          1.958213894262909e-8,
          1.9763086885906288e-8,
          1.9945150396809885e-8,
          2.0128332925789925e-8,
          2.031263792245305e-8,
          2.0498068835519355e-8,
          2.0684629112778255e-8,
          2.0872322201043204e-8,
          2.1061151546105343e-8,
          2.125112059268603e-8,
          2.1442232784388186e-8,
          2.163449156364652e-8,
          2.1827900371676532e-8,
          2.202246264842233e-8,
          2.2218181832503208e-8,
          2.2415061361158956e-8,
          2.261310467019391e-8,
          2.281231519391971e-8,
          2.3012696365096712e-8,
          2.3214251614874063e-8,
          2.3416984372728417e-8,
          2.362089806640124e-8,
          2.3825996121834698e-8,
          2.4032281963106107e-8,
          2.423975901236091e-8,
          2.4448430689744143e-8,
          2.46583004133304e-8,
          2.486937159905222e-8,
          2.5081647660626942e-8,
          2.5295132009481887e-8,
          2.5509828054677965e-8,
          2.57257392028316e-8,
          2.594286885803496e-8,
          2.6161220421774463e-8,
          2.6380797292847544e-8,
          2.660160286727764e-8,
          2.682364053822735e-8,
          2.7046913695909765e-8,
          2.727142572749793e-8,
          2.7497180017032376e-8,
          2.772417994532673e-8,
          2.7952428889871353e-8,
          2.8181930224734958e-8,
          2.8412687320464206e-8,
          2.864470354398121e-8,
          2.8877982258478936e-8,
          2.911252682331446e-8,
          2.934834059390004e-8,
          2.958542692159195e-8,
          2.98237891535771e-8,
          3.006343063275731e-8,
          3.03043546976313e-8,
          3.054656468217426e-8,
          3.079006391571503e-8,
          3.103485572281084e-8,
          3.128094342311953e-8,
          3.1528330331269254e-8,
          3.177701975672558e-8,
          3.2027015003656014e-8,
          3.2278319370791795e-8,
          3.2530936151287054e-8,
          3.2784868632575167e-8,
          3.304012009622233e-8,
          3.3296693817778264e-8,
          3.355459306662409e-8,
          3.381382110581717e-8,
          3.407438119193307e-8,
          3.433627657490438e-8,
          3.4599510497856514e-8,
          3.486408619694034e-8,
          3.5130006901161674e-8,
          3.539727583220745e-8,
          3.566589620426864e-8,
          3.5935871223859876e-8,
          3.620720408963555e-8,
          3.647989799220258e-8,
          3.6753956113929596e-8,
          3.7029381628752556e-8,
          3.730617770197675e-8,
          3.758434749007514e-8,
          3.786389414048289e-8,
          3.8144820791388154e-8,
          3.842713057151894e-8,
          3.8710826599926125e-8,
          3.899591198576237e-8,
          3.928238982805703e-8,
          3.9570263215487e-8,
          3.985953522614325e-8,
          4.015020892729319e-8,
          4.0442287375138684e-8,
          4.07357736145697e-8,
          4.103067067891341e-8,
          4.132698158967887e-8,
          4.162470935629702e-8,
          4.1923856975856e-8,
          4.2224427432831753e-8,
          4.2526423698813774e-8,
          4.282984873222595e-8,
          4.313470547804238e-8,
          4.3440996867498226e-8,
          4.374872581779534e-8,
          4.4057895231802636e-8,
          4.436850799775127e-8,
          4.46805669889243e-8,
          4.4994075063340985e-8,
          4.5309035063435376e-8,
          4.56254498157294e-8,
          4.594332213050014e-8,
          4.626265480144123e-8,
          4.658345060531841e-8,
          4.690571230161903e-8,
          4.722944263219545e-8,
          4.7554644320902175e-8,
          4.7881320073226786e-8,
          4.820947257591438e-8,
          4.853910449658555e-8,
          4.887021848334773e-8,
          4.920281716439984e-8,
          4.9536903147630154e-8,
          4.987247902020716e-8,
          5.020954734816343e-8,
          5.054811067597244e-8,
          5.088817152611792e-8,
          5.12297323986561e-8,
          5.1572795770770235e-8,
          5.1917364096317716e-8,
          5.2263439805369336e-8,
          5.261102530374082e-8,
          5.2960122972516284e-8,
          5.331073516756374e-8,
          5.366286421904226e-8,
          5.401651243090091e-8,
          5.4371682080369136e-8,
          5.4728375417438624e-8,
          5.508659466433635e-8,
          5.544634201498881e-8,
          5.5807619634477256e-8,
          5.6170429658483725e-8,
          5.653477419272782e-8,
          5.6900655312394056e-8,
          5.7268075061549624e-8,
          5.7637035452552396e-8,
          5.8007538465449095e-8,
          5.837958604736339e-8,
          5.8753180111873803e-8,
          5.912832253838132e-8,
          5.950501517146642e-8,
          5.988325982023545e-8,
          6.026305825765623e-8,
          6.064441221988248e-8,
          6.102732340556733e-8,
          6.14117934751652e-8,
          6.179782405022235e-8,
          6.218541671265561e-8,
          6.257457300401929e-8,
          6.296529442475996e-8,
          6.335758243345902e-8,
          6.375143844606273e-8,
          6.414686383509975e-8,
          6.454385992888564e-8,
          6.494242801071443e-8,
          6.534256931803701e-8,
          6.574428504162588e-8,
          6.614757632472639e-8,
          6.655244426219401e-8,
          6.695888989961766e-8,
          6.736691423242849e-8,
          6.777651820499432e-8,
          6.81877027096993e-8,
          6.860046858600845e-8,
          6.901481661951709e-8,
          6.94307475409848e-8,
          6.984826202535363e-8,
          7.026736069075035e-8,
          7.06880440974726e-8,
          7.111031274695843e-8,
          7.153416708073923e-8,
          7.195960747937572e-8,
          7.238663426137659e-8,
          7.281524768209967e-8,
          7.324544793263539e-8,
          7.367723513867202e-8,
          7.411060935934272e-8,
          7.454557058605385e-8,
          7.498211874129431e-8,
          7.542025367742582e-8,
          7.585997517545345e-8,
          7.630128294377641e-8,
          7.674417661691872e-8,
          7.718865575423928e-8,
          7.763471983862124e-8,
          7.808236827514016e-8,
          7.85316003897107e-8,
          7.898241542771156e-8,
          7.94348125525882e-8,
          7.988879084443301e-8,
          8.034434929854264e-8,
          8.080148682395208e-8,
          8.126020224194511e-8,
          8.172049428454075e-8,
          8.218236159295529e-8,
          8.264580271603956e-8,
          8.311081610869105e-8,
          8.35774001302403e-8,
          8.404555304281151e-8,
          8.451527300965641e-8,
          8.498655809346157e-8,
          8.545940625462818e-8,
          8.593381534952413e-8,
          8.6409783128708e-8,
          8.688730723512417e-8,
          8.736638520226891e-8,
          8.78470144523268e-8,
          8.832919229427701e-8,
          8.881291592196904e-8,
          8.929818241216709e-8,
          8.978498872256303e-8,
          9.027333168975701e-8,
          9.076320802720537e-8,
          9.125461432313524e-8,
          9.174754703842533e-8,
          9.224200250445219e-8,
          9.273797692090151e-8,
          9.323546635354378e-8,
          9.373446673197365e-8,
          9.42349738473125e-8,
          9.473698334987345e-8,
          9.524049074678812e-8,
          9.574549139959478e-8,
          9.625198052178668e-8,
          9.675995317632043e-8,
          9.726940427308327e-8,
          9.778032856631869e-8,
          9.82927206520098e-8,
          9.880657496521928e-8,
          9.932188577738554e-8,
          9.983864719357416e-8,
          1.0035685314968353e-7,
          1.0087649740960433e-7,
          1.0139757356233161e-7,
          1.0192007501902875e-7,
          1.0244399501004237e-7,
          1.0296932658186722e-7,
          1.0349606259406038e-7,
          1.0402419571610321e-7,
          1.045537184242108e-7,
          1.0508462299808732e-7,
          1.056169015176265e-7,
          1.0615054585955616e-7,
          1.0668554769402554e-7,
          1.072218984811346e-7,
          1.077595894674038e-7,
          1.0829861168218338e-7,
          1.088389559340009e-7,
          1.0938061280684577e-7,
          1.0992357265638954e-7,
          1.1046782560614044e-7,
          1.1101336154353117e-7,
          1.1156017011593827e-7,
          1.121082407266317e-7,
          1.1265756253065325e-7,
          1.1320812443062229e-7,
          1.1375991507246718e-7,
          1.1431292284108081e-7,
          1.1486713585589885e-7,
          1.154225419663986e-7,
          1.1597912874751721e-7,
          1.1653688349498716e-7,
          1.1709579322058721e-7,
          1.1765584464730723e-7,
          1.1821702420442463e-7,
          1.1877931802249059e-7,
          1.1934271192822415e-7,
          1.1990719143931189e-7,
          1.204727417591111e-7,
          1.210393477712544e-7,
          1.2160699403415328e-7,
          1.221756647753985e-7,
          1.227453438860546e-7,
          1.2331601491484668e-7,
          1.2388766106223613e-7,
          1.2446026517438336e-7,
          1.2503380973699453e-7,
          1.2560827686904973e-7,
          1.261836483164096e-7,
          1.2675990544529767e-7,
          1.2733702923565555e-7,
          1.2791500027436754e-7,
          1.28493798748352e-7,
          1.2907340443751604e-7,
          1.296537967075704e-7,
          1.3023495450270094e-7,
          1.308168563380936e-7,
          1.3139948029230908e-7,
          1.3198280399950385e-7,
          1.325668046414937e-7,
          1.3315145893965591e-7,
          1.337367431466667e-7,
          1.3432263303806936e-7,
          1.3490910390366976e-7,
          1.354961305387546e-7,
          1.3608368723512853e-7,
          1.3667174777196587e-7,
          1.372602854064726e-7,
          1.3784927286435415e-7,
          1.3843868233008474e-7,
          1.3902848543697366e-7,
          1.396186532570237e-7,
          1.4020915629057758e-7,
          1.4079996445574713e-7,
          1.4139104707762087e-7,
          1.4198237287724516e-7,
          1.4257390996037387e-7,
          1.4316562580598188e-7,
          1.437574872545377e-7,
          1.4434946049602984e-7,
          1.449415110577427e-7,
          1.4553360379177636e-7,
          1.46125702862306e-7,
          1.467177717325758e-7,
          1.473097731516223e-7,
          1.4790166914072326e-7,
          1.4849342097956612e-7,
          1.4908498919213256e-7,
          1.49676333532294e-7,
          1.502674129691137e-7,
          1.5085818567185152e-7,
          1.514486089946668e-7,
          1.5203863946101557e-7,
          1.5262823274773859e-7,
          1.5321734366883616e-7,
          1.5380592615892688e-7,
          1.5439393325638718e-7,
          1.549813170861687e-7,
          1.5556802884229152e-7,
          1.5615401877001083e-7,
          1.5673923614765557e-7,
          1.5732362926813775e-7,
          1.5790714542013174e-7,
          1.5848973086892315e-7,
          1.590713308369277e-7,
          1.5965188948388067e-7,
          1.6023134988669854e-7,
          1.608096540190149e-7,
          1.613867427303934e-7,
          1.6196255572522107e-7,
          1.625370315412867e-7,
          1.631101075280491e-7,
          1.6368171982460154e-7,
          1.642518033373392e-7,
          1.6482029171733758e-7,
          1.6538711733745123e-7,
          1.659522112691425e-7,
          1.6651550325905185e-7,
          1.6707692170532242e-7,
          1.676363936336922e-7,
          1.6819384467336943e-7,
          1.6874919903270744e-7,
          1.6930237947469697e-7,
          1.698533072922959e-7,
          1.7040190228361676e-7,
          1.7094808272699542e-7,
          1.7149176535596534e-7,
          1.720328653341631e-7,
          1.7257129623019413e-7,
          1.7310696999248776e-7,
          1.736397969241743e-7,
          1.7416968565801728e-7,
          1.7469654313143792e-7,
          1.752202745616687e-7,
          1.7574078342107773e-7,
          1.7625797141270536e-7,
          1.767717384460587e-7,
          1.7728198261321096e-7,
          1.7778860016525508e-7,
          1.7829148548916412e-7,
          1.7879053108511265e-7,
          1.7928562754431603e-7,
          1.7977666352744763e-7,
          1.8026352574369546e-7,
          1.8074609893052354e-7,
          1.812242658342048e-7,
          1.8169790719119587e-7,
          1.8216690171042578e-7,
          1.8263112605657412e-7,
          1.8309045483441617e-7,
          1.8354476057431528e-7,
          1.8399391371894531e-7,
          1.844377826113288e-7,
          1.848762334842781e-7,
          1.8530913045133026e-7,
          1.8573633549926813e-7,
          1.8615770848232234e-7,
          1.8657310711815157e-7,
          1.869823869857001e-7,
          1.8738540152503393e-7,
          1.8778200203925885e-7,
          1.8817203769862468e-7,
          1.8855535554692295e-7,
          1.889318005102857e-7,
          1.8930121540849444e-7,
          1.8966344096891035e-7,
          1.900183158431366e-7,
          1.9036567662652522e-7,
          1.9070535788064132e-7,
          1.9103719215879742e-7,
          1.913610100347713e-7,
          1.9167664013482032e-7,
          1.919839091731042e-7,
          1.9228264199062906e-7,
          1.925726615978224e-7,
          1.9285378922084935e-7,
          1.9312584435177754e-7,
          1.9338864480269677e-7,
          1.9364200676389696e-7,
          1.9388574486620542e-7,
          1.9411967224758137e-7,
          1.9434360062406247e-7,
          1.9455734036515397e-7,
          1.947607005737475e-7,
          1.949534891706515e-7,
          1.9513551298381065e-7,
          1.953065778422863e-7,
          1.954664886750641e-7,
          1.9561504961474852e-7,
          1.9575206410619838e-7,
          1.95877335020149e-7,
          1.9599066477186078e-7,
          1.9609185544482458e-7,
          1.9618070891954754e-7,
          1.9625702700743285e-7,
          1.9632061158975894e-7,
          1.9637126476175365e-7,
          1.9640878898174887e-7,
          1.9643298722539126e-7,
          1.964436631448734e-7,
          1.9644062123313968e-7,
          1.9642366699300848e-7,
          1.9639260711114172e-7,
          1.9634724963678032e-7,
          1.9628740416515133e-7,
          1.9621288202544088e-7,
          1.9612349647321337e-7,
          1.9601906288714466e-7,
          1.9589939896992347e-7,
          1.957643249531622e-7,
          1.9561366380614393e-7,
          1.9544724144821986e-7,
          1.9526488696465602e-7,
          1.950664328257161e-7,
          1.9485171510875162e-7,
          1.946205737230581e-7,
          1.943728526372414e-7,
          1.9410840010882515e-7,
          1.9382706891581609e-7,
          1.9352871658993178e-7,
          1.9321320565118072e-7,
          1.9288040384347345e-7,
          1.925301843709294e-7,
          1.9216242613453335e-7,
          1.9177701396878232e-7,
          1.9137383887795346e-7,
          1.9095279827161235e-7,
          1.905137961989704e-7,
          1.9005674358169131e-7,
          1.8958155844473642e-7,
          1.8908816614483154e-7,
          1.8857649959612934e-7,
          1.880464994926347e-7,
          1.8749811452695504e-7,
          1.8693130160493119e-7,
          1.8634602605570132e-7,
          1.8574226183674628e-7,
          1.8511999173346221e-7,
          1.8447920755280552e-7,
          1.838199103105543e-7,
          1.8314211041173106e-7,
          1.824458278237334e-7,
          1.8173109224172257e-7,
          1.8099794324582272e-7,
          1.802464304496901e-7,
          1.794766136400169e-7,
          1.786885629065421e-7,
          1.778823587621509e-7,
          1.770580922526529e-7,
          1.762158650558423e-7,
          1.7535578956945348e-7,
          1.7447798898764054e-7,
          1.7358259736562288e-7,
          1.7266975967215574e-7,
          1.7173963182950067e-7,
          1.7079238074058985e-7,
          1.698281843030968e-7,
          1.6884723141014722e-7,
          1.678497219374238e-7,
          1.6683586671644304e-7,
          1.6580588749380362e-7,
          1.6476001687623193e-7,
          1.6369849826127435e-7,
          1.626215857535127e-7,
          1.615295440662059e-7,
          1.604226484082884e-7,
          1.5930118435668437e-7,
          1.5816544771392526e-7,
          1.5701574435108823e-7,
          1.55852390036102e-7,
          1.546757102474979e-7,
          1.5348603997371343e-7,
          1.5228372349808742e-7,
          1.5106911416971581e-7,
          1.4984257416036916e-7,
          1.486044742077031e-7,
          1.473551933450242e-7,
          1.460951186179048e-7,
          1.448246447879699e-7,
          1.4354417402421043e-7,
          1.4225411558220573e-7,
          1.4095488547166856e-7,
          1.3964690611275264e-7,
          1.383306059815925e-7,
          1.3700641924557085e-7,
          1.3567478538883597e-7,
          1.343361488286156e-7,
          1.3299095852289947e-7,
          1.3163966757008408e-7,
          1.3028273280119638e-7,
          1.2892061436533285e-7,
          1.275537753089701e-7,
          1.2618268114982088e-7,
          1.248077994459254e-7,
          1.234295993606835e-7,
          1.2204855122454562e-7,
          1.2066512609409272e-7,
          1.1927979530924505e-7,
          1.1789303004934793e-7,
          1.1650530088888932e-7,
          1.1511707735360841e-7,
          1.1372882747775747e-7,
          1.1234101736328032e-7,
          1.1095411074166993e-7,
          1.0956856853926459e-7,
          1.0818484844673834e-7,
          1.0680340449353398e-7,
          1.0542468662797938e-7,
          1.0404914030381731e-7,
          1.026772060738671e-7,
          1.0130931919152253e-7,
          9.994590922077494e-8,
          9.858739965543297e-8,
          9.723420754819132e-8,
          9.588674315018028e-8,
          9.454540956160511e-8,
          9.321060239406086e-8,
          9.188270944508223e-8,
          9.056211038546158e-8,
          8.924917645983967e-8,
          8.794427020104439e-8,
          8.664774515862162e-8,
          8.535994564197056e-8,
          8.408120647846315e-8,
          8.281185278689264e-8,
          8.155219976656214e-8,
          8.030255250228801e-8,
          7.906320578555669e-8,
          7.78344439520368e-8,
          7.661654073561115e-8,
          7.540975913905491e-8,
          7.421435132144921e-8,
          7.303055850238037e-8,
          7.18586108829374e-8,
          7.069872758348179e-8,
          6.955111659812609e-8,
          6.841597476581982e-8,
          6.729348775790376e-8,
          6.618383008195742e-8,
          6.508716510172765e-8,
          6.4003645072891e-8,
          6.293341119436821e-8,
          6.187659367487439e-8,
          6.08333118143566e-8,
          5.980367409993837e-8,
          5.878777831595994e-8,
          5.778571166767441e-8,
          5.679755091813139e-8,
          5.5823362537753775e-8,
          5.486320286608813e-8,
          5.391711828518598e-8,
          5.2985145404051456e-8,
          5.206731125357106e-8,
          5.116363349132299e-8,
          5.0274120615647246e-8,
          4.9398772188343366e-8,
          4.853757906535002e-8,
          4.7690523634750394e-8,
          4.6857580061438635e-8,
          4.603871453777605e-8,
          4.5233885539561635e-8,
          4.4443044086638636e-8,
          4.366613400745894e-8,
          4.290309220692834e-8,
          4.215384893685994e-8,
          4.1418328068368125e-8,
          4.0696447365543914e-8,
          3.998811875976163e-8,
          3.9293248623978904e-8,
          3.8611738046405274e-8,
          3.7943483102930216e-8,
          3.72883751277184e-8,
          3.664630098139891e-8,
          3.60171433162956e-8,
          3.540078083816797e-8,
          3.479708856395506e-8,
          3.42059380750403e-8,
          3.362719776558099e-8,
          3.306073308547368e-8,
          3.2506406777555166e-8,
          3.196407910866805e-8,
          3.143360809425034e-8,
          3.091484971613925e-8,
          3.0407658133311174e-8,
          2.9911885885311554e-8,
          2.94273840881611e-8,
          2.8954002622556917e-8,
          2.8491590314220103e-8,
          2.8039995106273667e-8,
          2.7599064223566947e-8,
          2.7168644328894743e-8,
          2.6748581671090687e-8,
          2.633872222500524e-8,
          2.59389118234087e-8,
          2.5548996280888693e-8,
          2.516882150983974e-8,
          2.47982336286693e-8,
          2.4437079062370422e-8,
          2.4085204635635317e-8,
          2.374245765870689e-8,
          2.340868600618642e-8,
          2.3083738189035085e-8,
          2.2767463420024603e-8,
          2.2459711672908293e-8,
          2.2160333735597718e-8,
          2.186918125764219e-8,
          2.1586106792318506e-8,
          2.1310963833646392e-8,
          2.1043606848651306e-8,
          2.078389130520037e-8,
          2.0531673695739433e-8,
          2.0286811557259556e-8,
          2.004916348781967e-8,
          1.9818589159948734e-8,
          1.959494933124567e-8,
          1.9378105852488647e-8,
          1.9167921673557004e-8,
          1.896426084745943e-8,
          1.8766988532751164e-8,
          1.8575970994610797e-8,
          1.839107560483416e-8,
          1.82121708409889e-8,
          1.8039126284958593e-8,
          1.787181262109006e-8,
          1.7710101634141936e-8,
          1.7553866207216724e-8,
          1.74029803198426e-8,
          1.7257319046355423e-8,
          1.7116758554715732e-8,
          1.6981176105880235e-8,
          1.6850450053832497e-8,
          1.6724459846363244e-8,
          1.6603086026677214e-8,
          1.6486210235890695e-8,
          1.637371521647195e-8,
          1.6265484816665664e-8,
          1.61614039959326e-8,
          1.6061358831426295e-8,
          1.59652365255207e-8,
          1.587292541439528e-8
         ]
        },
        {
         "name": "Task 3 F(z) integral",
         "type": "scatter",
         "x": {
          "bdata": "AAAAAAAAAAAcx3Ecx3G8PxzHcRzHccw/VVVVVVVV1T8cx3Ecx3HcP3Icx3Ecx+E/VVVVVVVV5T84juM4juPoPxzHcRzHcew/AAAAAAAA8D8=",
          "dtype": "f8"
         },
         "y": [
          0,
          2.2250788168993412e-9,
          7.529605369645517e-9,
          2.3184347353953948e-8,
          5.229951046873803e-8,
          9.891871148478209e-8,
          1.5749829335421033e-7,
          1.7677118813105843e-7,
          1.0180348412247383e-7,
          2.729551411451593e-8
         ]
        },
        {
         "name": "Task 3 F(z) approximation",
         "type": "scatter",
         "x": {
          "bdata": "AAAAAAAAAAAcx3Ecx3G8PxzHcRzHccw/VVVVVVVV1T8cx3Ecx3HcP3Icx3Ecx+E/VVVVVVVV5T84juM4juPoPxzHcRzHcew/AAAAAAAA8D8=",
          "dtype": "f8"
         },
         "y": [
          0,
          1.4793231765116926e-9,
          7.777680417547347e-9,
          2.3001404991495172e-8,
          5.120639921525441e-8,
          9.458688312456112e-8,
          1.4714796672991836e-7,
          1.7692406676539817e-7,
          1.6145333475946237e-7,
          1.965673708071653e-7
         ]
        }
       ],
       "layout": {
        "legend": {
         "tracegroupgap": 0
        },
        "margin": {
         "t": 60
        },
        "template": {
         "data": {
          "bar": [
           {
            "error_x": {
             "color": "#2a3f5f"
            },
            "error_y": {
             "color": "#2a3f5f"
            },
            "marker": {
             "line": {
              "color": "#E5ECF6",
              "width": 0.5
             },
             "pattern": {
              "fillmode": "overlay",
              "size": 10,
              "solidity": 0.2
             }
            },
            "type": "bar"
           }
          ],
          "barpolar": [
           {
            "marker": {
             "line": {
              "color": "#E5ECF6",
              "width": 0.5
             },
             "pattern": {
              "fillmode": "overlay",
              "size": 10,
              "solidity": 0.2
             }
            },
            "type": "barpolar"
           }
          ],
          "carpet": [
           {
            "aaxis": {
             "endlinecolor": "#2a3f5f",
             "gridcolor": "white",
             "linecolor": "white",
             "minorgridcolor": "white",
             "startlinecolor": "#2a3f5f"
            },
            "baxis": {
             "endlinecolor": "#2a3f5f",
             "gridcolor": "white",
             "linecolor": "white",
             "minorgridcolor": "white",
             "startlinecolor": "#2a3f5f"
            },
            "type": "carpet"
           }
          ],
          "choropleth": [
           {
            "colorbar": {
             "outlinewidth": 0,
             "ticks": ""
            },
            "type": "choropleth"
           }
          ],
          "contour": [
           {
            "colorbar": {
             "outlinewidth": 0,
             "ticks": ""
            },
            "colorscale": [
             [
              0,
              "#0d0887"
             ],
             [
              0.1111111111111111,
              "#46039f"
             ],
             [
              0.2222222222222222,
              "#7201a8"
             ],
             [
              0.3333333333333333,
              "#9c179e"
             ],
             [
              0.4444444444444444,
              "#bd3786"
             ],
             [
              0.5555555555555556,
              "#d8576b"
             ],
             [
              0.6666666666666666,
              "#ed7953"
             ],
             [
              0.7777777777777778,
              "#fb9f3a"
             ],
             [
              0.8888888888888888,
              "#fdca26"
             ],
             [
              1,
              "#f0f921"
             ]
            ],
            "type": "contour"
           }
          ],
          "contourcarpet": [
           {
            "colorbar": {
             "outlinewidth": 0,
             "ticks": ""
            },
            "type": "contourcarpet"
           }
          ],
          "heatmap": [
           {
            "colorbar": {
             "outlinewidth": 0,
             "ticks": ""
            },
            "colorscale": [
             [
              0,
              "#0d0887"
             ],
             [
              0.1111111111111111,
              "#46039f"
             ],
             [
              0.2222222222222222,
              "#7201a8"
             ],
             [
              0.3333333333333333,
              "#9c179e"
             ],
             [
              0.4444444444444444,
              "#bd3786"
             ],
             [
              0.5555555555555556,
              "#d8576b"
             ],
             [
              0.6666666666666666,
              "#ed7953"
             ],
             [
              0.7777777777777778,
              "#fb9f3a"
             ],
             [
              0.8888888888888888,
              "#fdca26"
             ],
             [
              1,
              "#f0f921"
             ]
            ],
            "type": "heatmap"
           }
          ],
          "histogram": [
           {
            "marker": {
             "pattern": {
              "fillmode": "overlay",
              "size": 10,
              "solidity": 0.2
             }
            },
            "type": "histogram"
           }
          ],
          "histogram2d": [
           {
            "colorbar": {
             "outlinewidth": 0,
             "ticks": ""
            },
            "colorscale": [
             [
              0,
              "#0d0887"
             ],
             [
              0.1111111111111111,
              "#46039f"
             ],
             [
              0.2222222222222222,
              "#7201a8"
             ],
             [
              0.3333333333333333,
              "#9c179e"
             ],
             [
              0.4444444444444444,
              "#bd3786"
             ],
             [
              0.5555555555555556,
              "#d8576b"
             ],
             [
              0.6666666666666666,
              "#ed7953"
             ],
             [
              0.7777777777777778,
              "#fb9f3a"
             ],
             [
              0.8888888888888888,
              "#fdca26"
             ],
             [
              1,
              "#f0f921"
             ]
            ],
            "type": "histogram2d"
           }
          ],
          "histogram2dcontour": [
           {
            "colorbar": {
             "outlinewidth": 0,
             "ticks": ""
            },
            "colorscale": [
             [
              0,
              "#0d0887"
             ],
             [
              0.1111111111111111,
              "#46039f"
             ],
             [
              0.2222222222222222,
              "#7201a8"
             ],
             [
              0.3333333333333333,
              "#9c179e"
             ],
             [
              0.4444444444444444,
              "#bd3786"
             ],
             [
              0.5555555555555556,
              "#d8576b"
             ],
             [
              0.6666666666666666,
              "#ed7953"
             ],
             [
              0.7777777777777778,
              "#fb9f3a"
             ],
             [
              0.8888888888888888,
              "#fdca26"
             ],
             [
              1,
              "#f0f921"
             ]
            ],
            "type": "histogram2dcontour"
           }
          ],
          "mesh3d": [
           {
            "colorbar": {
             "outlinewidth": 0,
             "ticks": ""
            },
            "type": "mesh3d"
           }
          ],
          "parcoords": [
           {
            "line": {
             "colorbar": {
              "outlinewidth": 0,
              "ticks": ""
             }
            },
            "type": "parcoords"
           }
          ],
          "pie": [
           {
            "automargin": true,
            "type": "pie"
           }
          ],
          "scatter": [
           {
            "fillpattern": {
             "fillmode": "overlay",
             "size": 10,
             "solidity": 0.2
            },
            "type": "scatter"
           }
          ],
          "scatter3d": [
           {
            "line": {
             "colorbar": {
              "outlinewidth": 0,
              "ticks": ""
             }
            },
            "marker": {
             "colorbar": {
              "outlinewidth": 0,
              "ticks": ""
             }
            },
            "type": "scatter3d"
           }
          ],
          "scattercarpet": [
           {
            "marker": {
             "colorbar": {
              "outlinewidth": 0,
              "ticks": ""
             }
            },
            "type": "scattercarpet"
           }
          ],
          "scattergeo": [
           {
            "marker": {
             "colorbar": {
              "outlinewidth": 0,
              "ticks": ""
             }
            },
            "type": "scattergeo"
           }
          ],
          "scattergl": [
           {
            "marker": {
             "colorbar": {
              "outlinewidth": 0,
              "ticks": ""
             }
            },
            "type": "scattergl"
           }
          ],
          "scattermap": [
           {
            "marker": {
             "colorbar": {
              "outlinewidth": 0,
              "ticks": ""
             }
            },
            "type": "scattermap"
           }
          ],
          "scattermapbox": [
           {
            "marker": {
             "colorbar": {
              "outlinewidth": 0,
              "ticks": ""
             }
            },
            "type": "scattermapbox"
           }
          ],
          "scatterpolar": [
           {
            "marker": {
             "colorbar": {
              "outlinewidth": 0,
              "ticks": ""
             }
            },
            "type": "scatterpolar"
           }
          ],
          "scatterpolargl": [
           {
            "marker": {
             "colorbar": {
              "outlinewidth": 0,
              "ticks": ""
             }
            },
            "type": "scatterpolargl"
           }
          ],
          "scatterternary": [
           {
            "marker": {
             "colorbar": {
              "outlinewidth": 0,
              "ticks": ""
             }
            },
            "type": "scatterternary"
           }
          ],
          "surface": [
           {
            "colorbar": {
             "outlinewidth": 0,
             "ticks": ""
            },
            "colorscale": [
             [
              0,
              "#0d0887"
             ],
             [
              0.1111111111111111,
              "#46039f"
             ],
             [
              0.2222222222222222,
              "#7201a8"
             ],
             [
              0.3333333333333333,
              "#9c179e"
             ],
             [
              0.4444444444444444,
              "#bd3786"
             ],
             [
              0.5555555555555556,
              "#d8576b"
             ],
             [
              0.6666666666666666,
              "#ed7953"
             ],
             [
              0.7777777777777778,
              "#fb9f3a"
             ],
             [
              0.8888888888888888,
              "#fdca26"
             ],
             [
              1,
              "#f0f921"
             ]
            ],
            "type": "surface"
           }
          ],
          "table": [
           {
            "cells": {
             "fill": {
              "color": "#EBF0F8"
             },
             "line": {
              "color": "white"
             }
            },
            "header": {
             "fill": {
              "color": "#C8D4E3"
             },
             "line": {
              "color": "white"
             }
            },
            "type": "table"
           }
          ]
         },
         "layout": {
          "annotationdefaults": {
           "arrowcolor": "#2a3f5f",
           "arrowhead": 0,
           "arrowwidth": 1
          },
          "autotypenumbers": "strict",
          "coloraxis": {
           "colorbar": {
            "outlinewidth": 0,
            "ticks": ""
           }
          },
          "colorscale": {
           "diverging": [
            [
             0,
             "#8e0152"
            ],
            [
             0.1,
             "#c51b7d"
            ],
            [
             0.2,
             "#de77ae"
            ],
            [
             0.3,
             "#f1b6da"
            ],
            [
             0.4,
             "#fde0ef"
            ],
            [
             0.5,
             "#f7f7f7"
            ],
            [
             0.6,
             "#e6f5d0"
            ],
            [
             0.7,
             "#b8e186"
            ],
            [
             0.8,
             "#7fbc41"
            ],
            [
             0.9,
             "#4d9221"
            ],
            [
             1,
             "#276419"
            ]
           ],
           "sequential": [
            [
             0,
             "#0d0887"
            ],
            [
             0.1111111111111111,
             "#46039f"
            ],
            [
             0.2222222222222222,
             "#7201a8"
            ],
            [
             0.3333333333333333,
             "#9c179e"
            ],
            [
             0.4444444444444444,
             "#bd3786"
            ],
            [
             0.5555555555555556,
             "#d8576b"
            ],
            [
             0.6666666666666666,
             "#ed7953"
            ],
            [
             0.7777777777777778,
             "#fb9f3a"
            ],
            [
             0.8888888888888888,
             "#fdca26"
            ],
            [
             1,
             "#f0f921"
            ]
           ],
           "sequentialminus": [
            [
             0,
             "#0d0887"
            ],
            [
             0.1111111111111111,
             "#46039f"
            ],
            [
             0.2222222222222222,
             "#7201a8"
            ],
            [
             0.3333333333333333,
             "#9c179e"
            ],
            [
             0.4444444444444444,
             "#bd3786"
            ],
            [
             0.5555555555555556,
             "#d8576b"
            ],
            [
             0.6666666666666666,
             "#ed7953"
            ],
            [
             0.7777777777777778,
             "#fb9f3a"
            ],
            [
             0.8888888888888888,
             "#fdca26"
            ],
            [
             1,
             "#f0f921"
            ]
           ]
          },
          "colorway": [
           "#636efa",
           "#EF553B",
           "#00cc96",
           "#ab63fa",
           "#FFA15A",
           "#19d3f3",
           "#FF6692",
           "#B6E880",
           "#FF97FF",
           "#FECB52"
          ],
          "font": {
           "color": "#2a3f5f"
          },
          "geo": {
           "bgcolor": "white",
           "lakecolor": "white",
           "landcolor": "#E5ECF6",
           "showlakes": true,
           "showland": true,
           "subunitcolor": "white"
          },
          "hoverlabel": {
           "align": "left"
          },
          "hovermode": "closest",
          "mapbox": {
           "style": "light"
          },
          "paper_bgcolor": "white",
          "plot_bgcolor": "#E5ECF6",
          "polar": {
           "angularaxis": {
            "gridcolor": "white",
            "linecolor": "white",
            "ticks": ""
           },
           "bgcolor": "#E5ECF6",
           "radialaxis": {
            "gridcolor": "white",
            "linecolor": "white",
            "ticks": ""
           }
          },
          "scene": {
           "xaxis": {
            "backgroundcolor": "#E5ECF6",
            "gridcolor": "white",
            "gridwidth": 2,
            "linecolor": "white",
            "showbackground": true,
            "ticks": "",
            "zerolinecolor": "white"
           },
           "yaxis": {
            "backgroundcolor": "#E5ECF6",
            "gridcolor": "white",
            "gridwidth": 2,
            "linecolor": "white",
            "showbackground": true,
            "ticks": "",
            "zerolinecolor": "white"
           },
           "zaxis": {
            "backgroundcolor": "#E5ECF6",
            "gridcolor": "white",
            "gridwidth": 2,
            "linecolor": "white",
            "showbackground": true,
            "ticks": "",
            "zerolinecolor": "white"
           }
          },
          "shapedefaults": {
           "line": {
            "color": "#2a3f5f"
           }
          },
          "ternary": {
           "aaxis": {
            "gridcolor": "white",
            "linecolor": "white",
            "ticks": ""
           },
           "baxis": {
            "gridcolor": "white",
            "linecolor": "white",
            "ticks": ""
           },
           "bgcolor": "#E5ECF6",
           "caxis": {
            "gridcolor": "white",
            "linecolor": "white",
            "ticks": ""
           }
          },
          "title": {
           "x": 0.05
          },
          "xaxis": {
           "automargin": true,
           "gridcolor": "white",
           "linecolor": "white",
           "ticks": "",
           "title": {
            "standoff": 15
           },
           "zerolinecolor": "white",
           "zerolinewidth": 2
          },
          "yaxis": {
           "automargin": true,
           "gridcolor": "white",
           "linecolor": "white",
           "ticks": "",
           "title": {
            "standoff": 15
           },
           "zerolinecolor": "white",
           "zerolinewidth": 2
          }
         }
        },
        "xaxis": {
         "anchor": "y",
         "domain": [
          0,
          1
         ]
        },
        "yaxis": {
         "anchor": "x",
         "domain": [
          0,
          1
         ]
        }
       }
      }
     },
     "metadata": {},
     "output_type": "display_data"
    }
   ],
   "source": [
    "xrange2 = np.linspace(Start, End, Task2Steps)\n",
    "xrange3 = np.linspace(Start, End, Task3Steps)\n",
    "\n",
    "MinFDif = abs(FintTask3[0] - FTask2[0])\n",
    "MaxFDif = abs(FintTask3[0] - FTask2[0])\n",
    "SumFDif = abs(FintTask3[0] - FTask2[0]) \n",
    "\n",
    "for i in range(1, len(xrange3)):\n",
    "    MinFDif = min(MinFDif, abs(FintTask3[i] - FTask2[i]) / abs(FTask2[i]))\n",
    "    MaxFDif = max(MaxFDif, abs(FintTask3[i] - FTask2[i]) / abs(FTask2[i]))\n",
    "    SumFDif = SumFDif + abs(FintTask3[i] - FTask2[i]) / abs(FTask2[i])\n",
    "\n",
    "print(\"MinFDif: \", MinFDif)\n",
    "print(\"MaxFDif: \", MaxFDif)\n",
    "print(\"AvgFDif: \", SumFDif / len(xrange3))\n",
    "\n",
    "MinUDif = abs(SolutionTask3[0] - SolutionTask2[0]) / abs(SolutionTask2[0])\n",
    "MaxUDif = abs(SolutionTask3[0] - SolutionTask2[0]) / abs(SolutionTask2[0])\n",
    "SumUDif = abs(SolutionTask3[0] - SolutionTask2[0]) / abs(SolutionTask2[0])\n",
    "\n",
    "for i in range(1, len(xrange3)):\n",
    "    MinUDif = min(MinUDif, abs(SolutionTask3[i] - SolutionTask2[i]) / abs(SolutionTask2[i]))\n",
    "    MaxUDif = max(MaxUDif, abs(SolutionTask3[i] - SolutionTask2[i]) / abs(SolutionTask2[i]))\n",
    "    SumUDif = SumUDif + abs(SolutionTask3[i] - SolutionTask2[i]) / abs(SolutionTask2[i])\n",
    "\n",
    "print(\"MinUDif: \", MinUDif)\n",
    "print(\"MaxUDif: \", MaxUDif)\n",
    "print(\"AvgUDif: \", SumUDif / len(xrange3))\n",
    "\n",
    "\n",
    "\n",
    "\n",
    "fig = px.line()\n",
    "fig.add_scatter(x=xrange3, y=Plank(xrange3), name=\"u_p(z)\")\n",
    "fig.add_scatter(x=xrange2, y=SolutionTask2, name=\"Task 2 u(z)\")\n",
    "fig.add_scatter(x=xrange3, y=SolutionTask3, name=\"Task 3 u(z)\")\n",
    "fig.show()\n",
    "\n",
    "fig = px.line()\n",
    "fig.add_scatter(x=xrange2, y=FTask2, name=\"Task 2 F(z)\")\n",
    "fig.add_scatter(x=xrange3, y=FintTask3, name=\"Task 3 F(z) integral\")\n",
    "fig.add_scatter(x=xrange3, y=FapproxTask3, name=\"Task 3 F(z) approximation\")\n",
    "fig.show()"
   ]
  }
 ],
 "metadata": {
  "kernelspec": {
   "display_name": "Python 3",
   "language": "python",
   "name": "python3"
  },
  "language_info": {
   "codemirror_mode": {
    "name": "ipython",
    "version": 3
   },
   "file_extension": ".py",
   "mimetype": "text/x-python",
   "name": "python",
   "nbconvert_exporter": "python",
   "pygments_lexer": "ipython3",
   "version": "3.13.3"
  }
 },
 "nbformat": 4,
 "nbformat_minor": 2
}
